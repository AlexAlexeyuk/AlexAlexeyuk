{
  "nbformat": 4,
  "nbformat_minor": 0,
  "metadata": {
    "colab": {
      "name": "SMS_SPAM_HW6_Alexeyuk.ipynb",
      "provenance": [],
      "collapsed_sections": [],
      "authorship_tag": "ABX9TyPwoPBODb++bX3VtrWnZ/hG",
      "include_colab_link": true
    },
    "kernelspec": {
      "name": "python3",
      "display_name": "Python 3"
    }
  },
  "cells": [
    {
      "cell_type": "markdown",
      "metadata": {
        "id": "view-in-github",
        "colab_type": "text"
      },
      "source": [
        "<a href=\"https://colab.research.google.com/github/AlexAlexeyuk/AlexAlexeyuk/blob/master/SMS_SPAM_HW6_Alexeyuk.ipynb\" target=\"_parent\"><img src=\"https://colab.research.google.com/assets/colab-badge.svg\" alt=\"Open In Colab\"/></a>"
      ]
    },
    {
      "cell_type": "code",
      "metadata": {
        "id": "9NNaXK-fEt79"
      },
      "source": [
        "import numpy as np\n",
        "import pandas as pd\n",
        "import re\n",
        "import nltk\n",
        "import spacy\n",
        "import string\n",
        "pd.options.mode.chained_assignment = None\n",
        "\n",
        "full_df = pd.read_csv(\"/content/spam.csv\", encoding='latin-1')\n",
        "df = full_df.iloc[:,:2]\n",
        "df = df.rename(columns={\"v1\":\"target\", \"v2\":\"text\"})"
      ],
      "execution_count": 1,
      "outputs": []
    },
    {
      "cell_type": "code",
      "metadata": {
        "id": "gkOV6tMjFjin",
        "outputId": "0493b14d-4e10-442c-b989-5821f1b3ceb4",
        "colab": {
          "base_uri": "https://localhost:8080/",
          "height": 204
        }
      },
      "source": [
        "df[\"text\"] = df[\"text\"].str.lower()\n",
        "df.head()"
      ],
      "execution_count": 2,
      "outputs": [
        {
          "output_type": "execute_result",
          "data": {
            "text/html": [
              "<div>\n",
              "<style scoped>\n",
              "    .dataframe tbody tr th:only-of-type {\n",
              "        vertical-align: middle;\n",
              "    }\n",
              "\n",
              "    .dataframe tbody tr th {\n",
              "        vertical-align: top;\n",
              "    }\n",
              "\n",
              "    .dataframe thead th {\n",
              "        text-align: right;\n",
              "    }\n",
              "</style>\n",
              "<table border=\"1\" class=\"dataframe\">\n",
              "  <thead>\n",
              "    <tr style=\"text-align: right;\">\n",
              "      <th></th>\n",
              "      <th>target</th>\n",
              "      <th>text</th>\n",
              "    </tr>\n",
              "  </thead>\n",
              "  <tbody>\n",
              "    <tr>\n",
              "      <th>0</th>\n",
              "      <td>ham</td>\n",
              "      <td>go until jurong point, crazy.. available only ...</td>\n",
              "    </tr>\n",
              "    <tr>\n",
              "      <th>1</th>\n",
              "      <td>ham</td>\n",
              "      <td>ok lar... joking wif u oni...</td>\n",
              "    </tr>\n",
              "    <tr>\n",
              "      <th>2</th>\n",
              "      <td>spam</td>\n",
              "      <td>free entry in 2 a wkly comp to win fa cup fina...</td>\n",
              "    </tr>\n",
              "    <tr>\n",
              "      <th>3</th>\n",
              "      <td>ham</td>\n",
              "      <td>u dun say so early hor... u c already then say...</td>\n",
              "    </tr>\n",
              "    <tr>\n",
              "      <th>4</th>\n",
              "      <td>ham</td>\n",
              "      <td>nah i don't think he goes to usf, he lives aro...</td>\n",
              "    </tr>\n",
              "  </tbody>\n",
              "</table>\n",
              "</div>"
            ],
            "text/plain": [
              "  target                                               text\n",
              "0    ham  go until jurong point, crazy.. available only ...\n",
              "1    ham                      ok lar... joking wif u oni...\n",
              "2   spam  free entry in 2 a wkly comp to win fa cup fina...\n",
              "3    ham  u dun say so early hor... u c already then say...\n",
              "4    ham  nah i don't think he goes to usf, he lives aro..."
            ]
          },
          "metadata": {
            "tags": []
          },
          "execution_count": 2
        }
      ]
    },
    {
      "cell_type": "code",
      "metadata": {
        "id": "mbIejKMlFudu",
        "outputId": "d33e9833-fe87-41f5-f84c-57df1686a14f",
        "colab": {
          "base_uri": "https://localhost:8080/",
          "height": 204
        }
      },
      "source": [
        "PUNCT_TO_REMOVE = string.punctuation\n",
        "def remove_punctuation(text):\n",
        "    \"\"\"custom function to remove the punctuation\"\"\"\n",
        "    return text.translate(str.maketrans('', '', PUNCT_TO_REMOVE))\n",
        "\n",
        "df[\"text_wo_punct\"] = df[\"text\"].apply(lambda text: remove_punctuation(text))\n",
        "df.head()"
      ],
      "execution_count": 3,
      "outputs": [
        {
          "output_type": "execute_result",
          "data": {
            "text/html": [
              "<div>\n",
              "<style scoped>\n",
              "    .dataframe tbody tr th:only-of-type {\n",
              "        vertical-align: middle;\n",
              "    }\n",
              "\n",
              "    .dataframe tbody tr th {\n",
              "        vertical-align: top;\n",
              "    }\n",
              "\n",
              "    .dataframe thead th {\n",
              "        text-align: right;\n",
              "    }\n",
              "</style>\n",
              "<table border=\"1\" class=\"dataframe\">\n",
              "  <thead>\n",
              "    <tr style=\"text-align: right;\">\n",
              "      <th></th>\n",
              "      <th>target</th>\n",
              "      <th>text</th>\n",
              "      <th>text_wo_punct</th>\n",
              "    </tr>\n",
              "  </thead>\n",
              "  <tbody>\n",
              "    <tr>\n",
              "      <th>0</th>\n",
              "      <td>ham</td>\n",
              "      <td>go until jurong point, crazy.. available only ...</td>\n",
              "      <td>go until jurong point crazy available only in ...</td>\n",
              "    </tr>\n",
              "    <tr>\n",
              "      <th>1</th>\n",
              "      <td>ham</td>\n",
              "      <td>ok lar... joking wif u oni...</td>\n",
              "      <td>ok lar joking wif u oni</td>\n",
              "    </tr>\n",
              "    <tr>\n",
              "      <th>2</th>\n",
              "      <td>spam</td>\n",
              "      <td>free entry in 2 a wkly comp to win fa cup fina...</td>\n",
              "      <td>free entry in 2 a wkly comp to win fa cup fina...</td>\n",
              "    </tr>\n",
              "    <tr>\n",
              "      <th>3</th>\n",
              "      <td>ham</td>\n",
              "      <td>u dun say so early hor... u c already then say...</td>\n",
              "      <td>u dun say so early hor u c already then say</td>\n",
              "    </tr>\n",
              "    <tr>\n",
              "      <th>4</th>\n",
              "      <td>ham</td>\n",
              "      <td>nah i don't think he goes to usf, he lives aro...</td>\n",
              "      <td>nah i dont think he goes to usf he lives aroun...</td>\n",
              "    </tr>\n",
              "  </tbody>\n",
              "</table>\n",
              "</div>"
            ],
            "text/plain": [
              "  target  ...                                      text_wo_punct\n",
              "0    ham  ...  go until jurong point crazy available only in ...\n",
              "1    ham  ...                            ok lar joking wif u oni\n",
              "2   spam  ...  free entry in 2 a wkly comp to win fa cup fina...\n",
              "3    ham  ...        u dun say so early hor u c already then say\n",
              "4    ham  ...  nah i dont think he goes to usf he lives aroun...\n",
              "\n",
              "[5 rows x 3 columns]"
            ]
          },
          "metadata": {
            "tags": []
          },
          "execution_count": 3
        }
      ]
    },
    {
      "cell_type": "code",
      "metadata": {
        "id": "Io9N_Da8F29p"
      },
      "source": [
        "stopwords = \"i, me, my, myself, we, our, ours, ourselves, you, you're, you've, \\\n",
        "you'll, you'd, your, yours, yourself, yourselves, he, him, his, himself, she, \\\n",
        "she's, her, hers, herself, it, it's, its, itself, they, them, their, theirs, \\\n",
        "themselves, what, which, who, whom, this, that, that'll, these, those, am, is,\\\n",
        " are, was, were, be, been, being, have, has, had, having, do, does, did, doing,\\\n",
        "  a, an, the, and, but, if, or, because, as, until, while, of, at, by, for,\\\n",
        "   with, about, against, between, into, through, during, before, after, above,\\\n",
        "    below, to, from, up, down, in, out, on, off, over, under, again, further, \\\n",
        "    then, once, here, there, when, where, why, how, all, any, both, each, few,\\\n",
        "     more, most, other, some, such, no, nor, not, only, own, same, so, than, \\\n",
        "     too, very, s, t, can, will, just, don, don't, should, should've, now, d, \\\n",
        "     ll, m, o, re, ve, y, ain, aren, aren't, couldn, couldn't, didn, didn't, \\\n",
        "     doesn, doesn't, hadn, hadn't, hasn, hasn't, haven, haven't, isn, isn't, \\\n",
        "     ma, mightn, mightn't, mustn, mustn't, needn, needn't, shan, shan't,\\\n",
        "      shouldn, shouldn't, wasn, wasn't, weren, weren't, won, won't, wouldn,\\\n",
        "       wouldn't\"\n"
      ],
      "execution_count": 4,
      "outputs": []
    },
    {
      "cell_type": "code",
      "metadata": {
        "id": "skxi1NhyGD8F",
        "outputId": "1ad58561-0a58-4dcf-b633-637fae2f22ab",
        "colab": {
          "base_uri": "https://localhost:8080/",
          "height": 272
        }
      },
      "source": [
        "def remove_stopwords(text):\n",
        "    \"\"\"custom function to remove the stopwords\"\"\"\n",
        "    return \" \".join([word for word in str(text).split() if word not in \\\n",
        "                     stopwords])\n",
        "\n",
        "df[\"text_wo_stop\"] = df[\"text_wo_punct\"].apply(lambda text:\\\n",
        "                                               remove_stopwords(text))\n",
        "df.head()"
      ],
      "execution_count": 5,
      "outputs": [
        {
          "output_type": "execute_result",
          "data": {
            "text/html": [
              "<div>\n",
              "<style scoped>\n",
              "    .dataframe tbody tr th:only-of-type {\n",
              "        vertical-align: middle;\n",
              "    }\n",
              "\n",
              "    .dataframe tbody tr th {\n",
              "        vertical-align: top;\n",
              "    }\n",
              "\n",
              "    .dataframe thead th {\n",
              "        text-align: right;\n",
              "    }\n",
              "</style>\n",
              "<table border=\"1\" class=\"dataframe\">\n",
              "  <thead>\n",
              "    <tr style=\"text-align: right;\">\n",
              "      <th></th>\n",
              "      <th>target</th>\n",
              "      <th>text</th>\n",
              "      <th>text_wo_punct</th>\n",
              "      <th>text_wo_stop</th>\n",
              "    </tr>\n",
              "  </thead>\n",
              "  <tbody>\n",
              "    <tr>\n",
              "      <th>0</th>\n",
              "      <td>ham</td>\n",
              "      <td>go until jurong point, crazy.. available only ...</td>\n",
              "      <td>go until jurong point crazy available only in ...</td>\n",
              "      <td>go jurong point crazy available bugis great wo...</td>\n",
              "    </tr>\n",
              "    <tr>\n",
              "      <th>1</th>\n",
              "      <td>ham</td>\n",
              "      <td>ok lar... joking wif u oni...</td>\n",
              "      <td>ok lar joking wif u oni</td>\n",
              "      <td>ok lar joking wif oni</td>\n",
              "    </tr>\n",
              "    <tr>\n",
              "      <th>2</th>\n",
              "      <td>spam</td>\n",
              "      <td>free entry in 2 a wkly comp to win fa cup fina...</td>\n",
              "      <td>free entry in 2 a wkly comp to win fa cup fina...</td>\n",
              "      <td>free entry 2 wkly comp win fa cup final tkts 2...</td>\n",
              "    </tr>\n",
              "    <tr>\n",
              "      <th>3</th>\n",
              "      <td>ham</td>\n",
              "      <td>u dun say so early hor... u c already then say...</td>\n",
              "      <td>u dun say so early hor u c already then say</td>\n",
              "      <td>dun say early hor already say</td>\n",
              "    </tr>\n",
              "    <tr>\n",
              "      <th>4</th>\n",
              "      <td>ham</td>\n",
              "      <td>nah i don't think he goes to usf, he lives aro...</td>\n",
              "      <td>nah i dont think he goes to usf he lives aroun...</td>\n",
              "      <td>nah dont think goes usf lives around though</td>\n",
              "    </tr>\n",
              "  </tbody>\n",
              "</table>\n",
              "</div>"
            ],
            "text/plain": [
              "  target  ...                                       text_wo_stop\n",
              "0    ham  ...  go jurong point crazy available bugis great wo...\n",
              "1    ham  ...                              ok lar joking wif oni\n",
              "2   spam  ...  free entry 2 wkly comp win fa cup final tkts 2...\n",
              "3    ham  ...                      dun say early hor already say\n",
              "4    ham  ...        nah dont think goes usf lives around though\n",
              "\n",
              "[5 rows x 4 columns]"
            ]
          },
          "metadata": {
            "tags": []
          },
          "execution_count": 5
        }
      ]
    },
    {
      "cell_type": "code",
      "metadata": {
        "id": "-0BqM7Tw94ug",
        "outputId": "2a8f3dbb-7c90-4909-fe42-f73bf2680763",
        "colab": {
          "base_uri": "https://localhost:8080/",
          "height": 241
        }
      },
      "source": [
        "df.groupby(\"target\").describe()"
      ],
      "execution_count": 6,
      "outputs": [
        {
          "output_type": "execute_result",
          "data": {
            "text/html": [
              "<div>\n",
              "<style scoped>\n",
              "    .dataframe tbody tr th:only-of-type {\n",
              "        vertical-align: middle;\n",
              "    }\n",
              "\n",
              "    .dataframe tbody tr th {\n",
              "        vertical-align: top;\n",
              "    }\n",
              "\n",
              "    .dataframe thead tr th {\n",
              "        text-align: left;\n",
              "    }\n",
              "\n",
              "    .dataframe thead tr:last-of-type th {\n",
              "        text-align: right;\n",
              "    }\n",
              "</style>\n",
              "<table border=\"1\" class=\"dataframe\">\n",
              "  <thead>\n",
              "    <tr>\n",
              "      <th></th>\n",
              "      <th colspan=\"4\" halign=\"left\">text</th>\n",
              "      <th colspan=\"4\" halign=\"left\">text_wo_punct</th>\n",
              "      <th colspan=\"4\" halign=\"left\">text_wo_stop</th>\n",
              "    </tr>\n",
              "    <tr>\n",
              "      <th></th>\n",
              "      <th>count</th>\n",
              "      <th>unique</th>\n",
              "      <th>top</th>\n",
              "      <th>freq</th>\n",
              "      <th>count</th>\n",
              "      <th>unique</th>\n",
              "      <th>top</th>\n",
              "      <th>freq</th>\n",
              "      <th>count</th>\n",
              "      <th>unique</th>\n",
              "      <th>top</th>\n",
              "      <th>freq</th>\n",
              "    </tr>\n",
              "    <tr>\n",
              "      <th>target</th>\n",
              "      <th></th>\n",
              "      <th></th>\n",
              "      <th></th>\n",
              "      <th></th>\n",
              "      <th></th>\n",
              "      <th></th>\n",
              "      <th></th>\n",
              "      <th></th>\n",
              "      <th></th>\n",
              "      <th></th>\n",
              "      <th></th>\n",
              "      <th></th>\n",
              "    </tr>\n",
              "  </thead>\n",
              "  <tbody>\n",
              "    <tr>\n",
              "      <th>ham</th>\n",
              "      <td>4825</td>\n",
              "      <td>4515</td>\n",
              "      <td>sorry, i'll call later</td>\n",
              "      <td>30</td>\n",
              "      <td>4825</td>\n",
              "      <td>4499</td>\n",
              "      <td>sorry ill call later</td>\n",
              "      <td>30</td>\n",
              "      <td>4825</td>\n",
              "      <td>4472</td>\n",
              "      <td>sorry call later</td>\n",
              "      <td>30</td>\n",
              "    </tr>\n",
              "    <tr>\n",
              "      <th>spam</th>\n",
              "      <td>747</td>\n",
              "      <td>653</td>\n",
              "      <td>please call our customer service representativ...</td>\n",
              "      <td>4</td>\n",
              "      <td>747</td>\n",
              "      <td>643</td>\n",
              "      <td>please call our customer service representativ...</td>\n",
              "      <td>4</td>\n",
              "      <td>747</td>\n",
              "      <td>629</td>\n",
              "      <td>please call customer service representative fr...</td>\n",
              "      <td>4</td>\n",
              "    </tr>\n",
              "  </tbody>\n",
              "</table>\n",
              "</div>"
            ],
            "text/plain": [
              "        text         ...                                       text_wo_stop     \n",
              "       count unique  ...                                                top freq\n",
              "target               ...                                                        \n",
              "ham     4825   4515  ...                                   sorry call later   30\n",
              "spam     747    653  ...  please call customer service representative fr...    4\n",
              "\n",
              "[2 rows x 12 columns]"
            ]
          },
          "metadata": {
            "tags": []
          },
          "execution_count": 6
        }
      ]
    },
    {
      "cell_type": "code",
      "metadata": {
        "id": "yihNUPqm-M_r",
        "outputId": "5f3e5e14-3b31-4339-ae12-9690cf5835ad",
        "colab": {
          "base_uri": "https://localhost:8080/",
          "height": 735
        }
      },
      "source": [
        "df['target'] = df['target'].map( {'spam': 1, 'ham': 0} ).astype(int)\n",
        "df.head(15)"
      ],
      "execution_count": 7,
      "outputs": [
        {
          "output_type": "execute_result",
          "data": {
            "text/html": [
              "<div>\n",
              "<style scoped>\n",
              "    .dataframe tbody tr th:only-of-type {\n",
              "        vertical-align: middle;\n",
              "    }\n",
              "\n",
              "    .dataframe tbody tr th {\n",
              "        vertical-align: top;\n",
              "    }\n",
              "\n",
              "    .dataframe thead th {\n",
              "        text-align: right;\n",
              "    }\n",
              "</style>\n",
              "<table border=\"1\" class=\"dataframe\">\n",
              "  <thead>\n",
              "    <tr style=\"text-align: right;\">\n",
              "      <th></th>\n",
              "      <th>target</th>\n",
              "      <th>text</th>\n",
              "      <th>text_wo_punct</th>\n",
              "      <th>text_wo_stop</th>\n",
              "    </tr>\n",
              "  </thead>\n",
              "  <tbody>\n",
              "    <tr>\n",
              "      <th>0</th>\n",
              "      <td>0</td>\n",
              "      <td>go until jurong point, crazy.. available only ...</td>\n",
              "      <td>go until jurong point crazy available only in ...</td>\n",
              "      <td>go jurong point crazy available bugis great wo...</td>\n",
              "    </tr>\n",
              "    <tr>\n",
              "      <th>1</th>\n",
              "      <td>0</td>\n",
              "      <td>ok lar... joking wif u oni...</td>\n",
              "      <td>ok lar joking wif u oni</td>\n",
              "      <td>ok lar joking wif oni</td>\n",
              "    </tr>\n",
              "    <tr>\n",
              "      <th>2</th>\n",
              "      <td>1</td>\n",
              "      <td>free entry in 2 a wkly comp to win fa cup fina...</td>\n",
              "      <td>free entry in 2 a wkly comp to win fa cup fina...</td>\n",
              "      <td>free entry 2 wkly comp win fa cup final tkts 2...</td>\n",
              "    </tr>\n",
              "    <tr>\n",
              "      <th>3</th>\n",
              "      <td>0</td>\n",
              "      <td>u dun say so early hor... u c already then say...</td>\n",
              "      <td>u dun say so early hor u c already then say</td>\n",
              "      <td>dun say early hor already say</td>\n",
              "    </tr>\n",
              "    <tr>\n",
              "      <th>4</th>\n",
              "      <td>0</td>\n",
              "      <td>nah i don't think he goes to usf, he lives aro...</td>\n",
              "      <td>nah i dont think he goes to usf he lives aroun...</td>\n",
              "      <td>nah dont think goes usf lives around though</td>\n",
              "    </tr>\n",
              "    <tr>\n",
              "      <th>5</th>\n",
              "      <td>1</td>\n",
              "      <td>freemsg hey there darling it's been 3 week's n...</td>\n",
              "      <td>freemsg hey there darling its been 3 weeks now...</td>\n",
              "      <td>freemsg darling 3 weeks word back like fun sti...</td>\n",
              "    </tr>\n",
              "    <tr>\n",
              "      <th>6</th>\n",
              "      <td>0</td>\n",
              "      <td>even my brother is not like to speak with me. ...</td>\n",
              "      <td>even my brother is not like to speak with me t...</td>\n",
              "      <td>even brother like speak treat like aids patent</td>\n",
              "    </tr>\n",
              "    <tr>\n",
              "      <th>7</th>\n",
              "      <td>0</td>\n",
              "      <td>as per your request 'melle melle (oru minnamin...</td>\n",
              "      <td>as per your request melle melle oru minnaminun...</td>\n",
              "      <td>per request melle melle oru minnaminunginte nu...</td>\n",
              "    </tr>\n",
              "    <tr>\n",
              "      <th>8</th>\n",
              "      <td>1</td>\n",
              "      <td>winner!! as a valued network customer you have...</td>\n",
              "      <td>winner as a valued network customer you have b...</td>\n",
              "      <td>winner valued network customer selected receiv...</td>\n",
              "    </tr>\n",
              "    <tr>\n",
              "      <th>9</th>\n",
              "      <td>1</td>\n",
              "      <td>had your mobile 11 months or more? u r entitle...</td>\n",
              "      <td>had your mobile 11 months or more u r entitled...</td>\n",
              "      <td>mobile 11 months entitled update latest colour...</td>\n",
              "    </tr>\n",
              "    <tr>\n",
              "      <th>10</th>\n",
              "      <td>0</td>\n",
              "      <td>i'm gonna be home soon and i don't want to tal...</td>\n",
              "      <td>im gonna be home soon and i dont want to talk ...</td>\n",
              "      <td>gonna home soon dont want talk stuff anymore t...</td>\n",
              "    </tr>\n",
              "    <tr>\n",
              "      <th>11</th>\n",
              "      <td>1</td>\n",
              "      <td>six chances to win cash! from 100 to 20,000 po...</td>\n",
              "      <td>six chances to win cash from 100 to 20000 poun...</td>\n",
              "      <td>six chances win cash 100 20000 pounds txt csh1...</td>\n",
              "    </tr>\n",
              "    <tr>\n",
              "      <th>12</th>\n",
              "      <td>1</td>\n",
              "      <td>urgent! you have won a 1 week free membership ...</td>\n",
              "      <td>urgent you have won a 1 week free membership i...</td>\n",
              "      <td>urgent 1 week free membership å£100000 prize j...</td>\n",
              "    </tr>\n",
              "    <tr>\n",
              "      <th>13</th>\n",
              "      <td>0</td>\n",
              "      <td>i've been searching for the right words to tha...</td>\n",
              "      <td>ive been searching for the right words to than...</td>\n",
              "      <td>ive searching right words thank breather promi...</td>\n",
              "    </tr>\n",
              "    <tr>\n",
              "      <th>14</th>\n",
              "      <td>0</td>\n",
              "      <td>i have a date on sunday with will!!</td>\n",
              "      <td>i have a date on sunday with will</td>\n",
              "      <td>date sunday</td>\n",
              "    </tr>\n",
              "  </tbody>\n",
              "</table>\n",
              "</div>"
            ],
            "text/plain": [
              "    target  ...                                       text_wo_stop\n",
              "0        0  ...  go jurong point crazy available bugis great wo...\n",
              "1        0  ...                              ok lar joking wif oni\n",
              "2        1  ...  free entry 2 wkly comp win fa cup final tkts 2...\n",
              "3        0  ...                      dun say early hor already say\n",
              "4        0  ...        nah dont think goes usf lives around though\n",
              "5        1  ...  freemsg darling 3 weeks word back like fun sti...\n",
              "6        0  ...     even brother like speak treat like aids patent\n",
              "7        0  ...  per request melle melle oru minnaminunginte nu...\n",
              "8        1  ...  winner valued network customer selected receiv...\n",
              "9        1  ...  mobile 11 months entitled update latest colour...\n",
              "10       0  ...  gonna home soon dont want talk stuff anymore t...\n",
              "11       1  ...  six chances win cash 100 20000 pounds txt csh1...\n",
              "12       1  ...  urgent 1 week free membership å£100000 prize j...\n",
              "13       0  ...  ive searching right words thank breather promi...\n",
              "14       0  ...                                        date sunday\n",
              "\n",
              "[15 rows x 4 columns]"
            ]
          },
          "metadata": {
            "tags": []
          },
          "execution_count": 7
        }
      ]
    },
    {
      "cell_type": "code",
      "metadata": {
        "id": "GLqAgMaj-NHB"
      },
      "source": [
        "df['length'] = df['text_wo_stop'].apply(len)"
      ],
      "execution_count": 8,
      "outputs": []
    },
    {
      "cell_type": "code",
      "metadata": {
        "id": "sFEX-JS7-NFB",
        "outputId": "ab7915a7-3860-4b6f-cae6-28f21afe32e1",
        "colab": {
          "base_uri": "https://localhost:8080/",
          "height": 512
        }
      },
      "source": [
        "df.head(10)"
      ],
      "execution_count": 9,
      "outputs": [
        {
          "output_type": "execute_result",
          "data": {
            "text/html": [
              "<div>\n",
              "<style scoped>\n",
              "    .dataframe tbody tr th:only-of-type {\n",
              "        vertical-align: middle;\n",
              "    }\n",
              "\n",
              "    .dataframe tbody tr th {\n",
              "        vertical-align: top;\n",
              "    }\n",
              "\n",
              "    .dataframe thead th {\n",
              "        text-align: right;\n",
              "    }\n",
              "</style>\n",
              "<table border=\"1\" class=\"dataframe\">\n",
              "  <thead>\n",
              "    <tr style=\"text-align: right;\">\n",
              "      <th></th>\n",
              "      <th>target</th>\n",
              "      <th>text</th>\n",
              "      <th>text_wo_punct</th>\n",
              "      <th>text_wo_stop</th>\n",
              "      <th>length</th>\n",
              "    </tr>\n",
              "  </thead>\n",
              "  <tbody>\n",
              "    <tr>\n",
              "      <th>0</th>\n",
              "      <td>0</td>\n",
              "      <td>go until jurong point, crazy.. available only ...</td>\n",
              "      <td>go until jurong point crazy available only in ...</td>\n",
              "      <td>go jurong point crazy available bugis great wo...</td>\n",
              "      <td>78</td>\n",
              "    </tr>\n",
              "    <tr>\n",
              "      <th>1</th>\n",
              "      <td>0</td>\n",
              "      <td>ok lar... joking wif u oni...</td>\n",
              "      <td>ok lar joking wif u oni</td>\n",
              "      <td>ok lar joking wif oni</td>\n",
              "      <td>21</td>\n",
              "    </tr>\n",
              "    <tr>\n",
              "      <th>2</th>\n",
              "      <td>1</td>\n",
              "      <td>free entry in 2 a wkly comp to win fa cup fina...</td>\n",
              "      <td>free entry in 2 a wkly comp to win fa cup fina...</td>\n",
              "      <td>free entry 2 wkly comp win fa cup final tkts 2...</td>\n",
              "      <td>135</td>\n",
              "    </tr>\n",
              "    <tr>\n",
              "      <th>3</th>\n",
              "      <td>0</td>\n",
              "      <td>u dun say so early hor... u c already then say...</td>\n",
              "      <td>u dun say so early hor u c already then say</td>\n",
              "      <td>dun say early hor already say</td>\n",
              "      <td>29</td>\n",
              "    </tr>\n",
              "    <tr>\n",
              "      <th>4</th>\n",
              "      <td>0</td>\n",
              "      <td>nah i don't think he goes to usf, he lives aro...</td>\n",
              "      <td>nah i dont think he goes to usf he lives aroun...</td>\n",
              "      <td>nah dont think goes usf lives around though</td>\n",
              "      <td>43</td>\n",
              "    </tr>\n",
              "    <tr>\n",
              "      <th>5</th>\n",
              "      <td>1</td>\n",
              "      <td>freemsg hey there darling it's been 3 week's n...</td>\n",
              "      <td>freemsg hey there darling its been 3 weeks now...</td>\n",
              "      <td>freemsg darling 3 weeks word back like fun sti...</td>\n",
              "      <td>82</td>\n",
              "    </tr>\n",
              "    <tr>\n",
              "      <th>6</th>\n",
              "      <td>0</td>\n",
              "      <td>even my brother is not like to speak with me. ...</td>\n",
              "      <td>even my brother is not like to speak with me t...</td>\n",
              "      <td>even brother like speak treat like aids patent</td>\n",
              "      <td>46</td>\n",
              "    </tr>\n",
              "    <tr>\n",
              "      <th>7</th>\n",
              "      <td>0</td>\n",
              "      <td>as per your request 'melle melle (oru minnamin...</td>\n",
              "      <td>as per your request melle melle oru minnaminun...</td>\n",
              "      <td>per request melle melle oru minnaminunginte nu...</td>\n",
              "      <td>113</td>\n",
              "    </tr>\n",
              "    <tr>\n",
              "      <th>8</th>\n",
              "      <td>1</td>\n",
              "      <td>winner!! as a valued network customer you have...</td>\n",
              "      <td>winner as a valued network customer you have b...</td>\n",
              "      <td>winner valued network customer selected receiv...</td>\n",
              "      <td>122</td>\n",
              "    </tr>\n",
              "    <tr>\n",
              "      <th>9</th>\n",
              "      <td>1</td>\n",
              "      <td>had your mobile 11 months or more? u r entitle...</td>\n",
              "      <td>had your mobile 11 months or more u r entitled...</td>\n",
              "      <td>mobile 11 months entitled update latest colour...</td>\n",
              "      <td>102</td>\n",
              "    </tr>\n",
              "  </tbody>\n",
              "</table>\n",
              "</div>"
            ],
            "text/plain": [
              "   target  ... length\n",
              "0       0  ...     78\n",
              "1       0  ...     21\n",
              "2       1  ...    135\n",
              "3       0  ...     29\n",
              "4       0  ...     43\n",
              "5       1  ...     82\n",
              "6       0  ...     46\n",
              "7       0  ...    113\n",
              "8       1  ...    122\n",
              "9       1  ...    102\n",
              "\n",
              "[10 rows x 5 columns]"
            ]
          },
          "metadata": {
            "tags": []
          },
          "execution_count": 9
        }
      ]
    },
    {
      "cell_type": "code",
      "metadata": {
        "id": "182-Wcw_-NDX",
        "outputId": "d2585980-c7c5-4db5-8d16-e398d3bc841a",
        "colab": {
          "base_uri": "https://localhost:8080/",
          "height": 289
        }
      },
      "source": [
        "import matplotlib.pyplot as plt\n",
        "\n",
        "df.hist(column='length',by='target',bins=60,figsize=(12,4));\n",
        "plt.xlim(-40,950);"
      ],
      "execution_count": 10,
      "outputs": [
        {
          "output_type": "display_data",
          "data": {
            "image/png": "[encoded data removed]",
            "text/plain": [
              "<Figure size 864x288 with 2 Axes>"
            ]
          },
          "metadata": {
            "tags": [],
            "needs_background": "light"
          }
        }
      ]
    },
    {
      "cell_type": "code",
      "metadata": {
        "id": "hDCMYOsY_TtY"
      },
      "source": [
        "df_ham  = df[df['target'] == 0].copy()\n",
        "df_spam = df[df['target'] == 1].copy()"
      ],
      "execution_count": 11,
      "outputs": []
    },
    {
      "cell_type": "code",
      "metadata": {
        "id": "45Pz9TpP_TrK"
      },
      "source": [
        "def show_wordcloud(data_spam_or_ham, title):\n",
        "    text = ' '.join(data_spam_or_ham['text_wo_stop'].astype(str).tolist())\n",
        "    stopwords = set(wordcloud.STOPWORDS)\n",
        "    \n",
        "    fig_wordcloud = wordcloud.WordCloud(stopwords=stopwords,background_color='lightgrey',\n",
        "                    colormap='viridis', width=800, height=600).generate(text)\n",
        "    \n",
        "    plt.figure(figsize=(10,7), frameon=True)\n",
        "    plt.imshow(fig_wordcloud)  \n",
        "    plt.axis('off')\n",
        "    plt.title(title, fontsize=20 )\n",
        "    plt.show()"
      ],
      "execution_count": 12,
      "outputs": []
    },
    {
      "cell_type": "code",
      "metadata": {
        "id": "1ERlx0N8_TpU",
        "outputId": "a7e255d6-2258-4f5b-aec9-3e2ba8d78809",
        "colab": {
          "base_uri": "https://localhost:8080/",
          "height": 432
        }
      },
      "source": [
        "import wordcloud\n",
        "show_wordcloud(df_ham, \"Ham messages\")"
      ],
      "execution_count": 13,
      "outputs": [
        {
          "output_type": "display_data",
          "data": {
            "image/png": "[encoded data removed]",
            "text/plain": [
              "<Figure size 720x504 with 1 Axes>"
            ]
          },
          "metadata": {
            "tags": [],
            "needs_background": "light"
          }
        }
      ]
    },
    {
      "cell_type": "code",
      "metadata": {
        "id": "zTxPriJ6_Tmp",
        "outputId": "a97f218e-278c-4bda-9d98-7e745559152c",
        "colab": {
          "base_uri": "https://localhost:8080/",
          "height": 432
        }
      },
      "source": [
        "show_wordcloud(df_spam, \"Ham messages\")"
      ],
      "execution_count": 14,
      "outputs": [
        {
          "output_type": "display_data",
          "data": {
            "image/png": "[encoded data removed]",
            "text/plain": [
              "<Figure size 720x504 with 1 Axes>"
            ]
          },
          "metadata": {
            "tags": [],
            "needs_background": "light"
          }
        }
      ]
    },
    {
      "cell_type": "code",
      "metadata": {
        "id": "-Qy7DhrCAg3V"
      },
      "source": [
        ""
      ],
      "execution_count": 14,
      "outputs": []
    },
    {
      "cell_type": "code",
      "metadata": {
        "id": "d6zWVGSjAg1k",
        "outputId": "a6bc9782-9d5c-4c75-bcd1-186071957510",
        "colab": {
          "base_uri": "https://localhost:8080/"
        }
      },
      "source": [
        "from collections import Counter\n",
        "cnt = Counter()\n",
        "for text in df_ham[\"text_wo_stop\"].values:\n",
        "    for word in text.split():\n",
        "        cnt[word] += 1\n",
        "        \n",
        "cnt.most_common(10)"
      ],
      "execution_count": 15,
      "outputs": [
        {
          "output_type": "execute_result",
          "data": {
            "text/plain": [
              "[('2', 305),\n",
              " ('get', 303),\n",
              " ('ltgt', 276),\n",
              " ('ok', 272),\n",
              " ('dont', 257),\n",
              " ('go', 247),\n",
              " ('know', 232),\n",
              " ('got', 231),\n",
              " ('like', 229),\n",
              " ('call', 229)]"
            ]
          },
          "metadata": {
            "tags": []
          },
          "execution_count": 15
        }
      ]
    },
    {
      "cell_type": "code",
      "metadata": {
        "id": "n4GF5o2WAgzd",
        "outputId": "673536c3-3671-4659-c468-50a173058c57",
        "colab": {
          "base_uri": "https://localhost:8080/"
        }
      },
      "source": [
        "cnt_ = Counter()\n",
        "for text in df_spam[\"text_wo_stop\"].values:\n",
        "    for word in text.split():\n",
        "        cnt_[word] += 1\n",
        "        \n",
        "cnt_.most_common(10)"
      ],
      "execution_count": 16,
      "outputs": [
        {
          "output_type": "execute_result",
          "data": {
            "text/plain": [
              "[('call', 347),\n",
              " ('free', 216),\n",
              " ('2', 173),\n",
              " ('txt', 150),\n",
              " ('mobile', 123),\n",
              " ('text', 120),\n",
              " ('4', 119),\n",
              " ('claim', 113),\n",
              " ('stop', 113),\n",
              " ('reply', 101)]"
            ]
          },
          "metadata": {
            "tags": []
          },
          "execution_count": 16
        }
      ]
    },
    {
      "cell_type": "code",
      "metadata": {
        "id": "uR8y4Ni4Agxq"
      },
      "source": [
        ""
      ],
      "execution_count": 16,
      "outputs": []
    },
    {
      "cell_type": "code",
      "metadata": {
        "id": "EruuiiPSAgv1",
        "outputId": "a22bec9a-4b66-4130-ae54-0cbb175abd5d",
        "colab": {
          "base_uri": "https://localhost:8080/",
          "height": 272
        }
      },
      "source": [
        "from nltk.stem.porter import PorterStemmer\n",
        "\n",
        "# Drop the two columns \n",
        "#df.drop([\"text_wo_stopfreq\", \"text_wo_stopfreqrare\"], axis=1, inplace=True) \n",
        "\n",
        "stemmer = PorterStemmer()\n",
        "def stem_words(text):\n",
        "    return \" \".join([stemmer.stem(word) for word in text.split()])\n",
        "\n",
        "df_ham[\"text_stemmed\"] = df_ham[\"text_wo_stop\"].apply(lambda text: stem_words(text))\n",
        "df_spam[\"text_stemmed\"] = df_spam[\"text_wo_stop\"].apply(lambda text: stem_words(text))\n",
        "df_ham.head()"
      ],
      "execution_count": 17,
      "outputs": [
        {
          "output_type": "execute_result",
          "data": {
            "text/html": [
              "<div>\n",
              "<style scoped>\n",
              "    .dataframe tbody tr th:only-of-type {\n",
              "        vertical-align: middle;\n",
              "    }\n",
              "\n",
              "    .dataframe tbody tr th {\n",
              "        vertical-align: top;\n",
              "    }\n",
              "\n",
              "    .dataframe thead th {\n",
              "        text-align: right;\n",
              "    }\n",
              "</style>\n",
              "<table border=\"1\" class=\"dataframe\">\n",
              "  <thead>\n",
              "    <tr style=\"text-align: right;\">\n",
              "      <th></th>\n",
              "      <th>target</th>\n",
              "      <th>text</th>\n",
              "      <th>text_wo_punct</th>\n",
              "      <th>text_wo_stop</th>\n",
              "      <th>length</th>\n",
              "      <th>text_stemmed</th>\n",
              "    </tr>\n",
              "  </thead>\n",
              "  <tbody>\n",
              "    <tr>\n",
              "      <th>0</th>\n",
              "      <td>0</td>\n",
              "      <td>go until jurong point, crazy.. available only ...</td>\n",
              "      <td>go until jurong point crazy available only in ...</td>\n",
              "      <td>go jurong point crazy available bugis great wo...</td>\n",
              "      <td>78</td>\n",
              "      <td>go jurong point crazi avail bugi great world l...</td>\n",
              "    </tr>\n",
              "    <tr>\n",
              "      <th>1</th>\n",
              "      <td>0</td>\n",
              "      <td>ok lar... joking wif u oni...</td>\n",
              "      <td>ok lar joking wif u oni</td>\n",
              "      <td>ok lar joking wif oni</td>\n",
              "      <td>21</td>\n",
              "      <td>ok lar joke wif oni</td>\n",
              "    </tr>\n",
              "    <tr>\n",
              "      <th>3</th>\n",
              "      <td>0</td>\n",
              "      <td>u dun say so early hor... u c already then say...</td>\n",
              "      <td>u dun say so early hor u c already then say</td>\n",
              "      <td>dun say early hor already say</td>\n",
              "      <td>29</td>\n",
              "      <td>dun say earli hor alreadi say</td>\n",
              "    </tr>\n",
              "    <tr>\n",
              "      <th>4</th>\n",
              "      <td>0</td>\n",
              "      <td>nah i don't think he goes to usf, he lives aro...</td>\n",
              "      <td>nah i dont think he goes to usf he lives aroun...</td>\n",
              "      <td>nah dont think goes usf lives around though</td>\n",
              "      <td>43</td>\n",
              "      <td>nah dont think goe usf live around though</td>\n",
              "    </tr>\n",
              "    <tr>\n",
              "      <th>6</th>\n",
              "      <td>0</td>\n",
              "      <td>even my brother is not like to speak with me. ...</td>\n",
              "      <td>even my brother is not like to speak with me t...</td>\n",
              "      <td>even brother like speak treat like aids patent</td>\n",
              "      <td>46</td>\n",
              "      <td>even brother like speak treat like aid patent</td>\n",
              "    </tr>\n",
              "  </tbody>\n",
              "</table>\n",
              "</div>"
            ],
            "text/plain": [
              "   target  ...                                       text_stemmed\n",
              "0       0  ...  go jurong point crazi avail bugi great world l...\n",
              "1       0  ...                                ok lar joke wif oni\n",
              "3       0  ...                      dun say earli hor alreadi say\n",
              "4       0  ...          nah dont think goe usf live around though\n",
              "6       0  ...      even brother like speak treat like aid patent\n",
              "\n",
              "[5 rows x 6 columns]"
            ]
          },
          "metadata": {
            "tags": []
          },
          "execution_count": 17
        }
      ]
    },
    {
      "cell_type": "code",
      "metadata": {
        "id": "InkR634dCfA3",
        "outputId": "e4eab81e-10b8-43aa-a4db-7ace55ac2d86",
        "colab": {
          "base_uri": "https://localhost:8080/",
          "height": 306
        }
      },
      "source": [
        "df_spam.head()"
      ],
      "execution_count": 18,
      "outputs": [
        {
          "output_type": "execute_result",
          "data": {
            "text/html": [
              "<div>\n",
              "<style scoped>\n",
              "    .dataframe tbody tr th:only-of-type {\n",
              "        vertical-align: middle;\n",
              "    }\n",
              "\n",
              "    .dataframe tbody tr th {\n",
              "        vertical-align: top;\n",
              "    }\n",
              "\n",
              "    .dataframe thead th {\n",
              "        text-align: right;\n",
              "    }\n",
              "</style>\n",
              "<table border=\"1\" class=\"dataframe\">\n",
              "  <thead>\n",
              "    <tr style=\"text-align: right;\">\n",
              "      <th></th>\n",
              "      <th>target</th>\n",
              "      <th>text</th>\n",
              "      <th>text_wo_punct</th>\n",
              "      <th>text_wo_stop</th>\n",
              "      <th>length</th>\n",
              "      <th>text_stemmed</th>\n",
              "    </tr>\n",
              "  </thead>\n",
              "  <tbody>\n",
              "    <tr>\n",
              "      <th>2</th>\n",
              "      <td>1</td>\n",
              "      <td>free entry in 2 a wkly comp to win fa cup fina...</td>\n",
              "      <td>free entry in 2 a wkly comp to win fa cup fina...</td>\n",
              "      <td>free entry 2 wkly comp win fa cup final tkts 2...</td>\n",
              "      <td>135</td>\n",
              "      <td>free entri 2 wkli comp win fa cup final tkt 21...</td>\n",
              "    </tr>\n",
              "    <tr>\n",
              "      <th>5</th>\n",
              "      <td>1</td>\n",
              "      <td>freemsg hey there darling it's been 3 week's n...</td>\n",
              "      <td>freemsg hey there darling its been 3 weeks now...</td>\n",
              "      <td>freemsg darling 3 weeks word back like fun sti...</td>\n",
              "      <td>82</td>\n",
              "      <td>freemsg darl 3 week word back like fun still t...</td>\n",
              "    </tr>\n",
              "    <tr>\n",
              "      <th>8</th>\n",
              "      <td>1</td>\n",
              "      <td>winner!! as a valued network customer you have...</td>\n",
              "      <td>winner as a valued network customer you have b...</td>\n",
              "      <td>winner valued network customer selected receiv...</td>\n",
              "      <td>122</td>\n",
              "      <td>winner valu network custom select receivea å£9...</td>\n",
              "    </tr>\n",
              "    <tr>\n",
              "      <th>9</th>\n",
              "      <td>1</td>\n",
              "      <td>had your mobile 11 months or more? u r entitle...</td>\n",
              "      <td>had your mobile 11 months or more u r entitled...</td>\n",
              "      <td>mobile 11 months entitled update latest colour...</td>\n",
              "      <td>102</td>\n",
              "      <td>mobil 11 month entitl updat latest colour mobi...</td>\n",
              "    </tr>\n",
              "    <tr>\n",
              "      <th>11</th>\n",
              "      <td>1</td>\n",
              "      <td>six chances to win cash! from 100 to 20,000 po...</td>\n",
              "      <td>six chances to win cash from 100 to 20000 poun...</td>\n",
              "      <td>six chances win cash 100 20000 pounds txt csh1...</td>\n",
              "      <td>110</td>\n",
              "      <td>six chanc win cash 100 20000 pound txt csh11 s...</td>\n",
              "    </tr>\n",
              "  </tbody>\n",
              "</table>\n",
              "</div>"
            ],
            "text/plain": [
              "    target  ...                                       text_stemmed\n",
              "2        1  ...  free entri 2 wkli comp win fa cup final tkt 21...\n",
              "5        1  ...  freemsg darl 3 week word back like fun still t...\n",
              "8        1  ...  winner valu network custom select receivea å£9...\n",
              "9        1  ...  mobil 11 month entitl updat latest colour mobi...\n",
              "11       1  ...  six chanc win cash 100 20000 pound txt csh11 s...\n",
              "\n",
              "[5 rows x 6 columns]"
            ]
          },
          "metadata": {
            "tags": []
          },
          "execution_count": 18
        }
      ]
    },
    {
      "cell_type": "code",
      "metadata": {
        "id": "r6vyHvloAgti"
      },
      "source": [
        ""
      ],
      "execution_count": 18,
      "outputs": []
    },
    {
      "cell_type": "code",
      "metadata": {
        "id": "5JrmhDOAAgq7",
        "outputId": "a804d6d1-0f07-4bf5-c502-f79f20defc6d",
        "colab": {
          "base_uri": "https://localhost:8080/",
          "height": 374
        }
      },
      "source": [
        "import nltk\n",
        "nltk.download('wordnet')\n",
        "from nltk.stem import WordNetLemmatizer\n",
        "\n",
        "lemmatizer = WordNetLemmatizer()\n",
        "def lemmatize_words(text):\n",
        "    return \" \".join([lemmatizer.lemmatize(word) for word in text.split()])\n",
        "\n",
        "df_ham[\"text_lemmatized\"] = df_ham[\"text_wo_stop\"].apply(lambda text: lemmatize_words(text))\n",
        "df_spam[\"text_lemmatized\"] = df_spam[\"text_wo_stop\"].apply(lambda text: lemmatize_words(text))\n",
        "df_ham.head()"
      ],
      "execution_count": 19,
      "outputs": [
        {
          "output_type": "stream",
          "text": [
            "[nltk_data] Downloading package wordnet to /root/nltk_data...\n",
            "[nltk_data]   Unzipping corpora/wordnet.zip.\n"
          ],
          "name": "stdout"
        },
        {
          "output_type": "execute_result",
          "data": {
            "text/html": [
              "<div>\n",
              "<style scoped>\n",
              "    .dataframe tbody tr th:only-of-type {\n",
              "        vertical-align: middle;\n",
              "    }\n",
              "\n",
              "    .dataframe tbody tr th {\n",
              "        vertical-align: top;\n",
              "    }\n",
              "\n",
              "    .dataframe thead th {\n",
              "        text-align: right;\n",
              "    }\n",
              "</style>\n",
              "<table border=\"1\" class=\"dataframe\">\n",
              "  <thead>\n",
              "    <tr style=\"text-align: right;\">\n",
              "      <th></th>\n",
              "      <th>target</th>\n",
              "      <th>text</th>\n",
              "      <th>text_wo_punct</th>\n",
              "      <th>text_wo_stop</th>\n",
              "      <th>length</th>\n",
              "      <th>text_stemmed</th>\n",
              "      <th>text_lemmatized</th>\n",
              "    </tr>\n",
              "  </thead>\n",
              "  <tbody>\n",
              "    <tr>\n",
              "      <th>0</th>\n",
              "      <td>0</td>\n",
              "      <td>go until jurong point, crazy.. available only ...</td>\n",
              "      <td>go until jurong point crazy available only in ...</td>\n",
              "      <td>go jurong point crazy available bugis great wo...</td>\n",
              "      <td>78</td>\n",
              "      <td>go jurong point crazi avail bugi great world l...</td>\n",
              "      <td>go jurong point crazy available bugis great wo...</td>\n",
              "    </tr>\n",
              "    <tr>\n",
              "      <th>1</th>\n",
              "      <td>0</td>\n",
              "      <td>ok lar... joking wif u oni...</td>\n",
              "      <td>ok lar joking wif u oni</td>\n",
              "      <td>ok lar joking wif oni</td>\n",
              "      <td>21</td>\n",
              "      <td>ok lar joke wif oni</td>\n",
              "      <td>ok lar joking wif oni</td>\n",
              "    </tr>\n",
              "    <tr>\n",
              "      <th>3</th>\n",
              "      <td>0</td>\n",
              "      <td>u dun say so early hor... u c already then say...</td>\n",
              "      <td>u dun say so early hor u c already then say</td>\n",
              "      <td>dun say early hor already say</td>\n",
              "      <td>29</td>\n",
              "      <td>dun say earli hor alreadi say</td>\n",
              "      <td>dun say early hor already say</td>\n",
              "    </tr>\n",
              "    <tr>\n",
              "      <th>4</th>\n",
              "      <td>0</td>\n",
              "      <td>nah i don't think he goes to usf, he lives aro...</td>\n",
              "      <td>nah i dont think he goes to usf he lives aroun...</td>\n",
              "      <td>nah dont think goes usf lives around though</td>\n",
              "      <td>43</td>\n",
              "      <td>nah dont think goe usf live around though</td>\n",
              "      <td>nah dont think go usf life around though</td>\n",
              "    </tr>\n",
              "    <tr>\n",
              "      <th>6</th>\n",
              "      <td>0</td>\n",
              "      <td>even my brother is not like to speak with me. ...</td>\n",
              "      <td>even my brother is not like to speak with me t...</td>\n",
              "      <td>even brother like speak treat like aids patent</td>\n",
              "      <td>46</td>\n",
              "      <td>even brother like speak treat like aid patent</td>\n",
              "      <td>even brother like speak treat like aid patent</td>\n",
              "    </tr>\n",
              "  </tbody>\n",
              "</table>\n",
              "</div>"
            ],
            "text/plain": [
              "   target  ...                                    text_lemmatized\n",
              "0       0  ...  go jurong point crazy available bugis great wo...\n",
              "1       0  ...                              ok lar joking wif oni\n",
              "3       0  ...                      dun say early hor already say\n",
              "4       0  ...           nah dont think go usf life around though\n",
              "6       0  ...      even brother like speak treat like aid patent\n",
              "\n",
              "[5 rows x 7 columns]"
            ]
          },
          "metadata": {
            "tags": []
          },
          "execution_count": 19
        }
      ]
    },
    {
      "cell_type": "code",
      "metadata": {
        "id": "45aqjIEHGN3D",
        "outputId": "b241c330-4a56-4d5d-bd63-90d238dd358f",
        "colab": {
          "base_uri": "https://localhost:8080/",
          "height": 374
        }
      },
      "source": [
        "df_spam.head()"
      ],
      "execution_count": 20,
      "outputs": [
        {
          "output_type": "execute_result",
          "data": {
            "text/html": [
              "<div>\n",
              "<style scoped>\n",
              "    .dataframe tbody tr th:only-of-type {\n",
              "        vertical-align: middle;\n",
              "    }\n",
              "\n",
              "    .dataframe tbody tr th {\n",
              "        vertical-align: top;\n",
              "    }\n",
              "\n",
              "    .dataframe thead th {\n",
              "        text-align: right;\n",
              "    }\n",
              "</style>\n",
              "<table border=\"1\" class=\"dataframe\">\n",
              "  <thead>\n",
              "    <tr style=\"text-align: right;\">\n",
              "      <th></th>\n",
              "      <th>target</th>\n",
              "      <th>text</th>\n",
              "      <th>text_wo_punct</th>\n",
              "      <th>text_wo_stop</th>\n",
              "      <th>length</th>\n",
              "      <th>text_stemmed</th>\n",
              "      <th>text_lemmatized</th>\n",
              "    </tr>\n",
              "  </thead>\n",
              "  <tbody>\n",
              "    <tr>\n",
              "      <th>2</th>\n",
              "      <td>1</td>\n",
              "      <td>free entry in 2 a wkly comp to win fa cup fina...</td>\n",
              "      <td>free entry in 2 a wkly comp to win fa cup fina...</td>\n",
              "      <td>free entry 2 wkly comp win fa cup final tkts 2...</td>\n",
              "      <td>135</td>\n",
              "      <td>free entri 2 wkli comp win fa cup final tkt 21...</td>\n",
              "      <td>free entry 2 wkly comp win fa cup final tkts 2...</td>\n",
              "    </tr>\n",
              "    <tr>\n",
              "      <th>5</th>\n",
              "      <td>1</td>\n",
              "      <td>freemsg hey there darling it's been 3 week's n...</td>\n",
              "      <td>freemsg hey there darling its been 3 weeks now...</td>\n",
              "      <td>freemsg darling 3 weeks word back like fun sti...</td>\n",
              "      <td>82</td>\n",
              "      <td>freemsg darl 3 week word back like fun still t...</td>\n",
              "      <td>freemsg darling 3 week word back like fun stil...</td>\n",
              "    </tr>\n",
              "    <tr>\n",
              "      <th>8</th>\n",
              "      <td>1</td>\n",
              "      <td>winner!! as a valued network customer you have...</td>\n",
              "      <td>winner as a valued network customer you have b...</td>\n",
              "      <td>winner valued network customer selected receiv...</td>\n",
              "      <td>122</td>\n",
              "      <td>winner valu network custom select receivea å£9...</td>\n",
              "      <td>winner valued network customer selected receiv...</td>\n",
              "    </tr>\n",
              "    <tr>\n",
              "      <th>9</th>\n",
              "      <td>1</td>\n",
              "      <td>had your mobile 11 months or more? u r entitle...</td>\n",
              "      <td>had your mobile 11 months or more u r entitled...</td>\n",
              "      <td>mobile 11 months entitled update latest colour...</td>\n",
              "      <td>102</td>\n",
              "      <td>mobil 11 month entitl updat latest colour mobi...</td>\n",
              "      <td>mobile 11 month entitled update latest colour ...</td>\n",
              "    </tr>\n",
              "    <tr>\n",
              "      <th>11</th>\n",
              "      <td>1</td>\n",
              "      <td>six chances to win cash! from 100 to 20,000 po...</td>\n",
              "      <td>six chances to win cash from 100 to 20000 poun...</td>\n",
              "      <td>six chances win cash 100 20000 pounds txt csh1...</td>\n",
              "      <td>110</td>\n",
              "      <td>six chanc win cash 100 20000 pound txt csh11 s...</td>\n",
              "      <td>six chance win cash 100 20000 pound txt csh11 ...</td>\n",
              "    </tr>\n",
              "  </tbody>\n",
              "</table>\n",
              "</div>"
            ],
            "text/plain": [
              "    target  ...                                    text_lemmatized\n",
              "2        1  ...  free entry 2 wkly comp win fa cup final tkts 2...\n",
              "5        1  ...  freemsg darling 3 week word back like fun stil...\n",
              "8        1  ...  winner valued network customer selected receiv...\n",
              "9        1  ...  mobile 11 month entitled update latest colour ...\n",
              "11       1  ...  six chance win cash 100 20000 pound txt csh11 ...\n",
              "\n",
              "[5 rows x 7 columns]"
            ]
          },
          "metadata": {
            "tags": []
          },
          "execution_count": 20
        }
      ]
    },
    {
      "cell_type": "code",
      "metadata": {
        "id": "3z7l_UX4GOEA",
        "outputId": "c4a640b6-602d-47fb-c354-72d90c09f802",
        "colab": {
          "base_uri": "https://localhost:8080/",
          "height": 391
        }
      },
      "source": [
        "from nltk.corpus import wordnet\n",
        "from nltk.stem import WordNetLemmatizer\n",
        "nltk.download('averaged_perceptron_tagger')\n",
        "\n",
        "lemmatizer = WordNetLemmatizer()\n",
        "wordnet_map = {\"N\":wordnet.NOUN, \"V\":wordnet.VERB, \"J\":wordnet.ADJ, \"R\":wordnet.ADV}\n",
        "def lemmatize_words(text):\n",
        "    pos_tagged_text = nltk.pos_tag(text.split())\n",
        "    return \" \".join([lemmatizer.lemmatize(word, wordnet_map.get(pos[0], wordnet.NOUN)) for word, pos in pos_tagged_text])\n",
        "\n",
        "df_ham[\"text_lemmatized\"] = df_ham[\"text_wo_stop\"].apply(lambda text: lemmatize_words(text))\n",
        "df_spam[\"text_lemmatized\"] = df_spam[\"text_wo_stop\"].apply(lambda text: lemmatize_words(text))\n",
        "df_ham.head()"
      ],
      "execution_count": 21,
      "outputs": [
        {
          "output_type": "stream",
          "text": [
            "[nltk_data] Downloading package averaged_perceptron_tagger to\n",
            "[nltk_data]     /root/nltk_data...\n",
            "[nltk_data]   Unzipping taggers/averaged_perceptron_tagger.zip.\n"
          ],
          "name": "stdout"
        },
        {
          "output_type": "execute_result",
          "data": {
            "text/html": [
              "<div>\n",
              "<style scoped>\n",
              "    .dataframe tbody tr th:only-of-type {\n",
              "        vertical-align: middle;\n",
              "    }\n",
              "\n",
              "    .dataframe tbody tr th {\n",
              "        vertical-align: top;\n",
              "    }\n",
              "\n",
              "    .dataframe thead th {\n",
              "        text-align: right;\n",
              "    }\n",
              "</style>\n",
              "<table border=\"1\" class=\"dataframe\">\n",
              "  <thead>\n",
              "    <tr style=\"text-align: right;\">\n",
              "      <th></th>\n",
              "      <th>target</th>\n",
              "      <th>text</th>\n",
              "      <th>text_wo_punct</th>\n",
              "      <th>text_wo_stop</th>\n",
              "      <th>length</th>\n",
              "      <th>text_stemmed</th>\n",
              "      <th>text_lemmatized</th>\n",
              "    </tr>\n",
              "  </thead>\n",
              "  <tbody>\n",
              "    <tr>\n",
              "      <th>0</th>\n",
              "      <td>0</td>\n",
              "      <td>go until jurong point, crazy.. available only ...</td>\n",
              "      <td>go until jurong point crazy available only in ...</td>\n",
              "      <td>go jurong point crazy available bugis great wo...</td>\n",
              "      <td>78</td>\n",
              "      <td>go jurong point crazi avail bugi great world l...</td>\n",
              "      <td>go jurong point crazy available bugis great wo...</td>\n",
              "    </tr>\n",
              "    <tr>\n",
              "      <th>1</th>\n",
              "      <td>0</td>\n",
              "      <td>ok lar... joking wif u oni...</td>\n",
              "      <td>ok lar joking wif u oni</td>\n",
              "      <td>ok lar joking wif oni</td>\n",
              "      <td>21</td>\n",
              "      <td>ok lar joke wif oni</td>\n",
              "      <td>ok lar joking wif oni</td>\n",
              "    </tr>\n",
              "    <tr>\n",
              "      <th>3</th>\n",
              "      <td>0</td>\n",
              "      <td>u dun say so early hor... u c already then say...</td>\n",
              "      <td>u dun say so early hor u c already then say</td>\n",
              "      <td>dun say early hor already say</td>\n",
              "      <td>29</td>\n",
              "      <td>dun say earli hor alreadi say</td>\n",
              "      <td>dun say early hor already say</td>\n",
              "    </tr>\n",
              "    <tr>\n",
              "      <th>4</th>\n",
              "      <td>0</td>\n",
              "      <td>nah i don't think he goes to usf, he lives aro...</td>\n",
              "      <td>nah i dont think he goes to usf he lives aroun...</td>\n",
              "      <td>nah dont think goes usf lives around though</td>\n",
              "      <td>43</td>\n",
              "      <td>nah dont think goe usf live around though</td>\n",
              "      <td>nah dont think go usf life around though</td>\n",
              "    </tr>\n",
              "    <tr>\n",
              "      <th>6</th>\n",
              "      <td>0</td>\n",
              "      <td>even my brother is not like to speak with me. ...</td>\n",
              "      <td>even my brother is not like to speak with me t...</td>\n",
              "      <td>even brother like speak treat like aids patent</td>\n",
              "      <td>46</td>\n",
              "      <td>even brother like speak treat like aid patent</td>\n",
              "      <td>even brother like speak treat like aid patent</td>\n",
              "    </tr>\n",
              "  </tbody>\n",
              "</table>\n",
              "</div>"
            ],
            "text/plain": [
              "   target  ...                                    text_lemmatized\n",
              "0       0  ...  go jurong point crazy available bugis great wo...\n",
              "1       0  ...                              ok lar joking wif oni\n",
              "3       0  ...                      dun say early hor already say\n",
              "4       0  ...           nah dont think go usf life around though\n",
              "6       0  ...      even brother like speak treat like aid patent\n",
              "\n",
              "[5 rows x 7 columns]"
            ]
          },
          "metadata": {
            "tags": []
          },
          "execution_count": 21
        }
      ]
    },
    {
      "cell_type": "code",
      "metadata": {
        "id": "FKaIJKVnGOCn",
        "outputId": "c1716930-62dd-42e3-e515-c7b2ec72656a",
        "colab": {
          "base_uri": "https://localhost:8080/",
          "height": 374
        }
      },
      "source": [
        "df_spam.head()"
      ],
      "execution_count": 22,
      "outputs": [
        {
          "output_type": "execute_result",
          "data": {
            "text/html": [
              "<div>\n",
              "<style scoped>\n",
              "    .dataframe tbody tr th:only-of-type {\n",
              "        vertical-align: middle;\n",
              "    }\n",
              "\n",
              "    .dataframe tbody tr th {\n",
              "        vertical-align: top;\n",
              "    }\n",
              "\n",
              "    .dataframe thead th {\n",
              "        text-align: right;\n",
              "    }\n",
              "</style>\n",
              "<table border=\"1\" class=\"dataframe\">\n",
              "  <thead>\n",
              "    <tr style=\"text-align: right;\">\n",
              "      <th></th>\n",
              "      <th>target</th>\n",
              "      <th>text</th>\n",
              "      <th>text_wo_punct</th>\n",
              "      <th>text_wo_stop</th>\n",
              "      <th>length</th>\n",
              "      <th>text_stemmed</th>\n",
              "      <th>text_lemmatized</th>\n",
              "    </tr>\n",
              "  </thead>\n",
              "  <tbody>\n",
              "    <tr>\n",
              "      <th>2</th>\n",
              "      <td>1</td>\n",
              "      <td>free entry in 2 a wkly comp to win fa cup fina...</td>\n",
              "      <td>free entry in 2 a wkly comp to win fa cup fina...</td>\n",
              "      <td>free entry 2 wkly comp win fa cup final tkts 2...</td>\n",
              "      <td>135</td>\n",
              "      <td>free entri 2 wkli comp win fa cup final tkt 21...</td>\n",
              "      <td>free entry 2 wkly comp win fa cup final tkts 2...</td>\n",
              "    </tr>\n",
              "    <tr>\n",
              "      <th>5</th>\n",
              "      <td>1</td>\n",
              "      <td>freemsg hey there darling it's been 3 week's n...</td>\n",
              "      <td>freemsg hey there darling its been 3 weeks now...</td>\n",
              "      <td>freemsg darling 3 weeks word back like fun sti...</td>\n",
              "      <td>82</td>\n",
              "      <td>freemsg darl 3 week word back like fun still t...</td>\n",
              "      <td>freemsg darling 3 week word back like fun stil...</td>\n",
              "    </tr>\n",
              "    <tr>\n",
              "      <th>8</th>\n",
              "      <td>1</td>\n",
              "      <td>winner!! as a valued network customer you have...</td>\n",
              "      <td>winner as a valued network customer you have b...</td>\n",
              "      <td>winner valued network customer selected receiv...</td>\n",
              "      <td>122</td>\n",
              "      <td>winner valu network custom select receivea å£9...</td>\n",
              "      <td>winner value network customer select receivea ...</td>\n",
              "    </tr>\n",
              "    <tr>\n",
              "      <th>9</th>\n",
              "      <td>1</td>\n",
              "      <td>had your mobile 11 months or more? u r entitle...</td>\n",
              "      <td>had your mobile 11 months or more u r entitled...</td>\n",
              "      <td>mobile 11 months entitled update latest colour...</td>\n",
              "      <td>102</td>\n",
              "      <td>mobil 11 month entitl updat latest colour mobi...</td>\n",
              "      <td>mobile 11 month entitle update late colour mob...</td>\n",
              "    </tr>\n",
              "    <tr>\n",
              "      <th>11</th>\n",
              "      <td>1</td>\n",
              "      <td>six chances to win cash! from 100 to 20,000 po...</td>\n",
              "      <td>six chances to win cash from 100 to 20000 poun...</td>\n",
              "      <td>six chances win cash 100 20000 pounds txt csh1...</td>\n",
              "      <td>110</td>\n",
              "      <td>six chanc win cash 100 20000 pound txt csh11 s...</td>\n",
              "      <td>six chance win cash 100 20000 pound txt csh11 ...</td>\n",
              "    </tr>\n",
              "  </tbody>\n",
              "</table>\n",
              "</div>"
            ],
            "text/plain": [
              "    target  ...                                    text_lemmatized\n",
              "2        1  ...  free entry 2 wkly comp win fa cup final tkts 2...\n",
              "5        1  ...  freemsg darling 3 week word back like fun stil...\n",
              "8        1  ...  winner value network customer select receivea ...\n",
              "9        1  ...  mobile 11 month entitle update late colour mob...\n",
              "11       1  ...  six chance win cash 100 20000 pound txt csh11 ...\n",
              "\n",
              "[5 rows x 7 columns]"
            ]
          },
          "metadata": {
            "tags": []
          },
          "execution_count": 22
        }
      ]
    },
    {
      "cell_type": "code",
      "metadata": {
        "id": "vJKjRrHKIRbb"
      },
      "source": [
        ""
      ],
      "execution_count": 22,
      "outputs": []
    },
    {
      "cell_type": "code",
      "metadata": {
        "id": "ARPU3GdmGOAW",
        "outputId": "9a8e2cf8-32cc-4078-cb5b-ca1619deb08e",
        "colab": {
          "base_uri": "https://localhost:8080/",
          "height": 868
        }
      },
      "source": [
        "#!pip install h2o\n",
        "import h2o\n",
        "h2o.init()"
      ],
      "execution_count": 24,
      "outputs": [
        {
          "output_type": "stream",
          "text": [
            "Collecting h2o\n",
            "\u001b[?25l  Downloading https://files.pythonhosted.org/packages/bb/55/494a42e7509d0874aa444ae4cad0bc7439c936b40e563550fbfabb540275/h2o-3.30.1.3.tar.gz (129.4MB)\n",
            "\u001b[K     |████████████████████████████████| 129.4MB 98kB/s \n",
            "\u001b[?25hRequirement already satisfied: requests in /usr/local/lib/python3.6/dist-packages (from h2o) (2.23.0)\n",
            "Requirement already satisfied: tabulate in /usr/local/lib/python3.6/dist-packages (from h2o) (0.8.7)\n",
            "Requirement already satisfied: future in /usr/local/lib/python3.6/dist-packages (from h2o) (0.16.0)\n",
            "Collecting colorama>=0.3.8\n",
            "  Downloading https://files.pythonhosted.org/packages/44/98/5b86278fbbf250d239ae0ecb724f8572af1c91f4a11edf4d36a206189440/colorama-0.4.4-py2.py3-none-any.whl\n",
            "Requirement already satisfied: urllib3!=1.25.0,!=1.25.1,<1.26,>=1.21.1 in /usr/local/lib/python3.6/dist-packages (from requests->h2o) (1.24.3)\n",
            "Requirement already satisfied: chardet<4,>=3.0.2 in /usr/local/lib/python3.6/dist-packages (from requests->h2o) (3.0.4)\n",
            "Requirement already satisfied: idna<3,>=2.5 in /usr/local/lib/python3.6/dist-packages (from requests->h2o) (2.10)\n",
            "Requirement already satisfied: certifi>=2017.4.17 in /usr/local/lib/python3.6/dist-packages (from requests->h2o) (2020.6.20)\n",
            "Building wheels for collected packages: h2o\n",
            "  Building wheel for h2o (setup.py) ... \u001b[?25l\u001b[?25hdone\n",
            "  Created wheel for h2o: filename=h2o-3.30.1.3-py2.py3-none-any.whl size=129446676 sha256=8a2b58b3566d432fe77d2754f2ab619e6fb1f989f0e0ecc45f9c9eed2041a2f6\n",
            "  Stored in directory: /root/.cache/pip/wheels/3d/e6/07/53ce9be9cb61b33a79cb3ed1fc39f2dae84f6ee6fe1e373e5e\n",
            "Successfully built h2o\n",
            "Installing collected packages: colorama, h2o\n",
            "Successfully installed colorama-0.4.4 h2o-3.30.1.3\n",
            "Checking whether there is an H2O instance running at http://localhost:54321 ..... not found.\n",
            "Attempting to start a local H2O server...\n",
            "  Java Version: openjdk version \"11.0.9\" 2020-10-20; OpenJDK Runtime Environment (build 11.0.9+11-Ubuntu-0ubuntu1.18.04.1); OpenJDK 64-Bit Server VM (build 11.0.9+11-Ubuntu-0ubuntu1.18.04.1, mixed mode, sharing)\n",
            "  Starting server from /usr/local/lib/python3.6/dist-packages/h2o/backend/bin/h2o.jar\n",
            "  Ice root: /tmp/tmpz4kpd4or\n",
            "  JVM stdout: /tmp/tmpz4kpd4or/h2o_unknownUser_started_from_python.out\n",
            "  JVM stderr: /tmp/tmpz4kpd4or/h2o_unknownUser_started_from_python.err\n",
            "  Server is running at http://127.0.0.1:54321\n",
            "Connecting to H2O server at http://127.0.0.1:54321 ... successful.\n"
          ],
          "name": "stdout"
        },
        {
          "output_type": "display_data",
          "data": {
            "text/html": [
              "<div style=\"overflow:auto\"><table style=\"width:50%\"><tr><td>H2O_cluster_uptime:</td>\n",
              "<td>02 secs</td></tr>\n",
              "<tr><td>H2O_cluster_timezone:</td>\n",
              "<td>Etc/UTC</td></tr>\n",
              "<tr><td>H2O_data_parsing_timezone:</td>\n",
              "<td>UTC</td></tr>\n",
              "<tr><td>H2O_cluster_version:</td>\n",
              "<td>3.30.1.3</td></tr>\n",
              "<tr><td>H2O_cluster_version_age:</td>\n",
              "<td>1 month and 13 days </td></tr>\n",
              "<tr><td>H2O_cluster_name:</td>\n",
              "<td>H2O_from_python_unknownUser_evx7fc</td></tr>\n",
              "<tr><td>H2O_cluster_total_nodes:</td>\n",
              "<td>1</td></tr>\n",
              "<tr><td>H2O_cluster_free_memory:</td>\n",
              "<td>3.180 Gb</td></tr>\n",
              "<tr><td>H2O_cluster_total_cores:</td>\n",
              "<td>2</td></tr>\n",
              "<tr><td>H2O_cluster_allowed_cores:</td>\n",
              "<td>2</td></tr>\n",
              "<tr><td>H2O_cluster_status:</td>\n",
              "<td>accepting new members, healthy</td></tr>\n",
              "<tr><td>H2O_connection_url:</td>\n",
              "<td>http://127.0.0.1:54321</td></tr>\n",
              "<tr><td>H2O_connection_proxy:</td>\n",
              "<td>{\"http\": null, \"https\": null}</td></tr>\n",
              "<tr><td>H2O_internal_security:</td>\n",
              "<td>False</td></tr>\n",
              "<tr><td>H2O_API_Extensions:</td>\n",
              "<td>Amazon S3, XGBoost, Algos, AutoML, Core V3, TargetEncoder, Core V4</td></tr>\n",
              "<tr><td>Python_version:</td>\n",
              "<td>3.6.9 final</td></tr></table></div>"
            ],
            "text/plain": [
              "--------------------------  ------------------------------------------------------------------\n",
              "H2O_cluster_uptime:         02 secs\n",
              "H2O_cluster_timezone:       Etc/UTC\n",
              "H2O_data_parsing_timezone:  UTC\n",
              "H2O_cluster_version:        3.30.1.3\n",
              "H2O_cluster_version_age:    1 month and 13 days\n",
              "H2O_cluster_name:           H2O_from_python_unknownUser_evx7fc\n",
              "H2O_cluster_total_nodes:    1\n",
              "H2O_cluster_free_memory:    3.180 Gb\n",
              "H2O_cluster_total_cores:    2\n",
              "H2O_cluster_allowed_cores:  2\n",
              "H2O_cluster_status:         accepting new members, healthy\n",
              "H2O_connection_url:         http://127.0.0.1:54321\n",
              "H2O_connection_proxy:       {\"http\": null, \"https\": null}\n",
              "H2O_internal_security:      False\n",
              "H2O_API_Extensions:         Amazon S3, XGBoost, Algos, AutoML, Core V3, TargetEncoder, Core V4\n",
              "Python_version:             3.6.9 final\n",
              "--------------------------  ------------------------------------------------------------------"
            ]
          },
          "metadata": {
            "tags": []
          }
        }
      ]
    },
    {
      "cell_type": "code",
      "metadata": {
        "id": "mdqIT1h-GN7a"
      },
      "source": [
        "from h2o.estimators.word2vec import H2OWord2vecEstimator\n",
        "from h2o.estimators import H2OKMeansEstimator"
      ],
      "execution_count": 25,
      "outputs": []
    },
    {
      "cell_type": "code",
      "metadata": {
        "id": "yMsITMrOGN54"
      },
      "source": [
        "def tokenize(sentences, stop_word = stopwords):\n",
        "    tokenized = sentences.tokenize(\"\\\\W+\")\n",
        "    tokenized_lower = tokenized.tolower()\n",
        "    tokenized_filtered = tokenized_lower[(tokenized_lower.nchar() >= 2) | (tokenized_lower.isna()),:]\n",
        "    tokenized_words = tokenized_filtered[tokenized_filtered.grep(\"[0-9]\",invert=True,output_logical=True),:]\n",
        "    tokenized_words = tokenized_words[(tokenized_words.isna()) | (~ tokenized_words.isin(stopwords)),:]\n",
        "    return tokenized_words"
      ],
      "execution_count": 26,
      "outputs": []
    },
    {
      "cell_type": "code",
      "metadata": {
        "id": "05YnUhn5HYWR",
        "outputId": "c92d6936-9c0d-4066-ca81-373983f8b533",
        "colab": {
          "base_uri": "https://localhost:8080/"
        }
      },
      "source": [
        "spam = h2o.H2OFrame(df_spam, column_names=['target',\t'text',\n",
        "                          'text_wo_punct',\t'text_wo_stop',\n",
        "                        \t'length',\t'text_stemmed',\n",
        "                          'text_lemmatized'],\n",
        "                    column_types=[\"enum\", \"string\", \"string\",\"string\",\"string\",\\\n",
        "                                  \"string\",\"string\"])\n",
        "ham = h2o.H2OFrame(df_ham, column_names=['target',\t'text',\n",
        "                          'text_wo_punct',\t'text_wo_stop',\n",
        "                        \t'length',\t'text_stemmed',\n",
        "                          'text_lemmatized'],\n",
        "                    column_types=[\"enum\", \"string\", \"string\",\"string\",\"string\",\\\n",
        "                                  \"string\",\"string\"])                    \n",
        "                    "
      ],
      "execution_count": 27,
      "outputs": [
        {
          "output_type": "stream",
          "text": [
            "Parse progress: |█████████████████████████████████████████████████████████| 100%\n",
            "Parse progress: |█████████████████████████████████████████████████████████| 100%\n"
          ],
          "name": "stdout"
        }
      ]
    },
    {
      "cell_type": "code",
      "metadata": {
        "id": "tYD-KMv9HYSy"
      },
      "source": [
        ""
      ],
      "execution_count": 27,
      "outputs": []
    },
    {
      "cell_type": "code",
      "metadata": {
        "id": "2_QyjHfEKQ2Z"
      },
      "source": [
        "words_spam = tokenize(spam[\"text_lemmatized\"])\n",
        "words_ham = tokenize(ham[\"text_lemmatized\"])"
      ],
      "execution_count": 28,
      "outputs": []
    },
    {
      "cell_type": "code",
      "metadata": {
        "id": "TPK-b51Xi706",
        "outputId": "aaa181ff-ce6e-4e91-c75c-4785bd1b9e71",
        "colab": {
          "base_uri": "https://localhost:8080/"
        }
      },
      "source": [
        "words_ham.shape"
      ],
      "execution_count": 29,
      "outputs": [
        {
          "output_type": "execute_result",
          "data": {
            "text/plain": [
              "(39436, 1)"
            ]
          },
          "metadata": {
            "tags": []
          },
          "execution_count": 29
        }
      ]
    },
    {
      "cell_type": "code",
      "metadata": {
        "id": "FD5PY3xtKm2w",
        "outputId": "adc7b164-6db9-4204-8467-73d0e53da1c0",
        "colab": {
          "base_uri": "https://localhost:8080/"
        }
      },
      "source": [
        "print(\"Build word2vec model\")\n",
        "w2v_model_spam = H2OWord2vecEstimator(sent_sample_rate = 0.0, epochs = 10)\n",
        "w2v_model_ham = H2OWord2vecEstimator(sent_sample_rate = 0.0, epochs = 10)\n",
        "w2v_model_spam.train(training_frame=words_spam)\n",
        "w2v_model_ham.train(training_frame=words_ham)"
      ],
      "execution_count": 30,
      "outputs": [
        {
          "output_type": "stream",
          "text": [
            "Build word2vec model\n",
            "word2vec Model Build progress: |██████████████████████████████████████████| 100%\n",
            "word2vec Model Build progress: |██████████████████████████████████████████| 100%\n"
          ],
          "name": "stdout"
        }
      ]
    },
    {
      "cell_type": "code",
      "metadata": {
        "id": "mPs9DaqSMshp"
      },
      "source": [
        "spam_frame = w2v_model_spam.to_frame()\n",
        "ham_frame = w2v_model_ham.to_frame()"
      ],
      "execution_count": 31,
      "outputs": []
    },
    {
      "cell_type": "code",
      "metadata": {
        "id": "N9uWpUqpPmW_"
      },
      "source": [
        "X_spam = w2v_model_spam.transform(words_spam, aggregate_method = \"AVERAGE\")\n",
        "X_ham = w2v_model_ham.transform(words_ham, aggregate_method = \"AVERAGE\")"
      ],
      "execution_count": 32,
      "outputs": []
    },
    {
      "cell_type": "code",
      "metadata": {
        "id": "TzlL334-jh83",
        "outputId": "304a2758-0313-49ed-f375-ea56cf1712fa",
        "colab": {
          "base_uri": "https://localhost:8080/"
        }
      },
      "source": [
        "len(X_spam)"
      ],
      "execution_count": 33,
      "outputs": [
        {
          "output_type": "execute_result",
          "data": {
            "text/plain": [
              "747"
            ]
          },
          "metadata": {
            "tags": []
          },
          "execution_count": 33
        }
      ]
    },
    {
      "cell_type": "code",
      "metadata": {
        "id": "C0omijW4Pmbl",
        "outputId": "b790a79b-8783-4f69-bb49-8c455b77a4dc",
        "colab": {
          "base_uri": "https://localhost:8080/",
          "height": 563
        }
      },
      "source": [
        "wrd_kmeans_spam = H2OKMeansEstimator(k=10,\n",
        "                                 estimate_k=True,\n",
        "                                 standardize=False,\n",
        "                                 seed=1234)\n",
        "wrd_kmeans_spam.train(training_frame=X_spam,\n",
        "                  )\n",
        "\n",
        "# Eval performance:\n",
        "perf_spam = wrd_kmeans_spam.model_performance()\n",
        "\n",
        "#  Generate predictions on a validation set (if necessary):\n",
        "#pred = wr_kmeans.predict(valid)\n",
        "perf_spam"
      ],
      "execution_count": 34,
      "outputs": [
        {
          "output_type": "stream",
          "text": [
            "kmeans Model Build progress: |████████████████████████████████████████████| 100%\n",
            "\n",
            "ModelMetricsClustering: kmeans\n",
            "** Reported on train data. **\n",
            "\n",
            "MSE: NaN\n",
            "RMSE: NaN\n",
            "Total Within Cluster Sum of Square Error: 422.2466725065539\n",
            "Total Sum of Square Error to Grand Mean: 1054.620223186397\n",
            "Between Cluster Sum of Square Error: 632.373550679843\n",
            "\n",
            "Centroid Statistics: \n"
          ],
          "name": "stdout"
        },
        {
          "output_type": "display_data",
          "data": {
            "text/html": [
              "<div>\n",
              "<style scoped>\n",
              "    .dataframe tbody tr th:only-of-type {\n",
              "        vertical-align: middle;\n",
              "    }\n",
              "\n",
              "    .dataframe tbody tr th {\n",
              "        vertical-align: top;\n",
              "    }\n",
              "\n",
              "    .dataframe thead th {\n",
              "        text-align: right;\n",
              "    }\n",
              "</style>\n",
              "<table border=\"1\" class=\"dataframe\">\n",
              "  <thead>\n",
              "    <tr style=\"text-align: right;\">\n",
              "      <th></th>\n",
              "      <th></th>\n",
              "      <th>centroid</th>\n",
              "      <th>size</th>\n",
              "      <th>within_cluster_sum_of_squares</th>\n",
              "    </tr>\n",
              "  </thead>\n",
              "  <tbody>\n",
              "    <tr>\n",
              "      <th>0</th>\n",
              "      <td></td>\n",
              "      <td>1.0</td>\n",
              "      <td>66.0</td>\n",
              "      <td>35.281841</td>\n",
              "    </tr>\n",
              "    <tr>\n",
              "      <th>1</th>\n",
              "      <td></td>\n",
              "      <td>2.0</td>\n",
              "      <td>17.0</td>\n",
              "      <td>1.702263</td>\n",
              "    </tr>\n",
              "    <tr>\n",
              "      <th>2</th>\n",
              "      <td></td>\n",
              "      <td>3.0</td>\n",
              "      <td>40.0</td>\n",
              "      <td>34.482665</td>\n",
              "    </tr>\n",
              "    <tr>\n",
              "      <th>3</th>\n",
              "      <td></td>\n",
              "      <td>4.0</td>\n",
              "      <td>14.0</td>\n",
              "      <td>10.342040</td>\n",
              "    </tr>\n",
              "    <tr>\n",
              "      <th>4</th>\n",
              "      <td></td>\n",
              "      <td>5.0</td>\n",
              "      <td>181.0</td>\n",
              "      <td>96.045738</td>\n",
              "    </tr>\n",
              "    <tr>\n",
              "      <th>5</th>\n",
              "      <td></td>\n",
              "      <td>6.0</td>\n",
              "      <td>77.0</td>\n",
              "      <td>39.504154</td>\n",
              "    </tr>\n",
              "    <tr>\n",
              "      <th>6</th>\n",
              "      <td></td>\n",
              "      <td>7.0</td>\n",
              "      <td>108.0</td>\n",
              "      <td>58.055290</td>\n",
              "    </tr>\n",
              "    <tr>\n",
              "      <th>7</th>\n",
              "      <td></td>\n",
              "      <td>8.0</td>\n",
              "      <td>119.0</td>\n",
              "      <td>73.598820</td>\n",
              "    </tr>\n",
              "    <tr>\n",
              "      <th>8</th>\n",
              "      <td></td>\n",
              "      <td>9.0</td>\n",
              "      <td>63.0</td>\n",
              "      <td>46.269103</td>\n",
              "    </tr>\n",
              "    <tr>\n",
              "      <th>9</th>\n",
              "      <td></td>\n",
              "      <td>10.0</td>\n",
              "      <td>62.0</td>\n",
              "      <td>26.964758</td>\n",
              "    </tr>\n",
              "  </tbody>\n",
              "</table>\n",
              "</div>"
            ],
            "text/plain": [
              "     centroid   size  within_cluster_sum_of_squares\n",
              "0         1.0   66.0                      35.281841\n",
              "1         2.0   17.0                       1.702263\n",
              "2         3.0   40.0                      34.482665\n",
              "3         4.0   14.0                      10.342040\n",
              "4         5.0  181.0                      96.045738\n",
              "5         6.0   77.0                      39.504154\n",
              "6         7.0  108.0                      58.055290\n",
              "7         8.0  119.0                      73.598820\n",
              "8         9.0   63.0                      46.269103\n",
              "9        10.0   62.0                      26.964758"
            ]
          },
          "metadata": {
            "tags": []
          }
        },
        {
          "output_type": "execute_result",
          "data": {
            "text/plain": [
              ""
            ]
          },
          "metadata": {
            "tags": []
          },
          "execution_count": 34
        }
      ]
    },
    {
      "cell_type": "code",
      "metadata": {
        "id": "vAXsQ9FwPme5",
        "outputId": "f17bf5ab-ef9e-4cc5-8fee-6d4c1206cf1f",
        "colab": {
          "base_uri": "https://localhost:8080/",
          "height": 470
        }
      },
      "source": [
        "wrd_kmeans_ham = H2OKMeansEstimator(k=10,\n",
        "                                 estimate_k=True,\n",
        "                                 standardize=False,\n",
        "                                 seed=1234)\n",
        "wrd_kmeans_ham.train(training_frame=X_ham,\n",
        "                  )\n",
        "\n",
        "# Eval performance:\n",
        "perf_ham = wrd_kmeans_ham.model_performance()\n",
        "\n",
        "#  Generate predictions on a validation set (if necessary):\n",
        "#pred = wr_kmeans.predict(valid)\n",
        "perf_ham"
      ],
      "execution_count": 35,
      "outputs": [
        {
          "output_type": "stream",
          "text": [
            "kmeans Model Build progress: |████████████████████████████████████████████| 100%\n",
            "\n",
            "ModelMetricsClustering: kmeans\n",
            "** Reported on train data. **\n",
            "\n",
            "MSE: NaN\n",
            "RMSE: NaN\n",
            "Total Within Cluster Sum of Square Error: 2902.3968221218283\n",
            "Total Sum of Square Error to Grand Mean: 4343.775318679896\n",
            "Between Cluster Sum of Square Error: 1441.378496558068\n",
            "\n",
            "Centroid Statistics: \n"
          ],
          "name": "stdout"
        },
        {
          "output_type": "display_data",
          "data": {
            "text/html": [
              "<div>\n",
              "<style scoped>\n",
              "    .dataframe tbody tr th:only-of-type {\n",
              "        vertical-align: middle;\n",
              "    }\n",
              "\n",
              "    .dataframe tbody tr th {\n",
              "        vertical-align: top;\n",
              "    }\n",
              "\n",
              "    .dataframe thead th {\n",
              "        text-align: right;\n",
              "    }\n",
              "</style>\n",
              "<table border=\"1\" class=\"dataframe\">\n",
              "  <thead>\n",
              "    <tr style=\"text-align: right;\">\n",
              "      <th></th>\n",
              "      <th></th>\n",
              "      <th>centroid</th>\n",
              "      <th>size</th>\n",
              "      <th>within_cluster_sum_of_squares</th>\n",
              "    </tr>\n",
              "  </thead>\n",
              "  <tbody>\n",
              "    <tr>\n",
              "      <th>0</th>\n",
              "      <td></td>\n",
              "      <td>1.0</td>\n",
              "      <td>713.0</td>\n",
              "      <td>429.795729</td>\n",
              "    </tr>\n",
              "    <tr>\n",
              "      <th>1</th>\n",
              "      <td></td>\n",
              "      <td>2.0</td>\n",
              "      <td>274.0</td>\n",
              "      <td>267.263328</td>\n",
              "    </tr>\n",
              "    <tr>\n",
              "      <th>2</th>\n",
              "      <td></td>\n",
              "      <td>3.0</td>\n",
              "      <td>1697.0</td>\n",
              "      <td>779.612316</td>\n",
              "    </tr>\n",
              "    <tr>\n",
              "      <th>3</th>\n",
              "      <td></td>\n",
              "      <td>4.0</td>\n",
              "      <td>621.0</td>\n",
              "      <td>527.676534</td>\n",
              "    </tr>\n",
              "    <tr>\n",
              "      <th>4</th>\n",
              "      <td></td>\n",
              "      <td>5.0</td>\n",
              "      <td>234.0</td>\n",
              "      <td>161.916626</td>\n",
              "    </tr>\n",
              "    <tr>\n",
              "      <th>5</th>\n",
              "      <td></td>\n",
              "      <td>6.0</td>\n",
              "      <td>1125.0</td>\n",
              "      <td>566.741160</td>\n",
              "    </tr>\n",
              "    <tr>\n",
              "      <th>6</th>\n",
              "      <td></td>\n",
              "      <td>7.0</td>\n",
              "      <td>161.0</td>\n",
              "      <td>169.391129</td>\n",
              "    </tr>\n",
              "  </tbody>\n",
              "</table>\n",
              "</div>"
            ],
            "text/plain": [
              "     centroid    size  within_cluster_sum_of_squares\n",
              "0         1.0   713.0                     429.795729\n",
              "1         2.0   274.0                     267.263328\n",
              "2         3.0  1697.0                     779.612316\n",
              "3         4.0   621.0                     527.676534\n",
              "4         5.0   234.0                     161.916626\n",
              "5         6.0  1125.0                     566.741160\n",
              "6         7.0   161.0                     169.391129"
            ]
          },
          "metadata": {
            "tags": []
          }
        },
        {
          "output_type": "execute_result",
          "data": {
            "text/plain": [
              ""
            ]
          },
          "metadata": {
            "tags": []
          },
          "execution_count": 35
        }
      ]
    },
    {
      "cell_type": "code",
      "metadata": {
        "id": "J9OLuDDeLYQJ"
      },
      "source": [
        "X_spam_pd = X_spam.as_data_frame()\n",
        "X_ham_pd = X_ham.as_data_frame()\n"
      ],
      "execution_count": 36,
      "outputs": []
    },
    {
      "cell_type": "code",
      "metadata": {
        "id": "y1ke5Y-5NUls"
      },
      "source": [
        "from sklearn.cluster import KMeans\n",
        "from sklearn.metrics import silhouette_score\n",
        "from sklearn.decomposition import PCA\n",
        "from sklearn.preprocessing import MinMaxScaler,StandardScaler"
      ],
      "execution_count": 37,
      "outputs": []
    },
    {
      "cell_type": "code",
      "metadata": {
        "id": "sRx4M7XeL_a0"
      },
      "source": [
        "model_spam = PCA(n_components = 6)\n",
        "model_ham = PCA(n_components = 6)"
      ],
      "execution_count": 38,
      "outputs": []
    },
    {
      "cell_type": "code",
      "metadata": {
        "id": "rleiOrEkN2l5"
      },
      "source": [
        "def clean_dataset(df):\n",
        "    assert isinstance(df, pd.DataFrame)\n",
        "    df.dropna(inplace=True)\n",
        "    indices_to_keep = ~df.isin([np.nan, np.inf, -np.inf]).any(1)\n",
        "    return df[indices_to_keep].astype(np.float64)\n",
        "X_spam_pd = clean_dataset(X_spam_pd)\n",
        "X_ham_pd = clean_dataset(X_ham_pd)"
      ],
      "execution_count": 39,
      "outputs": []
    },
    {
      "cell_type": "code",
      "metadata": {
        "id": "U0nPGrlAWbOa"
      },
      "source": [
        "X_spam_pd = StandardScaler().fit(X_spam_pd).transform(X_spam_pd)\n",
        "X_ham_pd = StandardScaler().fit(X_ham_pd).transform(X_ham_pd)"
      ],
      "execution_count": 40,
      "outputs": []
    },
    {
      "cell_type": "code",
      "metadata": {
        "id": "B2G1qp50g2ON",
        "outputId": "c2e0b808-8c11-496c-c0a9-3614cd1ec462",
        "colab": {
          "base_uri": "https://localhost:8080/"
        }
      },
      "source": [
        "sil = []\n",
        "kmax = 12\n",
        "for k in range(2, kmax+1):\n",
        "  kmeans_spam_ = KMeans(n_clusters = k).fit(X_spam_pd)\n",
        "  labels_spam = kmeans_spam_.labels_\n",
        "  sil.append(silhouette_score(X_spam_pd, labels_spam, metric = 'euclidean'))\n",
        "        \n",
        "maxpos = sil.index(max(sil))\n",
        "n_clusters = maxpos + 2\n",
        "maxpos\n"
      ],
      "execution_count": 41,
      "outputs": [
        {
          "output_type": "execute_result",
          "data": {
            "text/plain": [
              "10"
            ]
          },
          "metadata": {
            "tags": []
          },
          "execution_count": 41
        }
      ]
    },
    {
      "cell_type": "code",
      "metadata": {
        "id": "karGhuN3hofg"
      },
      "source": [
        "kmeans_spam_ = KMeans(n_clusters = 5).fit(X_spam_pd)\n",
        "kmeans_ham_ = KMeans(n_clusters = 5).fit(X_ham_pd)"
      ],
      "execution_count": 46,
      "outputs": []
    },
    {
      "cell_type": "code",
      "metadata": {
        "id": "9W43n_qKifd2",
        "outputId": "2bf41a21-6ec0-4ed1-88a6-839bcdf25a37",
        "colab": {
          "base_uri": "https://localhost:8080/"
        }
      },
      "source": [
        "len(kmeans_spam_.labels_)"
      ],
      "execution_count": 47,
      "outputs": [
        {
          "output_type": "execute_result",
          "data": {
            "text/plain": [
              "745"
            ]
          },
          "metadata": {
            "tags": []
          },
          "execution_count": 47
        }
      ]
    },
    {
      "cell_type": "code",
      "metadata": {
        "id": "GH6yHbwSifax",
        "outputId": "62e2ccd4-9dd2-4f84-a334-99dee0dfffdc",
        "colab": {
          "base_uri": "https://localhost:8080/"
        }
      },
      "source": [
        "len(kmeans_ham_.labels_)"
      ],
      "execution_count": 48,
      "outputs": [
        {
          "output_type": "execute_result",
          "data": {
            "text/plain": [
              "4727"
            ]
          },
          "metadata": {
            "tags": []
          },
          "execution_count": 48
        }
      ]
    },
    {
      "cell_type": "code",
      "metadata": {
        "id": "YZCHy2u_XKTV"
      },
      "source": [
        "lab_ham = pd.Series(kmeans_ham_.labels_)\n",
        "df_ham['labels'] = lab_ham\n"
      ],
      "execution_count": null,
      "outputs": []
    },
    {
      "cell_type": "code",
      "metadata": {
        "id": "owuYpTFlbr_0"
      },
      "source": [
        "lab_spam = pd.Series(kmeans_spam_.labels_)\n",
        "df_spam['labels'] = lab_spam"
      ],
      "execution_count": 63,
      "outputs": []
    },
    {
      "cell_type": "code",
      "metadata": {
        "id": "Uoh8Xw4BbU0n",
        "outputId": "9644bd9b-3b4e-41ad-9b54-ab4cb12bdee6",
        "colab": {
          "base_uri": "https://localhost:8080/",
          "height": 1000
        }
      },
      "source": [
        "df_ham.head()"
      ],
      "execution_count": 61,
      "outputs": [
        {
          "output_type": "execute_result",
          "data": {
            "text/html": [
              "<div>\n",
              "<style scoped>\n",
              "    .dataframe tbody tr th:only-of-type {\n",
              "        vertical-align: middle;\n",
              "    }\n",
              "\n",
              "    .dataframe tbody tr th {\n",
              "        vertical-align: top;\n",
              "    }\n",
              "\n",
              "    .dataframe thead th {\n",
              "        text-align: right;\n",
              "    }\n",
              "</style>\n",
              "<table border=\"1\" class=\"dataframe\">\n",
              "  <thead>\n",
              "    <tr style=\"text-align: right;\">\n",
              "      <th></th>\n",
              "      <th>target</th>\n",
              "      <th>text</th>\n",
              "      <th>text_wo_punct</th>\n",
              "      <th>text_wo_stop</th>\n",
              "      <th>length</th>\n",
              "      <th>text_stemmed</th>\n",
              "      <th>text_lemmatized</th>\n",
              "      <th>labels</th>\n",
              "    </tr>\n",
              "  </thead>\n",
              "  <tbody>\n",
              "    <tr>\n",
              "      <th>0</th>\n",
              "      <td>0</td>\n",
              "      <td>go until jurong point, crazy.. available only in bugis n great wor...</td>\n",
              "      <td>go until jurong point crazy available only in bugis n great world ...</td>\n",
              "      <td>go jurong point crazy available bugis great world la buffet cine g...</td>\n",
              "      <td>78</td>\n",
              "      <td>go jurong point crazi avail bugi great world la buffet cine got am...</td>\n",
              "      <td>go jurong point crazy available bugis great world la buffet cine g...</td>\n",
              "      <td>2.0</td>\n",
              "    </tr>\n",
              "    <tr>\n",
              "      <th>1</th>\n",
              "      <td>0</td>\n",
              "      <td>ok lar... joking wif u oni...</td>\n",
              "      <td>ok lar joking wif u oni</td>\n",
              "      <td>ok lar joking wif oni</td>\n",
              "      <td>21</td>\n",
              "      <td>ok lar joke wif oni</td>\n",
              "      <td>ok lar joking wif oni</td>\n",
              "      <td>2.0</td>\n",
              "    </tr>\n",
              "    <tr>\n",
              "      <th>3</th>\n",
              "      <td>0</td>\n",
              "      <td>u dun say so early hor... u c already then say...</td>\n",
              "      <td>u dun say so early hor u c already then say</td>\n",
              "      <td>dun say early hor already say</td>\n",
              "      <td>29</td>\n",
              "      <td>dun say earli hor alreadi say</td>\n",
              "      <td>dun say early hor already say</td>\n",
              "      <td>3.0</td>\n",
              "    </tr>\n",
              "    <tr>\n",
              "      <th>4</th>\n",
              "      <td>0</td>\n",
              "      <td>nah i don't think he goes to usf, he lives around here though</td>\n",
              "      <td>nah i dont think he goes to usf he lives around here though</td>\n",
              "      <td>nah dont think goes usf lives around though</td>\n",
              "      <td>43</td>\n",
              "      <td>nah dont think goe usf live around though</td>\n",
              "      <td>nah dont think go usf life around though</td>\n",
              "      <td>3.0</td>\n",
              "    </tr>\n",
              "    <tr>\n",
              "      <th>6</th>\n",
              "      <td>0</td>\n",
              "      <td>even my brother is not like to speak with me. they treat me like a...</td>\n",
              "      <td>even my brother is not like to speak with me they treat me like ai...</td>\n",
              "      <td>even brother like speak treat like aids patent</td>\n",
              "      <td>46</td>\n",
              "      <td>even brother like speak treat like aid patent</td>\n",
              "      <td>even brother like speak treat like aid patent</td>\n",
              "      <td>3.0</td>\n",
              "    </tr>\n",
              "    <tr>\n",
              "      <th>7</th>\n",
              "      <td>0</td>\n",
              "      <td>as per your request 'melle melle (oru minnaminunginte nurungu vett...</td>\n",
              "      <td>as per your request melle melle oru minnaminunginte nurungu vettam...</td>\n",
              "      <td>per request melle melle oru minnaminunginte nurungu vettam set cal...</td>\n",
              "      <td>113</td>\n",
              "      <td>per request mell mell oru minnaminungint nurungu vettam set caller...</td>\n",
              "      <td>per request melle melle oru minnaminunginte nurungu vettam set cal...</td>\n",
              "      <td>0.0</td>\n",
              "    </tr>\n",
              "    <tr>\n",
              "      <th>10</th>\n",
              "      <td>0</td>\n",
              "      <td>i'm gonna be home soon and i don't want to talk about this stuff a...</td>\n",
              "      <td>im gonna be home soon and i dont want to talk about this stuff any...</td>\n",
              "      <td>gonna home soon dont want talk stuff anymore tonight k ive cried e...</td>\n",
              "      <td>77</td>\n",
              "      <td>gonna home soon dont want talk stuff anymor tonight k ive cri enou...</td>\n",
              "      <td>gonna home soon dont want talk stuff anymore tonight k ive cry eno...</td>\n",
              "      <td>0.0</td>\n",
              "    </tr>\n",
              "    <tr>\n",
              "      <th>13</th>\n",
              "      <td>0</td>\n",
              "      <td>i've been searching for the right words to thank you for this brea...</td>\n",
              "      <td>ive been searching for the right words to thank you for this breat...</td>\n",
              "      <td>ive searching right words thank breather promise wont take help gr...</td>\n",
              "      <td>111</td>\n",
              "      <td>ive search right word thank breather promis wont take help grant f...</td>\n",
              "      <td>ive search right word thank breather promise wont take help grant ...</td>\n",
              "      <td>3.0</td>\n",
              "    </tr>\n",
              "    <tr>\n",
              "      <th>14</th>\n",
              "      <td>0</td>\n",
              "      <td>i have a date on sunday with will!!</td>\n",
              "      <td>i have a date on sunday with will</td>\n",
              "      <td>date sunday</td>\n",
              "      <td>11</td>\n",
              "      <td>date sunday</td>\n",
              "      <td>date sunday</td>\n",
              "      <td>2.0</td>\n",
              "    </tr>\n",
              "    <tr>\n",
              "      <th>16</th>\n",
              "      <td>0</td>\n",
              "      <td>oh k...i'm watching here:)</td>\n",
              "      <td>oh kim watching here</td>\n",
              "      <td>oh kim watching</td>\n",
              "      <td>15</td>\n",
              "      <td>oh kim watch</td>\n",
              "      <td>oh kim watch</td>\n",
              "      <td>3.0</td>\n",
              "    </tr>\n",
              "    <tr>\n",
              "      <th>18</th>\n",
              "      <td>0</td>\n",
              "      <td>fine if thatåõs the way u feel. thatåõs the way its gota b</td>\n",
              "      <td>fine if thatåõs the way u feel thatåõs the way its gota b</td>\n",
              "      <td>fine thatåõs way feel thatåõs way gota</td>\n",
              "      <td>38</td>\n",
              "      <td>fine thatåõ way feel thatåõ way gota</td>\n",
              "      <td>fine thatåõs way feel thatåõs way gota</td>\n",
              "      <td>0.0</td>\n",
              "    </tr>\n",
              "    <tr>\n",
              "      <th>25</th>\n",
              "      <td>0</td>\n",
              "      <td>just forced myself to eat a slice. i'm really not hungry tho. this...</td>\n",
              "      <td>just forced myself to eat a slice im really not hungry tho this su...</td>\n",
              "      <td>forced eat slice really hungry sucks mark getting worried knows si...</td>\n",
              "      <td>83</td>\n",
              "      <td>forc eat slice realli hungri suck mark get worri know sick turn pi...</td>\n",
              "      <td>force eat slice really hungry suck mark get worried know sick turn...</td>\n",
              "      <td>4.0</td>\n",
              "    </tr>\n",
              "    <tr>\n",
              "      <th>26</th>\n",
              "      <td>0</td>\n",
              "      <td>lol your always so convincing.</td>\n",
              "      <td>lol your always so convincing</td>\n",
              "      <td>lol always convincing</td>\n",
              "      <td>21</td>\n",
              "      <td>lol alway convinc</td>\n",
              "      <td>lol always convince</td>\n",
              "      <td>2.0</td>\n",
              "    </tr>\n",
              "    <tr>\n",
              "      <th>29</th>\n",
              "      <td>0</td>\n",
              "      <td>ahhh. work. i vaguely remember that! what does it feel like? lol</td>\n",
              "      <td>ahhh work i vaguely remember that what does it feel like lol</td>\n",
              "      <td>ahhh work vaguely remember feel like lol</td>\n",
              "      <td>40</td>\n",
              "      <td>ahhh work vagu rememb feel like lol</td>\n",
              "      <td>ahhh work vaguely remember feel like lol</td>\n",
              "      <td>2.0</td>\n",
              "    </tr>\n",
              "    <tr>\n",
              "      <th>31</th>\n",
              "      <td>0</td>\n",
              "      <td>yeah he got in at 2 and was v apologetic. n had fallen out and she...</td>\n",
              "      <td>yeah he got in at 2 and was v apologetic n had fallen out and she ...</td>\n",
              "      <td>yeah got 2 apologetic fallen actin like spoilt child got caught ti...</td>\n",
              "      <td>91</td>\n",
              "      <td>yeah got 2 apologet fallen actin like spoilt child got caught till...</td>\n",
              "      <td>yeah get 2 apologetic fall actin like spoilt child get catch till ...</td>\n",
              "      <td>0.0</td>\n",
              "    </tr>\n",
              "    <tr>\n",
              "      <th>32</th>\n",
              "      <td>0</td>\n",
              "      <td>k tell me anything about you.</td>\n",
              "      <td>k tell me anything about you</td>\n",
              "      <td>k tell anything</td>\n",
              "      <td>15</td>\n",
              "      <td>k tell anyth</td>\n",
              "      <td>k tell anything</td>\n",
              "      <td>0.0</td>\n",
              "    </tr>\n",
              "    <tr>\n",
              "      <th>35</th>\n",
              "      <td>0</td>\n",
              "      <td>yup... ok i go home look at the timings then i msg ì_ again... xuh...</td>\n",
              "      <td>yup ok i go home look at the timings then i msg ì again xuhui goin...</td>\n",
              "      <td>yup ok go home look timings msg ì xuhui going learn 2nd may lesson...</td>\n",
              "      <td>70</td>\n",
              "      <td>yup ok go home look time msg ì xuhui go learn 2nd may lesson 8am</td>\n",
              "      <td>yup ok go home look timing msg ì xuhui go learn 2nd may lesson 8am</td>\n",
              "      <td>1.0</td>\n",
              "    </tr>\n",
              "    <tr>\n",
              "      <th>41</th>\n",
              "      <td>0</td>\n",
              "      <td>did i forget to tell you ? i want you , i need you, i crave you .....</td>\n",
              "      <td>did i forget to tell you  i want you  i need you i crave you  but ...</td>\n",
              "      <td>forget tell want crave love sweet arabian steed mmmmmm yummy</td>\n",
              "      <td>60</td>\n",
              "      <td>forget tell want crave love sweet arabian steed mmmmmm yummi</td>\n",
              "      <td>forget tell want crave love sweet arabian steed mmmmmm yummy</td>\n",
              "      <td>4.0</td>\n",
              "    </tr>\n",
              "    <tr>\n",
              "      <th>45</th>\n",
              "      <td>0</td>\n",
              "      <td>no calls..messages..missed calls</td>\n",
              "      <td>no callsmessagesmissed calls</td>\n",
              "      <td>callsmessagesmissed calls</td>\n",
              "      <td>25</td>\n",
              "      <td>callsmessagesmiss call</td>\n",
              "      <td>callsmessagesmissed call</td>\n",
              "      <td>1.0</td>\n",
              "    </tr>\n",
              "    <tr>\n",
              "      <th>57</th>\n",
              "      <td>0</td>\n",
              "      <td>sorry, i'll call later in meeting.</td>\n",
              "      <td>sorry ill call later in meeting</td>\n",
              "      <td>sorry call later meeting</td>\n",
              "      <td>24</td>\n",
              "      <td>sorri call later meet</td>\n",
              "      <td>sorry call later meeting</td>\n",
              "      <td>1.0</td>\n",
              "    </tr>\n",
              "    <tr>\n",
              "      <th>58</th>\n",
              "      <td>0</td>\n",
              "      <td>tell where you reached</td>\n",
              "      <td>tell where you reached</td>\n",
              "      <td>tell reached</td>\n",
              "      <td>12</td>\n",
              "      <td>tell reach</td>\n",
              "      <td>tell reach</td>\n",
              "      <td>1.0</td>\n",
              "    </tr>\n",
              "    <tr>\n",
              "      <th>61</th>\n",
              "      <td>0</td>\n",
              "      <td>ha ha ha good joke. girls are situation seekers.</td>\n",
              "      <td>ha ha ha good joke girls are situation seekers</td>\n",
              "      <td>good joke girls situation seekers</td>\n",
              "      <td>33</td>\n",
              "      <td>good joke girl situat seeker</td>\n",
              "      <td>good joke girl situation seeker</td>\n",
              "      <td>4.0</td>\n",
              "    </tr>\n",
              "    <tr>\n",
              "      <th>63</th>\n",
              "      <td>0</td>\n",
              "      <td>sorry my roommates took forever, it ok if i come by now?</td>\n",
              "      <td>sorry my roommates took forever it ok if i come by now</td>\n",
              "      <td>sorry roommates took forever ok come</td>\n",
              "      <td>36</td>\n",
              "      <td>sorri roommat took forev ok come</td>\n",
              "      <td>sorry roommate take forever ok come</td>\n",
              "      <td>1.0</td>\n",
              "    </tr>\n",
              "    <tr>\n",
              "      <th>66</th>\n",
              "      <td>0</td>\n",
              "      <td>today is \\song dedicated day..\\\" which song will u dedicate for me...</td>\n",
              "      <td>today is song dedicated day which song will u dedicate for me send...</td>\n",
              "      <td>today song dedicated day song dedicate send valuable frnds first rply</td>\n",
              "      <td>69</td>\n",
              "      <td>today song dedic day song dedic send valuabl frnd first rpli</td>\n",
              "      <td>today song dedicate day song dedicate send valuable frnds first rply</td>\n",
              "      <td>4.0</td>\n",
              "    </tr>\n",
              "    <tr>\n",
              "      <th>72</th>\n",
              "      <td>0</td>\n",
              "      <td>hi babe im at home now wanna do something? xx</td>\n",
              "      <td>hi babe im at home now wanna do something xx</td>\n",
              "      <td>babe home wanna something xx</td>\n",
              "      <td>28</td>\n",
              "      <td>babe home wanna someth xx</td>\n",
              "      <td>babe home wanna something xx</td>\n",
              "      <td>4.0</td>\n",
              "    </tr>\n",
              "    <tr>\n",
              "      <th>4727</th>\n",
              "      <td>0</td>\n",
              "      <td>i (career tel) have added u as a contact on indyarocks.com to send...</td>\n",
              "      <td>i career tel have added u as a contact on indyarockscom to send fr...</td>\n",
              "      <td>career tel added contact indyarockscom send free sms remove phoneb...</td>\n",
              "      <td>78</td>\n",
              "      <td>career tel ad contact indyarockscom send free sm remov phonebook s...</td>\n",
              "      <td>career tel add contact indyarockscom send free sm remove phonebook...</td>\n",
              "      <td>NaN</td>\n",
              "    </tr>\n",
              "    <tr>\n",
              "      <th>4728</th>\n",
              "      <td>0</td>\n",
              "      <td>i've reached already.</td>\n",
              "      <td>ive reached already</td>\n",
              "      <td>ive reached already</td>\n",
              "      <td>19</td>\n",
              "      <td>ive reach alreadi</td>\n",
              "      <td>ive reach already</td>\n",
              "      <td>NaN</td>\n",
              "    </tr>\n",
              "    <tr>\n",
              "      <th>4729</th>\n",
              "      <td>0</td>\n",
              "      <td>i dont know ask to my brother. nothing problem some thing that. ju...</td>\n",
              "      <td>i dont know ask to my brother nothing problem some thing that just...</td>\n",
              "      <td>dont know ask brother nothing problem thing told</td>\n",
              "      <td>48</td>\n",
              "      <td>dont know ask brother noth problem thing told</td>\n",
              "      <td>dont know ask brother nothing problem thing tell</td>\n",
              "      <td>NaN</td>\n",
              "    </tr>\n",
              "    <tr>\n",
              "      <th>4730</th>\n",
              "      <td>0</td>\n",
              "      <td>k:)eng rocking in ashes:)</td>\n",
              "      <td>keng rocking in ashes</td>\n",
              "      <td>keng rocking ashes</td>\n",
              "      <td>18</td>\n",
              "      <td>keng rock ash</td>\n",
              "      <td>keng rock ash</td>\n",
              "      <td>NaN</td>\n",
              "    </tr>\n",
              "    <tr>\n",
              "      <th>4731</th>\n",
              "      <td>0</td>\n",
              "      <td>wat time r ì_ going to xin's hostel?</td>\n",
              "      <td>wat time r ì going to xins hostel</td>\n",
              "      <td>wat time ì going xins hostel</td>\n",
              "      <td>28</td>\n",
              "      <td>wat time ì go xin hostel</td>\n",
              "      <td>wat time ì go xins hostel</td>\n",
              "      <td>NaN</td>\n",
              "    </tr>\n",
              "  </tbody>\n",
              "</table>\n",
              "</div>"
            ],
            "text/plain": [
              "      target  ... labels\n",
              "0          0  ...    2.0\n",
              "1          0  ...    2.0\n",
              "3          0  ...    3.0\n",
              "4          0  ...    3.0\n",
              "6          0  ...    3.0\n",
              "7          0  ...    0.0\n",
              "10         0  ...    0.0\n",
              "13         0  ...    3.0\n",
              "14         0  ...    2.0\n",
              "16         0  ...    3.0\n",
              "18         0  ...    0.0\n",
              "25         0  ...    4.0\n",
              "26         0  ...    2.0\n",
              "29         0  ...    2.0\n",
              "31         0  ...    0.0\n",
              "32         0  ...    0.0\n",
              "35         0  ...    1.0\n",
              "41         0  ...    4.0\n",
              "45         0  ...    1.0\n",
              "57         0  ...    1.0\n",
              "58         0  ...    1.0\n",
              "61         0  ...    4.0\n",
              "63         0  ...    1.0\n",
              "66         0  ...    4.0\n",
              "72         0  ...    4.0\n",
              "4727       0  ...    NaN\n",
              "4728       0  ...    NaN\n",
              "4729       0  ...    NaN\n",
              "4730       0  ...    NaN\n",
              "4731       0  ...    NaN\n",
              "\n",
              "[30 rows x 8 columns]"
            ]
          },
          "metadata": {
            "tags": []
          },
          "execution_count": 61
        }
      ]
    },
    {
      "cell_type": "code",
      "metadata": {
        "id": "H-JQfz63bzOA",
        "outputId": "5f1fa0f5-781c-47e6-e9aa-9f04c20ac90a",
        "colab": {
          "base_uri": "https://localhost:8080/",
          "height": 493
        }
      },
      "source": [
        "df_spam.head()"
      ],
      "execution_count": 64,
      "outputs": [
        {
          "output_type": "execute_result",
          "data": {
            "text/html": [
              "<div>\n",
              "<style scoped>\n",
              "    .dataframe tbody tr th:only-of-type {\n",
              "        vertical-align: middle;\n",
              "    }\n",
              "\n",
              "    .dataframe tbody tr th {\n",
              "        vertical-align: top;\n",
              "    }\n",
              "\n",
              "    .dataframe thead th {\n",
              "        text-align: right;\n",
              "    }\n",
              "</style>\n",
              "<table border=\"1\" class=\"dataframe\">\n",
              "  <thead>\n",
              "    <tr style=\"text-align: right;\">\n",
              "      <th></th>\n",
              "      <th>target</th>\n",
              "      <th>text</th>\n",
              "      <th>text_wo_punct</th>\n",
              "      <th>text_wo_stop</th>\n",
              "      <th>length</th>\n",
              "      <th>text_stemmed</th>\n",
              "      <th>text_lemmatized</th>\n",
              "      <th>labels</th>\n",
              "    </tr>\n",
              "  </thead>\n",
              "  <tbody>\n",
              "    <tr>\n",
              "      <th>2</th>\n",
              "      <td>1</td>\n",
              "      <td>free entry in 2 a wkly comp to win fa cup final tkts 21st may 2005...</td>\n",
              "      <td>free entry in 2 a wkly comp to win fa cup final tkts 21st may 2005...</td>\n",
              "      <td>free entry 2 wkly comp win fa cup final tkts 21st may 2005 text fa...</td>\n",
              "      <td>135</td>\n",
              "      <td>free entri 2 wkli comp win fa cup final tkt 21st may 2005 text fa ...</td>\n",
              "      <td>free entry 2 wkly comp win fa cup final tkts 21st may 2005 text fa...</td>\n",
              "      <td>2.0</td>\n",
              "    </tr>\n",
              "    <tr>\n",
              "      <th>5</th>\n",
              "      <td>1</td>\n",
              "      <td>freemsg hey there darling it's been 3 week's now and no word back!...</td>\n",
              "      <td>freemsg hey there darling its been 3 weeks now and no word back id...</td>\n",
              "      <td>freemsg darling 3 weeks word back like fun still tb ok xxx std chg...</td>\n",
              "      <td>82</td>\n",
              "      <td>freemsg darl 3 week word back like fun still tb ok xxx std chg sen...</td>\n",
              "      <td>freemsg darling 3 week word back like fun still tb ok xxx std chgs...</td>\n",
              "      <td>3.0</td>\n",
              "    </tr>\n",
              "    <tr>\n",
              "      <th>8</th>\n",
              "      <td>1</td>\n",
              "      <td>winner!! as a valued network customer you have been selected to re...</td>\n",
              "      <td>winner as a valued network customer you have been selected to rece...</td>\n",
              "      <td>winner valued network customer selected receivea å£900 prize rewar...</td>\n",
              "      <td>122</td>\n",
              "      <td>winner valu network custom select receivea å£900 prize reward clai...</td>\n",
              "      <td>winner value network customer select receivea å£900 prize reward c...</td>\n",
              "      <td>0.0</td>\n",
              "    </tr>\n",
              "    <tr>\n",
              "      <th>9</th>\n",
              "      <td>1</td>\n",
              "      <td>had your mobile 11 months or more? u r entitled to update to the l...</td>\n",
              "      <td>had your mobile 11 months or more u r entitled to update to the la...</td>\n",
              "      <td>mobile 11 months entitled update latest colour mobiles camera free...</td>\n",
              "      <td>102</td>\n",
              "      <td>mobil 11 month entitl updat latest colour mobil camera free call m...</td>\n",
              "      <td>mobile 11 month entitle update late colour mobile camera free call...</td>\n",
              "      <td>4.0</td>\n",
              "    </tr>\n",
              "    <tr>\n",
              "      <th>11</th>\n",
              "      <td>1</td>\n",
              "      <td>six chances to win cash! from 100 to 20,000 pounds txt&gt; csh11 and ...</td>\n",
              "      <td>six chances to win cash from 100 to 20000 pounds txt csh11 and sen...</td>\n",
              "      <td>six chances win cash 100 20000 pounds txt csh11 send 87575 cost 15...</td>\n",
              "      <td>110</td>\n",
              "      <td>six chanc win cash 100 20000 pound txt csh11 send 87575 cost 150pd...</td>\n",
              "      <td>six chance win cash 100 20000 pound txt csh11 send 87575 cost 150p...</td>\n",
              "      <td>0.0</td>\n",
              "    </tr>\n",
              "  </tbody>\n",
              "</table>\n",
              "</div>"
            ],
            "text/plain": [
              "    target  ... labels\n",
              "2        1  ...    2.0\n",
              "5        1  ...    3.0\n",
              "8        1  ...    0.0\n",
              "9        1  ...    4.0\n",
              "11       1  ...    0.0\n",
              "\n",
              "[5 rows x 8 columns]"
            ]
          },
          "metadata": {
            "tags": []
          },
          "execution_count": 64
        }
      ]
    },
    {
      "cell_type": "code",
      "metadata": {
        "id": "2pYUp0i8UjFj",
        "outputId": "de25d9b6-b70d-43be-cb46-3634101ad3f0",
        "colab": {
          "base_uri": "https://localhost:8080/"
        }
      },
      "source": [
        "results_spam = model_spam.fit(X_spam_pd) \n",
        "results_ham = model_ham.fit(X_ham_pd) \n",
        "print(results_spam, results_ham)"
      ],
      "execution_count": 44,
      "outputs": [
        {
          "output_type": "stream",
          "text": [
            "PCA(copy=True, iterated_power='auto', n_components=6, random_state=None,\n",
            "    svd_solver='auto', tol=0.0, whiten=False) PCA(copy=True, iterated_power='auto', n_components=6, random_state=None,\n",
            "    svd_solver='auto', tol=0.0, whiten=False)\n"
          ],
          "name": "stdout"
        }
      ]
    },
    {
      "cell_type": "code",
      "metadata": {
        "id": "b1GK6d2EUjDi"
      },
      "source": [
        "Z_spam = results_spam.transform(X_spam_pd) \n",
        "Z_ham = results_ham.transform(X_ham_pd)"
      ],
      "execution_count": null,
      "outputs": []
    },
    {
      "cell_type": "code",
      "metadata": {
        "id": "akExEos3UjBE",
        "outputId": "c135ed90-f9d4-47eb-f099-95ea20c182c4",
        "colab": {
          "base_uri": "https://localhost:8080/",
          "height": 265
        }
      },
      "source": [
        "plt.plot(results_ham.explained_variance_)#график каменистой осыпи\n",
        "plt.grid()\n",
        "plt.show()"
      ],
      "execution_count": null,
      "outputs": [
        {
          "output_type": "display_data",
          "data": {
            "image/png": "[encoded data removed]",
            "text/plain": [
              "<Figure size 432x288 with 1 Axes>"
            ]
          },
          "metadata": {
            "tags": [],
            "needs_background": "light"
          }
        }
      ]
    },
    {
      "cell_type": "markdown",
      "metadata": {
        "id": "ecjuCL9WWH4u"
      },
      "source": [
        "Значит у фрейма \"хам\" есть около 6 главных компонент\n"
      ]
    },
    {
      "cell_type": "code",
      "metadata": {
        "id": "K2xyKAyWUi_E",
        "outputId": "1f8e6290-b32c-499d-8acd-ca58cf08bdcc",
        "colab": {
          "base_uri": "https://localhost:8080/",
          "height": 268
        }
      },
      "source": [
        "plt.plot(results_spam.explained_variance_)#график каменистой осыпи\n",
        "plt.grid()\n",
        "plt.show()"
      ],
      "execution_count": null,
      "outputs": [
        {
          "output_type": "display_data",
          "data": {
            "image/png": "[encoded data removed]",
            "text/plain": [
              "<Figure size 432x288 with 1 Axes>"
            ]
          },
          "metadata": {
            "tags": [],
            "needs_background": "light"
          }
        }
      ]
    },
    {
      "cell_type": "code",
      "metadata": {
        "id": "e4v8G0P-Ui8p",
        "outputId": "a319e627-f066-4aff-c575-eef1e7723e49",
        "colab": {
          "base_uri": "https://localhost:8080/"
        }
      },
      "source": [
        "LV_spam=pd.DataFrame(results_spam.components_)\n",
        "LV_ham=pd.DataFrame(results_ham.components_)\n",
        "LV_spam.shape"
      ],
      "execution_count": null,
      "outputs": [
        {
          "output_type": "execute_result",
          "data": {
            "text/plain": [
              "(6, 100)"
            ]
          },
          "metadata": {
            "tags": []
          },
          "execution_count": 343
        }
      ]
    },
    {
      "cell_type": "code",
      "metadata": {
        "id": "HYkMKdpiRzSJ"
      },
      "source": [
        ""
      ],
      "execution_count": null,
      "outputs": []
    },
    {
      "cell_type": "code",
      "metadata": {
        "id": "FstQAI8JUCQr",
        "outputId": "45b97c38-2a59-47d1-f434-5c63494d8589",
        "colab": {
          "base_uri": "https://localhost:8080/"
        }
      },
      "source": [
        "kmeans_spam = KMeans(n_clusters = 5).fit(LV_spam)\n",
        "labels_spam = kmeans_spam.labels_\n",
        "print(silhouette_score(LV_spam, labels_spam, metric = 'euclidean'))"
      ],
      "execution_count": null,
      "outputs": [
        {
          "output_type": "stream",
          "text": [
            "2.616820764472959e-17\n"
          ],
          "name": "stdout"
        }
      ]
    },
    {
      "cell_type": "code",
      "metadata": {
        "id": "WXMlB9b6RzOM",
        "outputId": "ad75b931-fabf-48a2-90e3-260818bb7f89",
        "colab": {
          "base_uri": "https://localhost:8080/"
        }
      },
      "source": [
        "sil_ham = []\n",
        "kmax = 5\n",
        "for k in range(2, kmax+1):\n",
        "   kmeans_ham = KMeans(n_clusters = k).fit(LV_ham)\n",
        "   labels_ham = kmeans_ham.labels_\n",
        "   sil_ham.append(silhouette_score(LV_ham, labels_ham, metric = 'euclidean'))\n",
        "   print( silhouette_score(LV_ham, labels_ham, metric = 'euclidean'))\n",
        "maxpos_ham = sil_ham.index(max(sil_ham))\n",
        "n_clusters_ham = maxpos + 2\n",
        "maxpos_ham"
      ],
      "execution_count": null,
      "outputs": [
        {
          "output_type": "stream",
          "text": [
            "4.1869132231567344e-16\n",
            "1.8317745351310725e-16\n",
            "2.0934566115783685e-16\n",
            "2.6168207644729615e-17\n"
          ],
          "name": "stdout"
        },
        {
          "output_type": "execute_result",
          "data": {
            "text/plain": [
              "0"
            ]
          },
          "metadata": {
            "tags": []
          },
          "execution_count": 367
        }
      ]
    },
    {
      "cell_type": "code",
      "metadata": {
        "id": "q-coiPLdbel3"
      },
      "source": [
        "kmeans_ham = KMeans(n_clusters = k).fit(LV_ham)"
      ],
      "execution_count": null,
      "outputs": []
    },
    {
      "cell_type": "code",
      "metadata": {
        "id": "SrY1LPLhdjXQ",
        "outputId": "472eac00-d6d0-42e5-f5e4-67262924c0f2",
        "colab": {
          "base_uri": "https://localhost:8080/"
        }
      },
      "source": [
        "LV_ham.T.shape"
      ],
      "execution_count": null,
      "outputs": [
        {
          "output_type": "execute_result",
          "data": {
            "text/plain": [
              "(100, 6)"
            ]
          },
          "metadata": {
            "tags": []
          },
          "execution_count": 377
        }
      ]
    },
    {
      "cell_type": "code",
      "metadata": {
        "id": "yszDYI4QRzL_",
        "outputId": "eda5e75c-4982-490b-95c1-2f0d0ccd5cb8",
        "colab": {
          "base_uri": "https://localhost:8080/"
        }
      },
      "source": [
        "len(kmeans_ham.labels_)"
      ],
      "execution_count": null,
      "outputs": [
        {
          "output_type": "execute_result",
          "data": {
            "text/plain": [
              "6"
            ]
          },
          "metadata": {
            "tags": []
          },
          "execution_count": 374
        }
      ]
    },
    {
      "cell_type": "code",
      "metadata": {
        "id": "75hffkwaRzJh"
      },
      "source": [
        ""
      ],
      "execution_count": null,
      "outputs": []
    },
    {
      "cell_type": "code",
      "metadata": {
        "id": "TxN03wkyRzGg"
      },
      "source": [
        ""
      ],
      "execution_count": null,
      "outputs": []
    },
    {
      "cell_type": "code",
      "metadata": {
        "id": "5FTMjrPoL_YZ"
      },
      "source": [
        "results_spam = model_spam.fit(X_spam_pd) \n",
        "results_ham = model_ham.fit(X_ham_pd) \n",
        "print(results_spam, results_ham)"
      ],
      "execution_count": null,
      "outputs": []
    },
    {
      "cell_type": "code",
      "metadata": {
        "id": "qXJKHoYKL_WP"
      },
      "source": [
        ""
      ],
      "execution_count": null,
      "outputs": []
    },
    {
      "cell_type": "code",
      "metadata": {
        "id": "X6nWDpMJL_TS"
      },
      "source": [
        ""
      ],
      "execution_count": null,
      "outputs": []
    },
    {
      "cell_type": "code",
      "metadata": {
        "id": "qLEzfoJJR7V1"
      },
      "source": [
        "sil = []\n",
        "kmax = 10\n",
        "for k in range(2, kmax+1):\n",
        "   kmeans_spam = KMeans(n_clusters = k).fit(X_spam)\n",
        "   labels = kmeans_spam.labels_\n",
        "   sil.append(silhouette_score(X_spam, labels, metric = 'euclidean'))\n",
        "        \n",
        "maxpos = sil.index(max(sil))\n",
        "n_clusters = maxpos + 2"
      ],
      "execution_count": null,
      "outputs": []
    },
    {
      "cell_type": "code",
      "metadata": {
        "id": "8xYZhpZtPQuh"
      },
      "source": [
        ""
      ],
      "execution_count": null,
      "outputs": []
    },
    {
      "cell_type": "code",
      "metadata": {
        "id": "bJHUEM4hQDEH"
      },
      "source": [
        ""
      ],
      "execution_count": null,
      "outputs": []
    },
    {
      "cell_type": "code",
      "metadata": {
        "id": "RhSWV9OFTJZ_"
      },
      "source": [
        ""
      ],
      "execution_count": null,
      "outputs": []
    },
    {
      "cell_type": "code",
      "metadata": {
        "id": "qs5kOhC1bB6D"
      },
      "source": [
        ""
      ],
      "execution_count": null,
      "outputs": []
    },
    {
      "cell_type": "code",
      "metadata": {
        "id": "AKpzTOM9qAfV"
      },
      "source": [
        ""
      ],
      "execution_count": null,
      "outputs": []
    },
    {
      "cell_type": "code",
      "metadata": {
        "id": "DFQEL4LvnWLw"
      },
      "source": [
        ""
      ],
      "execution_count": null,
      "outputs": []
    },
    {
      "cell_type": "code",
      "metadata": {
        "id": "IiJB2GDznWJl"
      },
      "source": [
        ""
      ],
      "execution_count": null,
      "outputs": []
    },
    {
      "cell_type": "code",
      "metadata": {
        "id": "TbAGxyBKnWHT"
      },
      "source": [
        ""
      ],
      "execution_count": null,
      "outputs": []
    },
    {
      "cell_type": "code",
      "metadata": {
        "id": "aUxUQbSMbHOh"
      },
      "source": [
        ""
      ],
      "execution_count": null,
      "outputs": []
    },
    {
      "cell_type": "code",
      "metadata": {
        "id": "JLe9vfsEbHXd"
      },
      "source": [
        ""
      ],
      "execution_count": null,
      "outputs": []
    },
    {
      "cell_type": "code",
      "metadata": {
        "id": "dl4JrRzebHVR"
      },
      "source": [
        ""
      ],
      "execution_count": null,
      "outputs": []
    },
    {
      "cell_type": "code",
      "metadata": {
        "id": "tx-RYZOzgTOf"
      },
      "source": [
        ""
      ],
      "execution_count": null,
      "outputs": []
    },
    {
      "cell_type": "code",
      "metadata": {
        "id": "03-yqOf1aLda"
      },
      "source": [
        ""
      ],
      "execution_count": null,
      "outputs": []
    },
    {
      "cell_type": "code",
      "metadata": {
        "id": "93DZOUeth78i"
      },
      "source": [
        ""
      ],
      "execution_count": null,
      "outputs": []
    }
  ]
}