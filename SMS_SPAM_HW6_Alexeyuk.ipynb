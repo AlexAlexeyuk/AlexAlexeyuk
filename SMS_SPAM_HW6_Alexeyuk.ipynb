{
  "nbformat": 4,
  "nbformat_minor": 0,
  "metadata": {
    "colab": {
      "name": "SMS_SPAM_HW6_Alexeyuk.ipynb",
      "provenance": [],
      "collapsed_sections": [],
      "authorship_tag": "ABX9TyN04b5v8+zw8sO10iD2AIuc",
      "include_colab_link": true
    },
    "kernelspec": {
      "name": "python3",
      "display_name": "Python 3"
    }
  },
  "cells": [
    {
      "cell_type": "markdown",
      "metadata": {
        "id": "view-in-github",
        "colab_type": "text"
      },
      "source": [
        "<a href=\"https://colab.research.google.com/github/AlexAlexeyuk/AlexAlexeyuk/blob/master/SMS_SPAM_HW6_Alexeyuk.ipynb\" target=\"_parent\"><img src=\"https://colab.research.google.com/assets/colab-badge.svg\" alt=\"Open In Colab\"/></a>"
      ]
    },
    {
      "cell_type": "markdown",
      "metadata": {
        "id": "Y8ZQSwfqvRlI"
      },
      "source": [
        "**Цель**: \n",
        "**Задачи**:\n",
        "**Выводы**:"
      ]
    },
    {
      "cell_type": "code",
      "metadata": {
        "id": "9NNaXK-fEt79"
      },
      "source": [
        "import numpy as np\n",
        "import pandas as pd\n",
        "import re\n",
        "import nltk\n",
        "import spacy\n",
        "import string\n",
        "pd.options.mode.chained_assignment = None\n",
        "\n",
        "full_df = pd.read_csv(\"/content/spam.csv\", encoding='latin-1')\n",
        "df = full_df.iloc[:,:2]\n",
        "df = df.rename(columns={\"v1\":\"target\", \"v2\":\"text\"})"
      ],
      "execution_count": 90,
      "outputs": []
    },
    {
      "cell_type": "code",
      "metadata": {
        "id": "gkOV6tMjFjin",
        "outputId": "e8315809-6cc1-45a2-cdcb-882e68ac35f0",
        "colab": {
          "base_uri": "https://localhost:8080/",
          "height": 204
        }
      },
      "source": [
        "df[\"text\"] = df[\"text\"].str.lower()\n",
        "df.head()"
      ],
      "execution_count": 91,
      "outputs": [
        {
          "output_type": "execute_result",
          "data": {
            "text/html": [
              "<div>\n",
              "<style scoped>\n",
              "    .dataframe tbody tr th:only-of-type {\n",
              "        vertical-align: middle;\n",
              "    }\n",
              "\n",
              "    .dataframe tbody tr th {\n",
              "        vertical-align: top;\n",
              "    }\n",
              "\n",
              "    .dataframe thead th {\n",
              "        text-align: right;\n",
              "    }\n",
              "</style>\n",
              "<table border=\"1\" class=\"dataframe\">\n",
              "  <thead>\n",
              "    <tr style=\"text-align: right;\">\n",
              "      <th></th>\n",
              "      <th>target</th>\n",
              "      <th>text</th>\n",
              "    </tr>\n",
              "  </thead>\n",
              "  <tbody>\n",
              "    <tr>\n",
              "      <th>0</th>\n",
              "      <td>ham</td>\n",
              "      <td>go until jurong point, crazy.. available only in bugis n great wor...</td>\n",
              "    </tr>\n",
              "    <tr>\n",
              "      <th>1</th>\n",
              "      <td>ham</td>\n",
              "      <td>ok lar... joking wif u oni...</td>\n",
              "    </tr>\n",
              "    <tr>\n",
              "      <th>2</th>\n",
              "      <td>spam</td>\n",
              "      <td>free entry in 2 a wkly comp to win fa cup final tkts 21st may 2005...</td>\n",
              "    </tr>\n",
              "    <tr>\n",
              "      <th>3</th>\n",
              "      <td>ham</td>\n",
              "      <td>u dun say so early hor... u c already then say...</td>\n",
              "    </tr>\n",
              "    <tr>\n",
              "      <th>4</th>\n",
              "      <td>ham</td>\n",
              "      <td>nah i don't think he goes to usf, he lives around here though</td>\n",
              "    </tr>\n",
              "  </tbody>\n",
              "</table>\n",
              "</div>"
            ],
            "text/plain": [
              "  target                                                                   text\n",
              "0    ham  go until jurong point, crazy.. available only in bugis n great wor...\n",
              "1    ham                                          ok lar... joking wif u oni...\n",
              "2   spam  free entry in 2 a wkly comp to win fa cup final tkts 21st may 2005...\n",
              "3    ham                      u dun say so early hor... u c already then say...\n",
              "4    ham          nah i don't think he goes to usf, he lives around here though"
            ]
          },
          "metadata": {
            "tags": []
          },
          "execution_count": 91
        }
      ]
    },
    {
      "cell_type": "code",
      "metadata": {
        "id": "mbIejKMlFudu",
        "outputId": "66d1f6a7-1de4-4d95-e4d0-ff0282a2bdec",
        "colab": {
          "base_uri": "https://localhost:8080/",
          "height": 204
        }
      },
      "source": [
        "PUNCT_TO_REMOVE = string.punctuation\n",
        "def remove_punctuation(text):\n",
        "    \"\"\"custom function to remove the punctuation\"\"\"\n",
        "    return text.translate(str.maketrans('', '', PUNCT_TO_REMOVE))\n",
        "\n",
        "df[\"text_wo_punct\"] = df[\"text\"].apply(lambda text: remove_punctuation(text))\n",
        "df.head()"
      ],
      "execution_count": 92,
      "outputs": [
        {
          "output_type": "execute_result",
          "data": {
            "text/html": [
              "<div>\n",
              "<style scoped>\n",
              "    .dataframe tbody tr th:only-of-type {\n",
              "        vertical-align: middle;\n",
              "    }\n",
              "\n",
              "    .dataframe tbody tr th {\n",
              "        vertical-align: top;\n",
              "    }\n",
              "\n",
              "    .dataframe thead th {\n",
              "        text-align: right;\n",
              "    }\n",
              "</style>\n",
              "<table border=\"1\" class=\"dataframe\">\n",
              "  <thead>\n",
              "    <tr style=\"text-align: right;\">\n",
              "      <th></th>\n",
              "      <th>target</th>\n",
              "      <th>text</th>\n",
              "      <th>text_wo_punct</th>\n",
              "    </tr>\n",
              "  </thead>\n",
              "  <tbody>\n",
              "    <tr>\n",
              "      <th>0</th>\n",
              "      <td>ham</td>\n",
              "      <td>go until jurong point, crazy.. available only in bugis n great wor...</td>\n",
              "      <td>go until jurong point crazy available only in bugis n great world ...</td>\n",
              "    </tr>\n",
              "    <tr>\n",
              "      <th>1</th>\n",
              "      <td>ham</td>\n",
              "      <td>ok lar... joking wif u oni...</td>\n",
              "      <td>ok lar joking wif u oni</td>\n",
              "    </tr>\n",
              "    <tr>\n",
              "      <th>2</th>\n",
              "      <td>spam</td>\n",
              "      <td>free entry in 2 a wkly comp to win fa cup final tkts 21st may 2005...</td>\n",
              "      <td>free entry in 2 a wkly comp to win fa cup final tkts 21st may 2005...</td>\n",
              "    </tr>\n",
              "    <tr>\n",
              "      <th>3</th>\n",
              "      <td>ham</td>\n",
              "      <td>u dun say so early hor... u c already then say...</td>\n",
              "      <td>u dun say so early hor u c already then say</td>\n",
              "    </tr>\n",
              "    <tr>\n",
              "      <th>4</th>\n",
              "      <td>ham</td>\n",
              "      <td>nah i don't think he goes to usf, he lives around here though</td>\n",
              "      <td>nah i dont think he goes to usf he lives around here though</td>\n",
              "    </tr>\n",
              "  </tbody>\n",
              "</table>\n",
              "</div>"
            ],
            "text/plain": [
              "  target  ...                                                          text_wo_punct\n",
              "0    ham  ...  go until jurong point crazy available only in bugis n great world ...\n",
              "1    ham  ...                                                ok lar joking wif u oni\n",
              "2   spam  ...  free entry in 2 a wkly comp to win fa cup final tkts 21st may 2005...\n",
              "3    ham  ...                            u dun say so early hor u c already then say\n",
              "4    ham  ...            nah i dont think he goes to usf he lives around here though\n",
              "\n",
              "[5 rows x 3 columns]"
            ]
          },
          "metadata": {
            "tags": []
          },
          "execution_count": 92
        }
      ]
    },
    {
      "cell_type": "code",
      "metadata": {
        "id": "Io9N_Da8F29p"
      },
      "source": [
        "stopwords = \"i, me, my, myself, we, our, ours, ourselves, you, you're, you've, \\\n",
        "you'll, you'd, your, yours, yourself, yourselves, he, him, his, himself, she, \\\n",
        "she's, her, hers, herself, it, it's, its, itself, they, them, their, theirs, \\\n",
        "themselves, what, which, who, whom, this, that, that'll, these, those, am, is,\\\n",
        " are, was, were, be, been, being, have, has, had, having, do, does, did, doing,\\\n",
        "  a, an, the, and, but, if, or, because, as, until, while, of, at, by, for,\\\n",
        "   with, about, against, between, into, through, during, before, after, above,\\\n",
        "    below, to, from, up, down, in, out, on, off, over, under, again, further, \\\n",
        "    then, once, here, there, when, where, why, how, all, any, both, each, few,\\\n",
        "     more, most, other, some, such, no, nor, not, only, own, same, so, than, \\\n",
        "     too, very, s, t, can, will, just, don, don't, should, should've, now, d, \\\n",
        "     ll, m, o, re, ve, y, ain, aren, aren't, couldn, couldn't, didn, didn't, \\\n",
        "     doesn, doesn't, hadn, hadn't, hasn, hasn't, haven, haven't, isn, isn't, \\\n",
        "     ma, mightn, mightn't, mustn, mustn't, needn, needn't, shan, shan't,\\\n",
        "      shouldn, shouldn't, wasn, wasn't, weren, weren't, won, won't, wouldn,\\\n",
        "       wouldn't\"\n"
      ],
      "execution_count": 93,
      "outputs": []
    },
    {
      "cell_type": "code",
      "metadata": {
        "id": "skxi1NhyGD8F",
        "outputId": "06a31960-f215-49dc-90fd-ece75a29b391",
        "colab": {
          "base_uri": "https://localhost:8080/",
          "height": 272
        }
      },
      "source": [
        "def remove_stopwords(text):\n",
        "    \"\"\"custom function to remove the stopwords\"\"\"\n",
        "    return \" \".join([word for word in str(text).split() if word not in \\\n",
        "                     stopwords])\n",
        "\n",
        "df[\"text_wo_stop\"] = df[\"text_wo_punct\"].apply(lambda text:\\\n",
        "                                               remove_stopwords(text))\n",
        "df.head()"
      ],
      "execution_count": 94,
      "outputs": [
        {
          "output_type": "execute_result",
          "data": {
            "text/html": [
              "<div>\n",
              "<style scoped>\n",
              "    .dataframe tbody tr th:only-of-type {\n",
              "        vertical-align: middle;\n",
              "    }\n",
              "\n",
              "    .dataframe tbody tr th {\n",
              "        vertical-align: top;\n",
              "    }\n",
              "\n",
              "    .dataframe thead th {\n",
              "        text-align: right;\n",
              "    }\n",
              "</style>\n",
              "<table border=\"1\" class=\"dataframe\">\n",
              "  <thead>\n",
              "    <tr style=\"text-align: right;\">\n",
              "      <th></th>\n",
              "      <th>target</th>\n",
              "      <th>text</th>\n",
              "      <th>text_wo_punct</th>\n",
              "      <th>text_wo_stop</th>\n",
              "    </tr>\n",
              "  </thead>\n",
              "  <tbody>\n",
              "    <tr>\n",
              "      <th>0</th>\n",
              "      <td>ham</td>\n",
              "      <td>go until jurong point, crazy.. available only in bugis n great wor...</td>\n",
              "      <td>go until jurong point crazy available only in bugis n great world ...</td>\n",
              "      <td>go jurong point crazy available bugis great world la buffet cine g...</td>\n",
              "    </tr>\n",
              "    <tr>\n",
              "      <th>1</th>\n",
              "      <td>ham</td>\n",
              "      <td>ok lar... joking wif u oni...</td>\n",
              "      <td>ok lar joking wif u oni</td>\n",
              "      <td>ok lar joking wif oni</td>\n",
              "    </tr>\n",
              "    <tr>\n",
              "      <th>2</th>\n",
              "      <td>spam</td>\n",
              "      <td>free entry in 2 a wkly comp to win fa cup final tkts 21st may 2005...</td>\n",
              "      <td>free entry in 2 a wkly comp to win fa cup final tkts 21st may 2005...</td>\n",
              "      <td>free entry 2 wkly comp win fa cup final tkts 21st may 2005 text fa...</td>\n",
              "    </tr>\n",
              "    <tr>\n",
              "      <th>3</th>\n",
              "      <td>ham</td>\n",
              "      <td>u dun say so early hor... u c already then say...</td>\n",
              "      <td>u dun say so early hor u c already then say</td>\n",
              "      <td>dun say early hor already say</td>\n",
              "    </tr>\n",
              "    <tr>\n",
              "      <th>4</th>\n",
              "      <td>ham</td>\n",
              "      <td>nah i don't think he goes to usf, he lives around here though</td>\n",
              "      <td>nah i dont think he goes to usf he lives around here though</td>\n",
              "      <td>nah dont think goes usf lives around though</td>\n",
              "    </tr>\n",
              "  </tbody>\n",
              "</table>\n",
              "</div>"
            ],
            "text/plain": [
              "  target  ...                                                           text_wo_stop\n",
              "0    ham  ...  go jurong point crazy available bugis great world la buffet cine g...\n",
              "1    ham  ...                                                  ok lar joking wif oni\n",
              "2   spam  ...  free entry 2 wkly comp win fa cup final tkts 21st may 2005 text fa...\n",
              "3    ham  ...                                          dun say early hor already say\n",
              "4    ham  ...                            nah dont think goes usf lives around though\n",
              "\n",
              "[5 rows x 4 columns]"
            ]
          },
          "metadata": {
            "tags": []
          },
          "execution_count": 94
        }
      ]
    },
    {
      "cell_type": "code",
      "metadata": {
        "id": "-0BqM7Tw94ug",
        "outputId": "d741684c-7351-4d6a-d755-b6d1bbc92328",
        "colab": {
          "base_uri": "https://localhost:8080/",
          "height": 275
        }
      },
      "source": [
        "df.groupby(\"target\").describe()"
      ],
      "execution_count": 95,
      "outputs": [
        {
          "output_type": "execute_result",
          "data": {
            "text/html": [
              "<div>\n",
              "<style scoped>\n",
              "    .dataframe tbody tr th:only-of-type {\n",
              "        vertical-align: middle;\n",
              "    }\n",
              "\n",
              "    .dataframe tbody tr th {\n",
              "        vertical-align: top;\n",
              "    }\n",
              "\n",
              "    .dataframe thead tr th {\n",
              "        text-align: left;\n",
              "    }\n",
              "\n",
              "    .dataframe thead tr:last-of-type th {\n",
              "        text-align: right;\n",
              "    }\n",
              "</style>\n",
              "<table border=\"1\" class=\"dataframe\">\n",
              "  <thead>\n",
              "    <tr>\n",
              "      <th></th>\n",
              "      <th colspan=\"4\" halign=\"left\">text</th>\n",
              "      <th colspan=\"4\" halign=\"left\">text_wo_punct</th>\n",
              "      <th colspan=\"4\" halign=\"left\">text_wo_stop</th>\n",
              "    </tr>\n",
              "    <tr>\n",
              "      <th></th>\n",
              "      <th>count</th>\n",
              "      <th>unique</th>\n",
              "      <th>top</th>\n",
              "      <th>freq</th>\n",
              "      <th>count</th>\n",
              "      <th>unique</th>\n",
              "      <th>top</th>\n",
              "      <th>freq</th>\n",
              "      <th>count</th>\n",
              "      <th>unique</th>\n",
              "      <th>top</th>\n",
              "      <th>freq</th>\n",
              "    </tr>\n",
              "    <tr>\n",
              "      <th>target</th>\n",
              "      <th></th>\n",
              "      <th></th>\n",
              "      <th></th>\n",
              "      <th></th>\n",
              "      <th></th>\n",
              "      <th></th>\n",
              "      <th></th>\n",
              "      <th></th>\n",
              "      <th></th>\n",
              "      <th></th>\n",
              "      <th></th>\n",
              "      <th></th>\n",
              "    </tr>\n",
              "  </thead>\n",
              "  <tbody>\n",
              "    <tr>\n",
              "      <th>ham</th>\n",
              "      <td>4825</td>\n",
              "      <td>4515</td>\n",
              "      <td>sorry, i'll call later</td>\n",
              "      <td>30</td>\n",
              "      <td>4825</td>\n",
              "      <td>4499</td>\n",
              "      <td>sorry ill call later</td>\n",
              "      <td>30</td>\n",
              "      <td>4825</td>\n",
              "      <td>4472</td>\n",
              "      <td>sorry call later</td>\n",
              "      <td>30</td>\n",
              "    </tr>\n",
              "    <tr>\n",
              "      <th>spam</th>\n",
              "      <td>747</td>\n",
              "      <td>653</td>\n",
              "      <td>please call our customer service representative on freephone 0808 ...</td>\n",
              "      <td>4</td>\n",
              "      <td>747</td>\n",
              "      <td>643</td>\n",
              "      <td>please call our customer service representative on freephone 0808 ...</td>\n",
              "      <td>4</td>\n",
              "      <td>747</td>\n",
              "      <td>629</td>\n",
              "      <td>please call customer service representative freephone 0808 145 474...</td>\n",
              "      <td>4</td>\n",
              "    </tr>\n",
              "  </tbody>\n",
              "</table>\n",
              "</div>"
            ],
            "text/plain": [
              "        text  ... text_wo_stop\n",
              "       count  ...         freq\n",
              "target        ...             \n",
              "ham     4825  ...           30\n",
              "spam     747  ...            4\n",
              "\n",
              "[2 rows x 12 columns]"
            ]
          },
          "metadata": {
            "tags": []
          },
          "execution_count": 95
        }
      ]
    },
    {
      "cell_type": "code",
      "metadata": {
        "id": "yihNUPqm-M_r",
        "outputId": "efbd7b7c-c0e7-46c7-f463-e0443efdb5be",
        "colab": {
          "base_uri": "https://localhost:8080/",
          "height": 735
        }
      },
      "source": [
        "df['target'] = df['target'].map( {'spam': 1, 'ham': 0} ).astype(int)\n",
        "df.head(15)"
      ],
      "execution_count": 96,
      "outputs": [
        {
          "output_type": "execute_result",
          "data": {
            "text/html": [
              "<div>\n",
              "<style scoped>\n",
              "    .dataframe tbody tr th:only-of-type {\n",
              "        vertical-align: middle;\n",
              "    }\n",
              "\n",
              "    .dataframe tbody tr th {\n",
              "        vertical-align: top;\n",
              "    }\n",
              "\n",
              "    .dataframe thead th {\n",
              "        text-align: right;\n",
              "    }\n",
              "</style>\n",
              "<table border=\"1\" class=\"dataframe\">\n",
              "  <thead>\n",
              "    <tr style=\"text-align: right;\">\n",
              "      <th></th>\n",
              "      <th>target</th>\n",
              "      <th>text</th>\n",
              "      <th>text_wo_punct</th>\n",
              "      <th>text_wo_stop</th>\n",
              "    </tr>\n",
              "  </thead>\n",
              "  <tbody>\n",
              "    <tr>\n",
              "      <th>0</th>\n",
              "      <td>0</td>\n",
              "      <td>go until jurong point, crazy.. available only in bugis n great wor...</td>\n",
              "      <td>go until jurong point crazy available only in bugis n great world ...</td>\n",
              "      <td>go jurong point crazy available bugis great world la buffet cine g...</td>\n",
              "    </tr>\n",
              "    <tr>\n",
              "      <th>1</th>\n",
              "      <td>0</td>\n",
              "      <td>ok lar... joking wif u oni...</td>\n",
              "      <td>ok lar joking wif u oni</td>\n",
              "      <td>ok lar joking wif oni</td>\n",
              "    </tr>\n",
              "    <tr>\n",
              "      <th>2</th>\n",
              "      <td>1</td>\n",
              "      <td>free entry in 2 a wkly comp to win fa cup final tkts 21st may 2005...</td>\n",
              "      <td>free entry in 2 a wkly comp to win fa cup final tkts 21st may 2005...</td>\n",
              "      <td>free entry 2 wkly comp win fa cup final tkts 21st may 2005 text fa...</td>\n",
              "    </tr>\n",
              "    <tr>\n",
              "      <th>3</th>\n",
              "      <td>0</td>\n",
              "      <td>u dun say so early hor... u c already then say...</td>\n",
              "      <td>u dun say so early hor u c already then say</td>\n",
              "      <td>dun say early hor already say</td>\n",
              "    </tr>\n",
              "    <tr>\n",
              "      <th>4</th>\n",
              "      <td>0</td>\n",
              "      <td>nah i don't think he goes to usf, he lives around here though</td>\n",
              "      <td>nah i dont think he goes to usf he lives around here though</td>\n",
              "      <td>nah dont think goes usf lives around though</td>\n",
              "    </tr>\n",
              "    <tr>\n",
              "      <th>5</th>\n",
              "      <td>1</td>\n",
              "      <td>freemsg hey there darling it's been 3 week's now and no word back!...</td>\n",
              "      <td>freemsg hey there darling its been 3 weeks now and no word back id...</td>\n",
              "      <td>freemsg darling 3 weeks word back like fun still tb ok xxx std chg...</td>\n",
              "    </tr>\n",
              "    <tr>\n",
              "      <th>6</th>\n",
              "      <td>0</td>\n",
              "      <td>even my brother is not like to speak with me. they treat me like a...</td>\n",
              "      <td>even my brother is not like to speak with me they treat me like ai...</td>\n",
              "      <td>even brother like speak treat like aids patent</td>\n",
              "    </tr>\n",
              "    <tr>\n",
              "      <th>7</th>\n",
              "      <td>0</td>\n",
              "      <td>as per your request 'melle melle (oru minnaminunginte nurungu vett...</td>\n",
              "      <td>as per your request melle melle oru minnaminunginte nurungu vettam...</td>\n",
              "      <td>per request melle melle oru minnaminunginte nurungu vettam set cal...</td>\n",
              "    </tr>\n",
              "    <tr>\n",
              "      <th>8</th>\n",
              "      <td>1</td>\n",
              "      <td>winner!! as a valued network customer you have been selected to re...</td>\n",
              "      <td>winner as a valued network customer you have been selected to rece...</td>\n",
              "      <td>winner valued network customer selected receivea å£900 prize rewar...</td>\n",
              "    </tr>\n",
              "    <tr>\n",
              "      <th>9</th>\n",
              "      <td>1</td>\n",
              "      <td>had your mobile 11 months or more? u r entitled to update to the l...</td>\n",
              "      <td>had your mobile 11 months or more u r entitled to update to the la...</td>\n",
              "      <td>mobile 11 months entitled update latest colour mobiles camera free...</td>\n",
              "    </tr>\n",
              "    <tr>\n",
              "      <th>10</th>\n",
              "      <td>0</td>\n",
              "      <td>i'm gonna be home soon and i don't want to talk about this stuff a...</td>\n",
              "      <td>im gonna be home soon and i dont want to talk about this stuff any...</td>\n",
              "      <td>gonna home soon dont want talk stuff anymore tonight k ive cried e...</td>\n",
              "    </tr>\n",
              "    <tr>\n",
              "      <th>11</th>\n",
              "      <td>1</td>\n",
              "      <td>six chances to win cash! from 100 to 20,000 pounds txt&gt; csh11 and ...</td>\n",
              "      <td>six chances to win cash from 100 to 20000 pounds txt csh11 and sen...</td>\n",
              "      <td>six chances win cash 100 20000 pounds txt csh11 send 87575 cost 15...</td>\n",
              "    </tr>\n",
              "    <tr>\n",
              "      <th>12</th>\n",
              "      <td>1</td>\n",
              "      <td>urgent! you have won a 1 week free membership in our å£100,000 pri...</td>\n",
              "      <td>urgent you have won a 1 week free membership in our å£100000 prize...</td>\n",
              "      <td>urgent 1 week free membership å£100000 prize jackpot txt word clai...</td>\n",
              "    </tr>\n",
              "    <tr>\n",
              "      <th>13</th>\n",
              "      <td>0</td>\n",
              "      <td>i've been searching for the right words to thank you for this brea...</td>\n",
              "      <td>ive been searching for the right words to thank you for this breat...</td>\n",
              "      <td>ive searching right words thank breather promise wont take help gr...</td>\n",
              "    </tr>\n",
              "    <tr>\n",
              "      <th>14</th>\n",
              "      <td>0</td>\n",
              "      <td>i have a date on sunday with will!!</td>\n",
              "      <td>i have a date on sunday with will</td>\n",
              "      <td>date sunday</td>\n",
              "    </tr>\n",
              "  </tbody>\n",
              "</table>\n",
              "</div>"
            ],
            "text/plain": [
              "    target  ...                                                           text_wo_stop\n",
              "0        0  ...  go jurong point crazy available bugis great world la buffet cine g...\n",
              "1        0  ...                                                  ok lar joking wif oni\n",
              "2        1  ...  free entry 2 wkly comp win fa cup final tkts 21st may 2005 text fa...\n",
              "3        0  ...                                          dun say early hor already say\n",
              "4        0  ...                            nah dont think goes usf lives around though\n",
              "5        1  ...  freemsg darling 3 weeks word back like fun still tb ok xxx std chg...\n",
              "6        0  ...                         even brother like speak treat like aids patent\n",
              "7        0  ...  per request melle melle oru minnaminunginte nurungu vettam set cal...\n",
              "8        1  ...  winner valued network customer selected receivea å£900 prize rewar...\n",
              "9        1  ...  mobile 11 months entitled update latest colour mobiles camera free...\n",
              "10       0  ...  gonna home soon dont want talk stuff anymore tonight k ive cried e...\n",
              "11       1  ...  six chances win cash 100 20000 pounds txt csh11 send 87575 cost 15...\n",
              "12       1  ...  urgent 1 week free membership å£100000 prize jackpot txt word clai...\n",
              "13       0  ...  ive searching right words thank breather promise wont take help gr...\n",
              "14       0  ...                                                            date sunday\n",
              "\n",
              "[15 rows x 4 columns]"
            ]
          },
          "metadata": {
            "tags": []
          },
          "execution_count": 96
        }
      ]
    },
    {
      "cell_type": "code",
      "metadata": {
        "id": "GLqAgMaj-NHB"
      },
      "source": [
        "df['length'] = df['text_wo_stop'].apply(len)"
      ],
      "execution_count": 97,
      "outputs": []
    },
    {
      "cell_type": "code",
      "metadata": {
        "id": "sFEX-JS7-NFB",
        "outputId": "b36e3969-4276-4c6c-9b98-2e6d2c03a50d",
        "colab": {
          "base_uri": "https://localhost:8080/",
          "height": 529
        }
      },
      "source": [
        "df.head(10)"
      ],
      "execution_count": 98,
      "outputs": [
        {
          "output_type": "execute_result",
          "data": {
            "text/html": [
              "<div>\n",
              "<style scoped>\n",
              "    .dataframe tbody tr th:only-of-type {\n",
              "        vertical-align: middle;\n",
              "    }\n",
              "\n",
              "    .dataframe tbody tr th {\n",
              "        vertical-align: top;\n",
              "    }\n",
              "\n",
              "    .dataframe thead th {\n",
              "        text-align: right;\n",
              "    }\n",
              "</style>\n",
              "<table border=\"1\" class=\"dataframe\">\n",
              "  <thead>\n",
              "    <tr style=\"text-align: right;\">\n",
              "      <th></th>\n",
              "      <th>target</th>\n",
              "      <th>text</th>\n",
              "      <th>text_wo_punct</th>\n",
              "      <th>text_wo_stop</th>\n",
              "      <th>length</th>\n",
              "    </tr>\n",
              "  </thead>\n",
              "  <tbody>\n",
              "    <tr>\n",
              "      <th>0</th>\n",
              "      <td>0</td>\n",
              "      <td>go until jurong point, crazy.. available only in bugis n great wor...</td>\n",
              "      <td>go until jurong point crazy available only in bugis n great world ...</td>\n",
              "      <td>go jurong point crazy available bugis great world la buffet cine g...</td>\n",
              "      <td>78</td>\n",
              "    </tr>\n",
              "    <tr>\n",
              "      <th>1</th>\n",
              "      <td>0</td>\n",
              "      <td>ok lar... joking wif u oni...</td>\n",
              "      <td>ok lar joking wif u oni</td>\n",
              "      <td>ok lar joking wif oni</td>\n",
              "      <td>21</td>\n",
              "    </tr>\n",
              "    <tr>\n",
              "      <th>2</th>\n",
              "      <td>1</td>\n",
              "      <td>free entry in 2 a wkly comp to win fa cup final tkts 21st may 2005...</td>\n",
              "      <td>free entry in 2 a wkly comp to win fa cup final tkts 21st may 2005...</td>\n",
              "      <td>free entry 2 wkly comp win fa cup final tkts 21st may 2005 text fa...</td>\n",
              "      <td>135</td>\n",
              "    </tr>\n",
              "    <tr>\n",
              "      <th>3</th>\n",
              "      <td>0</td>\n",
              "      <td>u dun say so early hor... u c already then say...</td>\n",
              "      <td>u dun say so early hor u c already then say</td>\n",
              "      <td>dun say early hor already say</td>\n",
              "      <td>29</td>\n",
              "    </tr>\n",
              "    <tr>\n",
              "      <th>4</th>\n",
              "      <td>0</td>\n",
              "      <td>nah i don't think he goes to usf, he lives around here though</td>\n",
              "      <td>nah i dont think he goes to usf he lives around here though</td>\n",
              "      <td>nah dont think goes usf lives around though</td>\n",
              "      <td>43</td>\n",
              "    </tr>\n",
              "    <tr>\n",
              "      <th>5</th>\n",
              "      <td>1</td>\n",
              "      <td>freemsg hey there darling it's been 3 week's now and no word back!...</td>\n",
              "      <td>freemsg hey there darling its been 3 weeks now and no word back id...</td>\n",
              "      <td>freemsg darling 3 weeks word back like fun still tb ok xxx std chg...</td>\n",
              "      <td>82</td>\n",
              "    </tr>\n",
              "    <tr>\n",
              "      <th>6</th>\n",
              "      <td>0</td>\n",
              "      <td>even my brother is not like to speak with me. they treat me like a...</td>\n",
              "      <td>even my brother is not like to speak with me they treat me like ai...</td>\n",
              "      <td>even brother like speak treat like aids patent</td>\n",
              "      <td>46</td>\n",
              "    </tr>\n",
              "    <tr>\n",
              "      <th>7</th>\n",
              "      <td>0</td>\n",
              "      <td>as per your request 'melle melle (oru minnaminunginte nurungu vett...</td>\n",
              "      <td>as per your request melle melle oru minnaminunginte nurungu vettam...</td>\n",
              "      <td>per request melle melle oru minnaminunginte nurungu vettam set cal...</td>\n",
              "      <td>113</td>\n",
              "    </tr>\n",
              "    <tr>\n",
              "      <th>8</th>\n",
              "      <td>1</td>\n",
              "      <td>winner!! as a valued network customer you have been selected to re...</td>\n",
              "      <td>winner as a valued network customer you have been selected to rece...</td>\n",
              "      <td>winner valued network customer selected receivea å£900 prize rewar...</td>\n",
              "      <td>122</td>\n",
              "    </tr>\n",
              "    <tr>\n",
              "      <th>9</th>\n",
              "      <td>1</td>\n",
              "      <td>had your mobile 11 months or more? u r entitled to update to the l...</td>\n",
              "      <td>had your mobile 11 months or more u r entitled to update to the la...</td>\n",
              "      <td>mobile 11 months entitled update latest colour mobiles camera free...</td>\n",
              "      <td>102</td>\n",
              "    </tr>\n",
              "  </tbody>\n",
              "</table>\n",
              "</div>"
            ],
            "text/plain": [
              "   target  ... length\n",
              "0       0  ...     78\n",
              "1       0  ...     21\n",
              "2       1  ...    135\n",
              "3       0  ...     29\n",
              "4       0  ...     43\n",
              "5       1  ...     82\n",
              "6       0  ...     46\n",
              "7       0  ...    113\n",
              "8       1  ...    122\n",
              "9       1  ...    102\n",
              "\n",
              "[10 rows x 5 columns]"
            ]
          },
          "metadata": {
            "tags": []
          },
          "execution_count": 98
        }
      ]
    },
    {
      "cell_type": "code",
      "metadata": {
        "id": "182-Wcw_-NDX",
        "outputId": "7201b648-aacb-467d-c6e8-2567c00e8226",
        "colab": {
          "base_uri": "https://localhost:8080/",
          "height": 289
        }
      },
      "source": [
        "import matplotlib.pyplot as plt\n",
        "\n",
        "df.hist(column='length',by='target',bins=60,figsize=(12,4));\n",
        "plt.xlim(-40,950);"
      ],
      "execution_count": 99,
      "outputs": [
        {
          "output_type": "display_data",
          "data": {
            "image/png": "[encoded data removed]",
            "text/plain": [
              "<Figure size 864x288 with 2 Axes>"
            ]
          },
          "metadata": {
            "tags": [],
            "needs_background": "light"
          }
        }
      ]
    },
    {
      "cell_type": "code",
      "metadata": {
        "id": "hDCMYOsY_TtY"
      },
      "source": [
        "df_ham  = df[df['target'] == 0].copy()\n",
        "df_spam = df[df['target'] == 1].copy()"
      ],
      "execution_count": 100,
      "outputs": []
    },
    {
      "cell_type": "code",
      "metadata": {
        "id": "45Pz9TpP_TrK"
      },
      "source": [
        "def show_wordcloud(data_spam_or_ham, title):\n",
        "    text = ' '.join(data_spam_or_ham['text_wo_stop'].astype(str).tolist())\n",
        "    stopwords = set(wordcloud.STOPWORDS)\n",
        "    \n",
        "    fig_wordcloud = wordcloud.WordCloud(stopwords=stopwords,background_color='lightgrey',\n",
        "                    colormap='viridis', width=800, height=600).generate(text)\n",
        "    \n",
        "    plt.figure(figsize=(10,7), frameon=True)\n",
        "    plt.imshow(fig_wordcloud)  \n",
        "    plt.axis('off')\n",
        "    plt.title(title, fontsize=20 )\n",
        "    plt.show()"
      ],
      "execution_count": 101,
      "outputs": []
    },
    {
      "cell_type": "code",
      "metadata": {
        "id": "1ERlx0N8_TpU",
        "outputId": "c0498c0b-7fb0-4283-c813-4965ca8925bd",
        "colab": {
          "base_uri": "https://localhost:8080/",
          "height": 432
        }
      },
      "source": [
        "import wordcloud\n",
        "show_wordcloud(df_ham, \"Ham messages\")"
      ],
      "execution_count": 102,
      "outputs": [
        {
          "output_type": "display_data",
          "data": {
            "image/png": "[encoded data removed]",
            "text/plain": [
              "<Figure size 720x504 with 1 Axes>"
            ]
          },
          "metadata": {
            "tags": [],
            "needs_background": "light"
          }
        }
      ]
    },
    {
      "cell_type": "code",
      "metadata": {
        "id": "zTxPriJ6_Tmp",
        "outputId": "578c4b2b-fbec-4d31-f341-2dbf43d5a458",
        "colab": {
          "base_uri": "https://localhost:8080/",
          "height": 432
        }
      },
      "source": [
        "show_wordcloud(df_spam, \"Ham messages\")"
      ],
      "execution_count": 103,
      "outputs": [
        {
          "output_type": "display_data",
          "data": {
            "image/png": "[encoded data removed]",
            "text/plain": [
              "<Figure size 720x504 with 1 Axes>"
            ]
          },
          "metadata": {
            "tags": [],
            "needs_background": "light"
          }
        }
      ]
    },
    {
      "cell_type": "code",
      "metadata": {
        "id": "-Qy7DhrCAg3V"
      },
      "source": [
        ""
      ],
      "execution_count": 103,
      "outputs": []
    },
    {
      "cell_type": "code",
      "metadata": {
        "id": "d6zWVGSjAg1k",
        "outputId": "b2c49e6d-6441-45da-dea8-90ddc574cfe1",
        "colab": {
          "base_uri": "https://localhost:8080/"
        }
      },
      "source": [
        "from collections import Counter\n",
        "cnt = Counter()\n",
        "for text in df_ham[\"text_wo_stop\"].values:\n",
        "    for word in text.split():\n",
        "        cnt[word] += 1\n",
        "        \n",
        "cnt.most_common(10)"
      ],
      "execution_count": 104,
      "outputs": [
        {
          "output_type": "execute_result",
          "data": {
            "text/plain": [
              "[('2', 305),\n",
              " ('get', 303),\n",
              " ('ltgt', 276),\n",
              " ('ok', 272),\n",
              " ('dont', 257),\n",
              " ('go', 247),\n",
              " ('know', 232),\n",
              " ('got', 231),\n",
              " ('like', 229),\n",
              " ('call', 229)]"
            ]
          },
          "metadata": {
            "tags": []
          },
          "execution_count": 104
        }
      ]
    },
    {
      "cell_type": "code",
      "metadata": {
        "id": "n4GF5o2WAgzd",
        "outputId": "16549736-f848-45cb-9974-ddf8adc27195",
        "colab": {
          "base_uri": "https://localhost:8080/"
        }
      },
      "source": [
        "cnt_ = Counter()\n",
        "for text in df_spam[\"text_wo_stop\"].values:\n",
        "    for word in text.split():\n",
        "        cnt_[word] += 1\n",
        "        \n",
        "cnt_.most_common(10)"
      ],
      "execution_count": 105,
      "outputs": [
        {
          "output_type": "execute_result",
          "data": {
            "text/plain": [
              "[('call', 347),\n",
              " ('free', 216),\n",
              " ('2', 173),\n",
              " ('txt', 150),\n",
              " ('mobile', 123),\n",
              " ('text', 120),\n",
              " ('4', 119),\n",
              " ('claim', 113),\n",
              " ('stop', 113),\n",
              " ('reply', 101)]"
            ]
          },
          "metadata": {
            "tags": []
          },
          "execution_count": 105
        }
      ]
    },
    {
      "cell_type": "code",
      "metadata": {
        "id": "uR8y4Ni4Agxq"
      },
      "source": [
        ""
      ],
      "execution_count": 105,
      "outputs": []
    },
    {
      "cell_type": "code",
      "metadata": {
        "id": "EruuiiPSAgv1",
        "outputId": "270c6976-a204-4b54-c60a-e961a1e4b35a",
        "colab": {
          "base_uri": "https://localhost:8080/",
          "height": 306
        }
      },
      "source": [
        "from nltk.stem.porter import PorterStemmer\n",
        "\n",
        "# Drop the two columns \n",
        "#df.drop([\"text_wo_stopfreq\", \"text_wo_stopfreqrare\"], axis=1, inplace=True) \n",
        "\n",
        "stemmer = PorterStemmer()\n",
        "def stem_words(text):\n",
        "    return \" \".join([stemmer.stem(word) for word in text.split()])\n",
        "\n",
        "df_ham[\"text_stemmed\"] = df_ham[\"text_wo_stop\"].apply(lambda text: stem_words(text))\n",
        "df_spam[\"text_stemmed\"] = df_spam[\"text_wo_stop\"].apply(lambda text: stem_words(text))\n",
        "df_ham.head()"
      ],
      "execution_count": 106,
      "outputs": [
        {
          "output_type": "execute_result",
          "data": {
            "text/html": [
              "<div>\n",
              "<style scoped>\n",
              "    .dataframe tbody tr th:only-of-type {\n",
              "        vertical-align: middle;\n",
              "    }\n",
              "\n",
              "    .dataframe tbody tr th {\n",
              "        vertical-align: top;\n",
              "    }\n",
              "\n",
              "    .dataframe thead th {\n",
              "        text-align: right;\n",
              "    }\n",
              "</style>\n",
              "<table border=\"1\" class=\"dataframe\">\n",
              "  <thead>\n",
              "    <tr style=\"text-align: right;\">\n",
              "      <th></th>\n",
              "      <th>target</th>\n",
              "      <th>text</th>\n",
              "      <th>text_wo_punct</th>\n",
              "      <th>text_wo_stop</th>\n",
              "      <th>length</th>\n",
              "      <th>text_stemmed</th>\n",
              "    </tr>\n",
              "  </thead>\n",
              "  <tbody>\n",
              "    <tr>\n",
              "      <th>0</th>\n",
              "      <td>0</td>\n",
              "      <td>go until jurong point, crazy.. available only in bugis n great wor...</td>\n",
              "      <td>go until jurong point crazy available only in bugis n great world ...</td>\n",
              "      <td>go jurong point crazy available bugis great world la buffet cine g...</td>\n",
              "      <td>78</td>\n",
              "      <td>go jurong point crazi avail bugi great world la buffet cine got am...</td>\n",
              "    </tr>\n",
              "    <tr>\n",
              "      <th>1</th>\n",
              "      <td>0</td>\n",
              "      <td>ok lar... joking wif u oni...</td>\n",
              "      <td>ok lar joking wif u oni</td>\n",
              "      <td>ok lar joking wif oni</td>\n",
              "      <td>21</td>\n",
              "      <td>ok lar joke wif oni</td>\n",
              "    </tr>\n",
              "    <tr>\n",
              "      <th>3</th>\n",
              "      <td>0</td>\n",
              "      <td>u dun say so early hor... u c already then say...</td>\n",
              "      <td>u dun say so early hor u c already then say</td>\n",
              "      <td>dun say early hor already say</td>\n",
              "      <td>29</td>\n",
              "      <td>dun say earli hor alreadi say</td>\n",
              "    </tr>\n",
              "    <tr>\n",
              "      <th>4</th>\n",
              "      <td>0</td>\n",
              "      <td>nah i don't think he goes to usf, he lives around here though</td>\n",
              "      <td>nah i dont think he goes to usf he lives around here though</td>\n",
              "      <td>nah dont think goes usf lives around though</td>\n",
              "      <td>43</td>\n",
              "      <td>nah dont think goe usf live around though</td>\n",
              "    </tr>\n",
              "    <tr>\n",
              "      <th>6</th>\n",
              "      <td>0</td>\n",
              "      <td>even my brother is not like to speak with me. they treat me like a...</td>\n",
              "      <td>even my brother is not like to speak with me they treat me like ai...</td>\n",
              "      <td>even brother like speak treat like aids patent</td>\n",
              "      <td>46</td>\n",
              "      <td>even brother like speak treat like aid patent</td>\n",
              "    </tr>\n",
              "  </tbody>\n",
              "</table>\n",
              "</div>"
            ],
            "text/plain": [
              "   target  ...                                                           text_stemmed\n",
              "0       0  ...  go jurong point crazi avail bugi great world la buffet cine got am...\n",
              "1       0  ...                                                    ok lar joke wif oni\n",
              "3       0  ...                                          dun say earli hor alreadi say\n",
              "4       0  ...                              nah dont think goe usf live around though\n",
              "6       0  ...                          even brother like speak treat like aid patent\n",
              "\n",
              "[5 rows x 6 columns]"
            ]
          },
          "metadata": {
            "tags": []
          },
          "execution_count": 106
        }
      ]
    },
    {
      "cell_type": "code",
      "metadata": {
        "id": "InkR634dCfA3",
        "outputId": "2c6fd166-5092-4f44-b7ca-f2c23185ba15",
        "colab": {
          "base_uri": "https://localhost:8080/",
          "height": 374
        }
      },
      "source": [
        "df_spam.head()"
      ],
      "execution_count": 107,
      "outputs": [
        {
          "output_type": "execute_result",
          "data": {
            "text/html": [
              "<div>\n",
              "<style scoped>\n",
              "    .dataframe tbody tr th:only-of-type {\n",
              "        vertical-align: middle;\n",
              "    }\n",
              "\n",
              "    .dataframe tbody tr th {\n",
              "        vertical-align: top;\n",
              "    }\n",
              "\n",
              "    .dataframe thead th {\n",
              "        text-align: right;\n",
              "    }\n",
              "</style>\n",
              "<table border=\"1\" class=\"dataframe\">\n",
              "  <thead>\n",
              "    <tr style=\"text-align: right;\">\n",
              "      <th></th>\n",
              "      <th>target</th>\n",
              "      <th>text</th>\n",
              "      <th>text_wo_punct</th>\n",
              "      <th>text_wo_stop</th>\n",
              "      <th>length</th>\n",
              "      <th>text_stemmed</th>\n",
              "    </tr>\n",
              "  </thead>\n",
              "  <tbody>\n",
              "    <tr>\n",
              "      <th>2</th>\n",
              "      <td>1</td>\n",
              "      <td>free entry in 2 a wkly comp to win fa cup final tkts 21st may 2005...</td>\n",
              "      <td>free entry in 2 a wkly comp to win fa cup final tkts 21st may 2005...</td>\n",
              "      <td>free entry 2 wkly comp win fa cup final tkts 21st may 2005 text fa...</td>\n",
              "      <td>135</td>\n",
              "      <td>free entri 2 wkli comp win fa cup final tkt 21st may 2005 text fa ...</td>\n",
              "    </tr>\n",
              "    <tr>\n",
              "      <th>5</th>\n",
              "      <td>1</td>\n",
              "      <td>freemsg hey there darling it's been 3 week's now and no word back!...</td>\n",
              "      <td>freemsg hey there darling its been 3 weeks now and no word back id...</td>\n",
              "      <td>freemsg darling 3 weeks word back like fun still tb ok xxx std chg...</td>\n",
              "      <td>82</td>\n",
              "      <td>freemsg darl 3 week word back like fun still tb ok xxx std chg sen...</td>\n",
              "    </tr>\n",
              "    <tr>\n",
              "      <th>8</th>\n",
              "      <td>1</td>\n",
              "      <td>winner!! as a valued network customer you have been selected to re...</td>\n",
              "      <td>winner as a valued network customer you have been selected to rece...</td>\n",
              "      <td>winner valued network customer selected receivea å£900 prize rewar...</td>\n",
              "      <td>122</td>\n",
              "      <td>winner valu network custom select receivea å£900 prize reward clai...</td>\n",
              "    </tr>\n",
              "    <tr>\n",
              "      <th>9</th>\n",
              "      <td>1</td>\n",
              "      <td>had your mobile 11 months or more? u r entitled to update to the l...</td>\n",
              "      <td>had your mobile 11 months or more u r entitled to update to the la...</td>\n",
              "      <td>mobile 11 months entitled update latest colour mobiles camera free...</td>\n",
              "      <td>102</td>\n",
              "      <td>mobil 11 month entitl updat latest colour mobil camera free call m...</td>\n",
              "    </tr>\n",
              "    <tr>\n",
              "      <th>11</th>\n",
              "      <td>1</td>\n",
              "      <td>six chances to win cash! from 100 to 20,000 pounds txt&gt; csh11 and ...</td>\n",
              "      <td>six chances to win cash from 100 to 20000 pounds txt csh11 and sen...</td>\n",
              "      <td>six chances win cash 100 20000 pounds txt csh11 send 87575 cost 15...</td>\n",
              "      <td>110</td>\n",
              "      <td>six chanc win cash 100 20000 pound txt csh11 send 87575 cost 150pd...</td>\n",
              "    </tr>\n",
              "  </tbody>\n",
              "</table>\n",
              "</div>"
            ],
            "text/plain": [
              "    target  ...                                                           text_stemmed\n",
              "2        1  ...  free entri 2 wkli comp win fa cup final tkt 21st may 2005 text fa ...\n",
              "5        1  ...  freemsg darl 3 week word back like fun still tb ok xxx std chg sen...\n",
              "8        1  ...  winner valu network custom select receivea å£900 prize reward clai...\n",
              "9        1  ...  mobil 11 month entitl updat latest colour mobil camera free call m...\n",
              "11       1  ...  six chanc win cash 100 20000 pound txt csh11 send 87575 cost 150pd...\n",
              "\n",
              "[5 rows x 6 columns]"
            ]
          },
          "metadata": {
            "tags": []
          },
          "execution_count": 107
        }
      ]
    },
    {
      "cell_type": "code",
      "metadata": {
        "id": "r6vyHvloAgti"
      },
      "source": [
        ""
      ],
      "execution_count": 107,
      "outputs": []
    },
    {
      "cell_type": "code",
      "metadata": {
        "id": "5JrmhDOAAgq7",
        "outputId": "b0f42b40-af11-4d45-99e4-c26f4294bf28",
        "colab": {
          "base_uri": "https://localhost:8080/",
          "height": 374
        }
      },
      "source": [
        "import nltk\n",
        "nltk.download('wordnet')\n",
        "from nltk.stem import WordNetLemmatizer\n",
        "\n",
        "lemmatizer = WordNetLemmatizer()\n",
        "def lemmatize_words(text):\n",
        "    return \" \".join([lemmatizer.lemmatize(word) for word in text.split()])\n",
        "\n",
        "df_ham[\"text_lemmatized\"] = df_ham[\"text_wo_stop\"].apply(lambda text: lemmatize_words(text))\n",
        "df_spam[\"text_lemmatized\"] = df_spam[\"text_wo_stop\"].apply(lambda text: lemmatize_words(text))\n",
        "df_ham.head()"
      ],
      "execution_count": 108,
      "outputs": [
        {
          "output_type": "stream",
          "text": [
            "[nltk_data] Downloading package wordnet to /root/nltk_data...\n",
            "[nltk_data]   Package wordnet is already up-to-date!\n"
          ],
          "name": "stdout"
        },
        {
          "output_type": "execute_result",
          "data": {
            "text/html": [
              "<div>\n",
              "<style scoped>\n",
              "    .dataframe tbody tr th:only-of-type {\n",
              "        vertical-align: middle;\n",
              "    }\n",
              "\n",
              "    .dataframe tbody tr th {\n",
              "        vertical-align: top;\n",
              "    }\n",
              "\n",
              "    .dataframe thead th {\n",
              "        text-align: right;\n",
              "    }\n",
              "</style>\n",
              "<table border=\"1\" class=\"dataframe\">\n",
              "  <thead>\n",
              "    <tr style=\"text-align: right;\">\n",
              "      <th></th>\n",
              "      <th>target</th>\n",
              "      <th>text</th>\n",
              "      <th>text_wo_punct</th>\n",
              "      <th>text_wo_stop</th>\n",
              "      <th>length</th>\n",
              "      <th>text_stemmed</th>\n",
              "      <th>text_lemmatized</th>\n",
              "    </tr>\n",
              "  </thead>\n",
              "  <tbody>\n",
              "    <tr>\n",
              "      <th>0</th>\n",
              "      <td>0</td>\n",
              "      <td>go until jurong point, crazy.. available only in bugis n great wor...</td>\n",
              "      <td>go until jurong point crazy available only in bugis n great world ...</td>\n",
              "      <td>go jurong point crazy available bugis great world la buffet cine g...</td>\n",
              "      <td>78</td>\n",
              "      <td>go jurong point crazi avail bugi great world la buffet cine got am...</td>\n",
              "      <td>go jurong point crazy available bugis great world la buffet cine g...</td>\n",
              "    </tr>\n",
              "    <tr>\n",
              "      <th>1</th>\n",
              "      <td>0</td>\n",
              "      <td>ok lar... joking wif u oni...</td>\n",
              "      <td>ok lar joking wif u oni</td>\n",
              "      <td>ok lar joking wif oni</td>\n",
              "      <td>21</td>\n",
              "      <td>ok lar joke wif oni</td>\n",
              "      <td>ok lar joking wif oni</td>\n",
              "    </tr>\n",
              "    <tr>\n",
              "      <th>3</th>\n",
              "      <td>0</td>\n",
              "      <td>u dun say so early hor... u c already then say...</td>\n",
              "      <td>u dun say so early hor u c already then say</td>\n",
              "      <td>dun say early hor already say</td>\n",
              "      <td>29</td>\n",
              "      <td>dun say earli hor alreadi say</td>\n",
              "      <td>dun say early hor already say</td>\n",
              "    </tr>\n",
              "    <tr>\n",
              "      <th>4</th>\n",
              "      <td>0</td>\n",
              "      <td>nah i don't think he goes to usf, he lives around here though</td>\n",
              "      <td>nah i dont think he goes to usf he lives around here though</td>\n",
              "      <td>nah dont think goes usf lives around though</td>\n",
              "      <td>43</td>\n",
              "      <td>nah dont think goe usf live around though</td>\n",
              "      <td>nah dont think go usf life around though</td>\n",
              "    </tr>\n",
              "    <tr>\n",
              "      <th>6</th>\n",
              "      <td>0</td>\n",
              "      <td>even my brother is not like to speak with me. they treat me like a...</td>\n",
              "      <td>even my brother is not like to speak with me they treat me like ai...</td>\n",
              "      <td>even brother like speak treat like aids patent</td>\n",
              "      <td>46</td>\n",
              "      <td>even brother like speak treat like aid patent</td>\n",
              "      <td>even brother like speak treat like aid patent</td>\n",
              "    </tr>\n",
              "  </tbody>\n",
              "</table>\n",
              "</div>"
            ],
            "text/plain": [
              "   target  ...                                                        text_lemmatized\n",
              "0       0  ...  go jurong point crazy available bugis great world la buffet cine g...\n",
              "1       0  ...                                                  ok lar joking wif oni\n",
              "3       0  ...                                          dun say early hor already say\n",
              "4       0  ...                               nah dont think go usf life around though\n",
              "6       0  ...                          even brother like speak treat like aid patent\n",
              "\n",
              "[5 rows x 7 columns]"
            ]
          },
          "metadata": {
            "tags": []
          },
          "execution_count": 108
        }
      ]
    },
    {
      "cell_type": "code",
      "metadata": {
        "id": "45aqjIEHGN3D",
        "outputId": "def64a42-f5b5-4192-c228-4857defd02ae",
        "colab": {
          "base_uri": "https://localhost:8080/",
          "height": 459
        }
      },
      "source": [
        "df_spam.head()"
      ],
      "execution_count": 109,
      "outputs": [
        {
          "output_type": "execute_result",
          "data": {
            "text/html": [
              "<div>\n",
              "<style scoped>\n",
              "    .dataframe tbody tr th:only-of-type {\n",
              "        vertical-align: middle;\n",
              "    }\n",
              "\n",
              "    .dataframe tbody tr th {\n",
              "        vertical-align: top;\n",
              "    }\n",
              "\n",
              "    .dataframe thead th {\n",
              "        text-align: right;\n",
              "    }\n",
              "</style>\n",
              "<table border=\"1\" class=\"dataframe\">\n",
              "  <thead>\n",
              "    <tr style=\"text-align: right;\">\n",
              "      <th></th>\n",
              "      <th>target</th>\n",
              "      <th>text</th>\n",
              "      <th>text_wo_punct</th>\n",
              "      <th>text_wo_stop</th>\n",
              "      <th>length</th>\n",
              "      <th>text_stemmed</th>\n",
              "      <th>text_lemmatized</th>\n",
              "    </tr>\n",
              "  </thead>\n",
              "  <tbody>\n",
              "    <tr>\n",
              "      <th>2</th>\n",
              "      <td>1</td>\n",
              "      <td>free entry in 2 a wkly comp to win fa cup final tkts 21st may 2005...</td>\n",
              "      <td>free entry in 2 a wkly comp to win fa cup final tkts 21st may 2005...</td>\n",
              "      <td>free entry 2 wkly comp win fa cup final tkts 21st may 2005 text fa...</td>\n",
              "      <td>135</td>\n",
              "      <td>free entri 2 wkli comp win fa cup final tkt 21st may 2005 text fa ...</td>\n",
              "      <td>free entry 2 wkly comp win fa cup final tkts 21st may 2005 text fa...</td>\n",
              "    </tr>\n",
              "    <tr>\n",
              "      <th>5</th>\n",
              "      <td>1</td>\n",
              "      <td>freemsg hey there darling it's been 3 week's now and no word back!...</td>\n",
              "      <td>freemsg hey there darling its been 3 weeks now and no word back id...</td>\n",
              "      <td>freemsg darling 3 weeks word back like fun still tb ok xxx std chg...</td>\n",
              "      <td>82</td>\n",
              "      <td>freemsg darl 3 week word back like fun still tb ok xxx std chg sen...</td>\n",
              "      <td>freemsg darling 3 week word back like fun still tb ok xxx std chgs...</td>\n",
              "    </tr>\n",
              "    <tr>\n",
              "      <th>8</th>\n",
              "      <td>1</td>\n",
              "      <td>winner!! as a valued network customer you have been selected to re...</td>\n",
              "      <td>winner as a valued network customer you have been selected to rece...</td>\n",
              "      <td>winner valued network customer selected receivea å£900 prize rewar...</td>\n",
              "      <td>122</td>\n",
              "      <td>winner valu network custom select receivea å£900 prize reward clai...</td>\n",
              "      <td>winner valued network customer selected receivea å£900 prize rewar...</td>\n",
              "    </tr>\n",
              "    <tr>\n",
              "      <th>9</th>\n",
              "      <td>1</td>\n",
              "      <td>had your mobile 11 months or more? u r entitled to update to the l...</td>\n",
              "      <td>had your mobile 11 months or more u r entitled to update to the la...</td>\n",
              "      <td>mobile 11 months entitled update latest colour mobiles camera free...</td>\n",
              "      <td>102</td>\n",
              "      <td>mobil 11 month entitl updat latest colour mobil camera free call m...</td>\n",
              "      <td>mobile 11 month entitled update latest colour mobile camera free c...</td>\n",
              "    </tr>\n",
              "    <tr>\n",
              "      <th>11</th>\n",
              "      <td>1</td>\n",
              "      <td>six chances to win cash! from 100 to 20,000 pounds txt&gt; csh11 and ...</td>\n",
              "      <td>six chances to win cash from 100 to 20000 pounds txt csh11 and sen...</td>\n",
              "      <td>six chances win cash 100 20000 pounds txt csh11 send 87575 cost 15...</td>\n",
              "      <td>110</td>\n",
              "      <td>six chanc win cash 100 20000 pound txt csh11 send 87575 cost 150pd...</td>\n",
              "      <td>six chance win cash 100 20000 pound txt csh11 send 87575 cost 150p...</td>\n",
              "    </tr>\n",
              "  </tbody>\n",
              "</table>\n",
              "</div>"
            ],
            "text/plain": [
              "    target  ...                                                        text_lemmatized\n",
              "2        1  ...  free entry 2 wkly comp win fa cup final tkts 21st may 2005 text fa...\n",
              "5        1  ...  freemsg darling 3 week word back like fun still tb ok xxx std chgs...\n",
              "8        1  ...  winner valued network customer selected receivea å£900 prize rewar...\n",
              "9        1  ...  mobile 11 month entitled update latest colour mobile camera free c...\n",
              "11       1  ...  six chance win cash 100 20000 pound txt csh11 send 87575 cost 150p...\n",
              "\n",
              "[5 rows x 7 columns]"
            ]
          },
          "metadata": {
            "tags": []
          },
          "execution_count": 109
        }
      ]
    },
    {
      "cell_type": "code",
      "metadata": {
        "id": "3z7l_UX4GOEA",
        "outputId": "45ee7d73-7446-4f46-82e0-a15134342731",
        "colab": {
          "base_uri": "https://localhost:8080/",
          "height": 408
        }
      },
      "source": [
        "from nltk.corpus import wordnet\n",
        "from nltk.stem import WordNetLemmatizer\n",
        "nltk.download('averaged_perceptron_tagger')\n",
        "\n",
        "lemmatizer = WordNetLemmatizer()\n",
        "wordnet_map = {\"N\":wordnet.NOUN, \"V\":wordnet.VERB, \"J\":wordnet.ADJ, \"R\":wordnet.ADV}\n",
        "def lemmatize_words(text):\n",
        "    pos_tagged_text = nltk.pos_tag(text.split())\n",
        "    return \" \".join([lemmatizer.lemmatize(word, wordnet_map.get(pos[0], wordnet.NOUN)) for word, pos in pos_tagged_text])\n",
        "\n",
        "df_ham[\"text_lemmatized\"] = df_ham[\"text_wo_stop\"].apply(lambda text: lemmatize_words(text))\n",
        "df_spam[\"text_lemmatized\"] = df_spam[\"text_wo_stop\"].apply(lambda text: lemmatize_words(text))\n",
        "df_ham.head()"
      ],
      "execution_count": 110,
      "outputs": [
        {
          "output_type": "stream",
          "text": [
            "[nltk_data] Downloading package averaged_perceptron_tagger to\n",
            "[nltk_data]     /root/nltk_data...\n",
            "[nltk_data]   Package averaged_perceptron_tagger is already up-to-\n",
            "[nltk_data]       date!\n"
          ],
          "name": "stdout"
        },
        {
          "output_type": "execute_result",
          "data": {
            "text/html": [
              "<div>\n",
              "<style scoped>\n",
              "    .dataframe tbody tr th:only-of-type {\n",
              "        vertical-align: middle;\n",
              "    }\n",
              "\n",
              "    .dataframe tbody tr th {\n",
              "        vertical-align: top;\n",
              "    }\n",
              "\n",
              "    .dataframe thead th {\n",
              "        text-align: right;\n",
              "    }\n",
              "</style>\n",
              "<table border=\"1\" class=\"dataframe\">\n",
              "  <thead>\n",
              "    <tr style=\"text-align: right;\">\n",
              "      <th></th>\n",
              "      <th>target</th>\n",
              "      <th>text</th>\n",
              "      <th>text_wo_punct</th>\n",
              "      <th>text_wo_stop</th>\n",
              "      <th>length</th>\n",
              "      <th>text_stemmed</th>\n",
              "      <th>text_lemmatized</th>\n",
              "    </tr>\n",
              "  </thead>\n",
              "  <tbody>\n",
              "    <tr>\n",
              "      <th>0</th>\n",
              "      <td>0</td>\n",
              "      <td>go until jurong point, crazy.. available only in bugis n great wor...</td>\n",
              "      <td>go until jurong point crazy available only in bugis n great world ...</td>\n",
              "      <td>go jurong point crazy available bugis great world la buffet cine g...</td>\n",
              "      <td>78</td>\n",
              "      <td>go jurong point crazi avail bugi great world la buffet cine got am...</td>\n",
              "      <td>go jurong point crazy available bugis great world la buffet cine g...</td>\n",
              "    </tr>\n",
              "    <tr>\n",
              "      <th>1</th>\n",
              "      <td>0</td>\n",
              "      <td>ok lar... joking wif u oni...</td>\n",
              "      <td>ok lar joking wif u oni</td>\n",
              "      <td>ok lar joking wif oni</td>\n",
              "      <td>21</td>\n",
              "      <td>ok lar joke wif oni</td>\n",
              "      <td>ok lar joking wif oni</td>\n",
              "    </tr>\n",
              "    <tr>\n",
              "      <th>3</th>\n",
              "      <td>0</td>\n",
              "      <td>u dun say so early hor... u c already then say...</td>\n",
              "      <td>u dun say so early hor u c already then say</td>\n",
              "      <td>dun say early hor already say</td>\n",
              "      <td>29</td>\n",
              "      <td>dun say earli hor alreadi say</td>\n",
              "      <td>dun say early hor already say</td>\n",
              "    </tr>\n",
              "    <tr>\n",
              "      <th>4</th>\n",
              "      <td>0</td>\n",
              "      <td>nah i don't think he goes to usf, he lives around here though</td>\n",
              "      <td>nah i dont think he goes to usf he lives around here though</td>\n",
              "      <td>nah dont think goes usf lives around though</td>\n",
              "      <td>43</td>\n",
              "      <td>nah dont think goe usf live around though</td>\n",
              "      <td>nah dont think go usf life around though</td>\n",
              "    </tr>\n",
              "    <tr>\n",
              "      <th>6</th>\n",
              "      <td>0</td>\n",
              "      <td>even my brother is not like to speak with me. they treat me like a...</td>\n",
              "      <td>even my brother is not like to speak with me they treat me like ai...</td>\n",
              "      <td>even brother like speak treat like aids patent</td>\n",
              "      <td>46</td>\n",
              "      <td>even brother like speak treat like aid patent</td>\n",
              "      <td>even brother like speak treat like aid patent</td>\n",
              "    </tr>\n",
              "  </tbody>\n",
              "</table>\n",
              "</div>"
            ],
            "text/plain": [
              "   target  ...                                                        text_lemmatized\n",
              "0       0  ...  go jurong point crazy available bugis great world la buffet cine g...\n",
              "1       0  ...                                                  ok lar joking wif oni\n",
              "3       0  ...                                          dun say early hor already say\n",
              "4       0  ...                               nah dont think go usf life around though\n",
              "6       0  ...                          even brother like speak treat like aid patent\n",
              "\n",
              "[5 rows x 7 columns]"
            ]
          },
          "metadata": {
            "tags": []
          },
          "execution_count": 110
        }
      ]
    },
    {
      "cell_type": "code",
      "metadata": {
        "id": "FKaIJKVnGOCn",
        "outputId": "58043ff0-13c5-4f14-f04e-0d4ee26dd526",
        "colab": {
          "base_uri": "https://localhost:8080/",
          "height": 459
        }
      },
      "source": [
        "df_spam.head()"
      ],
      "execution_count": 111,
      "outputs": [
        {
          "output_type": "execute_result",
          "data": {
            "text/html": [
              "<div>\n",
              "<style scoped>\n",
              "    .dataframe tbody tr th:only-of-type {\n",
              "        vertical-align: middle;\n",
              "    }\n",
              "\n",
              "    .dataframe tbody tr th {\n",
              "        vertical-align: top;\n",
              "    }\n",
              "\n",
              "    .dataframe thead th {\n",
              "        text-align: right;\n",
              "    }\n",
              "</style>\n",
              "<table border=\"1\" class=\"dataframe\">\n",
              "  <thead>\n",
              "    <tr style=\"text-align: right;\">\n",
              "      <th></th>\n",
              "      <th>target</th>\n",
              "      <th>text</th>\n",
              "      <th>text_wo_punct</th>\n",
              "      <th>text_wo_stop</th>\n",
              "      <th>length</th>\n",
              "      <th>text_stemmed</th>\n",
              "      <th>text_lemmatized</th>\n",
              "    </tr>\n",
              "  </thead>\n",
              "  <tbody>\n",
              "    <tr>\n",
              "      <th>2</th>\n",
              "      <td>1</td>\n",
              "      <td>free entry in 2 a wkly comp to win fa cup final tkts 21st may 2005...</td>\n",
              "      <td>free entry in 2 a wkly comp to win fa cup final tkts 21st may 2005...</td>\n",
              "      <td>free entry 2 wkly comp win fa cup final tkts 21st may 2005 text fa...</td>\n",
              "      <td>135</td>\n",
              "      <td>free entri 2 wkli comp win fa cup final tkt 21st may 2005 text fa ...</td>\n",
              "      <td>free entry 2 wkly comp win fa cup final tkts 21st may 2005 text fa...</td>\n",
              "    </tr>\n",
              "    <tr>\n",
              "      <th>5</th>\n",
              "      <td>1</td>\n",
              "      <td>freemsg hey there darling it's been 3 week's now and no word back!...</td>\n",
              "      <td>freemsg hey there darling its been 3 weeks now and no word back id...</td>\n",
              "      <td>freemsg darling 3 weeks word back like fun still tb ok xxx std chg...</td>\n",
              "      <td>82</td>\n",
              "      <td>freemsg darl 3 week word back like fun still tb ok xxx std chg sen...</td>\n",
              "      <td>freemsg darling 3 week word back like fun still tb ok xxx std chgs...</td>\n",
              "    </tr>\n",
              "    <tr>\n",
              "      <th>8</th>\n",
              "      <td>1</td>\n",
              "      <td>winner!! as a valued network customer you have been selected to re...</td>\n",
              "      <td>winner as a valued network customer you have been selected to rece...</td>\n",
              "      <td>winner valued network customer selected receivea å£900 prize rewar...</td>\n",
              "      <td>122</td>\n",
              "      <td>winner valu network custom select receivea å£900 prize reward clai...</td>\n",
              "      <td>winner value network customer select receivea å£900 prize reward c...</td>\n",
              "    </tr>\n",
              "    <tr>\n",
              "      <th>9</th>\n",
              "      <td>1</td>\n",
              "      <td>had your mobile 11 months or more? u r entitled to update to the l...</td>\n",
              "      <td>had your mobile 11 months or more u r entitled to update to the la...</td>\n",
              "      <td>mobile 11 months entitled update latest colour mobiles camera free...</td>\n",
              "      <td>102</td>\n",
              "      <td>mobil 11 month entitl updat latest colour mobil camera free call m...</td>\n",
              "      <td>mobile 11 month entitle update late colour mobile camera free call...</td>\n",
              "    </tr>\n",
              "    <tr>\n",
              "      <th>11</th>\n",
              "      <td>1</td>\n",
              "      <td>six chances to win cash! from 100 to 20,000 pounds txt&gt; csh11 and ...</td>\n",
              "      <td>six chances to win cash from 100 to 20000 pounds txt csh11 and sen...</td>\n",
              "      <td>six chances win cash 100 20000 pounds txt csh11 send 87575 cost 15...</td>\n",
              "      <td>110</td>\n",
              "      <td>six chanc win cash 100 20000 pound txt csh11 send 87575 cost 150pd...</td>\n",
              "      <td>six chance win cash 100 20000 pound txt csh11 send 87575 cost 150p...</td>\n",
              "    </tr>\n",
              "  </tbody>\n",
              "</table>\n",
              "</div>"
            ],
            "text/plain": [
              "    target  ...                                                        text_lemmatized\n",
              "2        1  ...  free entry 2 wkly comp win fa cup final tkts 21st may 2005 text fa...\n",
              "5        1  ...  freemsg darling 3 week word back like fun still tb ok xxx std chgs...\n",
              "8        1  ...  winner value network customer select receivea å£900 prize reward c...\n",
              "9        1  ...  mobile 11 month entitle update late colour mobile camera free call...\n",
              "11       1  ...  six chance win cash 100 20000 pound txt csh11 send 87575 cost 150p...\n",
              "\n",
              "[5 rows x 7 columns]"
            ]
          },
          "metadata": {
            "tags": []
          },
          "execution_count": 111
        }
      ]
    },
    {
      "cell_type": "code",
      "metadata": {
        "id": "vJKjRrHKIRbb"
      },
      "source": [
        ""
      ],
      "execution_count": 111,
      "outputs": []
    },
    {
      "cell_type": "code",
      "metadata": {
        "id": "ARPU3GdmGOAW",
        "outputId": "307e08b9-973f-4e32-fb3e-fa5472c2927b",
        "colab": {
          "base_uri": "https://localhost:8080/",
          "height": 389
        }
      },
      "source": [
        "#!pip install h2o\n",
        "import h2o\n",
        "h2o.init()"
      ],
      "execution_count": 112,
      "outputs": [
        {
          "output_type": "stream",
          "text": [
            "Checking whether there is an H2O instance running at http://localhost:54321 . connected.\n"
          ],
          "name": "stdout"
        },
        {
          "output_type": "display_data",
          "data": {
            "text/html": [
              "<div style=\"overflow:auto\"><table style=\"width:50%\"><tr><td>H2O_cluster_uptime:</td>\n",
              "<td>1 hour 23 mins</td></tr>\n",
              "<tr><td>H2O_cluster_timezone:</td>\n",
              "<td>Etc/UTC</td></tr>\n",
              "<tr><td>H2O_data_parsing_timezone:</td>\n",
              "<td>UTC</td></tr>\n",
              "<tr><td>H2O_cluster_version:</td>\n",
              "<td>3.30.1.3</td></tr>\n",
              "<tr><td>H2O_cluster_version_age:</td>\n",
              "<td>1 month and 13 days </td></tr>\n",
              "<tr><td>H2O_cluster_name:</td>\n",
              "<td>H2O_from_python_unknownUser_evx7fc</td></tr>\n",
              "<tr><td>H2O_cluster_total_nodes:</td>\n",
              "<td>1</td></tr>\n",
              "<tr><td>H2O_cluster_free_memory:</td>\n",
              "<td>3.170 Gb</td></tr>\n",
              "<tr><td>H2O_cluster_total_cores:</td>\n",
              "<td>2</td></tr>\n",
              "<tr><td>H2O_cluster_allowed_cores:</td>\n",
              "<td>2</td></tr>\n",
              "<tr><td>H2O_cluster_status:</td>\n",
              "<td>locked, healthy</td></tr>\n",
              "<tr><td>H2O_connection_url:</td>\n",
              "<td>http://localhost:54321</td></tr>\n",
              "<tr><td>H2O_connection_proxy:</td>\n",
              "<td>{\"http\": null, \"https\": null}</td></tr>\n",
              "<tr><td>H2O_internal_security:</td>\n",
              "<td>False</td></tr>\n",
              "<tr><td>H2O_API_Extensions:</td>\n",
              "<td>Amazon S3, XGBoost, Algos, AutoML, Core V3, TargetEncoder, Core V4</td></tr>\n",
              "<tr><td>Python_version:</td>\n",
              "<td>3.6.9 final</td></tr></table></div>"
            ],
            "text/plain": [
              "--------------------------  ------------------------------------------------------------------\n",
              "H2O_cluster_uptime:         1 hour 23 mins\n",
              "H2O_cluster_timezone:       Etc/UTC\n",
              "H2O_data_parsing_timezone:  UTC\n",
              "H2O_cluster_version:        3.30.1.3\n",
              "H2O_cluster_version_age:    1 month and 13 days\n",
              "H2O_cluster_name:           H2O_from_python_unknownUser_evx7fc\n",
              "H2O_cluster_total_nodes:    1\n",
              "H2O_cluster_free_memory:    3.170 Gb\n",
              "H2O_cluster_total_cores:    2\n",
              "H2O_cluster_allowed_cores:  2\n",
              "H2O_cluster_status:         locked, healthy\n",
              "H2O_connection_url:         http://localhost:54321\n",
              "H2O_connection_proxy:       {\"http\": null, \"https\": null}\n",
              "H2O_internal_security:      False\n",
              "H2O_API_Extensions:         Amazon S3, XGBoost, Algos, AutoML, Core V3, TargetEncoder, Core V4\n",
              "Python_version:             3.6.9 final\n",
              "--------------------------  ------------------------------------------------------------------"
            ]
          },
          "metadata": {
            "tags": []
          }
        }
      ]
    },
    {
      "cell_type": "code",
      "metadata": {
        "id": "mdqIT1h-GN7a"
      },
      "source": [
        "from h2o.estimators.word2vec import H2OWord2vecEstimator\n",
        "from h2o.estimators import H2OKMeansEstimator"
      ],
      "execution_count": 113,
      "outputs": []
    },
    {
      "cell_type": "code",
      "metadata": {
        "id": "yMsITMrOGN54"
      },
      "source": [
        "def tokenize(sentences, stop_word = stopwords):\n",
        "    tokenized = sentences.tokenize(\"\\\\W+\")\n",
        "    tokenized_lower = tokenized.tolower()\n",
        "    tokenized_filtered = tokenized_lower[(tokenized_lower.nchar() >= 2) | (tokenized_lower.isna()),:]\n",
        "    tokenized_words = tokenized_filtered[tokenized_filtered.grep(\"[0-9]\",invert=True,output_logical=True),:]\n",
        "    tokenized_words = tokenized_words[(tokenized_words.isna()) | (~ tokenized_words.isin(stopwords)),:]\n",
        "    return tokenized_words"
      ],
      "execution_count": 114,
      "outputs": []
    },
    {
      "cell_type": "code",
      "metadata": {
        "id": "05YnUhn5HYWR",
        "outputId": "15310e15-f341-4487-b363-23e42342b986",
        "colab": {
          "base_uri": "https://localhost:8080/"
        }
      },
      "source": [
        "spam = h2o.H2OFrame(df_spam, column_names=['target',\t'text',\n",
        "                          'text_wo_punct',\t'text_wo_stop',\n",
        "                        \t'length',\t'text_stemmed',\n",
        "                          'text_lemmatized'],\n",
        "                    column_types=[\"enum\", \"string\", \"string\",\"string\",\"string\",\\\n",
        "                                  \"string\",\"string\"])\n",
        "ham = h2o.H2OFrame(df_ham, column_names=['target',\t'text',\n",
        "                          'text_wo_punct',\t'text_wo_stop',\n",
        "                        \t'length',\t'text_stemmed',\n",
        "                          'text_lemmatized'],\n",
        "                    column_types=[\"enum\", \"string\", \"string\",\"string\",\"string\",\\\n",
        "                                  \"string\",\"string\"])                    \n",
        "                    "
      ],
      "execution_count": 115,
      "outputs": [
        {
          "output_type": "stream",
          "text": [
            "Parse progress: |█████████████████████████████████████████████████████████| 100%\n",
            "Parse progress: |█████████████████████████████████████████████████████████| 100%\n"
          ],
          "name": "stdout"
        }
      ]
    },
    {
      "cell_type": "code",
      "metadata": {
        "id": "tYD-KMv9HYSy"
      },
      "source": [
        ""
      ],
      "execution_count": 115,
      "outputs": []
    },
    {
      "cell_type": "code",
      "metadata": {
        "id": "2_QyjHfEKQ2Z"
      },
      "source": [
        "words_spam = tokenize(spam[\"text_lemmatized\"])\n",
        "words_ham = tokenize(ham[\"text_lemmatized\"])"
      ],
      "execution_count": 116,
      "outputs": []
    },
    {
      "cell_type": "code",
      "metadata": {
        "id": "TPK-b51Xi706",
        "outputId": "85c6450f-7063-4562-b733-5d01fcffdd7d",
        "colab": {
          "base_uri": "https://localhost:8080/"
        }
      },
      "source": [
        "words_ham.shape"
      ],
      "execution_count": 117,
      "outputs": [
        {
          "output_type": "execute_result",
          "data": {
            "text/plain": [
              "(39436, 1)"
            ]
          },
          "metadata": {
            "tags": []
          },
          "execution_count": 117
        }
      ]
    },
    {
      "cell_type": "code",
      "metadata": {
        "id": "FD5PY3xtKm2w",
        "outputId": "51050643-6026-43d3-a6fb-777ee735c51a",
        "colab": {
          "base_uri": "https://localhost:8080/"
        }
      },
      "source": [
        "print(\"Build word2vec model\")\n",
        "w2v_model_spam = H2OWord2vecEstimator(sent_sample_rate = 0.0, epochs = 10)\n",
        "w2v_model_ham = H2OWord2vecEstimator(sent_sample_rate = 0.0, epochs = 10)\n",
        "w2v_model_spam.train(training_frame=words_spam)\n",
        "w2v_model_ham.train(training_frame=words_ham)"
      ],
      "execution_count": 118,
      "outputs": [
        {
          "output_type": "stream",
          "text": [
            "Build word2vec model\n",
            "word2vec Model Build progress: |██████████████████████████████████████████| 100%\n",
            "word2vec Model Build progress: |██████████████████████████████████████████| 100%\n"
          ],
          "name": "stdout"
        }
      ]
    },
    {
      "cell_type": "code",
      "metadata": {
        "id": "mPs9DaqSMshp"
      },
      "source": [
        "spam_frame = w2v_model_spam.to_frame()\n",
        "ham_frame = w2v_model_ham.to_frame()"
      ],
      "execution_count": 119,
      "outputs": []
    },
    {
      "cell_type": "code",
      "metadata": {
        "id": "N9uWpUqpPmW_"
      },
      "source": [
        "X_spam = w2v_model_spam.transform(words_spam, aggregate_method = \"AVERAGE\")\n",
        "X_ham = w2v_model_ham.transform(words_ham, aggregate_method = \"AVERAGE\")"
      ],
      "execution_count": 120,
      "outputs": []
    },
    {
      "cell_type": "code",
      "metadata": {
        "id": "MzrN1wrmqepu",
        "outputId": "42fc5b04-50d0-4266-d445-f23454324106",
        "colab": {
          "base_uri": "https://localhost:8080/"
        }
      },
      "source": [
        "w2v_model_ham.find_synonyms('call',count = 5)"
      ],
      "execution_count": 143,
      "outputs": [
        {
          "output_type": "execute_result",
          "data": {
            "text/plain": [
              "OrderedDict([('cal', 0.6418946385383606),\n",
              "             ('voice', 0.6027550101280212),\n",
              "             ('mobile', 0.579203188419342),\n",
              "             ('meeting', 0.5781596302986145),\n",
              "             ('network', 0.5723578333854675)])"
            ]
          },
          "metadata": {
            "tags": []
          },
          "execution_count": 143
        }
      ]
    },
    {
      "cell_type": "code",
      "metadata": {
        "id": "TzlL334-jh83",
        "outputId": "e6b65afd-87ea-4a14-ca0a-ea740e566121",
        "colab": {
          "base_uri": "https://localhost:8080/"
        }
      },
      "source": [
        "len(X_spam)"
      ],
      "execution_count": 121,
      "outputs": [
        {
          "output_type": "execute_result",
          "data": {
            "text/plain": [
              "747"
            ]
          },
          "metadata": {
            "tags": []
          },
          "execution_count": 121
        }
      ]
    },
    {
      "cell_type": "code",
      "metadata": {
        "id": "C0omijW4Pmbl",
        "outputId": "eaef771a-8b03-4bdf-a9d2-d8a5b3859ffd",
        "colab": {
          "base_uri": "https://localhost:8080/",
          "height": 563
        }
      },
      "source": [
        "wrd_kmeans_spam = H2OKMeansEstimator(k=10,\n",
        "                                 estimate_k=True,\n",
        "                                 standardize=False,\n",
        "                                 seed=1234)\n",
        "wrd_kmeans_spam.train(training_frame=X_spam,\n",
        "                  )\n",
        "\n",
        "# Eval performance:\n",
        "perf_spam = wrd_kmeans_spam.model_performance()\n",
        "\n",
        "#  Generate predictions on a validation set (if necessary):\n",
        "#pred = wr_kmeans.predict(valid)\n",
        "perf_spam"
      ],
      "execution_count": 122,
      "outputs": [
        {
          "output_type": "stream",
          "text": [
            "kmeans Model Build progress: |████████████████████████████████████████████| 100%\n",
            "\n",
            "ModelMetricsClustering: kmeans\n",
            "** Reported on train data. **\n",
            "\n",
            "MSE: NaN\n",
            "RMSE: NaN\n",
            "Total Within Cluster Sum of Square Error: 411.5548826555121\n",
            "Total Sum of Square Error to Grand Mean: 1047.9405020727831\n",
            "Between Cluster Sum of Square Error: 636.3856194172711\n",
            "\n",
            "Centroid Statistics: \n"
          ],
          "name": "stdout"
        },
        {
          "output_type": "display_data",
          "data": {
            "text/html": [
              "<div>\n",
              "<style scoped>\n",
              "    .dataframe tbody tr th:only-of-type {\n",
              "        vertical-align: middle;\n",
              "    }\n",
              "\n",
              "    .dataframe tbody tr th {\n",
              "        vertical-align: top;\n",
              "    }\n",
              "\n",
              "    .dataframe thead th {\n",
              "        text-align: right;\n",
              "    }\n",
              "</style>\n",
              "<table border=\"1\" class=\"dataframe\">\n",
              "  <thead>\n",
              "    <tr style=\"text-align: right;\">\n",
              "      <th></th>\n",
              "      <th></th>\n",
              "      <th>centroid</th>\n",
              "      <th>size</th>\n",
              "      <th>within_cluster_sum_of_squares</th>\n",
              "    </tr>\n",
              "  </thead>\n",
              "  <tbody>\n",
              "    <tr>\n",
              "      <th>0</th>\n",
              "      <td></td>\n",
              "      <td>1.0</td>\n",
              "      <td>106.0</td>\n",
              "      <td>60.420607</td>\n",
              "    </tr>\n",
              "    <tr>\n",
              "      <th>1</th>\n",
              "      <td></td>\n",
              "      <td>2.0</td>\n",
              "      <td>17.0</td>\n",
              "      <td>1.746111</td>\n",
              "    </tr>\n",
              "    <tr>\n",
              "      <th>2</th>\n",
              "      <td></td>\n",
              "      <td>3.0</td>\n",
              "      <td>40.0</td>\n",
              "      <td>33.249770</td>\n",
              "    </tr>\n",
              "    <tr>\n",
              "      <th>3</th>\n",
              "      <td></td>\n",
              "      <td>4.0</td>\n",
              "      <td>43.0</td>\n",
              "      <td>43.279395</td>\n",
              "    </tr>\n",
              "    <tr>\n",
              "      <th>4</th>\n",
              "      <td></td>\n",
              "      <td>5.0</td>\n",
              "      <td>170.0</td>\n",
              "      <td>87.045462</td>\n",
              "    </tr>\n",
              "    <tr>\n",
              "      <th>5</th>\n",
              "      <td></td>\n",
              "      <td>6.0</td>\n",
              "      <td>79.0</td>\n",
              "      <td>40.192912</td>\n",
              "    </tr>\n",
              "    <tr>\n",
              "      <th>6</th>\n",
              "      <td></td>\n",
              "      <td>7.0</td>\n",
              "      <td>56.0</td>\n",
              "      <td>29.917011</td>\n",
              "    </tr>\n",
              "    <tr>\n",
              "      <th>7</th>\n",
              "      <td></td>\n",
              "      <td>8.0</td>\n",
              "      <td>55.0</td>\n",
              "      <td>28.376913</td>\n",
              "    </tr>\n",
              "    <tr>\n",
              "      <th>8</th>\n",
              "      <td></td>\n",
              "      <td>9.0</td>\n",
              "      <td>118.0</td>\n",
              "      <td>58.535976</td>\n",
              "    </tr>\n",
              "    <tr>\n",
              "      <th>9</th>\n",
              "      <td></td>\n",
              "      <td>10.0</td>\n",
              "      <td>63.0</td>\n",
              "      <td>28.790726</td>\n",
              "    </tr>\n",
              "  </tbody>\n",
              "</table>\n",
              "</div>"
            ],
            "text/plain": [
              "     centroid   size  within_cluster_sum_of_squares\n",
              "0         1.0  106.0                      60.420607\n",
              "1         2.0   17.0                       1.746111\n",
              "2         3.0   40.0                      33.249770\n",
              "3         4.0   43.0                      43.279395\n",
              "4         5.0  170.0                      87.045462\n",
              "5         6.0   79.0                      40.192912\n",
              "6         7.0   56.0                      29.917011\n",
              "7         8.0   55.0                      28.376913\n",
              "8         9.0  118.0                      58.535976\n",
              "9        10.0   63.0                      28.790726"
            ]
          },
          "metadata": {
            "tags": []
          }
        },
        {
          "output_type": "execute_result",
          "data": {
            "text/plain": [
              ""
            ]
          },
          "metadata": {
            "tags": []
          },
          "execution_count": 122
        }
      ]
    },
    {
      "cell_type": "code",
      "metadata": {
        "id": "vAXsQ9FwPme5",
        "outputId": "edccc57c-414c-48ef-8a5e-e7a82b4f7447",
        "colab": {
          "base_uri": "https://localhost:8080/",
          "height": 501
        }
      },
      "source": [
        "wrd_kmeans_ham = H2OKMeansEstimator(k=10,\n",
        "                                 estimate_k=True,\n",
        "                                 standardize=False,\n",
        "                                 seed=1234)\n",
        "wrd_kmeans_ham.train(training_frame=X_ham,\n",
        "                  )\n",
        "\n",
        "# Eval performance:\n",
        "perf_ham = wrd_kmeans_ham.model_performance()\n",
        "\n",
        "#  Generate predictions on a validation set (if necessary):\n",
        "#pred = wr_kmeans.predict(valid)\n",
        "perf_ham"
      ],
      "execution_count": 123,
      "outputs": [
        {
          "output_type": "stream",
          "text": [
            "kmeans Model Build progress: |████████████████████████████████████████████| 100%\n",
            "\n",
            "ModelMetricsClustering: kmeans\n",
            "** Reported on train data. **\n",
            "\n",
            "MSE: NaN\n",
            "RMSE: NaN\n",
            "Total Within Cluster Sum of Square Error: 2805.9616810956277\n",
            "Total Sum of Square Error to Grand Mean: 4347.838866196105\n",
            "Between Cluster Sum of Square Error: 1541.8771851004776\n",
            "\n",
            "Centroid Statistics: \n"
          ],
          "name": "stdout"
        },
        {
          "output_type": "display_data",
          "data": {
            "text/html": [
              "<div>\n",
              "<style scoped>\n",
              "    .dataframe tbody tr th:only-of-type {\n",
              "        vertical-align: middle;\n",
              "    }\n",
              "\n",
              "    .dataframe tbody tr th {\n",
              "        vertical-align: top;\n",
              "    }\n",
              "\n",
              "    .dataframe thead th {\n",
              "        text-align: right;\n",
              "    }\n",
              "</style>\n",
              "<table border=\"1\" class=\"dataframe\">\n",
              "  <thead>\n",
              "    <tr style=\"text-align: right;\">\n",
              "      <th></th>\n",
              "      <th></th>\n",
              "      <th>centroid</th>\n",
              "      <th>size</th>\n",
              "      <th>within_cluster_sum_of_squares</th>\n",
              "    </tr>\n",
              "  </thead>\n",
              "  <tbody>\n",
              "    <tr>\n",
              "      <th>0</th>\n",
              "      <td></td>\n",
              "      <td>1.0</td>\n",
              "      <td>765.0</td>\n",
              "      <td>471.121837</td>\n",
              "    </tr>\n",
              "    <tr>\n",
              "      <th>1</th>\n",
              "      <td></td>\n",
              "      <td>2.0</td>\n",
              "      <td>186.0</td>\n",
              "      <td>131.322681</td>\n",
              "    </tr>\n",
              "    <tr>\n",
              "      <th>2</th>\n",
              "      <td></td>\n",
              "      <td>3.0</td>\n",
              "      <td>1995.0</td>\n",
              "      <td>907.839785</td>\n",
              "    </tr>\n",
              "    <tr>\n",
              "      <th>3</th>\n",
              "      <td></td>\n",
              "      <td>4.0</td>\n",
              "      <td>809.0</td>\n",
              "      <td>475.084294</td>\n",
              "    </tr>\n",
              "    <tr>\n",
              "      <th>4</th>\n",
              "      <td></td>\n",
              "      <td>5.0</td>\n",
              "      <td>203.0</td>\n",
              "      <td>133.138183</td>\n",
              "    </tr>\n",
              "    <tr>\n",
              "      <th>5</th>\n",
              "      <td></td>\n",
              "      <td>6.0</td>\n",
              "      <td>160.0</td>\n",
              "      <td>167.487167</td>\n",
              "    </tr>\n",
              "    <tr>\n",
              "      <th>6</th>\n",
              "      <td></td>\n",
              "      <td>7.0</td>\n",
              "      <td>450.0</td>\n",
              "      <td>351.168612</td>\n",
              "    </tr>\n",
              "    <tr>\n",
              "      <th>7</th>\n",
              "      <td></td>\n",
              "      <td>8.0</td>\n",
              "      <td>257.0</td>\n",
              "      <td>168.799122</td>\n",
              "    </tr>\n",
              "  </tbody>\n",
              "</table>\n",
              "</div>"
            ],
            "text/plain": [
              "     centroid    size  within_cluster_sum_of_squares\n",
              "0         1.0   765.0                     471.121837\n",
              "1         2.0   186.0                     131.322681\n",
              "2         3.0  1995.0                     907.839785\n",
              "3         4.0   809.0                     475.084294\n",
              "4         5.0   203.0                     133.138183\n",
              "5         6.0   160.0                     167.487167\n",
              "6         7.0   450.0                     351.168612\n",
              "7         8.0   257.0                     168.799122"
            ]
          },
          "metadata": {
            "tags": []
          }
        },
        {
          "output_type": "execute_result",
          "data": {
            "text/plain": [
              ""
            ]
          },
          "metadata": {
            "tags": []
          },
          "execution_count": 123
        }
      ]
    },
    {
      "cell_type": "code",
      "metadata": {
        "id": "J9OLuDDeLYQJ"
      },
      "source": [
        "X_spam_pd = X_spam.as_data_frame()\n",
        "X_ham_pd = X_ham.as_data_frame()\n"
      ],
      "execution_count": 124,
      "outputs": []
    },
    {
      "cell_type": "code",
      "metadata": {
        "id": "y1ke5Y-5NUls"
      },
      "source": [
        "from sklearn.cluster import KMeans\n",
        "from sklearn.metrics import silhouette_score\n",
        "from sklearn.decomposition import PCA\n",
        "from sklearn.preprocessing import MinMaxScaler,StandardScaler"
      ],
      "execution_count": 125,
      "outputs": []
    },
    {
      "cell_type": "code",
      "metadata": {
        "id": "sRx4M7XeL_a0"
      },
      "source": [
        "model_spam = PCA(n_components = 6)\n",
        "model_ham = PCA(n_components = 6)"
      ],
      "execution_count": 126,
      "outputs": []
    },
    {
      "cell_type": "code",
      "metadata": {
        "id": "rleiOrEkN2l5"
      },
      "source": [
        "def clean_dataset(df):\n",
        "    assert isinstance(df, pd.DataFrame)\n",
        "    df.dropna(inplace=True)\n",
        "    indices_to_keep = ~df.isin([np.nan, np.inf, -np.inf]).any(1)\n",
        "    return df[indices_to_keep].astype(np.float64)\n",
        "X_spam_pd = clean_dataset(X_spam_pd)\n",
        "X_ham_pd = clean_dataset(X_ham_pd)"
      ],
      "execution_count": 127,
      "outputs": []
    },
    {
      "cell_type": "code",
      "metadata": {
        "id": "U0nPGrlAWbOa"
      },
      "source": [
        "X_spam_pd = StandardScaler().fit(X_spam_pd).transform(X_spam_pd)\n",
        "X_ham_pd = StandardScaler().fit(X_ham_pd).transform(X_ham_pd)"
      ],
      "execution_count": 128,
      "outputs": []
    },
    {
      "cell_type": "code",
      "metadata": {
        "id": "B2G1qp50g2ON",
        "outputId": "b7048340-4272-4007-b4b2-73d27433150d",
        "colab": {
          "base_uri": "https://localhost:8080/"
        }
      },
      "source": [
        "sil = []\n",
        "kmax = 12\n",
        "for k in range(2, kmax+1):\n",
        "  kmeans_spam_ = KMeans(n_clusters = k).fit(X_spam_pd)\n",
        "  labels_spam = kmeans_spam_.labels_\n",
        "  sil.append(silhouette_score(X_spam_pd, labels_spam, metric = 'euclidean'))\n",
        "        \n",
        "maxpos = sil.index(max(sil))\n",
        "n_clusters = maxpos + 2\n",
        "maxpos\n"
      ],
      "execution_count": 129,
      "outputs": [
        {
          "output_type": "execute_result",
          "data": {
            "text/plain": [
              "5"
            ]
          },
          "metadata": {
            "tags": []
          },
          "execution_count": 129
        }
      ]
    },
    {
      "cell_type": "code",
      "metadata": {
        "id": "karGhuN3hofg"
      },
      "source": [
        "kmeans_spam_ = KMeans(n_clusters = 5).fit(X_spam_pd)\n",
        "kmeans_ham_ = KMeans(n_clusters = 5).fit(X_ham_pd)"
      ],
      "execution_count": 130,
      "outputs": []
    },
    {
      "cell_type": "code",
      "metadata": {
        "id": "9W43n_qKifd2",
        "outputId": "c9202db7-441b-4cd8-e73c-6afd1ed50037",
        "colab": {
          "base_uri": "https://localhost:8080/"
        }
      },
      "source": [
        "len(kmeans_spam_.labels_)"
      ],
      "execution_count": 131,
      "outputs": [
        {
          "output_type": "execute_result",
          "data": {
            "text/plain": [
              "745"
            ]
          },
          "metadata": {
            "tags": []
          },
          "execution_count": 131
        }
      ]
    },
    {
      "cell_type": "code",
      "metadata": {
        "id": "GH6yHbwSifax",
        "outputId": "89727493-88b4-4b90-e26b-79851cd04dcb",
        "colab": {
          "base_uri": "https://localhost:8080/"
        }
      },
      "source": [
        "len(kmeans_ham_.labels_)"
      ],
      "execution_count": 132,
      "outputs": [
        {
          "output_type": "execute_result",
          "data": {
            "text/plain": [
              "4727"
            ]
          },
          "metadata": {
            "tags": []
          },
          "execution_count": 132
        }
      ]
    },
    {
      "cell_type": "code",
      "metadata": {
        "id": "YZCHy2u_XKTV"
      },
      "source": [
        "lab_ham = pd.Series(kmeans_ham_.labels_)\n",
        "df_ham['labels'] = lab_ham\n"
      ],
      "execution_count": 133,
      "outputs": []
    },
    {
      "cell_type": "code",
      "metadata": {
        "id": "owuYpTFlbr_0"
      },
      "source": [
        "lab_spam = pd.Series(kmeans_spam_.labels_)\n",
        "df_spam['labels'] = lab_spam"
      ],
      "execution_count": 134,
      "outputs": []
    },
    {
      "cell_type": "code",
      "metadata": {
        "id": "Uoh8Xw4BbU0n",
        "outputId": "10a917c8-c5d6-4771-b101-87bd6941f80f",
        "colab": {
          "base_uri": "https://localhost:8080/",
          "height": 391
        }
      },
      "source": [
        "df_ham.head()"
      ],
      "execution_count": 135,
      "outputs": [
        {
          "output_type": "execute_result",
          "data": {
            "text/html": [
              "<div>\n",
              "<style scoped>\n",
              "    .dataframe tbody tr th:only-of-type {\n",
              "        vertical-align: middle;\n",
              "    }\n",
              "\n",
              "    .dataframe tbody tr th {\n",
              "        vertical-align: top;\n",
              "    }\n",
              "\n",
              "    .dataframe thead th {\n",
              "        text-align: right;\n",
              "    }\n",
              "</style>\n",
              "<table border=\"1\" class=\"dataframe\">\n",
              "  <thead>\n",
              "    <tr style=\"text-align: right;\">\n",
              "      <th></th>\n",
              "      <th>target</th>\n",
              "      <th>text</th>\n",
              "      <th>text_wo_punct</th>\n",
              "      <th>text_wo_stop</th>\n",
              "      <th>length</th>\n",
              "      <th>text_stemmed</th>\n",
              "      <th>text_lemmatized</th>\n",
              "      <th>labels</th>\n",
              "    </tr>\n",
              "  </thead>\n",
              "  <tbody>\n",
              "    <tr>\n",
              "      <th>0</th>\n",
              "      <td>0</td>\n",
              "      <td>go until jurong point, crazy.. available only in bugis n great wor...</td>\n",
              "      <td>go until jurong point crazy available only in bugis n great world ...</td>\n",
              "      <td>go jurong point crazy available bugis great world la buffet cine g...</td>\n",
              "      <td>78</td>\n",
              "      <td>go jurong point crazi avail bugi great world la buffet cine got am...</td>\n",
              "      <td>go jurong point crazy available bugis great world la buffet cine g...</td>\n",
              "      <td>2.0</td>\n",
              "    </tr>\n",
              "    <tr>\n",
              "      <th>1</th>\n",
              "      <td>0</td>\n",
              "      <td>ok lar... joking wif u oni...</td>\n",
              "      <td>ok lar joking wif u oni</td>\n",
              "      <td>ok lar joking wif oni</td>\n",
              "      <td>21</td>\n",
              "      <td>ok lar joke wif oni</td>\n",
              "      <td>ok lar joking wif oni</td>\n",
              "      <td>1.0</td>\n",
              "    </tr>\n",
              "    <tr>\n",
              "      <th>3</th>\n",
              "      <td>0</td>\n",
              "      <td>u dun say so early hor... u c already then say...</td>\n",
              "      <td>u dun say so early hor u c already then say</td>\n",
              "      <td>dun say early hor already say</td>\n",
              "      <td>29</td>\n",
              "      <td>dun say earli hor alreadi say</td>\n",
              "      <td>dun say early hor already say</td>\n",
              "      <td>2.0</td>\n",
              "    </tr>\n",
              "    <tr>\n",
              "      <th>4</th>\n",
              "      <td>0</td>\n",
              "      <td>nah i don't think he goes to usf, he lives around here though</td>\n",
              "      <td>nah i dont think he goes to usf he lives around here though</td>\n",
              "      <td>nah dont think goes usf lives around though</td>\n",
              "      <td>43</td>\n",
              "      <td>nah dont think goe usf live around though</td>\n",
              "      <td>nah dont think go usf life around though</td>\n",
              "      <td>2.0</td>\n",
              "    </tr>\n",
              "    <tr>\n",
              "      <th>6</th>\n",
              "      <td>0</td>\n",
              "      <td>even my brother is not like to speak with me. they treat me like a...</td>\n",
              "      <td>even my brother is not like to speak with me they treat me like ai...</td>\n",
              "      <td>even brother like speak treat like aids patent</td>\n",
              "      <td>46</td>\n",
              "      <td>even brother like speak treat like aid patent</td>\n",
              "      <td>even brother like speak treat like aid patent</td>\n",
              "      <td>2.0</td>\n",
              "    </tr>\n",
              "  </tbody>\n",
              "</table>\n",
              "</div>"
            ],
            "text/plain": [
              "   target  ... labels\n",
              "0       0  ...    2.0\n",
              "1       0  ...    1.0\n",
              "3       0  ...    2.0\n",
              "4       0  ...    2.0\n",
              "6       0  ...    2.0\n",
              "\n",
              "[5 rows x 8 columns]"
            ]
          },
          "metadata": {
            "tags": []
          },
          "execution_count": 135
        }
      ]
    },
    {
      "cell_type": "code",
      "metadata": {
        "id": "H-JQfz63bzOA",
        "outputId": "13e55b6e-1c4d-4784-8d99-43fb6c46875e",
        "colab": {
          "base_uri": "https://localhost:8080/",
          "height": 493
        }
      },
      "source": [
        "df_spam.head()"
      ],
      "execution_count": 136,
      "outputs": [
        {
          "output_type": "execute_result",
          "data": {
            "text/html": [
              "<div>\n",
              "<style scoped>\n",
              "    .dataframe tbody tr th:only-of-type {\n",
              "        vertical-align: middle;\n",
              "    }\n",
              "\n",
              "    .dataframe tbody tr th {\n",
              "        vertical-align: top;\n",
              "    }\n",
              "\n",
              "    .dataframe thead th {\n",
              "        text-align: right;\n",
              "    }\n",
              "</style>\n",
              "<table border=\"1\" class=\"dataframe\">\n",
              "  <thead>\n",
              "    <tr style=\"text-align: right;\">\n",
              "      <th></th>\n",
              "      <th>target</th>\n",
              "      <th>text</th>\n",
              "      <th>text_wo_punct</th>\n",
              "      <th>text_wo_stop</th>\n",
              "      <th>length</th>\n",
              "      <th>text_stemmed</th>\n",
              "      <th>text_lemmatized</th>\n",
              "      <th>labels</th>\n",
              "    </tr>\n",
              "  </thead>\n",
              "  <tbody>\n",
              "    <tr>\n",
              "      <th>2</th>\n",
              "      <td>1</td>\n",
              "      <td>free entry in 2 a wkly comp to win fa cup final tkts 21st may 2005...</td>\n",
              "      <td>free entry in 2 a wkly comp to win fa cup final tkts 21st may 2005...</td>\n",
              "      <td>free entry 2 wkly comp win fa cup final tkts 21st may 2005 text fa...</td>\n",
              "      <td>135</td>\n",
              "      <td>free entri 2 wkli comp win fa cup final tkt 21st may 2005 text fa ...</td>\n",
              "      <td>free entry 2 wkly comp win fa cup final tkts 21st may 2005 text fa...</td>\n",
              "      <td>1.0</td>\n",
              "    </tr>\n",
              "    <tr>\n",
              "      <th>5</th>\n",
              "      <td>1</td>\n",
              "      <td>freemsg hey there darling it's been 3 week's now and no word back!...</td>\n",
              "      <td>freemsg hey there darling its been 3 weeks now and no word back id...</td>\n",
              "      <td>freemsg darling 3 weeks word back like fun still tb ok xxx std chg...</td>\n",
              "      <td>82</td>\n",
              "      <td>freemsg darl 3 week word back like fun still tb ok xxx std chg sen...</td>\n",
              "      <td>freemsg darling 3 week word back like fun still tb ok xxx std chgs...</td>\n",
              "      <td>3.0</td>\n",
              "    </tr>\n",
              "    <tr>\n",
              "      <th>8</th>\n",
              "      <td>1</td>\n",
              "      <td>winner!! as a valued network customer you have been selected to re...</td>\n",
              "      <td>winner as a valued network customer you have been selected to rece...</td>\n",
              "      <td>winner valued network customer selected receivea å£900 prize rewar...</td>\n",
              "      <td>122</td>\n",
              "      <td>winner valu network custom select receivea å£900 prize reward clai...</td>\n",
              "      <td>winner value network customer select receivea å£900 prize reward c...</td>\n",
              "      <td>0.0</td>\n",
              "    </tr>\n",
              "    <tr>\n",
              "      <th>9</th>\n",
              "      <td>1</td>\n",
              "      <td>had your mobile 11 months or more? u r entitled to update to the l...</td>\n",
              "      <td>had your mobile 11 months or more u r entitled to update to the la...</td>\n",
              "      <td>mobile 11 months entitled update latest colour mobiles camera free...</td>\n",
              "      <td>102</td>\n",
              "      <td>mobil 11 month entitl updat latest colour mobil camera free call m...</td>\n",
              "      <td>mobile 11 month entitle update late colour mobile camera free call...</td>\n",
              "      <td>2.0</td>\n",
              "    </tr>\n",
              "    <tr>\n",
              "      <th>11</th>\n",
              "      <td>1</td>\n",
              "      <td>six chances to win cash! from 100 to 20,000 pounds txt&gt; csh11 and ...</td>\n",
              "      <td>six chances to win cash from 100 to 20000 pounds txt csh11 and sen...</td>\n",
              "      <td>six chances win cash 100 20000 pounds txt csh11 send 87575 cost 15...</td>\n",
              "      <td>110</td>\n",
              "      <td>six chanc win cash 100 20000 pound txt csh11 send 87575 cost 150pd...</td>\n",
              "      <td>six chance win cash 100 20000 pound txt csh11 send 87575 cost 150p...</td>\n",
              "      <td>0.0</td>\n",
              "    </tr>\n",
              "  </tbody>\n",
              "</table>\n",
              "</div>"
            ],
            "text/plain": [
              "    target  ... labels\n",
              "2        1  ...    1.0\n",
              "5        1  ...    3.0\n",
              "8        1  ...    0.0\n",
              "9        1  ...    2.0\n",
              "11       1  ...    0.0\n",
              "\n",
              "[5 rows x 8 columns]"
            ]
          },
          "metadata": {
            "tags": []
          },
          "execution_count": 136
        }
      ]
    },
    {
      "cell_type": "code",
      "metadata": {
        "id": "qQ88Ve3jf76u",
        "outputId": "f28b21aa-1a81-4c23-de11-33db38782c1a",
        "colab": {
          "base_uri": "https://localhost:8080/"
        }
      },
      "source": [
        ""
      ],
      "execution_count": 150,
      "outputs": [
        {
          "output_type": "execute_result",
          "data": {
            "text/plain": [
              "[('get', 591),\n",
              " ('go', 516),\n",
              " ('come', 317),\n",
              " ('2', 305),\n",
              " ('call', 287),\n",
              " ('ltgt', 276),\n",
              " ('ok', 272),\n",
              " ('dont', 257),\n",
              " ('know', 254),\n",
              " ('like', 238)]"
            ]
          },
          "metadata": {
            "tags": []
          },
          "execution_count": 150
        }
      ]
    },
    {
      "cell_type": "code",
      "metadata": {
        "id": "pIbrPHqFm5dc",
        "outputId": "8d8c04ae-718b-488a-9a89-6dd4a71a04ae",
        "colab": {
          "base_uri": "https://localhost:8080/",
          "height": 323
        }
      },
      "source": [
        "df_ham_clust_2 = df_ham[df_ham['labels'] == 1.0]\n",
        "\n",
        "\n",
        "\n",
        "df_ham_clust_2.head()"
      ],
      "execution_count": 137,
      "outputs": [
        {
          "output_type": "execute_result",
          "data": {
            "text/html": [
              "<div>\n",
              "<style scoped>\n",
              "    .dataframe tbody tr th:only-of-type {\n",
              "        vertical-align: middle;\n",
              "    }\n",
              "\n",
              "    .dataframe tbody tr th {\n",
              "        vertical-align: top;\n",
              "    }\n",
              "\n",
              "    .dataframe thead th {\n",
              "        text-align: right;\n",
              "    }\n",
              "</style>\n",
              "<table border=\"1\" class=\"dataframe\">\n",
              "  <thead>\n",
              "    <tr style=\"text-align: right;\">\n",
              "      <th></th>\n",
              "      <th>target</th>\n",
              "      <th>text</th>\n",
              "      <th>text_wo_punct</th>\n",
              "      <th>text_wo_stop</th>\n",
              "      <th>length</th>\n",
              "      <th>text_stemmed</th>\n",
              "      <th>text_lemmatized</th>\n",
              "      <th>labels</th>\n",
              "    </tr>\n",
              "  </thead>\n",
              "  <tbody>\n",
              "    <tr>\n",
              "      <th>1</th>\n",
              "      <td>0</td>\n",
              "      <td>ok lar... joking wif u oni...</td>\n",
              "      <td>ok lar joking wif u oni</td>\n",
              "      <td>ok lar joking wif oni</td>\n",
              "      <td>21</td>\n",
              "      <td>ok lar joke wif oni</td>\n",
              "      <td>ok lar joking wif oni</td>\n",
              "      <td>1.0</td>\n",
              "    </tr>\n",
              "    <tr>\n",
              "      <th>14</th>\n",
              "      <td>0</td>\n",
              "      <td>i have a date on sunday with will!!</td>\n",
              "      <td>i have a date on sunday with will</td>\n",
              "      <td>date sunday</td>\n",
              "      <td>11</td>\n",
              "      <td>date sunday</td>\n",
              "      <td>date sunday</td>\n",
              "      <td>1.0</td>\n",
              "    </tr>\n",
              "    <tr>\n",
              "      <th>26</th>\n",
              "      <td>0</td>\n",
              "      <td>lol your always so convincing.</td>\n",
              "      <td>lol your always so convincing</td>\n",
              "      <td>lol always convincing</td>\n",
              "      <td>21</td>\n",
              "      <td>lol alway convinc</td>\n",
              "      <td>lol always convince</td>\n",
              "      <td>1.0</td>\n",
              "    </tr>\n",
              "    <tr>\n",
              "      <th>29</th>\n",
              "      <td>0</td>\n",
              "      <td>ahhh. work. i vaguely remember that! what does it feel like? lol</td>\n",
              "      <td>ahhh work i vaguely remember that what does it feel like lol</td>\n",
              "      <td>ahhh work vaguely remember feel like lol</td>\n",
              "      <td>40</td>\n",
              "      <td>ahhh work vagu rememb feel like lol</td>\n",
              "      <td>ahhh work vaguely remember feel like lol</td>\n",
              "      <td>1.0</td>\n",
              "    </tr>\n",
              "    <tr>\n",
              "      <th>46</th>\n",
              "      <td>0</td>\n",
              "      <td>didn't you get hep b immunisation in nigeria.</td>\n",
              "      <td>didnt you get hep b immunisation in nigeria</td>\n",
              "      <td>didnt get hep immunisation nigeria</td>\n",
              "      <td>34</td>\n",
              "      <td>didnt get hep immunis nigeria</td>\n",
              "      <td>didnt get hep immunisation nigeria</td>\n",
              "      <td>1.0</td>\n",
              "    </tr>\n",
              "  </tbody>\n",
              "</table>\n",
              "</div>"
            ],
            "text/plain": [
              "    target  ... labels\n",
              "1        0  ...    1.0\n",
              "14       0  ...    1.0\n",
              "26       0  ...    1.0\n",
              "29       0  ...    1.0\n",
              "46       0  ...    1.0\n",
              "\n",
              "[5 rows x 8 columns]"
            ]
          },
          "metadata": {
            "tags": []
          },
          "execution_count": 137
        }
      ]
    },
    {
      "cell_type": "code",
      "metadata": {
        "id": "_Q3ehoX5sHgs",
        "outputId": "d8f9e2a8-e51d-404a-d7df-7c149e2ec4d0",
        "colab": {
          "base_uri": "https://localhost:8080/",
          "height": 267
        }
      },
      "source": [
        "ham_clust_2 = h2o.H2OFrame(df_ham_clust_2.iloc[:, 6:7], column_names=\\\n",
        "                           ['text_lemmatized'],\n",
        "                    column_types=[ \"string\"]) \n",
        "ham_clust_2.head()"
      ],
      "execution_count": 147,
      "outputs": [
        {
          "output_type": "stream",
          "text": [
            "Parse progress: |█████████████████████████████████████████████████████████| 100%\n"
          ],
          "name": "stdout"
        },
        {
          "output_type": "display_data",
          "data": {
            "text/html": [
              "<table>\n",
              "<thead>\n",
              "<tr><th>text_lemmatized                                                                        </th></tr>\n",
              "</thead>\n",
              "<tbody>\n",
              "<tr><td>ok lar joking wif oni                                                                  </td></tr>\n",
              "<tr><td>date sunday                                                                            </td></tr>\n",
              "<tr><td>lol always convince                                                                    </td></tr>\n",
              "<tr><td>ahhh work vaguely remember feel like lol                                               </td></tr>\n",
              "<tr><td>didnt get hep immunisation nigeria                                                     </td></tr>\n",
              "<tr><td>gram usually run like ltgt half eighth smarter though get almost whole second gram ltgt</td></tr>\n",
              "<tr><td>know mallika sherawat yesterday find lturlgt                                           </td></tr>\n",
              "<tr><td>thats cool gentleman treat dignity respect                                             </td></tr>\n",
              "<tr><td>like people much shy pa                                                                </td></tr>\n",
              "<tr><td>ok way home                                                                            </td></tr>\n",
              "</tbody>\n",
              "</table>"
            ]
          },
          "metadata": {
            "tags": []
          }
        },
        {
          "output_type": "execute_result",
          "data": {
            "text/plain": [
              ""
            ]
          },
          "metadata": {
            "tags": []
          },
          "execution_count": 147
        }
      ]
    },
    {
      "cell_type": "code",
      "metadata": {
        "id": "uGz67UFLt7Vz"
      },
      "source": [
        "words_ham_clust_2 = tokenize(ham_clust_2[\"text_lemmatized\"])"
      ],
      "execution_count": 148,
      "outputs": []
    },
    {
      "cell_type": "code",
      "metadata": {
        "id": "Pzk9engKt7Te",
        "outputId": "b299650c-9480-460e-99ba-e2c89f7771ef",
        "colab": {
          "base_uri": "https://localhost:8080/"
        }
      },
      "source": [
        "print(\"Build word2vec model\")\n",
        "\n",
        "w2v_model_ham_2 = H2OWord2vecEstimator(sent_sample_rate = 0.0, epochs = 10)\n",
        "\n",
        "w2v_model_ham_2.train(training_frame=words_ham_clust_2)"
      ],
      "execution_count": 149,
      "outputs": [
        {
          "output_type": "stream",
          "text": [
            "Build word2vec model\n",
            "word2vec Model Build progress: |██████████████████████████████████████████| 100%\n"
          ],
          "name": "stdout"
        }
      ]
    },
    {
      "cell_type": "code",
      "metadata": {
        "id": "cNWBjsl0uzrR",
        "outputId": "c9702eb0-bfc4-4d82-b2e9-48763503c326",
        "colab": {
          "base_uri": "https://localhost:8080/"
        }
      },
      "source": [
        "cnt_ham = Counter()\n",
        "for text in df_ham[\"text_lemmatized\"].values:\n",
        "    for word in text.split():\n",
        "        cnt_ham[word] += 1\n",
        "cnt_ham.most_common(10)"
      ],
      "execution_count": 151,
      "outputs": [
        {
          "output_type": "execute_result",
          "data": {
            "text/plain": [
              "[('get', 591),\n",
              " ('go', 516),\n",
              " ('come', 317),\n",
              " ('2', 305),\n",
              " ('call', 287),\n",
              " ('ltgt', 276),\n",
              " ('ok', 272),\n",
              " ('dont', 257),\n",
              " ('know', 254),\n",
              " ('like', 238)]"
            ]
          },
          "metadata": {
            "tags": []
          },
          "execution_count": 151
        }
      ]
    },
    {
      "cell_type": "code",
      "metadata": {
        "id": "Qqzx43Jtt7QK",
        "outputId": "348e5cb3-c090-4b9a-b595-f68dc2c7d711",
        "colab": {
          "base_uri": "https://localhost:8080/"
        }
      },
      "source": [
        "w2v_model_ham_2.find_synonyms('get', count=10)\n"
      ],
      "execution_count": 154,
      "outputs": [
        {
          "output_type": "execute_result",
          "data": {
            "text/plain": [
              "OrderedDict([('number', 0.9374926686286926),\n",
              "             ('home', 0.9355989098548889),\n",
              "             ('put', 0.9345682859420776),\n",
              "             ('yes', 0.9333932995796204),\n",
              "             ('watch', 0.9273655414581299),\n",
              "             ('give', 0.9251172542572021),\n",
              "             ('text', 0.9237523078918457),\n",
              "             ('detail', 0.919292151927948),\n",
              "             ('bus', 0.9191237092018127),\n",
              "             ('also', 0.9145177006721497)])"
            ]
          },
          "metadata": {
            "tags": []
          },
          "execution_count": 154
        }
      ]
    },
    {
      "cell_type": "code",
      "metadata": {
        "id": "bUxEfOYLsHda"
      },
      "source": [
        "df_spam_clust_2 = df_spam[df_spam['labels'] == 1.0]"
      ],
      "execution_count": null,
      "outputs": []
    },
    {
      "cell_type": "code",
      "metadata": {
        "id": "_uVv8oERf74p",
        "outputId": "5dcb92d9-34b4-4fd0-f89f-19c241a1a51d",
        "colab": {
          "base_uri": "https://localhost:8080/"
        }
      },
      "source": [
        "cnt_ham = Counter()\n",
        "for text in df_ham_clust_2[\"text_lemmatized\"].values :\n",
        "  for word in text.split():\n",
        "    cnt_ham[word] += 1\n",
        "\n",
        "cnt_ham.most_common(10)"
      ],
      "execution_count": 144,
      "outputs": [
        {
          "output_type": "execute_result",
          "data": {
            "text/plain": [
              "[('get', 98),\n",
              " ('go', 74),\n",
              " ('come', 52),\n",
              " ('ltgt', 50),\n",
              " ('ok', 44),\n",
              " ('time', 41),\n",
              " ('dont', 40),\n",
              " ('2', 40),\n",
              " ('like', 37),\n",
              " ('good', 35)]"
            ]
          },
          "metadata": {
            "tags": []
          },
          "execution_count": 144
        }
      ]
    },
    {
      "cell_type": "code",
      "metadata": {
        "id": "HGUS1pqMf72f"
      },
      "source": [
        ""
      ],
      "execution_count": 139,
      "outputs": []
    },
    {
      "cell_type": "code",
      "metadata": {
        "id": "siPdQbdef7y9",
        "outputId": "c8928294-44ed-4fde-e68f-6e2cd30c029e",
        "colab": {
          "base_uri": "https://localhost:8080/"
        }
      },
      "source": [
        "cnt_spam = Counter()\n",
        "for text in df_spam_clust_2[\"text_wo_stop\"].values :\n",
        "  for word in text.split():\n",
        "    cnt_spam[word] += 1\n",
        "\n",
        "cnt_spam.most_common(10)"
      ],
      "execution_count": 140,
      "outputs": [
        {
          "output_type": "execute_result",
          "data": {
            "text/plain": [
              "[('call', 14),\n",
              " ('free', 9),\n",
              " ('2', 8),\n",
              " ('claim', 8),\n",
              " ('txt', 7),\n",
              " ('prize', 7),\n",
              " ('stop', 6),\n",
              " ('150ppm', 5),\n",
              " ('reply', 5),\n",
              " ('4', 5)]"
            ]
          },
          "metadata": {
            "tags": []
          },
          "execution_count": 140
        }
      ]
    },
    {
      "cell_type": "code",
      "metadata": {
        "id": "2pYUp0i8UjFj",
        "outputId": "de25d9b6-b70d-43be-cb46-3634101ad3f0",
        "colab": {
          "base_uri": "https://localhost:8080/"
        }
      },
      "source": [
        "results_spam = model_spam.fit(X_spam_pd) \n",
        "results_ham = model_ham.fit(X_ham_pd) \n",
        "print(results_spam, results_ham)"
      ],
      "execution_count": 44,
      "outputs": [
        {
          "output_type": "stream",
          "text": [
            "PCA(copy=True, iterated_power='auto', n_components=6, random_state=None,\n",
            "    svd_solver='auto', tol=0.0, whiten=False) PCA(copy=True, iterated_power='auto', n_components=6, random_state=None,\n",
            "    svd_solver='auto', tol=0.0, whiten=False)\n"
          ],
          "name": "stdout"
        }
      ]
    },
    {
      "cell_type": "code",
      "metadata": {
        "id": "b1GK6d2EUjDi"
      },
      "source": [
        "Z_spam = results_spam.transform(X_spam_pd) \n",
        "Z_ham = results_ham.transform(X_ham_pd)"
      ],
      "execution_count": null,
      "outputs": []
    },
    {
      "cell_type": "code",
      "metadata": {
        "id": "akExEos3UjBE",
        "outputId": "c135ed90-f9d4-47eb-f099-95ea20c182c4",
        "colab": {
          "base_uri": "https://localhost:8080/",
          "height": 265
        }
      },
      "source": [
        "plt.plot(results_ham.explained_variance_)#график каменистой осыпи\n",
        "plt.grid()\n",
        "plt.show()"
      ],
      "execution_count": null,
      "outputs": [
        {
          "output_type": "display_data",
          "data": {
            "image/png": "[encoded data removed]",
            "text/plain": [
              "<Figure size 432x288 with 1 Axes>"
            ]
          },
          "metadata": {
            "tags": [],
            "needs_background": "light"
          }
        }
      ]
    },
    {
      "cell_type": "markdown",
      "metadata": {
        "id": "ecjuCL9WWH4u"
      },
      "source": [
        "Значит у фрейма \"хам\" есть около 6 главных компонент\n"
      ]
    },
    {
      "cell_type": "code",
      "metadata": {
        "id": "K2xyKAyWUi_E",
        "outputId": "1f8e6290-b32c-499d-8acd-ca58cf08bdcc",
        "colab": {
          "base_uri": "https://localhost:8080/",
          "height": 268
        }
      },
      "source": [
        "plt.plot(results_spam.explained_variance_)#график каменистой осыпи\n",
        "plt.grid()\n",
        "plt.show()"
      ],
      "execution_count": null,
      "outputs": [
        {
          "output_type": "display_data",
          "data": {
            "image/png": "[encoded data removed]",
            "text/plain": [
              "<Figure size 432x288 with 1 Axes>"
            ]
          },
          "metadata": {
            "tags": [],
            "needs_background": "light"
          }
        }
      ]
    },
    {
      "cell_type": "code",
      "metadata": {
        "id": "e4v8G0P-Ui8p",
        "outputId": "a319e627-f066-4aff-c575-eef1e7723e49",
        "colab": {
          "base_uri": "https://localhost:8080/"
        }
      },
      "source": [
        "LV_spam=pd.DataFrame(results_spam.components_)\n",
        "LV_ham=pd.DataFrame(results_ham.components_)\n",
        "LV_spam.shape"
      ],
      "execution_count": null,
      "outputs": [
        {
          "output_type": "execute_result",
          "data": {
            "text/plain": [
              "(6, 100)"
            ]
          },
          "metadata": {
            "tags": []
          },
          "execution_count": 343
        }
      ]
    },
    {
      "cell_type": "code",
      "metadata": {
        "id": "HYkMKdpiRzSJ"
      },
      "source": [
        ""
      ],
      "execution_count": null,
      "outputs": []
    },
    {
      "cell_type": "code",
      "metadata": {
        "id": "FstQAI8JUCQr",
        "outputId": "45b97c38-2a59-47d1-f434-5c63494d8589",
        "colab": {
          "base_uri": "https://localhost:8080/"
        }
      },
      "source": [
        "kmeans_spam = KMeans(n_clusters = 5).fit(LV_spam)\n",
        "labels_spam = kmeans_spam.labels_\n",
        "print(silhouette_score(LV_spam, labels_spam, metric = 'euclidean'))"
      ],
      "execution_count": null,
      "outputs": [
        {
          "output_type": "stream",
          "text": [
            "2.616820764472959e-17\n"
          ],
          "name": "stdout"
        }
      ]
    },
    {
      "cell_type": "code",
      "metadata": {
        "id": "WXMlB9b6RzOM",
        "outputId": "ad75b931-fabf-48a2-90e3-260818bb7f89",
        "colab": {
          "base_uri": "https://localhost:8080/"
        }
      },
      "source": [
        "sil_ham = []\n",
        "kmax = 5\n",
        "for k in range(2, kmax+1):\n",
        "   kmeans_ham = KMeans(n_clusters = k).fit(LV_ham)\n",
        "   labels_ham = kmeans_ham.labels_\n",
        "   sil_ham.append(silhouette_score(LV_ham, labels_ham, metric = 'euclidean'))\n",
        "   print( silhouette_score(LV_ham, labels_ham, metric = 'euclidean'))\n",
        "maxpos_ham = sil_ham.index(max(sil_ham))\n",
        "n_clusters_ham = maxpos + 2\n",
        "maxpos_ham"
      ],
      "execution_count": null,
      "outputs": [
        {
          "output_type": "stream",
          "text": [
            "4.1869132231567344e-16\n",
            "1.8317745351310725e-16\n",
            "2.0934566115783685e-16\n",
            "2.6168207644729615e-17\n"
          ],
          "name": "stdout"
        },
        {
          "output_type": "execute_result",
          "data": {
            "text/plain": [
              "0"
            ]
          },
          "metadata": {
            "tags": []
          },
          "execution_count": 367
        }
      ]
    },
    {
      "cell_type": "code",
      "metadata": {
        "id": "q-coiPLdbel3"
      },
      "source": [
        "kmeans_ham = KMeans(n_clusters = k).fit(LV_ham)"
      ],
      "execution_count": null,
      "outputs": []
    },
    {
      "cell_type": "code",
      "metadata": {
        "id": "SrY1LPLhdjXQ",
        "outputId": "472eac00-d6d0-42e5-f5e4-67262924c0f2",
        "colab": {
          "base_uri": "https://localhost:8080/"
        }
      },
      "source": [
        "LV_ham.T.shape"
      ],
      "execution_count": null,
      "outputs": [
        {
          "output_type": "execute_result",
          "data": {
            "text/plain": [
              "(100, 6)"
            ]
          },
          "metadata": {
            "tags": []
          },
          "execution_count": 377
        }
      ]
    },
    {
      "cell_type": "code",
      "metadata": {
        "id": "yszDYI4QRzL_",
        "outputId": "eda5e75c-4982-490b-95c1-2f0d0ccd5cb8",
        "colab": {
          "base_uri": "https://localhost:8080/"
        }
      },
      "source": [
        "len(kmeans_ham.labels_)"
      ],
      "execution_count": null,
      "outputs": [
        {
          "output_type": "execute_result",
          "data": {
            "text/plain": [
              "6"
            ]
          },
          "metadata": {
            "tags": []
          },
          "execution_count": 374
        }
      ]
    },
    {
      "cell_type": "code",
      "metadata": {
        "id": "75hffkwaRzJh"
      },
      "source": [
        ""
      ],
      "execution_count": null,
      "outputs": []
    },
    {
      "cell_type": "code",
      "metadata": {
        "id": "TxN03wkyRzGg"
      },
      "source": [
        ""
      ],
      "execution_count": null,
      "outputs": []
    },
    {
      "cell_type": "code",
      "metadata": {
        "id": "5FTMjrPoL_YZ"
      },
      "source": [
        "results_spam = model_spam.fit(X_spam_pd) \n",
        "results_ham = model_ham.fit(X_ham_pd) \n",
        "print(results_spam, results_ham)"
      ],
      "execution_count": null,
      "outputs": []
    },
    {
      "cell_type": "code",
      "metadata": {
        "id": "qXJKHoYKL_WP"
      },
      "source": [
        ""
      ],
      "execution_count": null,
      "outputs": []
    },
    {
      "cell_type": "code",
      "metadata": {
        "id": "X6nWDpMJL_TS"
      },
      "source": [
        ""
      ],
      "execution_count": null,
      "outputs": []
    },
    {
      "cell_type": "code",
      "metadata": {
        "id": "qLEzfoJJR7V1"
      },
      "source": [
        "sil = []\n",
        "kmax = 10\n",
        "for k in range(2, kmax+1):\n",
        "   kmeans_spam = KMeans(n_clusters = k).fit(X_spam)\n",
        "   labels = kmeans_spam.labels_\n",
        "   sil.append(silhouette_score(X_spam, labels, metric = 'euclidean'))\n",
        "        \n",
        "maxpos = sil.index(max(sil))\n",
        "n_clusters = maxpos + 2"
      ],
      "execution_count": null,
      "outputs": []
    },
    {
      "cell_type": "code",
      "metadata": {
        "id": "8xYZhpZtPQuh"
      },
      "source": [
        ""
      ],
      "execution_count": null,
      "outputs": []
    },
    {
      "cell_type": "code",
      "metadata": {
        "id": "bJHUEM4hQDEH"
      },
      "source": [
        ""
      ],
      "execution_count": null,
      "outputs": []
    },
    {
      "cell_type": "code",
      "metadata": {
        "id": "RhSWV9OFTJZ_"
      },
      "source": [
        ""
      ],
      "execution_count": null,
      "outputs": []
    },
    {
      "cell_type": "code",
      "metadata": {
        "id": "qs5kOhC1bB6D"
      },
      "source": [
        ""
      ],
      "execution_count": null,
      "outputs": []
    },
    {
      "cell_type": "code",
      "metadata": {
        "id": "AKpzTOM9qAfV"
      },
      "source": [
        ""
      ],
      "execution_count": null,
      "outputs": []
    },
    {
      "cell_type": "code",
      "metadata": {
        "id": "DFQEL4LvnWLw"
      },
      "source": [
        ""
      ],
      "execution_count": null,
      "outputs": []
    },
    {
      "cell_type": "code",
      "metadata": {
        "id": "IiJB2GDznWJl"
      },
      "source": [
        ""
      ],
      "execution_count": null,
      "outputs": []
    },
    {
      "cell_type": "code",
      "metadata": {
        "id": "TbAGxyBKnWHT"
      },
      "source": [
        ""
      ],
      "execution_count": null,
      "outputs": []
    },
    {
      "cell_type": "code",
      "metadata": {
        "id": "aUxUQbSMbHOh"
      },
      "source": [
        ""
      ],
      "execution_count": null,
      "outputs": []
    },
    {
      "cell_type": "code",
      "metadata": {
        "id": "JLe9vfsEbHXd"
      },
      "source": [
        ""
      ],
      "execution_count": null,
      "outputs": []
    },
    {
      "cell_type": "code",
      "metadata": {
        "id": "dl4JrRzebHVR"
      },
      "source": [
        ""
      ],
      "execution_count": null,
      "outputs": []
    },
    {
      "cell_type": "code",
      "metadata": {
        "id": "tx-RYZOzgTOf"
      },
      "source": [
        ""
      ],
      "execution_count": null,
      "outputs": []
    },
    {
      "cell_type": "code",
      "metadata": {
        "id": "03-yqOf1aLda"
      },
      "source": [
        ""
      ],
      "execution_count": null,
      "outputs": []
    },
    {
      "cell_type": "code",
      "metadata": {
        "id": "93DZOUeth78i"
      },
      "source": [
        ""
      ],
      "execution_count": null,
      "outputs": []
    }
  ]
}