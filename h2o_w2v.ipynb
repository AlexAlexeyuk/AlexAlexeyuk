{
 "cells": [
  {
   "cell_type": "code",
   "execution_count": 1,
   "metadata": {},
   "outputs": [
    {
     "name": "stdout",
     "output_type": "stream",
     "text": [
      "Checking whether there is an H2O instance running at http://localhost:54321 ..... not found.\n",
      "Attempting to start a local H2O server...\n",
      "  Java Version: openjdk version \"1.8.0_265\"; OpenJDK Runtime Environment (build 1.8.0_265-8u265-b01-0ubuntu2~18.04-b01); OpenJDK 64-Bit Server VM (build 25.265-b01, mixed mode)\n",
      "  Starting server from /opt/conda/envs/h2o/lib/python3.6/site-packages/h2o/backend/bin/h2o.jar\n",
      "  Ice root: /tmp/tmpjsdw2y1k\n",
      "  JVM stdout: /tmp/tmpjsdw2y1k/h2o_unknownUser_started_from_python.out\n",
      "  JVM stderr: /tmp/tmpjsdw2y1k/h2o_unknownUser_started_from_python.err\n",
      "  Server is running at http://127.0.0.1:54323\n",
      "Connecting to H2O server at http://127.0.0.1:54323 ... successful.\n"
     ]
    },
    {
     "data": {
      "text/html": [
       "<div style=\"overflow:auto\"><table style=\"width:50%\"><tr><td>H2O_cluster_uptime:</td>\n",
       "<td>01 secs</td></tr>\n",
       "<tr><td>H2O_cluster_timezone:</td>\n",
       "<td>Etc/UTC</td></tr>\n",
       "<tr><td>H2O_data_parsing_timezone:</td>\n",
       "<td>UTC</td></tr>\n",
       "<tr><td>H2O_cluster_version:</td>\n",
       "<td>3.32.0.1</td></tr>\n",
       "<tr><td>H2O_cluster_version_age:</td>\n",
       "<td>1 month and 5 days </td></tr>\n",
       "<tr><td>H2O_cluster_name:</td>\n",
       "<td>H2O_from_python_unknownUser_o7b1pd</td></tr>\n",
       "<tr><td>H2O_cluster_total_nodes:</td>\n",
       "<td>1</td></tr>\n",
       "<tr><td>H2O_cluster_free_memory:</td>\n",
       "<td>13.98 Gb</td></tr>\n",
       "<tr><td>H2O_cluster_total_cores:</td>\n",
       "<td>16</td></tr>\n",
       "<tr><td>H2O_cluster_allowed_cores:</td>\n",
       "<td>16</td></tr>\n",
       "<tr><td>H2O_cluster_status:</td>\n",
       "<td>accepting new members, healthy</td></tr>\n",
       "<tr><td>H2O_connection_url:</td>\n",
       "<td>http://127.0.0.1:54323</td></tr>\n",
       "<tr><td>H2O_connection_proxy:</td>\n",
       "<td>{\"http\": null, \"https\": null}</td></tr>\n",
       "<tr><td>H2O_internal_security:</td>\n",
       "<td>False</td></tr>\n",
       "<tr><td>H2O_API_Extensions:</td>\n",
       "<td>Amazon S3, XGBoost, Algos, AutoML, Core V3, TargetEncoder, Core V4</td></tr>\n",
       "<tr><td>Python_version:</td>\n",
       "<td>3.6.11 final</td></tr></table></div>"
      ],
      "text/plain": [
       "--------------------------  ------------------------------------------------------------------\n",
       "H2O_cluster_uptime:         01 secs\n",
       "H2O_cluster_timezone:       Etc/UTC\n",
       "H2O_data_parsing_timezone:  UTC\n",
       "H2O_cluster_version:        3.32.0.1\n",
       "H2O_cluster_version_age:    1 month and 5 days\n",
       "H2O_cluster_name:           H2O_from_python_unknownUser_o7b1pd\n",
       "H2O_cluster_total_nodes:    1\n",
       "H2O_cluster_free_memory:    13.98 Gb\n",
       "H2O_cluster_total_cores:    16\n",
       "H2O_cluster_allowed_cores:  16\n",
       "H2O_cluster_status:         accepting new members, healthy\n",
       "H2O_connection_url:         http://127.0.0.1:54323\n",
       "H2O_connection_proxy:       {\"http\": null, \"https\": null}\n",
       "H2O_internal_security:      False\n",
       "H2O_API_Extensions:         Amazon S3, XGBoost, Algos, AutoML, Core V3, TargetEncoder, Core V4\n",
       "Python_version:             3.6.11 final\n",
       "--------------------------  ------------------------------------------------------------------"
      ]
     },
     "metadata": {},
     "output_type": "display_data"
    }
   ],
   "source": [
    "import h2o\n",
    "h2o.init()"
   ]
  },
  {
   "cell_type": "code",
   "execution_count": 3,
   "metadata": {},
   "outputs": [],
   "source": [
    "path = 'https://s3-us-west-2.amazonaws.com/h2o-tutorials/data/topics/nlp/amazon_reviews/AmazonReviews.csv'"
   ]
  },
  {
   "cell_type": "code",
   "execution_count": 4,
   "metadata": {},
   "outputs": [
    {
     "name": "stdout",
     "output_type": "stream",
     "text": [
      "Parse progress: |█████████████████████████████████████████████████████████| 100%\n"
     ]
    }
   ],
   "source": [
    "reviews = h2o.import_file(path)"
   ]
  },
  {
   "cell_type": "code",
   "execution_count": 5,
   "metadata": {},
   "outputs": [
    {
     "data": {
      "text/plain": [
       "[100000, 10]"
      ]
     },
     "execution_count": 5,
     "metadata": {},
     "output_type": "execute_result"
    }
   ],
   "source": [
    "reviews.dim"
   ]
  },
  {
   "cell_type": "code",
   "execution_count": 6,
   "metadata": {},
   "outputs": [
    {
     "data": {
      "text/html": [
       "<table>\n",
       "<thead>\n",
       "<tr><th>ProductId  </th><th>UserId        </th><th>Summary                               </th><th style=\"text-align: right;\">  Score</th><th style=\"text-align: right;\">  HelpfulnessDenominator</th><th style=\"text-align: right;\">    Id</th><th>ProfileName                                     </th><th style=\"text-align: right;\">  HelpfulnessNumerator</th><th style=\"text-align: right;\">       Time</th><th>Text                                                                                                                                                                                                                                                                                                                                                                                                                                                                                                                                                                                                                                                                                                                                                                                                                                                                                                                                                                                                                                                                                                                                                                                                                                                                                                                                                                                                                                                                                                                                                                                                                                                                                                                                                                                                                                                                                                                                                                                                                                                                                                                                                                                                                                                                                                                                                                                                                                                                                                                                                                                                                                                                                                                                                                                                                                                                                                                                                                                                                                                                                                                                                                                                                                                        </th></tr>\n",
       "</thead>\n",
       "<tbody>\n",
       "<tr><td>B00141QYSQ </td><td>A1YS02UZZGRDCT</td><td>Do Not Buy                            </td><td style=\"text-align: right;\">      1</td><td style=\"text-align: right;\">                       2</td><td style=\"text-align: right;\"> 41471</td><td>Evan Eberhardt                                  </td><td style=\"text-align: right;\">                     2</td><td style=\"text-align: right;\">1.34836e+09</td><td>These are made in China (do not buy ANY pet food from China).  Dogswell has been using propylene glycol to soften their treats (what are they thinkng?).  Do not purchase or support this company in any way until they clean up their act.  And for whatever reason Amazon doesn&#x27;t allow returns of this item, so I had to toss mine out.  Bad business all around on this one.                                                                                                                                                                                                                                                                                                                                                                                                                                                                                                                                                                                                                                                                                                                                                                                                                                                                                                                                                                                                                                                                                                                                                                                                                                                                                                                                                                                                                                                                                                                                                                                                                                                                                                                                                                                                                                                                                                                                                                                                                                                                                                                                                                                                                                                                                                                                                                                                                                                                                                                                                                                                                                                                                                                                                                                                                                                                            </td></tr>\n",
       "<tr><td>B0089SPEO2 </td><td>A3JOYNYL458QHP</td><td>Less lemon and less zing              </td><td style=\"text-align: right;\">      3</td><td style=\"text-align: right;\">                       0</td><td style=\"text-align: right;\"> 28582</td><td>coleridge                                       </td><td style=\"text-align: right;\">                     0</td><td style=\"text-align: right;\">1.32391e+09</td><td>Everything is ok, except it just isn&#x27;t as good as it is in the bags.  Just considerably more bland -- less lemon and less zing.  Boring.                                                                                                                                                                                                                                                                                                                                                                                                                                                                                                                                                                                                                                                                                                                                                                                                                                                                                                                                                                                                                                                                                                                                                                                                                                                                                                                                                                                                                                                                                                                                                                                                                                                                                                                                                                                                                                                                                                                                                                                                                                                                                                                                                                                                                                                                                                                                                                                                                                                                                                                                                                                                                                                                                                                                                                                                                                                                                                                                                                                                                                                                                                                    </td></tr>\n",
       "<tr><td>B001PMCDK2 </td><td>A14TTMM0Z03Y2W</td><td>my cat goes crazy for these!          </td><td style=\"text-align: right;\">      5</td><td style=\"text-align: right;\">                       0</td><td style=\"text-align: right;\">389965</td><td>Lindsay S. Bradford                             </td><td style=\"text-align: right;\">                     0</td><td style=\"text-align: right;\">1.3106e+09 </td><td>Best cat treat ever. There isn&#x27;t anything comparable to the love my cat has for these treats, he snubs away any other kind now.&lt;br /&gt;I know he likes to manipulate me with his cattiness but these treats are my way of manipulating him to come sit on my lap and have some chill time. :)                                                                                                                                                                                                                                                                                                                                                                                                                                                                                                                                                                                                                                                                                                                                                                                                                                                                                                                                                                                                                                                                                                                                                                                                                                                                                                                                                                                                                                                                                                                                                                                                                                                                                                                                                                                                                                                                                                                                                                                                                                                                                                                                                                                                                                                                                                                                                                                                                                                                                                                                                                                                                                                                                                                                                                                                                                                                                                                                                                 </td></tr>\n",
       "<tr><td>B002Q8JOSI </td><td>A17UQD2RSSQH5X</td><td>My dogs tell me these treats are YUMMY</td><td style=\"text-align: right;\">      5</td><td style=\"text-align: right;\">                       1</td><td style=\"text-align: right;\">212536</td><td>in the dark                                     </td><td style=\"text-align: right;\">                     1</td><td style=\"text-align: right;\">1.31613e+09</td><td>My two Corgis were thoroughly spoiled by my late husband (I spent a year and a half dieting them down a combined total of 25 pounds!)&lt;br /&gt;&lt;br /&gt;They are accustomed to the finest of fare, and they absolutely love the Wellness brand of treats.                                                                                                                                                                                                                                                                                                                                                                                                                                                                                                                                                                                                                                                                                                                                                                                                                                                                                                                                                                                                                                                                                                                                                                                                                                                                                                                                                                                                                                                                                                                                                                                                                                                                                                                                                                                                                                                                                                                                                                                                                                                                                                                                                                                                                                                                                                                                                                                                                                                                                                                                                                                                                                                                                                                                                                                                                                                                                                                                                                                                          </td></tr>\n",
       "<tr><td>B00176G870 </td><td>A2F2MZW8EOGH5J</td><td>Yummy to the tummy                    </td><td style=\"text-align: right;\">      5</td><td style=\"text-align: right;\">                       0</td><td style=\"text-align: right;\">115971</td><td>daemoncycler &quot;When you arrive at a fork in th...</td><td style=\"text-align: right;\">                     0</td><td style=\"text-align: right;\">1.33479e+09</td><td>We used to have drive down to the specialty pet food store for this product.  So glad we discovered Amazon.  As far as I can tell it is no more expensive &amp; in some cases less - Prime membership is awesome.  Loving Pets treats are some of the best according to my dog.  They do not develop that nasty smell like some dog treats do.                                                                                                                                                                                                                                                                                                                                                                                                                                                                                                                                                                                                                                                                                                                                                                                                                                                                                                                                                                                                                                                                                                                                                                                                                                                                                                                                                                                                                                                                                                                                                                                                                                                                                                                                                                                                                                                                                                                                                                                                                                                                                                                                                                                                                                                                                                                                                                                                                                                                                                                                                                                                                                                                                                                                                                                                                                                                                                                  </td></tr>\n",
       "<tr><td>B001CHFUGY </td><td>A2M8VROSDPU4JT</td><td>Very good coffee                      </td><td style=\"text-align: right;\">      5</td><td style=\"text-align: right;\">                       1</td><td style=\"text-align: right;\">434484</td><td>Officefan &quot;Officefankt&quot;                         </td><td style=\"text-align: right;\">                     1</td><td style=\"text-align: right;\">1.27725e+09</td><td>I really liked this coffee, it was just as good as everyone claimed it was.  Strong, bold and flavorful!  I would recommend!                                                                                                                                                                                                                                                                                                                                                                                                                                                                                                                                                                                                                                                                                                                                                                                                                                                                                                                                                                                                                                                                                                                                                                                                                                                                                                                                                                                                                                                                                                                                                                                                                                                                                                                                                                                                                                                                                                                                                                                                                                                                                                                                                                                                                                                                                                                                                                                                                                                                                                                                                                                                                                                                                                                                                                                                                                                                                                                                                                                                                                                                                                                                </td></tr>\n",
       "<tr><td>B0041CIR62 </td><td>A16I6WJUEBJ1C3</td><td>okay but not as healthy as it appears </td><td style=\"text-align: right;\">      2</td><td style=\"text-align: right;\">                       1</td><td style=\"text-align: right;\">138997</td><td>doctorsirena &quot;doctorsirena&quot;                     </td><td style=\"text-align: right;\">                     1</td><td style=\"text-align: right;\">1.34369e+09</td><td>I am always looking for healthier, whole grain versions of foods I enjoy.  Unfortunately, these Peacock brand noodles are yet another food masquerading as healthy.  The product title in big letters on the front says &quot;Brown Rice Vermicelli&quot;, making the consumer think &quot;this is made with brown rice, so it should be a healthy choice&quot;.  But the first indication that it is not is when looking at the fiber content on the nutrition facts - only 0.6g per 2oz serving.  Then onto the ingredients list to see why so low... contains brown rice, sago starch and water.  The sago starch comes from palms and must not have much (if any) fiber.&lt;br /&gt;&lt;br /&gt;The Annie Chun&#x27;s Maifun Brown Rice Noodles (sold on Amazon and in my local healthy grocer) has become one of my staples and is my frame of reference when comparing to the Peacock brand.  The Annie Chun&#x27;s product is made with 100% whole grain, with ingredients brown rice flour and water.  Per 2oz serving, it has 4g fiber and pretty much the same calories and other nutrients as the Peacock brand.&lt;br /&gt;&lt;br /&gt;If you do try this Peacock brand noodles and have not used rice noodles before, you will need to seek guidance elsewhere on preparation.  As others have pointed out, the Peacock package gives almost no directions on how to prepare the product, aside from a brief mention in the recipes (in the header text it does say that they are &quot;easy-to-cook&quot; but does not say how).  It also contains a very strange recipe for rice noodles: Aglio Olio style - this is an Italian recipe for noodles with olive oil/garlic/sprinkled with grated cheese that I think would not be very tasty.  The second recipe appears to be for a soup with veggie strips.  Neither recipe gives amounts or much direction.  In comparison, the Annie Chun&#x27;s package gives clear, specific directions on rice noodle preparation and two recipes.&lt;br /&gt;&lt;br /&gt;I use rice noodles = maifun = rice sticks = sometimes called vermicelli for making the Vietnamese salad &quot;bun tofu&quot;, to serve with stir-fried veggies or in lettuce rolls.  They can also be used in spring rolls/egg rolls.  When cooking with thin rice noodles, be careful not to oversoak/overcook/overmix or they tend to disintegrate.  Asian rice noodle vermicelli (maifun) are not the same as Italian vermicelli and are not readily interchangeable.  If making an Italian recipe, the best results would be expected from Italian pasta and not maifun.&lt;br /&gt;&lt;br /&gt;A few final notes...  Both Peacock and Annie Chun&#x27;s brown rice noodles are gluten free.  The Peacock is made in Singapore and the Annie Chun&#x27;s in Thailand.  The Peacock noodles do taste fine (kind of bland), but so do the Annie Chun&#x27;s.  At this time, they are both approximately the same price.  Peacock come in an plastic bag with some noodle crushage upon shipping; Annie Chun&#x27;s are perfect upon removal from their cellophane bag in a box.  Overall, I highly recommend the Annie Chun&#x27;s Maifun as a healthier option over the Peacock brand.  On a related note, the Annie Chun&#x27;s soba and brown rice pad thai noodles are also excellent.&lt;br /&gt;&lt;br /&gt;Rating for this product: 2.5 stars rounded down to 2 stars.</td></tr>\n",
       "<tr><td>B001R3BQFW </td><td>AM50E42AFUVNL </td><td>Taste great.                          </td><td style=\"text-align: right;\">      5</td><td style=\"text-align: right;\">                       0</td><td style=\"text-align: right;\">126555</td><td>T. Higley &quot;Tina&quot;                                </td><td style=\"text-align: right;\">                     0</td><td style=\"text-align: right;\">1.32356e+09</td><td>I have tried many different drink mix, this is the best tasting by far. It does not have the after taste of the sweetener and I really like it, it is pretty strong, so I use a big water bottle (20 oz) for one tube, it still a little stronger than I like, but it is just my taste.                                                                                                                                                                                                                                                                                                                                                                                                                                                                                                                                                                                                                                                                                                                                                                                                                                                                                                                                                                                                                                                                                                                                                                                                                                                                                                                                                                                                                                                                                                                                                                                                                                                                                                                                                                                                                                                                                                                                                                                                                                                                                                                                                                                                                                                                                                                                                                                                                                                                                                                                                                                                                                                                                                                                                                                                                                                                                                                                                                     </td></tr>\n",
       "<tr><td>B005HGAV8I </td><td>A2I5KDNOESGJ1H</td><td>variety galore                        </td><td style=\"text-align: right;\">      5</td><td style=\"text-align: right;\">                       1</td><td style=\"text-align: right;\">438837</td><td>TJ                                              </td><td style=\"text-align: right;\">                     1</td><td style=\"text-align: right;\">1.33402e+09</td><td>This is my favorite item to order for my Keurig. There are so many flavors, my finicky palate never gets bored!  The only downside is there are probably 5-6 decaf varieties.  I don&#x27;t drink decaf (I REQUIRE copious amounts of caffeine), so they sit on the shelf...                                                                                                                                                                                                                                                                                                                                                                                                                                                                                                                                                                                                                                                                                                                                                                                                                                                                                                                                                                                                                                                                                                                                                                                                                                                                                                                                                                                                                                                                                                                                                                                                                                                                                                                                                                                                                                                                                                                                                                                                                                                                                                                                                                                                                                                                                                                                                                                                                                                                                                                                                                                                                                                                                                                                                                                                                                                                                                                                                                                     </td></tr>\n",
       "<tr><td>B000GFYRHQ </td><td>A3A7YUR6FS6ZCI</td><td>Bigelow Earl Grey Green Tea           </td><td style=\"text-align: right;\">      5</td><td style=\"text-align: right;\">                       0</td><td style=\"text-align: right;\">245379</td><td>Tea Lover                                       </td><td style=\"text-align: right;\">                     0</td><td style=\"text-align: right;\">1.17841e+09</td><td>Tastes like Earl Grey, but it&#x27;s green tea so it&#x27;s healthier.                                                                                                                                                                                                                                                                                                                                                                                                                                                                                                                                                                                                                                                                                                                                                                                                                                                                                                                                                                                                                                                                                                                                                                                                                                                                                                                                                                                                                                                                                                                                                                                                                                                                                                                                                                                                                                                                                                                                                                                                                                                                                                                                                                                                                                                                                                                                                                                                                                                                                                                                                                                                                                                                                                                                                                                                                                                                                                                                                                                                                                                                                                                                                                                                </td></tr>\n",
       "</tbody>\n",
       "</table>"
      ]
     },
     "metadata": {},
     "output_type": "display_data"
    },
    {
     "data": {
      "text/plain": []
     },
     "execution_count": 6,
     "metadata": {},
     "output_type": "execute_result"
    }
   ],
   "source": [
    "reviews.head()"
   ]
  },
  {
   "cell_type": "code",
   "execution_count": 7,
   "metadata": {},
   "outputs": [
    {
     "data": {
      "text/html": [
       "<table>\n",
       "<thead>\n",
       "<tr><th style=\"text-align: right;\">  Score</th><th style=\"text-align: right;\">  Count</th></tr>\n",
       "</thead>\n",
       "<tbody>\n",
       "<tr><td style=\"text-align: right;\">      1</td><td style=\"text-align: right;\">   9204</td></tr>\n",
       "<tr><td style=\"text-align: right;\">      2</td><td style=\"text-align: right;\">   5180</td></tr>\n",
       "<tr><td style=\"text-align: right;\">      3</td><td style=\"text-align: right;\">   7407</td></tr>\n",
       "<tr><td style=\"text-align: right;\">      4</td><td style=\"text-align: right;\">  14221</td></tr>\n",
       "<tr><td style=\"text-align: right;\">      5</td><td style=\"text-align: right;\">  63988</td></tr>\n",
       "</tbody>\n",
       "</table>"
      ]
     },
     "metadata": {},
     "output_type": "display_data"
    },
    {
     "data": {
      "text/plain": []
     },
     "execution_count": 7,
     "metadata": {},
     "output_type": "execute_result"
    }
   ],
   "source": [
    "reviews[\"Score\"].table()"
   ]
  },
  {
   "cell_type": "code",
   "execution_count": 8,
   "metadata": {},
   "outputs": [
    {
     "data": {
      "text/html": [
       "<table>\n",
       "<thead>\n",
       "<tr><th>Summary      </th><th style=\"text-align: right;\">  Count</th></tr>\n",
       "</thead>\n",
       "<tbody>\n",
       "<tr><td>Delicious    </td><td style=\"text-align: right;\">    426</td></tr>\n",
       "<tr><td>Delicious!   </td><td style=\"text-align: right;\">    417</td></tr>\n",
       "<tr><td>Yummy!       </td><td style=\"text-align: right;\">    284</td></tr>\n",
       "<tr><td>Yummy        </td><td style=\"text-align: right;\">    222</td></tr>\n",
       "<tr><td>Great product</td><td style=\"text-align: right;\">    204</td></tr>\n",
       "<tr><td>Yum!         </td><td style=\"text-align: right;\">    193</td></tr>\n",
       "<tr><td>Excellent    </td><td style=\"text-align: right;\">    183</td></tr>\n",
       "<tr><td>Great Product</td><td style=\"text-align: right;\">    155</td></tr>\n",
       "<tr><td>Love it!     </td><td style=\"text-align: right;\">    154</td></tr>\n",
       "<tr><td>Great        </td><td style=\"text-align: right;\">    138</td></tr>\n",
       "</tbody>\n",
       "</table>"
      ]
     },
     "metadata": {},
     "output_type": "display_data"
    },
    {
     "data": {
      "text/plain": []
     },
     "execution_count": 8,
     "metadata": {},
     "output_type": "execute_result"
    }
   ],
   "source": [
    "\n",
    "summary_freq = reviews[\"Summary\"].table()\n",
    "summary_freq = summary_freq.sort(\"Count\", ascending = [False])\n",
    "summary_freq.head()"
   ]
  },
  {
   "cell_type": "code",
   "execution_count": 9,
   "metadata": {},
   "outputs": [],
   "source": [
    "#' Add Target Column: \"PositiveReview\"\n",
    "reviews[\"PositiveReview\"] = (reviews[\"Score\"] >= 4).ifelse(\"1\", \"0\")"
   ]
  },
  {
   "cell_type": "code",
   "execution_count": 10,
   "metadata": {},
   "outputs": [
    {
     "data": {
      "text/html": [
       "<table>\n",
       "<thead>\n",
       "<tr><th>ProductId  </th><th>UserId        </th><th>Summary                 </th><th style=\"text-align: right;\">  Score</th><th style=\"text-align: right;\">  HelpfulnessDenominator</th><th style=\"text-align: right;\">   Id</th><th>ProfileName   </th><th style=\"text-align: right;\">  HelpfulnessNumerator</th><th style=\"text-align: right;\">       Time</th><th>Text                                                                                                                                                                                                                                                                                                                                                                            </th><th style=\"text-align: right;\">  PositiveReview</th></tr>\n",
       "</thead>\n",
       "<tbody>\n",
       "<tr><td>B00141QYSQ </td><td>A1YS02UZZGRDCT</td><td>Do Not Buy              </td><td style=\"text-align: right;\">      1</td><td style=\"text-align: right;\">                       2</td><td style=\"text-align: right;\">41471</td><td>Evan Eberhardt</td><td style=\"text-align: right;\">                     2</td><td style=\"text-align: right;\">1.34836e+09</td><td>These are made in China (do not buy ANY pet food from China).  Dogswell has been using propylene glycol to soften their treats (what are they thinkng?).  Do not purchase or support this company in any way until they clean up their act.  And for whatever reason Amazon doesn&#x27;t allow returns of this item, so I had to toss mine out.  Bad business all around on this one.</td><td style=\"text-align: right;\">               0</td></tr>\n",
       "<tr><td>B0089SPEO2 </td><td>A3JOYNYL458QHP</td><td>Less lemon and less zing</td><td style=\"text-align: right;\">      3</td><td style=\"text-align: right;\">                       0</td><td style=\"text-align: right;\">28582</td><td>coleridge     </td><td style=\"text-align: right;\">                     0</td><td style=\"text-align: right;\">1.32391e+09</td><td>Everything is ok, except it just isn&#x27;t as good as it is in the bags.  Just considerably more bland -- less lemon and less zing.  Boring.                                                                                                                                                                                                                                        </td><td style=\"text-align: right;\">               0</td></tr>\n",
       "</tbody>\n",
       "</table>"
      ]
     },
     "metadata": {},
     "output_type": "display_data"
    },
    {
     "data": {
      "text/plain": []
     },
     "execution_count": 10,
     "metadata": {},
     "output_type": "execute_result"
    }
   ],
   "source": [
    "reviews.head(2\n",
    "            )"
   ]
  },
  {
   "cell_type": "code",
   "execution_count": 11,
   "metadata": {},
   "outputs": [
    {
     "data": {
      "text/html": [
       "<table>\n",
       "<thead>\n",
       "<tr><th style=\"text-align: right;\">  PositiveReview</th><th style=\"text-align: right;\">  Count</th></tr>\n",
       "</thead>\n",
       "<tbody>\n",
       "<tr><td style=\"text-align: right;\">               0</td><td style=\"text-align: right;\">  21791</td></tr>\n",
       "<tr><td style=\"text-align: right;\">               1</td><td style=\"text-align: right;\">  78209</td></tr>\n",
       "</tbody>\n",
       "</table>"
      ]
     },
     "metadata": {},
     "output_type": "display_data"
    },
    {
     "data": {
      "text/plain": []
     },
     "execution_count": 11,
     "metadata": {},
     "output_type": "execute_result"
    }
   ],
   "source": [
    "reviews[\"PositiveReview\"].table()"
   ]
  },
  {
   "cell_type": "code",
   "execution_count": 12,
   "metadata": {},
   "outputs": [],
   "source": [
    "STOP_WORDS = [\"ax\",\"i\",\"you\",\"edu\",\"s\",\"t\",\"m\",\"subject\",\"can\",\"lines\",\"re\",\"what\",\n",
    "               \"there\",\"all\",\"we\",\"one\",\"the\",\"a\",\"an\",\"of\",\"or\",\"in\",\"for\",\"by\",\"on\",\n",
    "               \"but\",\"is\",\"in\",\"a\",\"not\",\"with\",\"as\",\"was\",\"if\",\"they\",\"are\",\"this\",\"and\",\"it\",\"have\",\n",
    "               \"from\",\"at\",\"my\",\"be\",\"by\",\"not\",\"that\",\"to\",\"from\",\"com\",\"org\",\"like\",\"likes\",\"so\"]"
   ]
  },
  {
   "cell_type": "code",
   "execution_count": 13,
   "metadata": {},
   "outputs": [],
   "source": [
    "def tokenize(sentences, stop_word = STOP_WORDS):\n",
    "    tokenized = sentences.tokenize(\"\\\\W+\")\n",
    "    tokenized_lower = tokenized.tolower()\n",
    "    tokenized_filtered = tokenized_lower[(tokenized_lower.nchar() >= 2) | (tokenized_lower.isna()),:]\n",
    "    tokenized_words = tokenized_filtered[tokenized_filtered.grep(\"[0-9]\",invert=True,output_logical=True),:]\n",
    "    tokenized_words = tokenized_words[(tokenized_words.isna()) | (~ tokenized_words.isin(STOP_WORDS)),:]\n",
    "    return tokenized_words"
   ]
  },
  {
   "cell_type": "code",
   "execution_count": 14,
   "metadata": {},
   "outputs": [],
   "source": [
    "# Break reviews into sequence of words\n",
    "words = tokenize(reviews[\"Text\"])"
   ]
  },
  {
   "cell_type": "code",
   "execution_count": 15,
   "metadata": {},
   "outputs": [
    {
     "data": {
      "text/html": [
       "<table>\n",
       "<thead>\n",
       "<tr><th>C1      </th></tr>\n",
       "</thead>\n",
       "<tbody>\n",
       "<tr><td>these   </td></tr>\n",
       "<tr><td>made    </td></tr>\n",
       "<tr><td>china   </td></tr>\n",
       "<tr><td>do      </td></tr>\n",
       "<tr><td>buy     </td></tr>\n",
       "<tr><td>any     </td></tr>\n",
       "<tr><td>pet     </td></tr>\n",
       "<tr><td>food    </td></tr>\n",
       "<tr><td>china   </td></tr>\n",
       "<tr><td>dogswell</td></tr>\n",
       "</tbody>\n",
       "</table>"
      ]
     },
     "metadata": {},
     "output_type": "display_data"
    },
    {
     "data": {
      "text/plain": []
     },
     "execution_count": 15,
     "metadata": {},
     "output_type": "execute_result"
    }
   ],
   "source": [
    "words.head()"
   ]
  },
  {
   "cell_type": "code",
   "execution_count": 16,
   "metadata": {},
   "outputs": [
    {
     "name": "stdout",
     "output_type": "stream",
     "text": [
      "word2vec Model Build progress: |██████████████████████████████████████████| 100%\n"
     ]
    }
   ],
   "source": [
    "# Train Word2Vec Model for vec size = 2\n",
    "from h2o.estimators.word2vec import H2OWord2vecEstimator\n",
    "\n",
    "w2v_len2_model = H2OWord2vecEstimator(vec_size = 2, model_id = \"w2v_len2.hex\")\n",
    "w2v_len2_model.train(training_frame=words)"
   ]
  },
  {
   "cell_type": "code",
   "execution_count": 18,
   "metadata": {},
   "outputs": [],
   "source": [
    "sample_embeddings = words.head()"
   ]
  },
  {
   "cell_type": "code",
   "execution_count": 17,
   "metadata": {},
   "outputs": [
    {
     "data": {
      "text/html": [
       "<table>\n",
       "<thead>\n",
       "<tr><th>Word    </th><th style=\"text-align: right;\">      C1</th><th style=\"text-align: right;\">        C2</th></tr>\n",
       "</thead>\n",
       "<tbody>\n",
       "<tr><td>these   </td><td style=\"text-align: right;\">0.685328</td><td style=\"text-align: right;\">-0.241992 </td></tr>\n",
       "<tr><td>made    </td><td style=\"text-align: right;\">0.652111</td><td style=\"text-align: right;\">-0.0117036</td></tr>\n",
       "<tr><td>china   </td><td style=\"text-align: right;\">0.613464</td><td style=\"text-align: right;\">-0.562936 </td></tr>\n",
       "<tr><td>do      </td><td style=\"text-align: right;\">0.667735</td><td style=\"text-align: right;\">-0.198394 </td></tr>\n",
       "<tr><td>buy     </td><td style=\"text-align: right;\">0.679803</td><td style=\"text-align: right;\">-0.309637 </td></tr>\n",
       "<tr><td>any     </td><td style=\"text-align: right;\">0.696138</td><td style=\"text-align: right;\">-0.132108 </td></tr>\n",
       "<tr><td>pet     </td><td style=\"text-align: right;\">0.614178</td><td style=\"text-align: right;\">-0.892285 </td></tr>\n",
       "<tr><td>food    </td><td style=\"text-align: right;\">0.582473</td><td style=\"text-align: right;\">-0.691752 </td></tr>\n",
       "<tr><td>china   </td><td style=\"text-align: right;\">0.613464</td><td style=\"text-align: right;\">-0.562936 </td></tr>\n",
       "<tr><td>dogswell</td><td style=\"text-align: right;\">0.572905</td><td style=\"text-align: right;\">-0.478309 </td></tr>\n",
       "</tbody>\n",
       "</table>"
      ]
     },
     "metadata": {},
     "output_type": "display_data"
    },
    {
     "data": {
      "text/plain": []
     },
     "execution_count": 17,
     "metadata": {},
     "output_type": "execute_result"
    }
   ],
   "source": [
    "sample_embeddings = words.head()\n",
    "sample_embeddings.col_names = [\"Word\"]\n",
    "sample_embeddings = sample_embeddings.cbind(w2v_len2_model.transform(sample_embeddings, aggregate_method=\"None\"))\n",
    "\n",
    "sample_embeddings"
   ]
  },
  {
   "cell_type": "code",
   "execution_count": 19,
   "metadata": {},
   "outputs": [
    {
     "data": {
      "text/html": [
       "<table>\n",
       "<thead>\n",
       "<tr><th>Word    </th><th style=\"text-align: right;\">      V1</th><th style=\"text-align: right;\">       V2</th></tr>\n",
       "</thead>\n",
       "<tbody>\n",
       "<tr><td>kronung </td><td style=\"text-align: right;\">0.49012 </td><td style=\"text-align: right;\"> 0.439802</td></tr>\n",
       "<tr><td>berge   </td><td style=\"text-align: right;\">0.17741 </td><td style=\"text-align: right;\"> 0.040173</td></tr>\n",
       "<tr><td>ewww    </td><td style=\"text-align: right;\">0.655863</td><td style=\"text-align: right;\">-0.307839</td></tr>\n",
       "<tr><td>maison  </td><td style=\"text-align: right;\">0.457277</td><td style=\"text-align: right;\"> 0.622207</td></tr>\n",
       "<tr><td>mattered</td><td style=\"text-align: right;\">0.716068</td><td style=\"text-align: right;\">-0.416523</td></tr>\n",
       "<tr><td>helpings</td><td style=\"text-align: right;\">0.491668</td><td style=\"text-align: right;\">-0.130603</td></tr>\n",
       "<tr><td>twitter </td><td style=\"text-align: right;\">0.68271 </td><td style=\"text-align: right;\">-0.141185</td></tr>\n",
       "<tr><td>aah     </td><td style=\"text-align: right;\">0.734434</td><td style=\"text-align: right;\">-0.165313</td></tr>\n",
       "<tr><td>reverted</td><td style=\"text-align: right;\">0.635951</td><td style=\"text-align: right;\">-0.420142</td></tr>\n",
       "<tr><td>mroe    </td><td style=\"text-align: right;\">0.880976</td><td style=\"text-align: right;\">-0.260723</td></tr>\n",
       "</tbody>\n",
       "</table>"
      ]
     },
     "metadata": {},
     "output_type": "display_data"
    },
    {
     "data": {
      "text/plain": []
     },
     "execution_count": 19,
     "metadata": {},
     "output_type": "execute_result"
    }
   ],
   "source": [
    "word_embeddings = w2v_len2_model.to_frame()\n",
    "word_embeddings.head()"
   ]
  },
  {
   "cell_type": "code",
   "execution_count": 20,
   "metadata": {},
   "outputs": [
    {
     "data": {
      "text/plain": [
       "[19180, 3]"
      ]
     },
     "execution_count": 20,
     "metadata": {},
     "output_type": "execute_result"
    }
   ],
   "source": [
    "word_embeddings.dim"
   ]
  },
  {
   "cell_type": "code",
   "execution_count": 21,
   "metadata": {},
   "outputs": [],
   "source": [
    "# Filter Word Embeddings to selected words\n",
    "\n",
    "selected_words = [\"coffee\", \"espresso\", \"starbucks\", \"sweet\", \"salty\", \"savory\", \"email\", \"support\", \"answered\", \n",
    "                  \"unhappy\", \"waited\", \"returned\", \"tasty\", \"yummy\", \"moldy\", \"expired\", \"salmonella\", \"best\", \n",
    "                  \"amazing\", \"abdominal\", \"folic\", \"zinc\"]\n",
    "\n",
    "filtered_embeddings = word_embeddings[word_embeddings[\"Word\"].isin(selected_words)]\n",
    "plot_data = filtered_embeddings.as_data_frame(use_pandas = True)"
   ]
  },
  {
   "cell_type": "code",
   "execution_count": 22,
   "metadata": {},
   "outputs": [
    {
     "data": {
      "image/png": "[encoded data removed]",
      "text/plain": [
       "<Figure size 1440x720 with 1 Axes>"
      ]
     },
     "metadata": {
      "needs_background": "light"
     },
     "output_type": "display_data"
    }
   ],
   "source": [
    "# Plot Word Embeddings\n",
    "import matplotlib.pyplot as plt\n",
    "\n",
    "fig, ax = plt.subplots(figsize=(20, 10))\n",
    "ax.scatter(plot_data[\"V1\"], plot_data[\"V2\"])\n",
    "\n",
    "for i, txt in enumerate(plot_data[\"Word\"]):\n",
    "    ax.annotate(txt, (plot_data[\"V1\"].iloc[i], plot_data[\"V2\"].iloc[i]))"
   ]
  },
  {
   "cell_type": "code",
   "execution_count": 23,
   "metadata": {},
   "outputs": [
    {
     "name": "stdout",
     "output_type": "stream",
     "text": [
      "word2vec Model Build progress: |██████████████████████████████████████████| 100%\n"
     ]
    }
   ],
   "source": [
    "# Train Word2Vec Model for vec size = 100\n",
    "w2v_model = H2OWord2vecEstimator(vec_size = 100, model_id = \"w2v.hex\")\n",
    "w2v_model.train(training_frame=words)"
   ]
  },
  {
   "cell_type": "code",
   "execution_count": 24,
   "metadata": {},
   "outputs": [
    {
     "data": {
      "text/plain": [
       "OrderedDict([('coffe', 0.82940673828125),\n",
       "             ('espresso', 0.7913356423377991),\n",
       "             ('coffees', 0.7650356888771057),\n",
       "             ('expresso', 0.751103937625885),\n",
       "             ('cofee', 0.7414178252220154)])"
      ]
     },
     "execution_count": 24,
     "metadata": {},
     "output_type": "execute_result"
    }
   ],
   "source": [
    "# Sanity check - find synonyms for the word 'coffee'\n",
    "w2v_model.find_synonyms(\"coffee\", count = 5)"
   ]
  },
  {
   "cell_type": "code",
   "execution_count": 25,
   "metadata": {},
   "outputs": [
    {
     "data": {
      "text/plain": [
       "OrderedDict([('moldy', 0.7483037114143372),\n",
       "             ('rancid', 0.7062056660652161),\n",
       "             ('inedible', 0.6947444677352905),\n",
       "             ('unedible', 0.6707872152328491),\n",
       "             ('mealy', 0.6430482268333435)])"
      ]
     },
     "execution_count": 25,
     "metadata": {},
     "output_type": "execute_result"
    }
   ],
   "source": [
    "# Sanity check - find synonyms for the word 'stale'\n",
    "w2v_model.find_synonyms(\"stale\", count = 5)"
   ]
  },
  {
   "cell_type": "code",
   "execution_count": 26,
   "metadata": {},
   "outputs": [
    {
     "data": {
      "text/html": [
       "<table>\n",
       "<thead>\n",
       "<tr><th>Word    </th><th style=\"text-align: right;\">        V1</th><th style=\"text-align: right;\">        V2</th><th style=\"text-align: right;\">        V3</th><th style=\"text-align: right;\">        V4</th><th style=\"text-align: right;\">        V5</th><th style=\"text-align: right;\">         V6</th><th style=\"text-align: right;\">        V7</th><th style=\"text-align: right;\">         V8</th><th style=\"text-align: right;\">        V9</th><th style=\"text-align: right;\">       V10</th><th style=\"text-align: right;\">        V11</th><th style=\"text-align: right;\">        V12</th><th style=\"text-align: right;\">       V13</th><th style=\"text-align: right;\">        V14</th><th style=\"text-align: right;\">        V15</th><th style=\"text-align: right;\">        V16</th><th style=\"text-align: right;\">       V17</th><th style=\"text-align: right;\">       V18</th><th style=\"text-align: right;\">       V19</th><th style=\"text-align: right;\">       V20</th><th style=\"text-align: right;\">        V21</th><th style=\"text-align: right;\">       V22</th><th style=\"text-align: right;\">        V23</th><th style=\"text-align: right;\">       V24</th><th style=\"text-align: right;\">        V25</th><th style=\"text-align: right;\">       V26</th><th style=\"text-align: right;\">       V27</th><th style=\"text-align: right;\">       V28</th><th style=\"text-align: right;\">       V29</th><th style=\"text-align: right;\">        V30</th><th style=\"text-align: right;\">       V31</th><th style=\"text-align: right;\">      V32</th><th style=\"text-align: right;\">       V33</th><th style=\"text-align: right;\">         V34</th><th style=\"text-align: right;\">       V35</th><th style=\"text-align: right;\">       V36</th><th style=\"text-align: right;\">       V37</th><th style=\"text-align: right;\">       V38</th><th style=\"text-align: right;\">       V39</th><th style=\"text-align: right;\">       V40</th><th style=\"text-align: right;\">       V41</th><th style=\"text-align: right;\">       V42</th><th style=\"text-align: right;\">        V43</th><th style=\"text-align: right;\">       V44</th><th style=\"text-align: right;\">       V45</th><th style=\"text-align: right;\">       V46</th><th style=\"text-align: right;\">       V47</th><th style=\"text-align: right;\">        V48</th><th style=\"text-align: right;\">       V49</th><th style=\"text-align: right;\">        V50</th><th style=\"text-align: right;\">       V51</th><th style=\"text-align: right;\">        V52</th><th style=\"text-align: right;\">        V53</th><th style=\"text-align: right;\">        V54</th><th style=\"text-align: right;\">        V55</th><th style=\"text-align: right;\">         V56</th><th style=\"text-align: right;\">       V57</th><th style=\"text-align: right;\">       V58</th><th style=\"text-align: right;\">      V59</th><th style=\"text-align: right;\">       V60</th><th style=\"text-align: right;\">       V61</th><th style=\"text-align: right;\">        V62</th><th style=\"text-align: right;\">       V63</th><th style=\"text-align: right;\">       V64</th><th style=\"text-align: right;\">        V65</th><th style=\"text-align: right;\">        V66</th><th style=\"text-align: right;\">       V67</th><th style=\"text-align: right;\">       V68</th><th style=\"text-align: right;\">       V69</th><th style=\"text-align: right;\">       V70</th><th style=\"text-align: right;\">        V71</th><th style=\"text-align: right;\">        V72</th><th style=\"text-align: right;\">       V73</th><th style=\"text-align: right;\">       V74</th><th style=\"text-align: right;\">       V75</th><th style=\"text-align: right;\">       V76</th><th style=\"text-align: right;\">        V77</th><th style=\"text-align: right;\">       V78</th><th style=\"text-align: right;\">       V79</th><th style=\"text-align: right;\">        V80</th><th style=\"text-align: right;\">        V81</th><th style=\"text-align: right;\">       V82</th><th style=\"text-align: right;\">       V83</th><th style=\"text-align: right;\">       V84</th><th style=\"text-align: right;\">       V85</th><th style=\"text-align: right;\">       V86</th><th style=\"text-align: right;\">       V87</th><th style=\"text-align: right;\">        V88</th><th style=\"text-align: right;\">         V89</th><th style=\"text-align: right;\">        V90</th><th style=\"text-align: right;\">       V91</th><th style=\"text-align: right;\">       V92</th><th style=\"text-align: right;\">         V93</th><th style=\"text-align: right;\">       V94</th><th style=\"text-align: right;\">       V95</th><th style=\"text-align: right;\">       V96</th><th style=\"text-align: right;\">      V97</th><th style=\"text-align: right;\">        V98</th><th style=\"text-align: right;\">       V99</th><th style=\"text-align: right;\">       V100</th></tr>\n",
       "</thead>\n",
       "<tbody>\n",
       "<tr><td>kronung </td><td style=\"text-align: right;\">-0.0792528</td><td style=\"text-align: right;\">-0.0370757</td><td style=\"text-align: right;\">-0.0586272</td><td style=\"text-align: right;\"> 0.0939821</td><td style=\"text-align: right;\">-0.181839 </td><td style=\"text-align: right;\">-0.017946  </td><td style=\"text-align: right;\"> 0.0120699</td><td style=\"text-align: right;\">-0.17256   </td><td style=\"text-align: right;\">-0.266287 </td><td style=\"text-align: right;\">-0.024207 </td><td style=\"text-align: right;\"> 0.0374386 </td><td style=\"text-align: right;\"> 0.0670545 </td><td style=\"text-align: right;\">-0.245215 </td><td style=\"text-align: right;\"> 0.0162346 </td><td style=\"text-align: right;\"> 0.0588064 </td><td style=\"text-align: right;\">-0.148941  </td><td style=\"text-align: right;\"> 0.164106 </td><td style=\"text-align: right;\"> 0.0524249</td><td style=\"text-align: right;\"> 0.240298 </td><td style=\"text-align: right;\">-0.0440404</td><td style=\"text-align: right;\">-0.0477422 </td><td style=\"text-align: right;\">-0.0350006</td><td style=\"text-align: right;\">-0.256759  </td><td style=\"text-align: right;\">-0.0156323</td><td style=\"text-align: right;\"> 0.00570741</td><td style=\"text-align: right;\">-0.194637 </td><td style=\"text-align: right;\">-0.0671118</td><td style=\"text-align: right;\">-0.192517 </td><td style=\"text-align: right;\"> 0.105447 </td><td style=\"text-align: right;\"> 0.00156338</td><td style=\"text-align: right;\">-0.0835058</td><td style=\"text-align: right;\">0.267269 </td><td style=\"text-align: right;\">-0.0278297</td><td style=\"text-align: right;\">-0.025915   </td><td style=\"text-align: right;\"> 0.123187 </td><td style=\"text-align: right;\">-0.229378 </td><td style=\"text-align: right;\">-0.126726 </td><td style=\"text-align: right;\">-0.163668 </td><td style=\"text-align: right;\">-0.178696 </td><td style=\"text-align: right;\"> 0.0293393</td><td style=\"text-align: right;\"> 0.151317 </td><td style=\"text-align: right;\">-0.186325 </td><td style=\"text-align: right;\">-0.0936187 </td><td style=\"text-align: right;\"> 0.20012  </td><td style=\"text-align: right;\"> 0.0758513</td><td style=\"text-align: right;\">-0.0987916</td><td style=\"text-align: right;\">-0.0290874</td><td style=\"text-align: right;\"> 0.0296526 </td><td style=\"text-align: right;\"> 0.112373 </td><td style=\"text-align: right;\">-0.0943505 </td><td style=\"text-align: right;\"> 0.147155 </td><td style=\"text-align: right;\">-0.0955885 </td><td style=\"text-align: right;\">-0.0817541 </td><td style=\"text-align: right;\">-0.0350407 </td><td style=\"text-align: right;\"> 0.0364105 </td><td style=\"text-align: right;\"> 0.000542214</td><td style=\"text-align: right;\">-0.0691402</td><td style=\"text-align: right;\"> 0.253191 </td><td style=\"text-align: right;\">0.151188 </td><td style=\"text-align: right;\">0.313655  </td><td style=\"text-align: right;\">-0.186834 </td><td style=\"text-align: right;\">-0.104668  </td><td style=\"text-align: right;\">-0.278715 </td><td style=\"text-align: right;\">-0.23644  </td><td style=\"text-align: right;\">-0.0585983 </td><td style=\"text-align: right;\"> 0.0220837 </td><td style=\"text-align: right;\">-0.047496 </td><td style=\"text-align: right;\"> 0.0252091</td><td style=\"text-align: right;\">-0.177058 </td><td style=\"text-align: right;\"> 0.108058 </td><td style=\"text-align: right;\">-0.101604  </td><td style=\"text-align: right;\"> 0.118264  </td><td style=\"text-align: right;\">-0.0945384</td><td style=\"text-align: right;\"> 0.0252731</td><td style=\"text-align: right;\"> 0.0601711</td><td style=\"text-align: right;\">-0.073019 </td><td style=\"text-align: right;\">-0.0370719 </td><td style=\"text-align: right;\"> 0.190243 </td><td style=\"text-align: right;\">-0.0106563</td><td style=\"text-align: right;\"> 0.200225  </td><td style=\"text-align: right;\">-0.00612189</td><td style=\"text-align: right;\">-0.0611352</td><td style=\"text-align: right;\">-0.13213  </td><td style=\"text-align: right;\">-0.0689996</td><td style=\"text-align: right;\">-0.0989263</td><td style=\"text-align: right;\"> 0.0261873</td><td style=\"text-align: right;\">-0.0326921</td><td style=\"text-align: right;\"> 0.0710557 </td><td style=\"text-align: right;\">-0.178257   </td><td style=\"text-align: right;\">-0.0174128 </td><td style=\"text-align: right;\"> 0.206543 </td><td style=\"text-align: right;\">-0.290108 </td><td style=\"text-align: right;\">-0.0619036  </td><td style=\"text-align: right;\">-0.0514058</td><td style=\"text-align: right;\">-0.0403146</td><td style=\"text-align: right;\"> 0.015031 </td><td style=\"text-align: right;\"> 0.169185</td><td style=\"text-align: right;\"> 0.1537    </td><td style=\"text-align: right;\">-0.188319 </td><td style=\"text-align: right;\">-0.0233891 </td></tr>\n",
       "<tr><td>berge   </td><td style=\"text-align: right;\">-0.0411517</td><td style=\"text-align: right;\"> 0.0515228</td><td style=\"text-align: right;\"> 0.0259242</td><td style=\"text-align: right;\">-0.224889 </td><td style=\"text-align: right;\">-0.343399 </td><td style=\"text-align: right;\"> 0.136873  </td><td style=\"text-align: right;\">-0.119975 </td><td style=\"text-align: right;\">-0.135492  </td><td style=\"text-align: right;\"> 0.0882545</td><td style=\"text-align: right;\">-0.271753 </td><td style=\"text-align: right;\">-0.0699823 </td><td style=\"text-align: right;\">-0.0841226 </td><td style=\"text-align: right;\">-0.109784 </td><td style=\"text-align: right;\"> 0.190063  </td><td style=\"text-align: right;\">-0.035238  </td><td style=\"text-align: right;\">-0.00548094</td><td style=\"text-align: right;\"> 0.0965036</td><td style=\"text-align: right;\">-0.143481 </td><td style=\"text-align: right;\"> 0.0923574</td><td style=\"text-align: right;\">-0.0901066</td><td style=\"text-align: right;\">-0.0230048 </td><td style=\"text-align: right;\">-0.091476 </td><td style=\"text-align: right;\">-0.142829  </td><td style=\"text-align: right;\">-0.195187 </td><td style=\"text-align: right;\"> 0.0489124 </td><td style=\"text-align: right;\">-0.267043 </td><td style=\"text-align: right;\"> 0.124465 </td><td style=\"text-align: right;\">-0.237728 </td><td style=\"text-align: right;\"> 0.118568 </td><td style=\"text-align: right;\">-0.0442787 </td><td style=\"text-align: right;\">-0.0988112</td><td style=\"text-align: right;\">0.0397322</td><td style=\"text-align: right;\"> 0.0822322</td><td style=\"text-align: right;\">-0.0619197  </td><td style=\"text-align: right;\">-0.162401 </td><td style=\"text-align: right;\">-0.189245 </td><td style=\"text-align: right;\"> 0.222569 </td><td style=\"text-align: right;\">-0.0410941</td><td style=\"text-align: right;\"> 0.156199 </td><td style=\"text-align: right;\"> 0.0127588</td><td style=\"text-align: right;\">-0.255564 </td><td style=\"text-align: right;\">-0.0471165</td><td style=\"text-align: right;\">-0.0275247 </td><td style=\"text-align: right;\"> 0.13069  </td><td style=\"text-align: right;\">-0.0910257</td><td style=\"text-align: right;\"> 0.10914  </td><td style=\"text-align: right;\">-0.113769 </td><td style=\"text-align: right;\">-0.0384861 </td><td style=\"text-align: right;\"> 0.0340268</td><td style=\"text-align: right;\"> 0.0660728 </td><td style=\"text-align: right;\"> 0.0157197</td><td style=\"text-align: right;\">-0.100675  </td><td style=\"text-align: right;\">-0.123533  </td><td style=\"text-align: right;\">-0.223497  </td><td style=\"text-align: right;\"> 0.350568  </td><td style=\"text-align: right;\"> 0.112524   </td><td style=\"text-align: right;\"> 0.0652024</td><td style=\"text-align: right;\">-0.0182273</td><td style=\"text-align: right;\">0.0495576</td><td style=\"text-align: right;\">0.124176  </td><td style=\"text-align: right;\">-0.0852473</td><td style=\"text-align: right;\">-0.102837  </td><td style=\"text-align: right;\">-0.210311 </td><td style=\"text-align: right;\"> 0.0106309</td><td style=\"text-align: right;\"> 0.168859  </td><td style=\"text-align: right;\"> 0.0570995 </td><td style=\"text-align: right;\">-0.0798146</td><td style=\"text-align: right;\"> 0.109205 </td><td style=\"text-align: right;\">-0.107475 </td><td style=\"text-align: right;\"> 0.0712606</td><td style=\"text-align: right;\">-0.0120889 </td><td style=\"text-align: right;\"> 0.103008  </td><td style=\"text-align: right;\">-0.149133 </td><td style=\"text-align: right;\"> 0.172761 </td><td style=\"text-align: right;\"> 0.106453 </td><td style=\"text-align: right;\"> 0.0317233</td><td style=\"text-align: right;\"> 0.0712124 </td><td style=\"text-align: right;\"> 0.0418931</td><td style=\"text-align: right;\"> 0.19248  </td><td style=\"text-align: right;\">-0.108861  </td><td style=\"text-align: right;\"> 0.162012  </td><td style=\"text-align: right;\"> 0.101949 </td><td style=\"text-align: right;\">-0.0768699</td><td style=\"text-align: right;\">-0.130121 </td><td style=\"text-align: right;\">-0.0760271</td><td style=\"text-align: right;\">-0.160624 </td><td style=\"text-align: right;\">-0.0568905</td><td style=\"text-align: right;\"> 0.166684  </td><td style=\"text-align: right;\"> 0.00566489 </td><td style=\"text-align: right;\"> 0.120513  </td><td style=\"text-align: right;\"> 0.0764674</td><td style=\"text-align: right;\">-0.325192 </td><td style=\"text-align: right;\"> 0.0202238  </td><td style=\"text-align: right;\">-0.222704 </td><td style=\"text-align: right;\">-0.116827 </td><td style=\"text-align: right;\">-0.153573 </td><td style=\"text-align: right;\"> 0.239026</td><td style=\"text-align: right;\">-0.298891  </td><td style=\"text-align: right;\">-0.100764 </td><td style=\"text-align: right;\"> 0.00597683</td></tr>\n",
       "<tr><td>ewww    </td><td style=\"text-align: right;\"> 0.203569 </td><td style=\"text-align: right;\"> 0.0219563</td><td style=\"text-align: right;\"> 0.157836 </td><td style=\"text-align: right;\">-0.0382243</td><td style=\"text-align: right;\">-0.0556094</td><td style=\"text-align: right;\">-0.0301353 </td><td style=\"text-align: right;\"> 0.20077  </td><td style=\"text-align: right;\">-0.207374  </td><td style=\"text-align: right;\">-0.227362 </td><td style=\"text-align: right;\">-0.150675 </td><td style=\"text-align: right;\">-0.0362023 </td><td style=\"text-align: right;\">-0.145955  </td><td style=\"text-align: right;\"> 0.140533 </td><td style=\"text-align: right;\">-0.0241996 </td><td style=\"text-align: right;\">-0.0314616 </td><td style=\"text-align: right;\">-0.0566943 </td><td style=\"text-align: right;\"> 0.101031 </td><td style=\"text-align: right;\"> 0.062978 </td><td style=\"text-align: right;\"> 0.137753 </td><td style=\"text-align: right;\">-0.0085688</td><td style=\"text-align: right;\">-0.00021823</td><td style=\"text-align: right;\"> 0.0570398</td><td style=\"text-align: right;\"> 0.0522412 </td><td style=\"text-align: right;\">-0.0919529</td><td style=\"text-align: right;\">-0.00430461</td><td style=\"text-align: right;\">-0.138241 </td><td style=\"text-align: right;\">-0.0582671</td><td style=\"text-align: right;\">-0.0465493</td><td style=\"text-align: right;\"> 0.0477693</td><td style=\"text-align: right;\">-0.0823059 </td><td style=\"text-align: right;\">-0.07848  </td><td style=\"text-align: right;\">0.262936 </td><td style=\"text-align: right;\">-0.35026  </td><td style=\"text-align: right;\">-0.126651   </td><td style=\"text-align: right;\"> 0.0072032</td><td style=\"text-align: right;\">-0.157406 </td><td style=\"text-align: right;\"> 0.0625988</td><td style=\"text-align: right;\">-0.142986 </td><td style=\"text-align: right;\">-0.225963 </td><td style=\"text-align: right;\">-0.0900258</td><td style=\"text-align: right;\">-0.113117 </td><td style=\"text-align: right;\">-0.108915 </td><td style=\"text-align: right;\"> 0.0936273 </td><td style=\"text-align: right;\">-0.0570692</td><td style=\"text-align: right;\"> 0.101127 </td><td style=\"text-align: right;\">-0.0273744</td><td style=\"text-align: right;\">-0.120672 </td><td style=\"text-align: right;\">-0.00124344</td><td style=\"text-align: right;\">-0.0449032</td><td style=\"text-align: right;\">-0.120647  </td><td style=\"text-align: right;\">-0.030369 </td><td style=\"text-align: right;\"> 0.0820543 </td><td style=\"text-align: right;\"> 0.0464153 </td><td style=\"text-align: right;\">-0.0996215 </td><td style=\"text-align: right;\"> 0.00263844</td><td style=\"text-align: right;\"> 0.0214956  </td><td style=\"text-align: right;\"> 0.0286003</td><td style=\"text-align: right;\"> 0.0198099</td><td style=\"text-align: right;\">0.0350037</td><td style=\"text-align: right;\">0.101076  </td><td style=\"text-align: right;\">-0.0315106</td><td style=\"text-align: right;\"> 0.00863533</td><td style=\"text-align: right;\">-0.21503  </td><td style=\"text-align: right;\">-0.135785 </td><td style=\"text-align: right;\">-0.0429184 </td><td style=\"text-align: right;\"> 0.156916  </td><td style=\"text-align: right;\">-0.122713 </td><td style=\"text-align: right;\"> 0.212133 </td><td style=\"text-align: right;\">-0.0120839</td><td style=\"text-align: right;\"> 0.0819865</td><td style=\"text-align: right;\">-0.131254  </td><td style=\"text-align: right;\"> 0.00651489</td><td style=\"text-align: right;\"> 0.0987493</td><td style=\"text-align: right;\"> 0.0657174</td><td style=\"text-align: right;\">-0.175248 </td><td style=\"text-align: right;\"> 0.136525 </td><td style=\"text-align: right;\">-0.0133887 </td><td style=\"text-align: right;\"> 0.161084 </td><td style=\"text-align: right;\"> 0.269677 </td><td style=\"text-align: right;\"> 0.0530474 </td><td style=\"text-align: right;\">-0.081077  </td><td style=\"text-align: right;\">-0.109626 </td><td style=\"text-align: right;\">-0.144367 </td><td style=\"text-align: right;\"> 0.110165 </td><td style=\"text-align: right;\">-0.0264184</td><td style=\"text-align: right;\"> 0.108578 </td><td style=\"text-align: right;\"> 0.103107 </td><td style=\"text-align: right;\">-0.0210179 </td><td style=\"text-align: right;\"> 0.107154   </td><td style=\"text-align: right;\"> 0.155977  </td><td style=\"text-align: right;\"> 0.0866213</td><td style=\"text-align: right;\"> 0.085634 </td><td style=\"text-align: right;\">-0.0460668  </td><td style=\"text-align: right;\"> 0.181092 </td><td style=\"text-align: right;\"> 0.0368693</td><td style=\"text-align: right;\">-0.0346971</td><td style=\"text-align: right;\"> 0.214552</td><td style=\"text-align: right;\">-0.280042  </td><td style=\"text-align: right;\">-0.0939152</td><td style=\"text-align: right;\">-0.0438017 </td></tr>\n",
       "<tr><td>maison  </td><td style=\"text-align: right;\">-0.319128 </td><td style=\"text-align: right;\">-0.0114482</td><td style=\"text-align: right;\"> 0.190619 </td><td style=\"text-align: right;\">-0.084491 </td><td style=\"text-align: right;\">-0.0241784</td><td style=\"text-align: right;\"> 0.191     </td><td style=\"text-align: right;\"> 0.120603 </td><td style=\"text-align: right;\">-0.145145  </td><td style=\"text-align: right;\">-0.184897 </td><td style=\"text-align: right;\"> 0.0206803</td><td style=\"text-align: right;\">-0.103528  </td><td style=\"text-align: right;\"> 0.192345  </td><td style=\"text-align: right;\">-0.250317 </td><td style=\"text-align: right;\">-0.174728  </td><td style=\"text-align: right;\"> 0.200112  </td><td style=\"text-align: right;\">-0.104637  </td><td style=\"text-align: right;\"> 0.130006 </td><td style=\"text-align: right;\">-0.0459733</td><td style=\"text-align: right;\"> 0.0634428</td><td style=\"text-align: right;\"> 0.182844 </td><td style=\"text-align: right;\">-0.0854511 </td><td style=\"text-align: right;\">-0.0378358</td><td style=\"text-align: right;\">-0.120797  </td><td style=\"text-align: right;\"> 0.193947 </td><td style=\"text-align: right;\">-0.122451  </td><td style=\"text-align: right;\">-0.121392 </td><td style=\"text-align: right;\"> 0.199702 </td><td style=\"text-align: right;\">-0.248923 </td><td style=\"text-align: right;\"> 0.118977 </td><td style=\"text-align: right;\">-0.240042  </td><td style=\"text-align: right;\">-0.128626 </td><td style=\"text-align: right;\">0.184559 </td><td style=\"text-align: right;\">-0.37119  </td><td style=\"text-align: right;\">-0.00395339 </td><td style=\"text-align: right;\">-0.0644138</td><td style=\"text-align: right;\">-0.49397  </td><td style=\"text-align: right;\">-0.327342 </td><td style=\"text-align: right;\"> 0.0770964</td><td style=\"text-align: right;\">-0.202071 </td><td style=\"text-align: right;\">-0.0271609</td><td style=\"text-align: right;\">-0.0208958</td><td style=\"text-align: right;\">-0.162848 </td><td style=\"text-align: right;\">-0.19414   </td><td style=\"text-align: right;\"> 0.183419 </td><td style=\"text-align: right;\"> 0.226486 </td><td style=\"text-align: right;\"> 0.376958 </td><td style=\"text-align: right;\">-0.165728 </td><td style=\"text-align: right;\"> 0.116566  </td><td style=\"text-align: right;\">-0.272612 </td><td style=\"text-align: right;\"> 0.0566361 </td><td style=\"text-align: right;\"> 0.0982677</td><td style=\"text-align: right;\">-0.0701917 </td><td style=\"text-align: right;\">-0.365467  </td><td style=\"text-align: right;\"> 0.0525233 </td><td style=\"text-align: right;\"> 0.114851  </td><td style=\"text-align: right;\"> 0.019788   </td><td style=\"text-align: right;\">-0.11057  </td><td style=\"text-align: right;\">-0.0834576</td><td style=\"text-align: right;\">0.179423 </td><td style=\"text-align: right;\">0.0233576 </td><td style=\"text-align: right;\">-0.4414   </td><td style=\"text-align: right;\"> 0.215351  </td><td style=\"text-align: right;\">-0.460096 </td><td style=\"text-align: right;\">-0.440582 </td><td style=\"text-align: right;\"> 0.0327802 </td><td style=\"text-align: right;\">-0.00983455</td><td style=\"text-align: right;\">-0.248351 </td><td style=\"text-align: right;\">-0.120417 </td><td style=\"text-align: right;\">-0.0699752</td><td style=\"text-align: right;\"> 0.0452765</td><td style=\"text-align: right;\"> 0.00578412</td><td style=\"text-align: right;\">-0.0265557 </td><td style=\"text-align: right;\">-0.0753858</td><td style=\"text-align: right;\"> 0.0391986</td><td style=\"text-align: right;\"> 0.0827714</td><td style=\"text-align: right;\">-0.348074 </td><td style=\"text-align: right;\"> 0.0613278 </td><td style=\"text-align: right;\">-0.0491862</td><td style=\"text-align: right;\">-0.18641  </td><td style=\"text-align: right;\"> 0.314684  </td><td style=\"text-align: right;\">-0.0922672 </td><td style=\"text-align: right;\">-0.0416369</td><td style=\"text-align: right;\"> 0.141191 </td><td style=\"text-align: right;\">-0.128888 </td><td style=\"text-align: right;\"> 0.111327 </td><td style=\"text-align: right;\">-0.385846 </td><td style=\"text-align: right;\"> 0.088922 </td><td style=\"text-align: right;\"> 0.150479  </td><td style=\"text-align: right;\"> 0.00319765 </td><td style=\"text-align: right;\"> 0.00645796</td><td style=\"text-align: right;\">-0.118342 </td><td style=\"text-align: right;\">-0.400866 </td><td style=\"text-align: right;\"> 0.000492509</td><td style=\"text-align: right;\"> 0.0267028</td><td style=\"text-align: right;\">-0.0621052</td><td style=\"text-align: right;\"> 0.057964 </td><td style=\"text-align: right;\">-0.238675</td><td style=\"text-align: right;\"> 0.0404513 </td><td style=\"text-align: right;\">-0.128623 </td><td style=\"text-align: right;\"> 0.269154  </td></tr>\n",
       "<tr><td>mattered</td><td style=\"text-align: right;\"> 0.0705759</td><td style=\"text-align: right;\"> 0.232704 </td><td style=\"text-align: right;\"> 0.136336 </td><td style=\"text-align: right;\">-0.195087 </td><td style=\"text-align: right;\">-0.0684825</td><td style=\"text-align: right;\"> 0.0967539 </td><td style=\"text-align: right;\"> 0.405273 </td><td style=\"text-align: right;\"> 0.0246577 </td><td style=\"text-align: right;\"> 0.0260209</td><td style=\"text-align: right;\"> 0.0149399</td><td style=\"text-align: right;\">-0.132222  </td><td style=\"text-align: right;\"> 0.0134224 </td><td style=\"text-align: right;\">-0.0283912</td><td style=\"text-align: right;\"> 0.00334384</td><td style=\"text-align: right;\">-0.032761  </td><td style=\"text-align: right;\">-0.170085  </td><td style=\"text-align: right;\"> 0.25253  </td><td style=\"text-align: right;\">-0.0234827</td><td style=\"text-align: right;\"> 0.18018  </td><td style=\"text-align: right;\"> 0.0843299</td><td style=\"text-align: right;\">-0.136814  </td><td style=\"text-align: right;\">-0.0238193</td><td style=\"text-align: right;\"> 0.0574233 </td><td style=\"text-align: right;\">-0.297164 </td><td style=\"text-align: right;\">-0.261926  </td><td style=\"text-align: right;\"> 0.126194 </td><td style=\"text-align: right;\">-0.0952951</td><td style=\"text-align: right;\">-0.0587698</td><td style=\"text-align: right;\"> 0.0827003</td><td style=\"text-align: right;\">-0.186798  </td><td style=\"text-align: right;\">-0.0840845</td><td style=\"text-align: right;\">0.0775517</td><td style=\"text-align: right;\">-0.378529 </td><td style=\"text-align: right;\">-0.20368    </td><td style=\"text-align: right;\">-0.132258 </td><td style=\"text-align: right;\">-0.231363 </td><td style=\"text-align: right;\"> 0.175471 </td><td style=\"text-align: right;\">-0.0367404</td><td style=\"text-align: right;\">-0.0716075</td><td style=\"text-align: right;\">-0.059626 </td><td style=\"text-align: right;\">-0.27304  </td><td style=\"text-align: right;\">-0.282495 </td><td style=\"text-align: right;\">-0.035875  </td><td style=\"text-align: right;\">-0.15322  </td><td style=\"text-align: right;\">-0.10991  </td><td style=\"text-align: right;\"> 0.0713243</td><td style=\"text-align: right;\"> 0.125348 </td><td style=\"text-align: right;\">-0.0130937 </td><td style=\"text-align: right;\">-0.242675 </td><td style=\"text-align: right;\"> 0.0302934 </td><td style=\"text-align: right;\"> 0.133777 </td><td style=\"text-align: right;\"> 0.137877  </td><td style=\"text-align: right;\">-0.0419649 </td><td style=\"text-align: right;\"> 0.158144  </td><td style=\"text-align: right;\"> 0.0335115 </td><td style=\"text-align: right;\"> 0.309399   </td><td style=\"text-align: right;\">-0.16125  </td><td style=\"text-align: right;\"> 0.251148 </td><td style=\"text-align: right;\">0.2076   </td><td style=\"text-align: right;\">0.0957244 </td><td style=\"text-align: right;\"> 0.141169 </td><td style=\"text-align: right;\">-0.00560559</td><td style=\"text-align: right;\"> 0.011339 </td><td style=\"text-align: right;\"> 0.06372  </td><td style=\"text-align: right;\">-0.0529459 </td><td style=\"text-align: right;\">-0.0845639 </td><td style=\"text-align: right;\"> 0.0449705</td><td style=\"text-align: right;\"> 0.177063 </td><td style=\"text-align: right;\">-0.0263895</td><td style=\"text-align: right;\"> 0.0427155</td><td style=\"text-align: right;\">-0.198941  </td><td style=\"text-align: right;\"> 0.0407135 </td><td style=\"text-align: right;\"> 0.24357  </td><td style=\"text-align: right;\"> 0.16564  </td><td style=\"text-align: right;\">-0.155288 </td><td style=\"text-align: right;\"> 0.113446 </td><td style=\"text-align: right;\"> 0.00599911</td><td style=\"text-align: right;\"> 0.0579271</td><td style=\"text-align: right;\">-0.0528781</td><td style=\"text-align: right;\"> 0.0707403 </td><td style=\"text-align: right;\"> 0.119856  </td><td style=\"text-align: right;\">-0.0824687</td><td style=\"text-align: right;\">-0.202714 </td><td style=\"text-align: right;\"> 0.240325 </td><td style=\"text-align: right;\"> 0.124696 </td><td style=\"text-align: right;\"> 0.213905 </td><td style=\"text-align: right;\">-0.0170317</td><td style=\"text-align: right;\">-0.0353507 </td><td style=\"text-align: right;\"> 0.0202138  </td><td style=\"text-align: right;\"> 0.16721   </td><td style=\"text-align: right;\"> 0.0409698</td><td style=\"text-align: right;\"> 0.0122394</td><td style=\"text-align: right;\">-0.017783   </td><td style=\"text-align: right;\"> 0.0865596</td><td style=\"text-align: right;\">-0.18468  </td><td style=\"text-align: right;\"> 0.0637123</td><td style=\"text-align: right;\"> 0.173108</td><td style=\"text-align: right;\">-0.187072  </td><td style=\"text-align: right;\">-0.311982 </td><td style=\"text-align: right;\"> 0.0349426 </td></tr>\n",
       "<tr><td>helpings</td><td style=\"text-align: right;\"> 0.0325454</td><td style=\"text-align: right;\"> 0.118656 </td><td style=\"text-align: right;\"> 0.0777548</td><td style=\"text-align: right;\">-0.0712228</td><td style=\"text-align: right;\">-0.125929 </td><td style=\"text-align: right;\"> 0.0182957 </td><td style=\"text-align: right;\"> 0.216999 </td><td style=\"text-align: right;\"> 0.114559  </td><td style=\"text-align: right;\"> 0.0670792</td><td style=\"text-align: right;\">-0.135776 </td><td style=\"text-align: right;\">-0.0823099 </td><td style=\"text-align: right;\">-0.0259368 </td><td style=\"text-align: right;\"> 0.0787619</td><td style=\"text-align: right;\">-0.0061444 </td><td style=\"text-align: right;\"> 0.228184  </td><td style=\"text-align: right;\">-0.0683974 </td><td style=\"text-align: right;\"> 0.0271976</td><td style=\"text-align: right;\"> 0.157107 </td><td style=\"text-align: right;\">-0.018868 </td><td style=\"text-align: right;\"> 0.328533 </td><td style=\"text-align: right;\">-0.142853  </td><td style=\"text-align: right;\"> 0.118453 </td><td style=\"text-align: right;\"> 0.130511  </td><td style=\"text-align: right;\">-0.035796 </td><td style=\"text-align: right;\">-0.147392  </td><td style=\"text-align: right;\">-0.030156 </td><td style=\"text-align: right;\">-0.0539537</td><td style=\"text-align: right;\"> 0.0549228</td><td style=\"text-align: right;\"> 0.15376  </td><td style=\"text-align: right;\">-0.173596  </td><td style=\"text-align: right;\">-0.143839 </td><td style=\"text-align: right;\">0.127867 </td><td style=\"text-align: right;\">-0.194251 </td><td style=\"text-align: right;\"> 0.000829199</td><td style=\"text-align: right;\"> 0.0817222</td><td style=\"text-align: right;\">-0.0616339</td><td style=\"text-align: right;\"> 0.0396627</td><td style=\"text-align: right;\"> 0.0218251</td><td style=\"text-align: right;\"> 0.0670151</td><td style=\"text-align: right;\">-0.0563312</td><td style=\"text-align: right;\">-0.0560008</td><td style=\"text-align: right;\">-0.089239 </td><td style=\"text-align: right;\">-0.203537  </td><td style=\"text-align: right;\"> 0.056242 </td><td style=\"text-align: right;\"> 0.143424 </td><td style=\"text-align: right;\"> 0.101049 </td><td style=\"text-align: right;\">-0.0326932</td><td style=\"text-align: right;\"> 0.193875  </td><td style=\"text-align: right;\">-0.0945539</td><td style=\"text-align: right;\"> 0.00298965</td><td style=\"text-align: right;\">-0.13508  </td><td style=\"text-align: right;\"> 0.0564422 </td><td style=\"text-align: right;\">-0.0246682 </td><td style=\"text-align: right;\">-0.21595   </td><td style=\"text-align: right;\">-0.0924097 </td><td style=\"text-align: right;\">-0.14269    </td><td style=\"text-align: right;\"> 0.0889088</td><td style=\"text-align: right;\"> 0.0832264</td><td style=\"text-align: right;\">0.125885 </td><td style=\"text-align: right;\">0.0588138 </td><td style=\"text-align: right;\">-0.388906 </td><td style=\"text-align: right;\">-0.0165243 </td><td style=\"text-align: right;\"> 0.0766295</td><td style=\"text-align: right;\">-0.046702 </td><td style=\"text-align: right;\"> 0.135546  </td><td style=\"text-align: right;\"> 0.112511  </td><td style=\"text-align: right;\">-0.115508 </td><td style=\"text-align: right;\"> 0.157721 </td><td style=\"text-align: right;\">-0.189059 </td><td style=\"text-align: right;\"> 0.0992896</td><td style=\"text-align: right;\">-0.0101825 </td><td style=\"text-align: right;\">-0.0489499 </td><td style=\"text-align: right;\"> 0.0435132</td><td style=\"text-align: right;\">-0.1186   </td><td style=\"text-align: right;\">-0.0629812</td><td style=\"text-align: right;\"> 0.0155624</td><td style=\"text-align: right;\">-0.0290814 </td><td style=\"text-align: right;\">-0.0827994</td><td style=\"text-align: right;\"> 0.166271 </td><td style=\"text-align: right;\"> 0.0240538 </td><td style=\"text-align: right;\"> 0.20979   </td><td style=\"text-align: right;\">-0.144825 </td><td style=\"text-align: right;\"> 0.0825969</td><td style=\"text-align: right;\"> 0.177159 </td><td style=\"text-align: right;\">-0.202881 </td><td style=\"text-align: right;\"> 0.0632418</td><td style=\"text-align: right;\">-0.122355 </td><td style=\"text-align: right;\">-0.201247  </td><td style=\"text-align: right;\"> 0.0577691  </td><td style=\"text-align: right;\"> 0.174759  </td><td style=\"text-align: right;\">-0.0983023</td><td style=\"text-align: right;\"> 0.146414 </td><td style=\"text-align: right;\"> 0.00673383 </td><td style=\"text-align: right;\">-0.0983984</td><td style=\"text-align: right;\">-0.103793 </td><td style=\"text-align: right;\"> 0.264723 </td><td style=\"text-align: right;\"> 0.431243</td><td style=\"text-align: right;\">-0.236636  </td><td style=\"text-align: right;\">-0.360085 </td><td style=\"text-align: right;\">-0.11108   </td></tr>\n",
       "<tr><td>twitter </td><td style=\"text-align: right;\">-0.0673705</td><td style=\"text-align: right;\">-0.0767226</td><td style=\"text-align: right;\">-0.0853372</td><td style=\"text-align: right;\"> 0.0375853</td><td style=\"text-align: right;\">-0.327026 </td><td style=\"text-align: right;\"> 0.00214934</td><td style=\"text-align: right;\"> 0.067368 </td><td style=\"text-align: right;\"> 0.00475891</td><td style=\"text-align: right;\"> 0.101055 </td><td style=\"text-align: right;\">-0.0854333</td><td style=\"text-align: right;\">-0.0850787 </td><td style=\"text-align: right;\">-0.00214754</td><td style=\"text-align: right;\">-0.0168321</td><td style=\"text-align: right;\">-0.00377524</td><td style=\"text-align: right;\">-0.00133705</td><td style=\"text-align: right;\"> 0.0657238 </td><td style=\"text-align: right;\"> 0.206951 </td><td style=\"text-align: right;\">-0.0983362</td><td style=\"text-align: right;\"> 0.400634 </td><td style=\"text-align: right;\"> 0.163279 </td><td style=\"text-align: right;\">-0.343785  </td><td style=\"text-align: right;\">-0.225918 </td><td style=\"text-align: right;\">-0.0372979 </td><td style=\"text-align: right;\">-0.0702058</td><td style=\"text-align: right;\"> 0.00816541</td><td style=\"text-align: right;\">-0.267736 </td><td style=\"text-align: right;\"> 0.21086  </td><td style=\"text-align: right;\">-0.10825  </td><td style=\"text-align: right;\">-0.297823 </td><td style=\"text-align: right;\"> 0.043284  </td><td style=\"text-align: right;\">-0.0770056</td><td style=\"text-align: right;\">0.0869893</td><td style=\"text-align: right;\">-0.0533647</td><td style=\"text-align: right;\">-0.0162849  </td><td style=\"text-align: right;\">-0.106374 </td><td style=\"text-align: right;\">-0.105548 </td><td style=\"text-align: right;\"> 0.261767 </td><td style=\"text-align: right;\">-0.269648 </td><td style=\"text-align: right;\">-0.0638526</td><td style=\"text-align: right;\"> 0.011427 </td><td style=\"text-align: right;\"> 0.111818 </td><td style=\"text-align: right;\">-0.546794 </td><td style=\"text-align: right;\"> 0.10328   </td><td style=\"text-align: right;\"> 0.0901071</td><td style=\"text-align: right;\">-0.127821 </td><td style=\"text-align: right;\"> 0.0690328</td><td style=\"text-align: right;\">-0.0564934</td><td style=\"text-align: right;\">-0.092386  </td><td style=\"text-align: right;\">-0.222397 </td><td style=\"text-align: right;\"> 0.044197  </td><td style=\"text-align: right;\"> 0.029129 </td><td style=\"text-align: right;\"> 0.120932  </td><td style=\"text-align: right;\">-0.00564487</td><td style=\"text-align: right;\">-0.0441389 </td><td style=\"text-align: right;\"> 0.18432   </td><td style=\"text-align: right;\"> 0.0162504  </td><td style=\"text-align: right;\"> 0.107937 </td><td style=\"text-align: right;\"> 0.236735 </td><td style=\"text-align: right;\">0.27478  </td><td style=\"text-align: right;\">0.117343  </td><td style=\"text-align: right;\">-0.30503  </td><td style=\"text-align: right;\">-0.113893  </td><td style=\"text-align: right;\">-0.243615 </td><td style=\"text-align: right;\">-0.112706 </td><td style=\"text-align: right;\">-0.107312  </td><td style=\"text-align: right;\"> 0.185302  </td><td style=\"text-align: right;\">-0.183803 </td><td style=\"text-align: right;\">-0.0255554</td><td style=\"text-align: right;\">-0.113538 </td><td style=\"text-align: right;\">-0.0409406</td><td style=\"text-align: right;\"> 0.00924485</td><td style=\"text-align: right;\">-0.0365325 </td><td style=\"text-align: right;\">-0.0218006</td><td style=\"text-align: right;\"> 0.130094 </td><td style=\"text-align: right;\">-0.355425 </td><td style=\"text-align: right;\"> 0.209861 </td><td style=\"text-align: right;\">-0.0841657 </td><td style=\"text-align: right;\"> 0.114696 </td><td style=\"text-align: right;\"> 0.0711658</td><td style=\"text-align: right;\"> 0.27142   </td><td style=\"text-align: right;\"> 0.227235  </td><td style=\"text-align: right;\">-0.104225 </td><td style=\"text-align: right;\">-0.31698  </td><td style=\"text-align: right;\"> 0.0575975</td><td style=\"text-align: right;\"> 0.0875189</td><td style=\"text-align: right;\">-0.0883283</td><td style=\"text-align: right;\">-0.111743 </td><td style=\"text-align: right;\"> 0.0277295 </td><td style=\"text-align: right;\">-0.000214653</td><td style=\"text-align: right;\">-0.0313819 </td><td style=\"text-align: right;\">-0.186978 </td><td style=\"text-align: right;\">-0.312673 </td><td style=\"text-align: right;\">-0.0598881  </td><td style=\"text-align: right;\"> 0.277331 </td><td style=\"text-align: right;\">-0.0975487</td><td style=\"text-align: right;\">-0.0877702</td><td style=\"text-align: right;\"> 0.378623</td><td style=\"text-align: right;\">-0.126003  </td><td style=\"text-align: right;\"> 0.0024947</td><td style=\"text-align: right;\">-0.273892  </td></tr>\n",
       "<tr><td>aah     </td><td style=\"text-align: right;\"> 0.0147192</td><td style=\"text-align: right;\">-0.152329 </td><td style=\"text-align: right;\"> 0.119166 </td><td style=\"text-align: right;\"> 0.185223 </td><td style=\"text-align: right;\">-0.0509631</td><td style=\"text-align: right;\"> 0.015677  </td><td style=\"text-align: right;\"> 0.187672 </td><td style=\"text-align: right;\">-0.279392  </td><td style=\"text-align: right;\">-0.218714 </td><td style=\"text-align: right;\">-0.25617  </td><td style=\"text-align: right;\"> 0.0271286 </td><td style=\"text-align: right;\"> 0.268891  </td><td style=\"text-align: right;\"> 0.0539934</td><td style=\"text-align: right;\">-0.047562  </td><td style=\"text-align: right;\"> 0.0488956 </td><td style=\"text-align: right;\">-0.00923372</td><td style=\"text-align: right;\">-0.0122535</td><td style=\"text-align: right;\"> 0.125864 </td><td style=\"text-align: right;\"> 0.24859  </td><td style=\"text-align: right;\"> 0.0558125</td><td style=\"text-align: right;\">-0.204822  </td><td style=\"text-align: right;\">-0.04015  </td><td style=\"text-align: right;\">-0.0309797 </td><td style=\"text-align: right;\">-0.0473819</td><td style=\"text-align: right;\">-0.0984886 </td><td style=\"text-align: right;\">-0.241047 </td><td style=\"text-align: right;\"> 0.237848 </td><td style=\"text-align: right;\"> 0.0714057</td><td style=\"text-align: right;\"> 0.187707 </td><td style=\"text-align: right;\">-0.217532  </td><td style=\"text-align: right;\"> 0.101914 </td><td style=\"text-align: right;\">0.216895 </td><td style=\"text-align: right;\">-0.267442 </td><td style=\"text-align: right;\"> 0.0862335  </td><td style=\"text-align: right;\"> 0.265058 </td><td style=\"text-align: right;\">-0.0321689</td><td style=\"text-align: right;\"> 0.132862 </td><td style=\"text-align: right;\">-0.102712 </td><td style=\"text-align: right;\">-0.220385 </td><td style=\"text-align: right;\"> 0.191142 </td><td style=\"text-align: right;\">-0.132918 </td><td style=\"text-align: right;\">-0.154322 </td><td style=\"text-align: right;\">-0.00578518</td><td style=\"text-align: right;\"> 0.133262 </td><td style=\"text-align: right;\"> 0.141771 </td><td style=\"text-align: right;\"> 0.014431 </td><td style=\"text-align: right;\">-0.102012 </td><td style=\"text-align: right;\"> 0.0200979 </td><td style=\"text-align: right;\">-0.173    </td><td style=\"text-align: right;\">-0.147407  </td><td style=\"text-align: right;\">-0.0190676</td><td style=\"text-align: right;\"> 0.0302546 </td><td style=\"text-align: right;\">-0.096977  </td><td style=\"text-align: right;\">-0.0454691 </td><td style=\"text-align: right;\">-0.0859806 </td><td style=\"text-align: right;\"> 0.18282    </td><td style=\"text-align: right;\"> 0.025689 </td><td style=\"text-align: right;\"> 0.280393 </td><td style=\"text-align: right;\">0.166474 </td><td style=\"text-align: right;\">0.00682523</td><td style=\"text-align: right;\">-0.177125 </td><td style=\"text-align: right;\">-0.110245  </td><td style=\"text-align: right;\">-0.112783 </td><td style=\"text-align: right;\">-0.126745 </td><td style=\"text-align: right;\"> 0.143306  </td><td style=\"text-align: right;\">-0.0800549 </td><td style=\"text-align: right;\">-0.0305686</td><td style=\"text-align: right;\"> 0.0130733</td><td style=\"text-align: right;\"> 0.0947047</td><td style=\"text-align: right;\"> 0.227969 </td><td style=\"text-align: right;\">-0.147679  </td><td style=\"text-align: right;\">-0.0610484 </td><td style=\"text-align: right;\">-0.0185845</td><td style=\"text-align: right;\"> 0.154579 </td><td style=\"text-align: right;\">-0.16057  </td><td style=\"text-align: right;\">-0.207966 </td><td style=\"text-align: right;\"> 0.0032648 </td><td style=\"text-align: right;\"> 0.183303 </td><td style=\"text-align: right;\"> 0.0739961</td><td style=\"text-align: right;\"> 0.252829  </td><td style=\"text-align: right;\">-0.103703  </td><td style=\"text-align: right;\">-0.116959 </td><td style=\"text-align: right;\">-0.11678  </td><td style=\"text-align: right;\"> 0.260055 </td><td style=\"text-align: right;\">-0.0778335</td><td style=\"text-align: right;\"> 0.0116755</td><td style=\"text-align: right;\"> 0.0424052</td><td style=\"text-align: right;\"> 0.145462  </td><td style=\"text-align: right;\"> 0.223536   </td><td style=\"text-align: right;\">-0.00135234</td><td style=\"text-align: right;\"> 0.0548404</td><td style=\"text-align: right;\"> 0.232387 </td><td style=\"text-align: right;\">-0.0578742  </td><td style=\"text-align: right;\"> 0.203037 </td><td style=\"text-align: right;\">-0.185872 </td><td style=\"text-align: right;\"> 0.0615017</td><td style=\"text-align: right;\"> 0.16293 </td><td style=\"text-align: right;\"> 0.00351731</td><td style=\"text-align: right;\">-0.290002 </td><td style=\"text-align: right;\">-0.158164  </td></tr>\n",
       "<tr><td>reverted</td><td style=\"text-align: right;\"> 0.2308   </td><td style=\"text-align: right;\"> 0.0456951</td><td style=\"text-align: right;\"> 0.0554584</td><td style=\"text-align: right;\"> 0.111999 </td><td style=\"text-align: right;\">-0.0266932</td><td style=\"text-align: right;\"> 0.0401949 </td><td style=\"text-align: right;\"> 0.0463903</td><td style=\"text-align: right;\">-0.0508829 </td><td style=\"text-align: right;\">-0.0368397</td><td style=\"text-align: right;\">-0.239262 </td><td style=\"text-align: right;\"> 0.00106573</td><td style=\"text-align: right;\">-0.0638539 </td><td style=\"text-align: right;\"> 0.136071 </td><td style=\"text-align: right;\">-0.238599  </td><td style=\"text-align: right;\">-0.109103  </td><td style=\"text-align: right;\"> 0.216372  </td><td style=\"text-align: right;\"> 0.0680608</td><td style=\"text-align: right;\">-0.0663013</td><td style=\"text-align: right;\"> 0.132211 </td><td style=\"text-align: right;\">-0.118813 </td><td style=\"text-align: right;\"> 0.1393    </td><td style=\"text-align: right;\">-0.18947  </td><td style=\"text-align: right;\">-0.0170423 </td><td style=\"text-align: right;\">-0.135174 </td><td style=\"text-align: right;\"> 0.0339061 </td><td style=\"text-align: right;\">-0.208401 </td><td style=\"text-align: right;\"> 0.144461 </td><td style=\"text-align: right;\">-0.0810162</td><td style=\"text-align: right;\"> 0.0267548</td><td style=\"text-align: right;\">-0.0399462 </td><td style=\"text-align: right;\"> 0.0107079</td><td style=\"text-align: right;\">0.137655 </td><td style=\"text-align: right;\">-0.122342 </td><td style=\"text-align: right;\"> 0.0970694  </td><td style=\"text-align: right;\">-0.0832931</td><td style=\"text-align: right;\">-0.498442 </td><td style=\"text-align: right;\"> 0.0306424</td><td style=\"text-align: right;\">-0.376989 </td><td style=\"text-align: right;\">-0.105894 </td><td style=\"text-align: right;\">-0.0221489</td><td style=\"text-align: right;\"> 0.0436086</td><td style=\"text-align: right;\">-0.16198  </td><td style=\"text-align: right;\">-0.192522  </td><td style=\"text-align: right;\"> 0.0406317</td><td style=\"text-align: right;\">-0.0765615</td><td style=\"text-align: right;\"> 0.0302237</td><td style=\"text-align: right;\">-0.013197 </td><td style=\"text-align: right;\"> 0.236472  </td><td style=\"text-align: right;\">-0.151267 </td><td style=\"text-align: right;\">-0.0492119 </td><td style=\"text-align: right;\">-0.156938 </td><td style=\"text-align: right;\"> 0.0371638 </td><td style=\"text-align: right;\"> 0.312603  </td><td style=\"text-align: right;\">-0.0676623 </td><td style=\"text-align: right;\">-0.0267922 </td><td style=\"text-align: right;\"> 0.0517658  </td><td style=\"text-align: right;\"> 0.100094 </td><td style=\"text-align: right;\"> 0.257109 </td><td style=\"text-align: right;\">0.0198714</td><td style=\"text-align: right;\">0.130424  </td><td style=\"text-align: right;\">-0.18577  </td><td style=\"text-align: right;\"> 0.0978307 </td><td style=\"text-align: right;\">-0.215979 </td><td style=\"text-align: right;\">-0.0475019</td><td style=\"text-align: right;\">-0.00558062</td><td style=\"text-align: right;\"> 0.100932  </td><td style=\"text-align: right;\"> 0.0824885</td><td style=\"text-align: right;\"> 0.127401 </td><td style=\"text-align: right;\">-0.240176 </td><td style=\"text-align: right;\"> 0.226516 </td><td style=\"text-align: right;\">-0.157579  </td><td style=\"text-align: right;\">-0.157827  </td><td style=\"text-align: right;\"> 0.105955 </td><td style=\"text-align: right;\">-0.0276827</td><td style=\"text-align: right;\">-0.126794 </td><td style=\"text-align: right;\"> 0.0959657</td><td style=\"text-align: right;\">-0.0329096 </td><td style=\"text-align: right;\"> 0.260837 </td><td style=\"text-align: right;\">-0.100852 </td><td style=\"text-align: right;\"> 0.0722219 </td><td style=\"text-align: right;\">-0.0788138 </td><td style=\"text-align: right;\">-0.131971 </td><td style=\"text-align: right;\">-0.139566 </td><td style=\"text-align: right;\"> 0.0479643</td><td style=\"text-align: right;\">-0.0776303</td><td style=\"text-align: right;\"> 0.132458 </td><td style=\"text-align: right;\">-0.0305181</td><td style=\"text-align: right;\"> 0.00911131</td><td style=\"text-align: right;\"> 0.21662    </td><td style=\"text-align: right;\"> 0.09655   </td><td style=\"text-align: right;\">-0.048679 </td><td style=\"text-align: right;\"> 0.069322 </td><td style=\"text-align: right;\"> 0.0749588  </td><td style=\"text-align: right;\">-0.214116 </td><td style=\"text-align: right;\">-0.106183 </td><td style=\"text-align: right;\"> 0.0880063</td><td style=\"text-align: right;\"> 0.238672</td><td style=\"text-align: right;\">-0.0665907 </td><td style=\"text-align: right;\">-0.0291357</td><td style=\"text-align: right;\">-0.263688  </td></tr>\n",
       "<tr><td>mroe    </td><td style=\"text-align: right;\">-0.239364 </td><td style=\"text-align: right;\">-0.191517 </td><td style=\"text-align: right;\"> 0.136247 </td><td style=\"text-align: right;\">-0.0256822</td><td style=\"text-align: right;\">-0.0266251</td><td style=\"text-align: right;\">-0.0547128 </td><td style=\"text-align: right;\"> 0.237204 </td><td style=\"text-align: right;\"> 0.0967769 </td><td style=\"text-align: right;\">-0.132701 </td><td style=\"text-align: right;\">-0.0922439</td><td style=\"text-align: right;\"> 0.0129943 </td><td style=\"text-align: right;\"> 0.0525483 </td><td style=\"text-align: right;\"> 0.077172 </td><td style=\"text-align: right;\">-0.183542  </td><td style=\"text-align: right;\">-0.131375  </td><td style=\"text-align: right;\"> 0.109406  </td><td style=\"text-align: right;\">-0.0675823</td><td style=\"text-align: right;\"> 0.118348 </td><td style=\"text-align: right;\"> 0.166877 </td><td style=\"text-align: right;\"> 0.057736 </td><td style=\"text-align: right;\"> 0.165399  </td><td style=\"text-align: right;\"> 0.134065 </td><td style=\"text-align: right;\">-0.00617258</td><td style=\"text-align: right;\">-0.102592 </td><td style=\"text-align: right;\"> 0.0799932 </td><td style=\"text-align: right;\">-0.0695959</td><td style=\"text-align: right;\">-0.0108171</td><td style=\"text-align: right;\">-0.0424632</td><td style=\"text-align: right;\"> 0.129277 </td><td style=\"text-align: right;\">-0.123065  </td><td style=\"text-align: right;\">-0.088672 </td><td style=\"text-align: right;\">0.158868 </td><td style=\"text-align: right;\">-0.198003 </td><td style=\"text-align: right;\">-0.272794   </td><td style=\"text-align: right;\"> 0.0810475</td><td style=\"text-align: right;\">-0.135441 </td><td style=\"text-align: right;\"> 0.0440065</td><td style=\"text-align: right;\">-0.166379 </td><td style=\"text-align: right;\">-0.176565 </td><td style=\"text-align: right;\">-0.205122 </td><td style=\"text-align: right;\"> 0.0129429</td><td style=\"text-align: right;\">-0.216737 </td><td style=\"text-align: right;\"> 0.0112463 </td><td style=\"text-align: right;\"> 0.044253 </td><td style=\"text-align: right;\"> 0.231879 </td><td style=\"text-align: right;\"> 0.0235623</td><td style=\"text-align: right;\">-0.0750987</td><td style=\"text-align: right;\"> 0.0456048 </td><td style=\"text-align: right;\">-0.131318 </td><td style=\"text-align: right;\">-0.272313  </td><td style=\"text-align: right;\"> 0.297816 </td><td style=\"text-align: right;\">-0.00610252</td><td style=\"text-align: right;\"> 0.109366  </td><td style=\"text-align: right;\"> 0.00307278</td><td style=\"text-align: right;\"> 0.134907  </td><td style=\"text-align: right;\"> 0.445625   </td><td style=\"text-align: right;\"> 0.0191677</td><td style=\"text-align: right;\"> 0.482133 </td><td style=\"text-align: right;\">0.1815   </td><td style=\"text-align: right;\">0.0865629 </td><td style=\"text-align: right;\">-0.0829524</td><td style=\"text-align: right;\"> 0.0477738 </td><td style=\"text-align: right;\">-0.117484 </td><td style=\"text-align: right;\">-0.0358161</td><td style=\"text-align: right;\">-0.0694607 </td><td style=\"text-align: right;\"> 0.00456173</td><td style=\"text-align: right;\"> 0.0486144</td><td style=\"text-align: right;\"> 0.262966 </td><td style=\"text-align: right;\"> 0.0119102</td><td style=\"text-align: right;\"> 0.136315 </td><td style=\"text-align: right;\">-0.236692  </td><td style=\"text-align: right;\">-0.0362862 </td><td style=\"text-align: right;\"> 0.113365 </td><td style=\"text-align: right;\"> 0.145519 </td><td style=\"text-align: right;\">-0.124116 </td><td style=\"text-align: right;\">-0.0240164</td><td style=\"text-align: right;\"> 0.0418364 </td><td style=\"text-align: right;\"> 0.125417 </td><td style=\"text-align: right;\"> 0.0868343</td><td style=\"text-align: right;\">-0.00534599</td><td style=\"text-align: right;\"> 0.0399336 </td><td style=\"text-align: right;\">-0.0537818</td><td style=\"text-align: right;\">-0.018591 </td><td style=\"text-align: right;\"> 0.20598  </td><td style=\"text-align: right;\"> 0.0676436</td><td style=\"text-align: right;\"> 0.184493 </td><td style=\"text-align: right;\">-0.0458736</td><td style=\"text-align: right;\"> 0.0341519 </td><td style=\"text-align: right;\"> 0.0765637  </td><td style=\"text-align: right;\"> 0.352882  </td><td style=\"text-align: right;\">-0.158557 </td><td style=\"text-align: right;\"> 0.0881746</td><td style=\"text-align: right;\">-0.0462441  </td><td style=\"text-align: right;\"> 0.0107123</td><td style=\"text-align: right;\"> 0.138743 </td><td style=\"text-align: right;\">-0.105181 </td><td style=\"text-align: right;\"> 0.145277</td><td style=\"text-align: right;\">-0.0831894 </td><td style=\"text-align: right;\">-0.265733 </td><td style=\"text-align: right;\"> 0.0274208 </td></tr>\n",
       "</tbody>\n",
       "</table>"
      ]
     },
     "metadata": {},
     "output_type": "display_data"
    },
    {
     "data": {
      "text/plain": []
     },
     "execution_count": 26,
     "metadata": {},
     "output_type": "execute_result"
    }
   ],
   "source": [
    "word_embeddings = w2v_model.to_frame()\n",
    "word_embeddings.head()"
   ]
  },
  {
   "cell_type": "code",
   "execution_count": 27,
   "metadata": {},
   "outputs": [
    {
     "name": "stdout",
     "output_type": "stream",
     "text": [
      "kmeans Model Build progress: |████████████████████████████████████████████| 100%\n"
     ]
    }
   ],
   "source": [
    "from h2o.estimators import H2OKMeansEstimator\n",
    "\n",
    "kmeans = H2OKMeansEstimator(model_id = \"word_segments.hex\",\n",
    "                            estimate_k = True, k = 100, # Max number of clusters\n",
    "                            seed = 1234)\n",
    "\n",
    "x = list(set(word_embeddings.col_names) - set([\"Word\"]))\n",
    "kmeans.train(x = x, training_frame = word_embeddings)"
   ]
  },
  {
   "cell_type": "code",
   "execution_count": 28,
   "metadata": {},
   "outputs": [
    {
     "name": "stdout",
     "output_type": "stream",
     "text": [
      "\n",
      "Centroid Statistics: \n"
     ]
    },
    {
     "data": {
      "text/html": [
       "<div>\n",
       "<style scoped>\n",
       "    .dataframe tbody tr th:only-of-type {\n",
       "        vertical-align: middle;\n",
       "    }\n",
       "\n",
       "    .dataframe tbody tr th {\n",
       "        vertical-align: top;\n",
       "    }\n",
       "\n",
       "    .dataframe thead th {\n",
       "        text-align: right;\n",
       "    }\n",
       "</style>\n",
       "<table border=\"1\" class=\"dataframe\">\n",
       "  <thead>\n",
       "    <tr style=\"text-align: right;\">\n",
       "      <th></th>\n",
       "      <th></th>\n",
       "      <th>centroid</th>\n",
       "      <th>size</th>\n",
       "      <th>within_cluster_sum_of_squares</th>\n",
       "    </tr>\n",
       "  </thead>\n",
       "  <tbody>\n",
       "    <tr>\n",
       "      <th>0</th>\n",
       "      <td></td>\n",
       "      <td>1.0</td>\n",
       "      <td>10072.0</td>\n",
       "      <td>915282.874776</td>\n",
       "    </tr>\n",
       "    <tr>\n",
       "      <th>1</th>\n",
       "      <td></td>\n",
       "      <td>2.0</td>\n",
       "      <td>9108.0</td>\n",
       "      <td>945209.390493</td>\n",
       "    </tr>\n",
       "  </tbody>\n",
       "</table>\n",
       "</div>"
      ],
      "text/plain": [
       "     centroid     size  within_cluster_sum_of_squares\n",
       "0         1.0  10072.0                  915282.874776\n",
       "1         2.0   9108.0                  945209.390493"
      ]
     },
     "metadata": {},
     "output_type": "display_data"
    },
    {
     "data": {
      "text/plain": []
     },
     "execution_count": 28,
     "metadata": {},
     "output_type": "execute_result"
    }
   ],
   "source": [
    "# Clusters\n",
    "kmeans.centroid_stats()"
   ]
  },
  {
   "cell_type": "code",
   "execution_count": 29,
   "metadata": {},
   "outputs": [
    {
     "name": "stdout",
     "output_type": "stream",
     "text": [
      "kmeans prediction progress: |█████████████████████████████████████████████| 100%\n"
     ]
    },
    {
     "data": {
      "text/html": [
       "<table>\n",
       "<thead>\n",
       "<tr><th>Word    </th><th style=\"text-align: right;\">  predict</th></tr>\n",
       "</thead>\n",
       "<tbody>\n",
       "<tr><td>kronung </td><td style=\"text-align: right;\">        1</td></tr>\n",
       "<tr><td>berge   </td><td style=\"text-align: right;\">        0</td></tr>\n",
       "<tr><td>ewww    </td><td style=\"text-align: right;\">        0</td></tr>\n",
       "<tr><td>maison  </td><td style=\"text-align: right;\">        1</td></tr>\n",
       "<tr><td>mattered</td><td style=\"text-align: right;\">        0</td></tr>\n",
       "<tr><td>helpings</td><td style=\"text-align: right;\">        0</td></tr>\n",
       "<tr><td>twitter </td><td style=\"text-align: right;\">        0</td></tr>\n",
       "<tr><td>aah     </td><td style=\"text-align: right;\">        1</td></tr>\n",
       "<tr><td>reverted</td><td style=\"text-align: right;\">        0</td></tr>\n",
       "<tr><td>mroe    </td><td style=\"text-align: right;\">        0</td></tr>\n",
       "</tbody>\n",
       "</table>"
      ]
     },
     "metadata": {},
     "output_type": "display_data"
    },
    {
     "data": {
      "text/plain": []
     },
     "execution_count": 29,
     "metadata": {},
     "output_type": "execute_result"
    }
   ],
   "source": [
    "\n",
    "word_clusters = word_embeddings.cbind(kmeans.predict(word_embeddings))\n",
    "word_clusters[[\"Word\", \"predict\"]].head()"
   ]
  },
  {
   "cell_type": "code",
   "execution_count": 30,
   "metadata": {},
   "outputs": [],
   "source": [
    "selected_clusters = word_clusters[word_clusters[\"Word\"].isin(selected_words)]"
   ]
  },
  {
   "cell_type": "code",
   "execution_count": 31,
   "metadata": {},
   "outputs": [
    {
     "name": "stdout",
     "output_type": "stream",
     "text": [
      "Cluster 0\n"
     ]
    },
    {
     "data": {
      "text/html": [
       "<table>\n",
       "<thead>\n",
       "<tr><th>Word      </th></tr>\n",
       "</thead>\n",
       "<tbody>\n",
       "<tr><td>abdominal </td></tr>\n",
       "<tr><td>answered  </td></tr>\n",
       "<tr><td>salmonella</td></tr>\n",
       "<tr><td>unhappy   </td></tr>\n",
       "<tr><td>waited    </td></tr>\n",
       "<tr><td>expired   </td></tr>\n",
       "<tr><td>support   </td></tr>\n",
       "<tr><td>email     </td></tr>\n",
       "<tr><td>returned  </td></tr>\n",
       "</tbody>\n",
       "</table>"
      ]
     },
     "metadata": {},
     "output_type": "display_data"
    },
    {
     "name": "stdout",
     "output_type": "stream",
     "text": [
      "\n"
     ]
    }
   ],
   "source": [
    "\n",
    "print(\"Cluster 0\")\n",
    "print(selected_clusters[selected_clusters[\"predict\"] == 0, \"Word\"])"
   ]
  },
  {
   "cell_type": "code",
   "execution_count": 32,
   "metadata": {},
   "outputs": [
    {
     "name": "stdout",
     "output_type": "stream",
     "text": [
      "Cluster 1\n"
     ]
    },
    {
     "data": {
      "text/html": [
       "<table>\n",
       "<thead>\n",
       "<tr><th>Word     </th></tr>\n",
       "</thead>\n",
       "<tbody>\n",
       "<tr><td>folic    </td></tr>\n",
       "<tr><td>moldy    </td></tr>\n",
       "<tr><td>zinc     </td></tr>\n",
       "<tr><td>savory   </td></tr>\n",
       "<tr><td>espresso </td></tr>\n",
       "<tr><td>yummy    </td></tr>\n",
       "<tr><td>salty    </td></tr>\n",
       "<tr><td>starbucks</td></tr>\n",
       "<tr><td>amazing  </td></tr>\n",
       "<tr><td>tasty    </td></tr>\n",
       "</tbody>\n",
       "</table>"
      ]
     },
     "metadata": {},
     "output_type": "display_data"
    },
    {
     "name": "stdout",
     "output_type": "stream",
     "text": [
      "\n"
     ]
    }
   ],
   "source": [
    "\n",
    "print(\"Cluster 1\")\n",
    "print(selected_clusters[selected_clusters[\"predict\"] == 1, \"Word\"])"
   ]
  },
  {
   "cell_type": "code",
   "execution_count": 33,
   "metadata": {},
   "outputs": [],
   "source": [
    "\n",
    "# Find the 80th quantile of time in the dataset\n",
    "time_split = reviews[\"Time\"].quantile(prob = [0.8])[1]\n",
    "reviews[\"Train\"] = (reviews[\"Time\"] < time_split).ifelse(\"Yes\", \"No\")"
   ]
  },
  {
   "cell_type": "code",
   "execution_count": 34,
   "metadata": {},
   "outputs": [],
   "source": [
    "train = reviews[reviews[\"Train\"] == \"Yes\"]\n",
    "test = reviews[reviews[\"Train\"] == \"No\"]"
   ]
  },
  {
   "cell_type": "code",
   "execution_count": 35,
   "metadata": {},
   "outputs": [
    {
     "name": "stdout",
     "output_type": "stream",
     "text": [
      "gbm Model Build progress: |███████████████████████████████████████████████| 100%\n"
     ]
    }
   ],
   "source": [
    "\n",
    "from h2o.estimators import H2OGradientBoostingEstimator\n",
    "\n",
    "predictors = ['ProductId', 'UserId', 'HelpfulnessNumerator', 'HelpfulnessDenominator', 'Time']\n",
    "response = 'PositiveReview'\n",
    "\n",
    "gbm_baseline = H2OGradientBoostingEstimator(stopping_metric = \"AUC\", stopping_tolerance = 0.001,\n",
    "                                            stopping_rounds = 5, score_tree_interval = 10,\n",
    "                                            model_id = \"gbm_baseline.hex\"\n",
    "                                           )\n",
    "gbm_baseline.train(x = predictors, y = response, \n",
    "                   training_frame = train, validation_frame = test\n",
    "                  )"
   ]
  },
  {
   "cell_type": "code",
   "execution_count": 36,
   "metadata": {},
   "outputs": [
    {
     "name": "stdout",
     "output_type": "stream",
     "text": [
      "AUC on Validation Data: 0.616\n"
     ]
    }
   ],
   "source": [
    "print(\"AUC on Validation Data: \" + str(round(gbm_baseline.auc(valid = True), 3)))"
   ]
  },
  {
   "cell_type": "code",
   "execution_count": 37,
   "metadata": {},
   "outputs": [
    {
     "data": {
      "image/png": "[encoded data removed]",
      "text/plain": [
       "<Figure size 1008x720 with 1 Axes>"
      ]
     },
     "metadata": {
      "needs_background": "light"
     },
     "output_type": "display_data"
    }
   ],
   "source": [
    "gbm_baseline.varimp_plot()"
   ]
  },
  {
   "cell_type": "code",
   "execution_count": 38,
   "metadata": {},
   "outputs": [
    {
     "name": "stdout",
     "output_type": "stream",
     "text": [
      "PartialDependencePlot progress: |█████████████████████████████████████████| 100%\n"
     ]
    },
    {
     "data": {
      "image/png": "[encoded data removed]",
      "text/plain": [
       "<Figure size 504x720 with 1 Axes>"
      ]
     },
     "metadata": {
      "needs_background": "light"
     },
     "output_type": "display_data"
    }
   ],
   "source": [
    "%matplotlib inline  \n",
    "pdp_helpfulness = gbm_baseline.partial_plot(train, cols = [\"HelpfulnessNumerator\"])"
   ]
  },
  {
   "cell_type": "code",
   "execution_count": 39,
   "metadata": {},
   "outputs": [],
   "source": [
    "\n",
    "# Calculate a vector for each review\n",
    "review_vecs = w2v_model.transform(words, aggregate_method = \"AVERAGE\")"
   ]
  },
  {
   "cell_type": "code",
   "execution_count": 41,
   "metadata": {},
   "outputs": [
    {
     "data": {
      "text/plain": [
       "[100000, 100]"
      ]
     },
     "execution_count": 41,
     "metadata": {},
     "output_type": "execute_result"
    }
   ],
   "source": [
    "review_vecs.dim"
   ]
  },
  {
   "cell_type": "code",
   "execution_count": 42,
   "metadata": {},
   "outputs": [],
   "source": [
    "# Add aggregated word embeddings \n",
    "ext_reviews = reviews.cbind(review_vecs)"
   ]
  },
  {
   "cell_type": "code",
   "execution_count": 43,
   "metadata": {},
   "outputs": [],
   "source": [
    "\n",
    "ext_train = ext_reviews[ext_reviews[\"Train\"] == \"Yes\"]\n",
    "ext_test = ext_reviews[ext_reviews[\"Train\"] == \"No\"]"
   ]
  },
  {
   "cell_type": "code",
   "execution_count": 44,
   "metadata": {},
   "outputs": [
    {
     "data": {
      "text/html": [
       "<table>\n",
       "<thead>\n",
       "<tr><th>ProductId  </th><th>UserId        </th><th>Summary                               </th><th style=\"text-align: right;\">  Score</th><th style=\"text-align: right;\">  HelpfulnessDenominator</th><th style=\"text-align: right;\">    Id</th><th>ProfileName                                     </th><th style=\"text-align: right;\">  HelpfulnessNumerator</th><th style=\"text-align: right;\">       Time</th><th>Text                                                                                                                                                                                                                                                                                                                                                                                                                                                                                                                                                                                                                                                                                                                                                                                                                                                                                                                                                                                                                                                                                                                                                                                                                                                                                                                                                                                                                                                                                                                                                                                                                                                                                                                                                                                                                                                                                                                                                                                                                                                                                                                                                                                                                                                                                                                                                                                                                                                                                                                                                                                                                                                                                                                                                                                                                                                                                                                                                                                                                                                                                                                                                                                                                                                        </th><th style=\"text-align: right;\">  PositiveReview</th><th>Train  </th><th style=\"text-align: right;\">        C1</th><th style=\"text-align: right;\">        C2</th><th style=\"text-align: right;\">         C3</th><th style=\"text-align: right;\">         C4</th><th style=\"text-align: right;\">        C5</th><th style=\"text-align: right;\">        C6</th><th style=\"text-align: right;\">       C7</th><th style=\"text-align: right;\">        C8</th><th style=\"text-align: right;\">         C9</th><th style=\"text-align: right;\">       C10</th><th style=\"text-align: right;\">        C11</th><th style=\"text-align: right;\">       C12</th><th style=\"text-align: right;\">        C13</th><th style=\"text-align: right;\">       C14</th><th style=\"text-align: right;\">        C15</th><th style=\"text-align: right;\">       C16</th><th style=\"text-align: right;\">      C17</th><th style=\"text-align: right;\">        C18</th><th style=\"text-align: right;\">      C19</th><th style=\"text-align: right;\">        C20</th><th style=\"text-align: right;\">        C21</th><th style=\"text-align: right;\">       C22</th><th style=\"text-align: right;\">        C23</th><th style=\"text-align: right;\">       C24</th><th style=\"text-align: right;\">        C25</th><th style=\"text-align: right;\">       C26</th><th style=\"text-align: right;\">        C27</th><th style=\"text-align: right;\">        C28</th><th style=\"text-align: right;\">        C29</th><th style=\"text-align: right;\">       C30</th><th style=\"text-align: right;\">       C31</th><th style=\"text-align: right;\">        C32</th><th style=\"text-align: right;\">        C33</th><th style=\"text-align: right;\">       C34</th><th style=\"text-align: right;\">        C35</th><th style=\"text-align: right;\">       C36</th><th style=\"text-align: right;\">        C37</th><th style=\"text-align: right;\">        C38</th><th style=\"text-align: right;\">        C39</th><th style=\"text-align: right;\">        C40</th><th style=\"text-align: right;\">       C41</th><th style=\"text-align: right;\">       C42</th><th style=\"text-align: right;\">        C43</th><th style=\"text-align: right;\">        C44</th><th style=\"text-align: right;\">      C45</th><th style=\"text-align: right;\">        C46</th><th style=\"text-align: right;\">         C47</th><th style=\"text-align: right;\">        C48</th><th style=\"text-align: right;\">        C49</th><th style=\"text-align: right;\">       C50</th><th style=\"text-align: right;\">        C51</th><th style=\"text-align: right;\">       C52</th><th style=\"text-align: right;\">      C53</th><th style=\"text-align: right;\">        C54</th><th style=\"text-align: right;\">       C55</th><th style=\"text-align: right;\">        C56</th><th style=\"text-align: right;\">       C57</th><th style=\"text-align: right;\">      C58</th><th style=\"text-align: right;\">       C59</th><th style=\"text-align: right;\">        C60</th><th style=\"text-align: right;\">        C61</th><th style=\"text-align: right;\">       C62</th><th style=\"text-align: right;\">       C63</th><th style=\"text-align: right;\">        C64</th><th style=\"text-align: right;\">        C65</th><th style=\"text-align: right;\">        C66</th><th style=\"text-align: right;\">        C67</th><th style=\"text-align: right;\">      C68</th><th style=\"text-align: right;\">       C69</th><th style=\"text-align: right;\">      C70</th><th style=\"text-align: right;\">       C71</th><th style=\"text-align: right;\">        C72</th><th style=\"text-align: right;\">       C73</th><th style=\"text-align: right;\">        C74</th><th style=\"text-align: right;\">       C75</th><th style=\"text-align: right;\">        C76</th><th style=\"text-align: right;\">         C77</th><th style=\"text-align: right;\">     C78</th><th style=\"text-align: right;\">         C79</th><th style=\"text-align: right;\">        C80</th><th style=\"text-align: right;\">       C81</th><th style=\"text-align: right;\">        C82</th><th style=\"text-align: right;\">       C83</th><th style=\"text-align: right;\">       C84</th><th style=\"text-align: right;\">        C85</th><th style=\"text-align: right;\">         C86</th><th style=\"text-align: right;\">        C87</th><th style=\"text-align: right;\">       C88</th><th style=\"text-align: right;\">        C89</th><th style=\"text-align: right;\">      C90</th><th style=\"text-align: right;\">       C91</th><th style=\"text-align: right;\">       C92</th><th style=\"text-align: right;\">        C93</th><th style=\"text-align: right;\">      C94</th><th style=\"text-align: right;\">       C95</th><th style=\"text-align: right;\">        C96</th><th style=\"text-align: right;\">       C97</th><th style=\"text-align: right;\">        C98</th><th style=\"text-align: right;\">       C99</th><th style=\"text-align: right;\">      C100</th></tr>\n",
       "</thead>\n",
       "<tbody>\n",
       "<tr><td>B00141QYSQ </td><td>A1YS02UZZGRDCT</td><td>Do Not Buy                            </td><td style=\"text-align: right;\">      1</td><td style=\"text-align: right;\">                       2</td><td style=\"text-align: right;\"> 41471</td><td>Evan Eberhardt                                  </td><td style=\"text-align: right;\">                     2</td><td style=\"text-align: right;\">1.34836e+09</td><td>These are made in China (do not buy ANY pet food from China).  Dogswell has been using propylene glycol to soften their treats (what are they thinkng?).  Do not purchase or support this company in any way until they clean up their act.  And for whatever reason Amazon doesn&#x27;t allow returns of this item, so I had to toss mine out.  Bad business all around on this one.                                                                                                                                                                                                                                                                                                                                                                                                                                                                                                                                                                                                                                                                                                                                                                                                                                                                                                                                                                                                                                                                                                                                                                                                                                                                                                                                                                                                                                                                                                                                                                                                                                                                                                                                                                                                                                                                                                                                                                                                                                                                                                                                                                                                                                                                                                                                                                                                                                                                                                                                                                                                                                                                                                                                                                                                                                                                            </td><td style=\"text-align: right;\">               0</td><td>No     </td><td style=\"text-align: right;\">-0.0507862</td><td style=\"text-align: right;\"> 0.0992074</td><td style=\"text-align: right;\"> 0.0644051 </td><td style=\"text-align: right;\"> 0.0214196 </td><td style=\"text-align: right;\">-0.112662 </td><td style=\"text-align: right;\"> 0.0026172</td><td style=\"text-align: right;\">0.192161 </td><td style=\"text-align: right;\"> 0.0895233</td><td style=\"text-align: right;\"> 0.00646357</td><td style=\"text-align: right;\">-0.035376 </td><td style=\"text-align: right;\">-0.0516631 </td><td style=\"text-align: right;\">-0.228713 </td><td style=\"text-align: right;\"> 0.0601476 </td><td style=\"text-align: right;\">-0.125042 </td><td style=\"text-align: right;\">-0.084773  </td><td style=\"text-align: right;\">-0.0071983</td><td style=\"text-align: right;\">0.0627074</td><td style=\"text-align: right;\"> 0.0497451 </td><td style=\"text-align: right;\">0.147315 </td><td style=\"text-align: right;\"> 0.0405302 </td><td style=\"text-align: right;\"> 0.0608478 </td><td style=\"text-align: right;\">-0.0692863</td><td style=\"text-align: right;\">-0.046488  </td><td style=\"text-align: right;\">-0.142201 </td><td style=\"text-align: right;\">-0.0790925 </td><td style=\"text-align: right;\">-0.0360021</td><td style=\"text-align: right;\"> 0.00365776</td><td style=\"text-align: right;\">-0.100631  </td><td style=\"text-align: right;\"> 0.00885379</td><td style=\"text-align: right;\">-0.120983 </td><td style=\"text-align: right;\">-0.0091603</td><td style=\"text-align: right;\"> 0.00459516</td><td style=\"text-align: right;\">-0.144966  </td><td style=\"text-align: right;\">-0.147531 </td><td style=\"text-align: right;\">-0.0600872 </td><td style=\"text-align: right;\">-0.271691 </td><td style=\"text-align: right;\"> 0.126518  </td><td style=\"text-align: right;\">-0.135424  </td><td style=\"text-align: right;\"> 0.0362847 </td><td style=\"text-align: right;\">-0.0797444 </td><td style=\"text-align: right;\">-0.0365968</td><td style=\"text-align: right;\">-0.119102 </td><td style=\"text-align: right;\"> 0.0476854 </td><td style=\"text-align: right;\">-0.0382497 </td><td style=\"text-align: right;\">0.0826772</td><td style=\"text-align: right;\"> 0.0104814 </td><td style=\"text-align: right;\">-0.135693   </td><td style=\"text-align: right;\"> 0.00792311</td><td style=\"text-align: right;\">-0.0269636 </td><td style=\"text-align: right;\">-0.164534 </td><td style=\"text-align: right;\"> 0.015703  </td><td style=\"text-align: right;\"> 0.0475726</td><td style=\"text-align: right;\">0.121391 </td><td style=\"text-align: right;\"> 0.102088  </td><td style=\"text-align: right;\"> 0.139977 </td><td style=\"text-align: right;\"> 0.0458473 </td><td style=\"text-align: right;\"> 0.0540362</td><td style=\"text-align: right;\">0.193532 </td><td style=\"text-align: right;\">0.149617  </td><td style=\"text-align: right;\"> 0.0382807 </td><td style=\"text-align: right;\">-0.183832  </td><td style=\"text-align: right;\">-0.0119407</td><td style=\"text-align: right;\">-0.195692 </td><td style=\"text-align: right;\"> 0.0258788 </td><td style=\"text-align: right;\"> 0.00581044</td><td style=\"text-align: right;\"> 0.0247473 </td><td style=\"text-align: right;\">-0.0116567 </td><td style=\"text-align: right;\">0.0995764</td><td style=\"text-align: right;\">-0.093886 </td><td style=\"text-align: right;\">0.0495323</td><td style=\"text-align: right;\">-0.0601084</td><td style=\"text-align: right;\">-0.031108  </td><td style=\"text-align: right;\"> 0.135481 </td><td style=\"text-align: right;\"> 0.0865724 </td><td style=\"text-align: right;\">-0.0769606</td><td style=\"text-align: right;\"> 0.104303  </td><td style=\"text-align: right;\"> 0.0933626  </td><td style=\"text-align: right;\">0.161136</td><td style=\"text-align: right;\">-0.015312   </td><td style=\"text-align: right;\">-0.00222782</td><td style=\"text-align: right;\">-0.0494968</td><td style=\"text-align: right;\">-0.035736  </td><td style=\"text-align: right;\">-0.021613 </td><td style=\"text-align: right;\"> 0.177917 </td><td style=\"text-align: right;\">-0.0142408 </td><td style=\"text-align: right;\">-0.0302524  </td><td style=\"text-align: right;\">-0.0387564 </td><td style=\"text-align: right;\"> 0.0248016</td><td style=\"text-align: right;\"> 0.0846836 </td><td style=\"text-align: right;\"> 0.186271</td><td style=\"text-align: right;\"> 0.0164554</td><td style=\"text-align: right;\"> 0.0604741</td><td style=\"text-align: right;\"> 0.0624894 </td><td style=\"text-align: right;\">0.101542 </td><td style=\"text-align: right;\"> 0.0662559</td><td style=\"text-align: right;\">-0.0228931 </td><td style=\"text-align: right;\"> 0.0439158</td><td style=\"text-align: right;\">-0.125624  </td><td style=\"text-align: right;\">-0.0421572</td><td style=\"text-align: right;\"> 0.0303357</td></tr>\n",
       "<tr><td>B0089SPEO2 </td><td>A3JOYNYL458QHP</td><td>Less lemon and less zing              </td><td style=\"text-align: right;\">      3</td><td style=\"text-align: right;\">                       0</td><td style=\"text-align: right;\"> 28582</td><td>coleridge                                       </td><td style=\"text-align: right;\">                     0</td><td style=\"text-align: right;\">1.32391e+09</td><td>Everything is ok, except it just isn&#x27;t as good as it is in the bags.  Just considerably more bland -- less lemon and less zing.  Boring.                                                                                                                                                                                                                                                                                                                                                                                                                                                                                                                                                                                                                                                                                                                                                                                                                                                                                                                                                                                                                                                                                                                                                                                                                                                                                                                                                                                                                                                                                                                                                                                                                                                                                                                                                                                                                                                                                                                                                                                                                                                                                                                                                                                                                                                                                                                                                                                                                                                                                                                                                                                                                                                                                                                                                                                                                                                                                                                                                                                                                                                                                                                    </td><td style=\"text-align: right;\">               0</td><td>Yes    </td><td style=\"text-align: right;\">-0.222229 </td><td style=\"text-align: right;\"> 0.0310405</td><td style=\"text-align: right;\"> 0.180526  </td><td style=\"text-align: right;\">-0.0347527 </td><td style=\"text-align: right;\"> 0.0920276</td><td style=\"text-align: right;\">-0.0203132</td><td style=\"text-align: right;\">0.223596 </td><td style=\"text-align: right;\"> 0.0542921</td><td style=\"text-align: right;\">-0.10597   </td><td style=\"text-align: right;\">-0.0863542</td><td style=\"text-align: right;\">-0.112195  </td><td style=\"text-align: right;\"> 0.104252 </td><td style=\"text-align: right;\">-0.165481  </td><td style=\"text-align: right;\">-0.0744784</td><td style=\"text-align: right;\"> 0.0563715 </td><td style=\"text-align: right;\"> 0.0183045</td><td style=\"text-align: right;\">0.0481884</td><td style=\"text-align: right;\"> 0.0662841 </td><td style=\"text-align: right;\">0.0242493</td><td style=\"text-align: right;\">-0.103936  </td><td style=\"text-align: right;\">-0.0162777 </td><td style=\"text-align: right;\"> 0.086522 </td><td style=\"text-align: right;\">-0.0171848 </td><td style=\"text-align: right;\">-0.0646601</td><td style=\"text-align: right;\">-0.0468325 </td><td style=\"text-align: right;\">-0.0362707</td><td style=\"text-align: right;\"> 0.071122  </td><td style=\"text-align: right;\"> 0.0204015 </td><td style=\"text-align: right;\"> 0.0410724 </td><td style=\"text-align: right;\">-0.223964 </td><td style=\"text-align: right;\"> 0.084814 </td><td style=\"text-align: right;\"> 0.031527  </td><td style=\"text-align: right;\">-0.232549  </td><td style=\"text-align: right;\">-0.0437342</td><td style=\"text-align: right;\"> 0.0929041 </td><td style=\"text-align: right;\">-0.124336 </td><td style=\"text-align: right;\"> 0.0184082 </td><td style=\"text-align: right;\">-0.102974  </td><td style=\"text-align: right;\">-0.0136971 </td><td style=\"text-align: right;\"> 0.0244193 </td><td style=\"text-align: right;\"> 0.0843055</td><td style=\"text-align: right;\">-0.1808   </td><td style=\"text-align: right;\"> 0.0671199 </td><td style=\"text-align: right;\">-0.0910117 </td><td style=\"text-align: right;\">0.0611531</td><td style=\"text-align: right;\">-0.0235994 </td><td style=\"text-align: right;\">-0.000601388</td><td style=\"text-align: right;\"> 0.0525295 </td><td style=\"text-align: right;\">-0.0242246 </td><td style=\"text-align: right;\">-0.131298 </td><td style=\"text-align: right;\"> 0.0809093 </td><td style=\"text-align: right;\">-0.057373 </td><td style=\"text-align: right;\">0.206248 </td><td style=\"text-align: right;\"> 0.128251  </td><td style=\"text-align: right;\">-0.0264868</td><td style=\"text-align: right;\"> 0.00405604</td><td style=\"text-align: right;\">-0.174833 </td><td style=\"text-align: right;\">0.0972237</td><td style=\"text-align: right;\">0.0785321 </td><td style=\"text-align: right;\"> 0.0782173 </td><td style=\"text-align: right;\">-0.0532983 </td><td style=\"text-align: right;\">-0.0108917</td><td style=\"text-align: right;\">-0.0942679</td><td style=\"text-align: right;\"> 0.00133038</td><td style=\"text-align: right;\">-0.128101  </td><td style=\"text-align: right;\">-0.0787584 </td><td style=\"text-align: right;\">-0.00164588</td><td style=\"text-align: right;\">0.108182 </td><td style=\"text-align: right;\">-0.0871777</td><td style=\"text-align: right;\">0.0135486</td><td style=\"text-align: right;\">-0.240951 </td><td style=\"text-align: right;\">-0.0332373 </td><td style=\"text-align: right;\"> 0.159323 </td><td style=\"text-align: right;\"> 0.0332588 </td><td style=\"text-align: right;\">-0.0251307</td><td style=\"text-align: right;\"> 0.0813865 </td><td style=\"text-align: right;\">-0.0560711  </td><td style=\"text-align: right;\">0.178509</td><td style=\"text-align: right;\"> 0.0399066  </td><td style=\"text-align: right;\"> 0.0905535 </td><td style=\"text-align: right;\">-0.0850187</td><td style=\"text-align: right;\"> 0.0249556 </td><td style=\"text-align: right;\">-0.156318 </td><td style=\"text-align: right;\"> 0.134754 </td><td style=\"text-align: right;\"> 0.0699051 </td><td style=\"text-align: right;\"> 0.179331   </td><td style=\"text-align: right;\"> 0.055799  </td><td style=\"text-align: right;\">-0.0951655</td><td style=\"text-align: right;\"> 0.00183206</td><td style=\"text-align: right;\"> 0.186656</td><td style=\"text-align: right;\"> 0.0264459</td><td style=\"text-align: right;\"> 0.12358  </td><td style=\"text-align: right;\"> 0.010444  </td><td style=\"text-align: right;\">0.0457345</td><td style=\"text-align: right;\"> 0.131928 </td><td style=\"text-align: right;\"> 0.0328116 </td><td style=\"text-align: right;\"> 0.113283 </td><td style=\"text-align: right;\">-0.0803062 </td><td style=\"text-align: right;\">-0.115347 </td><td style=\"text-align: right;\">-0.08779  </td></tr>\n",
       "<tr><td>B001PMCDK2 </td><td>A14TTMM0Z03Y2W</td><td>my cat goes crazy for these!          </td><td style=\"text-align: right;\">      5</td><td style=\"text-align: right;\">                       0</td><td style=\"text-align: right;\">389965</td><td>Lindsay S. Bradford                             </td><td style=\"text-align: right;\">                     0</td><td style=\"text-align: right;\">1.3106e+09 </td><td>Best cat treat ever. There isn&#x27;t anything comparable to the love my cat has for these treats, he snubs away any other kind now.&lt;br /&gt;I know he likes to manipulate me with his cattiness but these treats are my way of manipulating him to come sit on my lap and have some chill time. :)                                                                                                                                                                                                                                                                                                                                                                                                                                                                                                                                                                                                                                                                                                                                                                                                                                                                                                                                                                                                                                                                                                                                                                                                                                                                                                                                                                                                                                                                                                                                                                                                                                                                                                                                                                                                                                                                                                                                                                                                                                                                                                                                                                                                                                                                                                                                                                                                                                                                                                                                                                                                                                                                                                                                                                                                                                                                                                                                                                 </td><td style=\"text-align: right;\">               1</td><td>Yes    </td><td style=\"text-align: right;\">-0.0165855</td><td style=\"text-align: right;\"> 0.124047 </td><td style=\"text-align: right;\"> 0.0903657 </td><td style=\"text-align: right;\"> 0.0701157 </td><td style=\"text-align: right;\">-0.132572 </td><td style=\"text-align: right;\">-0.0776742</td><td style=\"text-align: right;\">0.16985  </td><td style=\"text-align: right;\"> 0.0945349</td><td style=\"text-align: right;\"> 0.00116068</td><td style=\"text-align: right;\">-0.154263 </td><td style=\"text-align: right;\"> 0.00596363</td><td style=\"text-align: right;\">-0.0260785</td><td style=\"text-align: right;\"> 0.00834524</td><td style=\"text-align: right;\">-0.103445 </td><td style=\"text-align: right;\"> 0.0249006 </td><td style=\"text-align: right;\"> 0.116026 </td><td style=\"text-align: right;\">0.0779707</td><td style=\"text-align: right;\"> 0.0778262 </td><td style=\"text-align: right;\">0.158386 </td><td style=\"text-align: right;\"> 0.0912067 </td><td style=\"text-align: right;\">-0.09043   </td><td style=\"text-align: right;\"> 0.0766506</td><td style=\"text-align: right;\"> 0.0369978 </td><td style=\"text-align: right;\">-0.125728 </td><td style=\"text-align: right;\">-0.077454  </td><td style=\"text-align: right;\"> 0.0245498</td><td style=\"text-align: right;\"> 0.0400932 </td><td style=\"text-align: right;\"> 0.0633632 </td><td style=\"text-align: right;\">-0.00423568</td><td style=\"text-align: right;\">-0.109498 </td><td style=\"text-align: right;\"> 0.0141848</td><td style=\"text-align: right;\"> 0.0516431 </td><td style=\"text-align: right;\">-0.147152  </td><td style=\"text-align: right;\">-0.0881512</td><td style=\"text-align: right;\"> 0.0755724 </td><td style=\"text-align: right;\">-0.293318 </td><td style=\"text-align: right;\"> 0.13481   </td><td style=\"text-align: right;\">-0.154901  </td><td style=\"text-align: right;\"> 0.0323371 </td><td style=\"text-align: right;\">-0.0815849 </td><td style=\"text-align: right;\"> 0.0252859</td><td style=\"text-align: right;\">-0.104744 </td><td style=\"text-align: right;\"> 0.0296063 </td><td style=\"text-align: right;\">-0.07985   </td><td style=\"text-align: right;\">0.155277 </td><td style=\"text-align: right;\"> 0.0149016 </td><td style=\"text-align: right;\"> 0.023107   </td><td style=\"text-align: right;\">-0.0184739 </td><td style=\"text-align: right;\"> 0.0287119 </td><td style=\"text-align: right;\">-0.162781 </td><td style=\"text-align: right;\">-0.00272997</td><td style=\"text-align: right;\"> 0.0432199</td><td style=\"text-align: right;\">0.092696 </td><td style=\"text-align: right;\"> 0.0585753 </td><td style=\"text-align: right;\"> 0.044798 </td><td style=\"text-align: right;\"> 0.136235  </td><td style=\"text-align: right;\"> 0.0855026</td><td style=\"text-align: right;\">0.218901 </td><td style=\"text-align: right;\">0.0737964 </td><td style=\"text-align: right;\">-0.0147233 </td><td style=\"text-align: right;\"> 0.00137667</td><td style=\"text-align: right;\">-0.0803649</td><td style=\"text-align: right;\">-0.188048 </td><td style=\"text-align: right;\"> 0.0434594 </td><td style=\"text-align: right;\">-0.0629608 </td><td style=\"text-align: right;\">-0.00403584</td><td style=\"text-align: right;\"> 0.0821967 </td><td style=\"text-align: right;\">0.132371 </td><td style=\"text-align: right;\">-0.0173601</td><td style=\"text-align: right;\">0.0986142</td><td style=\"text-align: right;\">-0.0895451</td><td style=\"text-align: right;\"> 0.0325758 </td><td style=\"text-align: right;\"> 0.145046 </td><td style=\"text-align: right;\"> 0.0107876 </td><td style=\"text-align: right;\">-0.0855923</td><td style=\"text-align: right;\"> 0.0196555 </td><td style=\"text-align: right;\"> 0.0180845  </td><td style=\"text-align: right;\">0.122547</td><td style=\"text-align: right;\"> 0.0483802  </td><td style=\"text-align: right;\"> 0.123634  </td><td style=\"text-align: right;\"> 0.010174 </td><td style=\"text-align: right;\">-0.0177316 </td><td style=\"text-align: right;\">-0.0410886</td><td style=\"text-align: right;\"> 0.184935 </td><td style=\"text-align: right;\">-0.0520654 </td><td style=\"text-align: right;\"> 0.0963538  </td><td style=\"text-align: right;\">-0.0078971 </td><td style=\"text-align: right;\">-0.0108939</td><td style=\"text-align: right;\"> 0.0110045 </td><td style=\"text-align: right;\"> 0.139939</td><td style=\"text-align: right;\"> 0.0252112</td><td style=\"text-align: right;\"> 0.158748 </td><td style=\"text-align: right;\"> 0.103943  </td><td style=\"text-align: right;\">0.11713  </td><td style=\"text-align: right;\"> 0.0576487</td><td style=\"text-align: right;\">-0.00251562</td><td style=\"text-align: right;\"> 0.129997 </td><td style=\"text-align: right;\">-0.0297183 </td><td style=\"text-align: right;\">-0.157782 </td><td style=\"text-align: right;\"> 0.0629966</td></tr>\n",
       "<tr><td>B002Q8JOSI </td><td>A17UQD2RSSQH5X</td><td>My dogs tell me these treats are YUMMY</td><td style=\"text-align: right;\">      5</td><td style=\"text-align: right;\">                       1</td><td style=\"text-align: right;\">212536</td><td>in the dark                                     </td><td style=\"text-align: right;\">                     1</td><td style=\"text-align: right;\">1.31613e+09</td><td>My two Corgis were thoroughly spoiled by my late husband (I spent a year and a half dieting them down a combined total of 25 pounds!)&lt;br /&gt;&lt;br /&gt;They are accustomed to the finest of fare, and they absolutely love the Wellness brand of treats.                                                                                                                                                                                                                                                                                                                                                                                                                                                                                                                                                                                                                                                                                                                                                                                                                                                                                                                                                                                                                                                                                                                                                                                                                                                                                                                                                                                                                                                                                                                                                                                                                                                                                                                                                                                                                                                                                                                                                                                                                                                                                                                                                                                                                                                                                                                                                                                                                                                                                                                                                                                                                                                                                                                                                                                                                                                                                                                                                                                                          </td><td style=\"text-align: right;\">               1</td><td>Yes    </td><td style=\"text-align: right;\">-0.0628657</td><td style=\"text-align: right;\"> 0.0246513</td><td style=\"text-align: right;\">-0.00342179</td><td style=\"text-align: right;\"> 0.0472609 </td><td style=\"text-align: right;\">-0.176363 </td><td style=\"text-align: right;\">-0.0240649</td><td style=\"text-align: right;\">0.226418 </td><td style=\"text-align: right;\"> 0.0617121</td><td style=\"text-align: right;\">-0.0578307 </td><td style=\"text-align: right;\">-0.174033 </td><td style=\"text-align: right;\"> 0.00888046</td><td style=\"text-align: right;\">-0.112529 </td><td style=\"text-align: right;\">-0.0331369 </td><td style=\"text-align: right;\">-0.167775 </td><td style=\"text-align: right;\">-0.100136  </td><td style=\"text-align: right;\"> 0.0877824</td><td style=\"text-align: right;\">0.076973 </td><td style=\"text-align: right;\"> 0.0497063 </td><td style=\"text-align: right;\">0.0581079</td><td style=\"text-align: right;\"> 0.11668   </td><td style=\"text-align: right;\">-0.0751547 </td><td style=\"text-align: right;\"> 0.0828954</td><td style=\"text-align: right;\">-0.00117237</td><td style=\"text-align: right;\">-0.0674155</td><td style=\"text-align: right;\">-0.106799  </td><td style=\"text-align: right;\">-0.0857429</td><td style=\"text-align: right;\"> 0.0873571 </td><td style=\"text-align: right;\"> 0.0480334 </td><td style=\"text-align: right;\">-0.00610693</td><td style=\"text-align: right;\">-0.0254176</td><td style=\"text-align: right;\"> 0.0858143</td><td style=\"text-align: right;\">-0.073992  </td><td style=\"text-align: right;\">-0.141025  </td><td style=\"text-align: right;\">-0.0360186</td><td style=\"text-align: right;\">-0.0137072 </td><td style=\"text-align: right;\">-0.227983 </td><td style=\"text-align: right;\"> 0.00846241</td><td style=\"text-align: right;\">-0.139039  </td><td style=\"text-align: right;\">-0.127062  </td><td style=\"text-align: right;\">-0.00458666</td><td style=\"text-align: right;\"> 0.111766 </td><td style=\"text-align: right;\">-0.158633 </td><td style=\"text-align: right;\"> 0.0608668 </td><td style=\"text-align: right;\">-0.0402118 </td><td style=\"text-align: right;\">0.077802 </td><td style=\"text-align: right;\">-0.00902862</td><td style=\"text-align: right;\"> 0.0700925  </td><td style=\"text-align: right;\"> 0.0119415 </td><td style=\"text-align: right;\">-0.0421357 </td><td style=\"text-align: right;\">-0.127371 </td><td style=\"text-align: right;\"> 0.0196634 </td><td style=\"text-align: right;\"> 0.0169482</td><td style=\"text-align: right;\">0.0215691</td><td style=\"text-align: right;\"> 0.03706   </td><td style=\"text-align: right;\">-0.0524614</td><td style=\"text-align: right;\"> 0.0856191 </td><td style=\"text-align: right;\"> 0.0361771</td><td style=\"text-align: right;\">0.111972 </td><td style=\"text-align: right;\">0.118441  </td><td style=\"text-align: right;\">-0.0188524 </td><td style=\"text-align: right;\">-0.0355457 </td><td style=\"text-align: right;\">-0.106452 </td><td style=\"text-align: right;\">-0.174195 </td><td style=\"text-align: right;\"> 0.00203898</td><td style=\"text-align: right;\">-0.0692052 </td><td style=\"text-align: right;\">-0.0909102 </td><td style=\"text-align: right;\"> 0.00968092</td><td style=\"text-align: right;\">0.0956994</td><td style=\"text-align: right;\">-0.034187 </td><td style=\"text-align: right;\">0.079342 </td><td style=\"text-align: right;\">-0.125149 </td><td style=\"text-align: right;\"> 0.0384935 </td><td style=\"text-align: right;\"> 0.156394 </td><td style=\"text-align: right;\">-0.0645079 </td><td style=\"text-align: right;\">-0.0490999</td><td style=\"text-align: right;\"> 0.107482  </td><td style=\"text-align: right;\"> 0.050519   </td><td style=\"text-align: right;\">0.112538</td><td style=\"text-align: right;\"> 0.113714   </td><td style=\"text-align: right;\"> 0.182932  </td><td style=\"text-align: right;\"> 0.0134112</td><td style=\"text-align: right;\"> 0.0157418 </td><td style=\"text-align: right;\">-0.0373217</td><td style=\"text-align: right;\"> 0.043441 </td><td style=\"text-align: right;\">-0.089489  </td><td style=\"text-align: right;\"> 0.143468   </td><td style=\"text-align: right;\"> 0.088555  </td><td style=\"text-align: right;\"> 0.0116531</td><td style=\"text-align: right;\"> 0.0628175 </td><td style=\"text-align: right;\"> 0.161724</td><td style=\"text-align: right;\"> 0.0390088</td><td style=\"text-align: right;\"> 0.079954 </td><td style=\"text-align: right;\"> 0.165276  </td><td style=\"text-align: right;\">0.185697 </td><td style=\"text-align: right;\">-0.0556521</td><td style=\"text-align: right;\">-0.0187422 </td><td style=\"text-align: right;\"> 0.0798174</td><td style=\"text-align: right;\">-0.100409  </td><td style=\"text-align: right;\">-0.0474922</td><td style=\"text-align: right;\">-0.0115308</td></tr>\n",
       "<tr><td>B00176G870 </td><td>A2F2MZW8EOGH5J</td><td>Yummy to the tummy                    </td><td style=\"text-align: right;\">      5</td><td style=\"text-align: right;\">                       0</td><td style=\"text-align: right;\">115971</td><td>daemoncycler &quot;When you arrive at a fork in th...</td><td style=\"text-align: right;\">                     0</td><td style=\"text-align: right;\">1.33479e+09</td><td>We used to have drive down to the specialty pet food store for this product.  So glad we discovered Amazon.  As far as I can tell it is no more expensive &amp; in some cases less - Prime membership is awesome.  Loving Pets treats are some of the best according to my dog.  They do not develop that nasty smell like some dog treats do.                                                                                                                                                                                                                                                                                                                                                                                                                                                                                                                                                                                                                                                                                                                                                                                                                                                                                                                                                                                                                                                                                                                                                                                                                                                                                                                                                                                                                                                                                                                                                                                                                                                                                                                                                                                                                                                                                                                                                                                                                                                                                                                                                                                                                                                                                                                                                                                                                                                                                                                                                                                                                                                                                                                                                                                                                                                                                                                  </td><td style=\"text-align: right;\">               1</td><td>Yes    </td><td style=\"text-align: right;\">-0.0973246</td><td style=\"text-align: right;\"> 0.029949 </td><td style=\"text-align: right;\"> 0.13568   </td><td style=\"text-align: right;\"> 0.113258  </td><td style=\"text-align: right;\">-0.144668 </td><td style=\"text-align: right;\">-0.044655 </td><td style=\"text-align: right;\">0.228084 </td><td style=\"text-align: right;\"> 0.0823702</td><td style=\"text-align: right;\">-0.0129219 </td><td style=\"text-align: right;\">-0.084297 </td><td style=\"text-align: right;\">-0.0167941 </td><td style=\"text-align: right;\">-0.197454 </td><td style=\"text-align: right;\">-0.0507785 </td><td style=\"text-align: right;\">-0.11702  </td><td style=\"text-align: right;\">-0.118334  </td><td style=\"text-align: right;\"> 0.0593359</td><td style=\"text-align: right;\">0.0700301</td><td style=\"text-align: right;\"> 0.0705755 </td><td style=\"text-align: right;\">0.138905 </td><td style=\"text-align: right;\"> 0.00628039</td><td style=\"text-align: right;\">-0.0298732 </td><td style=\"text-align: right;\"> 0.0274266</td><td style=\"text-align: right;\">-0.0363456 </td><td style=\"text-align: right;\">-0.109314 </td><td style=\"text-align: right;\">-0.0545025 </td><td style=\"text-align: right;\">-0.0429571</td><td style=\"text-align: right;\"> 0.0381431 </td><td style=\"text-align: right;\"> 0.0526667 </td><td style=\"text-align: right;\">-0.0209378 </td><td style=\"text-align: right;\">-0.155783 </td><td style=\"text-align: right;\"> 0.051447 </td><td style=\"text-align: right;\">-0.0284256 </td><td style=\"text-align: right;\">-0.0999808 </td><td style=\"text-align: right;\">-0.0246258</td><td style=\"text-align: right;\">-0.0571777 </td><td style=\"text-align: right;\">-0.269573 </td><td style=\"text-align: right;\"> 0.114238  </td><td style=\"text-align: right;\">-0.106261  </td><td style=\"text-align: right;\">-0.0683324 </td><td style=\"text-align: right;\">-0.0281526 </td><td style=\"text-align: right;\"> 0.0710355</td><td style=\"text-align: right;\">-0.153936 </td><td style=\"text-align: right;\">-0.0515144 </td><td style=\"text-align: right;\">-0.00896527</td><td style=\"text-align: right;\">0.0460396</td><td style=\"text-align: right;\">-0.0583763 </td><td style=\"text-align: right;\">-0.104127   </td><td style=\"text-align: right;\">-0.0325425 </td><td style=\"text-align: right;\"> 0.00920218</td><td style=\"text-align: right;\">-0.162119 </td><td style=\"text-align: right;\"> 0.0326128 </td><td style=\"text-align: right;\">-0.0160051</td><td style=\"text-align: right;\">0.179909 </td><td style=\"text-align: right;\"> 0.0361159 </td><td style=\"text-align: right;\"> 0.179674 </td><td style=\"text-align: right;\"> 0.119556  </td><td style=\"text-align: right;\"> 0.0358362</td><td style=\"text-align: right;\">0.155892 </td><td style=\"text-align: right;\">0.00493035</td><td style=\"text-align: right;\"> 0.00895493</td><td style=\"text-align: right;\">-0.0603067 </td><td style=\"text-align: right;\">-0.0545653</td><td style=\"text-align: right;\">-0.173235 </td><td style=\"text-align: right;\"> 0.016048  </td><td style=\"text-align: right;\">-0.109192  </td><td style=\"text-align: right;\">-0.0291967 </td><td style=\"text-align: right;\"> 0.00442248</td><td style=\"text-align: right;\">0.0968008</td><td style=\"text-align: right;\">-0.051559 </td><td style=\"text-align: right;\">0.0958867</td><td style=\"text-align: right;\">-0.0884602</td><td style=\"text-align: right;\">-0.00944566</td><td style=\"text-align: right;\"> 0.123598 </td><td style=\"text-align: right;\"> 0.0618507 </td><td style=\"text-align: right;\">-0.0173382</td><td style=\"text-align: right;\"> 0.0721479 </td><td style=\"text-align: right;\"> 0.0481816  </td><td style=\"text-align: right;\">0.236163</td><td style=\"text-align: right;\">-0.000197374</td><td style=\"text-align: right;\"> 0.0375406 </td><td style=\"text-align: right;\">-0.0820793</td><td style=\"text-align: right;\"> 0.0139    </td><td style=\"text-align: right;\">-0.019304 </td><td style=\"text-align: right;\"> 0.120859 </td><td style=\"text-align: right;\">-0.057019  </td><td style=\"text-align: right;\"> 0.0726612  </td><td style=\"text-align: right;\"> 0.016515  </td><td style=\"text-align: right;\"> 0.0291935</td><td style=\"text-align: right;\">-0.0044853 </td><td style=\"text-align: right;\"> 0.184579</td><td style=\"text-align: right;\">-0.0432841</td><td style=\"text-align: right;\"> 0.0984312</td><td style=\"text-align: right;\"> 0.0769254 </td><td style=\"text-align: right;\">0.0274605</td><td style=\"text-align: right;\"> 0.0746937</td><td style=\"text-align: right;\">-0.125853  </td><td style=\"text-align: right;\"> 0.065563 </td><td style=\"text-align: right;\">-0.0701485 </td><td style=\"text-align: right;\">-0.0782979</td><td style=\"text-align: right;\"> 0.122273 </td></tr>\n",
       "<tr><td>B001CHFUGY </td><td>A2M8VROSDPU4JT</td><td>Very good coffee                      </td><td style=\"text-align: right;\">      5</td><td style=\"text-align: right;\">                       1</td><td style=\"text-align: right;\">434484</td><td>Officefan &quot;Officefankt&quot;                         </td><td style=\"text-align: right;\">                     1</td><td style=\"text-align: right;\">1.27725e+09</td><td>I really liked this coffee, it was just as good as everyone claimed it was.  Strong, bold and flavorful!  I would recommend!                                                                                                                                                                                                                                                                                                                                                                                                                                                                                                                                                                                                                                                                                                                                                                                                                                                                                                                                                                                                                                                                                                                                                                                                                                                                                                                                                                                                                                                                                                                                                                                                                                                                                                                                                                                                                                                                                                                                                                                                                                                                                                                                                                                                                                                                                                                                                                                                                                                                                                                                                                                                                                                                                                                                                                                                                                                                                                                                                                                                                                                                                                                                </td><td style=\"text-align: right;\">               1</td><td>Yes    </td><td style=\"text-align: right;\">-0.101492 </td><td style=\"text-align: right;\"> 0.122895 </td><td style=\"text-align: right;\"> 0.0265447 </td><td style=\"text-align: right;\"> 0.0254359 </td><td style=\"text-align: right;\">-0.0641231</td><td style=\"text-align: right;\">-0.0471412</td><td style=\"text-align: right;\">0.314462 </td><td style=\"text-align: right;\"> 0.0477937</td><td style=\"text-align: right;\">-0.0680467 </td><td style=\"text-align: right;\">-0.0413393</td><td style=\"text-align: right;\">-0.0661371 </td><td style=\"text-align: right;\"> 0.299944 </td><td style=\"text-align: right;\">-0.242168  </td><td style=\"text-align: right;\">-0.0440941</td><td style=\"text-align: right;\"> 0.0953218 </td><td style=\"text-align: right;\">-0.0691339</td><td style=\"text-align: right;\">0.0698885</td><td style=\"text-align: right;\">-0.037587  </td><td style=\"text-align: right;\">0.204862 </td><td style=\"text-align: right;\">-0.0260304 </td><td style=\"text-align: right;\">-0.0441333 </td><td style=\"text-align: right;\"> 0.18288  </td><td style=\"text-align: right;\">-0.0192413 </td><td style=\"text-align: right;\">-0.119613 </td><td style=\"text-align: right;\">-0.0658358 </td><td style=\"text-align: right;\">-0.130763 </td><td style=\"text-align: right;\"> 0.132045  </td><td style=\"text-align: right;\">-0.0784449 </td><td style=\"text-align: right;\"> 0.0154721 </td><td style=\"text-align: right;\">-0.154617 </td><td style=\"text-align: right;\"> 0.107094 </td><td style=\"text-align: right;\"> 0.0573254 </td><td style=\"text-align: right;\">-0.0691196 </td><td style=\"text-align: right;\"> 0.0148138</td><td style=\"text-align: right;\"> 0.00147091</td><td style=\"text-align: right;\">-0.288944 </td><td style=\"text-align: right;\">-0.0124677 </td><td style=\"text-align: right;\">-0.0879577 </td><td style=\"text-align: right;\">-0.0459025 </td><td style=\"text-align: right;\"> 0.0295173 </td><td style=\"text-align: right;\">-0.0457358</td><td style=\"text-align: right;\">-0.123379 </td><td style=\"text-align: right;\">-0.0659347 </td><td style=\"text-align: right;\">-0.0935294 </td><td style=\"text-align: right;\">0.110085 </td><td style=\"text-align: right;\"> 0.0640491 </td><td style=\"text-align: right;\">-0.0408247  </td><td style=\"text-align: right;\"> 0.0120237 </td><td style=\"text-align: right;\">-0.0830556 </td><td style=\"text-align: right;\">-0.0878947</td><td style=\"text-align: right;\"> 0.0630365 </td><td style=\"text-align: right;\">-0.161021 </td><td style=\"text-align: right;\">0.037236 </td><td style=\"text-align: right;\"> 0.116478  </td><td style=\"text-align: right;\"> 0.0251987</td><td style=\"text-align: right;\">-0.00515308</td><td style=\"text-align: right;\">-0.224745 </td><td style=\"text-align: right;\">0.224095 </td><td style=\"text-align: right;\">0.205563  </td><td style=\"text-align: right;\">-0.0727391 </td><td style=\"text-align: right;\">-0.071797  </td><td style=\"text-align: right;\">-0.0909675</td><td style=\"text-align: right;\">-0.147733 </td><td style=\"text-align: right;\">-0.119882  </td><td style=\"text-align: right;\"> 0.0233156 </td><td style=\"text-align: right;\"> 0.0275736 </td><td style=\"text-align: right;\">-0.0245452 </td><td style=\"text-align: right;\">0.0313033</td><td style=\"text-align: right;\">-0.0331604</td><td style=\"text-align: right;\">0.130286 </td><td style=\"text-align: right;\">-0.130788 </td><td style=\"text-align: right;\"> 0.012751  </td><td style=\"text-align: right;\"> 0.133857 </td><td style=\"text-align: right;\"> 0.151801  </td><td style=\"text-align: right;\">-0.0844088</td><td style=\"text-align: right;\"> 0.116876  </td><td style=\"text-align: right;\">-0.0901887  </td><td style=\"text-align: right;\">0.133518</td><td style=\"text-align: right;\">-0.0337888  </td><td style=\"text-align: right;\"> 0.129038  </td><td style=\"text-align: right;\">-0.091686 </td><td style=\"text-align: right;\"> 0.0691606 </td><td style=\"text-align: right;\">-0.109431 </td><td style=\"text-align: right;\">-0.105787 </td><td style=\"text-align: right;\"> 0.101668  </td><td style=\"text-align: right;\">-0.0799022  </td><td style=\"text-align: right;\">-0.0198255 </td><td style=\"text-align: right;\"> 0.0285004</td><td style=\"text-align: right;\">-0.0747984 </td><td style=\"text-align: right;\"> 0.164349</td><td style=\"text-align: right;\">-0.0185116</td><td style=\"text-align: right;\"> 0.0105346</td><td style=\"text-align: right;\"> 0.0686686 </td><td style=\"text-align: right;\">0.183169 </td><td style=\"text-align: right;\"> 0.0561258</td><td style=\"text-align: right;\">-0.107978  </td><td style=\"text-align: right;\"> 0.140578 </td><td style=\"text-align: right;\"> 0.0547085 </td><td style=\"text-align: right;\">-0.159967 </td><td style=\"text-align: right;\">-0.0795421</td></tr>\n",
       "<tr><td>B0041CIR62 </td><td>A16I6WJUEBJ1C3</td><td>okay but not as healthy as it appears </td><td style=\"text-align: right;\">      2</td><td style=\"text-align: right;\">                       1</td><td style=\"text-align: right;\">138997</td><td>doctorsirena &quot;doctorsirena&quot;                     </td><td style=\"text-align: right;\">                     1</td><td style=\"text-align: right;\">1.34369e+09</td><td>I am always looking for healthier, whole grain versions of foods I enjoy.  Unfortunately, these Peacock brand noodles are yet another food masquerading as healthy.  The product title in big letters on the front says &quot;Brown Rice Vermicelli&quot;, making the consumer think &quot;this is made with brown rice, so it should be a healthy choice&quot;.  But the first indication that it is not is when looking at the fiber content on the nutrition facts - only 0.6g per 2oz serving.  Then onto the ingredients list to see why so low... contains brown rice, sago starch and water.  The sago starch comes from palms and must not have much (if any) fiber.&lt;br /&gt;&lt;br /&gt;The Annie Chun&#x27;s Maifun Brown Rice Noodles (sold on Amazon and in my local healthy grocer) has become one of my staples and is my frame of reference when comparing to the Peacock brand.  The Annie Chun&#x27;s product is made with 100% whole grain, with ingredients brown rice flour and water.  Per 2oz serving, it has 4g fiber and pretty much the same calories and other nutrients as the Peacock brand.&lt;br /&gt;&lt;br /&gt;If you do try this Peacock brand noodles and have not used rice noodles before, you will need to seek guidance elsewhere on preparation.  As others have pointed out, the Peacock package gives almost no directions on how to prepare the product, aside from a brief mention in the recipes (in the header text it does say that they are &quot;easy-to-cook&quot; but does not say how).  It also contains a very strange recipe for rice noodles: Aglio Olio style - this is an Italian recipe for noodles with olive oil/garlic/sprinkled with grated cheese that I think would not be very tasty.  The second recipe appears to be for a soup with veggie strips.  Neither recipe gives amounts or much direction.  In comparison, the Annie Chun&#x27;s package gives clear, specific directions on rice noodle preparation and two recipes.&lt;br /&gt;&lt;br /&gt;I use rice noodles = maifun = rice sticks = sometimes called vermicelli for making the Vietnamese salad &quot;bun tofu&quot;, to serve with stir-fried veggies or in lettuce rolls.  They can also be used in spring rolls/egg rolls.  When cooking with thin rice noodles, be careful not to oversoak/overcook/overmix or they tend to disintegrate.  Asian rice noodle vermicelli (maifun) are not the same as Italian vermicelli and are not readily interchangeable.  If making an Italian recipe, the best results would be expected from Italian pasta and not maifun.&lt;br /&gt;&lt;br /&gt;A few final notes...  Both Peacock and Annie Chun&#x27;s brown rice noodles are gluten free.  The Peacock is made in Singapore and the Annie Chun&#x27;s in Thailand.  The Peacock noodles do taste fine (kind of bland), but so do the Annie Chun&#x27;s.  At this time, they are both approximately the same price.  Peacock come in an plastic bag with some noodle crushage upon shipping; Annie Chun&#x27;s are perfect upon removal from their cellophane bag in a box.  Overall, I highly recommend the Annie Chun&#x27;s Maifun as a healthier option over the Peacock brand.  On a related note, the Annie Chun&#x27;s soba and brown rice pad thai noodles are also excellent.&lt;br /&gt;&lt;br /&gt;Rating for this product: 2.5 stars rounded down to 2 stars.</td><td style=\"text-align: right;\">               0</td><td>No     </td><td style=\"text-align: right;\">-0.284532 </td><td style=\"text-align: right;\">-0.0368462</td><td style=\"text-align: right;\"> 0.0363245 </td><td style=\"text-align: right;\"> 0.00241417</td><td style=\"text-align: right;\">-0.0834898</td><td style=\"text-align: right;\">-0.0158112</td><td style=\"text-align: right;\">0.295321 </td><td style=\"text-align: right;\">-0.0221104</td><td style=\"text-align: right;\">-0.0162314 </td><td style=\"text-align: right;\">-0.0665584</td><td style=\"text-align: right;\">-0.0898444 </td><td style=\"text-align: right;\">-0.102536 </td><td style=\"text-align: right;\">-0.0432671 </td><td style=\"text-align: right;\">-0.105138 </td><td style=\"text-align: right;\">-0.00726165</td><td style=\"text-align: right;\"> 0.0698897</td><td style=\"text-align: right;\">0.107116 </td><td style=\"text-align: right;\"> 0.0727754 </td><td style=\"text-align: right;\">0.0220218</td><td style=\"text-align: right;\"> 0.040966  </td><td style=\"text-align: right;\">-0.0588136 </td><td style=\"text-align: right;\"> 0.0454216</td><td style=\"text-align: right;\">-0.00180133</td><td style=\"text-align: right;\">-0.006842 </td><td style=\"text-align: right;\">-0.13785   </td><td style=\"text-align: right;\">-0.107964 </td><td style=\"text-align: right;\">-0.0830984 </td><td style=\"text-align: right;\"> 0.00435033</td><td style=\"text-align: right;\"> 0.0320207 </td><td style=\"text-align: right;\">-0.123306 </td><td style=\"text-align: right;\"> 0.0429627</td><td style=\"text-align: right;\"> 0.0596093 </td><td style=\"text-align: right;\"> 0.00764578</td><td style=\"text-align: right;\">-0.0505086</td><td style=\"text-align: right;\"> 0.0413867 </td><td style=\"text-align: right;\">-0.0954951</td><td style=\"text-align: right;\">-0.0548516 </td><td style=\"text-align: right;\">-0.00489615</td><td style=\"text-align: right;\">-0.010921  </td><td style=\"text-align: right;\">-0.0371947 </td><td style=\"text-align: right;\"> 0.035361 </td><td style=\"text-align: right;\">-0.155358 </td><td style=\"text-align: right;\"> 0.0208222 </td><td style=\"text-align: right;\">-0.0416686 </td><td style=\"text-align: right;\">0.0170451</td><td style=\"text-align: right;\"> 0.0430171 </td><td style=\"text-align: right;\">-0.0982741  </td><td style=\"text-align: right;\"> 0.124252  </td><td style=\"text-align: right;\">-0.0672289 </td><td style=\"text-align: right;\">-0.0586295</td><td style=\"text-align: right;\"> 0.0542012 </td><td style=\"text-align: right;\">-0.0269558</td><td style=\"text-align: right;\">0.0516451</td><td style=\"text-align: right;\"> 0.0269012 </td><td style=\"text-align: right;\"> 0.0431596</td><td style=\"text-align: right;\">-0.00744409</td><td style=\"text-align: right;\">-0.0340278</td><td style=\"text-align: right;\">0.135767 </td><td style=\"text-align: right;\">0.0697055 </td><td style=\"text-align: right;\"> 0.0353999 </td><td style=\"text-align: right;\">-0.287919  </td><td style=\"text-align: right;\"> 0.0447441</td><td style=\"text-align: right;\">-0.202112 </td><td style=\"text-align: right;\">-0.0459931 </td><td style=\"text-align: right;\">-0.0838365 </td><td style=\"text-align: right;\"> 0.0746908 </td><td style=\"text-align: right;\"> 0.0576072 </td><td style=\"text-align: right;\">0.147388 </td><td style=\"text-align: right;\">-0.133273 </td><td style=\"text-align: right;\">0.0848163</td><td style=\"text-align: right;\">-0.0462304</td><td style=\"text-align: right;\"> 0.00979057</td><td style=\"text-align: right;\">-0.0446053</td><td style=\"text-align: right;\">-0.0191361 </td><td style=\"text-align: right;\">-0.133275 </td><td style=\"text-align: right;\"> 0.211334  </td><td style=\"text-align: right;\"> 0.0505393  </td><td style=\"text-align: right;\">0.109547</td><td style=\"text-align: right;\"> 0.00259655 </td><td style=\"text-align: right;\"> 0.112161  </td><td style=\"text-align: right;\">-0.058372 </td><td style=\"text-align: right;\"> 0.0105569 </td><td style=\"text-align: right;\">-0.0951508</td><td style=\"text-align: right;\"> 0.182147 </td><td style=\"text-align: right;\">-0.10148   </td><td style=\"text-align: right;\">-0.000457602</td><td style=\"text-align: right;\"> 0.0313108 </td><td style=\"text-align: right;\">-0.088069 </td><td style=\"text-align: right;\"> 0.106847  </td><td style=\"text-align: right;\"> 0.220355</td><td style=\"text-align: right;\"> 0.0974187</td><td style=\"text-align: right;\"> 0.0413356</td><td style=\"text-align: right;\">-0.00414957</td><td style=\"text-align: right;\">0.0770383</td><td style=\"text-align: right;\"> 0.119964 </td><td style=\"text-align: right;\"> 0.0469072 </td><td style=\"text-align: right;\"> 0.180422 </td><td style=\"text-align: right;\"> 0.0215161 </td><td style=\"text-align: right;\">-0.187352 </td><td style=\"text-align: right;\">-0.0116648</td></tr>\n",
       "<tr><td>B001R3BQFW </td><td>AM50E42AFUVNL </td><td>Taste great.                          </td><td style=\"text-align: right;\">      5</td><td style=\"text-align: right;\">                       0</td><td style=\"text-align: right;\">126555</td><td>T. Higley &quot;Tina&quot;                                </td><td style=\"text-align: right;\">                     0</td><td style=\"text-align: right;\">1.32356e+09</td><td>I have tried many different drink mix, this is the best tasting by far. It does not have the after taste of the sweetener and I really like it, it is pretty strong, so I use a big water bottle (20 oz) for one tube, it still a little stronger than I like, but it is just my taste.                                                                                                                                                                                                                                                                                                                                                                                                                                                                                                                                                                                                                                                                                                                                                                                                                                                                                                                                                                                                                                                                                                                                                                                                                                                                                                                                                                                                                                                                                                                                                                                                                                                                                                                                                                                                                                                                                                                                                                                                                                                                                                                                                                                                                                                                                                                                                                                                                                                                                                                                                                                                                                                                                                                                                                                                                                                                                                                                                                     </td><td style=\"text-align: right;\">               1</td><td>Yes    </td><td style=\"text-align: right;\">-0.0929952</td><td style=\"text-align: right;\"> 0.121081 </td><td style=\"text-align: right;\"> 0.128746  </td><td style=\"text-align: right;\"> 0.0368396 </td><td style=\"text-align: right;\">-0.019751 </td><td style=\"text-align: right;\">-0.106466 </td><td style=\"text-align: right;\">0.251753 </td><td style=\"text-align: right;\">-0.0332834</td><td style=\"text-align: right;\">-0.102676  </td><td style=\"text-align: right;\">-0.120465 </td><td style=\"text-align: right;\">-0.0858079 </td><td style=\"text-align: right;\"> 0.115979 </td><td style=\"text-align: right;\">-0.101652  </td><td style=\"text-align: right;\">-0.0616479</td><td style=\"text-align: right;\"> 0.0230914 </td><td style=\"text-align: right;\">-0.0721665</td><td style=\"text-align: right;\">0.082601 </td><td style=\"text-align: right;\"> 0.00731693</td><td style=\"text-align: right;\">0.137965 </td><td style=\"text-align: right;\"> 0.0162175 </td><td style=\"text-align: right;\">-0.0166576 </td><td style=\"text-align: right;\"> 0.0958394</td><td style=\"text-align: right;\">-0.00511938</td><td style=\"text-align: right;\">-0.0476525</td><td style=\"text-align: right;\"> 0.00356261</td><td style=\"text-align: right;\">-0.115868 </td><td style=\"text-align: right;\"> 0.00206812</td><td style=\"text-align: right;\"> 0.0228737 </td><td style=\"text-align: right;\"> 0.0707181 </td><td style=\"text-align: right;\">-0.14552  </td><td style=\"text-align: right;\"> 0.0969824</td><td style=\"text-align: right;\"> 0.00631887</td><td style=\"text-align: right;\">-0.178179  </td><td style=\"text-align: right;\">-0.0289021</td><td style=\"text-align: right;\"> 0.0137398 </td><td style=\"text-align: right;\">-0.162932 </td><td style=\"text-align: right;\">-0.00919588</td><td style=\"text-align: right;\">-0.112251  </td><td style=\"text-align: right;\"> 0.0271963 </td><td style=\"text-align: right;\"> 0.0327798 </td><td style=\"text-align: right;\"> 0.0575808</td><td style=\"text-align: right;\">-0.141245 </td><td style=\"text-align: right;\"> 0.0534229 </td><td style=\"text-align: right;\">-0.00960295</td><td style=\"text-align: right;\">0.0732807</td><td style=\"text-align: right;\">-0.0678734 </td><td style=\"text-align: right;\">-0.00390935 </td><td style=\"text-align: right;\"> 0.038771  </td><td style=\"text-align: right;\">-0.0238802 </td><td style=\"text-align: right;\">-0.140097 </td><td style=\"text-align: right;\"> 0.0117704 </td><td style=\"text-align: right;\">-0.115727 </td><td style=\"text-align: right;\">0.163956 </td><td style=\"text-align: right;\"> 0.00112472</td><td style=\"text-align: right;\">-0.0197151</td><td style=\"text-align: right;\"> 0.0320392 </td><td style=\"text-align: right;\">-0.164164 </td><td style=\"text-align: right;\">0.181619 </td><td style=\"text-align: right;\">0.0493995 </td><td style=\"text-align: right;\"> 0.0357248 </td><td style=\"text-align: right;\">-0.0853818 </td><td style=\"text-align: right;\">-0.0144131</td><td style=\"text-align: right;\">-0.137726 </td><td style=\"text-align: right;\"> 0.0173361 </td><td style=\"text-align: right;\">-0.133867  </td><td style=\"text-align: right;\">-0.0374739 </td><td style=\"text-align: right;\">-0.00148182</td><td style=\"text-align: right;\">0.0577924</td><td style=\"text-align: right;\">-0.0326397</td><td style=\"text-align: right;\">0.0402187</td><td style=\"text-align: right;\">-0.106673 </td><td style=\"text-align: right;\"> 0.0111397 </td><td style=\"text-align: right;\"> 0.0831846</td><td style=\"text-align: right;\"> 0.0939151 </td><td style=\"text-align: right;\">-0.0519118</td><td style=\"text-align: right;\"> 0.00751589</td><td style=\"text-align: right;\"> 0.000121333</td><td style=\"text-align: right;\">0.152427</td><td style=\"text-align: right;\">-0.0974607  </td><td style=\"text-align: right;\"> 0.118755  </td><td style=\"text-align: right;\">-0.124553 </td><td style=\"text-align: right;\">-0.00611699</td><td style=\"text-align: right;\">-0.116257 </td><td style=\"text-align: right;\"> 0.10299  </td><td style=\"text-align: right;\"> 0.0764804 </td><td style=\"text-align: right;\"> 0.0783893  </td><td style=\"text-align: right;\"> 0.0343951 </td><td style=\"text-align: right;\">-0.0268509</td><td style=\"text-align: right;\"> 0.0202722 </td><td style=\"text-align: right;\"> 0.183816</td><td style=\"text-align: right;\"> 0.0734012</td><td style=\"text-align: right;\"> 0.132974 </td><td style=\"text-align: right;\"> 0.0821276 </td><td style=\"text-align: right;\">0.17075  </td><td style=\"text-align: right;\">-0.0118749</td><td style=\"text-align: right;\"> 0.0373496 </td><td style=\"text-align: right;\"> 0.103045 </td><td style=\"text-align: right;\"> 0.00661923</td><td style=\"text-align: right;\">-0.18811  </td><td style=\"text-align: right;\">-0.0163344</td></tr>\n",
       "<tr><td>B005HGAV8I </td><td>A2I5KDNOESGJ1H</td><td>variety galore                        </td><td style=\"text-align: right;\">      5</td><td style=\"text-align: right;\">                       1</td><td style=\"text-align: right;\">438837</td><td>TJ                                              </td><td style=\"text-align: right;\">                     1</td><td style=\"text-align: right;\">1.33402e+09</td><td>This is my favorite item to order for my Keurig. There are so many flavors, my finicky palate never gets bored!  The only downside is there are probably 5-6 decaf varieties.  I don&#x27;t drink decaf (I REQUIRE copious amounts of caffeine), so they sit on the shelf...                                                                                                                                                                                                                                                                                                                                                                                                                                                                                                                                                                                                                                                                                                                                                                                                                                                                                                                                                                                                                                                                                                                                                                                                                                                                                                                                                                                                                                                                                                                                                                                                                                                                                                                                                                                                                                                                                                                                                                                                                                                                                                                                                                                                                                                                                                                                                                                                                                                                                                                                                                                                                                                                                                                                                                                                                                                                                                                                                                                     </td><td style=\"text-align: right;\">               1</td><td>Yes    </td><td style=\"text-align: right;\">-0.141328 </td><td style=\"text-align: right;\"> 0.0424784</td><td style=\"text-align: right;\"> 0.124649  </td><td style=\"text-align: right;\"> 0.0326626 </td><td style=\"text-align: right;\">-0.161596 </td><td style=\"text-align: right;\">-0.0763759</td><td style=\"text-align: right;\">0.23024  </td><td style=\"text-align: right;\"> 0.0188529</td><td style=\"text-align: right;\">-0.189886  </td><td style=\"text-align: right;\">-0.0492385</td><td style=\"text-align: right;\">-0.00615156</td><td style=\"text-align: right;\"> 0.0195109</td><td style=\"text-align: right;\">-0.101158  </td><td style=\"text-align: right;\">-0.0400932</td><td style=\"text-align: right;\"> 0.0613291 </td><td style=\"text-align: right;\">-0.025219 </td><td style=\"text-align: right;\">0.0784605</td><td style=\"text-align: right;\"> 0.0436576 </td><td style=\"text-align: right;\">0.222878 </td><td style=\"text-align: right;\"> 0.137998  </td><td style=\"text-align: right;\"> 0.00845384</td><td style=\"text-align: right;\"> 0.0625788</td><td style=\"text-align: right;\"> 0.0180692 </td><td style=\"text-align: right;\">-0.0371605</td><td style=\"text-align: right;\">-0.0337076 </td><td style=\"text-align: right;\">-0.0651475</td><td style=\"text-align: right;\"> 0.0793664 </td><td style=\"text-align: right;\">-0.0322794 </td><td style=\"text-align: right;\"> 0.0535698 </td><td style=\"text-align: right;\">-0.149535 </td><td style=\"text-align: right;\"> 0.121854 </td><td style=\"text-align: right;\">-0.0580968 </td><td style=\"text-align: right;\">-0.21346   </td><td style=\"text-align: right;\"> 0.0438819</td><td style=\"text-align: right;\"> 0.00342216</td><td style=\"text-align: right;\">-0.28745  </td><td style=\"text-align: right;\"> 0.0855798 </td><td style=\"text-align: right;\">-0.098547  </td><td style=\"text-align: right;\"> 0.00126664</td><td style=\"text-align: right;\"> 0.0130244 </td><td style=\"text-align: right;\">-0.0375299</td><td style=\"text-align: right;\">-0.0051823</td><td style=\"text-align: right;\"> 0.00178883</td><td style=\"text-align: right;\">-0.0102753 </td><td style=\"text-align: right;\">0.0774112</td><td style=\"text-align: right;\"> 0.0237231 </td><td style=\"text-align: right;\">-0.119595   </td><td style=\"text-align: right;\"> 0.0449695 </td><td style=\"text-align: right;\"> 0.0275961 </td><td style=\"text-align: right;\">-0.1519   </td><td style=\"text-align: right;\">-0.0242725 </td><td style=\"text-align: right;\"> 0.0112947</td><td style=\"text-align: right;\">0.0552746</td><td style=\"text-align: right;\">-0.01526   </td><td style=\"text-align: right;\"> 0.0639139</td><td style=\"text-align: right;\"> 0.15568   </td><td style=\"text-align: right;\">-0.0102357</td><td style=\"text-align: right;\">0.248248 </td><td style=\"text-align: right;\">0.0594349 </td><td style=\"text-align: right;\"> 0.122363  </td><td style=\"text-align: right;\">-0.0123398 </td><td style=\"text-align: right;\">-0.0937789</td><td style=\"text-align: right;\">-0.143862 </td><td style=\"text-align: right;\">-0.0934697 </td><td style=\"text-align: right;\">-0.106798  </td><td style=\"text-align: right;\">-0.0023046 </td><td style=\"text-align: right;\">-0.0144739 </td><td style=\"text-align: right;\">0.0875007</td><td style=\"text-align: right;\"> 0.0325723</td><td style=\"text-align: right;\">0.0904497</td><td style=\"text-align: right;\">-0.0595433</td><td style=\"text-align: right;\"> 0.0285904 </td><td style=\"text-align: right;\"> 0.104583 </td><td style=\"text-align: right;\">-0.00291745</td><td style=\"text-align: right;\">-0.0738183</td><td style=\"text-align: right;\">-0.0610693 </td><td style=\"text-align: right;\">-0.063485   </td><td style=\"text-align: right;\">0.136186</td><td style=\"text-align: right;\">-0.0456849  </td><td style=\"text-align: right;\"> 0.170068  </td><td style=\"text-align: right;\">-0.0850604</td><td style=\"text-align: right;\">-0.0691286 </td><td style=\"text-align: right;\">-0.130757 </td><td style=\"text-align: right;\"> 0.156332 </td><td style=\"text-align: right;\"> 0.00715471</td><td style=\"text-align: right;\">-0.0357399  </td><td style=\"text-align: right;\"> 0.0750059 </td><td style=\"text-align: right;\"> 0.0288781</td><td style=\"text-align: right;\">-0.033684  </td><td style=\"text-align: right;\"> 0.125848</td><td style=\"text-align: right;\"> 0.0442274</td><td style=\"text-align: right;\"> 0.0469615</td><td style=\"text-align: right;\"> 0.0897183 </td><td style=\"text-align: right;\">0.180773 </td><td style=\"text-align: right;\">-0.0371164</td><td style=\"text-align: right;\">-0.0137119 </td><td style=\"text-align: right;\"> 0.0462218</td><td style=\"text-align: right;\">-0.0581815 </td><td style=\"text-align: right;\">-0.214489 </td><td style=\"text-align: right;\">-0.0474647</td></tr>\n",
       "<tr><td>B000GFYRHQ </td><td>A3A7YUR6FS6ZCI</td><td>Bigelow Earl Grey Green Tea           </td><td style=\"text-align: right;\">      5</td><td style=\"text-align: right;\">                       0</td><td style=\"text-align: right;\">245379</td><td>Tea Lover                                       </td><td style=\"text-align: right;\">                     0</td><td style=\"text-align: right;\">1.17841e+09</td><td>Tastes like Earl Grey, but it&#x27;s green tea so it&#x27;s healthier.                                                                                                                                                                                                                                                                                                                                                                                                                                                                                                                                                                                                                                                                                                                                                                                                                                                                                                                                                                                                                                                                                                                                                                                                                                                                                                                                                                                                                                                                                                                                                                                                                                                                                                                                                                                                                                                                                                                                                                                                                                                                                                                                                                                                                                                                                                                                                                                                                                                                                                                                                                                                                                                                                                                                                                                                                                                                                                                                                                                                                                                                                                                                                                                                </td><td style=\"text-align: right;\">               1</td><td>Yes    </td><td style=\"text-align: right;\">-0.47773  </td><td style=\"text-align: right;\">-0.0731736</td><td style=\"text-align: right;\">-0.077892  </td><td style=\"text-align: right;\"> 0.0246004 </td><td style=\"text-align: right;\">-0.283763 </td><td style=\"text-align: right;\">-0.188526 </td><td style=\"text-align: right;\">0.0348776</td><td style=\"text-align: right;\">-0.154762 </td><td style=\"text-align: right;\">-0.474355  </td><td style=\"text-align: right;\">-0.0255207</td><td style=\"text-align: right;\"> 0.143549  </td><td style=\"text-align: right;\"> 0.549768 </td><td style=\"text-align: right;\">-0.135627  </td><td style=\"text-align: right;\">-0.103869 </td><td style=\"text-align: right;\"> 0.134063  </td><td style=\"text-align: right;\">-0.019794 </td><td style=\"text-align: right;\">0.123585 </td><td style=\"text-align: right;\">-0.0182059 </td><td style=\"text-align: right;\">0.441345 </td><td style=\"text-align: right;\"> 0.0372913 </td><td style=\"text-align: right;\"> 0.0106763 </td><td style=\"text-align: right;\"> 0.219055 </td><td style=\"text-align: right;\">-0.120669  </td><td style=\"text-align: right;\"> 0.042053 </td><td style=\"text-align: right;\">-0.155184  </td><td style=\"text-align: right;\">-0.0849788</td><td style=\"text-align: right;\">-0.0264272 </td><td style=\"text-align: right;\"> 0.0785849 </td><td style=\"text-align: right;\">-0.151035  </td><td style=\"text-align: right;\">-0.169809 </td><td style=\"text-align: right;\"> 0.0461972</td><td style=\"text-align: right;\">-0.261436  </td><td style=\"text-align: right;\">-0.751671  </td><td style=\"text-align: right;\"> 0.0100547</td><td style=\"text-align: right;\"> 0.110421  </td><td style=\"text-align: right;\"> 0.0694638</td><td style=\"text-align: right;\">-0.0532704 </td><td style=\"text-align: right;\">-0.00914766</td><td style=\"text-align: right;\">-0.176936  </td><td style=\"text-align: right;\"> 0.00992412</td><td style=\"text-align: right;\">-0.246042 </td><td style=\"text-align: right;\"> 0.109149 </td><td style=\"text-align: right;\">-0.238887  </td><td style=\"text-align: right;\"> 0.143068  </td><td style=\"text-align: right;\">0.119194 </td><td style=\"text-align: right;\">-0.153181  </td><td style=\"text-align: right;\"> 0.222096   </td><td style=\"text-align: right;\">-0.108051  </td><td style=\"text-align: right;\">-0.191865  </td><td style=\"text-align: right;\"> 0.26374  </td><td style=\"text-align: right;\">-0.194315  </td><td style=\"text-align: right;\">-0.0588083</td><td style=\"text-align: right;\">0.29802  </td><td style=\"text-align: right;\">-0.113608  </td><td style=\"text-align: right;\"> 0.136301 </td><td style=\"text-align: right;\"> 0.143257  </td><td style=\"text-align: right;\"> 0.0124976</td><td style=\"text-align: right;\">0.450071 </td><td style=\"text-align: right;\">0.276851  </td><td style=\"text-align: right;\"> 0.241577  </td><td style=\"text-align: right;\">-0.147721  </td><td style=\"text-align: right;\"> 0.197315 </td><td style=\"text-align: right;\">-0.320675 </td><td style=\"text-align: right;\">-0.140198  </td><td style=\"text-align: right;\">-0.00127517</td><td style=\"text-align: right;\"> 0.0624925 </td><td style=\"text-align: right;\"> 0.214239  </td><td style=\"text-align: right;\">0.22828  </td><td style=\"text-align: right;\"> 0.0593053</td><td style=\"text-align: right;\">0.0157692</td><td style=\"text-align: right;\">-0.219734 </td><td style=\"text-align: right;\">-0.0332849 </td><td style=\"text-align: right;\">-0.0248941</td><td style=\"text-align: right;\"> 0.0160308 </td><td style=\"text-align: right;\"> 0.0701214</td><td style=\"text-align: right;\"> 0.254409  </td><td style=\"text-align: right;\"> 0.0380541  </td><td style=\"text-align: right;\">0.180062</td><td style=\"text-align: right;\"> 0.0308799  </td><td style=\"text-align: right;\"> 0.0259187 </td><td style=\"text-align: right;\"> 0.0903672</td><td style=\"text-align: right;\"> 0.0804164 </td><td style=\"text-align: right;\">-0.563217 </td><td style=\"text-align: right;\"> 0.0902867</td><td style=\"text-align: right;\"> 0.116561  </td><td style=\"text-align: right;\"> 0.0937001  </td><td style=\"text-align: right;\"> 0.00508035</td><td style=\"text-align: right;\"> 0.0548036</td><td style=\"text-align: right;\"> 0.0338202 </td><td style=\"text-align: right;\">-0.152111</td><td style=\"text-align: right;\"> 0.065027 </td><td style=\"text-align: right;\">-0.0584935</td><td style=\"text-align: right;\"> 0.108381  </td><td style=\"text-align: right;\">0.162633 </td><td style=\"text-align: right;\"> 0.0859105</td><td style=\"text-align: right;\">-0.194868  </td><td style=\"text-align: right;\">-0.193504 </td><td style=\"text-align: right;\">-0.149882  </td><td style=\"text-align: right;\">-0.189756 </td><td style=\"text-align: right;\">-0.0703775</td></tr>\n",
       "</tbody>\n",
       "</table>"
      ]
     },
     "metadata": {},
     "output_type": "display_data"
    },
    {
     "data": {
      "text/plain": []
     },
     "execution_count": 44,
     "metadata": {},
     "output_type": "execute_result"
    }
   ],
   "source": [
    "ext_reviews"
   ]
  },
  {
   "cell_type": "code",
   "execution_count": 45,
   "metadata": {},
   "outputs": [
    {
     "name": "stdout",
     "output_type": "stream",
     "text": [
      "gbm Model Build progress: |███████████████████████████████████████████████| 100%\n"
     ]
    }
   ],
   "source": [
    "predictors = predictors + review_vecs.names\n",
    "response = 'PositiveReview'\n",
    "\n",
    "gbm_embeddings = H2OGradientBoostingEstimator(stopping_metric = \"AUC\", stopping_tolerance = 0.001,\n",
    "                                              stopping_rounds = 5, score_tree_interval = 10,\n",
    "                                              model_id = \"gbm_embeddings.hex\", ntrees = 1000,\n",
    "                                             )\n",
    "gbm_embeddings.train(x = predictors, y = response, \n",
    "                   training_frame = ext_train, validation_frame = ext_test\n",
    "                  )"
   ]
  },
  {
   "cell_type": "code",
   "execution_count": 46,
   "metadata": {},
   "outputs": [
    {
     "name": "stdout",
     "output_type": "stream",
     "text": [
      "Baseline AUC: 0.616\n",
      "With Embeddings AUC: 0.901\n"
     ]
    }
   ],
   "source": [
    "print(\"Baseline AUC: \" + str(round(gbm_baseline.auc(valid = True), 3)))\n",
    "print(\"With Embeddings AUC: \" + str(round(gbm_embeddings.auc(valid = True), 3)))"
   ]
  },
  {
   "cell_type": "code",
   "execution_count": 47,
   "metadata": {},
   "outputs": [
    {
     "name": "stdout",
     "output_type": "stream",
     "text": [
      "\n",
      "Confusion Matrix (Act/Pred) for max f1 @ threshold = 0.5520543212750034: \n"
     ]
    },
    {
     "data": {
      "text/html": [
       "<div>\n",
       "<style scoped>\n",
       "    .dataframe tbody tr th:only-of-type {\n",
       "        vertical-align: middle;\n",
       "    }\n",
       "\n",
       "    .dataframe tbody tr th {\n",
       "        vertical-align: top;\n",
       "    }\n",
       "\n",
       "    .dataframe thead th {\n",
       "        text-align: right;\n",
       "    }\n",
       "</style>\n",
       "<table border=\"1\" class=\"dataframe\">\n",
       "  <thead>\n",
       "    <tr style=\"text-align: right;\">\n",
       "      <th></th>\n",
       "      <th></th>\n",
       "      <th>0</th>\n",
       "      <th>1</th>\n",
       "      <th>Error</th>\n",
       "      <th>Rate</th>\n",
       "    </tr>\n",
       "  </thead>\n",
       "  <tbody>\n",
       "    <tr>\n",
       "      <th>0</th>\n",
       "      <td>0</td>\n",
       "      <td>2686.0</td>\n",
       "      <td>1974.0</td>\n",
       "      <td>0.4236</td>\n",
       "      <td>(1974.0/4660.0)</td>\n",
       "    </tr>\n",
       "    <tr>\n",
       "      <th>1</th>\n",
       "      <td>1</td>\n",
       "      <td>791.0</td>\n",
       "      <td>14557.0</td>\n",
       "      <td>0.0515</td>\n",
       "      <td>(791.0/15348.0)</td>\n",
       "    </tr>\n",
       "    <tr>\n",
       "      <th>2</th>\n",
       "      <td>Total</td>\n",
       "      <td>3477.0</td>\n",
       "      <td>16531.0</td>\n",
       "      <td>0.1382</td>\n",
       "      <td>(2765.0/20008.0)</td>\n",
       "    </tr>\n",
       "  </tbody>\n",
       "</table>\n",
       "</div>"
      ],
      "text/plain": [
       "               0        1   Error               Rate\n",
       "0      0  2686.0   1974.0  0.4236    (1974.0/4660.0)\n",
       "1      1   791.0  14557.0  0.0515    (791.0/15348.0)\n",
       "2  Total  3477.0  16531.0  0.1382   (2765.0/20008.0)"
      ]
     },
     "metadata": {},
     "output_type": "display_data"
    },
    {
     "data": {
      "text/plain": []
     },
     "execution_count": 47,
     "metadata": {},
     "output_type": "execute_result"
    }
   ],
   "source": [
    "gbm_embeddings.confusion_matrix(valid = True)"
   ]
  },
  {
   "cell_type": "code",
   "execution_count": 48,
   "metadata": {},
   "outputs": [
    {
     "data": {
      "image/png": "[encoded data removed]",
      "text/plain": [
       "<Figure size 1008x720 with 1 Axes>"
      ]
     },
     "metadata": {
      "needs_background": "light"
     },
     "output_type": "display_data"
    }
   ],
   "source": [
    "gbm_embeddings.varimp_plot()"
   ]
  },
  {
   "cell_type": "code",
   "execution_count": 49,
   "metadata": {},
   "outputs": [
    {
     "data": {
      "text/plain": [
       "['C11', 'C42', 'C69', 'C16', 'C31', 'C66', 'C21', 'C96', 'C92']"
      ]
     },
     "execution_count": 49,
     "metadata": {},
     "output_type": "execute_result"
    }
   ],
   "source": [
    "top_w2v_features = list(filter(lambda x: x.startswith('C'), map(lambda x: x[0], gbm_embeddings.varimp())))[1:10]\n",
    "top_w2v_features"
   ]
  },
  {
   "cell_type": "code",
   "execution_count": 50,
   "metadata": {},
   "outputs": [
    {
     "name": "stdout",
     "output_type": "stream",
     "text": [
      "glm Model Build progress: |███████████████████████████████████████████████| 100%\n"
     ]
    }
   ],
   "source": [
    "from h2o.estimators import H2OGeneralizedLinearEstimator\n",
    "\n",
    "glm_predictors = [\"HelpfulnessNumerator\", \"HelpfulnessDenominator\"] + review_vecs.names\n",
    "\n",
    "glm_embeddings = H2OGeneralizedLinearEstimator(model_id = \"glm_embeddings.hex\", interactions = top_w2v_features,\n",
    "                                               family = \"binomial\"\n",
    "                                              )\n",
    "glm_embeddings.train(x = glm_predictors, y = response,\n",
    "                     training_frame = ext_train, validation_frame = ext_test\n",
    "                    )"
   ]
  },
  {
   "cell_type": "code",
   "execution_count": 51,
   "metadata": {},
   "outputs": [
    {
     "name": "stdout",
     "output_type": "stream",
     "text": [
      "Baseline AUC: 0.616\n",
      "With Embeddings AUC (GBM): 0.901\n",
      "With Embeddings AUC (GLM): 0.904\n"
     ]
    }
   ],
   "source": [
    "print(\"Baseline AUC: \" + str(round(gbm_baseline.auc(valid = True), 3)))\n",
    "print(\"With Embeddings AUC (GBM): \" + str(round(gbm_embeddings.auc(valid = True), 3)))\n",
    "print(\"With Embeddings AUC (GLM): \" + str(round(glm_embeddings.auc(valid = True), 3)))"
   ]
  },
  {
   "cell_type": "code",
   "execution_count": 52,
   "metadata": {},
   "outputs": [
    {
     "name": "stdout",
     "output_type": "stream",
     "text": [
      "\n",
      "Confusion Matrix (Act/Pred) for max f1 @ threshold = 0.590495953565412: \n"
     ]
    },
    {
     "data": {
      "text/html": [
       "<div>\n",
       "<style scoped>\n",
       "    .dataframe tbody tr th:only-of-type {\n",
       "        vertical-align: middle;\n",
       "    }\n",
       "\n",
       "    .dataframe tbody tr th {\n",
       "        vertical-align: top;\n",
       "    }\n",
       "\n",
       "    .dataframe thead th {\n",
       "        text-align: right;\n",
       "    }\n",
       "</style>\n",
       "<table border=\"1\" class=\"dataframe\">\n",
       "  <thead>\n",
       "    <tr style=\"text-align: right;\">\n",
       "      <th></th>\n",
       "      <th></th>\n",
       "      <th>0</th>\n",
       "      <th>1</th>\n",
       "      <th>Error</th>\n",
       "      <th>Rate</th>\n",
       "    </tr>\n",
       "  </thead>\n",
       "  <tbody>\n",
       "    <tr>\n",
       "      <th>0</th>\n",
       "      <td>0</td>\n",
       "      <td>2930.0</td>\n",
       "      <td>1730.0</td>\n",
       "      <td>0.3712</td>\n",
       "      <td>(1730.0/4660.0)</td>\n",
       "    </tr>\n",
       "    <tr>\n",
       "      <th>1</th>\n",
       "      <td>1</td>\n",
       "      <td>1011.0</td>\n",
       "      <td>14337.0</td>\n",
       "      <td>0.0659</td>\n",
       "      <td>(1011.0/15348.0)</td>\n",
       "    </tr>\n",
       "    <tr>\n",
       "      <th>2</th>\n",
       "      <td>Total</td>\n",
       "      <td>3941.0</td>\n",
       "      <td>16067.0</td>\n",
       "      <td>0.137</td>\n",
       "      <td>(2741.0/20008.0)</td>\n",
       "    </tr>\n",
       "  </tbody>\n",
       "</table>\n",
       "</div>"
      ],
      "text/plain": [
       "               0        1   Error               Rate\n",
       "0      0  2930.0   1730.0  0.3712    (1730.0/4660.0)\n",
       "1      1  1011.0  14337.0  0.0659   (1011.0/15348.0)\n",
       "2  Total  3941.0  16067.0   0.137   (2741.0/20008.0)"
      ]
     },
     "metadata": {},
     "output_type": "display_data"
    },
    {
     "data": {
      "text/plain": []
     },
     "execution_count": 52,
     "metadata": {},
     "output_type": "execute_result"
    }
   ],
   "source": [
    "glm_embeddings.confusion_matrix(valid = True)"
   ]
  },
  {
   "cell_type": "code",
   "execution_count": 53,
   "metadata": {},
   "outputs": [
    {
     "name": "stdout",
     "output_type": "stream",
     "text": [
      "AutoML progress: |████████████████████████████████████████████████████████| 100%\n"
     ]
    }
   ],
   "source": [
    "from h2o.automl import H2OAutoML\n",
    "\n",
    "automl = H2OAutoML(project_name = \"positive_reviews\", max_runtime_secs = 180, \n",
    "                   keep_cross_validation_models = False, keep_cross_validation_predictions = False,\n",
    "                   nfolds = 3, exclude_algos = [\"DRF\"], seed = 1234)\n",
    "automl.train(x = predictors, y = response, training_frame = ext_train, leaderboard_frame = ext_test)"
   ]
  },
  {
   "cell_type": "code",
   "execution_count": 54,
   "metadata": {},
   "outputs": [
    {
     "data": {
      "text/html": [
       "<table>\n",
       "<thead>\n",
       "<tr><th>model_id                                           </th><th style=\"text-align: right;\">     auc</th><th style=\"text-align: right;\">  logloss</th><th style=\"text-align: right;\">   aucpr</th><th style=\"text-align: right;\">  mean_per_class_error</th><th style=\"text-align: right;\">    rmse</th><th style=\"text-align: right;\">     mse</th></tr>\n",
       "</thead>\n",
       "<tbody>\n",
       "<tr><td>StackedEnsemble_BestOfFamily_AutoML_20201114_094121</td><td style=\"text-align: right;\">0.887936</td><td style=\"text-align: right;\"> 0.352605</td><td style=\"text-align: right;\">0.96044 </td><td style=\"text-align: right;\">              0.27641 </td><td style=\"text-align: right;\">0.332435</td><td style=\"text-align: right;\">0.110513</td></tr>\n",
       "<tr><td>StackedEnsemble_AllModels_AutoML_20201114_094121   </td><td style=\"text-align: right;\">0.887538</td><td style=\"text-align: right;\"> 0.352784</td><td style=\"text-align: right;\">0.96028 </td><td style=\"text-align: right;\">              0.270624</td><td style=\"text-align: right;\">0.332636</td><td style=\"text-align: right;\">0.110647</td></tr>\n",
       "<tr><td>GLM_1_AutoML_20201114_094121                       </td><td style=\"text-align: right;\">0.885292</td><td style=\"text-align: right;\"> 0.405601</td><td style=\"text-align: right;\">0.959486</td><td style=\"text-align: right;\">              0.279553</td><td style=\"text-align: right;\">0.357434</td><td style=\"text-align: right;\">0.127759</td></tr>\n",
       "<tr><td>DeepLearning_1_AutoML_20201114_094121              </td><td style=\"text-align: right;\">0.878441</td><td style=\"text-align: right;\"> 0.357307</td><td style=\"text-align: right;\">0.955607</td><td style=\"text-align: right;\">              0.281934</td><td style=\"text-align: right;\">0.334859</td><td style=\"text-align: right;\">0.11213 </td></tr>\n",
       "<tr><td>XGBoost_grid__1_AutoML_20201114_094121_model_1     </td><td style=\"text-align: right;\">0.86549 </td><td style=\"text-align: right;\"> 0.379868</td><td style=\"text-align: right;\">0.95122 </td><td style=\"text-align: right;\">              0.29432 </td><td style=\"text-align: right;\">0.346673</td><td style=\"text-align: right;\">0.120182</td></tr>\n",
       "<tr><td>GBM_grid__1_AutoML_20201114_094121_model_1         </td><td style=\"text-align: right;\">0.856853</td><td style=\"text-align: right;\"> 0.410226</td><td style=\"text-align: right;\">0.947216</td><td style=\"text-align: right;\">              0.321032</td><td style=\"text-align: right;\">0.360452</td><td style=\"text-align: right;\">0.129926</td></tr>\n",
       "<tr><td>GBM_2_AutoML_20201114_094121                       </td><td style=\"text-align: right;\">0.848879</td><td style=\"text-align: right;\"> 0.439178</td><td style=\"text-align: right;\">0.945362</td><td style=\"text-align: right;\">              0.329805</td><td style=\"text-align: right;\">0.374851</td><td style=\"text-align: right;\">0.140513</td></tr>\n",
       "<tr><td>GBM_3_AutoML_20201114_094121                       </td><td style=\"text-align: right;\">0.846344</td><td style=\"text-align: right;\"> 0.449174</td><td style=\"text-align: right;\">0.94346 </td><td style=\"text-align: right;\">              0.31967 </td><td style=\"text-align: right;\">0.379538</td><td style=\"text-align: right;\">0.144049</td></tr>\n",
       "<tr><td>GBM_5_AutoML_20201114_094121                       </td><td style=\"text-align: right;\">0.843692</td><td style=\"text-align: right;\"> 0.462013</td><td style=\"text-align: right;\">0.942597</td><td style=\"text-align: right;\">              0.331371</td><td style=\"text-align: right;\">0.386058</td><td style=\"text-align: right;\">0.149041</td></tr>\n",
       "<tr><td>GBM_1_AutoML_20201114_094121                       </td><td style=\"text-align: right;\">0.842699</td><td style=\"text-align: right;\"> 0.446747</td><td style=\"text-align: right;\">0.942246</td><td style=\"text-align: right;\">              0.317257</td><td style=\"text-align: right;\">0.378775</td><td style=\"text-align: right;\">0.14347 </td></tr>\n",
       "</tbody>\n",
       "</table>"
      ]
     },
     "metadata": {},
     "output_type": "display_data"
    },
    {
     "data": {
      "text/plain": []
     },
     "execution_count": 54,
     "metadata": {},
     "output_type": "execute_result"
    }
   ],
   "source": [
    "automl.leaderboard"
   ]
  },
  {
   "cell_type": "code",
   "execution_count": 55,
   "metadata": {},
   "outputs": [
    {
     "name": "stdout",
     "output_type": "stream",
     "text": [
      "H2O session _sid_95d3 closed.\n"
     ]
    }
   ],
   "source": [
    "h2o.cluster().shutdown()"
   ]
  },
  {
   "cell_type": "code",
   "execution_count": null,
   "metadata": {},
   "outputs": [],
   "source": []
  }
 ],
 "metadata": {
  "kernelspec": {
   "display_name": "Python 3",
   "language": "python",
   "name": "python3"
  },
  "language_info": {
   "codemirror_mode": {
    "name": "ipython",
    "version": 3
   },
   "file_extension": ".py",
   "mimetype": "text/x-python",
   "name": "python",
   "nbconvert_exporter": "python",
   "pygments_lexer": "ipython3",
   "version": "3.6.11"
  }
 },
 "nbformat": 4,
 "nbformat_minor": 4
}
