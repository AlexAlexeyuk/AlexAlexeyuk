{
  "nbformat": 4,
  "nbformat_minor": 0,
  "metadata": {
    "colab": {
      "name": "Untitled27.ipynb",
      "provenance": [],
      "collapsed_sections": [],
      "include_colab_link": true
    },
    "kernelspec": {
      "name": "python3",
      "display_name": "Python 3"
    },
    "language_info": {
      "name": "python"
    }
  },
  "cells": [
    {
      "cell_type": "markdown",
      "metadata": {
        "id": "view-in-github",
        "colab_type": "text"
      },
      "source": [
        "<a href=\"https://colab.research.google.com/github/AlexAlexeyuk/AlexAlexeyuk/blob/master/Procalcitonine_parsing_files.ipynb\" target=\"_parent\"><img src=\"https://colab.research.google.com/assets/colab-badge.svg\" alt=\"Open In Colab\"/></a>"
      ]
    },
    {
      "cell_type": "code",
      "metadata": {
        "id": "sSDQzjIZxHHj"
      },
      "source": [
        "import os\n",
        "from glob import glob\n",
        "import shutil\n",
        "import re"
      ],
      "execution_count": null,
      "outputs": []
    },
    {
      "cell_type": "code",
      "metadata": {
        "colab": {
          "base_uri": "https://localhost:8080/"
        },
        "id": "M2mOrsPo4B4o",
        "outputId": "e9d2652e-1054-430e-9d10-de52f9e19ebc"
      },
      "source": [
        "lst = list(glob(os.path.join('/content/drive/MyDrive/files', '*.txt')))\n",
        "lst"
      ],
      "execution_count": null,
      "outputs": [
        {
          "output_type": "execute_result",
          "data": {
            "text/plain": [
              "['/content/drive/MyDrive/files/авдей-1.txt',\n",
              " '/content/drive/MyDrive/files/авласенко-1.txt',\n",
              " '/content/drive/MyDrive/files/авраменко-1.txt',\n",
              " '/content/drive/MyDrive/files/2940-4.txt',\n",
              " '/content/drive/MyDrive/files/2922-5.txt',\n",
              " '/content/drive/MyDrive/files/2963-2.txt',\n",
              " '/content/drive/MyDrive/files/2829-зельва.txt',\n",
              " '/content/drive/MyDrive/files/2842-1.txt',\n",
              " '/content/drive/MyDrive/files/2837-1.txt',\n",
              " '/content/drive/MyDrive/files/сигель.txt',\n",
              " '/content/drive/MyDrive/files/скляров.txt',\n",
              " '/content/drive/MyDrive/files/кладко.txt',\n",
              " '/content/drive/MyDrive/files/попова.txt',\n",
              " '/content/drive/MyDrive/files/харитонов.txt',\n",
              " '/content/drive/MyDrive/files/шаматович.txt']"
            ]
          },
          "metadata": {
            "tags": []
          },
          "execution_count": 2
        }
      ]
    },
    {
      "cell_type": "code",
      "metadata": {
        "colab": {
          "base_uri": "https://localhost:8080/"
        },
        "id": "SZPSdPd85rhW",
        "outputId": "7323b55a-3c07-4299-ba7e-15e1f14dd27c"
      },
      "source": [
        "os.listdir('/content/drive/MyDrive/files')"
      ],
      "execution_count": null,
      "outputs": [
        {
          "output_type": "execute_result",
          "data": {
            "text/plain": [
              "['авдей-1.txt',\n",
              " 'авласенко-1.txt',\n",
              " 'авраменко-1.txt',\n",
              " '2940-4.txt',\n",
              " '2922-5.txt',\n",
              " '2963-2.txt',\n",
              " '2829-зельва.txt',\n",
              " '2842-1.txt',\n",
              " '2837-1.txt',\n",
              " 'Гордей_.TXT',\n",
              " 'Дубатовка_.TXT',\n",
              " 'Железовская_.TXT',\n",
              " 'Карманенков_.4W7',\n",
              " 'Кардаш_.TXT',\n",
              " 'сигель.txt',\n",
              " 'скорб',\n",
              " '1.csv',\n",
              " '2.csv',\n",
              " 'ЦРБ.png',\n",
              " 'Untitled 1.doc',\n",
              " 'Untitled27.ipynb',\n",
              " '.ipynb_checkpoints',\n",
              " 'скляров.txt',\n",
              " 'гордей',\n",
              " 'кладко.txt',\n",
              " 'попова.txt',\n",
              " 'харитонов.txt',\n",
              " 'шаматович.txt']"
            ]
          },
          "metadata": {
            "tags": []
          },
          "execution_count": 16
        }
      ]
    },
    {
      "cell_type": "code",
      "metadata": {
        "id": "ou01zAKuCpIQ"
      },
      "source": [
        "# отправляет копии в новую папку\n",
        "if not os.path.isdir('/content/drive/MyDrive/new_files'):\n",
        "  os.mkdir('/content/drive/MyDrive/new_files')\n",
        "def nf():\n",
        "  for file in lst:\n",
        "    try:\n",
        "      with open(file, encoding='utf-8') as f:\n",
        "        file_ = f.read()\n",
        "        if re.compile(r'\\wрокальцитони\\w').findall(file_):\n",
        "          shutil.copy(file,os.path.join('/content/drive/MyDrive/new_files',\n",
        "                                        os.path.basename(file)))\n",
        "    except:\n",
        "      pass   "
      ],
      "execution_count": null,
      "outputs": []
    },
    {
      "cell_type": "code",
      "metadata": {
        "colab": {
          "base_uri": "https://localhost:8080/"
        },
        "id": "zmAzifyFOaUm",
        "outputId": "7d528978-ea14-4017-dbb2-88d3cbe66093"
      },
      "source": [
        "nf()\n",
        "os.listdir('/content/drive/MyDrive/new_files')"
      ],
      "execution_count": null,
      "outputs": [
        {
          "output_type": "execute_result",
          "data": {
            "text/plain": [
              "['сигель.txt', 'попова.txt', 'харитонов.txt', 'шаматович.txt']"
            ]
          },
          "metadata": {
            "tags": []
          },
          "execution_count": 19
        }
      ]
    },
    {
      "cell_type": "code",
      "metadata": {
        "id": "WR-4XGKJOy1s"
      },
      "source": [
        "# создает список файлов\n",
        "def pct():\n",
        "  lst_1 = []\n",
        "  pct = re.compile(r'(\\wрокальцитони\\w)')\n",
        "  for file in lst:\n",
        "    try:\n",
        "      with open(file, encoding='utf-8') as f:\n",
        "        file_ = f.read()\n",
        "        if pct.findall(file_):\n",
        "          lst_1.append(os.path.basename(file))\n",
        "    except:\n",
        "      pass\n",
        "  return lst_1"
      ],
      "execution_count": null,
      "outputs": []
    },
    {
      "cell_type": "code",
      "metadata": {
        "colab": {
          "base_uri": "https://localhost:8080/"
        },
        "id": "YK9GNjFm-mSE",
        "outputId": "6a01fd5c-3db6-45f2-876a-c5042b79e466"
      },
      "source": [
        "pct()"
      ],
      "execution_count": null,
      "outputs": [
        {
          "output_type": "execute_result",
          "data": {
            "text/plain": [
              "['сигель.txt', 'попова.txt', 'харитонов.txt', 'шаматович.txt']"
            ]
          },
          "metadata": {
            "tags": []
          },
          "execution_count": 21
        }
      ]
    }
  ]
}