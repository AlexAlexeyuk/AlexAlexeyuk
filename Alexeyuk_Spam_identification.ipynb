{
  "nbformat": 4,
  "nbformat_minor": 0,
  "metadata": {
    "colab": {
      "name": "SMS_SPAM_HW6_Alexeyuk.ipynb",
      "provenance": [],
      "collapsed_sections": [],
      "authorship_tag": "ABX9TyPM1XxkEvjg4IlhpSGJGbGI",
      "include_colab_link": true
    },
    "kernelspec": {
      "name": "python3",
      "display_name": "Python 3"
    }
  },
  "cells": [
    {
      "cell_type": "markdown",
      "metadata": {
        "id": "view-in-github",
        "colab_type": "text"
      },
      "source": [
        "<a href=\"https://colab.research.google.com/github/AlexAlexeyuk/AlexAlexeyuk/blob/master/Alexeyuk_Spam_identification.ipynb\" target=\"_parent\"><img src=\"https://colab.research.google.com/assets/colab-badge.svg\" alt=\"Open In Colab\"/></a>"
      ]
    },
    {
      "cell_type": "markdown",
      "metadata": {
        "id": "Y8ZQSwfqvRlI"
      },
      "source": [
        "**Цель**: оценить работоспособность метода К-средних для классификации текста. Сравнить с другими методами классификации.\n",
        "**Задачи**: \n",
        "\n",
        "1.   Сделать все буквы малыми\n",
        "2.   Убрать \"стоп слова\"\n",
        "3.   Провести стеммизацию\n",
        "4.   Провести лемматизацию\n",
        "5.   Оценить каком метод \"очистки\" слов более работоспособен\n",
        "6.   Провести токенизацию\n",
        "7.   Конвертировать слова в векторы\n",
        "8.   Конвертировать слова в предложениях в векторы\n",
        "9.   Кластеризовать данные\n",
        "10.  Провести классификацию другими алгоритмами\n",
        "11.  Попробовать авто_машинное обучение\n",
        "\n",
        "\n"
      ]
    },
    {
      "cell_type": "code",
      "metadata": {
        "id": "9NNaXK-fEt79"
      },
      "source": [
        "import numpy as np\n",
        "import pandas as pd\n",
        "import re\n",
        "import nltk\n",
        "import string\n",
        "pd.options.mode.chained_assignment = None\n",
        "\n",
        "full_df = pd.read_csv(\"/content/spam.csv\", encoding='latin-1')\n",
        "df = full_df.iloc[:,:2]\n",
        "df = df.rename(columns={\"v1\":\"target\", \"v2\":\"text\"})"
      ],
      "execution_count": 161,
      "outputs": []
    },
    {
      "cell_type": "code",
      "metadata": {
        "id": "gkOV6tMjFjin",
        "outputId": "119d2c40-4a7b-4cd4-f5cd-4f1777dfd967",
        "colab": {
          "base_uri": "https://localhost:8080/",
          "height": 204
        }
      },
      "source": [
        "df[\"text\"] = df[\"text\"].str.lower()\n",
        "df.head()"
      ],
      "execution_count": 162,
      "outputs": [
        {
          "output_type": "execute_result",
          "data": {
            "text/html": [
              "<div>\n",
              "<style scoped>\n",
              "    .dataframe tbody tr th:only-of-type {\n",
              "        vertical-align: middle;\n",
              "    }\n",
              "\n",
              "    .dataframe tbody tr th {\n",
              "        vertical-align: top;\n",
              "    }\n",
              "\n",
              "    .dataframe thead th {\n",
              "        text-align: right;\n",
              "    }\n",
              "</style>\n",
              "<table border=\"1\" class=\"dataframe\">\n",
              "  <thead>\n",
              "    <tr style=\"text-align: right;\">\n",
              "      <th></th>\n",
              "      <th>target</th>\n",
              "      <th>text</th>\n",
              "    </tr>\n",
              "  </thead>\n",
              "  <tbody>\n",
              "    <tr>\n",
              "      <th>0</th>\n",
              "      <td>ham</td>\n",
              "      <td>go until jurong point, crazy.. available only in bugis n great wor...</td>\n",
              "    </tr>\n",
              "    <tr>\n",
              "      <th>1</th>\n",
              "      <td>ham</td>\n",
              "      <td>ok lar... joking wif u oni...</td>\n",
              "    </tr>\n",
              "    <tr>\n",
              "      <th>2</th>\n",
              "      <td>spam</td>\n",
              "      <td>free entry in 2 a wkly comp to win fa cup final tkts 21st may 2005...</td>\n",
              "    </tr>\n",
              "    <tr>\n",
              "      <th>3</th>\n",
              "      <td>ham</td>\n",
              "      <td>u dun say so early hor... u c already then say...</td>\n",
              "    </tr>\n",
              "    <tr>\n",
              "      <th>4</th>\n",
              "      <td>ham</td>\n",
              "      <td>nah i don't think he goes to usf, he lives around here though</td>\n",
              "    </tr>\n",
              "  </tbody>\n",
              "</table>\n",
              "</div>"
            ],
            "text/plain": [
              "  target                                                                   text\n",
              "0    ham  go until jurong point, crazy.. available only in bugis n great wor...\n",
              "1    ham                                          ok lar... joking wif u oni...\n",
              "2   spam  free entry in 2 a wkly comp to win fa cup final tkts 21st may 2005...\n",
              "3    ham                      u dun say so early hor... u c already then say...\n",
              "4    ham          nah i don't think he goes to usf, he lives around here though"
            ]
          },
          "metadata": {
            "tags": []
          },
          "execution_count": 162
        }
      ]
    },
    {
      "cell_type": "code",
      "metadata": {
        "id": "mbIejKMlFudu",
        "outputId": "2f724a6d-6496-4ea1-c57b-f9508d2cbfb4",
        "colab": {
          "base_uri": "https://localhost:8080/",
          "height": 204
        }
      },
      "source": [
        "PUNCT_TO_REMOVE = string.punctuation\n",
        "def remove_punctuation(text):\n",
        "    \"\"\"custom function to remove the punctuation\"\"\"\n",
        "    return text.translate(str.maketrans('', '', PUNCT_TO_REMOVE))\n",
        "\n",
        "df[\"text_wo_punct\"] = df[\"text\"].apply(lambda text: remove_punctuation(text))\n",
        "df.head()"
      ],
      "execution_count": 163,
      "outputs": [
        {
          "output_type": "execute_result",
          "data": {
            "text/html": [
              "<div>\n",
              "<style scoped>\n",
              "    .dataframe tbody tr th:only-of-type {\n",
              "        vertical-align: middle;\n",
              "    }\n",
              "\n",
              "    .dataframe tbody tr th {\n",
              "        vertical-align: top;\n",
              "    }\n",
              "\n",
              "    .dataframe thead th {\n",
              "        text-align: right;\n",
              "    }\n",
              "</style>\n",
              "<table border=\"1\" class=\"dataframe\">\n",
              "  <thead>\n",
              "    <tr style=\"text-align: right;\">\n",
              "      <th></th>\n",
              "      <th>target</th>\n",
              "      <th>text</th>\n",
              "      <th>text_wo_punct</th>\n",
              "    </tr>\n",
              "  </thead>\n",
              "  <tbody>\n",
              "    <tr>\n",
              "      <th>0</th>\n",
              "      <td>ham</td>\n",
              "      <td>go until jurong point, crazy.. available only in bugis n great wor...</td>\n",
              "      <td>go until jurong point crazy available only in bugis n great world ...</td>\n",
              "    </tr>\n",
              "    <tr>\n",
              "      <th>1</th>\n",
              "      <td>ham</td>\n",
              "      <td>ok lar... joking wif u oni...</td>\n",
              "      <td>ok lar joking wif u oni</td>\n",
              "    </tr>\n",
              "    <tr>\n",
              "      <th>2</th>\n",
              "      <td>spam</td>\n",
              "      <td>free entry in 2 a wkly comp to win fa cup final tkts 21st may 2005...</td>\n",
              "      <td>free entry in 2 a wkly comp to win fa cup final tkts 21st may 2005...</td>\n",
              "    </tr>\n",
              "    <tr>\n",
              "      <th>3</th>\n",
              "      <td>ham</td>\n",
              "      <td>u dun say so early hor... u c already then say...</td>\n",
              "      <td>u dun say so early hor u c already then say</td>\n",
              "    </tr>\n",
              "    <tr>\n",
              "      <th>4</th>\n",
              "      <td>ham</td>\n",
              "      <td>nah i don't think he goes to usf, he lives around here though</td>\n",
              "      <td>nah i dont think he goes to usf he lives around here though</td>\n",
              "    </tr>\n",
              "  </tbody>\n",
              "</table>\n",
              "</div>"
            ],
            "text/plain": [
              "  target  ...                                                          text_wo_punct\n",
              "0    ham  ...  go until jurong point crazy available only in bugis n great world ...\n",
              "1    ham  ...                                                ok lar joking wif u oni\n",
              "2   spam  ...  free entry in 2 a wkly comp to win fa cup final tkts 21st may 2005...\n",
              "3    ham  ...                            u dun say so early hor u c already then say\n",
              "4    ham  ...            nah i dont think he goes to usf he lives around here though\n",
              "\n",
              "[5 rows x 3 columns]"
            ]
          },
          "metadata": {
            "tags": []
          },
          "execution_count": 163
        }
      ]
    },
    {
      "cell_type": "code",
      "metadata": {
        "id": "Io9N_Da8F29p"
      },
      "source": [
        "stopwords = \"i, me, my, myself, we, our, ours, ourselves, you, you're, you've, \\\n",
        "you'll, you'd, your, yours, yourself, yourselves, he, him, his, himself, she, \\\n",
        "she's, her, hers, herself, it, it's, its, itself, they, them, their, theirs, \\\n",
        "themselves, what, which, who, whom, this, that, that'll, these, those, am, is,\\\n",
        " are, was, were, be, been, being, have, has, had, having, do, does, did, doing,\\\n",
        "  a, an, the, and, but, if, or, because, as, until, while, of, at, by, for,\\\n",
        "   with, about, against, between, into, through, during, before, after, above,\\\n",
        "    below, to, from, up, down, in, out, on, off, over, under, again, further, \\\n",
        "    then, once, here, there, when, where, why, how, all, any, both, each, few,\\\n",
        "     more, most, other, some, such, no, nor, not, only, own, same, so, than, \\\n",
        "     too, very, s, t, can, will, just, don, don't, should, should've, now, d, \\\n",
        "     ll, m, o, re, ve, y, ain, aren, aren't, couldn, couldn't, didn, didn't, \\\n",
        "     doesn, doesn't, hadn, hadn't, hasn, hasn't, haven, haven't, isn, isn't, \\\n",
        "     ma, mightn, mightn't, mustn, mustn't, needn, needn't, shan, shan't,\\\n",
        "      shouldn, shouldn't, wasn, wasn't, weren, weren't, won, won't, wouldn,\\\n",
        "       wouldn't\"\n"
      ],
      "execution_count": 164,
      "outputs": []
    },
    {
      "cell_type": "code",
      "metadata": {
        "id": "skxi1NhyGD8F",
        "outputId": "34564831-2a8a-4818-c512-6efe735e24ed",
        "colab": {
          "base_uri": "https://localhost:8080/",
          "height": 272
        }
      },
      "source": [
        "def remove_stopwords(text):\n",
        "    \"\"\"custom function to remove the stopwords\"\"\"\n",
        "    return \" \".join([word for word in str(text).split() if word not in \\\n",
        "                     stopwords])\n",
        "\n",
        "df[\"text_wo_stop\"] = df[\"text_wo_punct\"].apply(lambda text:\\\n",
        "                                               remove_stopwords(text))\n",
        "df.head()"
      ],
      "execution_count": 165,
      "outputs": [
        {
          "output_type": "execute_result",
          "data": {
            "text/html": [
              "<div>\n",
              "<style scoped>\n",
              "    .dataframe tbody tr th:only-of-type {\n",
              "        vertical-align: middle;\n",
              "    }\n",
              "\n",
              "    .dataframe tbody tr th {\n",
              "        vertical-align: top;\n",
              "    }\n",
              "\n",
              "    .dataframe thead th {\n",
              "        text-align: right;\n",
              "    }\n",
              "</style>\n",
              "<table border=\"1\" class=\"dataframe\">\n",
              "  <thead>\n",
              "    <tr style=\"text-align: right;\">\n",
              "      <th></th>\n",
              "      <th>target</th>\n",
              "      <th>text</th>\n",
              "      <th>text_wo_punct</th>\n",
              "      <th>text_wo_stop</th>\n",
              "    </tr>\n",
              "  </thead>\n",
              "  <tbody>\n",
              "    <tr>\n",
              "      <th>0</th>\n",
              "      <td>ham</td>\n",
              "      <td>go until jurong point, crazy.. available only in bugis n great wor...</td>\n",
              "      <td>go until jurong point crazy available only in bugis n great world ...</td>\n",
              "      <td>go jurong point crazy available bugis great world la buffet cine g...</td>\n",
              "    </tr>\n",
              "    <tr>\n",
              "      <th>1</th>\n",
              "      <td>ham</td>\n",
              "      <td>ok lar... joking wif u oni...</td>\n",
              "      <td>ok lar joking wif u oni</td>\n",
              "      <td>ok lar joking wif oni</td>\n",
              "    </tr>\n",
              "    <tr>\n",
              "      <th>2</th>\n",
              "      <td>spam</td>\n",
              "      <td>free entry in 2 a wkly comp to win fa cup final tkts 21st may 2005...</td>\n",
              "      <td>free entry in 2 a wkly comp to win fa cup final tkts 21st may 2005...</td>\n",
              "      <td>free entry 2 wkly comp win fa cup final tkts 21st may 2005 text fa...</td>\n",
              "    </tr>\n",
              "    <tr>\n",
              "      <th>3</th>\n",
              "      <td>ham</td>\n",
              "      <td>u dun say so early hor... u c already then say...</td>\n",
              "      <td>u dun say so early hor u c already then say</td>\n",
              "      <td>dun say early hor already say</td>\n",
              "    </tr>\n",
              "    <tr>\n",
              "      <th>4</th>\n",
              "      <td>ham</td>\n",
              "      <td>nah i don't think he goes to usf, he lives around here though</td>\n",
              "      <td>nah i dont think he goes to usf he lives around here though</td>\n",
              "      <td>nah dont think goes usf lives around though</td>\n",
              "    </tr>\n",
              "  </tbody>\n",
              "</table>\n",
              "</div>"
            ],
            "text/plain": [
              "  target  ...                                                           text_wo_stop\n",
              "0    ham  ...  go jurong point crazy available bugis great world la buffet cine g...\n",
              "1    ham  ...                                                  ok lar joking wif oni\n",
              "2   spam  ...  free entry 2 wkly comp win fa cup final tkts 21st may 2005 text fa...\n",
              "3    ham  ...                                          dun say early hor already say\n",
              "4    ham  ...                            nah dont think goes usf lives around though\n",
              "\n",
              "[5 rows x 4 columns]"
            ]
          },
          "metadata": {
            "tags": []
          },
          "execution_count": 165
        }
      ]
    },
    {
      "cell_type": "code",
      "metadata": {
        "id": "-0BqM7Tw94ug",
        "outputId": "0c1b16f6-1106-4d3f-e040-1a3dc8c85119",
        "colab": {
          "base_uri": "https://localhost:8080/",
          "height": 292
        }
      },
      "source": [
        "df.groupby(\"target\").describe()"
      ],
      "execution_count": 166,
      "outputs": [
        {
          "output_type": "execute_result",
          "data": {
            "text/html": [
              "<div>\n",
              "<style scoped>\n",
              "    .dataframe tbody tr th:only-of-type {\n",
              "        vertical-align: middle;\n",
              "    }\n",
              "\n",
              "    .dataframe tbody tr th {\n",
              "        vertical-align: top;\n",
              "    }\n",
              "\n",
              "    .dataframe thead tr th {\n",
              "        text-align: left;\n",
              "    }\n",
              "\n",
              "    .dataframe thead tr:last-of-type th {\n",
              "        text-align: right;\n",
              "    }\n",
              "</style>\n",
              "<table border=\"1\" class=\"dataframe\">\n",
              "  <thead>\n",
              "    <tr>\n",
              "      <th></th>\n",
              "      <th colspan=\"4\" halign=\"left\">text</th>\n",
              "      <th colspan=\"4\" halign=\"left\">text_wo_punct</th>\n",
              "      <th colspan=\"4\" halign=\"left\">text_wo_stop</th>\n",
              "    </tr>\n",
              "    <tr>\n",
              "      <th></th>\n",
              "      <th>count</th>\n",
              "      <th>unique</th>\n",
              "      <th>top</th>\n",
              "      <th>freq</th>\n",
              "      <th>count</th>\n",
              "      <th>unique</th>\n",
              "      <th>top</th>\n",
              "      <th>freq</th>\n",
              "      <th>count</th>\n",
              "      <th>unique</th>\n",
              "      <th>top</th>\n",
              "      <th>freq</th>\n",
              "    </tr>\n",
              "    <tr>\n",
              "      <th>target</th>\n",
              "      <th></th>\n",
              "      <th></th>\n",
              "      <th></th>\n",
              "      <th></th>\n",
              "      <th></th>\n",
              "      <th></th>\n",
              "      <th></th>\n",
              "      <th></th>\n",
              "      <th></th>\n",
              "      <th></th>\n",
              "      <th></th>\n",
              "      <th></th>\n",
              "    </tr>\n",
              "  </thead>\n",
              "  <tbody>\n",
              "    <tr>\n",
              "      <th>ham</th>\n",
              "      <td>4825</td>\n",
              "      <td>4515</td>\n",
              "      <td>sorry, i'll call later</td>\n",
              "      <td>30</td>\n",
              "      <td>4825</td>\n",
              "      <td>4499</td>\n",
              "      <td>sorry ill call later</td>\n",
              "      <td>30</td>\n",
              "      <td>4825</td>\n",
              "      <td>4472</td>\n",
              "      <td>sorry call later</td>\n",
              "      <td>30</td>\n",
              "    </tr>\n",
              "    <tr>\n",
              "      <th>spam</th>\n",
              "      <td>747</td>\n",
              "      <td>653</td>\n",
              "      <td>please call our customer service representative on freephone 0808 ...</td>\n",
              "      <td>4</td>\n",
              "      <td>747</td>\n",
              "      <td>643</td>\n",
              "      <td>camera  you are awarded a sipix digital camera call 09061221066 fr...</td>\n",
              "      <td>4</td>\n",
              "      <td>747</td>\n",
              "      <td>629</td>\n",
              "      <td>camera awarded sipix digital camera call 09061221066 fromm landlin...</td>\n",
              "      <td>4</td>\n",
              "    </tr>\n",
              "  </tbody>\n",
              "</table>\n",
              "</div>"
            ],
            "text/plain": [
              "        text  ... text_wo_stop\n",
              "       count  ...         freq\n",
              "target        ...             \n",
              "ham     4825  ...           30\n",
              "spam     747  ...            4\n",
              "\n",
              "[2 rows x 12 columns]"
            ]
          },
          "metadata": {
            "tags": []
          },
          "execution_count": 166
        }
      ]
    },
    {
      "cell_type": "code",
      "metadata": {
        "id": "yihNUPqm-M_r",
        "outputId": "654acfe3-6055-458a-91ba-8f5ffafa1a91",
        "colab": {
          "base_uri": "https://localhost:8080/",
          "height": 128
        }
      },
      "source": [
        "df['target'] = df['target'].map( {'spam': 1, 'ham': 0} ).astype(int)\n",
        "df.head(2)"
      ],
      "execution_count": 167,
      "outputs": [
        {
          "output_type": "execute_result",
          "data": {
            "text/html": [
              "<div>\n",
              "<style scoped>\n",
              "    .dataframe tbody tr th:only-of-type {\n",
              "        vertical-align: middle;\n",
              "    }\n",
              "\n",
              "    .dataframe tbody tr th {\n",
              "        vertical-align: top;\n",
              "    }\n",
              "\n",
              "    .dataframe thead th {\n",
              "        text-align: right;\n",
              "    }\n",
              "</style>\n",
              "<table border=\"1\" class=\"dataframe\">\n",
              "  <thead>\n",
              "    <tr style=\"text-align: right;\">\n",
              "      <th></th>\n",
              "      <th>target</th>\n",
              "      <th>text</th>\n",
              "      <th>text_wo_punct</th>\n",
              "      <th>text_wo_stop</th>\n",
              "    </tr>\n",
              "  </thead>\n",
              "  <tbody>\n",
              "    <tr>\n",
              "      <th>0</th>\n",
              "      <td>0</td>\n",
              "      <td>go until jurong point, crazy.. available only in bugis n great wor...</td>\n",
              "      <td>go until jurong point crazy available only in bugis n great world ...</td>\n",
              "      <td>go jurong point crazy available bugis great world la buffet cine g...</td>\n",
              "    </tr>\n",
              "    <tr>\n",
              "      <th>1</th>\n",
              "      <td>0</td>\n",
              "      <td>ok lar... joking wif u oni...</td>\n",
              "      <td>ok lar joking wif u oni</td>\n",
              "      <td>ok lar joking wif oni</td>\n",
              "    </tr>\n",
              "  </tbody>\n",
              "</table>\n",
              "</div>"
            ],
            "text/plain": [
              "   target  ...                                                           text_wo_stop\n",
              "0       0  ...  go jurong point crazy available bugis great world la buffet cine g...\n",
              "1       0  ...                                                  ok lar joking wif oni\n",
              "\n",
              "[2 rows x 4 columns]"
            ]
          },
          "metadata": {
            "tags": []
          },
          "execution_count": 167
        }
      ]
    },
    {
      "cell_type": "code",
      "metadata": {
        "id": "GLqAgMaj-NHB"
      },
      "source": [
        "df['length'] = df['text_wo_stop'].apply(len)"
      ],
      "execution_count": 168,
      "outputs": []
    },
    {
      "cell_type": "code",
      "metadata": {
        "id": "sFEX-JS7-NFB",
        "outputId": "0eec0baf-8d72-4f49-b91f-d337d8eb08b0",
        "colab": {
          "base_uri": "https://localhost:8080/",
          "height": 529
        }
      },
      "source": [
        "df.head(10)"
      ],
      "execution_count": 169,
      "outputs": [
        {
          "output_type": "execute_result",
          "data": {
            "text/html": [
              "<div>\n",
              "<style scoped>\n",
              "    .dataframe tbody tr th:only-of-type {\n",
              "        vertical-align: middle;\n",
              "    }\n",
              "\n",
              "    .dataframe tbody tr th {\n",
              "        vertical-align: top;\n",
              "    }\n",
              "\n",
              "    .dataframe thead th {\n",
              "        text-align: right;\n",
              "    }\n",
              "</style>\n",
              "<table border=\"1\" class=\"dataframe\">\n",
              "  <thead>\n",
              "    <tr style=\"text-align: right;\">\n",
              "      <th></th>\n",
              "      <th>target</th>\n",
              "      <th>text</th>\n",
              "      <th>text_wo_punct</th>\n",
              "      <th>text_wo_stop</th>\n",
              "      <th>length</th>\n",
              "    </tr>\n",
              "  </thead>\n",
              "  <tbody>\n",
              "    <tr>\n",
              "      <th>0</th>\n",
              "      <td>0</td>\n",
              "      <td>go until jurong point, crazy.. available only in bugis n great wor...</td>\n",
              "      <td>go until jurong point crazy available only in bugis n great world ...</td>\n",
              "      <td>go jurong point crazy available bugis great world la buffet cine g...</td>\n",
              "      <td>78</td>\n",
              "    </tr>\n",
              "    <tr>\n",
              "      <th>1</th>\n",
              "      <td>0</td>\n",
              "      <td>ok lar... joking wif u oni...</td>\n",
              "      <td>ok lar joking wif u oni</td>\n",
              "      <td>ok lar joking wif oni</td>\n",
              "      <td>21</td>\n",
              "    </tr>\n",
              "    <tr>\n",
              "      <th>2</th>\n",
              "      <td>1</td>\n",
              "      <td>free entry in 2 a wkly comp to win fa cup final tkts 21st may 2005...</td>\n",
              "      <td>free entry in 2 a wkly comp to win fa cup final tkts 21st may 2005...</td>\n",
              "      <td>free entry 2 wkly comp win fa cup final tkts 21st may 2005 text fa...</td>\n",
              "      <td>135</td>\n",
              "    </tr>\n",
              "    <tr>\n",
              "      <th>3</th>\n",
              "      <td>0</td>\n",
              "      <td>u dun say so early hor... u c already then say...</td>\n",
              "      <td>u dun say so early hor u c already then say</td>\n",
              "      <td>dun say early hor already say</td>\n",
              "      <td>29</td>\n",
              "    </tr>\n",
              "    <tr>\n",
              "      <th>4</th>\n",
              "      <td>0</td>\n",
              "      <td>nah i don't think he goes to usf, he lives around here though</td>\n",
              "      <td>nah i dont think he goes to usf he lives around here though</td>\n",
              "      <td>nah dont think goes usf lives around though</td>\n",
              "      <td>43</td>\n",
              "    </tr>\n",
              "    <tr>\n",
              "      <th>5</th>\n",
              "      <td>1</td>\n",
              "      <td>freemsg hey there darling it's been 3 week's now and no word back!...</td>\n",
              "      <td>freemsg hey there darling its been 3 weeks now and no word back id...</td>\n",
              "      <td>freemsg darling 3 weeks word back like fun still tb ok xxx std chg...</td>\n",
              "      <td>82</td>\n",
              "    </tr>\n",
              "    <tr>\n",
              "      <th>6</th>\n",
              "      <td>0</td>\n",
              "      <td>even my brother is not like to speak with me. they treat me like a...</td>\n",
              "      <td>even my brother is not like to speak with me they treat me like ai...</td>\n",
              "      <td>even brother like speak treat like aids patent</td>\n",
              "      <td>46</td>\n",
              "    </tr>\n",
              "    <tr>\n",
              "      <th>7</th>\n",
              "      <td>0</td>\n",
              "      <td>as per your request 'melle melle (oru minnaminunginte nurungu vett...</td>\n",
              "      <td>as per your request melle melle oru minnaminunginte nurungu vettam...</td>\n",
              "      <td>per request melle melle oru minnaminunginte nurungu vettam set cal...</td>\n",
              "      <td>113</td>\n",
              "    </tr>\n",
              "    <tr>\n",
              "      <th>8</th>\n",
              "      <td>1</td>\n",
              "      <td>winner!! as a valued network customer you have been selected to re...</td>\n",
              "      <td>winner as a valued network customer you have been selected to rece...</td>\n",
              "      <td>winner valued network customer selected receivea å£900 prize rewar...</td>\n",
              "      <td>122</td>\n",
              "    </tr>\n",
              "    <tr>\n",
              "      <th>9</th>\n",
              "      <td>1</td>\n",
              "      <td>had your mobile 11 months or more? u r entitled to update to the l...</td>\n",
              "      <td>had your mobile 11 months or more u r entitled to update to the la...</td>\n",
              "      <td>mobile 11 months entitled update latest colour mobiles camera free...</td>\n",
              "      <td>102</td>\n",
              "    </tr>\n",
              "  </tbody>\n",
              "</table>\n",
              "</div>"
            ],
            "text/plain": [
              "   target  ... length\n",
              "0       0  ...     78\n",
              "1       0  ...     21\n",
              "2       1  ...    135\n",
              "3       0  ...     29\n",
              "4       0  ...     43\n",
              "5       1  ...     82\n",
              "6       0  ...     46\n",
              "7       0  ...    113\n",
              "8       1  ...    122\n",
              "9       1  ...    102\n",
              "\n",
              "[10 rows x 5 columns]"
            ]
          },
          "metadata": {
            "tags": []
          },
          "execution_count": 169
        }
      ]
    },
    {
      "cell_type": "code",
      "metadata": {
        "id": "d6zWVGSjAg1k",
        "outputId": "d7ae2066-7788-40f2-884b-eb49474b0a65",
        "colab": {
          "base_uri": "https://localhost:8080/"
        }
      },
      "source": [
        "from collections import Counter\n",
        "cnt = Counter()\n",
        "for text in df[\"text_wo_stop\"].values:\n",
        "    for word in text.split():\n",
        "        cnt[word] += 1\n",
        "        \n",
        "cnt.most_common(10)"
      ],
      "execution_count": 170,
      "outputs": [
        {
          "output_type": "execute_result",
          "data": {
            "text/plain": [
              "[('call', 576),\n",
              " ('2', 478),\n",
              " ('get', 386),\n",
              " ('4', 287),\n",
              " ('dont', 279),\n",
              " ('go', 278),\n",
              " ('ok', 277),\n",
              " ('ltgt', 276),\n",
              " ('free', 275),\n",
              " ('know', 257)]"
            ]
          },
          "metadata": {
            "tags": []
          },
          "execution_count": 170
        }
      ]
    },
    {
      "cell_type": "code",
      "metadata": {
        "id": "EruuiiPSAgv1",
        "outputId": "1422eb31-d9c7-464c-e079-9157221fc04d",
        "colab": {
          "base_uri": "https://localhost:8080/",
          "height": 306
        }
      },
      "source": [
        "from nltk.stem.porter import PorterStemmer\n",
        "\n",
        "# Drop the two columns \n",
        "#df.drop([\"text_wo_stopfreq\", \"text_wo_stopfreqrare\"], axis=1, inplace=True) \n",
        "\n",
        "stemmer = PorterStemmer()\n",
        "def stem_words(text):\n",
        "    return \" \".join([stemmer.stem(word) for word in text.split()])\n",
        "\n",
        "df[\"text_stemmed\"] = df[\"text_wo_stop\"].apply(lambda text: stem_words(text))\n",
        "\n",
        "df.head()"
      ],
      "execution_count": 171,
      "outputs": [
        {
          "output_type": "execute_result",
          "data": {
            "text/html": [
              "<div>\n",
              "<style scoped>\n",
              "    .dataframe tbody tr th:only-of-type {\n",
              "        vertical-align: middle;\n",
              "    }\n",
              "\n",
              "    .dataframe tbody tr th {\n",
              "        vertical-align: top;\n",
              "    }\n",
              "\n",
              "    .dataframe thead th {\n",
              "        text-align: right;\n",
              "    }\n",
              "</style>\n",
              "<table border=\"1\" class=\"dataframe\">\n",
              "  <thead>\n",
              "    <tr style=\"text-align: right;\">\n",
              "      <th></th>\n",
              "      <th>target</th>\n",
              "      <th>text</th>\n",
              "      <th>text_wo_punct</th>\n",
              "      <th>text_wo_stop</th>\n",
              "      <th>length</th>\n",
              "      <th>text_stemmed</th>\n",
              "    </tr>\n",
              "  </thead>\n",
              "  <tbody>\n",
              "    <tr>\n",
              "      <th>0</th>\n",
              "      <td>0</td>\n",
              "      <td>go until jurong point, crazy.. available only in bugis n great wor...</td>\n",
              "      <td>go until jurong point crazy available only in bugis n great world ...</td>\n",
              "      <td>go jurong point crazy available bugis great world la buffet cine g...</td>\n",
              "      <td>78</td>\n",
              "      <td>go jurong point crazi avail bugi great world la buffet cine got am...</td>\n",
              "    </tr>\n",
              "    <tr>\n",
              "      <th>1</th>\n",
              "      <td>0</td>\n",
              "      <td>ok lar... joking wif u oni...</td>\n",
              "      <td>ok lar joking wif u oni</td>\n",
              "      <td>ok lar joking wif oni</td>\n",
              "      <td>21</td>\n",
              "      <td>ok lar joke wif oni</td>\n",
              "    </tr>\n",
              "    <tr>\n",
              "      <th>2</th>\n",
              "      <td>1</td>\n",
              "      <td>free entry in 2 a wkly comp to win fa cup final tkts 21st may 2005...</td>\n",
              "      <td>free entry in 2 a wkly comp to win fa cup final tkts 21st may 2005...</td>\n",
              "      <td>free entry 2 wkly comp win fa cup final tkts 21st may 2005 text fa...</td>\n",
              "      <td>135</td>\n",
              "      <td>free entri 2 wkli comp win fa cup final tkt 21st may 2005 text fa ...</td>\n",
              "    </tr>\n",
              "    <tr>\n",
              "      <th>3</th>\n",
              "      <td>0</td>\n",
              "      <td>u dun say so early hor... u c already then say...</td>\n",
              "      <td>u dun say so early hor u c already then say</td>\n",
              "      <td>dun say early hor already say</td>\n",
              "      <td>29</td>\n",
              "      <td>dun say earli hor alreadi say</td>\n",
              "    </tr>\n",
              "    <tr>\n",
              "      <th>4</th>\n",
              "      <td>0</td>\n",
              "      <td>nah i don't think he goes to usf, he lives around here though</td>\n",
              "      <td>nah i dont think he goes to usf he lives around here though</td>\n",
              "      <td>nah dont think goes usf lives around though</td>\n",
              "      <td>43</td>\n",
              "      <td>nah dont think goe usf live around though</td>\n",
              "    </tr>\n",
              "  </tbody>\n",
              "</table>\n",
              "</div>"
            ],
            "text/plain": [
              "   target  ...                                                           text_stemmed\n",
              "0       0  ...  go jurong point crazi avail bugi great world la buffet cine got am...\n",
              "1       0  ...                                                    ok lar joke wif oni\n",
              "2       1  ...  free entri 2 wkli comp win fa cup final tkt 21st may 2005 text fa ...\n",
              "3       0  ...                                          dun say earli hor alreadi say\n",
              "4       0  ...                              nah dont think goe usf live around though\n",
              "\n",
              "[5 rows x 6 columns]"
            ]
          },
          "metadata": {
            "tags": []
          },
          "execution_count": 171
        }
      ]
    },
    {
      "cell_type": "code",
      "metadata": {
        "id": "r6vyHvloAgti"
      },
      "source": [
        ""
      ],
      "execution_count": 171,
      "outputs": []
    },
    {
      "cell_type": "code",
      "metadata": {
        "id": "5JrmhDOAAgq7",
        "outputId": "f47b39a5-3c5f-4497-b214-6ae679c41397",
        "colab": {
          "base_uri": "https://localhost:8080/",
          "height": 391
        }
      },
      "source": [
        "import nltk\n",
        "nltk.download('wordnet')\n",
        "from nltk.stem import WordNetLemmatizer\n",
        "\n",
        "lemmatizer = WordNetLemmatizer()\n",
        "def lemmatize_words(text):\n",
        "    return \" \".join([lemmatizer.lemmatize(word) for word in text.split()])\n",
        "\n",
        "df[\"text_lemmatized\"] = df[\"text_wo_stop\"].apply(lambda text: lemmatize_words(text))\n",
        "df.head()"
      ],
      "execution_count": 172,
      "outputs": [
        {
          "output_type": "stream",
          "text": [
            "[nltk_data] Downloading package wordnet to /root/nltk_data...\n",
            "[nltk_data]   Package wordnet is already up-to-date!\n"
          ],
          "name": "stdout"
        },
        {
          "output_type": "execute_result",
          "data": {
            "text/html": [
              "<div>\n",
              "<style scoped>\n",
              "    .dataframe tbody tr th:only-of-type {\n",
              "        vertical-align: middle;\n",
              "    }\n",
              "\n",
              "    .dataframe tbody tr th {\n",
              "        vertical-align: top;\n",
              "    }\n",
              "\n",
              "    .dataframe thead th {\n",
              "        text-align: right;\n",
              "    }\n",
              "</style>\n",
              "<table border=\"1\" class=\"dataframe\">\n",
              "  <thead>\n",
              "    <tr style=\"text-align: right;\">\n",
              "      <th></th>\n",
              "      <th>target</th>\n",
              "      <th>text</th>\n",
              "      <th>text_wo_punct</th>\n",
              "      <th>text_wo_stop</th>\n",
              "      <th>length</th>\n",
              "      <th>text_stemmed</th>\n",
              "      <th>text_lemmatized</th>\n",
              "    </tr>\n",
              "  </thead>\n",
              "  <tbody>\n",
              "    <tr>\n",
              "      <th>0</th>\n",
              "      <td>0</td>\n",
              "      <td>go until jurong point, crazy.. available only in bugis n great wor...</td>\n",
              "      <td>go until jurong point crazy available only in bugis n great world ...</td>\n",
              "      <td>go jurong point crazy available bugis great world la buffet cine g...</td>\n",
              "      <td>78</td>\n",
              "      <td>go jurong point crazi avail bugi great world la buffet cine got am...</td>\n",
              "      <td>go jurong point crazy available bugis great world la buffet cine g...</td>\n",
              "    </tr>\n",
              "    <tr>\n",
              "      <th>1</th>\n",
              "      <td>0</td>\n",
              "      <td>ok lar... joking wif u oni...</td>\n",
              "      <td>ok lar joking wif u oni</td>\n",
              "      <td>ok lar joking wif oni</td>\n",
              "      <td>21</td>\n",
              "      <td>ok lar joke wif oni</td>\n",
              "      <td>ok lar joking wif oni</td>\n",
              "    </tr>\n",
              "    <tr>\n",
              "      <th>2</th>\n",
              "      <td>1</td>\n",
              "      <td>free entry in 2 a wkly comp to win fa cup final tkts 21st may 2005...</td>\n",
              "      <td>free entry in 2 a wkly comp to win fa cup final tkts 21st may 2005...</td>\n",
              "      <td>free entry 2 wkly comp win fa cup final tkts 21st may 2005 text fa...</td>\n",
              "      <td>135</td>\n",
              "      <td>free entri 2 wkli comp win fa cup final tkt 21st may 2005 text fa ...</td>\n",
              "      <td>free entry 2 wkly comp win fa cup final tkts 21st may 2005 text fa...</td>\n",
              "    </tr>\n",
              "    <tr>\n",
              "      <th>3</th>\n",
              "      <td>0</td>\n",
              "      <td>u dun say so early hor... u c already then say...</td>\n",
              "      <td>u dun say so early hor u c already then say</td>\n",
              "      <td>dun say early hor already say</td>\n",
              "      <td>29</td>\n",
              "      <td>dun say earli hor alreadi say</td>\n",
              "      <td>dun say early hor already say</td>\n",
              "    </tr>\n",
              "    <tr>\n",
              "      <th>4</th>\n",
              "      <td>0</td>\n",
              "      <td>nah i don't think he goes to usf, he lives around here though</td>\n",
              "      <td>nah i dont think he goes to usf he lives around here though</td>\n",
              "      <td>nah dont think goes usf lives around though</td>\n",
              "      <td>43</td>\n",
              "      <td>nah dont think goe usf live around though</td>\n",
              "      <td>nah dont think go usf life around though</td>\n",
              "    </tr>\n",
              "  </tbody>\n",
              "</table>\n",
              "</div>"
            ],
            "text/plain": [
              "   target  ...                                                        text_lemmatized\n",
              "0       0  ...  go jurong point crazy available bugis great world la buffet cine g...\n",
              "1       0  ...                                                  ok lar joking wif oni\n",
              "2       1  ...  free entry 2 wkly comp win fa cup final tkts 21st may 2005 text fa...\n",
              "3       0  ...                                          dun say early hor already say\n",
              "4       0  ...                               nah dont think go usf life around though\n",
              "\n",
              "[5 rows x 7 columns]"
            ]
          },
          "metadata": {
            "tags": []
          },
          "execution_count": 172
        }
      ]
    },
    {
      "cell_type": "code",
      "metadata": {
        "id": "3z7l_UX4GOEA",
        "outputId": "34fce325-4235-4496-9ca5-7f44fadb2bf6",
        "colab": {
          "base_uri": "https://localhost:8080/",
          "height": 425
        }
      },
      "source": [
        "from nltk.corpus import wordnet\n",
        "from nltk.stem import WordNetLemmatizer\n",
        "nltk.download('averaged_perceptron_tagger')\n",
        "\n",
        "lemmatizer = WordNetLemmatizer()\n",
        "wordnet_map = {\"N\":wordnet.NOUN, \"V\":wordnet.VERB, \"J\":wordnet.ADJ, \"R\":wordnet.ADV}\n",
        "def lemmatize_words(text):\n",
        "    pos_tagged_text = nltk.pos_tag(text.split())\n",
        "    return \" \".join([lemmatizer.lemmatize(word, wordnet_map.get(pos[0], wordnet.NOUN)) for word, pos in pos_tagged_text])\n",
        "\n",
        "df[\"text_lemmatized\"] = df[\"text_wo_stop\"].apply(lambda text: lemmatize_words(text))\n",
        "\n",
        "df.head()"
      ],
      "execution_count": 173,
      "outputs": [
        {
          "output_type": "stream",
          "text": [
            "[nltk_data] Downloading package averaged_perceptron_tagger to\n",
            "[nltk_data]     /root/nltk_data...\n",
            "[nltk_data]   Package averaged_perceptron_tagger is already up-to-\n",
            "[nltk_data]       date!\n"
          ],
          "name": "stdout"
        },
        {
          "output_type": "execute_result",
          "data": {
            "text/html": [
              "<div>\n",
              "<style scoped>\n",
              "    .dataframe tbody tr th:only-of-type {\n",
              "        vertical-align: middle;\n",
              "    }\n",
              "\n",
              "    .dataframe tbody tr th {\n",
              "        vertical-align: top;\n",
              "    }\n",
              "\n",
              "    .dataframe thead th {\n",
              "        text-align: right;\n",
              "    }\n",
              "</style>\n",
              "<table border=\"1\" class=\"dataframe\">\n",
              "  <thead>\n",
              "    <tr style=\"text-align: right;\">\n",
              "      <th></th>\n",
              "      <th>target</th>\n",
              "      <th>text</th>\n",
              "      <th>text_wo_punct</th>\n",
              "      <th>text_wo_stop</th>\n",
              "      <th>length</th>\n",
              "      <th>text_stemmed</th>\n",
              "      <th>text_lemmatized</th>\n",
              "    </tr>\n",
              "  </thead>\n",
              "  <tbody>\n",
              "    <tr>\n",
              "      <th>0</th>\n",
              "      <td>0</td>\n",
              "      <td>go until jurong point, crazy.. available only in bugis n great wor...</td>\n",
              "      <td>go until jurong point crazy available only in bugis n great world ...</td>\n",
              "      <td>go jurong point crazy available bugis great world la buffet cine g...</td>\n",
              "      <td>78</td>\n",
              "      <td>go jurong point crazi avail bugi great world la buffet cine got am...</td>\n",
              "      <td>go jurong point crazy available bugis great world la buffet cine g...</td>\n",
              "    </tr>\n",
              "    <tr>\n",
              "      <th>1</th>\n",
              "      <td>0</td>\n",
              "      <td>ok lar... joking wif u oni...</td>\n",
              "      <td>ok lar joking wif u oni</td>\n",
              "      <td>ok lar joking wif oni</td>\n",
              "      <td>21</td>\n",
              "      <td>ok lar joke wif oni</td>\n",
              "      <td>ok lar joking wif oni</td>\n",
              "    </tr>\n",
              "    <tr>\n",
              "      <th>2</th>\n",
              "      <td>1</td>\n",
              "      <td>free entry in 2 a wkly comp to win fa cup final tkts 21st may 2005...</td>\n",
              "      <td>free entry in 2 a wkly comp to win fa cup final tkts 21st may 2005...</td>\n",
              "      <td>free entry 2 wkly comp win fa cup final tkts 21st may 2005 text fa...</td>\n",
              "      <td>135</td>\n",
              "      <td>free entri 2 wkli comp win fa cup final tkt 21st may 2005 text fa ...</td>\n",
              "      <td>free entry 2 wkly comp win fa cup final tkts 21st may 2005 text fa...</td>\n",
              "    </tr>\n",
              "    <tr>\n",
              "      <th>3</th>\n",
              "      <td>0</td>\n",
              "      <td>u dun say so early hor... u c already then say...</td>\n",
              "      <td>u dun say so early hor u c already then say</td>\n",
              "      <td>dun say early hor already say</td>\n",
              "      <td>29</td>\n",
              "      <td>dun say earli hor alreadi say</td>\n",
              "      <td>dun say early hor already say</td>\n",
              "    </tr>\n",
              "    <tr>\n",
              "      <th>4</th>\n",
              "      <td>0</td>\n",
              "      <td>nah i don't think he goes to usf, he lives around here though</td>\n",
              "      <td>nah i dont think he goes to usf he lives around here though</td>\n",
              "      <td>nah dont think goes usf lives around though</td>\n",
              "      <td>43</td>\n",
              "      <td>nah dont think goe usf live around though</td>\n",
              "      <td>nah dont think go usf life around though</td>\n",
              "    </tr>\n",
              "  </tbody>\n",
              "</table>\n",
              "</div>"
            ],
            "text/plain": [
              "   target  ...                                                        text_lemmatized\n",
              "0       0  ...  go jurong point crazy available bugis great world la buffet cine g...\n",
              "1       0  ...                                                  ok lar joking wif oni\n",
              "2       1  ...  free entry 2 wkly comp win fa cup final tkts 21st may 2005 text fa...\n",
              "3       0  ...                                          dun say early hor already say\n",
              "4       0  ...                               nah dont think go usf life around though\n",
              "\n",
              "[5 rows x 7 columns]"
            ]
          },
          "metadata": {
            "tags": []
          },
          "execution_count": 173
        }
      ]
    },
    {
      "cell_type": "code",
      "metadata": {
        "id": "vJKjRrHKIRbb",
        "outputId": "a69758d4-9aae-4cdc-8e20-b583797944e9",
        "colab": {
          "base_uri": "https://localhost:8080/",
          "height": 357
        }
      },
      "source": [
        "\n",
        "df.head()"
      ],
      "execution_count": 174,
      "outputs": [
        {
          "output_type": "execute_result",
          "data": {
            "text/html": [
              "<div>\n",
              "<style scoped>\n",
              "    .dataframe tbody tr th:only-of-type {\n",
              "        vertical-align: middle;\n",
              "    }\n",
              "\n",
              "    .dataframe tbody tr th {\n",
              "        vertical-align: top;\n",
              "    }\n",
              "\n",
              "    .dataframe thead th {\n",
              "        text-align: right;\n",
              "    }\n",
              "</style>\n",
              "<table border=\"1\" class=\"dataframe\">\n",
              "  <thead>\n",
              "    <tr style=\"text-align: right;\">\n",
              "      <th></th>\n",
              "      <th>target</th>\n",
              "      <th>text</th>\n",
              "      <th>text_wo_punct</th>\n",
              "      <th>text_wo_stop</th>\n",
              "      <th>length</th>\n",
              "      <th>text_stemmed</th>\n",
              "      <th>text_lemmatized</th>\n",
              "    </tr>\n",
              "  </thead>\n",
              "  <tbody>\n",
              "    <tr>\n",
              "      <th>0</th>\n",
              "      <td>0</td>\n",
              "      <td>go until jurong point, crazy.. available only in bugis n great wor...</td>\n",
              "      <td>go until jurong point crazy available only in bugis n great world ...</td>\n",
              "      <td>go jurong point crazy available bugis great world la buffet cine g...</td>\n",
              "      <td>78</td>\n",
              "      <td>go jurong point crazi avail bugi great world la buffet cine got am...</td>\n",
              "      <td>go jurong point crazy available bugis great world la buffet cine g...</td>\n",
              "    </tr>\n",
              "    <tr>\n",
              "      <th>1</th>\n",
              "      <td>0</td>\n",
              "      <td>ok lar... joking wif u oni...</td>\n",
              "      <td>ok lar joking wif u oni</td>\n",
              "      <td>ok lar joking wif oni</td>\n",
              "      <td>21</td>\n",
              "      <td>ok lar joke wif oni</td>\n",
              "      <td>ok lar joking wif oni</td>\n",
              "    </tr>\n",
              "    <tr>\n",
              "      <th>2</th>\n",
              "      <td>1</td>\n",
              "      <td>free entry in 2 a wkly comp to win fa cup final tkts 21st may 2005...</td>\n",
              "      <td>free entry in 2 a wkly comp to win fa cup final tkts 21st may 2005...</td>\n",
              "      <td>free entry 2 wkly comp win fa cup final tkts 21st may 2005 text fa...</td>\n",
              "      <td>135</td>\n",
              "      <td>free entri 2 wkli comp win fa cup final tkt 21st may 2005 text fa ...</td>\n",
              "      <td>free entry 2 wkly comp win fa cup final tkts 21st may 2005 text fa...</td>\n",
              "    </tr>\n",
              "    <tr>\n",
              "      <th>3</th>\n",
              "      <td>0</td>\n",
              "      <td>u dun say so early hor... u c already then say...</td>\n",
              "      <td>u dun say so early hor u c already then say</td>\n",
              "      <td>dun say early hor already say</td>\n",
              "      <td>29</td>\n",
              "      <td>dun say earli hor alreadi say</td>\n",
              "      <td>dun say early hor already say</td>\n",
              "    </tr>\n",
              "    <tr>\n",
              "      <th>4</th>\n",
              "      <td>0</td>\n",
              "      <td>nah i don't think he goes to usf, he lives around here though</td>\n",
              "      <td>nah i dont think he goes to usf he lives around here though</td>\n",
              "      <td>nah dont think goes usf lives around though</td>\n",
              "      <td>43</td>\n",
              "      <td>nah dont think goe usf live around though</td>\n",
              "      <td>nah dont think go usf life around though</td>\n",
              "    </tr>\n",
              "  </tbody>\n",
              "</table>\n",
              "</div>"
            ],
            "text/plain": [
              "   target  ...                                                        text_lemmatized\n",
              "0       0  ...  go jurong point crazy available bugis great world la buffet cine g...\n",
              "1       0  ...                                                  ok lar joking wif oni\n",
              "2       1  ...  free entry 2 wkly comp win fa cup final tkts 21st may 2005 text fa...\n",
              "3       0  ...                                          dun say early hor already say\n",
              "4       0  ...                               nah dont think go usf life around though\n",
              "\n",
              "[5 rows x 7 columns]"
            ]
          },
          "metadata": {
            "tags": []
          },
          "execution_count": 174
        }
      ]
    },
    {
      "cell_type": "code",
      "metadata": {
        "id": "p4iG5RMEfT-I",
        "outputId": "463fcce3-14d0-4439-e9ed-12b907718c97",
        "colab": {
          "base_uri": "https://localhost:8080/",
          "height": 204
        }
      },
      "source": [
        "data = df.drop(['text', 'text_stemmed', 'text_wo_punct', 'text_wo_stop', 'length' ], axis = 1)\n",
        "data.head()"
      ],
      "execution_count": 175,
      "outputs": [
        {
          "output_type": "execute_result",
          "data": {
            "text/html": [
              "<div>\n",
              "<style scoped>\n",
              "    .dataframe tbody tr th:only-of-type {\n",
              "        vertical-align: middle;\n",
              "    }\n",
              "\n",
              "    .dataframe tbody tr th {\n",
              "        vertical-align: top;\n",
              "    }\n",
              "\n",
              "    .dataframe thead th {\n",
              "        text-align: right;\n",
              "    }\n",
              "</style>\n",
              "<table border=\"1\" class=\"dataframe\">\n",
              "  <thead>\n",
              "    <tr style=\"text-align: right;\">\n",
              "      <th></th>\n",
              "      <th>target</th>\n",
              "      <th>text_lemmatized</th>\n",
              "    </tr>\n",
              "  </thead>\n",
              "  <tbody>\n",
              "    <tr>\n",
              "      <th>0</th>\n",
              "      <td>0</td>\n",
              "      <td>go jurong point crazy available bugis great world la buffet cine g...</td>\n",
              "    </tr>\n",
              "    <tr>\n",
              "      <th>1</th>\n",
              "      <td>0</td>\n",
              "      <td>ok lar joking wif oni</td>\n",
              "    </tr>\n",
              "    <tr>\n",
              "      <th>2</th>\n",
              "      <td>1</td>\n",
              "      <td>free entry 2 wkly comp win fa cup final tkts 21st may 2005 text fa...</td>\n",
              "    </tr>\n",
              "    <tr>\n",
              "      <th>3</th>\n",
              "      <td>0</td>\n",
              "      <td>dun say early hor already say</td>\n",
              "    </tr>\n",
              "    <tr>\n",
              "      <th>4</th>\n",
              "      <td>0</td>\n",
              "      <td>nah dont think go usf life around though</td>\n",
              "    </tr>\n",
              "  </tbody>\n",
              "</table>\n",
              "</div>"
            ],
            "text/plain": [
              "   target                                                        text_lemmatized\n",
              "0       0  go jurong point crazy available bugis great world la buffet cine g...\n",
              "1       0                                                  ok lar joking wif oni\n",
              "2       1  free entry 2 wkly comp win fa cup final tkts 21st may 2005 text fa...\n",
              "3       0                                          dun say early hor already say\n",
              "4       0                               nah dont think go usf life around though"
            ]
          },
          "metadata": {
            "tags": []
          },
          "execution_count": 175
        }
      ]
    },
    {
      "cell_type": "code",
      "metadata": {
        "id": "ARPU3GdmGOAW",
        "outputId": "edfa8881-4a82-4311-abc4-3ef61430b995",
        "colab": {
          "base_uri": "https://localhost:8080/",
          "height": 389
        }
      },
      "source": [
        "#!pip install h2o\n",
        "import h2o\n",
        "h2o.init()"
      ],
      "execution_count": 176,
      "outputs": [
        {
          "output_type": "stream",
          "text": [
            "Checking whether there is an H2O instance running at http://localhost:54321 . connected.\n"
          ],
          "name": "stdout"
        },
        {
          "output_type": "display_data",
          "data": {
            "text/html": [
              "<div style=\"overflow:auto\"><table style=\"width:50%\"><tr><td>H2O_cluster_uptime:</td>\n",
              "<td>1 hour 11 mins</td></tr>\n",
              "<tr><td>H2O_cluster_timezone:</td>\n",
              "<td>Etc/UTC</td></tr>\n",
              "<tr><td>H2O_data_parsing_timezone:</td>\n",
              "<td>UTC</td></tr>\n",
              "<tr><td>H2O_cluster_version:</td>\n",
              "<td>3.30.1.3</td></tr>\n",
              "<tr><td>H2O_cluster_version_age:</td>\n",
              "<td>1 month and 16 days </td></tr>\n",
              "<tr><td>H2O_cluster_name:</td>\n",
              "<td>H2O_from_python_unknownUser_ihy66g</td></tr>\n",
              "<tr><td>H2O_cluster_total_nodes:</td>\n",
              "<td>1</td></tr>\n",
              "<tr><td>H2O_cluster_free_memory:</td>\n",
              "<td>3.109 Gb</td></tr>\n",
              "<tr><td>H2O_cluster_total_cores:</td>\n",
              "<td>2</td></tr>\n",
              "<tr><td>H2O_cluster_allowed_cores:</td>\n",
              "<td>2</td></tr>\n",
              "<tr><td>H2O_cluster_status:</td>\n",
              "<td>locked, healthy</td></tr>\n",
              "<tr><td>H2O_connection_url:</td>\n",
              "<td>http://localhost:54321</td></tr>\n",
              "<tr><td>H2O_connection_proxy:</td>\n",
              "<td>{\"http\": null, \"https\": null}</td></tr>\n",
              "<tr><td>H2O_internal_security:</td>\n",
              "<td>False</td></tr>\n",
              "<tr><td>H2O_API_Extensions:</td>\n",
              "<td>Amazon S3, XGBoost, Algos, AutoML, Core V3, TargetEncoder, Core V4</td></tr>\n",
              "<tr><td>Python_version:</td>\n",
              "<td>3.6.9 final</td></tr></table></div>"
            ],
            "text/plain": [
              "--------------------------  ------------------------------------------------------------------\n",
              "H2O_cluster_uptime:         1 hour 11 mins\n",
              "H2O_cluster_timezone:       Etc/UTC\n",
              "H2O_data_parsing_timezone:  UTC\n",
              "H2O_cluster_version:        3.30.1.3\n",
              "H2O_cluster_version_age:    1 month and 16 days\n",
              "H2O_cluster_name:           H2O_from_python_unknownUser_ihy66g\n",
              "H2O_cluster_total_nodes:    1\n",
              "H2O_cluster_free_memory:    3.109 Gb\n",
              "H2O_cluster_total_cores:    2\n",
              "H2O_cluster_allowed_cores:  2\n",
              "H2O_cluster_status:         locked, healthy\n",
              "H2O_connection_url:         http://localhost:54321\n",
              "H2O_connection_proxy:       {\"http\": null, \"https\": null}\n",
              "H2O_internal_security:      False\n",
              "H2O_API_Extensions:         Amazon S3, XGBoost, Algos, AutoML, Core V3, TargetEncoder, Core V4\n",
              "Python_version:             3.6.9 final\n",
              "--------------------------  ------------------------------------------------------------------"
            ]
          },
          "metadata": {
            "tags": []
          }
        }
      ]
    },
    {
      "cell_type": "code",
      "metadata": {
        "id": "mdqIT1h-GN7a"
      },
      "source": [
        "from h2o.estimators.word2vec import H2OWord2vecEstimator\n",
        "from h2o.estimators import H2OKMeansEstimator"
      ],
      "execution_count": 177,
      "outputs": []
    },
    {
      "cell_type": "code",
      "metadata": {
        "id": "yMsITMrOGN54"
      },
      "source": [
        "def tokenize(sentences, stop_word = stopwords):\n",
        "    tokenized = sentences.tokenize(\"\\\\W+\")\n",
        "    tokenized_lower = tokenized.tolower()\n",
        "    tokenized_filtered = tokenized_lower[(tokenized_lower.nchar() >= 2) | \\\n",
        "                                         (tokenized_lower.isna()),:]\n",
        "    tokenized_words = tokenized_filtered[tokenized_filtered.grep(\"[0-9]\",\\\n",
        "                                          invert=True,output_logical=True),:]\n",
        "    tokenized_words = tokenized_words[(tokenized_words.isna()) |\\\n",
        "                                      (~ tokenized_words.isin(stopwords)),:]\n",
        "    return tokenized_words"
      ],
      "execution_count": 178,
      "outputs": []
    },
    {
      "cell_type": "code",
      "metadata": {
        "id": "05YnUhn5HYWR",
        "outputId": "9f103d60-d44a-420f-a056-b05eb8a88f83",
        "colab": {
          "base_uri": "https://localhost:8080/"
        }
      },
      "source": [
        "df = h2o.H2OFrame(data, column_names=['target', 'text_lemmatized'],\n",
        "                    column_types=[\"enum\", \"string\"])\n",
        "                            "
      ],
      "execution_count": 179,
      "outputs": [
        {
          "output_type": "stream",
          "text": [
            "Parse progress: |█████████████████████████████████████████████████████████| 100%\n"
          ],
          "name": "stdout"
        }
      ]
    },
    {
      "cell_type": "code",
      "metadata": {
        "id": "tYD-KMv9HYSy"
      },
      "source": [
        "words = tokenize(df[\"text_lemmatized\"])"
      ],
      "execution_count": 180,
      "outputs": []
    },
    {
      "cell_type": "code",
      "metadata": {
        "id": "2_QyjHfEKQ2Z",
        "outputId": "fcad3c4a-65d8-4ea5-e882-738f5d60823f",
        "colab": {
          "base_uri": "https://localhost:8080/",
          "height": 250
        }
      },
      "source": [
        "words.head()\n"
      ],
      "execution_count": 181,
      "outputs": [
        {
          "output_type": "display_data",
          "data": {
            "text/html": [
              "<table>\n",
              "<thead>\n",
              "<tr><th>C1       </th></tr>\n",
              "</thead>\n",
              "<tbody>\n",
              "<tr><td>go       </td></tr>\n",
              "<tr><td>jurong   </td></tr>\n",
              "<tr><td>point    </td></tr>\n",
              "<tr><td>crazy    </td></tr>\n",
              "<tr><td>available</td></tr>\n",
              "<tr><td>bugis    </td></tr>\n",
              "<tr><td>great    </td></tr>\n",
              "<tr><td>world    </td></tr>\n",
              "<tr><td>la       </td></tr>\n",
              "<tr><td>buffet   </td></tr>\n",
              "</tbody>\n",
              "</table>"
            ]
          },
          "metadata": {
            "tags": []
          }
        },
        {
          "output_type": "execute_result",
          "data": {
            "text/plain": [
              ""
            ]
          },
          "metadata": {
            "tags": []
          },
          "execution_count": 181
        }
      ]
    },
    {
      "cell_type": "code",
      "metadata": {
        "id": "J6ATKH0YQrGr",
        "outputId": "d57e30c5-e2ed-4a92-f929-a5210bedacf0",
        "colab": {
          "base_uri": "https://localhost:8080/"
        }
      },
      "source": [
        "# Train Word2Vec Model for vec size = 100\n",
        "w2v_model = H2OWord2vecEstimator(vec_size = 100, model_id = \"w2v.hex\")\n",
        "w2v_model.train(training_frame=words)"
      ],
      "execution_count": 182,
      "outputs": [
        {
          "output_type": "stream",
          "text": [
            "word2vec Model Build progress: |██████████████████████████████████████████| 100%\n"
          ],
          "name": "stdout"
        }
      ]
    },
    {
      "cell_type": "code",
      "metadata": {
        "id": "C09AhHLxQ6nZ",
        "outputId": "60b827df-c2c0-4663-9b88-5e961912e343",
        "colab": {
          "base_uri": "https://localhost:8080/"
        }
      },
      "source": [
        "# Sanity check - find synonyms for the word 'free'\n",
        "w2v_model.find_synonyms(\"free\", count = 5)"
      ],
      "execution_count": 183,
      "outputs": [
        {
          "output_type": "execute_result",
          "data": {
            "text/plain": [
              "OrderedDict([('sub', 0.9356540441513062),\n",
              "             ('colour', 0.9259873032569885),\n",
              "             ('camcorder', 0.9171088337898254),\n",
              "             ('mobile', 0.9102357029914856),\n",
              "             ('orange', 0.9068723320960999)])"
            ]
          },
          "metadata": {
            "tags": []
          },
          "execution_count": 183
        }
      ]
    },
    {
      "cell_type": "code",
      "metadata": {
        "id": "45RfOratQ6lT",
        "outputId": "bc3d6e61-e0a2-4822-fcd4-a905e20a0d94",
        "colab": {
          "base_uri": "https://localhost:8080/"
        }
      },
      "source": [
        "# Sanity check - find synonyms for the word 'hello'\n",
        "w2v_model.find_synonyms(\"hello\", count = 5)"
      ],
      "execution_count": 184,
      "outputs": [
        {
          "output_type": "execute_result",
          "data": {
            "text/plain": [
              "OrderedDict([('real', 0.7849693894386292),\n",
              "             ('sound', 0.7800041437149048),\n",
              "             ('girl', 0.7592800855636597),\n",
              "             ('far', 0.7578379511833191),\n",
              "             ('hop', 0.7545790672302246)])"
            ]
          },
          "metadata": {
            "tags": []
          },
          "execution_count": 184
        }
      ]
    },
    {
      "cell_type": "code",
      "metadata": {
        "id": "SaNSxGK1Q6jK",
        "outputId": "dc106ddf-6ddf-4b51-a143-5884925f7c15",
        "colab": {
          "base_uri": "https://localhost:8080/",
          "height": 270
        }
      },
      "source": [
        "word_embeddings = w2v_model.to_frame()\n",
        "word_embeddings.head()"
      ],
      "execution_count": 185,
      "outputs": [
        {
          "output_type": "display_data",
          "data": {
            "text/html": [
              "<table>\n",
              "<thead>\n",
              "<tr><th>Word   </th><th style=\"text-align: right;\">          V1</th><th style=\"text-align: right;\">         V2</th><th style=\"text-align: right;\">         V3</th><th style=\"text-align: right;\">        V4</th><th style=\"text-align: right;\">         V5</th><th style=\"text-align: right;\">         V6</th><th style=\"text-align: right;\">        V7</th><th style=\"text-align: right;\">         V8</th><th style=\"text-align: right;\">        V9</th><th style=\"text-align: right;\">        V10</th><th style=\"text-align: right;\">        V11</th><th style=\"text-align: right;\">        V12</th><th style=\"text-align: right;\">         V13</th><th style=\"text-align: right;\">         V14</th><th style=\"text-align: right;\">        V15</th><th style=\"text-align: right;\">        V16</th><th style=\"text-align: right;\">       V17</th><th style=\"text-align: right;\">       V18</th><th style=\"text-align: right;\">        V19</th><th style=\"text-align: right;\">        V20</th><th style=\"text-align: right;\">        V21</th><th style=\"text-align: right;\">        V22</th><th style=\"text-align: right;\">       V23</th><th style=\"text-align: right;\">      V24</th><th style=\"text-align: right;\">      V25</th><th style=\"text-align: right;\">        V26</th><th style=\"text-align: right;\">        V27</th><th style=\"text-align: right;\">       V28</th><th style=\"text-align: right;\">         V29</th><th style=\"text-align: right;\">        V30</th><th style=\"text-align: right;\">        V31</th><th style=\"text-align: right;\">        V32</th><th style=\"text-align: right;\">         V33</th><th style=\"text-align: right;\">         V34</th><th style=\"text-align: right;\">        V35</th><th style=\"text-align: right;\">        V36</th><th style=\"text-align: right;\">       V37</th><th style=\"text-align: right;\">      V38</th><th style=\"text-align: right;\">       V39</th><th style=\"text-align: right;\">        V40</th><th style=\"text-align: right;\">       V41</th><th style=\"text-align: right;\">        V42</th><th style=\"text-align: right;\">        V43</th><th style=\"text-align: right;\">        V44</th><th style=\"text-align: right;\">         V45</th><th style=\"text-align: right;\">        V46</th><th style=\"text-align: right;\">        V47</th><th style=\"text-align: right;\">       V48</th><th style=\"text-align: right;\">       V49</th><th style=\"text-align: right;\">      V50</th><th style=\"text-align: right;\">        V51</th><th style=\"text-align: right;\">        V52</th><th style=\"text-align: right;\">        V53</th><th style=\"text-align: right;\">        V54</th><th style=\"text-align: right;\">        V55</th><th style=\"text-align: right;\">         V56</th><th style=\"text-align: right;\">      V57</th><th style=\"text-align: right;\">       V58</th><th style=\"text-align: right;\">        V59</th><th style=\"text-align: right;\">       V60</th><th style=\"text-align: right;\">        V61</th><th style=\"text-align: right;\">        V62</th><th style=\"text-align: right;\">      V63</th><th style=\"text-align: right;\">        V64</th><th style=\"text-align: right;\">       V65</th><th style=\"text-align: right;\">        V66</th><th style=\"text-align: right;\">       V67</th><th style=\"text-align: right;\">       V68</th><th style=\"text-align: right;\">       V69</th><th style=\"text-align: right;\">        V70</th><th style=\"text-align: right;\">       V71</th><th style=\"text-align: right;\">        V72</th><th style=\"text-align: right;\">        V73</th><th style=\"text-align: right;\">        V74</th><th style=\"text-align: right;\">        V75</th><th style=\"text-align: right;\">       V76</th><th style=\"text-align: right;\">        V77</th><th style=\"text-align: right;\">       V78</th><th style=\"text-align: right;\">        V79</th><th style=\"text-align: right;\">       V80</th><th style=\"text-align: right;\">         V81</th><th style=\"text-align: right;\">       V82</th><th style=\"text-align: right;\">        V83</th><th style=\"text-align: right;\">       V84</th><th style=\"text-align: right;\">       V85</th><th style=\"text-align: right;\">         V86</th><th style=\"text-align: right;\">        V87</th><th style=\"text-align: right;\">        V88</th><th style=\"text-align: right;\">        V89</th><th style=\"text-align: right;\">        V90</th><th style=\"text-align: right;\">       V91</th><th style=\"text-align: right;\">        V92</th><th style=\"text-align: right;\">       V93</th><th style=\"text-align: right;\">        V94</th><th style=\"text-align: right;\">       V95</th><th style=\"text-align: right;\">       V96</th><th style=\"text-align: right;\">        V97</th><th style=\"text-align: right;\">       V98</th><th style=\"text-align: right;\">        V99</th><th style=\"text-align: right;\">      V100</th></tr>\n",
              "</thead>\n",
              "<tbody>\n",
              "<tr><td>ray    </td><td style=\"text-align: right;\">-0.0328825  </td><td style=\"text-align: right;\">-0.246325  </td><td style=\"text-align: right;\">-0.0230194 </td><td style=\"text-align: right;\">0.0334814 </td><td style=\"text-align: right;\">-0.0171655 </td><td style=\"text-align: right;\">-0.00759709</td><td style=\"text-align: right;\">-0.0429929</td><td style=\"text-align: right;\">-0.0966521 </td><td style=\"text-align: right;\">-0.0656804</td><td style=\"text-align: right;\">-0.0790938 </td><td style=\"text-align: right;\">-0.0401057 </td><td style=\"text-align: right;\">-0.0371117 </td><td style=\"text-align: right;\">-0.0673751  </td><td style=\"text-align: right;\">-0.000407924</td><td style=\"text-align: right;\"> 0.0148332 </td><td style=\"text-align: right;\"> 0.0359906 </td><td style=\"text-align: right;\"> 0.0284122</td><td style=\"text-align: right;\">-0.025134 </td><td style=\"text-align: right;\">-0.0519797 </td><td style=\"text-align: right;\"> 0.032924  </td><td style=\"text-align: right;\"> 0.0295507 </td><td style=\"text-align: right;\">-0.00385369</td><td style=\"text-align: right;\"> 0.0247969</td><td style=\"text-align: right;\">0.0623462</td><td style=\"text-align: right;\">0.0207881</td><td style=\"text-align: right;\"> 0.0292783 </td><td style=\"text-align: right;\"> 0.128298  </td><td style=\"text-align: right;\"> 0.0647546</td><td style=\"text-align: right;\"> 0.0772357  </td><td style=\"text-align: right;\">-0.111711  </td><td style=\"text-align: right;\">-0.0272822 </td><td style=\"text-align: right;\"> 0.0927188 </td><td style=\"text-align: right;\">-0.000434666</td><td style=\"text-align: right;\"> 0.0841983  </td><td style=\"text-align: right;\"> 0.156595  </td><td style=\"text-align: right;\"> 0.0316735 </td><td style=\"text-align: right;\">-0.025687 </td><td style=\"text-align: right;\">0.158758 </td><td style=\"text-align: right;\"> 0.176313 </td><td style=\"text-align: right;\">-0.00232003</td><td style=\"text-align: right;\">-0.10767  </td><td style=\"text-align: right;\"> 0.0501075 </td><td style=\"text-align: right;\"> 0.0143419 </td><td style=\"text-align: right;\">-0.0863705 </td><td style=\"text-align: right;\">-0.0278255  </td><td style=\"text-align: right;\"> 0.0667619 </td><td style=\"text-align: right;\">-0.0287579 </td><td style=\"text-align: right;\"> 0.168159 </td><td style=\"text-align: right;\">-0.0125469</td><td style=\"text-align: right;\">0.142066 </td><td style=\"text-align: right;\">-0.00578932</td><td style=\"text-align: right;\">-0.0412585 </td><td style=\"text-align: right;\"> 0.00504608</td><td style=\"text-align: right;\"> 0.0472615 </td><td style=\"text-align: right;\">-0.0624525 </td><td style=\"text-align: right;\"> 0.00574691 </td><td style=\"text-align: right;\"> 0.107463</td><td style=\"text-align: right;\">-0.104286 </td><td style=\"text-align: right;\">-0.137857  </td><td style=\"text-align: right;\"> 0.0934145</td><td style=\"text-align: right;\">-0.126263  </td><td style=\"text-align: right;\">-0.0793566 </td><td style=\"text-align: right;\">0.0596685</td><td style=\"text-align: right;\"> 0.0415866 </td><td style=\"text-align: right;\">-0.0495195</td><td style=\"text-align: right;\"> 0.0922219 </td><td style=\"text-align: right;\"> 0.213473 </td><td style=\"text-align: right;\">-0.0402082</td><td style=\"text-align: right;\"> 0.0807617</td><td style=\"text-align: right;\">-0.0571266 </td><td style=\"text-align: right;\">-0.099101 </td><td style=\"text-align: right;\"> 0.0151697 </td><td style=\"text-align: right;\"> 0.144565  </td><td style=\"text-align: right;\">-0.0895698 </td><td style=\"text-align: right;\">-0.0779422 </td><td style=\"text-align: right;\">-0.115562 </td><td style=\"text-align: right;\"> 0.0942671 </td><td style=\"text-align: right;\">-0.102468 </td><td style=\"text-align: right;\"> 0.0452429 </td><td style=\"text-align: right;\">-0.0271837</td><td style=\"text-align: right;\">-0.0441442  </td><td style=\"text-align: right;\">-0.0395925</td><td style=\"text-align: right;\">-0.0364127 </td><td style=\"text-align: right;\"> 0.0364601</td><td style=\"text-align: right;\">-0.0252348</td><td style=\"text-align: right;\">-0.000343697</td><td style=\"text-align: right;\">-0.0721766 </td><td style=\"text-align: right;\">-0.0423256 </td><td style=\"text-align: right;\"> 0.127725  </td><td style=\"text-align: right;\"> 0.0216167 </td><td style=\"text-align: right;\"> 0.0584566</td><td style=\"text-align: right;\"> 0.00543966</td><td style=\"text-align: right;\">-0.0215601</td><td style=\"text-align: right;\">-0.0239932 </td><td style=\"text-align: right;\"> 0.0541411</td><td style=\"text-align: right;\"> 0.127329 </td><td style=\"text-align: right;\">-0.0813591 </td><td style=\"text-align: right;\">-0.0894689</td><td style=\"text-align: right;\">-0.06061   </td><td style=\"text-align: right;\"> 0.0220135</td></tr>\n",
              "<tr><td>moral  </td><td style=\"text-align: right;\">-0.0119584  </td><td style=\"text-align: right;\">-0.176136  </td><td style=\"text-align: right;\">-0.0134472 </td><td style=\"text-align: right;\">0.135688  </td><td style=\"text-align: right;\">-0.0146043 </td><td style=\"text-align: right;\">-0.0415554 </td><td style=\"text-align: right;\"> 0.0572645</td><td style=\"text-align: right;\">-0.0941317 </td><td style=\"text-align: right;\">-0.0765975</td><td style=\"text-align: right;\">-0.0110361 </td><td style=\"text-align: right;\">-0.0586308 </td><td style=\"text-align: right;\"> 0.0297519 </td><td style=\"text-align: right;\">-0.000269588</td><td style=\"text-align: right;\">-0.123586   </td><td style=\"text-align: right;\">-0.0424865 </td><td style=\"text-align: right;\">-0.0267124 </td><td style=\"text-align: right;\">-0.142281 </td><td style=\"text-align: right;\"> 0.0246717</td><td style=\"text-align: right;\">-0.00138459</td><td style=\"text-align: right;\">-0.0169958 </td><td style=\"text-align: right;\"> 0.014405  </td><td style=\"text-align: right;\">-0.0800798 </td><td style=\"text-align: right;\">-0.0164807</td><td style=\"text-align: right;\">0.107253 </td><td style=\"text-align: right;\">0.053048 </td><td style=\"text-align: right;\"> 0.0424167 </td><td style=\"text-align: right;\"> 0.0582665 </td><td style=\"text-align: right;\"> 0.0661234</td><td style=\"text-align: right;\"> 0.0386648  </td><td style=\"text-align: right;\">-0.0639826 </td><td style=\"text-align: right;\">-0.0543243 </td><td style=\"text-align: right;\"> 0.0690281 </td><td style=\"text-align: right;\"> 0.0585531  </td><td style=\"text-align: right;\"> 0.00967832 </td><td style=\"text-align: right;\"> 0.108425  </td><td style=\"text-align: right;\">-0.117031  </td><td style=\"text-align: right;\">-0.100764 </td><td style=\"text-align: right;\">0.224412 </td><td style=\"text-align: right;\"> 0.0337275</td><td style=\"text-align: right;\">-0.0339135 </td><td style=\"text-align: right;\">-0.0945474</td><td style=\"text-align: right;\"> 0.032169  </td><td style=\"text-align: right;\">-0.00399335</td><td style=\"text-align: right;\"> 0.0292219 </td><td style=\"text-align: right;\">-0.000710282</td><td style=\"text-align: right;\"> 0.00168907</td><td style=\"text-align: right;\"> 0.0996067 </td><td style=\"text-align: right;\"> 0.148065 </td><td style=\"text-align: right;\">-0.0192483</td><td style=\"text-align: right;\">0.234485 </td><td style=\"text-align: right;\"> 0.0104541 </td><td style=\"text-align: right;\">-0.0102821 </td><td style=\"text-align: right;\">-0.0399518 </td><td style=\"text-align: right;\">-0.0259883 </td><td style=\"text-align: right;\"> 0.0987661 </td><td style=\"text-align: right;\">-0.0960864  </td><td style=\"text-align: right;\"> 0.173351</td><td style=\"text-align: right;\">-0.0415099</td><td style=\"text-align: right;\">-0.0128223 </td><td style=\"text-align: right;\"> 0.0597256</td><td style=\"text-align: right;\">-0.139588  </td><td style=\"text-align: right;\">-0.0532586 </td><td style=\"text-align: right;\">0.166215 </td><td style=\"text-align: right;\"> 0.0724052 </td><td style=\"text-align: right;\">-0.0196301</td><td style=\"text-align: right;\">-0.00995717</td><td style=\"text-align: right;\">-0.163658 </td><td style=\"text-align: right;\"> 0.0532088</td><td style=\"text-align: right;\"> 0.127216 </td><td style=\"text-align: right;\"> 0.0335505 </td><td style=\"text-align: right;\">-0.100525 </td><td style=\"text-align: right;\">-0.0399956 </td><td style=\"text-align: right;\"> 0.0288235 </td><td style=\"text-align: right;\"> 0.0178276 </td><td style=\"text-align: right;\">-0.101478  </td><td style=\"text-align: right;\">-0.112465 </td><td style=\"text-align: right;\"> 0.048293  </td><td style=\"text-align: right;\">-0.0414614</td><td style=\"text-align: right;\">-0.0453639 </td><td style=\"text-align: right;\">-0.0584477</td><td style=\"text-align: right;\">-0.0187803  </td><td style=\"text-align: right;\">-0.0437644</td><td style=\"text-align: right;\"> 0.00947518</td><td style=\"text-align: right;\">-0.118445 </td><td style=\"text-align: right;\">-0.0248702</td><td style=\"text-align: right;\"> 0.0520685  </td><td style=\"text-align: right;\"> 0.0166564 </td><td style=\"text-align: right;\">-0.023746  </td><td style=\"text-align: right;\"> 0.076423  </td><td style=\"text-align: right;\">-0.013049  </td><td style=\"text-align: right;\">-0.0138388</td><td style=\"text-align: right;\">-0.0529232 </td><td style=\"text-align: right;\"> 0.0606899</td><td style=\"text-align: right;\"> 0.0488118 </td><td style=\"text-align: right;\"> 0.050004 </td><td style=\"text-align: right;\"> 0.0617616</td><td style=\"text-align: right;\"> 0.00891003</td><td style=\"text-align: right;\"> 0.0818175</td><td style=\"text-align: right;\"> 0.00104332</td><td style=\"text-align: right;\">-0.08752  </td></tr>\n",
              "<tr><td>wet    </td><td style=\"text-align: right;\"> 0.0537548  </td><td style=\"text-align: right;\">-0.0491683 </td><td style=\"text-align: right;\">-0.0830161 </td><td style=\"text-align: right;\">0.0809928 </td><td style=\"text-align: right;\">-0.0412474 </td><td style=\"text-align: right;\"> 0.0017203 </td><td style=\"text-align: right;\"> 0.0335793</td><td style=\"text-align: right;\">-0.0506458 </td><td style=\"text-align: right;\">-0.104105 </td><td style=\"text-align: right;\">-0.0389089 </td><td style=\"text-align: right;\"> 0.00652588</td><td style=\"text-align: right;\">-0.186453  </td><td style=\"text-align: right;\">-0.0280549  </td><td style=\"text-align: right;\"> 0.0275875  </td><td style=\"text-align: right;\">-0.0714326 </td><td style=\"text-align: right;\">-0.0187163 </td><td style=\"text-align: right;\">-0.0577998</td><td style=\"text-align: right;\"> 0.0769342</td><td style=\"text-align: right;\"> 0.0124265 </td><td style=\"text-align: right;\">-0.0350073 </td><td style=\"text-align: right;\"> 0.044954  </td><td style=\"text-align: right;\">-0.0237707 </td><td style=\"text-align: right;\"> 0.110764 </td><td style=\"text-align: right;\">0.153746 </td><td style=\"text-align: right;\">0.0585099</td><td style=\"text-align: right;\"> 0.0519415 </td><td style=\"text-align: right;\">-0.00666611</td><td style=\"text-align: right;\"> 0.0916506</td><td style=\"text-align: right;\"> 0.00979584 </td><td style=\"text-align: right;\">-0.0293408 </td><td style=\"text-align: right;\"> 0.00563476</td><td style=\"text-align: right;\"> 0.204679  </td><td style=\"text-align: right;\"> 0.0250772  </td><td style=\"text-align: right;\"> 0.000907722</td><td style=\"text-align: right;\">-0.0262139 </td><td style=\"text-align: right;\">-0.0595483 </td><td style=\"text-align: right;\">-0.0250271</td><td style=\"text-align: right;\">0.162789 </td><td style=\"text-align: right;\"> 0.0762994</td><td style=\"text-align: right;\">-0.121588  </td><td style=\"text-align: right;\">-0.257266 </td><td style=\"text-align: right;\"> 0.00278665</td><td style=\"text-align: right;\">-0.0246835 </td><td style=\"text-align: right;\"> 0.0206008 </td><td style=\"text-align: right;\"> 0.103591   </td><td style=\"text-align: right;\"> 0.0431716 </td><td style=\"text-align: right;\"> 0.114862  </td><td style=\"text-align: right;\"> 0.0498823</td><td style=\"text-align: right;\"> 0.0293512</td><td style=\"text-align: right;\">0.131267 </td><td style=\"text-align: right;\">-0.0266021 </td><td style=\"text-align: right;\"> 0.0229403 </td><td style=\"text-align: right;\">-0.0285338 </td><td style=\"text-align: right;\">-0.0211678 </td><td style=\"text-align: right;\"> 0.0395568 </td><td style=\"text-align: right;\"> 0.0667242  </td><td style=\"text-align: right;\"> 0.152458</td><td style=\"text-align: right;\">-0.116772 </td><td style=\"text-align: right;\"> 0.0283117 </td><td style=\"text-align: right;\">-0.0481555</td><td style=\"text-align: right;\">-0.15272   </td><td style=\"text-align: right;\"> 0.0977722 </td><td style=\"text-align: right;\">0.0988166</td><td style=\"text-align: right;\">-0.0291115 </td><td style=\"text-align: right;\"> 0.0346181</td><td style=\"text-align: right;\">-0.0148365 </td><td style=\"text-align: right;\"> 0.0104309</td><td style=\"text-align: right;\"> 0.118301 </td><td style=\"text-align: right;\">-0.0214348</td><td style=\"text-align: right;\"> 0.0534502 </td><td style=\"text-align: right;\">-0.0607979</td><td style=\"text-align: right;\">-0.0803687 </td><td style=\"text-align: right;\"> 0.0144898 </td><td style=\"text-align: right;\"> 0.00701096</td><td style=\"text-align: right;\">-0.0643443 </td><td style=\"text-align: right;\">-0.115132 </td><td style=\"text-align: right;\"> 0.148929  </td><td style=\"text-align: right;\">-0.0697275</td><td style=\"text-align: right;\"> 0.0101319 </td><td style=\"text-align: right;\">-0.0105124</td><td style=\"text-align: right;\">-0.00428004 </td><td style=\"text-align: right;\"> 0.0566329</td><td style=\"text-align: right;\">-0.0262174 </td><td style=\"text-align: right;\">-0.0998586</td><td style=\"text-align: right;\"> 0.0159185</td><td style=\"text-align: right;\"> 0.00211113 </td><td style=\"text-align: right;\">-0.0533299 </td><td style=\"text-align: right;\"> 0.0729002 </td><td style=\"text-align: right;\"> 0.0210282 </td><td style=\"text-align: right;\"> 0.00119551</td><td style=\"text-align: right;\">-0.0201371</td><td style=\"text-align: right;\">-0.0440548 </td><td style=\"text-align: right;\"> 0.0184175</td><td style=\"text-align: right;\">-0.0790562 </td><td style=\"text-align: right;\"> 0.115959 </td><td style=\"text-align: right;\"> 0.103089 </td><td style=\"text-align: right;\">-0.0608511 </td><td style=\"text-align: right;\">-0.120374 </td><td style=\"text-align: right;\"> 0.0461641 </td><td style=\"text-align: right;\">-0.0482073</td></tr>\n",
              "<tr><td>art    </td><td style=\"text-align: right;\"> 0.00267304 </td><td style=\"text-align: right;\">-0.0665732 </td><td style=\"text-align: right;\">-0.04131   </td><td style=\"text-align: right;\">0.106319  </td><td style=\"text-align: right;\">-0.020203  </td><td style=\"text-align: right;\">-0.0179051 </td><td style=\"text-align: right;\"> 0.0279492</td><td style=\"text-align: right;\">-0.0482988 </td><td style=\"text-align: right;\">-0.0625039</td><td style=\"text-align: right;\">-0.0543804 </td><td style=\"text-align: right;\"> 0.00635633</td><td style=\"text-align: right;\">-0.0613543 </td><td style=\"text-align: right;\">-0.00720317 </td><td style=\"text-align: right;\">-0.0225501  </td><td style=\"text-align: right;\">-0.0136065 </td><td style=\"text-align: right;\">-0.0398374 </td><td style=\"text-align: right;\">-0.0537354</td><td style=\"text-align: right;\"> 0.0134713</td><td style=\"text-align: right;\">-0.0283964 </td><td style=\"text-align: right;\">-0.0238038 </td><td style=\"text-align: right;\"> 0.052176  </td><td style=\"text-align: right;\">-0.0239816 </td><td style=\"text-align: right;\"> 0.046564 </td><td style=\"text-align: right;\">0.1139   </td><td style=\"text-align: right;\">0.0450874</td><td style=\"text-align: right;\"> 0.0422286 </td><td style=\"text-align: right;\"> 0.0243734 </td><td style=\"text-align: right;\"> 0.0431936</td><td style=\"text-align: right;\"> 0.0164154  </td><td style=\"text-align: right;\">-0.0475246 </td><td style=\"text-align: right;\">-0.029025  </td><td style=\"text-align: right;\"> 0.0765807 </td><td style=\"text-align: right;\">-0.0116051  </td><td style=\"text-align: right;\"> 0.03633    </td><td style=\"text-align: right;\"> 0.0369439 </td><td style=\"text-align: right;\">-0.017456  </td><td style=\"text-align: right;\">-0.0507042</td><td style=\"text-align: right;\">0.170698 </td><td style=\"text-align: right;\"> 0.0506536</td><td style=\"text-align: right;\">-0.0523512 </td><td style=\"text-align: right;\">-0.117474 </td><td style=\"text-align: right;\"> 0.0233163 </td><td style=\"text-align: right;\"> 0.00506786</td><td style=\"text-align: right;\">-0.0163302 </td><td style=\"text-align: right;\"> 0.0346135  </td><td style=\"text-align: right;\"> 0.0106447 </td><td style=\"text-align: right;\"> 0.0284129 </td><td style=\"text-align: right;\"> 0.0746068</td><td style=\"text-align: right;\">-0.015455 </td><td style=\"text-align: right;\">0.141357 </td><td style=\"text-align: right;\">-0.0291765 </td><td style=\"text-align: right;\">-0.00421653</td><td style=\"text-align: right;\">-0.038259  </td><td style=\"text-align: right;\"> 0.00240013</td><td style=\"text-align: right;\"> 0.0176956 </td><td style=\"text-align: right;\">-0.00896232 </td><td style=\"text-align: right;\"> 0.103992</td><td style=\"text-align: right;\">-0.056991 </td><td style=\"text-align: right;\">-0.0148425 </td><td style=\"text-align: right;\"> 0.0557413</td><td style=\"text-align: right;\">-0.0934286 </td><td style=\"text-align: right;\">-0.0407287 </td><td style=\"text-align: right;\">0.0879067</td><td style=\"text-align: right;\"> 0.0369824 </td><td style=\"text-align: right;\"> 0.0218813</td><td style=\"text-align: right;\">-0.0303927 </td><td style=\"text-align: right;\">-0.0086862</td><td style=\"text-align: right;\"> 0.0296566</td><td style=\"text-align: right;\"> 0.0367002</td><td style=\"text-align: right;\"> 0.0239214 </td><td style=\"text-align: right;\">-0.0812828</td><td style=\"text-align: right;\"> 0.00790756</td><td style=\"text-align: right;\"> 0.00803259</td><td style=\"text-align: right;\">-0.0255509 </td><td style=\"text-align: right;\">-0.0519444 </td><td style=\"text-align: right;\">-0.0560564</td><td style=\"text-align: right;\"> 0.0535718 </td><td style=\"text-align: right;\">-0.0317264</td><td style=\"text-align: right;\"> 0.00150425</td><td style=\"text-align: right;\">-0.0288668</td><td style=\"text-align: right;\">-0.0227347  </td><td style=\"text-align: right;\">-0.023604 </td><td style=\"text-align: right;\">-0.0215037 </td><td style=\"text-align: right;\">-0.0777928</td><td style=\"text-align: right;\">-0.0279603</td><td style=\"text-align: right;\"> 0.00667829 </td><td style=\"text-align: right;\">-0.00841454</td><td style=\"text-align: right;\"> 0.00831854</td><td style=\"text-align: right;\"> 0.0703379 </td><td style=\"text-align: right;\"> 0.0222596 </td><td style=\"text-align: right;\"> 0.0148389</td><td style=\"text-align: right;\">-0.0657165 </td><td style=\"text-align: right;\"> 0.0304189</td><td style=\"text-align: right;\">-0.00216473</td><td style=\"text-align: right;\"> 0.0162274</td><td style=\"text-align: right;\"> 0.0497487</td><td style=\"text-align: right;\">-0.013083  </td><td style=\"text-align: right;\">-0.0231493</td><td style=\"text-align: right;\">-0.0336013 </td><td style=\"text-align: right;\">-0.0488103</td></tr>\n",
              "<tr><td>jazz   </td><td style=\"text-align: right;\"> 0.094367   </td><td style=\"text-align: right;\">-0.0164434 </td><td style=\"text-align: right;\">-0.00425508</td><td style=\"text-align: right;\">0.091381  </td><td style=\"text-align: right;\"> 0.0340237 </td><td style=\"text-align: right;\"> 0.0179852 </td><td style=\"text-align: right;\"> 0.002691 </td><td style=\"text-align: right;\"> 0.0428475 </td><td style=\"text-align: right;\">-0.0373914</td><td style=\"text-align: right;\">-0.00457433</td><td style=\"text-align: right;\">-0.0283751 </td><td style=\"text-align: right;\">-0.062077  </td><td style=\"text-align: right;\">-0.114955   </td><td style=\"text-align: right;\">-0.0201123  </td><td style=\"text-align: right;\">-0.0124645 </td><td style=\"text-align: right;\">-0.0737699 </td><td style=\"text-align: right;\">-0.0214619</td><td style=\"text-align: right;\">-0.0948363</td><td style=\"text-align: right;\">-0.0134809 </td><td style=\"text-align: right;\">-0.0652602 </td><td style=\"text-align: right;\"> 0.156543  </td><td style=\"text-align: right;\"> 0.0253972 </td><td style=\"text-align: right;\"> 0.110546 </td><td style=\"text-align: right;\">0.167204 </td><td style=\"text-align: right;\">0.0190626</td><td style=\"text-align: right;\"> 0.00421597</td><td style=\"text-align: right;\"> 0.0445217 </td><td style=\"text-align: right;\">-0.0359579</td><td style=\"text-align: right;\"> 0.032956   </td><td style=\"text-align: right;\">-0.0137119 </td><td style=\"text-align: right;\">-0.0630952 </td><td style=\"text-align: right;\"> 0.00662584</td><td style=\"text-align: right;\"> 0.0105742  </td><td style=\"text-align: right;\"> 0.14733    </td><td style=\"text-align: right;\"> 0.0634779 </td><td style=\"text-align: right;\">-0.0723457 </td><td style=\"text-align: right;\">-0.0681632</td><td style=\"text-align: right;\">0.0817324</td><td style=\"text-align: right;\">-0.0151484</td><td style=\"text-align: right;\">-0.0911507 </td><td style=\"text-align: right;\">-0.0946061</td><td style=\"text-align: right;\"> 0.046589  </td><td style=\"text-align: right;\"> 0.086482  </td><td style=\"text-align: right;\">-0.0482319 </td><td style=\"text-align: right;\">-0.0356857  </td><td style=\"text-align: right;\">-0.00706759</td><td style=\"text-align: right;\"> 0.00952313</td><td style=\"text-align: right;\">-0.010641 </td><td style=\"text-align: right;\"> 0.0229805</td><td style=\"text-align: right;\">0.0843624</td><td style=\"text-align: right;\"> 0.0805931 </td><td style=\"text-align: right;\"> 0.0290694 </td><td style=\"text-align: right;\"> 0.0375185 </td><td style=\"text-align: right;\">-0.0153256 </td><td style=\"text-align: right;\">-0.049085  </td><td style=\"text-align: right;\"> 0.0153125  </td><td style=\"text-align: right;\">-0.100997</td><td style=\"text-align: right;\">-0.0829965</td><td style=\"text-align: right;\">-0.0268186 </td><td style=\"text-align: right;\">-0.0463688</td><td style=\"text-align: right;\">-0.153928  </td><td style=\"text-align: right;\">-0.0412738 </td><td style=\"text-align: right;\">0.0510874</td><td style=\"text-align: right;\">-0.0144311 </td><td style=\"text-align: right;\">-0.0735649</td><td style=\"text-align: right;\">-0.0108417 </td><td style=\"text-align: right;\">-0.0364041</td><td style=\"text-align: right;\"> 0.0491438</td><td style=\"text-align: right;\">-0.0407301</td><td style=\"text-align: right;\">-0.00932291</td><td style=\"text-align: right;\">-0.0731619</td><td style=\"text-align: right;\">-0.00119044</td><td style=\"text-align: right;\"> 0.01268   </td><td style=\"text-align: right;\"> 0.0209363 </td><td style=\"text-align: right;\"> 0.00363174</td><td style=\"text-align: right;\"> 0.0053491</td><td style=\"text-align: right;\"> 0.107261  </td><td style=\"text-align: right;\">-0.08958  </td><td style=\"text-align: right;\"> 0.0125006 </td><td style=\"text-align: right;\">-0.0657544</td><td style=\"text-align: right;\">-0.0117549  </td><td style=\"text-align: right;\">-0.068888 </td><td style=\"text-align: right;\">-0.0234725 </td><td style=\"text-align: right;\">-0.154562 </td><td style=\"text-align: right;\"> 0.0475336</td><td style=\"text-align: right;\"> 0.042253   </td><td style=\"text-align: right;\">-0.0308291 </td><td style=\"text-align: right;\"> 0.0132433 </td><td style=\"text-align: right;\"> 0.0829499 </td><td style=\"text-align: right;\"> 0.010028  </td><td style=\"text-align: right;\"> 0.0171342</td><td style=\"text-align: right;\">-0.0399757 </td><td style=\"text-align: right;\"> 0.0219983</td><td style=\"text-align: right;\"> 0.0314112 </td><td style=\"text-align: right;\"> 0.0488512</td><td style=\"text-align: right;\"> 0.0500867</td><td style=\"text-align: right;\">-0.0124295 </td><td style=\"text-align: right;\"> 0.083588 </td><td style=\"text-align: right;\">-0.0194805 </td><td style=\"text-align: right;\">-0.0720731</td></tr>\n",
              "<tr><td>island </td><td style=\"text-align: right;\"> 0.0591997  </td><td style=\"text-align: right;\"> 0.0966788 </td><td style=\"text-align: right;\">-0.171216  </td><td style=\"text-align: right;\">0.0658911 </td><td style=\"text-align: right;\"> 0.0910532 </td><td style=\"text-align: right;\">-0.0153127 </td><td style=\"text-align: right;\"> 0.105429 </td><td style=\"text-align: right;\">-0.115083  </td><td style=\"text-align: right;\">-0.117497 </td><td style=\"text-align: right;\"> 0.0367323 </td><td style=\"text-align: right;\">-0.0594852 </td><td style=\"text-align: right;\">-0.0545135 </td><td style=\"text-align: right;\">-0.0519412  </td><td style=\"text-align: right;\">-0.136282   </td><td style=\"text-align: right;\">-0.0422958 </td><td style=\"text-align: right;\">-0.09763   </td><td style=\"text-align: right;\">-0.210124 </td><td style=\"text-align: right;\"> 0.0361328</td><td style=\"text-align: right;\"> 0.129165  </td><td style=\"text-align: right;\"> 0.0737948 </td><td style=\"text-align: right;\"> 0.0207558 </td><td style=\"text-align: right;\"> 0.0414762 </td><td style=\"text-align: right;\"> 0.0388831</td><td style=\"text-align: right;\">0.0186647</td><td style=\"text-align: right;\">0.108864 </td><td style=\"text-align: right;\"> 0.0331193 </td><td style=\"text-align: right;\"> 0.147349  </td><td style=\"text-align: right;\"> 0.0341958</td><td style=\"text-align: right;\">-0.0604979  </td><td style=\"text-align: right;\">-0.0145198 </td><td style=\"text-align: right;\"> 0.0438825 </td><td style=\"text-align: right;\"> 0.0274082 </td><td style=\"text-align: right;\"> 0.0476851  </td><td style=\"text-align: right;\">-0.115465   </td><td style=\"text-align: right;\">-0.00251676</td><td style=\"text-align: right;\">-0.0508551 </td><td style=\"text-align: right;\">-0.010972 </td><td style=\"text-align: right;\">0.22795  </td><td style=\"text-align: right;\">-0.0980449</td><td style=\"text-align: right;\">-0.14168   </td><td style=\"text-align: right;\">-0.0730723</td><td style=\"text-align: right;\">-0.0420003 </td><td style=\"text-align: right;\">-0.105214  </td><td style=\"text-align: right;\"> 0.0130982 </td><td style=\"text-align: right;\"> 0.0971387  </td><td style=\"text-align: right;\"> 0.0405893 </td><td style=\"text-align: right;\"> 0.162833  </td><td style=\"text-align: right;\"> 0.0404758</td><td style=\"text-align: right;\"> 0.0635495</td><td style=\"text-align: right;\">0.112124 </td><td style=\"text-align: right;\">-0.0295531 </td><td style=\"text-align: right;\">-0.00176705</td><td style=\"text-align: right;\">-0.16693   </td><td style=\"text-align: right;\">-0.037418  </td><td style=\"text-align: right;\"> 0.00713087</td><td style=\"text-align: right;\">-0.000990952</td><td style=\"text-align: right;\"> 0.133271</td><td style=\"text-align: right;\"> 0.0204404</td><td style=\"text-align: right;\"> 0.0900912 </td><td style=\"text-align: right;\"> 0.0850848</td><td style=\"text-align: right;\">-0.00860659</td><td style=\"text-align: right;\"> 0.0268897 </td><td style=\"text-align: right;\">0.108302 </td><td style=\"text-align: right;\">-0.00623404</td><td style=\"text-align: right;\"> 0.154269 </td><td style=\"text-align: right;\">-0.0998625 </td><td style=\"text-align: right;\">-0.201632 </td><td style=\"text-align: right;\"> 0.286092 </td><td style=\"text-align: right;\"> 0.105155 </td><td style=\"text-align: right;\"> 0.174338  </td><td style=\"text-align: right;\"> 0.0726373</td><td style=\"text-align: right;\">-0.0927705 </td><td style=\"text-align: right;\">-0.0907184 </td><td style=\"text-align: right;\">-0.0234208 </td><td style=\"text-align: right;\">-0.0257487 </td><td style=\"text-align: right;\">-0.0433893</td><td style=\"text-align: right;\">-0.030953  </td><td style=\"text-align: right;\">-0.0255419</td><td style=\"text-align: right;\">-0.123794  </td><td style=\"text-align: right;\">-0.0294703</td><td style=\"text-align: right;\"> 0.00369525 </td><td style=\"text-align: right;\">-0.0205809</td><td style=\"text-align: right;\">-0.0384589 </td><td style=\"text-align: right;\">-0.244597 </td><td style=\"text-align: right;\"> 0.11936  </td><td style=\"text-align: right;\"> 0.06286    </td><td style=\"text-align: right;\"> 0.131548  </td><td style=\"text-align: right;\"> 0.13227   </td><td style=\"text-align: right;\"> 0.00502394</td><td style=\"text-align: right;\"> 0.100592  </td><td style=\"text-align: right;\">-0.0510469</td><td style=\"text-align: right;\">-0.0836772 </td><td style=\"text-align: right;\"> 0.123835 </td><td style=\"text-align: right;\"> 0.00113022</td><td style=\"text-align: right;\">-0.073581 </td><td style=\"text-align: right;\">-0.0731677</td><td style=\"text-align: right;\"> 0.0301482 </td><td style=\"text-align: right;\"> 0.0259634</td><td style=\"text-align: right;\"> 0.0114132 </td><td style=\"text-align: right;\">-0.203344 </td></tr>\n",
              "<tr><td>cartoon</td><td style=\"text-align: right;\">-0.00506613 </td><td style=\"text-align: right;\">-0.0322949 </td><td style=\"text-align: right;\">-0.0242931 </td><td style=\"text-align: right;\">0.105222  </td><td style=\"text-align: right;\">-0.032881  </td><td style=\"text-align: right;\">-0.0235607 </td><td style=\"text-align: right;\"> 0.0352495</td><td style=\"text-align: right;\">-0.00841979</td><td style=\"text-align: right;\">-0.0546892</td><td style=\"text-align: right;\">-0.0248038 </td><td style=\"text-align: right;\">-0.064448  </td><td style=\"text-align: right;\"> 0.0289057 </td><td style=\"text-align: right;\">-0.00964264 </td><td style=\"text-align: right;\">-0.0303006  </td><td style=\"text-align: right;\">-0.0217771 </td><td style=\"text-align: right;\">-0.0132376 </td><td style=\"text-align: right;\">-0.0768884</td><td style=\"text-align: right;\"> 0.0519428</td><td style=\"text-align: right;\"> 0.0275484 </td><td style=\"text-align: right;\"> 0.0158152 </td><td style=\"text-align: right;\"> 0.0115363 </td><td style=\"text-align: right;\">-0.0154212 </td><td style=\"text-align: right;\"> 0.0347691</td><td style=\"text-align: right;\">0.114456 </td><td style=\"text-align: right;\">0.0189104</td><td style=\"text-align: right;\"> 0.043825  </td><td style=\"text-align: right;\"> 0.0668154 </td><td style=\"text-align: right;\"> 0.0243383</td><td style=\"text-align: right;\">-0.000937314</td><td style=\"text-align: right;\">-0.0370839 </td><td style=\"text-align: right;\">-0.0464085 </td><td style=\"text-align: right;\"> 0.0367435 </td><td style=\"text-align: right;\"> 0.0442252  </td><td style=\"text-align: right;\"> 0.00414769 </td><td style=\"text-align: right;\"> 0.0516119 </td><td style=\"text-align: right;\">-0.0546421 </td><td style=\"text-align: right;\">-0.0611695</td><td style=\"text-align: right;\">0.169097 </td><td style=\"text-align: right;\"> 0.024759 </td><td style=\"text-align: right;\">-0.0704299 </td><td style=\"text-align: right;\">-0.0943959</td><td style=\"text-align: right;\"> 0.026387  </td><td style=\"text-align: right;\">-0.0168409 </td><td style=\"text-align: right;\">-0.00346127</td><td style=\"text-align: right;\"> 0.00563922 </td><td style=\"text-align: right;\"> 0.0341518 </td><td style=\"text-align: right;\"> 0.0674191 </td><td style=\"text-align: right;\"> 0.0690666</td><td style=\"text-align: right;\">-0.0101999</td><td style=\"text-align: right;\">0.148341 </td><td style=\"text-align: right;\">-0.00352079</td><td style=\"text-align: right;\"> 0.00562569</td><td style=\"text-align: right;\">-0.00716163</td><td style=\"text-align: right;\">-0.0411073 </td><td style=\"text-align: right;\"> 0.0924193 </td><td style=\"text-align: right;\">-0.0453063  </td><td style=\"text-align: right;\"> 0.113676</td><td style=\"text-align: right;\">-0.072932 </td><td style=\"text-align: right;\">-0.0108405 </td><td style=\"text-align: right;\"> 0.0319604</td><td style=\"text-align: right;\">-0.115604  </td><td style=\"text-align: right;\">-0.00318691</td><td style=\"text-align: right;\">0.0893301</td><td style=\"text-align: right;\"> 0.00281016</td><td style=\"text-align: right;\"> 0.0184251</td><td style=\"text-align: right;\">-0.0548779 </td><td style=\"text-align: right;\">-0.0939766</td><td style=\"text-align: right;\"> 0.0668162</td><td style=\"text-align: right;\"> 0.048287 </td><td style=\"text-align: right;\"> 0.0522006 </td><td style=\"text-align: right;\">-0.0299973</td><td style=\"text-align: right;\">-0.0558568 </td><td style=\"text-align: right;\"> 0.0268112 </td><td style=\"text-align: right;\"> 0.0241438 </td><td style=\"text-align: right;\">-0.0340722 </td><td style=\"text-align: right;\">-0.0777941</td><td style=\"text-align: right;\">-0.00246127</td><td style=\"text-align: right;\">-0.0307424</td><td style=\"text-align: right;\">-0.0675015 </td><td style=\"text-align: right;\">-0.0705832</td><td style=\"text-align: right;\">-0.016343   </td><td style=\"text-align: right;\">-0.0508349</td><td style=\"text-align: right;\">-0.00158998</td><td style=\"text-align: right;\">-0.0964101</td><td style=\"text-align: right;\"> 0.0226271</td><td style=\"text-align: right;\"> 0.0173773  </td><td style=\"text-align: right;\"> 0.0161848 </td><td style=\"text-align: right;\"> 0.0203355 </td><td style=\"text-align: right;\"> 0.0309986 </td><td style=\"text-align: right;\"> 0.0194044 </td><td style=\"text-align: right;\">-0.0289403</td><td style=\"text-align: right;\">-0.015831  </td><td style=\"text-align: right;\"> 0.0572237</td><td style=\"text-align: right;\"> 0.0123993 </td><td style=\"text-align: right;\"> 0.0302475</td><td style=\"text-align: right;\"> 0.0903369</td><td style=\"text-align: right;\"> 0.0429153 </td><td style=\"text-align: right;\"> 0.0511302</td><td style=\"text-align: right;\">-0.0105076 </td><td style=\"text-align: right;\">-0.0957273</td></tr>\n",
              "<tr><td>bin    </td><td style=\"text-align: right;\">-0.000748816</td><td style=\"text-align: right;\">-0.0639233 </td><td style=\"text-align: right;\">-0.0238782 </td><td style=\"text-align: right;\">0.0278065 </td><td style=\"text-align: right;\">-0.0267113 </td><td style=\"text-align: right;\">-0.016621  </td><td style=\"text-align: right;\"> 0.0110104</td><td style=\"text-align: right;\"> 0.00446579</td><td style=\"text-align: right;\">-0.0505241</td><td style=\"text-align: right;\">-0.00288106</td><td style=\"text-align: right;\">-0.00219829</td><td style=\"text-align: right;\"> 0.0530349 </td><td style=\"text-align: right;\">-0.0338698  </td><td style=\"text-align: right;\">-0.0311746  </td><td style=\"text-align: right;\">-0.0341152 </td><td style=\"text-align: right;\"> 0.0217611 </td><td style=\"text-align: right;\">-0.0280714</td><td style=\"text-align: right;\"> 0.0295495</td><td style=\"text-align: right;\"> 0.0401309 </td><td style=\"text-align: right;\">-0.0136662 </td><td style=\"text-align: right;\">-0.00826514</td><td style=\"text-align: right;\">-0.041147  </td><td style=\"text-align: right;\"> 0.0186459</td><td style=\"text-align: right;\">0.119804 </td><td style=\"text-align: right;\">0.0360292</td><td style=\"text-align: right;\"> 0.0555642 </td><td style=\"text-align: right;\"> 0.0712292 </td><td style=\"text-align: right;\"> 0.014801 </td><td style=\"text-align: right;\"> 0.0295184  </td><td style=\"text-align: right;\">-0.00977297</td><td style=\"text-align: right;\">-0.0568748 </td><td style=\"text-align: right;\"> 0.0651416 </td><td style=\"text-align: right;\"> 0.0267331  </td><td style=\"text-align: right;\"> 0.0542422  </td><td style=\"text-align: right;\"> 0.0354271 </td><td style=\"text-align: right;\">-0.0530063 </td><td style=\"text-align: right;\">-0.071175 </td><td style=\"text-align: right;\">0.0899086</td><td style=\"text-align: right;\"> 0.0423756</td><td style=\"text-align: right;\">-0.0714948 </td><td style=\"text-align: right;\">-0.164561 </td><td style=\"text-align: right;\"> 0.0124605 </td><td style=\"text-align: right;\">-0.0292153 </td><td style=\"text-align: right;\">-0.0165148 </td><td style=\"text-align: right;\"> 0.00176622 </td><td style=\"text-align: right;\">-0.0338028 </td><td style=\"text-align: right;\"> 0.117862  </td><td style=\"text-align: right;\"> 0.0519432</td><td style=\"text-align: right;\"> 0.0245233</td><td style=\"text-align: right;\">0.104762 </td><td style=\"text-align: right;\"> 0.00290948</td><td style=\"text-align: right;\"> 0.0567837 </td><td style=\"text-align: right;\">-0.0401078 </td><td style=\"text-align: right;\">-0.0875585 </td><td style=\"text-align: right;\"> 0.079372  </td><td style=\"text-align: right;\">-0.0691201  </td><td style=\"text-align: right;\"> 0.154464</td><td style=\"text-align: right;\">-0.0480283</td><td style=\"text-align: right;\"> 0.00153459</td><td style=\"text-align: right;\">-0.0159259</td><td style=\"text-align: right;\">-0.133823  </td><td style=\"text-align: right;\"> 0.0761652 </td><td style=\"text-align: right;\">0.0584187</td><td style=\"text-align: right;\"> 0.0174774 </td><td style=\"text-align: right;\"> 0.0103188</td><td style=\"text-align: right;\">-0.0399658 </td><td style=\"text-align: right;\">-0.0422024</td><td style=\"text-align: right;\"> 0.0977358</td><td style=\"text-align: right;\"> 0.0678369</td><td style=\"text-align: right;\"> 0.0269144 </td><td style=\"text-align: right;\"> 0.0298565</td><td style=\"text-align: right;\">-0.0245978 </td><td style=\"text-align: right;\"> 0.0154497 </td><td style=\"text-align: right;\">-0.0170321 </td><td style=\"text-align: right;\">-0.0391463 </td><td style=\"text-align: right;\">-0.0838938</td><td style=\"text-align: right;\"> 0.0550602 </td><td style=\"text-align: right;\">-0.0109435</td><td style=\"text-align: right;\">-0.0902192 </td><td style=\"text-align: right;\">-0.0645394</td><td style=\"text-align: right;\"> 0.0322292  </td><td style=\"text-align: right;\"> 0.0228062</td><td style=\"text-align: right;\">-0.0387051 </td><td style=\"text-align: right;\">-0.0524289</td><td style=\"text-align: right;\"> 0.0358188</td><td style=\"text-align: right;\"> 0.0633893  </td><td style=\"text-align: right;\"> 0.0172147 </td><td style=\"text-align: right;\"> 0.0828431 </td><td style=\"text-align: right;\">-0.0031212 </td><td style=\"text-align: right;\"> 0.0129136 </td><td style=\"text-align: right;\">-0.0216968</td><td style=\"text-align: right;\">-0.0453488 </td><td style=\"text-align: right;\"> 0.0595337</td><td style=\"text-align: right;\"> 0.0130039 </td><td style=\"text-align: right;\"> 0.0216546</td><td style=\"text-align: right;\"> 0.0585135</td><td style=\"text-align: right;\"> 0.011639  </td><td style=\"text-align: right;\">-0.0288529</td><td style=\"text-align: right;\"> 0.0726907 </td><td style=\"text-align: right;\">-0.050126 </td></tr>\n",
              "<tr><td>bar    </td><td style=\"text-align: right;\"> 0.00759879 </td><td style=\"text-align: right;\">-0.00943048</td><td style=\"text-align: right;\">-0.0235482 </td><td style=\"text-align: right;\">0.00886211</td><td style=\"text-align: right;\">-0.00979817</td><td style=\"text-align: right;\">-0.0493498 </td><td style=\"text-align: right;\"> 0.0185388</td><td style=\"text-align: right;\">-0.0411621 </td><td style=\"text-align: right;\">-0.0764476</td><td style=\"text-align: right;\">-0.00859651</td><td style=\"text-align: right;\">-0.00589464</td><td style=\"text-align: right;\">-0.00770533</td><td style=\"text-align: right;\">-0.101353   </td><td style=\"text-align: right;\"> 0.00325631 </td><td style=\"text-align: right;\"> 0.00822684</td><td style=\"text-align: right;\">-0.0290376 </td><td style=\"text-align: right;\">-0.0278507</td><td style=\"text-align: right;\">-0.0121631</td><td style=\"text-align: right;\"> 0.0264343 </td><td style=\"text-align: right;\"> 0.0151216 </td><td style=\"text-align: right;\"> 0.00569113</td><td style=\"text-align: right;\"> 0.0396171 </td><td style=\"text-align: right;\"> 0.0503975</td><td style=\"text-align: right;\">0.0817817</td><td style=\"text-align: right;\">0.0538831</td><td style=\"text-align: right;\"> 0.0613924 </td><td style=\"text-align: right;\"> 0.0809764 </td><td style=\"text-align: right;\"> 0.0605375</td><td style=\"text-align: right;\"> 0.0354527  </td><td style=\"text-align: right;\">-0.00669742</td><td style=\"text-align: right;\">-0.017253  </td><td style=\"text-align: right;\"> 0.101603  </td><td style=\"text-align: right;\"> 0.0682718  </td><td style=\"text-align: right;\"> 0.0359392  </td><td style=\"text-align: right;\"> 0.0465817 </td><td style=\"text-align: right;\">-0.0197776 </td><td style=\"text-align: right;\">-0.0534154</td><td style=\"text-align: right;\">0.154532 </td><td style=\"text-align: right;\"> 0.0568639</td><td style=\"text-align: right;\">-0.0947655 </td><td style=\"text-align: right;\">-0.169524 </td><td style=\"text-align: right;\"> 0.0133614 </td><td style=\"text-align: right;\">-0.0410049 </td><td style=\"text-align: right;\">-0.067277  </td><td style=\"text-align: right;\"> 0.0154979  </td><td style=\"text-align: right;\"> 0.036493  </td><td style=\"text-align: right;\"> 0.101006  </td><td style=\"text-align: right;\"> 0.0725366</td><td style=\"text-align: right;\"> 0.0455046</td><td style=\"text-align: right;\">0.0869521</td><td style=\"text-align: right;\">-0.0182516 </td><td style=\"text-align: right;\">-0.00889554</td><td style=\"text-align: right;\">-0.107069  </td><td style=\"text-align: right;\">-0.0351236 </td><td style=\"text-align: right;\">-0.00182664</td><td style=\"text-align: right;\"> 0.0234616  </td><td style=\"text-align: right;\"> 0.113444</td><td style=\"text-align: right;\">-0.0719046</td><td style=\"text-align: right;\"> 0.0091206 </td><td style=\"text-align: right;\"> 0.0389207</td><td style=\"text-align: right;\">-0.0941993 </td><td style=\"text-align: right;\"> 0.0611564 </td><td style=\"text-align: right;\">0.0543528</td><td style=\"text-align: right;\">-0.0277754 </td><td style=\"text-align: right;\"> 0.0549959</td><td style=\"text-align: right;\">-0.0237219 </td><td style=\"text-align: right;\"> 0.0287099</td><td style=\"text-align: right;\"> 0.125579 </td><td style=\"text-align: right;\"> 0.0660052</td><td style=\"text-align: right;\"> 0.0769835 </td><td style=\"text-align: right;\"> 0.0275167</td><td style=\"text-align: right;\">-0.0156393 </td><td style=\"text-align: right;\"> 0.0253171 </td><td style=\"text-align: right;\">-0.0195047 </td><td style=\"text-align: right;\">-0.0289987 </td><td style=\"text-align: right;\">-0.102837 </td><td style=\"text-align: right;\"> 0.039809  </td><td style=\"text-align: right;\">-0.0524475</td><td style=\"text-align: right;\">-0.0567723 </td><td style=\"text-align: right;\">-0.039511 </td><td style=\"text-align: right;\">-0.000257553</td><td style=\"text-align: right;\"> 0.0341801</td><td style=\"text-align: right;\">-0.0475939 </td><td style=\"text-align: right;\">-0.0967271</td><td style=\"text-align: right;\"> 0.015005 </td><td style=\"text-align: right;\"> 0.0471769  </td><td style=\"text-align: right;\"> 0.027511  </td><td style=\"text-align: right;\"> 0.0953869 </td><td style=\"text-align: right;\"> 0.0472877 </td><td style=\"text-align: right;\"> 0.0215376 </td><td style=\"text-align: right;\"> 0.0145402</td><td style=\"text-align: right;\">-0.0542452 </td><td style=\"text-align: right;\"> 0.0733955</td><td style=\"text-align: right;\">-0.0598085 </td><td style=\"text-align: right;\"> 0.0184639</td><td style=\"text-align: right;\"> 0.0485933</td><td style=\"text-align: right;\">-0.0219463 </td><td style=\"text-align: right;\">-0.0970614</td><td style=\"text-align: right;\"> 0.0149582 </td><td style=\"text-align: right;\">-0.0480332</td></tr>\n",
              "<tr><td>plane  </td><td style=\"text-align: right;\">-0.0163094  </td><td style=\"text-align: right;\">-0.0396169 </td><td style=\"text-align: right;\"> 0.0229291 </td><td style=\"text-align: right;\">0.0748001 </td><td style=\"text-align: right;\">-0.00330152</td><td style=\"text-align: right;\">-0.00882534</td><td style=\"text-align: right;\">-0.0623089</td><td style=\"text-align: right;\"> 0.0393223 </td><td style=\"text-align: right;\"> 0.0115891</td><td style=\"text-align: right;\">-0.117243  </td><td style=\"text-align: right;\"> 0.0194441 </td><td style=\"text-align: right;\"> 0.0646732 </td><td style=\"text-align: right;\">-0.109935   </td><td style=\"text-align: right;\"> 0.000285611</td><td style=\"text-align: right;\"> 0.0328287 </td><td style=\"text-align: right;\">-0.00511233</td><td style=\"text-align: right;\"> 0.0305055</td><td style=\"text-align: right;\">-0.0501513</td><td style=\"text-align: right;\">-0.0551129 </td><td style=\"text-align: right;\"> 0.00924497</td><td style=\"text-align: right;\"> 0.102302  </td><td style=\"text-align: right;\">-0.0123922 </td><td style=\"text-align: right;\"> 0.0736726</td><td style=\"text-align: right;\">0.130438 </td><td style=\"text-align: right;\">0.0401517</td><td style=\"text-align: right;\">-0.0184444 </td><td style=\"text-align: right;\"> 0.122366  </td><td style=\"text-align: right;\"> 0.0377779</td><td style=\"text-align: right;\"> 0.0316238  </td><td style=\"text-align: right;\">-0.0178628 </td><td style=\"text-align: right;\">-0.115372  </td><td style=\"text-align: right;\">-0.0678235 </td><td style=\"text-align: right;\">-0.0327502  </td><td style=\"text-align: right;\"> 0.117334   </td><td style=\"text-align: right;\"> 0.0970604 </td><td style=\"text-align: right;\"> 0.00816421</td><td style=\"text-align: right;\">-0.0632222</td><td style=\"text-align: right;\">0.103879 </td><td style=\"text-align: right;\"> 0.0875816</td><td style=\"text-align: right;\"> 0.0340821 </td><td style=\"text-align: right;\"> 0.0672702</td><td style=\"text-align: right;\"> 0.0978035 </td><td style=\"text-align: right;\"> 0.0479508 </td><td style=\"text-align: right;\">-0.0658949 </td><td style=\"text-align: right;\">-0.0789027  </td><td style=\"text-align: right;\"> 0.0562796 </td><td style=\"text-align: right;\">-0.0727417 </td><td style=\"text-align: right;\"> 0.0735703</td><td style=\"text-align: right;\">-0.0203942</td><td style=\"text-align: right;\">0.0958747</td><td style=\"text-align: right;\">-0.0202896 </td><td style=\"text-align: right;\"> 0.00950694</td><td style=\"text-align: right;\"> 0.0290552 </td><td style=\"text-align: right;\">-0.00186582</td><td style=\"text-align: right;\"> 0.00959603</td><td style=\"text-align: right;\">-0.126346   </td><td style=\"text-align: right;\">-0.03636 </td><td style=\"text-align: right;\">-0.0696554</td><td style=\"text-align: right;\">-0.0496151 </td><td style=\"text-align: right;\"> 0.119452 </td><td style=\"text-align: right;\">-0.10769   </td><td style=\"text-align: right;\">-0.164753  </td><td style=\"text-align: right;\">0.0265219</td><td style=\"text-align: right;\"> 0.00682843</td><td style=\"text-align: right;\">-0.0148186</td><td style=\"text-align: right;\">-0.0175563 </td><td style=\"text-align: right;\"> 0.0585798</td><td style=\"text-align: right;\">-0.0509525</td><td style=\"text-align: right;\"> 0.0824209</td><td style=\"text-align: right;\">-0.0147849 </td><td style=\"text-align: right;\">-0.0898657</td><td style=\"text-align: right;\"> 0.0666811 </td><td style=\"text-align: right;\"> 0.020602  </td><td style=\"text-align: right;\"> 0.00889735</td><td style=\"text-align: right;\">-0.00205604</td><td style=\"text-align: right;\"> 0.0340159</td><td style=\"text-align: right;\">-0.0476394 </td><td style=\"text-align: right;\"> 0.0210654</td><td style=\"text-align: right;\"> 0.00271555</td><td style=\"text-align: right;\">-0.0276721</td><td style=\"text-align: right;\">-0.0172027  </td><td style=\"text-align: right;\">-0.100746 </td><td style=\"text-align: right;\">-0.0625736 </td><td style=\"text-align: right;\">-0.047089 </td><td style=\"text-align: right;\">-0.0360102</td><td style=\"text-align: right;\"> 0.0193714  </td><td style=\"text-align: right;\">-0.0252152 </td><td style=\"text-align: right;\">-0.0676286 </td><td style=\"text-align: right;\"> 0.153699  </td><td style=\"text-align: right;\"> 0.0601827 </td><td style=\"text-align: right;\"> 0.0309515</td><td style=\"text-align: right;\">-0.0550803 </td><td style=\"text-align: right;\"> 0.108831 </td><td style=\"text-align: right;\"> 0.0910397 </td><td style=\"text-align: right;\">-0.0654174</td><td style=\"text-align: right;\"> 0.0756566</td><td style=\"text-align: right;\"> 0.068964  </td><td style=\"text-align: right;\"> 0.0745131</td><td style=\"text-align: right;\">-0.143137  </td><td style=\"text-align: right;\">-0.0165851</td></tr>\n",
              "</tbody>\n",
              "</table>"
            ]
          },
          "metadata": {
            "tags": []
          }
        },
        {
          "output_type": "execute_result",
          "data": {
            "text/plain": [
              ""
            ]
          },
          "metadata": {
            "tags": []
          },
          "execution_count": 185
        }
      ]
    },
    {
      "cell_type": "code",
      "metadata": {
        "id": "QaT6GiwxQ6gi"
      },
      "source": [
        "\n",
        "from h2o.estimators import H2OKMeansEstimator\n",
        "\n",
        "kmeans = H2OKMeansEstimator(model_id = \"word_segments.hex\",\n",
        "                            estimate_k = True, k = 2, # Max number of clusters\n",
        "                            seed = 1234)"
      ],
      "execution_count": 186,
      "outputs": []
    },
    {
      "cell_type": "code",
      "metadata": {
        "id": "RebltoqaQ6cD",
        "outputId": "ab6ea137-9ed4-49a7-d455-f02c54541f52",
        "colab": {
          "base_uri": "https://localhost:8080/"
        }
      },
      "source": [
        "x = list(set(word_embeddings.col_names) - set([\"Word\"]))\n",
        "kmeans.train(x = x, training_frame = word_embeddings)"
      ],
      "execution_count": 187,
      "outputs": [
        {
          "output_type": "stream",
          "text": [
            "kmeans Model Build progress: |████████████████████████████████████████████| 100%\n"
          ],
          "name": "stdout"
        }
      ]
    },
    {
      "cell_type": "code",
      "metadata": {
        "id": "kHpNeVwdRqX8",
        "outputId": "a6766f2e-45ca-4dd7-f78b-0aa37c95df8c",
        "colab": {
          "base_uri": "https://localhost:8080/",
          "height": 145
        }
      },
      "source": [
        "# Clusters\n",
        "kmeans.centroid_stats()"
      ],
      "execution_count": 188,
      "outputs": [
        {
          "output_type": "stream",
          "text": [
            "\n",
            "Centroid Statistics: \n"
          ],
          "name": "stdout"
        },
        {
          "output_type": "display_data",
          "data": {
            "text/html": [
              "<div>\n",
              "<style scoped>\n",
              "    .dataframe tbody tr th:only-of-type {\n",
              "        vertical-align: middle;\n",
              "    }\n",
              "\n",
              "    .dataframe tbody tr th {\n",
              "        vertical-align: top;\n",
              "    }\n",
              "\n",
              "    .dataframe thead th {\n",
              "        text-align: right;\n",
              "    }\n",
              "</style>\n",
              "<table border=\"1\" class=\"dataframe\">\n",
              "  <thead>\n",
              "    <tr style=\"text-align: right;\">\n",
              "      <th></th>\n",
              "      <th></th>\n",
              "      <th>centroid</th>\n",
              "      <th>size</th>\n",
              "      <th>within_cluster_sum_of_squares</th>\n",
              "    </tr>\n",
              "  </thead>\n",
              "  <tbody>\n",
              "    <tr>\n",
              "      <th>0</th>\n",
              "      <td></td>\n",
              "      <td>1.0</td>\n",
              "      <td>1159.0</td>\n",
              "      <td>62365.462301</td>\n",
              "    </tr>\n",
              "    <tr>\n",
              "      <th>1</th>\n",
              "      <td></td>\n",
              "      <td>2.0</td>\n",
              "      <td>247.0</td>\n",
              "      <td>50868.879016</td>\n",
              "    </tr>\n",
              "  </tbody>\n",
              "</table>\n",
              "</div>"
            ],
            "text/plain": [
              "     centroid    size  within_cluster_sum_of_squares\n",
              "0         1.0  1159.0                   62365.462301\n",
              "1         2.0   247.0                   50868.879016"
            ]
          },
          "metadata": {
            "tags": []
          }
        },
        {
          "output_type": "execute_result",
          "data": {
            "text/plain": [
              ""
            ]
          },
          "metadata": {
            "tags": []
          },
          "execution_count": 188
        }
      ]
    },
    {
      "cell_type": "code",
      "metadata": {
        "id": "ZwblgQVhRqTQ",
        "outputId": "0912d4b9-6dbe-4f81-d478-9e2da38d39f0",
        "colab": {
          "base_uri": "https://localhost:8080/",
          "height": 267
        }
      },
      "source": [
        "word_clusters = word_embeddings.cbind(kmeans.predict(word_embeddings))\n",
        "word_clusters[[\"Word\", \"predict\"]].head()"
      ],
      "execution_count": 189,
      "outputs": [
        {
          "output_type": "stream",
          "text": [
            "kmeans prediction progress: |█████████████████████████████████████████████| 100%\n"
          ],
          "name": "stdout"
        },
        {
          "output_type": "display_data",
          "data": {
            "text/html": [
              "<table>\n",
              "<thead>\n",
              "<tr><th>Word   </th><th style=\"text-align: right;\">  predict</th></tr>\n",
              "</thead>\n",
              "<tbody>\n",
              "<tr><td>ray    </td><td style=\"text-align: right;\">        0</td></tr>\n",
              "<tr><td>moral  </td><td style=\"text-align: right;\">        0</td></tr>\n",
              "<tr><td>wet    </td><td style=\"text-align: right;\">        0</td></tr>\n",
              "<tr><td>art    </td><td style=\"text-align: right;\">        0</td></tr>\n",
              "<tr><td>jazz   </td><td style=\"text-align: right;\">        0</td></tr>\n",
              "<tr><td>island </td><td style=\"text-align: right;\">        1</td></tr>\n",
              "<tr><td>cartoon</td><td style=\"text-align: right;\">        0</td></tr>\n",
              "<tr><td>bin    </td><td style=\"text-align: right;\">        0</td></tr>\n",
              "<tr><td>bar    </td><td style=\"text-align: right;\">        0</td></tr>\n",
              "<tr><td>plane  </td><td style=\"text-align: right;\">        0</td></tr>\n",
              "</tbody>\n",
              "</table>"
            ]
          },
          "metadata": {
            "tags": []
          }
        },
        {
          "output_type": "execute_result",
          "data": {
            "text/plain": [
              ""
            ]
          },
          "metadata": {
            "tags": []
          },
          "execution_count": 189
        }
      ]
    },
    {
      "cell_type": "code",
      "metadata": {
        "id": "qHb8gOtpRqRI"
      },
      "source": [
        "selected_words = ['2', 'get', 'ltgt',\n",
        " 'ok',  'dont', 'go','know', 'got', 'like', 'call' ,'free', 'txt','mobile',\n",
        " 'text', 'claim', 'stop', 'reply'] # топ 10 слов из каждой выборки (спам, не спам)\n",
        "selected_clusters = word_clusters[word_clusters[\"Word\"].isin(selected_words)]"
      ],
      "execution_count": 190,
      "outputs": []
    },
    {
      "cell_type": "code",
      "metadata": {
        "id": "G-jm03A-RqO3",
        "outputId": "914cc008-a4e9-4c63-ccef-e050165f1b55",
        "colab": {
          "base_uri": "https://localhost:8080/",
          "height": 221
        }
      },
      "source": [
        "print(\"Cluster 1\")\n",
        "print(selected_clusters[selected_clusters[\"predict\"] == 0, \"Word\"])"
      ],
      "execution_count": 191,
      "outputs": [
        {
          "output_type": "stream",
          "text": [
            "Cluster 1\n"
          ],
          "name": "stdout"
        },
        {
          "output_type": "display_data",
          "data": {
            "text/html": [
              "<table>\n",
              "<thead>\n",
              "<tr><th>Word  </th></tr>\n",
              "</thead>\n",
              "<tbody>\n",
              "<tr><td>like  </td></tr>\n",
              "<tr><td>ltgt  </td></tr>\n",
              "<tr><td>ok    </td></tr>\n",
              "<tr><td>dont  </td></tr>\n",
              "<tr><td>know  </td></tr>\n",
              "<tr><td>go    </td></tr>\n",
              "<tr><td>get   </td></tr>\n",
              "</tbody>\n",
              "</table>"
            ]
          },
          "metadata": {
            "tags": []
          }
        },
        {
          "output_type": "stream",
          "text": [
            "\n"
          ],
          "name": "stdout"
        }
      ]
    },
    {
      "cell_type": "code",
      "metadata": {
        "id": "9sUoDSwmRqML",
        "outputId": "42c0698b-3517-455a-a16c-ba18aa343b00",
        "colab": {
          "base_uri": "https://localhost:8080/",
          "height": 242
        }
      },
      "source": [
        "print(\"Cluster 2\")\n",
        "print(selected_clusters[selected_clusters[\"predict\"] == 1, \"Word\"])"
      ],
      "execution_count": 192,
      "outputs": [
        {
          "output_type": "stream",
          "text": [
            "Cluster 2\n"
          ],
          "name": "stdout"
        },
        {
          "output_type": "display_data",
          "data": {
            "text/html": [
              "<table>\n",
              "<thead>\n",
              "<tr><th>Word  </th></tr>\n",
              "</thead>\n",
              "<tbody>\n",
              "<tr><td>claim </td></tr>\n",
              "<tr><td>mobile</td></tr>\n",
              "<tr><td>reply </td></tr>\n",
              "<tr><td>stop  </td></tr>\n",
              "<tr><td>txt   </td></tr>\n",
              "<tr><td>text  </td></tr>\n",
              "<tr><td>free  </td></tr>\n",
              "<tr><td>call  </td></tr>\n",
              "</tbody>\n",
              "</table>"
            ]
          },
          "metadata": {
            "tags": []
          }
        },
        {
          "output_type": "stream",
          "text": [
            "\n"
          ],
          "name": "stdout"
        }
      ]
    },
    {
      "cell_type": "code",
      "metadata": {
        "id": "kzbA0M3pRqKB"
      },
      "source": [
        "# Calculate a vector for each review\n",
        "review_vecs = w2v_model.transform(words, aggregate_method = \"AVERAGE\")"
      ],
      "execution_count": 193,
      "outputs": []
    },
    {
      "cell_type": "code",
      "metadata": {
        "id": "4y-qZ6tmRqG-",
        "outputId": "d9ba7fe0-953e-4701-b48a-a2a88175a0e2",
        "colab": {
          "base_uri": "https://localhost:8080/"
        }
      },
      "source": [
        "review_vecs.dim"
      ],
      "execution_count": 194,
      "outputs": [
        {
          "output_type": "execute_result",
          "data": {
            "text/plain": [
              "[5572, 100]"
            ]
          },
          "metadata": {
            "tags": []
          },
          "execution_count": 194
        }
      ]
    },
    {
      "cell_type": "code",
      "metadata": {
        "id": "nTMcNiite9vD",
        "outputId": "2c12cdae-baac-4a63-a87e-79f016fe417b",
        "colab": {
          "base_uri": "https://localhost:8080/"
        }
      },
      "source": [
        "type(df)"
      ],
      "execution_count": 195,
      "outputs": [
        {
          "output_type": "execute_result",
          "data": {
            "text/plain": [
              "h2o.frame.H2OFrame"
            ]
          },
          "metadata": {
            "tags": []
          },
          "execution_count": 195
        }
      ]
    },
    {
      "cell_type": "code",
      "metadata": {
        "id": "HpekeLhmeCHV"
      },
      "source": [
        "# Add aggregated word embeddings \n",
        "ext_df = df.cbind(review_vecs)"
      ],
      "execution_count": 196,
      "outputs": []
    },
    {
      "cell_type": "code",
      "metadata": {
        "id": "WLzRZFo7eCFK"
      },
      "source": [
        "train,test  = ext_df.split_frame(ratios=[.8])"
      ],
      "execution_count": 197,
      "outputs": []
    },
    {
      "cell_type": "code",
      "metadata": {
        "id": "_RBmH5JjeB82",
        "outputId": "a25b6976-184a-44c9-a018-ce30141d805b",
        "colab": {
          "base_uri": "https://localhost:8080/"
        }
      },
      "source": [
        "train.dim"
      ],
      "execution_count": 198,
      "outputs": [
        {
          "output_type": "execute_result",
          "data": {
            "text/plain": [
              "[4456, 102]"
            ]
          },
          "metadata": {
            "tags": []
          },
          "execution_count": 198
        }
      ]
    },
    {
      "cell_type": "code",
      "metadata": {
        "id": "pL4aHGkLeB6a",
        "outputId": "62cdaec7-7118-4734-849c-b5e17edf0a14",
        "colab": {
          "base_uri": "https://localhost:8080/"
        }
      },
      "source": [
        "test.dim"
      ],
      "execution_count": 199,
      "outputs": [
        {
          "output_type": "execute_result",
          "data": {
            "text/plain": [
              "[1116, 102]"
            ]
          },
          "metadata": {
            "tags": []
          },
          "execution_count": 199
        }
      ]
    },
    {
      "cell_type": "code",
      "metadata": {
        "id": "gdxOQJrfeB3F",
        "outputId": "85245de3-54fb-44ba-e13b-92abd2f5f31d",
        "colab": {
          "base_uri": "https://localhost:8080/"
        }
      },
      "source": [
        "from h2o.estimators import H2OGradientBoostingEstimator\n",
        "predictors = review_vecs.names\n",
        "response = 'target'\n",
        "\n",
        "gbm_embeddings = H2OGradientBoostingEstimator(stopping_metric = \"AUC\", stopping_tolerance = 0.001,\n",
        "                                              stopping_rounds = 5, score_tree_interval = 10,\n",
        "                                              model_id = \"gbm_embeddings.hex\", ntrees = 1000,\n",
        "                                             )\n",
        "gbm_embeddings.train(x = predictors, y = response, \n",
        "                   training_frame = train, validation_frame = test\n",
        "                  )"
      ],
      "execution_count": 200,
      "outputs": [
        {
          "output_type": "stream",
          "text": [
            "gbm Model Build progress: |███████████████████████████████████████████████| 100%\n"
          ],
          "name": "stdout"
        }
      ]
    },
    {
      "cell_type": "code",
      "metadata": {
        "id": "IE1voa_QeBzv",
        "outputId": "16d14aec-5330-4501-bac2-e7b4d3b96e02",
        "colab": {
          "base_uri": "https://localhost:8080/",
          "height": 1000
        }
      },
      "source": [
        "gbm_embeddings.auc"
      ],
      "execution_count": 201,
      "outputs": [
        {
          "output_type": "stream",
          "text": [
            "Model Details\n",
            "=============\n",
            "H2OGradientBoostingEstimator :  Gradient Boosting Machine\n",
            "Model Key:  gbm_embeddings.hex\n",
            "\n",
            "\n",
            "Model Summary: \n"
          ],
          "name": "stdout"
        },
        {
          "output_type": "display_data",
          "data": {
            "text/html": [
              "<div>\n",
              "<style scoped>\n",
              "    .dataframe tbody tr th:only-of-type {\n",
              "        vertical-align: middle;\n",
              "    }\n",
              "\n",
              "    .dataframe tbody tr th {\n",
              "        vertical-align: top;\n",
              "    }\n",
              "\n",
              "    .dataframe thead th {\n",
              "        text-align: right;\n",
              "    }\n",
              "</style>\n",
              "<table border=\"1\" class=\"dataframe\">\n",
              "  <thead>\n",
              "    <tr style=\"text-align: right;\">\n",
              "      <th></th>\n",
              "      <th></th>\n",
              "      <th>number_of_trees</th>\n",
              "      <th>number_of_internal_trees</th>\n",
              "      <th>model_size_in_bytes</th>\n",
              "      <th>min_depth</th>\n",
              "      <th>max_depth</th>\n",
              "      <th>mean_depth</th>\n",
              "      <th>min_leaves</th>\n",
              "      <th>max_leaves</th>\n",
              "      <th>mean_leaves</th>\n",
              "    </tr>\n",
              "  </thead>\n",
              "  <tbody>\n",
              "    <tr>\n",
              "      <th>0</th>\n",
              "      <td></td>\n",
              "      <td>210.0</td>\n",
              "      <td>210.0</td>\n",
              "      <td>70548.0</td>\n",
              "      <td>5.0</td>\n",
              "      <td>5.0</td>\n",
              "      <td>5.0</td>\n",
              "      <td>10.0</td>\n",
              "      <td>30.0</td>\n",
              "      <td>22.009523</td>\n",
              "    </tr>\n",
              "  </tbody>\n",
              "</table>\n",
              "</div>"
            ],
            "text/plain": [
              "     number_of_trees  ...  max_leaves  mean_leaves\n",
              "0              210.0  ...        30.0    22.009523\n",
              "\n",
              "[1 rows x 10 columns]"
            ]
          },
          "metadata": {
            "tags": []
          }
        },
        {
          "output_type": "stream",
          "text": [
            "\n",
            "\n",
            "ModelMetricsBinomial: gbm\n",
            "** Reported on train data. **\n",
            "\n",
            "MSE: 0.00044275392279212667\n",
            "RMSE: 0.021041718627339515\n",
            "LogLoss: 0.0027384218667437475\n",
            "Mean Per-Class Error: 0.0016722408026755842\n",
            "AUC: 0.9999683583259213\n",
            "AUCPR: 0.9998108876513918\n",
            "Gini: 0.9999367166518427\n",
            "\n",
            "Confusion Matrix (Act/Pred) for max f1 @ threshold = 0.9486962478937142: \n"
          ],
          "name": "stdout"
        },
        {
          "output_type": "display_data",
          "data": {
            "text/html": [
              "<div>\n",
              "<style scoped>\n",
              "    .dataframe tbody tr th:only-of-type {\n",
              "        vertical-align: middle;\n",
              "    }\n",
              "\n",
              "    .dataframe tbody tr th {\n",
              "        vertical-align: top;\n",
              "    }\n",
              "\n",
              "    .dataframe thead th {\n",
              "        text-align: right;\n",
              "    }\n",
              "</style>\n",
              "<table border=\"1\" class=\"dataframe\">\n",
              "  <thead>\n",
              "    <tr style=\"text-align: right;\">\n",
              "      <th></th>\n",
              "      <th></th>\n",
              "      <th>0</th>\n",
              "      <th>1</th>\n",
              "      <th>Error</th>\n",
              "      <th>Rate</th>\n",
              "    </tr>\n",
              "  </thead>\n",
              "  <tbody>\n",
              "    <tr>\n",
              "      <th>0</th>\n",
              "      <td>0</td>\n",
              "      <td>3858.0</td>\n",
              "      <td>0.0</td>\n",
              "      <td>0.0</td>\n",
              "      <td>(0.0/3858.0)</td>\n",
              "    </tr>\n",
              "    <tr>\n",
              "      <th>1</th>\n",
              "      <td>1</td>\n",
              "      <td>2.0</td>\n",
              "      <td>596.0</td>\n",
              "      <td>0.0033</td>\n",
              "      <td>(2.0/598.0)</td>\n",
              "    </tr>\n",
              "    <tr>\n",
              "      <th>2</th>\n",
              "      <td>Total</td>\n",
              "      <td>3860.0</td>\n",
              "      <td>596.0</td>\n",
              "      <td>0.0004</td>\n",
              "      <td>(2.0/4456.0)</td>\n",
              "    </tr>\n",
              "  </tbody>\n",
              "</table>\n",
              "</div>"
            ],
            "text/plain": [
              "               0      1   Error           Rate\n",
              "0      0  3858.0    0.0     0.0   (0.0/3858.0)\n",
              "1      1     2.0  596.0  0.0033    (2.0/598.0)\n",
              "2  Total  3860.0  596.0  0.0004   (2.0/4456.0)"
            ]
          },
          "metadata": {
            "tags": []
          }
        },
        {
          "output_type": "stream",
          "text": [
            "\n",
            "Maximum Metrics: Maximum metrics at their respective thresholds\n"
          ],
          "name": "stdout"
        },
        {
          "output_type": "display_data",
          "data": {
            "text/html": [
              "<div>\n",
              "<style scoped>\n",
              "    .dataframe tbody tr th:only-of-type {\n",
              "        vertical-align: middle;\n",
              "    }\n",
              "\n",
              "    .dataframe tbody tr th {\n",
              "        vertical-align: top;\n",
              "    }\n",
              "\n",
              "    .dataframe thead th {\n",
              "        text-align: right;\n",
              "    }\n",
              "</style>\n",
              "<table border=\"1\" class=\"dataframe\">\n",
              "  <thead>\n",
              "    <tr style=\"text-align: right;\">\n",
              "      <th></th>\n",
              "      <th>metric</th>\n",
              "      <th>threshold</th>\n",
              "      <th>value</th>\n",
              "      <th>idx</th>\n",
              "    </tr>\n",
              "  </thead>\n",
              "  <tbody>\n",
              "    <tr>\n",
              "      <th>0</th>\n",
              "      <td>max f1</td>\n",
              "      <td>0.948696</td>\n",
              "      <td>0.998325</td>\n",
              "      <td>175.0</td>\n",
              "    </tr>\n",
              "    <tr>\n",
              "      <th>1</th>\n",
              "      <td>max f2</td>\n",
              "      <td>0.948696</td>\n",
              "      <td>0.997323</td>\n",
              "      <td>175.0</td>\n",
              "    </tr>\n",
              "    <tr>\n",
              "      <th>2</th>\n",
              "      <td>max f0point5</td>\n",
              "      <td>0.948696</td>\n",
              "      <td>0.999329</td>\n",
              "      <td>175.0</td>\n",
              "    </tr>\n",
              "    <tr>\n",
              "      <th>3</th>\n",
              "      <td>max accuracy</td>\n",
              "      <td>0.948696</td>\n",
              "      <td>0.999551</td>\n",
              "      <td>175.0</td>\n",
              "    </tr>\n",
              "    <tr>\n",
              "      <th>4</th>\n",
              "      <td>max precision</td>\n",
              "      <td>0.999947</td>\n",
              "      <td>1.000000</td>\n",
              "      <td>0.0</td>\n",
              "    </tr>\n",
              "    <tr>\n",
              "      <th>5</th>\n",
              "      <td>max recall</td>\n",
              "      <td>0.026688</td>\n",
              "      <td>1.000000</td>\n",
              "      <td>176.0</td>\n",
              "    </tr>\n",
              "    <tr>\n",
              "      <th>6</th>\n",
              "      <td>max specificity</td>\n",
              "      <td>0.999947</td>\n",
              "      <td>1.000000</td>\n",
              "      <td>0.0</td>\n",
              "    </tr>\n",
              "    <tr>\n",
              "      <th>7</th>\n",
              "      <td>max absolute_mcc</td>\n",
              "      <td>0.948696</td>\n",
              "      <td>0.998068</td>\n",
              "      <td>175.0</td>\n",
              "    </tr>\n",
              "    <tr>\n",
              "      <th>8</th>\n",
              "      <td>max min_per_class_accuracy</td>\n",
              "      <td>0.948696</td>\n",
              "      <td>0.996656</td>\n",
              "      <td>175.0</td>\n",
              "    </tr>\n",
              "    <tr>\n",
              "      <th>9</th>\n",
              "      <td>max mean_per_class_accuracy</td>\n",
              "      <td>0.948696</td>\n",
              "      <td>0.998328</td>\n",
              "      <td>175.0</td>\n",
              "    </tr>\n",
              "    <tr>\n",
              "      <th>10</th>\n",
              "      <td>max tns</td>\n",
              "      <td>0.999947</td>\n",
              "      <td>3858.000000</td>\n",
              "      <td>0.0</td>\n",
              "    </tr>\n",
              "    <tr>\n",
              "      <th>11</th>\n",
              "      <td>max fns</td>\n",
              "      <td>0.999947</td>\n",
              "      <td>594.000000</td>\n",
              "      <td>0.0</td>\n",
              "    </tr>\n",
              "    <tr>\n",
              "      <th>12</th>\n",
              "      <td>max fps</td>\n",
              "      <td>0.000013</td>\n",
              "      <td>3858.000000</td>\n",
              "      <td>399.0</td>\n",
              "    </tr>\n",
              "    <tr>\n",
              "      <th>13</th>\n",
              "      <td>max tps</td>\n",
              "      <td>0.026688</td>\n",
              "      <td>598.000000</td>\n",
              "      <td>176.0</td>\n",
              "    </tr>\n",
              "    <tr>\n",
              "      <th>14</th>\n",
              "      <td>max tnr</td>\n",
              "      <td>0.999947</td>\n",
              "      <td>1.000000</td>\n",
              "      <td>0.0</td>\n",
              "    </tr>\n",
              "    <tr>\n",
              "      <th>15</th>\n",
              "      <td>max fnr</td>\n",
              "      <td>0.999947</td>\n",
              "      <td>0.993311</td>\n",
              "      <td>0.0</td>\n",
              "    </tr>\n",
              "    <tr>\n",
              "      <th>16</th>\n",
              "      <td>max fpr</td>\n",
              "      <td>0.000013</td>\n",
              "      <td>1.000000</td>\n",
              "      <td>399.0</td>\n",
              "    </tr>\n",
              "    <tr>\n",
              "      <th>17</th>\n",
              "      <td>max tpr</td>\n",
              "      <td>0.026688</td>\n",
              "      <td>1.000000</td>\n",
              "      <td>176.0</td>\n",
              "    </tr>\n",
              "  </tbody>\n",
              "</table>\n",
              "</div>"
            ],
            "text/plain": [
              "                         metric  threshold        value    idx\n",
              "0                        max f1   0.948696     0.998325  175.0\n",
              "1                        max f2   0.948696     0.997323  175.0\n",
              "2                  max f0point5   0.948696     0.999329  175.0\n",
              "3                  max accuracy   0.948696     0.999551  175.0\n",
              "4                 max precision   0.999947     1.000000    0.0\n",
              "5                    max recall   0.026688     1.000000  176.0\n",
              "6               max specificity   0.999947     1.000000    0.0\n",
              "7              max absolute_mcc   0.948696     0.998068  175.0\n",
              "8    max min_per_class_accuracy   0.948696     0.996656  175.0\n",
              "9   max mean_per_class_accuracy   0.948696     0.998328  175.0\n",
              "10                      max tns   0.999947  3858.000000    0.0\n",
              "11                      max fns   0.999947   594.000000    0.0\n",
              "12                      max fps   0.000013  3858.000000  399.0\n",
              "13                      max tps   0.026688   598.000000  176.0\n",
              "14                      max tnr   0.999947     1.000000    0.0\n",
              "15                      max fnr   0.999947     0.993311    0.0\n",
              "16                      max fpr   0.000013     1.000000  399.0\n",
              "17                      max tpr   0.026688     1.000000  176.0"
            ]
          },
          "metadata": {
            "tags": []
          }
        },
        {
          "output_type": "stream",
          "text": [
            "\n",
            "Gains/Lift Table: Avg response rate: 13.42 %, avg score: 13.42 %\n"
          ],
          "name": "stdout"
        },
        {
          "output_type": "display_data",
          "data": {
            "text/html": [
              "<div>\n",
              "<style scoped>\n",
              "    .dataframe tbody tr th:only-of-type {\n",
              "        vertical-align: middle;\n",
              "    }\n",
              "\n",
              "    .dataframe tbody tr th {\n",
              "        vertical-align: top;\n",
              "    }\n",
              "\n",
              "    .dataframe thead th {\n",
              "        text-align: right;\n",
              "    }\n",
              "</style>\n",
              "<table border=\"1\" class=\"dataframe\">\n",
              "  <thead>\n",
              "    <tr style=\"text-align: right;\">\n",
              "      <th></th>\n",
              "      <th>group</th>\n",
              "      <th>cumulative_data_fraction</th>\n",
              "      <th>lower_threshold</th>\n",
              "      <th>lift</th>\n",
              "      <th>cumulative_lift</th>\n",
              "      <th>response_rate</th>\n",
              "      <th>score</th>\n",
              "      <th>cumulative_response_rate</th>\n",
              "      <th>cumulative_score</th>\n",
              "      <th>capture_rate</th>\n",
              "      <th>cumulative_capture_rate</th>\n",
              "      <th>gain</th>\n",
              "      <th>cumulative_gain</th>\n",
              "      <th>kolmogorov_smirnov</th>\n",
              "    </tr>\n",
              "  </thead>\n",
              "  <tbody>\n",
              "    <tr>\n",
              "      <th>0</th>\n",
              "      <td>1</td>\n",
              "      <td>0.010548</td>\n",
              "      <td>0.999873</td>\n",
              "      <td>7.451505</td>\n",
              "      <td>7.451505</td>\n",
              "      <td>1.000000</td>\n",
              "      <td>0.999902</td>\n",
              "      <td>1.000000</td>\n",
              "      <td>0.999902</td>\n",
              "      <td>0.078595</td>\n",
              "      <td>0.078595</td>\n",
              "      <td>645.150502</td>\n",
              "      <td>645.150502</td>\n",
              "      <td>0.078595</td>\n",
              "    </tr>\n",
              "    <tr>\n",
              "      <th>1</th>\n",
              "      <td>2</td>\n",
              "      <td>0.020197</td>\n",
              "      <td>0.999834</td>\n",
              "      <td>7.451505</td>\n",
              "      <td>7.451505</td>\n",
              "      <td>1.000000</td>\n",
              "      <td>0.999853</td>\n",
              "      <td>1.000000</td>\n",
              "      <td>0.999879</td>\n",
              "      <td>0.071906</td>\n",
              "      <td>0.150502</td>\n",
              "      <td>645.150502</td>\n",
              "      <td>645.150502</td>\n",
              "      <td>0.150502</td>\n",
              "    </tr>\n",
              "    <tr>\n",
              "      <th>2</th>\n",
              "      <td>3</td>\n",
              "      <td>0.030296</td>\n",
              "      <td>0.999780</td>\n",
              "      <td>7.451505</td>\n",
              "      <td>7.451505</td>\n",
              "      <td>1.000000</td>\n",
              "      <td>0.999803</td>\n",
              "      <td>1.000000</td>\n",
              "      <td>0.999853</td>\n",
              "      <td>0.075251</td>\n",
              "      <td>0.225753</td>\n",
              "      <td>645.150502</td>\n",
              "      <td>645.150502</td>\n",
              "      <td>0.225753</td>\n",
              "    </tr>\n",
              "    <tr>\n",
              "      <th>3</th>\n",
              "      <td>4</td>\n",
              "      <td>0.040395</td>\n",
              "      <td>0.999736</td>\n",
              "      <td>7.451505</td>\n",
              "      <td>7.451505</td>\n",
              "      <td>1.000000</td>\n",
              "      <td>0.999758</td>\n",
              "      <td>1.000000</td>\n",
              "      <td>0.999830</td>\n",
              "      <td>0.075251</td>\n",
              "      <td>0.301003</td>\n",
              "      <td>645.150502</td>\n",
              "      <td>645.150502</td>\n",
              "      <td>0.301003</td>\n",
              "    </tr>\n",
              "    <tr>\n",
              "      <th>4</th>\n",
              "      <td>5</td>\n",
              "      <td>0.050045</td>\n",
              "      <td>0.999658</td>\n",
              "      <td>7.451505</td>\n",
              "      <td>7.451505</td>\n",
              "      <td>1.000000</td>\n",
              "      <td>0.999701</td>\n",
              "      <td>1.000000</td>\n",
              "      <td>0.999805</td>\n",
              "      <td>0.071906</td>\n",
              "      <td>0.372910</td>\n",
              "      <td>645.150502</td>\n",
              "      <td>645.150502</td>\n",
              "      <td>0.372910</td>\n",
              "    </tr>\n",
              "    <tr>\n",
              "      <th>5</th>\n",
              "      <td>6</td>\n",
              "      <td>0.100539</td>\n",
              "      <td>0.998214</td>\n",
              "      <td>7.451505</td>\n",
              "      <td>7.451505</td>\n",
              "      <td>1.000000</td>\n",
              "      <td>0.999216</td>\n",
              "      <td>1.000000</td>\n",
              "      <td>0.999509</td>\n",
              "      <td>0.376254</td>\n",
              "      <td>0.749164</td>\n",
              "      <td>645.150502</td>\n",
              "      <td>645.150502</td>\n",
              "      <td>0.749164</td>\n",
              "    </tr>\n",
              "    <tr>\n",
              "      <th>6</th>\n",
              "      <td>7</td>\n",
              "      <td>0.150583</td>\n",
              "      <td>0.026688</td>\n",
              "      <td>5.012223</td>\n",
              "      <td>6.640835</td>\n",
              "      <td>0.672646</td>\n",
              "      <td>0.666990</td>\n",
              "      <td>0.891207</td>\n",
              "      <td>0.889000</td>\n",
              "      <td>0.250836</td>\n",
              "      <td>1.000000</td>\n",
              "      <td>401.222311</td>\n",
              "      <td>564.083458</td>\n",
              "      <td>0.981078</td>\n",
              "    </tr>\n",
              "    <tr>\n",
              "      <th>7</th>\n",
              "      <td>8</td>\n",
              "      <td>0.200404</td>\n",
              "      <td>0.001524</td>\n",
              "      <td>0.000000</td>\n",
              "      <td>4.989922</td>\n",
              "      <td>0.000000</td>\n",
              "      <td>0.003458</td>\n",
              "      <td>0.669653</td>\n",
              "      <td>0.668854</td>\n",
              "      <td>0.000000</td>\n",
              "      <td>1.000000</td>\n",
              "      <td>-100.000000</td>\n",
              "      <td>398.992161</td>\n",
              "      <td>0.923536</td>\n",
              "    </tr>\n",
              "    <tr>\n",
              "      <th>8</th>\n",
              "      <td>9</td>\n",
              "      <td>0.300045</td>\n",
              "      <td>0.000430</td>\n",
              "      <td>0.000000</td>\n",
              "      <td>3.332835</td>\n",
              "      <td>0.000000</td>\n",
              "      <td>0.000798</td>\n",
              "      <td>0.447270</td>\n",
              "      <td>0.447001</td>\n",
              "      <td>0.000000</td>\n",
              "      <td>1.000000</td>\n",
              "      <td>-100.000000</td>\n",
              "      <td>233.283470</td>\n",
              "      <td>0.808450</td>\n",
              "    </tr>\n",
              "    <tr>\n",
              "      <th>9</th>\n",
              "      <td>10</td>\n",
              "      <td>0.400135</td>\n",
              "      <td>0.000223</td>\n",
              "      <td>0.000000</td>\n",
              "      <td>2.499159</td>\n",
              "      <td>0.000000</td>\n",
              "      <td>0.000307</td>\n",
              "      <td>0.335390</td>\n",
              "      <td>0.335265</td>\n",
              "      <td>0.000000</td>\n",
              "      <td>1.000000</td>\n",
              "      <td>-100.000000</td>\n",
              "      <td>149.915872</td>\n",
              "      <td>0.692846</td>\n",
              "    </tr>\n",
              "    <tr>\n",
              "      <th>10</th>\n",
              "      <td>11</td>\n",
              "      <td>0.500000</td>\n",
              "      <td>0.000142</td>\n",
              "      <td>0.000000</td>\n",
              "      <td>2.000000</td>\n",
              "      <td>0.000000</td>\n",
              "      <td>0.000177</td>\n",
              "      <td>0.268402</td>\n",
              "      <td>0.268338</td>\n",
              "      <td>0.000000</td>\n",
              "      <td>1.000000</td>\n",
              "      <td>-100.000000</td>\n",
              "      <td>100.000000</td>\n",
              "      <td>0.577501</td>\n",
              "    </tr>\n",
              "    <tr>\n",
              "      <th>11</th>\n",
              "      <td>12</td>\n",
              "      <td>0.600090</td>\n",
              "      <td>0.000100</td>\n",
              "      <td>0.000000</td>\n",
              "      <td>1.666417</td>\n",
              "      <td>0.000000</td>\n",
              "      <td>0.000119</td>\n",
              "      <td>0.223635</td>\n",
              "      <td>0.223601</td>\n",
              "      <td>0.000000</td>\n",
              "      <td>1.000000</td>\n",
              "      <td>-100.000000</td>\n",
              "      <td>66.641735</td>\n",
              "      <td>0.461897</td>\n",
              "    </tr>\n",
              "    <tr>\n",
              "      <th>12</th>\n",
              "      <td>13</td>\n",
              "      <td>0.699955</td>\n",
              "      <td>0.000070</td>\n",
              "      <td>0.000000</td>\n",
              "      <td>1.428663</td>\n",
              "      <td>0.000000</td>\n",
              "      <td>0.000084</td>\n",
              "      <td>0.191728</td>\n",
              "      <td>0.191711</td>\n",
              "      <td>0.000000</td>\n",
              "      <td>1.000000</td>\n",
              "      <td>-100.000000</td>\n",
              "      <td>42.866303</td>\n",
              "      <td>0.346553</td>\n",
              "    </tr>\n",
              "    <tr>\n",
              "      <th>13</th>\n",
              "      <td>14</td>\n",
              "      <td>0.800045</td>\n",
              "      <td>0.000050</td>\n",
              "      <td>0.000000</td>\n",
              "      <td>1.249930</td>\n",
              "      <td>0.000000</td>\n",
              "      <td>0.000059</td>\n",
              "      <td>0.167742</td>\n",
              "      <td>0.167734</td>\n",
              "      <td>0.000000</td>\n",
              "      <td>1.000000</td>\n",
              "      <td>-100.000000</td>\n",
              "      <td>24.992987</td>\n",
              "      <td>0.230949</td>\n",
              "    </tr>\n",
              "    <tr>\n",
              "      <th>14</th>\n",
              "      <td>15</td>\n",
              "      <td>0.899910</td>\n",
              "      <td>0.000035</td>\n",
              "      <td>0.000000</td>\n",
              "      <td>1.111222</td>\n",
              "      <td>0.000000</td>\n",
              "      <td>0.000042</td>\n",
              "      <td>0.149127</td>\n",
              "      <td>0.149125</td>\n",
              "      <td>0.000000</td>\n",
              "      <td>1.000000</td>\n",
              "      <td>-100.000000</td>\n",
              "      <td>11.122195</td>\n",
              "      <td>0.115604</td>\n",
              "    </tr>\n",
              "    <tr>\n",
              "      <th>15</th>\n",
              "      <td>16</td>\n",
              "      <td>1.000000</td>\n",
              "      <td>0.000005</td>\n",
              "      <td>0.000000</td>\n",
              "      <td>1.000000</td>\n",
              "      <td>0.000000</td>\n",
              "      <td>0.000026</td>\n",
              "      <td>0.134201</td>\n",
              "      <td>0.134202</td>\n",
              "      <td>0.000000</td>\n",
              "      <td>1.000000</td>\n",
              "      <td>-100.000000</td>\n",
              "      <td>0.000000</td>\n",
              "      <td>0.000000</td>\n",
              "    </tr>\n",
              "  </tbody>\n",
              "</table>\n",
              "</div>"
            ],
            "text/plain": [
              "    group  cumulative_data_fraction  ...  cumulative_gain  kolmogorov_smirnov\n",
              "0       1                  0.010548  ...       645.150502            0.078595\n",
              "1       2                  0.020197  ...       645.150502            0.150502\n",
              "2       3                  0.030296  ...       645.150502            0.225753\n",
              "3       4                  0.040395  ...       645.150502            0.301003\n",
              "4       5                  0.050045  ...       645.150502            0.372910\n",
              "5       6                  0.100539  ...       645.150502            0.749164\n",
              "6       7                  0.150583  ...       564.083458            0.981078\n",
              "7       8                  0.200404  ...       398.992161            0.923536\n",
              "8       9                  0.300045  ...       233.283470            0.808450\n",
              "9      10                  0.400135  ...       149.915872            0.692846\n",
              "10     11                  0.500000  ...       100.000000            0.577501\n",
              "11     12                  0.600090  ...        66.641735            0.461897\n",
              "12     13                  0.699955  ...        42.866303            0.346553\n",
              "13     14                  0.800045  ...        24.992987            0.230949\n",
              "14     15                  0.899910  ...        11.122195            0.115604\n",
              "15     16                  1.000000  ...         0.000000            0.000000\n",
              "\n",
              "[16 rows x 14 columns]"
            ]
          },
          "metadata": {
            "tags": []
          }
        },
        {
          "output_type": "stream",
          "text": [
            "\n",
            "\n",
            "ModelMetricsBinomial: gbm\n",
            "** Reported on validation data. **\n",
            "\n",
            "MSE: 0.0205989038744632\n",
            "RMSE: 0.1435231823590294\n",
            "LogLoss: 0.08315715981020319\n",
            "Mean Per-Class Error: 0.03177335285911598\n",
            "AUC: 0.9917478120250133\n",
            "AUCPR: 0.971722238169234\n",
            "Gini: 0.9834956240500266\n",
            "\n",
            "Confusion Matrix (Act/Pred) for max f1 @ threshold = 0.8902982784340533: \n"
          ],
          "name": "stdout"
        },
        {
          "output_type": "display_data",
          "data": {
            "text/html": [
              "<div>\n",
              "<style scoped>\n",
              "    .dataframe tbody tr th:only-of-type {\n",
              "        vertical-align: middle;\n",
              "    }\n",
              "\n",
              "    .dataframe tbody tr th {\n",
              "        vertical-align: top;\n",
              "    }\n",
              "\n",
              "    .dataframe thead th {\n",
              "        text-align: right;\n",
              "    }\n",
              "</style>\n",
              "<table border=\"1\" class=\"dataframe\">\n",
              "  <thead>\n",
              "    <tr style=\"text-align: right;\">\n",
              "      <th></th>\n",
              "      <th></th>\n",
              "      <th>0</th>\n",
              "      <th>1</th>\n",
              "      <th>Error</th>\n",
              "      <th>Rate</th>\n",
              "    </tr>\n",
              "  </thead>\n",
              "  <tbody>\n",
              "    <tr>\n",
              "      <th>0</th>\n",
              "      <td>0</td>\n",
              "      <td>959.0</td>\n",
              "      <td>8.0</td>\n",
              "      <td>0.0083</td>\n",
              "      <td>(8.0/967.0)</td>\n",
              "    </tr>\n",
              "    <tr>\n",
              "      <th>1</th>\n",
              "      <td>1</td>\n",
              "      <td>15.0</td>\n",
              "      <td>134.0</td>\n",
              "      <td>0.1007</td>\n",
              "      <td>(15.0/149.0)</td>\n",
              "    </tr>\n",
              "    <tr>\n",
              "      <th>2</th>\n",
              "      <td>Total</td>\n",
              "      <td>974.0</td>\n",
              "      <td>142.0</td>\n",
              "      <td>0.0206</td>\n",
              "      <td>(23.0/1116.0)</td>\n",
              "    </tr>\n",
              "  </tbody>\n",
              "</table>\n",
              "</div>"
            ],
            "text/plain": [
              "              0      1   Error            Rate\n",
              "0      0  959.0    8.0  0.0083     (8.0/967.0)\n",
              "1      1   15.0  134.0  0.1007    (15.0/149.0)\n",
              "2  Total  974.0  142.0  0.0206   (23.0/1116.0)"
            ]
          },
          "metadata": {
            "tags": []
          }
        },
        {
          "output_type": "stream",
          "text": [
            "\n",
            "Maximum Metrics: Maximum metrics at their respective thresholds\n"
          ],
          "name": "stdout"
        },
        {
          "output_type": "display_data",
          "data": {
            "text/html": [
              "<div>\n",
              "<style scoped>\n",
              "    .dataframe tbody tr th:only-of-type {\n",
              "        vertical-align: middle;\n",
              "    }\n",
              "\n",
              "    .dataframe tbody tr th {\n",
              "        vertical-align: top;\n",
              "    }\n",
              "\n",
              "    .dataframe thead th {\n",
              "        text-align: right;\n",
              "    }\n",
              "</style>\n",
              "<table border=\"1\" class=\"dataframe\">\n",
              "  <thead>\n",
              "    <tr style=\"text-align: right;\">\n",
              "      <th></th>\n",
              "      <th>metric</th>\n",
              "      <th>threshold</th>\n",
              "      <th>value</th>\n",
              "      <th>idx</th>\n",
              "    </tr>\n",
              "  </thead>\n",
              "  <tbody>\n",
              "    <tr>\n",
              "      <th>0</th>\n",
              "      <td>max f1</td>\n",
              "      <td>0.890298</td>\n",
              "      <td>0.920962</td>\n",
              "      <td>101.0</td>\n",
              "    </tr>\n",
              "    <tr>\n",
              "      <th>1</th>\n",
              "      <td>max f2</td>\n",
              "      <td>0.085754</td>\n",
              "      <td>0.936281</td>\n",
              "      <td>132.0</td>\n",
              "    </tr>\n",
              "    <tr>\n",
              "      <th>2</th>\n",
              "      <td>max f0point5</td>\n",
              "      <td>0.985599</td>\n",
              "      <td>0.949464</td>\n",
              "      <td>85.0</td>\n",
              "    </tr>\n",
              "    <tr>\n",
              "      <th>3</th>\n",
              "      <td>max accuracy</td>\n",
              "      <td>0.954507</td>\n",
              "      <td>0.979391</td>\n",
              "      <td>95.0</td>\n",
              "    </tr>\n",
              "    <tr>\n",
              "      <th>4</th>\n",
              "      <td>max precision</td>\n",
              "      <td>0.999950</td>\n",
              "      <td>1.000000</td>\n",
              "      <td>0.0</td>\n",
              "    </tr>\n",
              "    <tr>\n",
              "      <th>5</th>\n",
              "      <td>max recall</td>\n",
              "      <td>0.000120</td>\n",
              "      <td>1.000000</td>\n",
              "      <td>348.0</td>\n",
              "    </tr>\n",
              "    <tr>\n",
              "      <th>6</th>\n",
              "      <td>max specificity</td>\n",
              "      <td>0.999950</td>\n",
              "      <td>1.000000</td>\n",
              "      <td>0.0</td>\n",
              "    </tr>\n",
              "    <tr>\n",
              "      <th>7</th>\n",
              "      <td>max absolute_mcc</td>\n",
              "      <td>0.890298</td>\n",
              "      <td>0.909468</td>\n",
              "      <td>101.0</td>\n",
              "    </tr>\n",
              "    <tr>\n",
              "      <th>8</th>\n",
              "      <td>max min_per_class_accuracy</td>\n",
              "      <td>0.085754</td>\n",
              "      <td>0.966443</td>\n",
              "      <td>132.0</td>\n",
              "    </tr>\n",
              "    <tr>\n",
              "      <th>9</th>\n",
              "      <td>max mean_per_class_accuracy</td>\n",
              "      <td>0.085754</td>\n",
              "      <td>0.968227</td>\n",
              "      <td>132.0</td>\n",
              "    </tr>\n",
              "    <tr>\n",
              "      <th>10</th>\n",
              "      <td>max tns</td>\n",
              "      <td>0.999950</td>\n",
              "      <td>967.000000</td>\n",
              "      <td>0.0</td>\n",
              "    </tr>\n",
              "    <tr>\n",
              "      <th>11</th>\n",
              "      <td>max fns</td>\n",
              "      <td>0.999950</td>\n",
              "      <td>147.000000</td>\n",
              "      <td>0.0</td>\n",
              "    </tr>\n",
              "    <tr>\n",
              "      <th>12</th>\n",
              "      <td>max fps</td>\n",
              "      <td>0.000008</td>\n",
              "      <td>967.000000</td>\n",
              "      <td>399.0</td>\n",
              "    </tr>\n",
              "    <tr>\n",
              "      <th>13</th>\n",
              "      <td>max tps</td>\n",
              "      <td>0.000120</td>\n",
              "      <td>149.000000</td>\n",
              "      <td>348.0</td>\n",
              "    </tr>\n",
              "    <tr>\n",
              "      <th>14</th>\n",
              "      <td>max tnr</td>\n",
              "      <td>0.999950</td>\n",
              "      <td>1.000000</td>\n",
              "      <td>0.0</td>\n",
              "    </tr>\n",
              "    <tr>\n",
              "      <th>15</th>\n",
              "      <td>max fnr</td>\n",
              "      <td>0.999950</td>\n",
              "      <td>0.986577</td>\n",
              "      <td>0.0</td>\n",
              "    </tr>\n",
              "    <tr>\n",
              "      <th>16</th>\n",
              "      <td>max fpr</td>\n",
              "      <td>0.000008</td>\n",
              "      <td>1.000000</td>\n",
              "      <td>399.0</td>\n",
              "    </tr>\n",
              "    <tr>\n",
              "      <th>17</th>\n",
              "      <td>max tpr</td>\n",
              "      <td>0.000120</td>\n",
              "      <td>1.000000</td>\n",
              "      <td>348.0</td>\n",
              "    </tr>\n",
              "  </tbody>\n",
              "</table>\n",
              "</div>"
            ],
            "text/plain": [
              "                         metric  threshold       value    idx\n",
              "0                        max f1   0.890298    0.920962  101.0\n",
              "1                        max f2   0.085754    0.936281  132.0\n",
              "2                  max f0point5   0.985599    0.949464   85.0\n",
              "3                  max accuracy   0.954507    0.979391   95.0\n",
              "4                 max precision   0.999950    1.000000    0.0\n",
              "5                    max recall   0.000120    1.000000  348.0\n",
              "6               max specificity   0.999950    1.000000    0.0\n",
              "7              max absolute_mcc   0.890298    0.909468  101.0\n",
              "8    max min_per_class_accuracy   0.085754    0.966443  132.0\n",
              "9   max mean_per_class_accuracy   0.085754    0.968227  132.0\n",
              "10                      max tns   0.999950  967.000000    0.0\n",
              "11                      max fns   0.999950  147.000000    0.0\n",
              "12                      max fps   0.000008  967.000000  399.0\n",
              "13                      max tps   0.000120  149.000000  348.0\n",
              "14                      max tnr   0.999950    1.000000    0.0\n",
              "15                      max fnr   0.999950    0.986577    0.0\n",
              "16                      max fpr   0.000008    1.000000  399.0\n",
              "17                      max tpr   0.000120    1.000000  348.0"
            ]
          },
          "metadata": {
            "tags": []
          }
        },
        {
          "output_type": "stream",
          "text": [
            "\n",
            "Gains/Lift Table: Avg response rate: 13.35 %, avg score: 14.05 %\n"
          ],
          "name": "stdout"
        },
        {
          "output_type": "display_data",
          "data": {
            "text/html": [
              "<div>\n",
              "<style scoped>\n",
              "    .dataframe tbody tr th:only-of-type {\n",
              "        vertical-align: middle;\n",
              "    }\n",
              "\n",
              "    .dataframe tbody tr th {\n",
              "        vertical-align: top;\n",
              "    }\n",
              "\n",
              "    .dataframe thead th {\n",
              "        text-align: right;\n",
              "    }\n",
              "</style>\n",
              "<table border=\"1\" class=\"dataframe\">\n",
              "  <thead>\n",
              "    <tr style=\"text-align: right;\">\n",
              "      <th></th>\n",
              "      <th>group</th>\n",
              "      <th>cumulative_data_fraction</th>\n",
              "      <th>lower_threshold</th>\n",
              "      <th>lift</th>\n",
              "      <th>cumulative_lift</th>\n",
              "      <th>response_rate</th>\n",
              "      <th>score</th>\n",
              "      <th>cumulative_response_rate</th>\n",
              "      <th>cumulative_score</th>\n",
              "      <th>capture_rate</th>\n",
              "      <th>cumulative_capture_rate</th>\n",
              "      <th>gain</th>\n",
              "      <th>cumulative_gain</th>\n",
              "      <th>kolmogorov_smirnov</th>\n",
              "    </tr>\n",
              "  </thead>\n",
              "  <tbody>\n",
              "    <tr>\n",
              "      <th>0</th>\n",
              "      <td>1</td>\n",
              "      <td>0.010753</td>\n",
              "      <td>0.999855</td>\n",
              "      <td>7.489933</td>\n",
              "      <td>7.489933</td>\n",
              "      <td>1.000000</td>\n",
              "      <td>0.999898</td>\n",
              "      <td>1.000000</td>\n",
              "      <td>0.999898</td>\n",
              "      <td>0.080537</td>\n",
              "      <td>0.080537</td>\n",
              "      <td>648.993289</td>\n",
              "      <td>648.993289</td>\n",
              "      <td>0.080537</td>\n",
              "    </tr>\n",
              "    <tr>\n",
              "      <th>1</th>\n",
              "      <td>2</td>\n",
              "      <td>0.020609</td>\n",
              "      <td>0.999820</td>\n",
              "      <td>7.489933</td>\n",
              "      <td>7.489933</td>\n",
              "      <td>1.000000</td>\n",
              "      <td>0.999838</td>\n",
              "      <td>1.000000</td>\n",
              "      <td>0.999870</td>\n",
              "      <td>0.073826</td>\n",
              "      <td>0.154362</td>\n",
              "      <td>648.993289</td>\n",
              "      <td>648.993289</td>\n",
              "      <td>0.154362</td>\n",
              "    </tr>\n",
              "    <tr>\n",
              "      <th>2</th>\n",
              "      <td>3</td>\n",
              "      <td>0.030466</td>\n",
              "      <td>0.999788</td>\n",
              "      <td>7.489933</td>\n",
              "      <td>7.489933</td>\n",
              "      <td>1.000000</td>\n",
              "      <td>0.999806</td>\n",
              "      <td>1.000000</td>\n",
              "      <td>0.999849</td>\n",
              "      <td>0.073826</td>\n",
              "      <td>0.228188</td>\n",
              "      <td>648.993289</td>\n",
              "      <td>648.993289</td>\n",
              "      <td>0.228188</td>\n",
              "    </tr>\n",
              "    <tr>\n",
              "      <th>3</th>\n",
              "      <td>4</td>\n",
              "      <td>0.040323</td>\n",
              "      <td>0.999724</td>\n",
              "      <td>7.489933</td>\n",
              "      <td>7.489933</td>\n",
              "      <td>1.000000</td>\n",
              "      <td>0.999747</td>\n",
              "      <td>1.000000</td>\n",
              "      <td>0.999824</td>\n",
              "      <td>0.073826</td>\n",
              "      <td>0.302013</td>\n",
              "      <td>648.993289</td>\n",
              "      <td>648.993289</td>\n",
              "      <td>0.302013</td>\n",
              "    </tr>\n",
              "    <tr>\n",
              "      <th>4</th>\n",
              "      <td>5</td>\n",
              "      <td>0.050179</td>\n",
              "      <td>0.999681</td>\n",
              "      <td>7.489933</td>\n",
              "      <td>7.489933</td>\n",
              "      <td>1.000000</td>\n",
              "      <td>0.999705</td>\n",
              "      <td>1.000000</td>\n",
              "      <td>0.999801</td>\n",
              "      <td>0.073826</td>\n",
              "      <td>0.375839</td>\n",
              "      <td>648.993289</td>\n",
              "      <td>648.993289</td>\n",
              "      <td>0.375839</td>\n",
              "    </tr>\n",
              "    <tr>\n",
              "      <th>5</th>\n",
              "      <td>6</td>\n",
              "      <td>0.100358</td>\n",
              "      <td>0.996114</td>\n",
              "      <td>7.489933</td>\n",
              "      <td>7.489933</td>\n",
              "      <td>1.000000</td>\n",
              "      <td>0.998753</td>\n",
              "      <td>1.000000</td>\n",
              "      <td>0.999277</td>\n",
              "      <td>0.375839</td>\n",
              "      <td>0.751678</td>\n",
              "      <td>648.993289</td>\n",
              "      <td>648.993289</td>\n",
              "      <td>0.751678</td>\n",
              "    </tr>\n",
              "    <tr>\n",
              "      <th>6</th>\n",
              "      <td>7</td>\n",
              "      <td>0.150538</td>\n",
              "      <td>0.138874</td>\n",
              "      <td>4.012464</td>\n",
              "      <td>6.330777</td>\n",
              "      <td>0.535714</td>\n",
              "      <td>0.763264</td>\n",
              "      <td>0.845238</td>\n",
              "      <td>0.920606</td>\n",
              "      <td>0.201342</td>\n",
              "      <td>0.953020</td>\n",
              "      <td>301.246405</td>\n",
              "      <td>533.077661</td>\n",
              "      <td>0.926133</td>\n",
              "    </tr>\n",
              "    <tr>\n",
              "      <th>7</th>\n",
              "      <td>8</td>\n",
              "      <td>0.200717</td>\n",
              "      <td>0.007161</td>\n",
              "      <td>0.534995</td>\n",
              "      <td>4.881831</td>\n",
              "      <td>0.071429</td>\n",
              "      <td>0.033264</td>\n",
              "      <td>0.651786</td>\n",
              "      <td>0.698771</td>\n",
              "      <td>0.026846</td>\n",
              "      <td>0.979866</td>\n",
              "      <td>-46.500479</td>\n",
              "      <td>388.183126</td>\n",
              "      <td>0.899204</td>\n",
              "    </tr>\n",
              "    <tr>\n",
              "      <th>8</th>\n",
              "      <td>9</td>\n",
              "      <td>0.300179</td>\n",
              "      <td>0.000616</td>\n",
              "      <td>0.134954</td>\n",
              "      <td>3.308985</td>\n",
              "      <td>0.018018</td>\n",
              "      <td>0.001913</td>\n",
              "      <td>0.441791</td>\n",
              "      <td>0.467872</td>\n",
              "      <td>0.013423</td>\n",
              "      <td>0.993289</td>\n",
              "      <td>-86.504625</td>\n",
              "      <td>230.898527</td>\n",
              "      <td>0.799907</td>\n",
              "    </tr>\n",
              "    <tr>\n",
              "      <th>9</th>\n",
              "      <td>10</td>\n",
              "      <td>0.400538</td>\n",
              "      <td>0.000278</td>\n",
              "      <td>0.000000</td>\n",
              "      <td>2.479888</td>\n",
              "      <td>0.000000</td>\n",
              "      <td>0.000401</td>\n",
              "      <td>0.331096</td>\n",
              "      <td>0.350743</td>\n",
              "      <td>0.000000</td>\n",
              "      <td>0.993289</td>\n",
              "      <td>-100.000000</td>\n",
              "      <td>147.988829</td>\n",
              "      <td>0.684085</td>\n",
              "    </tr>\n",
              "    <tr>\n",
              "      <th>10</th>\n",
              "      <td>11</td>\n",
              "      <td>0.500000</td>\n",
              "      <td>0.000157</td>\n",
              "      <td>0.000000</td>\n",
              "      <td>1.986577</td>\n",
              "      <td>0.000000</td>\n",
              "      <td>0.000210</td>\n",
              "      <td>0.265233</td>\n",
              "      <td>0.281013</td>\n",
              "      <td>0.000000</td>\n",
              "      <td>0.993289</td>\n",
              "      <td>-100.000000</td>\n",
              "      <td>98.657718</td>\n",
              "      <td>0.569297</td>\n",
              "    </tr>\n",
              "    <tr>\n",
              "      <th>11</th>\n",
              "      <td>12</td>\n",
              "      <td>0.600358</td>\n",
              "      <td>0.000103</td>\n",
              "      <td>0.066874</td>\n",
              "      <td>1.665672</td>\n",
              "      <td>0.008929</td>\n",
              "      <td>0.000126</td>\n",
              "      <td>0.222388</td>\n",
              "      <td>0.234059</td>\n",
              "      <td>0.006711</td>\n",
              "      <td>1.000000</td>\n",
              "      <td>-93.312560</td>\n",
              "      <td>66.567164</td>\n",
              "      <td>0.461220</td>\n",
              "    </tr>\n",
              "    <tr>\n",
              "      <th>12</th>\n",
              "      <td>13</td>\n",
              "      <td>0.699821</td>\n",
              "      <td>0.000076</td>\n",
              "      <td>0.000000</td>\n",
              "      <td>1.428937</td>\n",
              "      <td>0.000000</td>\n",
              "      <td>0.000090</td>\n",
              "      <td>0.190781</td>\n",
              "      <td>0.200806</td>\n",
              "      <td>0.000000</td>\n",
              "      <td>1.000000</td>\n",
              "      <td>-100.000000</td>\n",
              "      <td>42.893726</td>\n",
              "      <td>0.346432</td>\n",
              "    </tr>\n",
              "    <tr>\n",
              "      <th>13</th>\n",
              "      <td>14</td>\n",
              "      <td>0.800179</td>\n",
              "      <td>0.000049</td>\n",
              "      <td>0.000000</td>\n",
              "      <td>1.249720</td>\n",
              "      <td>0.000000</td>\n",
              "      <td>0.000062</td>\n",
              "      <td>0.166853</td>\n",
              "      <td>0.175629</td>\n",
              "      <td>0.000000</td>\n",
              "      <td>1.000000</td>\n",
              "      <td>-100.000000</td>\n",
              "      <td>24.972004</td>\n",
              "      <td>0.230610</td>\n",
              "    </tr>\n",
              "    <tr>\n",
              "      <th>14</th>\n",
              "      <td>15</td>\n",
              "      <td>0.899642</td>\n",
              "      <td>0.000035</td>\n",
              "      <td>0.000000</td>\n",
              "      <td>1.111554</td>\n",
              "      <td>0.000000</td>\n",
              "      <td>0.000040</td>\n",
              "      <td>0.148406</td>\n",
              "      <td>0.156216</td>\n",
              "      <td>0.000000</td>\n",
              "      <td>1.000000</td>\n",
              "      <td>-100.000000</td>\n",
              "      <td>11.155378</td>\n",
              "      <td>0.115822</td>\n",
              "    </tr>\n",
              "    <tr>\n",
              "      <th>15</th>\n",
              "      <td>16</td>\n",
              "      <td>1.000000</td>\n",
              "      <td>0.000007</td>\n",
              "      <td>0.000000</td>\n",
              "      <td>1.000000</td>\n",
              "      <td>0.000000</td>\n",
              "      <td>0.000026</td>\n",
              "      <td>0.133513</td>\n",
              "      <td>0.140541</td>\n",
              "      <td>0.000000</td>\n",
              "      <td>1.000000</td>\n",
              "      <td>-100.000000</td>\n",
              "      <td>0.000000</td>\n",
              "      <td>0.000000</td>\n",
              "    </tr>\n",
              "  </tbody>\n",
              "</table>\n",
              "</div>"
            ],
            "text/plain": [
              "    group  cumulative_data_fraction  ...  cumulative_gain  kolmogorov_smirnov\n",
              "0       1                  0.010753  ...       648.993289            0.080537\n",
              "1       2                  0.020609  ...       648.993289            0.154362\n",
              "2       3                  0.030466  ...       648.993289            0.228188\n",
              "3       4                  0.040323  ...       648.993289            0.302013\n",
              "4       5                  0.050179  ...       648.993289            0.375839\n",
              "5       6                  0.100358  ...       648.993289            0.751678\n",
              "6       7                  0.150538  ...       533.077661            0.926133\n",
              "7       8                  0.200717  ...       388.183126            0.899204\n",
              "8       9                  0.300179  ...       230.898527            0.799907\n",
              "9      10                  0.400538  ...       147.988829            0.684085\n",
              "10     11                  0.500000  ...        98.657718            0.569297\n",
              "11     12                  0.600358  ...        66.567164            0.461220\n",
              "12     13                  0.699821  ...        42.893726            0.346432\n",
              "13     14                  0.800179  ...        24.972004            0.230610\n",
              "14     15                  0.899642  ...        11.155378            0.115822\n",
              "15     16                  1.000000  ...         0.000000            0.000000\n",
              "\n",
              "[16 rows x 14 columns]"
            ]
          },
          "metadata": {
            "tags": []
          }
        },
        {
          "output_type": "stream",
          "text": [
            "\n",
            "\n",
            "Scoring History: \n"
          ],
          "name": "stdout"
        },
        {
          "output_type": "display_data",
          "data": {
            "text/html": [
              "<div>\n",
              "<style scoped>\n",
              "    .dataframe tbody tr th:only-of-type {\n",
              "        vertical-align: middle;\n",
              "    }\n",
              "\n",
              "    .dataframe tbody tr th {\n",
              "        vertical-align: top;\n",
              "    }\n",
              "\n",
              "    .dataframe thead th {\n",
              "        text-align: right;\n",
              "    }\n",
              "</style>\n",
              "<table border=\"1\" class=\"dataframe\">\n",
              "  <thead>\n",
              "    <tr style=\"text-align: right;\">\n",
              "      <th></th>\n",
              "      <th></th>\n",
              "      <th>timestamp</th>\n",
              "      <th>duration</th>\n",
              "      <th>number_of_trees</th>\n",
              "      <th>training_rmse</th>\n",
              "      <th>training_logloss</th>\n",
              "      <th>training_auc</th>\n",
              "      <th>training_pr_auc</th>\n",
              "      <th>training_lift</th>\n",
              "      <th>training_classification_error</th>\n",
              "      <th>validation_rmse</th>\n",
              "      <th>validation_logloss</th>\n",
              "      <th>validation_auc</th>\n",
              "      <th>validation_pr_auc</th>\n",
              "      <th>validation_lift</th>\n",
              "      <th>validation_classification_error</th>\n",
              "    </tr>\n",
              "  </thead>\n",
              "  <tbody>\n",
              "    <tr>\n",
              "      <th>0</th>\n",
              "      <td></td>\n",
              "      <td>2020-11-14 13:20:27</td>\n",
              "      <td>0.090 sec</td>\n",
              "      <td>0.0</td>\n",
              "      <td>0.340868</td>\n",
              "      <td>0.394295</td>\n",
              "      <td>0.500000</td>\n",
              "      <td>0.134201</td>\n",
              "      <td>1.000000</td>\n",
              "      <td>0.865799</td>\n",
              "      <td>0.340129</td>\n",
              "      <td>0.393012</td>\n",
              "      <td>0.500000</td>\n",
              "      <td>0.133513</td>\n",
              "      <td>1.000000</td>\n",
              "      <td>0.866487</td>\n",
              "    </tr>\n",
              "    <tr>\n",
              "      <th>1</th>\n",
              "      <td></td>\n",
              "      <td>2020-11-14 13:20:28</td>\n",
              "      <td>0.950 sec</td>\n",
              "      <td>10.0</td>\n",
              "      <td>0.171267</td>\n",
              "      <td>0.136938</td>\n",
              "      <td>0.987088</td>\n",
              "      <td>0.967732</td>\n",
              "      <td>7.451505</td>\n",
              "      <td>0.016831</td>\n",
              "      <td>0.184290</td>\n",
              "      <td>0.148377</td>\n",
              "      <td>0.984554</td>\n",
              "      <td>0.949665</td>\n",
              "      <td>7.489933</td>\n",
              "      <td>0.029570</td>\n",
              "    </tr>\n",
              "    <tr>\n",
              "      <th>2</th>\n",
              "      <td></td>\n",
              "      <td>2020-11-14 13:20:29</td>\n",
              "      <td>1.842 sec</td>\n",
              "      <td>20.0</td>\n",
              "      <td>0.123073</td>\n",
              "      <td>0.080655</td>\n",
              "      <td>0.988890</td>\n",
              "      <td>0.974277</td>\n",
              "      <td>7.451505</td>\n",
              "      <td>0.013465</td>\n",
              "      <td>0.158660</td>\n",
              "      <td>0.104801</td>\n",
              "      <td>0.985481</td>\n",
              "      <td>0.938081</td>\n",
              "      <td>6.865772</td>\n",
              "      <td>0.031362</td>\n",
              "    </tr>\n",
              "    <tr>\n",
              "      <th>3</th>\n",
              "      <td></td>\n",
              "      <td>2020-11-14 13:20:30</td>\n",
              "      <td>2.655 sec</td>\n",
              "      <td>30.0</td>\n",
              "      <td>0.105201</td>\n",
              "      <td>0.058409</td>\n",
              "      <td>0.990600</td>\n",
              "      <td>0.978885</td>\n",
              "      <td>7.451505</td>\n",
              "      <td>0.010996</td>\n",
              "      <td>0.151179</td>\n",
              "      <td>0.088643</td>\n",
              "      <td>0.986130</td>\n",
              "      <td>0.950326</td>\n",
              "      <td>7.489933</td>\n",
              "      <td>0.031362</td>\n",
              "    </tr>\n",
              "    <tr>\n",
              "      <th>4</th>\n",
              "      <td></td>\n",
              "      <td>2020-11-14 13:20:30</td>\n",
              "      <td>3.271 sec</td>\n",
              "      <td>40.0</td>\n",
              "      <td>0.092885</td>\n",
              "      <td>0.046375</td>\n",
              "      <td>0.992623</td>\n",
              "      <td>0.982780</td>\n",
              "      <td>7.451505</td>\n",
              "      <td>0.007406</td>\n",
              "      <td>0.150120</td>\n",
              "      <td>0.084314</td>\n",
              "      <td>0.987060</td>\n",
              "      <td>0.952126</td>\n",
              "      <td>7.489933</td>\n",
              "      <td>0.029570</td>\n",
              "    </tr>\n",
              "    <tr>\n",
              "      <th>5</th>\n",
              "      <td></td>\n",
              "      <td>2020-11-14 13:20:31</td>\n",
              "      <td>3.834 sec</td>\n",
              "      <td>50.0</td>\n",
              "      <td>0.080767</td>\n",
              "      <td>0.034209</td>\n",
              "      <td>0.997674</td>\n",
              "      <td>0.992333</td>\n",
              "      <td>7.451505</td>\n",
              "      <td>0.006059</td>\n",
              "      <td>0.147432</td>\n",
              "      <td>0.080506</td>\n",
              "      <td>0.987858</td>\n",
              "      <td>0.955948</td>\n",
              "      <td>7.489933</td>\n",
              "      <td>0.028674</td>\n",
              "    </tr>\n",
              "    <tr>\n",
              "      <th>6</th>\n",
              "      <td></td>\n",
              "      <td>2020-11-14 13:20:32</td>\n",
              "      <td>4.661 sec</td>\n",
              "      <td>60.0</td>\n",
              "      <td>0.070907</td>\n",
              "      <td>0.026836</td>\n",
              "      <td>0.999058</td>\n",
              "      <td>0.996251</td>\n",
              "      <td>7.451505</td>\n",
              "      <td>0.004488</td>\n",
              "      <td>0.145728</td>\n",
              "      <td>0.077567</td>\n",
              "      <td>0.989048</td>\n",
              "      <td>0.959861</td>\n",
              "      <td>7.489933</td>\n",
              "      <td>0.026882</td>\n",
              "    </tr>\n",
              "    <tr>\n",
              "      <th>7</th>\n",
              "      <td></td>\n",
              "      <td>2020-11-14 13:20:32</td>\n",
              "      <td>5.515 sec</td>\n",
              "      <td>70.0</td>\n",
              "      <td>0.059409</td>\n",
              "      <td>0.020822</td>\n",
              "      <td>0.999448</td>\n",
              "      <td>0.997662</td>\n",
              "      <td>7.451505</td>\n",
              "      <td>0.002020</td>\n",
              "      <td>0.143665</td>\n",
              "      <td>0.075485</td>\n",
              "      <td>0.989225</td>\n",
              "      <td>0.960355</td>\n",
              "      <td>7.489933</td>\n",
              "      <td>0.026882</td>\n",
              "    </tr>\n",
              "    <tr>\n",
              "      <th>8</th>\n",
              "      <td></td>\n",
              "      <td>2020-11-14 13:20:33</td>\n",
              "      <td>6.380 sec</td>\n",
              "      <td>80.0</td>\n",
              "      <td>0.050209</td>\n",
              "      <td>0.016260</td>\n",
              "      <td>0.999737</td>\n",
              "      <td>0.998735</td>\n",
              "      <td>7.451505</td>\n",
              "      <td>0.000898</td>\n",
              "      <td>0.142648</td>\n",
              "      <td>0.075101</td>\n",
              "      <td>0.989763</td>\n",
              "      <td>0.962019</td>\n",
              "      <td>7.489933</td>\n",
              "      <td>0.025090</td>\n",
              "    </tr>\n",
              "    <tr>\n",
              "      <th>9</th>\n",
              "      <td></td>\n",
              "      <td>2020-11-14 13:20:34</td>\n",
              "      <td>7.027 sec</td>\n",
              "      <td>90.0</td>\n",
              "      <td>0.043165</td>\n",
              "      <td>0.013150</td>\n",
              "      <td>0.999808</td>\n",
              "      <td>0.999081</td>\n",
              "      <td>7.451505</td>\n",
              "      <td>0.000898</td>\n",
              "      <td>0.141376</td>\n",
              "      <td>0.074035</td>\n",
              "      <td>0.990079</td>\n",
              "      <td>0.964553</td>\n",
              "      <td>7.489933</td>\n",
              "      <td>0.024194</td>\n",
              "    </tr>\n",
              "    <tr>\n",
              "      <th>10</th>\n",
              "      <td></td>\n",
              "      <td>2020-11-14 13:20:35</td>\n",
              "      <td>7.596 sec</td>\n",
              "      <td>100.0</td>\n",
              "      <td>0.037249</td>\n",
              "      <td>0.010752</td>\n",
              "      <td>0.999847</td>\n",
              "      <td>0.999237</td>\n",
              "      <td>7.451505</td>\n",
              "      <td>0.000449</td>\n",
              "      <td>0.142623</td>\n",
              "      <td>0.075137</td>\n",
              "      <td>0.990099</td>\n",
              "      <td>0.965817</td>\n",
              "      <td>7.489933</td>\n",
              "      <td>0.024194</td>\n",
              "    </tr>\n",
              "    <tr>\n",
              "      <th>11</th>\n",
              "      <td></td>\n",
              "      <td>2020-11-14 13:20:35</td>\n",
              "      <td>8.097 sec</td>\n",
              "      <td>110.0</td>\n",
              "      <td>0.031892</td>\n",
              "      <td>0.008819</td>\n",
              "      <td>0.999873</td>\n",
              "      <td>0.999345</td>\n",
              "      <td>7.451505</td>\n",
              "      <td>0.000449</td>\n",
              "      <td>0.142810</td>\n",
              "      <td>0.075464</td>\n",
              "      <td>0.990256</td>\n",
              "      <td>0.966122</td>\n",
              "      <td>7.489933</td>\n",
              "      <td>0.023297</td>\n",
              "    </tr>\n",
              "    <tr>\n",
              "      <th>12</th>\n",
              "      <td></td>\n",
              "      <td>2020-11-14 13:20:36</td>\n",
              "      <td>8.945 sec</td>\n",
              "      <td>120.0</td>\n",
              "      <td>0.027940</td>\n",
              "      <td>0.007307</td>\n",
              "      <td>0.999891</td>\n",
              "      <td>0.999420</td>\n",
              "      <td>7.451505</td>\n",
              "      <td>0.000449</td>\n",
              "      <td>0.142242</td>\n",
              "      <td>0.075376</td>\n",
              "      <td>0.990301</td>\n",
              "      <td>0.966999</td>\n",
              "      <td>7.489933</td>\n",
              "      <td>0.022401</td>\n",
              "    </tr>\n",
              "    <tr>\n",
              "      <th>13</th>\n",
              "      <td></td>\n",
              "      <td>2020-11-14 13:20:37</td>\n",
              "      <td>9.826 sec</td>\n",
              "      <td>130.0</td>\n",
              "      <td>0.025575</td>\n",
              "      <td>0.006241</td>\n",
              "      <td>0.999928</td>\n",
              "      <td>0.999593</td>\n",
              "      <td>7.451505</td>\n",
              "      <td>0.000449</td>\n",
              "      <td>0.142015</td>\n",
              "      <td>0.075508</td>\n",
              "      <td>0.990811</td>\n",
              "      <td>0.968255</td>\n",
              "      <td>7.489933</td>\n",
              "      <td>0.022401</td>\n",
              "    </tr>\n",
              "    <tr>\n",
              "      <th>14</th>\n",
              "      <td></td>\n",
              "      <td>2020-11-14 13:20:38</td>\n",
              "      <td>10.677 sec</td>\n",
              "      <td>140.0</td>\n",
              "      <td>0.024046</td>\n",
              "      <td>0.005347</td>\n",
              "      <td>0.999946</td>\n",
              "      <td>0.999686</td>\n",
              "      <td>7.451505</td>\n",
              "      <td>0.000449</td>\n",
              "      <td>0.141161</td>\n",
              "      <td>0.074699</td>\n",
              "      <td>0.991314</td>\n",
              "      <td>0.969959</td>\n",
              "      <td>7.489933</td>\n",
              "      <td>0.021505</td>\n",
              "    </tr>\n",
              "    <tr>\n",
              "      <th>15</th>\n",
              "      <td></td>\n",
              "      <td>2020-11-14 13:20:38</td>\n",
              "      <td>11.272 sec</td>\n",
              "      <td>150.0</td>\n",
              "      <td>0.022822</td>\n",
              "      <td>0.004620</td>\n",
              "      <td>0.999955</td>\n",
              "      <td>0.999735</td>\n",
              "      <td>7.451505</td>\n",
              "      <td>0.000449</td>\n",
              "      <td>0.141682</td>\n",
              "      <td>0.075010</td>\n",
              "      <td>0.991789</td>\n",
              "      <td>0.971002</td>\n",
              "      <td>7.489933</td>\n",
              "      <td>0.021505</td>\n",
              "    </tr>\n",
              "    <tr>\n",
              "      <th>16</th>\n",
              "      <td></td>\n",
              "      <td>2020-11-14 13:20:39</td>\n",
              "      <td>11.781 sec</td>\n",
              "      <td>160.0</td>\n",
              "      <td>0.022225</td>\n",
              "      <td>0.004147</td>\n",
              "      <td>0.999961</td>\n",
              "      <td>0.999767</td>\n",
              "      <td>7.451505</td>\n",
              "      <td>0.000449</td>\n",
              "      <td>0.142570</td>\n",
              "      <td>0.076340</td>\n",
              "      <td>0.991980</td>\n",
              "      <td>0.971495</td>\n",
              "      <td>7.489933</td>\n",
              "      <td>0.021505</td>\n",
              "    </tr>\n",
              "    <tr>\n",
              "      <th>17</th>\n",
              "      <td></td>\n",
              "      <td>2020-11-14 13:20:39</td>\n",
              "      <td>12.327 sec</td>\n",
              "      <td>170.0</td>\n",
              "      <td>0.021673</td>\n",
              "      <td>0.003660</td>\n",
              "      <td>0.999966</td>\n",
              "      <td>0.999796</td>\n",
              "      <td>7.451505</td>\n",
              "      <td>0.000449</td>\n",
              "      <td>0.141785</td>\n",
              "      <td>0.077073</td>\n",
              "      <td>0.992119</td>\n",
              "      <td>0.971739</td>\n",
              "      <td>7.489933</td>\n",
              "      <td>0.020609</td>\n",
              "    </tr>\n",
              "    <tr>\n",
              "      <th>18</th>\n",
              "      <td></td>\n",
              "      <td>2020-11-14 13:20:40</td>\n",
              "      <td>13.153 sec</td>\n",
              "      <td>180.0</td>\n",
              "      <td>0.021428</td>\n",
              "      <td>0.003370</td>\n",
              "      <td>0.999968</td>\n",
              "      <td>0.999811</td>\n",
              "      <td>7.451505</td>\n",
              "      <td>0.000449</td>\n",
              "      <td>0.142043</td>\n",
              "      <td>0.078368</td>\n",
              "      <td>0.992067</td>\n",
              "      <td>0.972010</td>\n",
              "      <td>7.489933</td>\n",
              "      <td>0.020609</td>\n",
              "    </tr>\n",
              "    <tr>\n",
              "      <th>19</th>\n",
              "      <td></td>\n",
              "      <td>2020-11-14 13:20:41</td>\n",
              "      <td>14.031 sec</td>\n",
              "      <td>190.0</td>\n",
              "      <td>0.021224</td>\n",
              "      <td>0.003097</td>\n",
              "      <td>0.999968</td>\n",
              "      <td>0.999811</td>\n",
              "      <td>7.451505</td>\n",
              "      <td>0.000449</td>\n",
              "      <td>0.142795</td>\n",
              "      <td>0.080947</td>\n",
              "      <td>0.991522</td>\n",
              "      <td>0.970943</td>\n",
              "      <td>7.489933</td>\n",
              "      <td>0.020609</td>\n",
              "    </tr>\n",
              "  </tbody>\n",
              "</table>\n",
              "</div>"
            ],
            "text/plain": [
              "                timestamp  ... validation_lift  validation_classification_error\n",
              "0     2020-11-14 13:20:27  ...        1.000000                         0.866487\n",
              "1     2020-11-14 13:20:28  ...        7.489933                         0.029570\n",
              "2     2020-11-14 13:20:29  ...        6.865772                         0.031362\n",
              "3     2020-11-14 13:20:30  ...        7.489933                         0.031362\n",
              "4     2020-11-14 13:20:30  ...        7.489933                         0.029570\n",
              "5     2020-11-14 13:20:31  ...        7.489933                         0.028674\n",
              "6     2020-11-14 13:20:32  ...        7.489933                         0.026882\n",
              "7     2020-11-14 13:20:32  ...        7.489933                         0.026882\n",
              "8     2020-11-14 13:20:33  ...        7.489933                         0.025090\n",
              "9     2020-11-14 13:20:34  ...        7.489933                         0.024194\n",
              "10    2020-11-14 13:20:35  ...        7.489933                         0.024194\n",
              "11    2020-11-14 13:20:35  ...        7.489933                         0.023297\n",
              "12    2020-11-14 13:20:36  ...        7.489933                         0.022401\n",
              "13    2020-11-14 13:20:37  ...        7.489933                         0.022401\n",
              "14    2020-11-14 13:20:38  ...        7.489933                         0.021505\n",
              "15    2020-11-14 13:20:38  ...        7.489933                         0.021505\n",
              "16    2020-11-14 13:20:39  ...        7.489933                         0.021505\n",
              "17    2020-11-14 13:20:39  ...        7.489933                         0.020609\n",
              "18    2020-11-14 13:20:40  ...        7.489933                         0.020609\n",
              "19    2020-11-14 13:20:41  ...        7.489933                         0.020609\n",
              "\n",
              "[20 rows x 16 columns]"
            ]
          },
          "metadata": {
            "tags": []
          }
        },
        {
          "output_type": "stream",
          "text": [
            "\n",
            "See the whole table with table.as_data_frame()\n",
            "\n",
            "Variable Importances: \n"
          ],
          "name": "stdout"
        },
        {
          "output_type": "display_data",
          "data": {
            "text/html": [
              "<div>\n",
              "<style scoped>\n",
              "    .dataframe tbody tr th:only-of-type {\n",
              "        vertical-align: middle;\n",
              "    }\n",
              "\n",
              "    .dataframe tbody tr th {\n",
              "        vertical-align: top;\n",
              "    }\n",
              "\n",
              "    .dataframe thead th {\n",
              "        text-align: right;\n",
              "    }\n",
              "</style>\n",
              "<table border=\"1\" class=\"dataframe\">\n",
              "  <thead>\n",
              "    <tr style=\"text-align: right;\">\n",
              "      <th></th>\n",
              "      <th>variable</th>\n",
              "      <th>relative_importance</th>\n",
              "      <th>scaled_importance</th>\n",
              "      <th>percentage</th>\n",
              "    </tr>\n",
              "  </thead>\n",
              "  <tbody>\n",
              "    <tr>\n",
              "      <th>0</th>\n",
              "      <td>C59</td>\n",
              "      <td>1347.351440</td>\n",
              "      <td>1.000000</td>\n",
              "      <td>0.566217</td>\n",
              "    </tr>\n",
              "    <tr>\n",
              "      <th>1</th>\n",
              "      <td>C73</td>\n",
              "      <td>237.530548</td>\n",
              "      <td>0.176294</td>\n",
              "      <td>0.099821</td>\n",
              "    </tr>\n",
              "    <tr>\n",
              "      <th>2</th>\n",
              "      <td>C45</td>\n",
              "      <td>76.358292</td>\n",
              "      <td>0.056673</td>\n",
              "      <td>0.032089</td>\n",
              "    </tr>\n",
              "    <tr>\n",
              "      <th>3</th>\n",
              "      <td>C66</td>\n",
              "      <td>68.783913</td>\n",
              "      <td>0.051051</td>\n",
              "      <td>0.028906</td>\n",
              "    </tr>\n",
              "    <tr>\n",
              "      <th>4</th>\n",
              "      <td>C42</td>\n",
              "      <td>42.949268</td>\n",
              "      <td>0.031877</td>\n",
              "      <td>0.018049</td>\n",
              "    </tr>\n",
              "    <tr>\n",
              "      <th>5</th>\n",
              "      <td>C27</td>\n",
              "      <td>39.145298</td>\n",
              "      <td>0.029054</td>\n",
              "      <td>0.016451</td>\n",
              "    </tr>\n",
              "    <tr>\n",
              "      <th>6</th>\n",
              "      <td>C30</td>\n",
              "      <td>34.511787</td>\n",
              "      <td>0.025615</td>\n",
              "      <td>0.014503</td>\n",
              "    </tr>\n",
              "    <tr>\n",
              "      <th>7</th>\n",
              "      <td>C86</td>\n",
              "      <td>24.627251</td>\n",
              "      <td>0.018278</td>\n",
              "      <td>0.010349</td>\n",
              "    </tr>\n",
              "    <tr>\n",
              "      <th>8</th>\n",
              "      <td>C97</td>\n",
              "      <td>23.538441</td>\n",
              "      <td>0.017470</td>\n",
              "      <td>0.009892</td>\n",
              "    </tr>\n",
              "    <tr>\n",
              "      <th>9</th>\n",
              "      <td>C68</td>\n",
              "      <td>23.493353</td>\n",
              "      <td>0.017437</td>\n",
              "      <td>0.009873</td>\n",
              "    </tr>\n",
              "    <tr>\n",
              "      <th>10</th>\n",
              "      <td>C44</td>\n",
              "      <td>21.617704</td>\n",
              "      <td>0.016045</td>\n",
              "      <td>0.009085</td>\n",
              "    </tr>\n",
              "    <tr>\n",
              "      <th>11</th>\n",
              "      <td>C34</td>\n",
              "      <td>21.237034</td>\n",
              "      <td>0.015762</td>\n",
              "      <td>0.008925</td>\n",
              "    </tr>\n",
              "    <tr>\n",
              "      <th>12</th>\n",
              "      <td>C69</td>\n",
              "      <td>20.167238</td>\n",
              "      <td>0.014968</td>\n",
              "      <td>0.008475</td>\n",
              "    </tr>\n",
              "    <tr>\n",
              "      <th>13</th>\n",
              "      <td>C31</td>\n",
              "      <td>19.784456</td>\n",
              "      <td>0.014684</td>\n",
              "      <td>0.008314</td>\n",
              "    </tr>\n",
              "    <tr>\n",
              "      <th>14</th>\n",
              "      <td>C8</td>\n",
              "      <td>14.778683</td>\n",
              "      <td>0.010969</td>\n",
              "      <td>0.006211</td>\n",
              "    </tr>\n",
              "    <tr>\n",
              "      <th>15</th>\n",
              "      <td>C67</td>\n",
              "      <td>14.151615</td>\n",
              "      <td>0.010503</td>\n",
              "      <td>0.005947</td>\n",
              "    </tr>\n",
              "    <tr>\n",
              "      <th>16</th>\n",
              "      <td>C71</td>\n",
              "      <td>14.033191</td>\n",
              "      <td>0.010415</td>\n",
              "      <td>0.005897</td>\n",
              "    </tr>\n",
              "    <tr>\n",
              "      <th>17</th>\n",
              "      <td>C87</td>\n",
              "      <td>13.295552</td>\n",
              "      <td>0.009868</td>\n",
              "      <td>0.005587</td>\n",
              "    </tr>\n",
              "    <tr>\n",
              "      <th>18</th>\n",
              "      <td>C82</td>\n",
              "      <td>12.340000</td>\n",
              "      <td>0.009159</td>\n",
              "      <td>0.005186</td>\n",
              "    </tr>\n",
              "    <tr>\n",
              "      <th>19</th>\n",
              "      <td>C28</td>\n",
              "      <td>11.840934</td>\n",
              "      <td>0.008788</td>\n",
              "      <td>0.004976</td>\n",
              "    </tr>\n",
              "  </tbody>\n",
              "</table>\n",
              "</div>"
            ],
            "text/plain": [
              "   variable  relative_importance  scaled_importance  percentage\n",
              "0       C59          1347.351440           1.000000    0.566217\n",
              "1       C73           237.530548           0.176294    0.099821\n",
              "2       C45            76.358292           0.056673    0.032089\n",
              "3       C66            68.783913           0.051051    0.028906\n",
              "4       C42            42.949268           0.031877    0.018049\n",
              "5       C27            39.145298           0.029054    0.016451\n",
              "6       C30            34.511787           0.025615    0.014503\n",
              "7       C86            24.627251           0.018278    0.010349\n",
              "8       C97            23.538441           0.017470    0.009892\n",
              "9       C68            23.493353           0.017437    0.009873\n",
              "10      C44            21.617704           0.016045    0.009085\n",
              "11      C34            21.237034           0.015762    0.008925\n",
              "12      C69            20.167238           0.014968    0.008475\n",
              "13      C31            19.784456           0.014684    0.008314\n",
              "14       C8            14.778683           0.010969    0.006211\n",
              "15      C67            14.151615           0.010503    0.005947\n",
              "16      C71            14.033191           0.010415    0.005897\n",
              "17      C87            13.295552           0.009868    0.005587\n",
              "18      C82            12.340000           0.009159    0.005186\n",
              "19      C28            11.840934           0.008788    0.004976"
            ]
          },
          "metadata": {
            "tags": []
          }
        },
        {
          "output_type": "stream",
          "text": [
            "\n",
            "See the whole table with table.as_data_frame()\n"
          ],
          "name": "stdout"
        },
        {
          "output_type": "execute_result",
          "data": {
            "text/plain": [
              "<bound method ModelBase.auc of >"
            ]
          },
          "metadata": {
            "tags": []
          },
          "execution_count": 201
        }
      ]
    },
    {
      "cell_type": "code",
      "metadata": {
        "id": "7OnLEI7Skhn4",
        "outputId": "2e42f404-bc64-4f68-f661-e708ce0d8b5b",
        "colab": {
          "base_uri": "https://localhost:8080/",
          "height": 176
        }
      },
      "source": [
        "gbm_embeddings.confusion_matrix(valid = True)"
      ],
      "execution_count": 202,
      "outputs": [
        {
          "output_type": "stream",
          "text": [
            "\n",
            "Confusion Matrix (Act/Pred) for max f1 @ threshold = 0.8902982784340533: \n"
          ],
          "name": "stdout"
        },
        {
          "output_type": "display_data",
          "data": {
            "text/html": [
              "<div>\n",
              "<style scoped>\n",
              "    .dataframe tbody tr th:only-of-type {\n",
              "        vertical-align: middle;\n",
              "    }\n",
              "\n",
              "    .dataframe tbody tr th {\n",
              "        vertical-align: top;\n",
              "    }\n",
              "\n",
              "    .dataframe thead th {\n",
              "        text-align: right;\n",
              "    }\n",
              "</style>\n",
              "<table border=\"1\" class=\"dataframe\">\n",
              "  <thead>\n",
              "    <tr style=\"text-align: right;\">\n",
              "      <th></th>\n",
              "      <th></th>\n",
              "      <th>0</th>\n",
              "      <th>1</th>\n",
              "      <th>Error</th>\n",
              "      <th>Rate</th>\n",
              "    </tr>\n",
              "  </thead>\n",
              "  <tbody>\n",
              "    <tr>\n",
              "      <th>0</th>\n",
              "      <td>0</td>\n",
              "      <td>959.0</td>\n",
              "      <td>8.0</td>\n",
              "      <td>0.0083</td>\n",
              "      <td>(8.0/967.0)</td>\n",
              "    </tr>\n",
              "    <tr>\n",
              "      <th>1</th>\n",
              "      <td>1</td>\n",
              "      <td>15.0</td>\n",
              "      <td>134.0</td>\n",
              "      <td>0.1007</td>\n",
              "      <td>(15.0/149.0)</td>\n",
              "    </tr>\n",
              "    <tr>\n",
              "      <th>2</th>\n",
              "      <td>Total</td>\n",
              "      <td>974.0</td>\n",
              "      <td>142.0</td>\n",
              "      <td>0.0206</td>\n",
              "      <td>(23.0/1116.0)</td>\n",
              "    </tr>\n",
              "  </tbody>\n",
              "</table>\n",
              "</div>"
            ],
            "text/plain": [
              "              0      1   Error            Rate\n",
              "0      0  959.0    8.0  0.0083     (8.0/967.0)\n",
              "1      1   15.0  134.0  0.1007    (15.0/149.0)\n",
              "2  Total  974.0  142.0  0.0206   (23.0/1116.0)"
            ]
          },
          "metadata": {
            "tags": []
          }
        },
        {
          "output_type": "execute_result",
          "data": {
            "text/plain": [
              ""
            ]
          },
          "metadata": {
            "tags": []
          },
          "execution_count": 202
        }
      ]
    },
    {
      "cell_type": "code",
      "metadata": {
        "id": "VTEMin2tktTY",
        "outputId": "89b59f51-59bf-4dd9-e6a2-9195f7621f7e",
        "colab": {
          "base_uri": "https://localhost:8080/",
          "height": 612
        }
      },
      "source": [
        "gbm_embeddings.varimp_plot()"
      ],
      "execution_count": 203,
      "outputs": [
        {
          "output_type": "display_data",
          "data": {
            "image/png": "[encoded data removed]",
            "text/plain": [
              "<Figure size 1008x720 with 1 Axes>"
            ]
          },
          "metadata": {
            "tags": [],
            "needs_background": "light"
          }
        }
      ]
    },
    {
      "cell_type": "code",
      "metadata": {
        "id": "xgl3Ciark5Qa",
        "outputId": "616a472e-5f0a-47dc-f837-878e5cff13cd",
        "colab": {
          "base_uri": "https://localhost:8080/"
        }
      },
      "source": [
        "top_w2v_features = list(filter(lambda x: x.startswith('C'), map(lambda x: x[0], gbm_embeddings.varimp())))[1:10]\n",
        "top_w2v_features"
      ],
      "execution_count": 204,
      "outputs": [
        {
          "output_type": "execute_result",
          "data": {
            "text/plain": [
              "['C73', 'C45', 'C66', 'C42', 'C27', 'C30', 'C86', 'C97', 'C68']"
            ]
          },
          "metadata": {
            "tags": []
          },
          "execution_count": 204
        }
      ]
    },
    {
      "cell_type": "code",
      "metadata": {
        "id": "UG74Sn_0ktQT",
        "outputId": "bfeff8f8-5e26-4103-a185-be196f9b5f3c",
        "colab": {
          "base_uri": "https://localhost:8080/"
        }
      },
      "source": [
        "from h2o.estimators import H2OGeneralizedLinearEstimator\n",
        "\n",
        "glm_predictors =  review_vecs.names\n",
        "\n",
        "glm_embeddings = H2OGeneralizedLinearEstimator(model_id = \"glm_embeddings.hex\", interactions = top_w2v_features,\n",
        "                                               family = \"binomial\"\n",
        "                                              )\n",
        "glm_embeddings.train(x = glm_predictors, y = response,\n",
        "                     training_frame = train, validation_frame = test\n",
        "                    )"
      ],
      "execution_count": 205,
      "outputs": [
        {
          "output_type": "stream",
          "text": [
            "glm Model Build progress: |███████████████████████████████████████████████| 100%\n"
          ],
          "name": "stdout"
        }
      ]
    },
    {
      "cell_type": "code",
      "metadata": {
        "id": "sNbXItqolA8f",
        "outputId": "5aefacdb-bb9c-4b0c-eb56-72b92b4573d4",
        "colab": {
          "base_uri": "https://localhost:8080/",
          "height": 1000
        }
      },
      "source": [
        "print(glm_embeddings.auc)"
      ],
      "execution_count": 206,
      "outputs": [
        {
          "output_type": "stream",
          "text": [
            "Model Details\n",
            "=============\n",
            "H2OGeneralizedLinearEstimator :  Generalized Linear Modeling\n",
            "Model Key:  glm_embeddings.hex\n",
            "\n",
            "\n",
            "GLM Model: summary\n"
          ],
          "name": "stdout"
        },
        {
          "output_type": "display_data",
          "data": {
            "text/html": [
              "<div>\n",
              "<style scoped>\n",
              "    .dataframe tbody tr th:only-of-type {\n",
              "        vertical-align: middle;\n",
              "    }\n",
              "\n",
              "    .dataframe tbody tr th {\n",
              "        vertical-align: top;\n",
              "    }\n",
              "\n",
              "    .dataframe thead th {\n",
              "        text-align: right;\n",
              "    }\n",
              "</style>\n",
              "<table border=\"1\" class=\"dataframe\">\n",
              "  <thead>\n",
              "    <tr style=\"text-align: right;\">\n",
              "      <th></th>\n",
              "      <th></th>\n",
              "      <th>family</th>\n",
              "      <th>link</th>\n",
              "      <th>regularization</th>\n",
              "      <th>number_of_predictors_total</th>\n",
              "      <th>number_of_active_predictors</th>\n",
              "      <th>number_of_iterations</th>\n",
              "      <th>training_frame</th>\n",
              "    </tr>\n",
              "  </thead>\n",
              "  <tbody>\n",
              "    <tr>\n",
              "      <th>0</th>\n",
              "      <td></td>\n",
              "      <td>binomial</td>\n",
              "      <td>logit</td>\n",
              "      <td>Elastic Net (alpha = 0.5, lambda = 5.04E-4 )</td>\n",
              "      <td>136</td>\n",
              "      <td>75</td>\n",
              "      <td>7</td>\n",
              "      <td>py_107_sid_a671</td>\n",
              "    </tr>\n",
              "  </tbody>\n",
              "</table>\n",
              "</div>"
            ],
            "text/plain": [
              "       family  ... number_of_iterations   training_frame\n",
              "0    binomial  ...                    7  py_107_sid_a671\n",
              "\n",
              "[1 rows x 8 columns]"
            ]
          },
          "metadata": {
            "tags": []
          }
        },
        {
          "output_type": "stream",
          "text": [
            "\n",
            "\n",
            "ModelMetricsBinomialGLM: glm\n",
            "** Reported on train data. **\n",
            "\n",
            "MSE: 0.025655491657045296\n",
            "RMSE: 0.1601733175564685\n",
            "LogLoss: 0.09492959504609902\n",
            "Null degrees of freedom: 4455\n",
            "Residual degrees of freedom: 4380\n",
            "Null deviance: 3513.961139176855\n",
            "Residual deviance: 846.0125510508343\n",
            "AIC: 998.0125510508343\n",
            "AUC: 0.9827481357419149\n",
            "AUCPR: 0.94005333397175\n",
            "Gini: 0.9654962714838298\n",
            "\n",
            "Confusion Matrix (Act/Pred) for max f1 @ threshold = 0.45450690482804973: \n"
          ],
          "name": "stdout"
        },
        {
          "output_type": "display_data",
          "data": {
            "text/html": [
              "<div>\n",
              "<style scoped>\n",
              "    .dataframe tbody tr th:only-of-type {\n",
              "        vertical-align: middle;\n",
              "    }\n",
              "\n",
              "    .dataframe tbody tr th {\n",
              "        vertical-align: top;\n",
              "    }\n",
              "\n",
              "    .dataframe thead th {\n",
              "        text-align: right;\n",
              "    }\n",
              "</style>\n",
              "<table border=\"1\" class=\"dataframe\">\n",
              "  <thead>\n",
              "    <tr style=\"text-align: right;\">\n",
              "      <th></th>\n",
              "      <th></th>\n",
              "      <th>0</th>\n",
              "      <th>1</th>\n",
              "      <th>Error</th>\n",
              "      <th>Rate</th>\n",
              "    </tr>\n",
              "  </thead>\n",
              "  <tbody>\n",
              "    <tr>\n",
              "      <th>0</th>\n",
              "      <td>0</td>\n",
              "      <td>3798.0</td>\n",
              "      <td>60.0</td>\n",
              "      <td>0.0156</td>\n",
              "      <td>(60.0/3858.0)</td>\n",
              "    </tr>\n",
              "    <tr>\n",
              "      <th>1</th>\n",
              "      <td>1</td>\n",
              "      <td>86.0</td>\n",
              "      <td>512.0</td>\n",
              "      <td>0.1438</td>\n",
              "      <td>(86.0/598.0)</td>\n",
              "    </tr>\n",
              "    <tr>\n",
              "      <th>2</th>\n",
              "      <td>Total</td>\n",
              "      <td>3884.0</td>\n",
              "      <td>572.0</td>\n",
              "      <td>0.0328</td>\n",
              "      <td>(146.0/4456.0)</td>\n",
              "    </tr>\n",
              "  </tbody>\n",
              "</table>\n",
              "</div>"
            ],
            "text/plain": [
              "               0      1   Error             Rate\n",
              "0      0  3798.0   60.0  0.0156    (60.0/3858.0)\n",
              "1      1    86.0  512.0  0.1438     (86.0/598.0)\n",
              "2  Total  3884.0  572.0  0.0328   (146.0/4456.0)"
            ]
          },
          "metadata": {
            "tags": []
          }
        },
        {
          "output_type": "stream",
          "text": [
            "\n",
            "Maximum Metrics: Maximum metrics at their respective thresholds\n"
          ],
          "name": "stdout"
        },
        {
          "output_type": "display_data",
          "data": {
            "text/html": [
              "<div>\n",
              "<style scoped>\n",
              "    .dataframe tbody tr th:only-of-type {\n",
              "        vertical-align: middle;\n",
              "    }\n",
              "\n",
              "    .dataframe tbody tr th {\n",
              "        vertical-align: top;\n",
              "    }\n",
              "\n",
              "    .dataframe thead th {\n",
              "        text-align: right;\n",
              "    }\n",
              "</style>\n",
              "<table border=\"1\" class=\"dataframe\">\n",
              "  <thead>\n",
              "    <tr style=\"text-align: right;\">\n",
              "      <th></th>\n",
              "      <th>metric</th>\n",
              "      <th>threshold</th>\n",
              "      <th>value</th>\n",
              "      <th>idx</th>\n",
              "    </tr>\n",
              "  </thead>\n",
              "  <tbody>\n",
              "    <tr>\n",
              "      <th>0</th>\n",
              "      <td>max f1</td>\n",
              "      <td>0.454507</td>\n",
              "      <td>0.875214</td>\n",
              "      <td>165.0</td>\n",
              "    </tr>\n",
              "    <tr>\n",
              "      <th>1</th>\n",
              "      <td>max f2</td>\n",
              "      <td>0.126604</td>\n",
              "      <td>0.896910</td>\n",
              "      <td>261.0</td>\n",
              "    </tr>\n",
              "    <tr>\n",
              "      <th>2</th>\n",
              "      <td>max f0point5</td>\n",
              "      <td>0.688610</td>\n",
              "      <td>0.915058</td>\n",
              "      <td>121.0</td>\n",
              "    </tr>\n",
              "    <tr>\n",
              "      <th>3</th>\n",
              "      <td>max accuracy</td>\n",
              "      <td>0.454507</td>\n",
              "      <td>0.967235</td>\n",
              "      <td>165.0</td>\n",
              "    </tr>\n",
              "    <tr>\n",
              "      <th>4</th>\n",
              "      <td>max precision</td>\n",
              "      <td>0.999770</td>\n",
              "      <td>1.000000</td>\n",
              "      <td>0.0</td>\n",
              "    </tr>\n",
              "    <tr>\n",
              "      <th>5</th>\n",
              "      <td>max recall</td>\n",
              "      <td>0.000504</td>\n",
              "      <td>1.000000</td>\n",
              "      <td>395.0</td>\n",
              "    </tr>\n",
              "    <tr>\n",
              "      <th>6</th>\n",
              "      <td>max specificity</td>\n",
              "      <td>0.999770</td>\n",
              "      <td>1.000000</td>\n",
              "      <td>0.0</td>\n",
              "    </tr>\n",
              "    <tr>\n",
              "      <th>7</th>\n",
              "      <td>max absolute_mcc</td>\n",
              "      <td>0.454507</td>\n",
              "      <td>0.856647</td>\n",
              "      <td>165.0</td>\n",
              "    </tr>\n",
              "    <tr>\n",
              "      <th>8</th>\n",
              "      <td>max min_per_class_accuracy</td>\n",
              "      <td>0.132103</td>\n",
              "      <td>0.946345</td>\n",
              "      <td>258.0</td>\n",
              "    </tr>\n",
              "    <tr>\n",
              "      <th>9</th>\n",
              "      <td>max mean_per_class_accuracy</td>\n",
              "      <td>0.126604</td>\n",
              "      <td>0.948407</td>\n",
              "      <td>261.0</td>\n",
              "    </tr>\n",
              "    <tr>\n",
              "      <th>10</th>\n",
              "      <td>max tns</td>\n",
              "      <td>0.999770</td>\n",
              "      <td>3858.000000</td>\n",
              "      <td>0.0</td>\n",
              "    </tr>\n",
              "    <tr>\n",
              "      <th>11</th>\n",
              "      <td>max fns</td>\n",
              "      <td>0.999770</td>\n",
              "      <td>577.000000</td>\n",
              "      <td>0.0</td>\n",
              "    </tr>\n",
              "    <tr>\n",
              "      <th>12</th>\n",
              "      <td>max fps</td>\n",
              "      <td>0.000031</td>\n",
              "      <td>3858.000000</td>\n",
              "      <td>399.0</td>\n",
              "    </tr>\n",
              "    <tr>\n",
              "      <th>13</th>\n",
              "      <td>max tps</td>\n",
              "      <td>0.000504</td>\n",
              "      <td>598.000000</td>\n",
              "      <td>395.0</td>\n",
              "    </tr>\n",
              "    <tr>\n",
              "      <th>14</th>\n",
              "      <td>max tnr</td>\n",
              "      <td>0.999770</td>\n",
              "      <td>1.000000</td>\n",
              "      <td>0.0</td>\n",
              "    </tr>\n",
              "    <tr>\n",
              "      <th>15</th>\n",
              "      <td>max fnr</td>\n",
              "      <td>0.999770</td>\n",
              "      <td>0.964883</td>\n",
              "      <td>0.0</td>\n",
              "    </tr>\n",
              "    <tr>\n",
              "      <th>16</th>\n",
              "      <td>max fpr</td>\n",
              "      <td>0.000031</td>\n",
              "      <td>1.000000</td>\n",
              "      <td>399.0</td>\n",
              "    </tr>\n",
              "    <tr>\n",
              "      <th>17</th>\n",
              "      <td>max tpr</td>\n",
              "      <td>0.000504</td>\n",
              "      <td>1.000000</td>\n",
              "      <td>395.0</td>\n",
              "    </tr>\n",
              "  </tbody>\n",
              "</table>\n",
              "</div>"
            ],
            "text/plain": [
              "                         metric  threshold        value    idx\n",
              "0                        max f1   0.454507     0.875214  165.0\n",
              "1                        max f2   0.126604     0.896910  261.0\n",
              "2                  max f0point5   0.688610     0.915058  121.0\n",
              "3                  max accuracy   0.454507     0.967235  165.0\n",
              "4                 max precision   0.999770     1.000000    0.0\n",
              "5                    max recall   0.000504     1.000000  395.0\n",
              "6               max specificity   0.999770     1.000000    0.0\n",
              "7              max absolute_mcc   0.454507     0.856647  165.0\n",
              "8    max min_per_class_accuracy   0.132103     0.946345  258.0\n",
              "9   max mean_per_class_accuracy   0.126604     0.948407  261.0\n",
              "10                      max tns   0.999770  3858.000000    0.0\n",
              "11                      max fns   0.999770   577.000000    0.0\n",
              "12                      max fps   0.000031  3858.000000  399.0\n",
              "13                      max tps   0.000504   598.000000  395.0\n",
              "14                      max tnr   0.999770     1.000000    0.0\n",
              "15                      max fnr   0.999770     0.964883    0.0\n",
              "16                      max fpr   0.000031     1.000000  399.0\n",
              "17                      max tpr   0.000504     1.000000  395.0"
            ]
          },
          "metadata": {
            "tags": []
          }
        },
        {
          "output_type": "stream",
          "text": [
            "\n",
            "Gains/Lift Table: Avg response rate: 13.42 %, avg score: 13.42 %\n"
          ],
          "name": "stdout"
        },
        {
          "output_type": "display_data",
          "data": {
            "text/html": [
              "<div>\n",
              "<style scoped>\n",
              "    .dataframe tbody tr th:only-of-type {\n",
              "        vertical-align: middle;\n",
              "    }\n",
              "\n",
              "    .dataframe tbody tr th {\n",
              "        vertical-align: top;\n",
              "    }\n",
              "\n",
              "    .dataframe thead th {\n",
              "        text-align: right;\n",
              "    }\n",
              "</style>\n",
              "<table border=\"1\" class=\"dataframe\">\n",
              "  <thead>\n",
              "    <tr style=\"text-align: right;\">\n",
              "      <th></th>\n",
              "      <th>group</th>\n",
              "      <th>cumulative_data_fraction</th>\n",
              "      <th>lower_threshold</th>\n",
              "      <th>lift</th>\n",
              "      <th>cumulative_lift</th>\n",
              "      <th>response_rate</th>\n",
              "      <th>score</th>\n",
              "      <th>cumulative_response_rate</th>\n",
              "      <th>cumulative_score</th>\n",
              "      <th>capture_rate</th>\n",
              "      <th>cumulative_capture_rate</th>\n",
              "      <th>gain</th>\n",
              "      <th>cumulative_gain</th>\n",
              "      <th>kolmogorov_smirnov</th>\n",
              "    </tr>\n",
              "  </thead>\n",
              "  <tbody>\n",
              "    <tr>\n",
              "      <th>0</th>\n",
              "      <td>1</td>\n",
              "      <td>0.010099</td>\n",
              "      <td>9.982026e-01</td>\n",
              "      <td>7.451505</td>\n",
              "      <td>7.451505</td>\n",
              "      <td>1.000000</td>\n",
              "      <td>0.999300</td>\n",
              "      <td>1.000000</td>\n",
              "      <td>0.999300</td>\n",
              "      <td>0.075251</td>\n",
              "      <td>0.075251</td>\n",
              "      <td>645.150502</td>\n",
              "      <td>645.150502</td>\n",
              "      <td>0.075251</td>\n",
              "    </tr>\n",
              "    <tr>\n",
              "      <th>1</th>\n",
              "      <td>2</td>\n",
              "      <td>0.020422</td>\n",
              "      <td>9.943822e-01</td>\n",
              "      <td>7.289516</td>\n",
              "      <td>7.369620</td>\n",
              "      <td>0.978261</td>\n",
              "      <td>0.996145</td>\n",
              "      <td>0.989011</td>\n",
              "      <td>0.997705</td>\n",
              "      <td>0.075251</td>\n",
              "      <td>0.150502</td>\n",
              "      <td>628.951578</td>\n",
              "      <td>636.962035</td>\n",
              "      <td>0.150242</td>\n",
              "    </tr>\n",
              "    <tr>\n",
              "      <th>2</th>\n",
              "      <td>3</td>\n",
              "      <td>0.030072</td>\n",
              "      <td>9.895101e-01</td>\n",
              "      <td>7.451505</td>\n",
              "      <td>7.395897</td>\n",
              "      <td>1.000000</td>\n",
              "      <td>0.992289</td>\n",
              "      <td>0.992537</td>\n",
              "      <td>0.995967</td>\n",
              "      <td>0.071906</td>\n",
              "      <td>0.222408</td>\n",
              "      <td>645.150502</td>\n",
              "      <td>639.589677</td>\n",
              "      <td>0.222149</td>\n",
              "    </tr>\n",
              "    <tr>\n",
              "      <th>3</th>\n",
              "      <td>4</td>\n",
              "      <td>0.040171</td>\n",
              "      <td>9.802998e-01</td>\n",
              "      <td>7.451505</td>\n",
              "      <td>7.409876</td>\n",
              "      <td>1.000000</td>\n",
              "      <td>0.984697</td>\n",
              "      <td>0.994413</td>\n",
              "      <td>0.993134</td>\n",
              "      <td>0.075251</td>\n",
              "      <td>0.297659</td>\n",
              "      <td>645.150502</td>\n",
              "      <td>640.987650</td>\n",
              "      <td>0.297400</td>\n",
              "    </tr>\n",
              "    <tr>\n",
              "      <th>4</th>\n",
              "      <td>5</td>\n",
              "      <td>0.050269</td>\n",
              "      <td>9.714195e-01</td>\n",
              "      <td>7.451505</td>\n",
              "      <td>7.418239</td>\n",
              "      <td>1.000000</td>\n",
              "      <td>0.976111</td>\n",
              "      <td>0.995536</td>\n",
              "      <td>0.989714</td>\n",
              "      <td>0.075251</td>\n",
              "      <td>0.372910</td>\n",
              "      <td>645.150502</td>\n",
              "      <td>641.823937</td>\n",
              "      <td>0.372650</td>\n",
              "    </tr>\n",
              "    <tr>\n",
              "      <th>5</th>\n",
              "      <td>6</td>\n",
              "      <td>0.100090</td>\n",
              "      <td>7.687319e-01</td>\n",
              "      <td>6.914460</td>\n",
              "      <td>7.167479</td>\n",
              "      <td>0.927928</td>\n",
              "      <td>0.904043</td>\n",
              "      <td>0.961883</td>\n",
              "      <td>0.947071</td>\n",
              "      <td>0.344482</td>\n",
              "      <td>0.717391</td>\n",
              "      <td>591.445961</td>\n",
              "      <td>616.747904</td>\n",
              "      <td>0.712985</td>\n",
              "    </tr>\n",
              "    <tr>\n",
              "      <th>6</th>\n",
              "      <td>7</td>\n",
              "      <td>0.150135</td>\n",
              "      <td>2.405728e-01</td>\n",
              "      <td>3.709045</td>\n",
              "      <td>6.014668</td>\n",
              "      <td>0.497758</td>\n",
              "      <td>0.506820</td>\n",
              "      <td>0.807175</td>\n",
              "      <td>0.800321</td>\n",
              "      <td>0.185619</td>\n",
              "      <td>0.903010</td>\n",
              "      <td>270.904510</td>\n",
              "      <td>501.466773</td>\n",
              "      <td>0.869573</td>\n",
              "    </tr>\n",
              "    <tr>\n",
              "      <th>7</th>\n",
              "      <td>8</td>\n",
              "      <td>0.200180</td>\n",
              "      <td>7.860324e-02</td>\n",
              "      <td>1.035859</td>\n",
              "      <td>4.769966</td>\n",
              "      <td>0.139013</td>\n",
              "      <td>0.134794</td>\n",
              "      <td>0.640135</td>\n",
              "      <td>0.633939</td>\n",
              "      <td>0.051839</td>\n",
              "      <td>0.954849</td>\n",
              "      <td>3.585944</td>\n",
              "      <td>376.996566</td>\n",
              "      <td>0.871646</td>\n",
              "    </tr>\n",
              "    <tr>\n",
              "      <th>8</th>\n",
              "      <td>9</td>\n",
              "      <td>0.300045</td>\n",
              "      <td>2.254314e-02</td>\n",
              "      <td>0.234429</td>\n",
              "      <td>3.260382</td>\n",
              "      <td>0.031461</td>\n",
              "      <td>0.041455</td>\n",
              "      <td>0.437547</td>\n",
              "      <td>0.436740</td>\n",
              "      <td>0.023411</td>\n",
              "      <td>0.978261</td>\n",
              "      <td>-76.557063</td>\n",
              "      <td>226.038178</td>\n",
              "      <td>0.783341</td>\n",
              "    </tr>\n",
              "    <tr>\n",
              "      <th>9</th>\n",
              "      <td>10</td>\n",
              "      <td>0.400135</td>\n",
              "      <td>1.075582e-02</td>\n",
              "      <td>0.033415</td>\n",
              "      <td>2.453188</td>\n",
              "      <td>0.004484</td>\n",
              "      <td>0.015708</td>\n",
              "      <td>0.329220</td>\n",
              "      <td>0.331423</td>\n",
              "      <td>0.003344</td>\n",
              "      <td>0.981605</td>\n",
              "      <td>-96.658518</td>\n",
              "      <td>145.318757</td>\n",
              "      <td>0.671600</td>\n",
              "    </tr>\n",
              "    <tr>\n",
              "      <th>10</th>\n",
              "      <td>11</td>\n",
              "      <td>0.500000</td>\n",
              "      <td>5.866107e-03</td>\n",
              "      <td>0.100470</td>\n",
              "      <td>1.983278</td>\n",
              "      <td>0.013483</td>\n",
              "      <td>0.008095</td>\n",
              "      <td>0.266158</td>\n",
              "      <td>0.266844</td>\n",
              "      <td>0.010033</td>\n",
              "      <td>0.991639</td>\n",
              "      <td>-89.953027</td>\n",
              "      <td>98.327759</td>\n",
              "      <td>0.567844</td>\n",
              "    </tr>\n",
              "    <tr>\n",
              "      <th>11</th>\n",
              "      <td>12</td>\n",
              "      <td>0.600090</td>\n",
              "      <td>2.984755e-03</td>\n",
              "      <td>0.050122</td>\n",
              "      <td>1.660844</td>\n",
              "      <td>0.006726</td>\n",
              "      <td>0.004355</td>\n",
              "      <td>0.222887</td>\n",
              "      <td>0.223063</td>\n",
              "      <td>0.005017</td>\n",
              "      <td>0.996656</td>\n",
              "      <td>-94.987777</td>\n",
              "      <td>66.084405</td>\n",
              "      <td>0.458034</td>\n",
              "    </tr>\n",
              "    <tr>\n",
              "      <th>12</th>\n",
              "      <td>13</td>\n",
              "      <td>0.699955</td>\n",
              "      <td>1.500972e-03</td>\n",
              "      <td>0.016745</td>\n",
              "      <td>1.426274</td>\n",
              "      <td>0.002247</td>\n",
              "      <td>0.002211</td>\n",
              "      <td>0.191408</td>\n",
              "      <td>0.191554</td>\n",
              "      <td>0.001672</td>\n",
              "      <td>0.998328</td>\n",
              "      <td>-98.325504</td>\n",
              "      <td>42.627396</td>\n",
              "      <td>0.344621</td>\n",
              "    </tr>\n",
              "    <tr>\n",
              "      <th>13</th>\n",
              "      <td>14</td>\n",
              "      <td>0.800045</td>\n",
              "      <td>6.051970e-04</td>\n",
              "      <td>0.000000</td>\n",
              "      <td>1.247840</td>\n",
              "      <td>0.000000</td>\n",
              "      <td>0.001000</td>\n",
              "      <td>0.167461</td>\n",
              "      <td>0.167714</td>\n",
              "      <td>0.000000</td>\n",
              "      <td>0.998328</td>\n",
              "      <td>-100.000000</td>\n",
              "      <td>24.783969</td>\n",
              "      <td>0.229017</td>\n",
              "    </tr>\n",
              "    <tr>\n",
              "      <th>14</th>\n",
              "      <td>15</td>\n",
              "      <td>0.899910</td>\n",
              "      <td>1.506789e-04</td>\n",
              "      <td>0.016745</td>\n",
              "      <td>1.111222</td>\n",
              "      <td>0.002247</td>\n",
              "      <td>0.000351</td>\n",
              "      <td>0.149127</td>\n",
              "      <td>0.149142</td>\n",
              "      <td>0.001672</td>\n",
              "      <td>1.000000</td>\n",
              "      <td>-98.325504</td>\n",
              "      <td>11.122195</td>\n",
              "      <td>0.115604</td>\n",
              "    </tr>\n",
              "    <tr>\n",
              "      <th>15</th>\n",
              "      <td>16</td>\n",
              "      <td>1.000000</td>\n",
              "      <td>2.193858e-12</td>\n",
              "      <td>0.000000</td>\n",
              "      <td>1.000000</td>\n",
              "      <td>0.000000</td>\n",
              "      <td>0.000049</td>\n",
              "      <td>0.134201</td>\n",
              "      <td>0.134219</td>\n",
              "      <td>0.000000</td>\n",
              "      <td>1.000000</td>\n",
              "      <td>-100.000000</td>\n",
              "      <td>0.000000</td>\n",
              "      <td>0.000000</td>\n",
              "    </tr>\n",
              "  </tbody>\n",
              "</table>\n",
              "</div>"
            ],
            "text/plain": [
              "    group  cumulative_data_fraction  ...  cumulative_gain  kolmogorov_smirnov\n",
              "0       1                  0.010099  ...       645.150502            0.075251\n",
              "1       2                  0.020422  ...       636.962035            0.150242\n",
              "2       3                  0.030072  ...       639.589677            0.222149\n",
              "3       4                  0.040171  ...       640.987650            0.297400\n",
              "4       5                  0.050269  ...       641.823937            0.372650\n",
              "5       6                  0.100090  ...       616.747904            0.712985\n",
              "6       7                  0.150135  ...       501.466773            0.869573\n",
              "7       8                  0.200180  ...       376.996566            0.871646\n",
              "8       9                  0.300045  ...       226.038178            0.783341\n",
              "9      10                  0.400135  ...       145.318757            0.671600\n",
              "10     11                  0.500000  ...        98.327759            0.567844\n",
              "11     12                  0.600090  ...        66.084405            0.458034\n",
              "12     13                  0.699955  ...        42.627396            0.344621\n",
              "13     14                  0.800045  ...        24.783969            0.229017\n",
              "14     15                  0.899910  ...        11.122195            0.115604\n",
              "15     16                  1.000000  ...         0.000000            0.000000\n",
              "\n",
              "[16 rows x 14 columns]"
            ]
          },
          "metadata": {
            "tags": []
          }
        },
        {
          "output_type": "stream",
          "text": [
            "\n",
            "\n",
            "ModelMetricsBinomialGLM: glm\n",
            "** Reported on validation data. **\n",
            "\n",
            "MSE: 0.026499901046916772\n",
            "RMSE: 0.16278790202873422\n",
            "LogLoss: 0.10211639029021113\n",
            "Null degrees of freedom: 1115\n",
            "Residual degrees of freedom: 1040\n",
            "Null deviance: 877.2023817071786\n",
            "Residual deviance: 227.92378312775122\n",
            "AIC: 379.9237831277512\n",
            "AUC: 0.983436630275605\n",
            "AUCPR: 0.9115107238069988\n",
            "Gini: 0.96687326055121\n",
            "\n",
            "Confusion Matrix (Act/Pred) for max f1 @ threshold = 0.5998123442382717: \n"
          ],
          "name": "stdout"
        },
        {
          "output_type": "display_data",
          "data": {
            "text/html": [
              "<div>\n",
              "<style scoped>\n",
              "    .dataframe tbody tr th:only-of-type {\n",
              "        vertical-align: middle;\n",
              "    }\n",
              "\n",
              "    .dataframe tbody tr th {\n",
              "        vertical-align: top;\n",
              "    }\n",
              "\n",
              "    .dataframe thead th {\n",
              "        text-align: right;\n",
              "    }\n",
              "</style>\n",
              "<table border=\"1\" class=\"dataframe\">\n",
              "  <thead>\n",
              "    <tr style=\"text-align: right;\">\n",
              "      <th></th>\n",
              "      <th></th>\n",
              "      <th>0</th>\n",
              "      <th>1</th>\n",
              "      <th>Error</th>\n",
              "      <th>Rate</th>\n",
              "    </tr>\n",
              "  </thead>\n",
              "  <tbody>\n",
              "    <tr>\n",
              "      <th>0</th>\n",
              "      <td>0</td>\n",
              "      <td>955.0</td>\n",
              "      <td>12.0</td>\n",
              "      <td>0.0124</td>\n",
              "      <td>(12.0/967.0)</td>\n",
              "    </tr>\n",
              "    <tr>\n",
              "      <th>1</th>\n",
              "      <td>1</td>\n",
              "      <td>22.0</td>\n",
              "      <td>127.0</td>\n",
              "      <td>0.1477</td>\n",
              "      <td>(22.0/149.0)</td>\n",
              "    </tr>\n",
              "    <tr>\n",
              "      <th>2</th>\n",
              "      <td>Total</td>\n",
              "      <td>977.0</td>\n",
              "      <td>139.0</td>\n",
              "      <td>0.0305</td>\n",
              "      <td>(34.0/1116.0)</td>\n",
              "    </tr>\n",
              "  </tbody>\n",
              "</table>\n",
              "</div>"
            ],
            "text/plain": [
              "              0      1   Error            Rate\n",
              "0      0  955.0   12.0  0.0124    (12.0/967.0)\n",
              "1      1   22.0  127.0  0.1477    (22.0/149.0)\n",
              "2  Total  977.0  139.0  0.0305   (34.0/1116.0)"
            ]
          },
          "metadata": {
            "tags": []
          }
        },
        {
          "output_type": "stream",
          "text": [
            "\n",
            "Maximum Metrics: Maximum metrics at their respective thresholds\n"
          ],
          "name": "stdout"
        },
        {
          "output_type": "display_data",
          "data": {
            "text/html": [
              "<div>\n",
              "<style scoped>\n",
              "    .dataframe tbody tr th:only-of-type {\n",
              "        vertical-align: middle;\n",
              "    }\n",
              "\n",
              "    .dataframe tbody tr th {\n",
              "        vertical-align: top;\n",
              "    }\n",
              "\n",
              "    .dataframe thead th {\n",
              "        text-align: right;\n",
              "    }\n",
              "</style>\n",
              "<table border=\"1\" class=\"dataframe\">\n",
              "  <thead>\n",
              "    <tr style=\"text-align: right;\">\n",
              "      <th></th>\n",
              "      <th>metric</th>\n",
              "      <th>threshold</th>\n",
              "      <th>value</th>\n",
              "      <th>idx</th>\n",
              "    </tr>\n",
              "  </thead>\n",
              "  <tbody>\n",
              "    <tr>\n",
              "      <th>0</th>\n",
              "      <td>max f1</td>\n",
              "      <td>0.599812</td>\n",
              "      <td>0.881944</td>\n",
              "      <td>108.0</td>\n",
              "    </tr>\n",
              "    <tr>\n",
              "      <th>1</th>\n",
              "      <td>max f2</td>\n",
              "      <td>0.247667</td>\n",
              "      <td>0.897436</td>\n",
              "      <td>150.0</td>\n",
              "    </tr>\n",
              "    <tr>\n",
              "      <th>2</th>\n",
              "      <td>max f0point5</td>\n",
              "      <td>0.721982</td>\n",
              "      <td>0.917293</td>\n",
              "      <td>99.0</td>\n",
              "    </tr>\n",
              "    <tr>\n",
              "      <th>3</th>\n",
              "      <td>max accuracy</td>\n",
              "      <td>0.721982</td>\n",
              "      <td>0.969534</td>\n",
              "      <td>99.0</td>\n",
              "    </tr>\n",
              "    <tr>\n",
              "      <th>4</th>\n",
              "      <td>max precision</td>\n",
              "      <td>0.999960</td>\n",
              "      <td>1.000000</td>\n",
              "      <td>0.0</td>\n",
              "    </tr>\n",
              "    <tr>\n",
              "      <th>5</th>\n",
              "      <td>max recall</td>\n",
              "      <td>0.003228</td>\n",
              "      <td>1.000000</td>\n",
              "      <td>360.0</td>\n",
              "    </tr>\n",
              "    <tr>\n",
              "      <th>6</th>\n",
              "      <td>max specificity</td>\n",
              "      <td>0.999960</td>\n",
              "      <td>1.000000</td>\n",
              "      <td>0.0</td>\n",
              "    </tr>\n",
              "    <tr>\n",
              "      <th>7</th>\n",
              "      <td>max absolute_mcc</td>\n",
              "      <td>0.599812</td>\n",
              "      <td>0.865166</td>\n",
              "      <td>108.0</td>\n",
              "    </tr>\n",
              "    <tr>\n",
              "      <th>8</th>\n",
              "      <td>max min_per_class_accuracy</td>\n",
              "      <td>0.194522</td>\n",
              "      <td>0.946309</td>\n",
              "      <td>158.0</td>\n",
              "    </tr>\n",
              "    <tr>\n",
              "      <th>9</th>\n",
              "      <td>max mean_per_class_accuracy</td>\n",
              "      <td>0.131973</td>\n",
              "      <td>0.948842</td>\n",
              "      <td>169.0</td>\n",
              "    </tr>\n",
              "    <tr>\n",
              "      <th>10</th>\n",
              "      <td>max tns</td>\n",
              "      <td>0.999960</td>\n",
              "      <td>967.000000</td>\n",
              "      <td>0.0</td>\n",
              "    </tr>\n",
              "    <tr>\n",
              "      <th>11</th>\n",
              "      <td>max fns</td>\n",
              "      <td>0.999960</td>\n",
              "      <td>146.000000</td>\n",
              "      <td>0.0</td>\n",
              "    </tr>\n",
              "    <tr>\n",
              "      <th>12</th>\n",
              "      <td>max fps</td>\n",
              "      <td>0.000007</td>\n",
              "      <td>967.000000</td>\n",
              "      <td>399.0</td>\n",
              "    </tr>\n",
              "    <tr>\n",
              "      <th>13</th>\n",
              "      <td>max tps</td>\n",
              "      <td>0.003228</td>\n",
              "      <td>149.000000</td>\n",
              "      <td>360.0</td>\n",
              "    </tr>\n",
              "    <tr>\n",
              "      <th>14</th>\n",
              "      <td>max tnr</td>\n",
              "      <td>0.999960</td>\n",
              "      <td>1.000000</td>\n",
              "      <td>0.0</td>\n",
              "    </tr>\n",
              "    <tr>\n",
              "      <th>15</th>\n",
              "      <td>max fnr</td>\n",
              "      <td>0.999960</td>\n",
              "      <td>0.979866</td>\n",
              "      <td>0.0</td>\n",
              "    </tr>\n",
              "    <tr>\n",
              "      <th>16</th>\n",
              "      <td>max fpr</td>\n",
              "      <td>0.000007</td>\n",
              "      <td>1.000000</td>\n",
              "      <td>399.0</td>\n",
              "    </tr>\n",
              "    <tr>\n",
              "      <th>17</th>\n",
              "      <td>max tpr</td>\n",
              "      <td>0.003228</td>\n",
              "      <td>1.000000</td>\n",
              "      <td>360.0</td>\n",
              "    </tr>\n",
              "  </tbody>\n",
              "</table>\n",
              "</div>"
            ],
            "text/plain": [
              "                         metric  threshold       value    idx\n",
              "0                        max f1   0.599812    0.881944  108.0\n",
              "1                        max f2   0.247667    0.897436  150.0\n",
              "2                  max f0point5   0.721982    0.917293   99.0\n",
              "3                  max accuracy   0.721982    0.969534   99.0\n",
              "4                 max precision   0.999960    1.000000    0.0\n",
              "5                    max recall   0.003228    1.000000  360.0\n",
              "6               max specificity   0.999960    1.000000    0.0\n",
              "7              max absolute_mcc   0.599812    0.865166  108.0\n",
              "8    max min_per_class_accuracy   0.194522    0.946309  158.0\n",
              "9   max mean_per_class_accuracy   0.131973    0.948842  169.0\n",
              "10                      max tns   0.999960  967.000000    0.0\n",
              "11                      max fns   0.999960  146.000000    0.0\n",
              "12                      max fps   0.000007  967.000000  399.0\n",
              "13                      max tps   0.003228  149.000000  360.0\n",
              "14                      max tnr   0.999960    1.000000    0.0\n",
              "15                      max fnr   0.999960    0.979866    0.0\n",
              "16                      max fpr   0.000007    1.000000  399.0\n",
              "17                      max tpr   0.003228    1.000000  360.0"
            ]
          },
          "metadata": {
            "tags": []
          }
        },
        {
          "output_type": "stream",
          "text": [
            "\n",
            "Gains/Lift Table: Avg response rate: 13.35 %, avg score: 14.25 %\n"
          ],
          "name": "stdout"
        },
        {
          "output_type": "display_data",
          "data": {
            "text/html": [
              "<div>\n",
              "<style scoped>\n",
              "    .dataframe tbody tr th:only-of-type {\n",
              "        vertical-align: middle;\n",
              "    }\n",
              "\n",
              "    .dataframe tbody tr th {\n",
              "        vertical-align: top;\n",
              "    }\n",
              "\n",
              "    .dataframe thead th {\n",
              "        text-align: right;\n",
              "    }\n",
              "</style>\n",
              "<table border=\"1\" class=\"dataframe\">\n",
              "  <thead>\n",
              "    <tr style=\"text-align: right;\">\n",
              "      <th></th>\n",
              "      <th>group</th>\n",
              "      <th>cumulative_data_fraction</th>\n",
              "      <th>lower_threshold</th>\n",
              "      <th>lift</th>\n",
              "      <th>cumulative_lift</th>\n",
              "      <th>response_rate</th>\n",
              "      <th>score</th>\n",
              "      <th>cumulative_response_rate</th>\n",
              "      <th>cumulative_score</th>\n",
              "      <th>capture_rate</th>\n",
              "      <th>cumulative_capture_rate</th>\n",
              "      <th>gain</th>\n",
              "      <th>cumulative_gain</th>\n",
              "      <th>kolmogorov_smirnov</th>\n",
              "    </tr>\n",
              "  </thead>\n",
              "  <tbody>\n",
              "    <tr>\n",
              "      <th>0</th>\n",
              "      <td>1</td>\n",
              "      <td>0.010753</td>\n",
              "      <td>9.988188e-01</td>\n",
              "      <td>7.489933</td>\n",
              "      <td>7.489933</td>\n",
              "      <td>1.000000</td>\n",
              "      <td>0.999458</td>\n",
              "      <td>1.000000</td>\n",
              "      <td>0.999458</td>\n",
              "      <td>0.080537</td>\n",
              "      <td>0.080537</td>\n",
              "      <td>648.993289</td>\n",
              "      <td>648.993289</td>\n",
              "      <td>0.080537</td>\n",
              "    </tr>\n",
              "    <tr>\n",
              "      <th>1</th>\n",
              "      <td>2</td>\n",
              "      <td>0.020609</td>\n",
              "      <td>9.957419e-01</td>\n",
              "      <td>6.809030</td>\n",
              "      <td>7.164284</td>\n",
              "      <td>0.909091</td>\n",
              "      <td>0.996862</td>\n",
              "      <td>0.956522</td>\n",
              "      <td>0.998217</td>\n",
              "      <td>0.067114</td>\n",
              "      <td>0.147651</td>\n",
              "      <td>580.902990</td>\n",
              "      <td>616.428363</td>\n",
              "      <td>0.146617</td>\n",
              "    </tr>\n",
              "    <tr>\n",
              "      <th>2</th>\n",
              "      <td>3</td>\n",
              "      <td>0.031362</td>\n",
              "      <td>9.917056e-01</td>\n",
              "      <td>6.865772</td>\n",
              "      <td>7.061937</td>\n",
              "      <td>0.916667</td>\n",
              "      <td>0.993511</td>\n",
              "      <td>0.942857</td>\n",
              "      <td>0.996603</td>\n",
              "      <td>0.073826</td>\n",
              "      <td>0.221477</td>\n",
              "      <td>586.577181</td>\n",
              "      <td>606.193672</td>\n",
              "      <td>0.219408</td>\n",
              "    </tr>\n",
              "    <tr>\n",
              "      <th>3</th>\n",
              "      <td>4</td>\n",
              "      <td>0.040323</td>\n",
              "      <td>9.836443e-01</td>\n",
              "      <td>5.991946</td>\n",
              "      <td>6.824161</td>\n",
              "      <td>0.800000</td>\n",
              "      <td>0.986676</td>\n",
              "      <td>0.911111</td>\n",
              "      <td>0.994397</td>\n",
              "      <td>0.053691</td>\n",
              "      <td>0.275168</td>\n",
              "      <td>499.194631</td>\n",
              "      <td>582.416107</td>\n",
              "      <td>0.271031</td>\n",
              "    </tr>\n",
              "    <tr>\n",
              "      <th>4</th>\n",
              "      <td>5</td>\n",
              "      <td>0.050179</td>\n",
              "      <td>9.752469e-01</td>\n",
              "      <td>7.489933</td>\n",
              "      <td>6.954938</td>\n",
              "      <td>1.000000</td>\n",
              "      <td>0.978998</td>\n",
              "      <td>0.928571</td>\n",
              "      <td>0.991372</td>\n",
              "      <td>0.073826</td>\n",
              "      <td>0.348993</td>\n",
              "      <td>648.993289</td>\n",
              "      <td>595.493768</td>\n",
              "      <td>0.344857</td>\n",
              "    </tr>\n",
              "    <tr>\n",
              "      <th>5</th>\n",
              "      <td>6</td>\n",
              "      <td>0.100358</td>\n",
              "      <td>8.303283e-01</td>\n",
              "      <td>7.356184</td>\n",
              "      <td>7.155561</td>\n",
              "      <td>0.982143</td>\n",
              "      <td>0.927877</td>\n",
              "      <td>0.955357</td>\n",
              "      <td>0.959625</td>\n",
              "      <td>0.369128</td>\n",
              "      <td>0.718121</td>\n",
              "      <td>635.618408</td>\n",
              "      <td>615.556088</td>\n",
              "      <td>0.712950</td>\n",
              "    </tr>\n",
              "    <tr>\n",
              "      <th>6</th>\n",
              "      <td>7</td>\n",
              "      <td>0.150538</td>\n",
              "      <td>3.511940e-01</td>\n",
              "      <td>3.477469</td>\n",
              "      <td>5.929530</td>\n",
              "      <td>0.464286</td>\n",
              "      <td>0.575437</td>\n",
              "      <td>0.791667</td>\n",
              "      <td>0.831562</td>\n",
              "      <td>0.174497</td>\n",
              "      <td>0.892617</td>\n",
              "      <td>247.746884</td>\n",
              "      <td>492.953020</td>\n",
              "      <td>0.856423</td>\n",
              "    </tr>\n",
              "    <tr>\n",
              "      <th>7</th>\n",
              "      <td>8</td>\n",
              "      <td>0.200717</td>\n",
              "      <td>9.232895e-02</td>\n",
              "      <td>1.337488</td>\n",
              "      <td>4.781520</td>\n",
              "      <td>0.178571</td>\n",
              "      <td>0.186489</td>\n",
              "      <td>0.638393</td>\n",
              "      <td>0.670294</td>\n",
              "      <td>0.067114</td>\n",
              "      <td>0.959732</td>\n",
              "      <td>33.748802</td>\n",
              "      <td>378.151965</td>\n",
              "      <td>0.875967</td>\n",
              "    </tr>\n",
              "    <tr>\n",
              "      <th>8</th>\n",
              "      <td>9</td>\n",
              "      <td>0.300179</td>\n",
              "      <td>2.533586e-02</td>\n",
              "      <td>0.202431</td>\n",
              "      <td>3.264269</td>\n",
              "      <td>0.027027</td>\n",
              "      <td>0.045631</td>\n",
              "      <td>0.435821</td>\n",
              "      <td>0.463316</td>\n",
              "      <td>0.020134</td>\n",
              "      <td>0.979866</td>\n",
              "      <td>-79.756938</td>\n",
              "      <td>226.426926</td>\n",
              "      <td>0.784416</td>\n",
              "    </tr>\n",
              "    <tr>\n",
              "      <th>9</th>\n",
              "      <td>10</td>\n",
              "      <td>0.400538</td>\n",
              "      <td>1.092500e-02</td>\n",
              "      <td>0.133749</td>\n",
              "      <td>2.479888</td>\n",
              "      <td>0.017857</td>\n",
              "      <td>0.017197</td>\n",
              "      <td>0.331096</td>\n",
              "      <td>0.351537</td>\n",
              "      <td>0.013423</td>\n",
              "      <td>0.993289</td>\n",
              "      <td>-86.625120</td>\n",
              "      <td>147.988829</td>\n",
              "      <td>0.684085</td>\n",
              "    </tr>\n",
              "    <tr>\n",
              "      <th>10</th>\n",
              "      <td>11</td>\n",
              "      <td>0.500000</td>\n",
              "      <td>5.859813e-03</td>\n",
              "      <td>0.000000</td>\n",
              "      <td>1.986577</td>\n",
              "      <td>0.000000</td>\n",
              "      <td>0.008244</td>\n",
              "      <td>0.265233</td>\n",
              "      <td>0.283247</td>\n",
              "      <td>0.000000</td>\n",
              "      <td>0.993289</td>\n",
              "      <td>-100.000000</td>\n",
              "      <td>98.657718</td>\n",
              "      <td>0.569297</td>\n",
              "    </tr>\n",
              "    <tr>\n",
              "      <th>11</th>\n",
              "      <td>12</td>\n",
              "      <td>0.600358</td>\n",
              "      <td>3.108882e-03</td>\n",
              "      <td>0.066874</td>\n",
              "      <td>1.665672</td>\n",
              "      <td>0.008929</td>\n",
              "      <td>0.004399</td>\n",
              "      <td>0.222388</td>\n",
              "      <td>0.236634</td>\n",
              "      <td>0.006711</td>\n",
              "      <td>1.000000</td>\n",
              "      <td>-93.312560</td>\n",
              "      <td>66.567164</td>\n",
              "      <td>0.461220</td>\n",
              "    </tr>\n",
              "    <tr>\n",
              "      <th>12</th>\n",
              "      <td>13</td>\n",
              "      <td>0.699821</td>\n",
              "      <td>1.690334e-03</td>\n",
              "      <td>0.000000</td>\n",
              "      <td>1.428937</td>\n",
              "      <td>0.000000</td>\n",
              "      <td>0.002392</td>\n",
              "      <td>0.190781</td>\n",
              "      <td>0.203342</td>\n",
              "      <td>0.000000</td>\n",
              "      <td>1.000000</td>\n",
              "      <td>-100.000000</td>\n",
              "      <td>42.893726</td>\n",
              "      <td>0.346432</td>\n",
              "    </tr>\n",
              "    <tr>\n",
              "      <th>13</th>\n",
              "      <td>14</td>\n",
              "      <td>0.800179</td>\n",
              "      <td>7.277240e-04</td>\n",
              "      <td>0.000000</td>\n",
              "      <td>1.249720</td>\n",
              "      <td>0.000000</td>\n",
              "      <td>0.001121</td>\n",
              "      <td>0.166853</td>\n",
              "      <td>0.177979</td>\n",
              "      <td>0.000000</td>\n",
              "      <td>1.000000</td>\n",
              "      <td>-100.000000</td>\n",
              "      <td>24.972004</td>\n",
              "      <td>0.230610</td>\n",
              "    </tr>\n",
              "    <tr>\n",
              "      <th>14</th>\n",
              "      <td>15</td>\n",
              "      <td>0.899642</td>\n",
              "      <td>1.959220e-04</td>\n",
              "      <td>0.000000</td>\n",
              "      <td>1.111554</td>\n",
              "      <td>0.000000</td>\n",
              "      <td>0.000434</td>\n",
              "      <td>0.148406</td>\n",
              "      <td>0.158350</td>\n",
              "      <td>0.000000</td>\n",
              "      <td>1.000000</td>\n",
              "      <td>-100.000000</td>\n",
              "      <td>11.155378</td>\n",
              "      <td>0.115822</td>\n",
              "    </tr>\n",
              "    <tr>\n",
              "      <th>15</th>\n",
              "      <td>16</td>\n",
              "      <td>1.000000</td>\n",
              "      <td>2.193858e-12</td>\n",
              "      <td>0.000000</td>\n",
              "      <td>1.000000</td>\n",
              "      <td>0.000000</td>\n",
              "      <td>0.000062</td>\n",
              "      <td>0.133513</td>\n",
              "      <td>0.142465</td>\n",
              "      <td>0.000000</td>\n",
              "      <td>1.000000</td>\n",
              "      <td>-100.000000</td>\n",
              "      <td>0.000000</td>\n",
              "      <td>0.000000</td>\n",
              "    </tr>\n",
              "  </tbody>\n",
              "</table>\n",
              "</div>"
            ],
            "text/plain": [
              "    group  cumulative_data_fraction  ...  cumulative_gain  kolmogorov_smirnov\n",
              "0       1                  0.010753  ...       648.993289            0.080537\n",
              "1       2                  0.020609  ...       616.428363            0.146617\n",
              "2       3                  0.031362  ...       606.193672            0.219408\n",
              "3       4                  0.040323  ...       582.416107            0.271031\n",
              "4       5                  0.050179  ...       595.493768            0.344857\n",
              "5       6                  0.100358  ...       615.556088            0.712950\n",
              "6       7                  0.150538  ...       492.953020            0.856423\n",
              "7       8                  0.200717  ...       378.151965            0.875967\n",
              "8       9                  0.300179  ...       226.426926            0.784416\n",
              "9      10                  0.400538  ...       147.988829            0.684085\n",
              "10     11                  0.500000  ...        98.657718            0.569297\n",
              "11     12                  0.600358  ...        66.567164            0.461220\n",
              "12     13                  0.699821  ...        42.893726            0.346432\n",
              "13     14                  0.800179  ...        24.972004            0.230610\n",
              "14     15                  0.899642  ...        11.155378            0.115822\n",
              "15     16                  1.000000  ...         0.000000            0.000000\n",
              "\n",
              "[16 rows x 14 columns]"
            ]
          },
          "metadata": {
            "tags": []
          }
        },
        {
          "output_type": "stream",
          "text": [
            "\n",
            "\n",
            "Scoring History: \n"
          ],
          "name": "stdout"
        },
        {
          "output_type": "display_data",
          "data": {
            "text/html": [
              "<div>\n",
              "<style scoped>\n",
              "    .dataframe tbody tr th:only-of-type {\n",
              "        vertical-align: middle;\n",
              "    }\n",
              "\n",
              "    .dataframe tbody tr th {\n",
              "        vertical-align: top;\n",
              "    }\n",
              "\n",
              "    .dataframe thead th {\n",
              "        text-align: right;\n",
              "    }\n",
              "</style>\n",
              "<table border=\"1\" class=\"dataframe\">\n",
              "  <thead>\n",
              "    <tr style=\"text-align: right;\">\n",
              "      <th></th>\n",
              "      <th></th>\n",
              "      <th>timestamp</th>\n",
              "      <th>duration</th>\n",
              "      <th>iterations</th>\n",
              "      <th>negative_log_likelihood</th>\n",
              "      <th>objective</th>\n",
              "      <th>training_rmse</th>\n",
              "      <th>training_logloss</th>\n",
              "      <th>training_r2</th>\n",
              "      <th>training_auc</th>\n",
              "      <th>training_pr_auc</th>\n",
              "      <th>training_lift</th>\n",
              "      <th>training_classification_error</th>\n",
              "      <th>validation_rmse</th>\n",
              "      <th>validation_logloss</th>\n",
              "      <th>validation_r2</th>\n",
              "      <th>validation_auc</th>\n",
              "      <th>validation_pr_auc</th>\n",
              "      <th>validation_lift</th>\n",
              "      <th>validation_classification_error</th>\n",
              "    </tr>\n",
              "  </thead>\n",
              "  <tbody>\n",
              "    <tr>\n",
              "      <th>0</th>\n",
              "      <td></td>\n",
              "      <td>2020-11-14 13:21:31</td>\n",
              "      <td>0.000 sec</td>\n",
              "      <td>0</td>\n",
              "      <td>1756.980570</td>\n",
              "      <td>0.394295</td>\n",
              "      <td></td>\n",
              "      <td></td>\n",
              "      <td></td>\n",
              "      <td></td>\n",
              "      <td></td>\n",
              "      <td></td>\n",
              "      <td></td>\n",
              "      <td></td>\n",
              "      <td></td>\n",
              "      <td></td>\n",
              "      <td></td>\n",
              "      <td></td>\n",
              "      <td></td>\n",
              "      <td></td>\n",
              "    </tr>\n",
              "    <tr>\n",
              "      <th>1</th>\n",
              "      <td></td>\n",
              "      <td>2020-11-14 13:21:31</td>\n",
              "      <td>0.183 sec</td>\n",
              "      <td>1</td>\n",
              "      <td>629.422202</td>\n",
              "      <td>0.146431</td>\n",
              "      <td></td>\n",
              "      <td></td>\n",
              "      <td></td>\n",
              "      <td></td>\n",
              "      <td></td>\n",
              "      <td></td>\n",
              "      <td></td>\n",
              "      <td></td>\n",
              "      <td></td>\n",
              "      <td></td>\n",
              "      <td></td>\n",
              "      <td></td>\n",
              "      <td></td>\n",
              "      <td></td>\n",
              "    </tr>\n",
              "    <tr>\n",
              "      <th>2</th>\n",
              "      <td></td>\n",
              "      <td>2020-11-14 13:21:31</td>\n",
              "      <td>0.294 sec</td>\n",
              "      <td>2</td>\n",
              "      <td>493.350372</td>\n",
              "      <td>0.116444</td>\n",
              "      <td></td>\n",
              "      <td></td>\n",
              "      <td></td>\n",
              "      <td></td>\n",
              "      <td></td>\n",
              "      <td></td>\n",
              "      <td></td>\n",
              "      <td></td>\n",
              "      <td></td>\n",
              "      <td></td>\n",
              "      <td></td>\n",
              "      <td></td>\n",
              "      <td></td>\n",
              "      <td></td>\n",
              "    </tr>\n",
              "    <tr>\n",
              "      <th>3</th>\n",
              "      <td></td>\n",
              "      <td>2020-11-14 13:21:31</td>\n",
              "      <td>0.390 sec</td>\n",
              "      <td>3</td>\n",
              "      <td>442.599542</td>\n",
              "      <td>0.105946</td>\n",
              "      <td></td>\n",
              "      <td></td>\n",
              "      <td></td>\n",
              "      <td></td>\n",
              "      <td></td>\n",
              "      <td></td>\n",
              "      <td></td>\n",
              "      <td></td>\n",
              "      <td></td>\n",
              "      <td></td>\n",
              "      <td></td>\n",
              "      <td></td>\n",
              "      <td></td>\n",
              "      <td></td>\n",
              "    </tr>\n",
              "    <tr>\n",
              "      <th>4</th>\n",
              "      <td></td>\n",
              "      <td>2020-11-14 13:21:31</td>\n",
              "      <td>0.503 sec</td>\n",
              "      <td>4</td>\n",
              "      <td>426.834355</td>\n",
              "      <td>0.102917</td>\n",
              "      <td></td>\n",
              "      <td></td>\n",
              "      <td></td>\n",
              "      <td></td>\n",
              "      <td></td>\n",
              "      <td></td>\n",
              "      <td></td>\n",
              "      <td></td>\n",
              "      <td></td>\n",
              "      <td></td>\n",
              "      <td></td>\n",
              "      <td></td>\n",
              "      <td></td>\n",
              "      <td></td>\n",
              "    </tr>\n",
              "    <tr>\n",
              "      <th>5</th>\n",
              "      <td></td>\n",
              "      <td>2020-11-14 13:21:31</td>\n",
              "      <td>0.600 sec</td>\n",
              "      <td>5</td>\n",
              "      <td>423.386404</td>\n",
              "      <td>0.102373</td>\n",
              "      <td></td>\n",
              "      <td></td>\n",
              "      <td></td>\n",
              "      <td></td>\n",
              "      <td></td>\n",
              "      <td></td>\n",
              "      <td></td>\n",
              "      <td></td>\n",
              "      <td></td>\n",
              "      <td></td>\n",
              "      <td></td>\n",
              "      <td></td>\n",
              "      <td></td>\n",
              "      <td></td>\n",
              "    </tr>\n",
              "    <tr>\n",
              "      <th>6</th>\n",
              "      <td></td>\n",
              "      <td>2020-11-14 13:21:31</td>\n",
              "      <td>0.699 sec</td>\n",
              "      <td>6</td>\n",
              "      <td>422.924055</td>\n",
              "      <td>0.102351</td>\n",
              "      <td></td>\n",
              "      <td></td>\n",
              "      <td></td>\n",
              "      <td></td>\n",
              "      <td></td>\n",
              "      <td></td>\n",
              "      <td></td>\n",
              "      <td></td>\n",
              "      <td></td>\n",
              "      <td></td>\n",
              "      <td></td>\n",
              "      <td></td>\n",
              "      <td></td>\n",
              "      <td></td>\n",
              "    </tr>\n",
              "    <tr>\n",
              "      <th>7</th>\n",
              "      <td></td>\n",
              "      <td>2020-11-14 13:21:31</td>\n",
              "      <td>0.832 sec</td>\n",
              "      <td>7</td>\n",
              "      <td>423.006276</td>\n",
              "      <td>0.102356</td>\n",
              "      <td>0.160173</td>\n",
              "      <td>0.0949296</td>\n",
              "      <td>0.779196</td>\n",
              "      <td>NaN</td>\n",
              "      <td>NaN</td>\n",
              "      <td>7.45151</td>\n",
              "      <td>0.0327648</td>\n",
              "      <td>0.162788</td>\n",
              "      <td>0.102116</td>\n",
              "      <td>0.770934</td>\n",
              "      <td>0.983437</td>\n",
              "      <td>0.911511</td>\n",
              "      <td>7.48993</td>\n",
              "      <td>0.0304659</td>\n",
              "    </tr>\n",
              "  </tbody>\n",
              "</table>\n",
              "</div>"
            ],
            "text/plain": [
              "               timestamp  ... validation_lift  validation_classification_error\n",
              "0    2020-11-14 13:21:31  ...                                                 \n",
              "1    2020-11-14 13:21:31  ...                                                 \n",
              "2    2020-11-14 13:21:31  ...                                                 \n",
              "3    2020-11-14 13:21:31  ...                                                 \n",
              "4    2020-11-14 13:21:31  ...                                                 \n",
              "5    2020-11-14 13:21:31  ...                                                 \n",
              "6    2020-11-14 13:21:31  ...                                                 \n",
              "7    2020-11-14 13:21:31  ...         7.48993                        0.0304659\n",
              "\n",
              "[8 rows x 20 columns]"
            ]
          },
          "metadata": {
            "tags": []
          }
        },
        {
          "output_type": "stream",
          "text": [
            "<bound method ModelBase.auc of >\n"
          ],
          "name": "stdout"
        }
      ]
    },
    {
      "cell_type": "code",
      "metadata": {
        "id": "cUXLWaEUlA5X",
        "outputId": "96142cd0-e037-4004-82e9-fa0505a5a4dc",
        "colab": {
          "base_uri": "https://localhost:8080/",
          "height": 176
        }
      },
      "source": [
        "glm_embeddings.confusion_matrix(valid=True)"
      ],
      "execution_count": 207,
      "outputs": [
        {
          "output_type": "stream",
          "text": [
            "\n",
            "Confusion Matrix (Act/Pred) for max f1 @ threshold = 0.5998123442382717: \n"
          ],
          "name": "stdout"
        },
        {
          "output_type": "display_data",
          "data": {
            "text/html": [
              "<div>\n",
              "<style scoped>\n",
              "    .dataframe tbody tr th:only-of-type {\n",
              "        vertical-align: middle;\n",
              "    }\n",
              "\n",
              "    .dataframe tbody tr th {\n",
              "        vertical-align: top;\n",
              "    }\n",
              "\n",
              "    .dataframe thead th {\n",
              "        text-align: right;\n",
              "    }\n",
              "</style>\n",
              "<table border=\"1\" class=\"dataframe\">\n",
              "  <thead>\n",
              "    <tr style=\"text-align: right;\">\n",
              "      <th></th>\n",
              "      <th></th>\n",
              "      <th>0</th>\n",
              "      <th>1</th>\n",
              "      <th>Error</th>\n",
              "      <th>Rate</th>\n",
              "    </tr>\n",
              "  </thead>\n",
              "  <tbody>\n",
              "    <tr>\n",
              "      <th>0</th>\n",
              "      <td>0</td>\n",
              "      <td>955.0</td>\n",
              "      <td>12.0</td>\n",
              "      <td>0.0124</td>\n",
              "      <td>(12.0/967.0)</td>\n",
              "    </tr>\n",
              "    <tr>\n",
              "      <th>1</th>\n",
              "      <td>1</td>\n",
              "      <td>22.0</td>\n",
              "      <td>127.0</td>\n",
              "      <td>0.1477</td>\n",
              "      <td>(22.0/149.0)</td>\n",
              "    </tr>\n",
              "    <tr>\n",
              "      <th>2</th>\n",
              "      <td>Total</td>\n",
              "      <td>977.0</td>\n",
              "      <td>139.0</td>\n",
              "      <td>0.0305</td>\n",
              "      <td>(34.0/1116.0)</td>\n",
              "    </tr>\n",
              "  </tbody>\n",
              "</table>\n",
              "</div>"
            ],
            "text/plain": [
              "              0      1   Error            Rate\n",
              "0      0  955.0   12.0  0.0124    (12.0/967.0)\n",
              "1      1   22.0  127.0  0.1477    (22.0/149.0)\n",
              "2  Total  977.0  139.0  0.0305   (34.0/1116.0)"
            ]
          },
          "metadata": {
            "tags": []
          }
        },
        {
          "output_type": "execute_result",
          "data": {
            "text/plain": [
              ""
            ]
          },
          "metadata": {
            "tags": []
          },
          "execution_count": 207
        }
      ]
    },
    {
      "cell_type": "code",
      "metadata": {
        "id": "EcjPSMh4qk_d",
        "outputId": "79a753d5-4949-48c5-e424-3c25f16da392",
        "colab": {
          "base_uri": "https://localhost:8080/"
        }
      },
      "source": [
        "kmeans.train(x=predictors,\n",
        "            training_frame=train,\n",
        "            validation_frame=test)"
      ],
      "execution_count": 208,
      "outputs": [
        {
          "output_type": "stream",
          "text": [
            "kmeans Model Build progress: |████████████████████████████████████████████| 100%\n"
          ],
          "name": "stdout"
        }
      ]
    },
    {
      "cell_type": "code",
      "metadata": {
        "id": "dgRkHGCWqk9K",
        "outputId": "2a5f8f2c-ee29-4bf7-9bda-631b0058e47d",
        "colab": {
          "base_uri": "https://localhost:8080/"
        }
      },
      "source": [
        "pred = kmeans.predict(test)"
      ],
      "execution_count": 209,
      "outputs": [
        {
          "output_type": "stream",
          "text": [
            "kmeans prediction progress: |█████████████████████████████████████████████| 100%\n"
          ],
          "name": "stdout"
        }
      ]
    },
    {
      "cell_type": "code",
      "metadata": {
        "id": "S8Mc8InGzgn_",
        "outputId": "5c50c683-1aed-4096-a41b-ad5d8caa84b5",
        "colab": {
          "base_uri": "https://localhost:8080/",
          "height": 250
        }
      },
      "source": [
        "pred"
      ],
      "execution_count": 210,
      "outputs": [
        {
          "output_type": "display_data",
          "data": {
            "text/html": [
              "<table>\n",
              "<thead>\n",
              "<tr><th style=\"text-align: right;\">  predict</th></tr>\n",
              "</thead>\n",
              "<tbody>\n",
              "<tr><td style=\"text-align: right;\">        0</td></tr>\n",
              "<tr><td style=\"text-align: right;\">        0</td></tr>\n",
              "<tr><td style=\"text-align: right;\">        0</td></tr>\n",
              "<tr><td style=\"text-align: right;\">        0</td></tr>\n",
              "<tr><td style=\"text-align: right;\">        0</td></tr>\n",
              "<tr><td style=\"text-align: right;\">        1</td></tr>\n",
              "<tr><td style=\"text-align: right;\">        0</td></tr>\n",
              "<tr><td style=\"text-align: right;\">        0</td></tr>\n",
              "<tr><td style=\"text-align: right;\">        0</td></tr>\n",
              "<tr><td style=\"text-align: right;\">        0</td></tr>\n",
              "</tbody>\n",
              "</table>"
            ]
          },
          "metadata": {
            "tags": []
          }
        },
        {
          "output_type": "execute_result",
          "data": {
            "text/plain": [
              ""
            ]
          },
          "metadata": {
            "tags": []
          },
          "execution_count": 210
        }
      ]
    },
    {
      "cell_type": "code",
      "metadata": {
        "id": "QVcmfmzcq2KK"
      },
      "source": [
        "test['labels'] =  pred"
      ],
      "execution_count": 211,
      "outputs": []
    },
    {
      "cell_type": "code",
      "metadata": {
        "id": "e8LNx9QE4w8s",
        "outputId": "23c9cafa-7c79-4b3b-c253-46c24578e79b",
        "colab": {
          "base_uri": "https://localhost:8080/",
          "height": 559
        }
      },
      "source": [
        "test.head(10)"
      ],
      "execution_count": 238,
      "outputs": [
        {
          "output_type": "display_data",
          "data": {
            "text/html": [
              "<table>\n",
              "<thead>\n",
              "<tr><th style=\"text-align: right;\">  target</th><th>text_lemmatized                                                                                                                        </th><th style=\"text-align: right;\">         C1</th><th style=\"text-align: right;\">        C2</th><th style=\"text-align: right;\">        C3</th><th style=\"text-align: right;\">         C4</th><th style=\"text-align: right;\">        C5</th><th style=\"text-align: right;\">         C6</th><th style=\"text-align: right;\">         C7</th><th style=\"text-align: right;\">        C8</th><th style=\"text-align: right;\">        C9</th><th style=\"text-align: right;\">        C10</th><th style=\"text-align: right;\">        C11</th><th style=\"text-align: right;\">       C12</th><th style=\"text-align: right;\">       C13</th><th style=\"text-align: right;\">        C14</th><th style=\"text-align: right;\">        C15</th><th style=\"text-align: right;\">        C16</th><th style=\"text-align: right;\">        C17</th><th style=\"text-align: right;\">        C18</th><th style=\"text-align: right;\">       C19</th><th style=\"text-align: right;\">        C20</th><th style=\"text-align: right;\">       C21</th><th style=\"text-align: right;\">        C22</th><th style=\"text-align: right;\">        C23</th><th style=\"text-align: right;\">        C24</th><th style=\"text-align: right;\">       C25</th><th style=\"text-align: right;\">       C26</th><th style=\"text-align: right;\">       C27</th><th style=\"text-align: right;\">      C28</th><th style=\"text-align: right;\">       C29</th><th style=\"text-align: right;\">        C30</th><th style=\"text-align: right;\">       C31</th><th style=\"text-align: right;\">      C32</th><th style=\"text-align: right;\">       C33</th><th style=\"text-align: right;\">        C34</th><th style=\"text-align: right;\">        C35</th><th style=\"text-align: right;\">         C36</th><th style=\"text-align: right;\">        C37</th><th style=\"text-align: right;\">       C38</th><th style=\"text-align: right;\">        C39</th><th style=\"text-align: right;\">       C40</th><th style=\"text-align: right;\">       C41</th><th style=\"text-align: right;\">        C42</th><th style=\"text-align: right;\">        C43</th><th style=\"text-align: right;\">        C44</th><th style=\"text-align: right;\">       C45</th><th style=\"text-align: right;\">        C46</th><th style=\"text-align: right;\">      C47</th><th style=\"text-align: right;\">      C48</th><th style=\"text-align: right;\">         C49</th><th style=\"text-align: right;\">      C50</th><th style=\"text-align: right;\">        C51</th><th style=\"text-align: right;\">        C52</th><th style=\"text-align: right;\">       C53</th><th style=\"text-align: right;\">       C54</th><th style=\"text-align: right;\">        C55</th><th style=\"text-align: right;\">       C56</th><th style=\"text-align: right;\">      C57</th><th style=\"text-align: right;\">       C58</th><th style=\"text-align: right;\">       C59</th><th style=\"text-align: right;\">        C60</th><th style=\"text-align: right;\">        C61</th><th style=\"text-align: right;\">        C62</th><th style=\"text-align: right;\">      C63</th><th style=\"text-align: right;\">        C64</th><th style=\"text-align: right;\">       C65</th><th style=\"text-align: right;\">        C66</th><th style=\"text-align: right;\">       C67</th><th style=\"text-align: right;\">         C68</th><th style=\"text-align: right;\">       C69</th><th style=\"text-align: right;\">       C70</th><th style=\"text-align: right;\">        C71</th><th style=\"text-align: right;\">        C72</th><th style=\"text-align: right;\">       C73</th><th style=\"text-align: right;\">        C74</th><th style=\"text-align: right;\">       C75</th><th style=\"text-align: right;\">       C76</th><th style=\"text-align: right;\">       C77</th><th style=\"text-align: right;\">         C78</th><th style=\"text-align: right;\">        C79</th><th style=\"text-align: right;\">       C80</th><th style=\"text-align: right;\">        C81</th><th style=\"text-align: right;\">        C82</th><th style=\"text-align: right;\">        C83</th><th style=\"text-align: right;\">         C84</th><th style=\"text-align: right;\">       C85</th><th style=\"text-align: right;\">       C86</th><th style=\"text-align: right;\">        C87</th><th style=\"text-align: right;\">        C88</th><th style=\"text-align: right;\">       C89</th><th style=\"text-align: right;\">        C90</th><th style=\"text-align: right;\">         C91</th><th style=\"text-align: right;\">        C92</th><th style=\"text-align: right;\">       C93</th><th style=\"text-align: right;\">       C94</th><th style=\"text-align: right;\">       C95</th><th style=\"text-align: right;\">       C96</th><th style=\"text-align: right;\">       C97</th><th style=\"text-align: right;\">        C98</th><th style=\"text-align: right;\">        C99</th><th style=\"text-align: right;\">        C100</th><th style=\"text-align: right;\">  labels</th></tr>\n",
              "</thead>\n",
              "<tbody>\n",
              "<tr><td style=\"text-align: right;\">       1</td><td>free entry 2 wkly comp win fa cup final tkts 21st may 2005 text fa 87121 receive entry questionstd txt ratetcs apply 08452810075over18s</td><td style=\"text-align: right;\">-0.00762828</td><td style=\"text-align: right;\"> 0.0230864</td><td style=\"text-align: right;\">-0.30226  </td><td style=\"text-align: right;\"> 0.0967428 </td><td style=\"text-align: right;\"> 0.010408 </td><td style=\"text-align: right;\">-0.0499013 </td><td style=\"text-align: right;\"> 0.0687067 </td><td style=\"text-align: right;\">-0.212729 </td><td style=\"text-align: right;\">-0.144626 </td><td style=\"text-align: right;\">-0.0554523 </td><td style=\"text-align: right;\"> 0.050942  </td><td style=\"text-align: right;\">-0.24237  </td><td style=\"text-align: right;\"> 0.0975319</td><td style=\"text-align: right;\">-0.0687599 </td><td style=\"text-align: right;\">-0.0419152 </td><td style=\"text-align: right;\">-0.124189  </td><td style=\"text-align: right;\">-0.293581  </td><td style=\"text-align: right;\"> 0.216416  </td><td style=\"text-align: right;\"> 0.0742509</td><td style=\"text-align: right;\"> 0.108855  </td><td style=\"text-align: right;\">-0.172451 </td><td style=\"text-align: right;\">-0.00661499</td><td style=\"text-align: right;\"> 0.0333667 </td><td style=\"text-align: right;\">-0.0621721 </td><td style=\"text-align: right;\"> 0.084391 </td><td style=\"text-align: right;\"> 0.0337786</td><td style=\"text-align: right;\">-0.165926 </td><td style=\"text-align: right;\">0.215333 </td><td style=\"text-align: right;\">-0.0792341</td><td style=\"text-align: right;\">-0.107513  </td><td style=\"text-align: right;\"> 0.111454 </td><td style=\"text-align: right;\">0.178093 </td><td style=\"text-align: right;\">-0.0160881</td><td style=\"text-align: right;\">-0.270295  </td><td style=\"text-align: right;\">-0.0685811 </td><td style=\"text-align: right;\"> 0.000659249</td><td style=\"text-align: right;\"> 0.11958   </td><td style=\"text-align: right;\"> 0.213109 </td><td style=\"text-align: right;\">-0.0674671 </td><td style=\"text-align: right;\">-0.108383 </td><td style=\"text-align: right;\">-0.190756 </td><td style=\"text-align: right;\">-0.141597  </td><td style=\"text-align: right;\">-0.216895  </td><td style=\"text-align: right;\"> 0.212283  </td><td style=\"text-align: right;\"> 0.358174 </td><td style=\"text-align: right;\"> 0.135564  </td><td style=\"text-align: right;\">0.16448  </td><td style=\"text-align: right;\">0.152021 </td><td style=\"text-align: right;\">-0.0595424  </td><td style=\"text-align: right;\">0.10433  </td><td style=\"text-align: right;\">-0.219421  </td><td style=\"text-align: right;\">-0.138108  </td><td style=\"text-align: right;\">-0.19909  </td><td style=\"text-align: right;\"> 0.0397189</td><td style=\"text-align: right;\"> 0.00395114</td><td style=\"text-align: right;\"> 0.109897 </td><td style=\"text-align: right;\">0.354996 </td><td style=\"text-align: right;\">-0.0899712</td><td style=\"text-align: right;\"> 0.218633 </td><td style=\"text-align: right;\"> 0.10469   </td><td style=\"text-align: right;\"> 0.146584  </td><td style=\"text-align: right;\"> 0.094411  </td><td style=\"text-align: right;\">0.202303 </td><td style=\"text-align: right;\"> 0.0481459 </td><td style=\"text-align: right;\"> 0.327986 </td><td style=\"text-align: right;\">-0.200289  </td><td style=\"text-align: right;\">-0.272546 </td><td style=\"text-align: right;\"> 0.227837   </td><td style=\"text-align: right;\">0.182889  </td><td style=\"text-align: right;\"> 0.292427 </td><td style=\"text-align: right;\">-0.0225554 </td><td style=\"text-align: right;\">-0.0566371 </td><td style=\"text-align: right;\">-0.283836 </td><td style=\"text-align: right;\">-0.015552  </td><td style=\"text-align: right;\"> 0.0937515</td><td style=\"text-align: right;\">-0.10822  </td><td style=\"text-align: right;\">-0.0520969</td><td style=\"text-align: right;\"> 0.00986991 </td><td style=\"text-align: right;\">-0.0441816 </td><td style=\"text-align: right;\"> 0.0419072</td><td style=\"text-align: right;\">-0.0749701 </td><td style=\"text-align: right;\"> 0.12206   </td><td style=\"text-align: right;\">-0.00110314</td><td style=\"text-align: right;\">-0.242071   </td><td style=\"text-align: right;\">-0.0264855</td><td style=\"text-align: right;\">-0.0208607</td><td style=\"text-align: right;\"> 0.169471  </td><td style=\"text-align: right;\"> 0.167122  </td><td style=\"text-align: right;\"> 0.0438612</td><td style=\"text-align: right;\"> 0.022828  </td><td style=\"text-align: right;\"> 0.0179388  </td><td style=\"text-align: right;\">-0.24981   </td><td style=\"text-align: right;\"> 0.160619 </td><td style=\"text-align: right;\">-0.0247788</td><td style=\"text-align: right;\">-0.120752 </td><td style=\"text-align: right;\">-0.0785427</td><td style=\"text-align: right;\"> 0.0214808</td><td style=\"text-align: right;\">-0.178736  </td><td style=\"text-align: right;\"> 0.0166734 </td><td style=\"text-align: right;\">-0.175072   </td><td style=\"text-align: right;\">       0</td></tr>\n",
              "<tr><td style=\"text-align: right;\">       0</td><td>even brother like speak treat like aid patent                                                                                          </td><td style=\"text-align: right;\">-0.0347171 </td><td style=\"text-align: right;\">-0.223338 </td><td style=\"text-align: right;\"> 0.0218227</td><td style=\"text-align: right;\"> 0.0451449 </td><td style=\"text-align: right;\">-0.0120001</td><td style=\"text-align: right;\">-0.0303854 </td><td style=\"text-align: right;\">-0.0135948 </td><td style=\"text-align: right;\">-0.0485829</td><td style=\"text-align: right;\">-0.0784033</td><td style=\"text-align: right;\">-0.0216365 </td><td style=\"text-align: right;\"> 0.00766343</td><td style=\"text-align: right;\"> 0.0394153</td><td style=\"text-align: right;\">-0.0384493</td><td style=\"text-align: right;\">-0.031644  </td><td style=\"text-align: right;\">-0.0273624 </td><td style=\"text-align: right;\"> 0.0307892 </td><td style=\"text-align: right;\"> 0.0227762 </td><td style=\"text-align: right;\"> 0.0275038 </td><td style=\"text-align: right;\">-0.0103524</td><td style=\"text-align: right;\">-0.0191216 </td><td style=\"text-align: right;\"> 0.0189733</td><td style=\"text-align: right;\">-0.0365909 </td><td style=\"text-align: right;\"> 0.0133575 </td><td style=\"text-align: right;\"> 0.137548  </td><td style=\"text-align: right;\"> 0.0385986</td><td style=\"text-align: right;\"> 0.0615256</td><td style=\"text-align: right;\"> 0.0900693</td><td style=\"text-align: right;\">0.0286644</td><td style=\"text-align: right;\"> 0.0484191</td><td style=\"text-align: right;\">-0.0334376 </td><td style=\"text-align: right;\">-0.0891584</td><td style=\"text-align: right;\">0.0759495</td><td style=\"text-align: right;\"> 0.0109747</td><td style=\"text-align: right;\"> 0.116466  </td><td style=\"text-align: right;\"> 0.0898417 </td><td style=\"text-align: right;\">-0.0532622  </td><td style=\"text-align: right;\">-0.104717  </td><td style=\"text-align: right;\"> 0.11724  </td><td style=\"text-align: right;\"> 0.124237  </td><td style=\"text-align: right;\">-0.0238405</td><td style=\"text-align: right;\">-0.151234 </td><td style=\"text-align: right;\"> 0.00554626</td><td style=\"text-align: right;\"> 0.00102145</td><td style=\"text-align: right;\">-0.0563457 </td><td style=\"text-align: right;\">-0.0134619</td><td style=\"text-align: right;\">-0.0208901 </td><td style=\"text-align: right;\">0.039121 </td><td style=\"text-align: right;\">0.0973918</td><td style=\"text-align: right;\">-0.00106962 </td><td style=\"text-align: right;\">0.171469 </td><td style=\"text-align: right;\"> 0.0194041 </td><td style=\"text-align: right;\"> 0.0511892 </td><td style=\"text-align: right;\">-0.0141257</td><td style=\"text-align: right;\">-0.0444723</td><td style=\"text-align: right;\"> 0.04636   </td><td style=\"text-align: right;\">-0.0586841</td><td style=\"text-align: right;\">0.138107 </td><td style=\"text-align: right;\">-0.0639805</td><td style=\"text-align: right;\">-0.0998668</td><td style=\"text-align: right;\"> 0.0256639 </td><td style=\"text-align: right;\">-0.162155  </td><td style=\"text-align: right;\"> 0.00114633</td><td style=\"text-align: right;\">0.078225 </td><td style=\"text-align: right;\"> 0.0680033 </td><td style=\"text-align: right;\">-0.0581244</td><td style=\"text-align: right;\"> 0.03596   </td><td style=\"text-align: right;\"> 0.0499368</td><td style=\"text-align: right;\">-0.0267762  </td><td style=\"text-align: right;\">0.0658853 </td><td style=\"text-align: right;\">-0.0279745</td><td style=\"text-align: right;\">-0.0335986 </td><td style=\"text-align: right;\">-0.0150098 </td><td style=\"text-align: right;\"> 0.0752771</td><td style=\"text-align: right;\">-0.01717   </td><td style=\"text-align: right;\">-0.0703978</td><td style=\"text-align: right;\">-0.127302 </td><td style=\"text-align: right;\"> 0.107199 </td><td style=\"text-align: right;\">-0.0552334  </td><td style=\"text-align: right;\">-0.0172178 </td><td style=\"text-align: right;\">-0.0554576</td><td style=\"text-align: right;\"> 0.00515212</td><td style=\"text-align: right;\">-0.0409239 </td><td style=\"text-align: right;\">-0.0395523 </td><td style=\"text-align: right;\"> 0.0433249  </td><td style=\"text-align: right;\">-0.0267527</td><td style=\"text-align: right;\"> 0.0460473</td><td style=\"text-align: right;\">-0.0382815 </td><td style=\"text-align: right;\">-0.00475038</td><td style=\"text-align: right;\"> 0.0603097</td><td style=\"text-align: right;\">-0.00389802</td><td style=\"text-align: right;\"> 0.0118156  </td><td style=\"text-align: right;\">-0.0140768 </td><td style=\"text-align: right;\"> 0.0100127</td><td style=\"text-align: right;\"> 0.0104938</td><td style=\"text-align: right;\"> 0.0685636</td><td style=\"text-align: right;\"> 0.101741 </td><td style=\"text-align: right;\">-0.0431636</td><td style=\"text-align: right;\">-0.054032  </td><td style=\"text-align: right;\"> 0.0237106 </td><td style=\"text-align: right;\">-0.0125452  </td><td style=\"text-align: right;\">       0</td></tr>\n",
              "<tr><td style=\"text-align: right;\">       0</td><td>per request melle melle oru minnaminunginte nurungu vettam set callertune caller press 9 copy friend callertune                        </td><td style=\"text-align: right;\"> 0.0611403 </td><td style=\"text-align: right;\">-0.151788 </td><td style=\"text-align: right;\">-0.176808 </td><td style=\"text-align: right;\"> 0.0721723 </td><td style=\"text-align: right;\">-0.0239263</td><td style=\"text-align: right;\"> 0.0510148 </td><td style=\"text-align: right;\">-0.0209631 </td><td style=\"text-align: right;\">-0.103761 </td><td style=\"text-align: right;\"> 0.0407052</td><td style=\"text-align: right;\"> 0.0810445 </td><td style=\"text-align: right;\">-0.131333  </td><td style=\"text-align: right;\">-0.134526 </td><td style=\"text-align: right;\"> 0.05061  </td><td style=\"text-align: right;\">-0.0876272 </td><td style=\"text-align: right;\">-0.0248436 </td><td style=\"text-align: right;\"> 0.0728078 </td><td style=\"text-align: right;\">-0.183159  </td><td style=\"text-align: right;\"> 0.0997907 </td><td style=\"text-align: right;\"> 0.107641 </td><td style=\"text-align: right;\">-0.0427596 </td><td style=\"text-align: right;\">-0.145738 </td><td style=\"text-align: right;\">-0.134117  </td><td style=\"text-align: right;\">-0.0503683 </td><td style=\"text-align: right;\">-0.102549  </td><td style=\"text-align: right;\">-0.032792 </td><td style=\"text-align: right;\">-0.0327348</td><td style=\"text-align: right;\">-0.159729 </td><td style=\"text-align: right;\">0.0867077</td><td style=\"text-align: right;\">-0.0144859</td><td style=\"text-align: right;\">-0.0753559 </td><td style=\"text-align: right;\"> 0.155213 </td><td style=\"text-align: right;\">0.0238614</td><td style=\"text-align: right;\"> 0.0522427</td><td style=\"text-align: right;\">-0.088693  </td><td style=\"text-align: right;\">-0.0213816 </td><td style=\"text-align: right;\">-0.164901   </td><td style=\"text-align: right;\"> 0.0607157 </td><td style=\"text-align: right;\">-0.0245053</td><td style=\"text-align: right;\"> 0.0242661 </td><td style=\"text-align: right;\">-0.0185969</td><td style=\"text-align: right;\"> 0.0113001</td><td style=\"text-align: right;\">-0.0885777 </td><td style=\"text-align: right;\">-0.0736326 </td><td style=\"text-align: right;\"> 0.164606  </td><td style=\"text-align: right;\"> 0.065599 </td><td style=\"text-align: right;\">-0.00950976</td><td style=\"text-align: right;\">0.166643 </td><td style=\"text-align: right;\">0.147263 </td><td style=\"text-align: right;\">-0.0243902  </td><td style=\"text-align: right;\">0.0918388</td><td style=\"text-align: right;\">-0.0719234 </td><td style=\"text-align: right;\"> 0.0437606 </td><td style=\"text-align: right;\"> 0.0481758</td><td style=\"text-align: right;\">-0.0224325</td><td style=\"text-align: right;\"> 0.110975  </td><td style=\"text-align: right;\">-0.0118896</td><td style=\"text-align: right;\">0.206498 </td><td style=\"text-align: right;\"> 0.0290098</td><td style=\"text-align: right;\"> 0.0615687</td><td style=\"text-align: right;\">-0.175807  </td><td style=\"text-align: right;\">-0.0147954 </td><td style=\"text-align: right;\"> 0.0797581 </td><td style=\"text-align: right;\">0.118351 </td><td style=\"text-align: right;\"> 0.129333  </td><td style=\"text-align: right;\">-0.0987472</td><td style=\"text-align: right;\">-0.032383  </td><td style=\"text-align: right;\">-0.277417 </td><td style=\"text-align: right;\"> 0.0631376  </td><td style=\"text-align: right;\">0.0128099 </td><td style=\"text-align: right;\">-0.0188118</td><td style=\"text-align: right;\">-0.0654294 </td><td style=\"text-align: right;\">-0.0958692 </td><td style=\"text-align: right;\">-0.0927346</td><td style=\"text-align: right;\"> 0.00762427</td><td style=\"text-align: right;\">-0.0852762</td><td style=\"text-align: right;\">-0.073308 </td><td style=\"text-align: right;\"> 0.037174 </td><td style=\"text-align: right;\"> 0.000789942</td><td style=\"text-align: right;\"> 0.0193054 </td><td style=\"text-align: right;\"> 0.0191646</td><td style=\"text-align: right;\"> 0.0200054 </td><td style=\"text-align: right;\"> 0.105022  </td><td style=\"text-align: right;\"> 0.114583  </td><td style=\"text-align: right;\">-0.0646286  </td><td style=\"text-align: right;\">-0.0696201</td><td style=\"text-align: right;\">-0.0505317</td><td style=\"text-align: right;\"> 0.00667378</td><td style=\"text-align: right;\"> 0.0519906 </td><td style=\"text-align: right;\">-0.0764897</td><td style=\"text-align: right;\">-0.049802  </td><td style=\"text-align: right;\">-0.111349   </td><td style=\"text-align: right;\">-0.0392649 </td><td style=\"text-align: right;\">-0.0282492</td><td style=\"text-align: right;\"> 0.0875612</td><td style=\"text-align: right;\"> 0.0682983</td><td style=\"text-align: right;\"> 0.023973 </td><td style=\"text-align: right;\"> 0.0319096</td><td style=\"text-align: right;\"> 0.063901  </td><td style=\"text-align: right;\"> 0.138676  </td><td style=\"text-align: right;\">-0.0599183  </td><td style=\"text-align: right;\">       0</td></tr>\n",
              "<tr><td style=\"text-align: right;\">       1</td><td>xxxmobilemovieclub credit click wap link next txt message click httpwap xxxmobilemovieclubcomnqjkgighjjgcbl                            </td><td style=\"text-align: right;\"> 0.0504685 </td><td style=\"text-align: right;\">-0.0767218</td><td style=\"text-align: right;\">-0.1014   </td><td style=\"text-align: right;\">-0.00932921</td><td style=\"text-align: right;\">-0.0244213</td><td style=\"text-align: right;\">-0.0366194 </td><td style=\"text-align: right;\">-0.0453492 </td><td style=\"text-align: right;\">-0.0898414</td><td style=\"text-align: right;\">-0.023268 </td><td style=\"text-align: right;\">-0.0176174 </td><td style=\"text-align: right;\"> 0.00203111</td><td style=\"text-align: right;\">-0.153719 </td><td style=\"text-align: right;\">-0.0622693</td><td style=\"text-align: right;\"> 0.0226741 </td><td style=\"text-align: right;\"> 0.0226549 </td><td style=\"text-align: right;\"> 0.0375308 </td><td style=\"text-align: right;\">-0.0267068 </td><td style=\"text-align: right;\"> 0.0973629 </td><td style=\"text-align: right;\"> 0.0476446</td><td style=\"text-align: right;\"> 0.0154143 </td><td style=\"text-align: right;\">-0.198425 </td><td style=\"text-align: right;\"> 0.0389017 </td><td style=\"text-align: right;\"> 0.095413  </td><td style=\"text-align: right;\">-0.00506536</td><td style=\"text-align: right;\"> 0.0734917</td><td style=\"text-align: right;\"> 0.0101049</td><td style=\"text-align: right;\">-0.141826 </td><td style=\"text-align: right;\">0.190977 </td><td style=\"text-align: right;\"> 0.0219755</td><td style=\"text-align: right;\">-0.0608937 </td><td style=\"text-align: right;\"> 0.0557656</td><td style=\"text-align: right;\">0.206317 </td><td style=\"text-align: right;\"> 0.0828681</td><td style=\"text-align: right;\">-0.00304653</td><td style=\"text-align: right;\"> 0.00270656</td><td style=\"text-align: right;\">-0.0818578  </td><td style=\"text-align: right;\"> 0.0105722 </td><td style=\"text-align: right;\"> 0.0218713</td><td style=\"text-align: right;\"> 0.0754261 </td><td style=\"text-align: right;\">-0.0842325</td><td style=\"text-align: right;\">-0.187374 </td><td style=\"text-align: right;\">-0.108939  </td><td style=\"text-align: right;\">-0.0824885 </td><td style=\"text-align: right;\"> 0.0245219 </td><td style=\"text-align: right;\"> 0.193693 </td><td style=\"text-align: right;\"> 0.14979   </td><td style=\"text-align: right;\">0.106908 </td><td style=\"text-align: right;\">0.142587 </td><td style=\"text-align: right;\">-0.0738238  </td><td style=\"text-align: right;\">0.0188633</td><td style=\"text-align: right;\">-0.134799  </td><td style=\"text-align: right;\">-0.0676151 </td><td style=\"text-align: right;\">-0.0889225</td><td style=\"text-align: right;\">-0.0246269</td><td style=\"text-align: right;\">-0.0526784 </td><td style=\"text-align: right;\"> 0.143367 </td><td style=\"text-align: right;\">0.220849 </td><td style=\"text-align: right;\">-0.145739 </td><td style=\"text-align: right;\"> 0.127423 </td><td style=\"text-align: right;\">-0.0346809 </td><td style=\"text-align: right;\">-0.00828111</td><td style=\"text-align: right;\"> 0.138415  </td><td style=\"text-align: right;\">0.0874198</td><td style=\"text-align: right;\"> 0.0283978 </td><td style=\"text-align: right;\"> 0.0326437</td><td style=\"text-align: right;\">-0.0734673 </td><td style=\"text-align: right;\">-0.0757683</td><td style=\"text-align: right;\"> 0.113709   </td><td style=\"text-align: right;\">0.0302597 </td><td style=\"text-align: right;\"> 0.133669 </td><td style=\"text-align: right;\"> 0.0211117 </td><td style=\"text-align: right;\">-0.0326113 </td><td style=\"text-align: right;\">-0.1448   </td><td style=\"text-align: right;\">-0.0204597 </td><td style=\"text-align: right;\"> 0.0644786</td><td style=\"text-align: right;\">-0.120153 </td><td style=\"text-align: right;\"> 0.0730365</td><td style=\"text-align: right;\">-0.0355877  </td><td style=\"text-align: right;\">-0.0455193 </td><td style=\"text-align: right;\"> 0.0154511</td><td style=\"text-align: right;\">-0.00745712</td><td style=\"text-align: right;\"> 0.144989  </td><td style=\"text-align: right;\">-0.00562323</td><td style=\"text-align: right;\">-0.112614   </td><td style=\"text-align: right;\">-0.0378304</td><td style=\"text-align: right;\">-0.0819826</td><td style=\"text-align: right;\"> 0.0552272 </td><td style=\"text-align: right;\"> 0.148646  </td><td style=\"text-align: right;\"> 0.0391193</td><td style=\"text-align: right;\">-0.0261538 </td><td style=\"text-align: right;\"> 0.0266534  </td><td style=\"text-align: right;\">-0.169243  </td><td style=\"text-align: right;\"> 0.092008 </td><td style=\"text-align: right;\">-0.0260762</td><td style=\"text-align: right;\"> 0.016149 </td><td style=\"text-align: right;\"> 0.0749647</td><td style=\"text-align: right;\">-0.0349115</td><td style=\"text-align: right;\">-0.186963  </td><td style=\"text-align: right;\"> 0.02299   </td><td style=\"text-align: right;\">-0.0236113  </td><td style=\"text-align: right;\">       0</td></tr>\n",
              "<tr><td style=\"text-align: right;\">       1</td><td>england macedonia dont miss goalsteam news txt national team 87077 eg england 87077 trywales scotland 4txtì¼120 poboxox36504w45wq 16   </td><td style=\"text-align: right;\"> 0.0768209 </td><td style=\"text-align: right;\"> 0.0315494</td><td style=\"text-align: right;\">-0.0611887</td><td style=\"text-align: right;\"> 0.0535041 </td><td style=\"text-align: right;\">-0.040579 </td><td style=\"text-align: right;\">-0.0773917 </td><td style=\"text-align: right;\"> 0.036691  </td><td style=\"text-align: right;\">-0.0849857</td><td style=\"text-align: right;\">-0.055749 </td><td style=\"text-align: right;\"> 0.00446659</td><td style=\"text-align: right;\">-0.0298139 </td><td style=\"text-align: right;\">-0.118364 </td><td style=\"text-align: right;\">-0.107034 </td><td style=\"text-align: right;\"> 0.0185875 </td><td style=\"text-align: right;\"> 0.00205369</td><td style=\"text-align: right;\">-0.00678035</td><td style=\"text-align: right;\">-0.107802  </td><td style=\"text-align: right;\"> 0.0293797 </td><td style=\"text-align: right;\"> 0.0424556</td><td style=\"text-align: right;\"> 0.00333736</td><td style=\"text-align: right;\">-0.101119 </td><td style=\"text-align: right;\"> 0.0795526 </td><td style=\"text-align: right;\"> 0.0721912 </td><td style=\"text-align: right;\"> 0.0923181 </td><td style=\"text-align: right;\"> 0.0808006</td><td style=\"text-align: right;\"> 0.0741118</td><td style=\"text-align: right;\">-0.106115 </td><td style=\"text-align: right;\">0.130371 </td><td style=\"text-align: right;\"> 0.0421771</td><td style=\"text-align: right;\">-0.0392348 </td><td style=\"text-align: right;\">-0.0016225</td><td style=\"text-align: right;\">0.208258 </td><td style=\"text-align: right;\"> 0.151219 </td><td style=\"text-align: right;\">-0.0125619 </td><td style=\"text-align: right;\">-0.0174574 </td><td style=\"text-align: right;\">-0.0996477  </td><td style=\"text-align: right;\">-0.00422695</td><td style=\"text-align: right;\"> 0.105674 </td><td style=\"text-align: right;\">-0.00423954</td><td style=\"text-align: right;\">-0.158418 </td><td style=\"text-align: right;\">-0.225142 </td><td style=\"text-align: right;\">-0.0656533 </td><td style=\"text-align: right;\">-0.0497483 </td><td style=\"text-align: right;\"> 0.00975149</td><td style=\"text-align: right;\"> 0.154501 </td><td style=\"text-align: right;\"> 0.0518712 </td><td style=\"text-align: right;\">0.152502 </td><td style=\"text-align: right;\">0.025092 </td><td style=\"text-align: right;\"> 0.024863   </td><td style=\"text-align: right;\">0.0542811</td><td style=\"text-align: right;\">-0.0711336 </td><td style=\"text-align: right;\">-0.125816  </td><td style=\"text-align: right;\">-0.0980108</td><td style=\"text-align: right;\">-0.0364637</td><td style=\"text-align: right;\">-0.044813  </td><td style=\"text-align: right;\"> 0.149525 </td><td style=\"text-align: right;\">0.191109 </td><td style=\"text-align: right;\">-0.151606 </td><td style=\"text-align: right;\"> 0.146069 </td><td style=\"text-align: right;\">-0.0311677 </td><td style=\"text-align: right;\">-0.0539501 </td><td style=\"text-align: right;\"> 0.106236  </td><td style=\"text-align: right;\">0.109114 </td><td style=\"text-align: right;\"> 0.00293778</td><td style=\"text-align: right;\"> 0.0747432</td><td style=\"text-align: right;\">-0.100107  </td><td style=\"text-align: right;\">-0.121108 </td><td style=\"text-align: right;\"> 0.160622   </td><td style=\"text-align: right;\">0.00641994</td><td style=\"text-align: right;\"> 0.160577 </td><td style=\"text-align: right;\"> 0.0286342 </td><td style=\"text-align: right;\">-0.0628425 </td><td style=\"text-align: right;\">-0.0410272</td><td style=\"text-align: right;\"> 0.0584308 </td><td style=\"text-align: right;\"> 0.0356598</td><td style=\"text-align: right;\">-0.0905956</td><td style=\"text-align: right;\"> 0.0730243</td><td style=\"text-align: right;\">-0.0616186  </td><td style=\"text-align: right;\">-0.034773  </td><td style=\"text-align: right;\">-0.0385606</td><td style=\"text-align: right;\">-0.0457601 </td><td style=\"text-align: right;\"> 0.103225  </td><td style=\"text-align: right;\">-0.0120757 </td><td style=\"text-align: right;\">-0.212608   </td><td style=\"text-align: right;\"> 0.0159358</td><td style=\"text-align: right;\">-0.0420135</td><td style=\"text-align: right;\"> 0.0240961 </td><td style=\"text-align: right;\"> 0.154227  </td><td style=\"text-align: right;\"> 0.0501934</td><td style=\"text-align: right;\">-0.0437046 </td><td style=\"text-align: right;\"> 0.024137   </td><td style=\"text-align: right;\">-0.103367  </td><td style=\"text-align: right;\"> 0.0953625</td><td style=\"text-align: right;\">-0.0911756</td><td style=\"text-align: right;\"> 0.0247278</td><td style=\"text-align: right;\"> 0.0645868</td><td style=\"text-align: right;\">-0.024688 </td><td style=\"text-align: right;\">-0.0982132 </td><td style=\"text-align: right;\"> 0.010837  </td><td style=\"text-align: right;\">-0.0411007  </td><td style=\"text-align: right;\">       0</td></tr>\n",
              "<tr><td style=\"text-align: right;\">       0</td><td>force eat slice really hungry suck mark get worried know sick turn pizza lol                                                           </td><td style=\"text-align: right;\">-0.00474564</td><td style=\"text-align: right;\">-0.123092 </td><td style=\"text-align: right;\"> 0.0513049</td><td style=\"text-align: right;\"> 0.047344  </td><td style=\"text-align: right;\">-0.0648183</td><td style=\"text-align: right;\">-0.00991477</td><td style=\"text-align: right;\">-0.00557168</td><td style=\"text-align: right;\">-0.0369681</td><td style=\"text-align: right;\">-0.03088  </td><td style=\"text-align: right;\">-0.0500922 </td><td style=\"text-align: right;\"> 0.0244231 </td><td style=\"text-align: right;\"> 0.0289971</td><td style=\"text-align: right;\">-0.0912597</td><td style=\"text-align: right;\"> 0.0044324 </td><td style=\"text-align: right;\"> 0.0117827 </td><td style=\"text-align: right;\"> 0.012527  </td><td style=\"text-align: right;\"> 0.050695  </td><td style=\"text-align: right;\">-0.0283992 </td><td style=\"text-align: right;\">-0.0368173</td><td style=\"text-align: right;\">-0.0469145 </td><td style=\"text-align: right;\"> 0.0450439</td><td style=\"text-align: right;\">-0.0208603 </td><td style=\"text-align: right;\"> 0.0620188 </td><td style=\"text-align: right;\"> 0.153951  </td><td style=\"text-align: right;\"> 0.0536906</td><td style=\"text-align: right;\"> 0.0520736</td><td style=\"text-align: right;\"> 0.119237 </td><td style=\"text-align: right;\">0.0621915</td><td style=\"text-align: right;\"> 0.0695333</td><td style=\"text-align: right;\">-0.00523261</td><td style=\"text-align: right;\">-0.0778832</td><td style=\"text-align: right;\">0.107045 </td><td style=\"text-align: right;\"> 0.0488022</td><td style=\"text-align: right;\"> 0.124245  </td><td style=\"text-align: right;\"> 0.0796686 </td><td style=\"text-align: right;\">-0.0611839  </td><td style=\"text-align: right;\">-0.111203  </td><td style=\"text-align: right;\"> 0.1501   </td><td style=\"text-align: right;\"> 0.129704  </td><td style=\"text-align: right;\">-0.0344327</td><td style=\"text-align: right;\">-0.137756 </td><td style=\"text-align: right;\"> 0.0683798 </td><td style=\"text-align: right;\"> 0.0321629 </td><td style=\"text-align: right;\">-0.0875099 </td><td style=\"text-align: right;\">-0.0314953</td><td style=\"text-align: right;\"> 0.0313636 </td><td style=\"text-align: right;\">0.039159 </td><td style=\"text-align: right;\">0.101129 </td><td style=\"text-align: right;\"> 0.0161165  </td><td style=\"text-align: right;\">0.147407 </td><td style=\"text-align: right;\">-0.00490205</td><td style=\"text-align: right;\"> 0.0300058 </td><td style=\"text-align: right;\">-0.0226524</td><td style=\"text-align: right;\">-0.0522435</td><td style=\"text-align: right;\"> 0.0100903 </td><td style=\"text-align: right;\">-0.0414711</td><td style=\"text-align: right;\">0.0597422</td><td style=\"text-align: right;\">-0.0754087</td><td style=\"text-align: right;\">-0.071419 </td><td style=\"text-align: right;\"> 0.0133387 </td><td style=\"text-align: right;\">-0.179765  </td><td style=\"text-align: right;\">-0.047548  </td><td style=\"text-align: right;\">0.0694282</td><td style=\"text-align: right;\">-0.00285951</td><td style=\"text-align: right;\">-0.0828716</td><td style=\"text-align: right;\"> 0.0390306 </td><td style=\"text-align: right;\"> 0.0645314</td><td style=\"text-align: right;\"> 0.00191793 </td><td style=\"text-align: right;\">0.0379339 </td><td style=\"text-align: right;\">-0.0323243</td><td style=\"text-align: right;\">-0.0602863 </td><td style=\"text-align: right;\"> 0.0183118 </td><td style=\"text-align: right;\"> 0.0803325</td><td style=\"text-align: right;\">-0.0251969 </td><td style=\"text-align: right;\">-0.0858556</td><td style=\"text-align: right;\">-0.0810321</td><td style=\"text-align: right;\"> 0.0900122</td><td style=\"text-align: right;\">-0.0494851  </td><td style=\"text-align: right;\">-0.0252648 </td><td style=\"text-align: right;\">-0.0425251</td><td style=\"text-align: right;\">-0.00318558</td><td style=\"text-align: right;\">-0.00977538</td><td style=\"text-align: right;\">-0.0407191 </td><td style=\"text-align: right;\">-0.0348675  </td><td style=\"text-align: right;\">-0.0236498</td><td style=\"text-align: right;\"> 0.0360017</td><td style=\"text-align: right;\">-0.0359107 </td><td style=\"text-align: right;\">-0.0110699 </td><td style=\"text-align: right;\"> 0.0906837</td><td style=\"text-align: right;\"> 0.00933826</td><td style=\"text-align: right;\"> 0.0209914  </td><td style=\"text-align: right;\">-0.0423186 </td><td style=\"text-align: right;\"> 0.0605964</td><td style=\"text-align: right;\">-0.0199106</td><td style=\"text-align: right;\"> 0.0749409</td><td style=\"text-align: right;\"> 0.103024 </td><td style=\"text-align: right;\">-0.0240113</td><td style=\"text-align: right;\">-0.00324742</td><td style=\"text-align: right;\">-0.0297869 </td><td style=\"text-align: right;\">-0.0165235  </td><td style=\"text-align: right;\">       1</td></tr>\n",
              "<tr><td style=\"text-align: right;\">       0</td><td>wait thats still clear sure sarcastic thats x doesnt want live                                                                         </td><td style=\"text-align: right;\">-0.00671467</td><td style=\"text-align: right;\">-0.129227 </td><td style=\"text-align: right;\">-0.0236711</td><td style=\"text-align: right;\"> 0.0833921 </td><td style=\"text-align: right;\">-0.0818644</td><td style=\"text-align: right;\"> 0.00415085</td><td style=\"text-align: right;\"> 0.0142827 </td><td style=\"text-align: right;\">-0.0787535</td><td style=\"text-align: right;\">-0.0672934</td><td style=\"text-align: right;\">-0.0698971 </td><td style=\"text-align: right;\"> 0.0343773 </td><td style=\"text-align: right;\">-0.0241919</td><td style=\"text-align: right;\">-0.0415179</td><td style=\"text-align: right;\">-0.00887468</td><td style=\"text-align: right;\">-0.0185811 </td><td style=\"text-align: right;\"> 0.0262244 </td><td style=\"text-align: right;\"> 0.00296443</td><td style=\"text-align: right;\"> 0.0334688 </td><td style=\"text-align: right;\">-0.0313317</td><td style=\"text-align: right;\">-0.0371228 </td><td style=\"text-align: right;\"> 0.056969 </td><td style=\"text-align: right;\">-0.0419988 </td><td style=\"text-align: right;\"> 0.0377157 </td><td style=\"text-align: right;\"> 0.141372  </td><td style=\"text-align: right;\"> 0.0697356</td><td style=\"text-align: right;\"> 0.072411 </td><td style=\"text-align: right;\"> 0.127379 </td><td style=\"text-align: right;\">0.0589181</td><td style=\"text-align: right;\"> 0.0566099</td><td style=\"text-align: right;\">-0.0267929 </td><td style=\"text-align: right;\">-0.0552678</td><td style=\"text-align: right;\">0.121502 </td><td style=\"text-align: right;\">-0.016269 </td><td style=\"text-align: right;\"> 0.0609352 </td><td style=\"text-align: right;\"> 0.048721  </td><td style=\"text-align: right;\">-0.0466952  </td><td style=\"text-align: right;\">-0.0674429 </td><td style=\"text-align: right;\"> 0.16949  </td><td style=\"text-align: right;\"> 0.144559  </td><td style=\"text-align: right;\">-0.0354031</td><td style=\"text-align: right;\">-0.156697 </td><td style=\"text-align: right;\"> 0.044492  </td><td style=\"text-align: right;\">-0.0137676 </td><td style=\"text-align: right;\">-0.0504372 </td><td style=\"text-align: right;\"> 0.0271728</td><td style=\"text-align: right;\">-0.0172629 </td><td style=\"text-align: right;\">0.0520693</td><td style=\"text-align: right;\">0.0744867</td><td style=\"text-align: right;\"> 0.0481003  </td><td style=\"text-align: right;\">0.168018 </td><td style=\"text-align: right;\">-0.0224492 </td><td style=\"text-align: right;\"> 0.0686695 </td><td style=\"text-align: right;\">-0.0223549</td><td style=\"text-align: right;\">-0.0547865</td><td style=\"text-align: right;\"> 0.033239  </td><td style=\"text-align: right;\">-0.0481619</td><td style=\"text-align: right;\">0.143291 </td><td style=\"text-align: right;\">-0.0397532</td><td style=\"text-align: right;\">-0.0963459</td><td style=\"text-align: right;\"> 0.0154756 </td><td style=\"text-align: right;\">-0.174454  </td><td style=\"text-align: right;\">-0.0291102 </td><td style=\"text-align: right;\">0.0922303</td><td style=\"text-align: right;\"> 0.039531  </td><td style=\"text-align: right;\">-0.0396913</td><td style=\"text-align: right;\"> 0.0238839 </td><td style=\"text-align: right;\"> 0.0937564</td><td style=\"text-align: right;\"> 0.00180719 </td><td style=\"text-align: right;\">0.0348381 </td><td style=\"text-align: right;\">-0.0335379</td><td style=\"text-align: right;\">-0.0577899 </td><td style=\"text-align: right;\">-0.0146065 </td><td style=\"text-align: right;\"> 0.0806509</td><td style=\"text-align: right;\">-0.036357  </td><td style=\"text-align: right;\">-0.112717 </td><td style=\"text-align: right;\">-0.0928192</td><td style=\"text-align: right;\"> 0.106788 </td><td style=\"text-align: right;\">-0.0390797  </td><td style=\"text-align: right;\">-0.00538638</td><td style=\"text-align: right;\">-0.0305627</td><td style=\"text-align: right;\">-0.0168127 </td><td style=\"text-align: right;\"> 0.00261458</td><td style=\"text-align: right;\">-0.0644719 </td><td style=\"text-align: right;\"> 0.0118726  </td><td style=\"text-align: right;\">-0.0165955</td><td style=\"text-align: right;\"> 0.0395281</td><td style=\"text-align: right;\">-0.0558291 </td><td style=\"text-align: right;\">-0.0178143 </td><td style=\"text-align: right;\"> 0.0531904</td><td style=\"text-align: right;\"> 0.0251305 </td><td style=\"text-align: right;\">-0.00388141 </td><td style=\"text-align: right;\">-0.0135225 </td><td style=\"text-align: right;\"> 0.0277185</td><td style=\"text-align: right;\">-0.0194595</td><td style=\"text-align: right;\"> 0.0740089</td><td style=\"text-align: right;\"> 0.0925638</td><td style=\"text-align: right;\">-0.0442948</td><td style=\"text-align: right;\">-0.0655898 </td><td style=\"text-align: right;\">-0.00184612</td><td style=\"text-align: right;\">-0.0307399  </td><td style=\"text-align: right;\">       0</td></tr>\n",
              "<tr><td style=\"text-align: right;\">       0</td><td>great hope like man well endow ltgt inch                                                                                               </td><td style=\"text-align: right;\">-0.0297584 </td><td style=\"text-align: right;\">-0.251116 </td><td style=\"text-align: right;\"> 0.0110635</td><td style=\"text-align: right;\"> 0.0158026 </td><td style=\"text-align: right;\">-0.0533652</td><td style=\"text-align: right;\">-0.00259702</td><td style=\"text-align: right;\">-0.00904864</td><td style=\"text-align: right;\">-0.077493 </td><td style=\"text-align: right;\">-0.0610817</td><td style=\"text-align: right;\">-0.0671022 </td><td style=\"text-align: right;\">-0.0149646 </td><td style=\"text-align: right;\">-0.0194212</td><td style=\"text-align: right;\">-0.0442901</td><td style=\"text-align: right;\">-0.0189132 </td><td style=\"text-align: right;\">-0.0510002 </td><td style=\"text-align: right;\"> 0.0812872 </td><td style=\"text-align: right;\"> 0.0737976 </td><td style=\"text-align: right;\"> 0.0543422 </td><td style=\"text-align: right;\"> 0.0359562</td><td style=\"text-align: right;\"> 0.0345468 </td><td style=\"text-align: right;\">-0.0376632</td><td style=\"text-align: right;\">-0.0147025 </td><td style=\"text-align: right;\">-0.00496758</td><td style=\"text-align: right;\"> 0.108912  </td><td style=\"text-align: right;\"> 0.0620712</td><td style=\"text-align: right;\"> 0.0933675</td><td style=\"text-align: right;\"> 0.153443 </td><td style=\"text-align: right;\">0.0382061</td><td style=\"text-align: right;\"> 0.017016 </td><td style=\"text-align: right;\">-0.0234487 </td><td style=\"text-align: right;\">-0.044796 </td><td style=\"text-align: right;\">0.1439   </td><td style=\"text-align: right;\"> 0.0237615</td><td style=\"text-align: right;\"> 0.0459327 </td><td style=\"text-align: right;\"> 0.103246  </td><td style=\"text-align: right;\"> 0.0156498  </td><td style=\"text-align: right;\">-0.122188  </td><td style=\"text-align: right;\"> 0.161174 </td><td style=\"text-align: right;\"> 0.162698  </td><td style=\"text-align: right;\">-0.0605695</td><td style=\"text-align: right;\">-0.155105 </td><td style=\"text-align: right;\"> 0.0537879 </td><td style=\"text-align: right;\">-0.00575435</td><td style=\"text-align: right;\">-0.080434  </td><td style=\"text-align: right;\"> 0.0153593</td><td style=\"text-align: right;\">-0.00538124</td><td style=\"text-align: right;\">0.0443437</td><td style=\"text-align: right;\">0.102065 </td><td style=\"text-align: right;\"> 0.00883824 </td><td style=\"text-align: right;\">0.186811 </td><td style=\"text-align: right;\"> 0.0363531 </td><td style=\"text-align: right;\"> 0.0310476 </td><td style=\"text-align: right;\"> 0.0216623</td><td style=\"text-align: right;\">-0.0356338</td><td style=\"text-align: right;\"> 0.0261549 </td><td style=\"text-align: right;\">-0.0285992</td><td style=\"text-align: right;\">0.140414 </td><td style=\"text-align: right;\">-0.0851931</td><td style=\"text-align: right;\">-0.131342 </td><td style=\"text-align: right;\"> 0.00962948</td><td style=\"text-align: right;\">-0.18201   </td><td style=\"text-align: right;\"> 0.0329092 </td><td style=\"text-align: right;\">0.0247089</td><td style=\"text-align: right;\">-0.00696658</td><td style=\"text-align: right;\">-0.0499253</td><td style=\"text-align: right;\"> 0.0664868 </td><td style=\"text-align: right;\"> 0.125428 </td><td style=\"text-align: right;\">-0.0302704  </td><td style=\"text-align: right;\">0.0357522 </td><td style=\"text-align: right;\">-0.0255773</td><td style=\"text-align: right;\">-0.0435354 </td><td style=\"text-align: right;\">-0.062637  </td><td style=\"text-align: right;\"> 0.169319 </td><td style=\"text-align: right;\">-0.0831776 </td><td style=\"text-align: right;\">-0.101561 </td><td style=\"text-align: right;\">-0.192024 </td><td style=\"text-align: right;\"> 0.12666  </td><td style=\"text-align: right;\">-0.0777299  </td><td style=\"text-align: right;\"> 0.00211084</td><td style=\"text-align: right;\">-0.0484135</td><td style=\"text-align: right;\"> 0.0154923 </td><td style=\"text-align: right;\">-0.0224504 </td><td style=\"text-align: right;\"> 0.00693659</td><td style=\"text-align: right;\"> 0.0759647  </td><td style=\"text-align: right;\"> 0.0293465</td><td style=\"text-align: right;\"> 0.0224707</td><td style=\"text-align: right;\">-0.0769397 </td><td style=\"text-align: right;\"> 0.0390689 </td><td style=\"text-align: right;\"> 0.0142307</td><td style=\"text-align: right;\"> 0.0118507 </td><td style=\"text-align: right;\"> 0.000576878</td><td style=\"text-align: right;\"> 0.00858452</td><td style=\"text-align: right;\">-0.0139801</td><td style=\"text-align: right;\">-0.0281571</td><td style=\"text-align: right;\"> 0.12218  </td><td style=\"text-align: right;\"> 0.133801 </td><td style=\"text-align: right;\">-0.0779496</td><td style=\"text-align: right;\">-0.0402874 </td><td style=\"text-align: right;\"> 0.00444982</td><td style=\"text-align: right;\"> 0.00286928 </td><td style=\"text-align: right;\">       0</td></tr>\n",
              "<tr><td style=\"text-align: right;\">       0</td><td>callsmessagesmissed call                                                                                                               </td><td style=\"text-align: right;\"> 0.0581025 </td><td style=\"text-align: right;\"> 0.124533 </td><td style=\"text-align: right;\">-0.328697 </td><td style=\"text-align: right;\"> 0.0392315 </td><td style=\"text-align: right;\"> 0.0567974</td><td style=\"text-align: right;\">-0.0716503 </td><td style=\"text-align: right;\">-0.0174547 </td><td style=\"text-align: right;\">-0.0781676</td><td style=\"text-align: right;\"> 0.0649418</td><td style=\"text-align: right;\"> 0.0241494 </td><td style=\"text-align: right;\"> 0.0706043 </td><td style=\"text-align: right;\">-0.156032 </td><td style=\"text-align: right;\">-0.048122 </td><td style=\"text-align: right;\">-0.256031  </td><td style=\"text-align: right;\"> 0.0130891 </td><td style=\"text-align: right;\"> 0.0501539 </td><td style=\"text-align: right;\">-0.101761  </td><td style=\"text-align: right;\"> 0.147405  </td><td style=\"text-align: right;\"> 0.254287 </td><td style=\"text-align: right;\">-0.115211  </td><td style=\"text-align: right;\">-0.111439 </td><td style=\"text-align: right;\">-0.00460578</td><td style=\"text-align: right;\"> 0.024289  </td><td style=\"text-align: right;\">-0.22599   </td><td style=\"text-align: right;\"> 0.175595 </td><td style=\"text-align: right;\">-0.0625651</td><td style=\"text-align: right;\">-0.0245046</td><td style=\"text-align: right;\">0.0892211</td><td style=\"text-align: right;\"> 0.0138889</td><td style=\"text-align: right;\"> 0.0687302 </td><td style=\"text-align: right;\"> 0.182563 </td><td style=\"text-align: right;\">0.0404689</td><td style=\"text-align: right;\">-0.0400087</td><td style=\"text-align: right;\">-0.100215  </td><td style=\"text-align: right;\">-0.156719  </td><td style=\"text-align: right;\">-0.0447927  </td><td style=\"text-align: right;\"> 0.0346757 </td><td style=\"text-align: right;\"> 0.0906808</td><td style=\"text-align: right;\"> 0.0462734 </td><td style=\"text-align: right;\">-0.0721117</td><td style=\"text-align: right;\">-0.0873884</td><td style=\"text-align: right;\">-0.283793  </td><td style=\"text-align: right;\">-0.0908298 </td><td style=\"text-align: right;\">-0.103794  </td><td style=\"text-align: right;\"> 0.162438 </td><td style=\"text-align: right;\">-0.129638  </td><td style=\"text-align: right;\">0.199248 </td><td style=\"text-align: right;\">0.0249227</td><td style=\"text-align: right;\"> 0.0940325  </td><td style=\"text-align: right;\">0.113795 </td><td style=\"text-align: right;\">-0.136512  </td><td style=\"text-align: right;\"> 0.194838  </td><td style=\"text-align: right;\">-0.129859 </td><td style=\"text-align: right;\">-0.202141 </td><td style=\"text-align: right;\"> 0.0756873 </td><td style=\"text-align: right;\">-0.0168707</td><td style=\"text-align: right;\">0.373892 </td><td style=\"text-align: right;\"> 0.143582 </td><td style=\"text-align: right;\"> 0.188705 </td><td style=\"text-align: right;\">-0.0429306 </td><td style=\"text-align: right;\"> 0.0359804 </td><td style=\"text-align: right;\"> 0.128585  </td><td style=\"text-align: right;\">0.0740096</td><td style=\"text-align: right;\"> 0.28505   </td><td style=\"text-align: right;\"> 0.0858058</td><td style=\"text-align: right;\">-0.00787751</td><td style=\"text-align: right;\">-0.0239588</td><td style=\"text-align: right;\"> 0.334855   </td><td style=\"text-align: right;\">0.00363062</td><td style=\"text-align: right;\">-0.0527089</td><td style=\"text-align: right;\"> 0.104753  </td><td style=\"text-align: right;\">-0.192935  </td><td style=\"text-align: right;\">-0.173666 </td><td style=\"text-align: right;\">-0.179479  </td><td style=\"text-align: right;\">-0.0297841</td><td style=\"text-align: right;\"> 0.025952 </td><td style=\"text-align: right;\"> 0.108864 </td><td style=\"text-align: right;\"> 0.229788   </td><td style=\"text-align: right;\">-0.066227  </td><td style=\"text-align: right;\"> 0.0793694</td><td style=\"text-align: right;\"> 0.202324  </td><td style=\"text-align: right;\"> 0.21071   </td><td style=\"text-align: right;\">-0.190238  </td><td style=\"text-align: right;\">-0.233588   </td><td style=\"text-align: right;\">-0.0420359</td><td style=\"text-align: right;\">-0.0549556</td><td style=\"text-align: right;\">-0.0226174 </td><td style=\"text-align: right;\"> 0.258315  </td><td style=\"text-align: right;\">-0.112765 </td><td style=\"text-align: right;\"> 0.195482  </td><td style=\"text-align: right;\">-0.0855679  </td><td style=\"text-align: right;\">-0.329816  </td><td style=\"text-align: right;\"> 0.0449993</td><td style=\"text-align: right;\"> 0.0497724</td><td style=\"text-align: right;\">-0.145521 </td><td style=\"text-align: right;\">-0.116171 </td><td style=\"text-align: right;\">-0.0421583</td><td style=\"text-align: right;\">-0.199242  </td><td style=\"text-align: right;\"> 0.0543276 </td><td style=\"text-align: right;\">-0.0920714  </td><td style=\"text-align: right;\">       0</td></tr>\n",
              "<tr><td style=\"text-align: right;\">       0</td><td>didnt get hep immunisation nigeria                                                                                                     </td><td style=\"text-align: right;\"> 0.00930889</td><td style=\"text-align: right;\">-0.158567 </td><td style=\"text-align: right;\"> 0.045639 </td><td style=\"text-align: right;\"> 0.0413758 </td><td style=\"text-align: right;\">-0.0621263</td><td style=\"text-align: right;\"> 0.00277605</td><td style=\"text-align: right;\"> 0.00866765</td><td style=\"text-align: right;\">-0.0727323</td><td style=\"text-align: right;\">-0.0710892</td><td style=\"text-align: right;\">-0.0512251 </td><td style=\"text-align: right;\"> 0.019202  </td><td style=\"text-align: right;\"> 0.0314333</td><td style=\"text-align: right;\">-0.0691248</td><td style=\"text-align: right;\">-0.00219263</td><td style=\"text-align: right;\">-0.0249029 </td><td style=\"text-align: right;\"> 0.0592122 </td><td style=\"text-align: right;\"> 0.0643075 </td><td style=\"text-align: right;\"> 0.00422725</td><td style=\"text-align: right;\">-0.0601491</td><td style=\"text-align: right;\">-0.0109027 </td><td style=\"text-align: right;\">-0.0814247</td><td style=\"text-align: right;\">-0.0198078 </td><td style=\"text-align: right;\"> 0.0695417 </td><td style=\"text-align: right;\"> 0.185053  </td><td style=\"text-align: right;\"> 0.0812668</td><td style=\"text-align: right;\"> 0.0869077</td><td style=\"text-align: right;\"> 0.103139 </td><td style=\"text-align: right;\">0.117371 </td><td style=\"text-align: right;\"> 0.034453 </td><td style=\"text-align: right;\">-0.00503518</td><td style=\"text-align: right;\">-0.073695 </td><td style=\"text-align: right;\">0.169039 </td><td style=\"text-align: right;\"> 0.0655781</td><td style=\"text-align: right;\"> 0.0932825 </td><td style=\"text-align: right;\"> 0.0677726 </td><td style=\"text-align: right;\">-0.0761223  </td><td style=\"text-align: right;\">-0.112174  </td><td style=\"text-align: right;\"> 0.139244 </td><td style=\"text-align: right;\"> 0.13903   </td><td style=\"text-align: right;\">-0.051434 </td><td style=\"text-align: right;\">-0.134817 </td><td style=\"text-align: right;\"> 0.0399933 </td><td style=\"text-align: right;\">-0.00382068</td><td style=\"text-align: right;\">-0.0478265 </td><td style=\"text-align: right;\"> 0.0612893</td><td style=\"text-align: right;\"> 0.0366099 </td><td style=\"text-align: right;\">0.030103 </td><td style=\"text-align: right;\">0.098909 </td><td style=\"text-align: right;\">-0.000424952</td><td style=\"text-align: right;\">0.149605 </td><td style=\"text-align: right;\">-0.0548056 </td><td style=\"text-align: right;\">-0.00474046</td><td style=\"text-align: right;\">-0.0435351</td><td style=\"text-align: right;\">-0.0213342</td><td style=\"text-align: right;\"> 0.0108368 </td><td style=\"text-align: right;\">-0.0135138</td><td style=\"text-align: right;\">0.117553 </td><td style=\"text-align: right;\">-0.0810209</td><td style=\"text-align: right;\">-0.0528249</td><td style=\"text-align: right;\"> 0.0403359 </td><td style=\"text-align: right;\">-0.144317  </td><td style=\"text-align: right;\">-0.0243512 </td><td style=\"text-align: right;\">0.0805858</td><td style=\"text-align: right;\"> 0.0110799 </td><td style=\"text-align: right;\">-0.0878333</td><td style=\"text-align: right;\"> 0.033339  </td><td style=\"text-align: right;\"> 0.0298002</td><td style=\"text-align: right;\">-0.000784991</td><td style=\"text-align: right;\">0.0249155 </td><td style=\"text-align: right;\"> 0.035001 </td><td style=\"text-align: right;\"> 0.00451397</td><td style=\"text-align: right;\">-0.00361247</td><td style=\"text-align: right;\"> 0.0507744</td><td style=\"text-align: right;\">-0.00191358</td><td style=\"text-align: right;\">-0.0752246</td><td style=\"text-align: right;\">-0.12269  </td><td style=\"text-align: right;\"> 0.0974961</td><td style=\"text-align: right;\">-0.0456969  </td><td style=\"text-align: right;\">-0.0252057 </td><td style=\"text-align: right;\">-0.015074 </td><td style=\"text-align: right;\">-0.0246604 </td><td style=\"text-align: right;\">-0.0148366 </td><td style=\"text-align: right;\">-0.0199504 </td><td style=\"text-align: right;\">-0.000654786</td><td style=\"text-align: right;\">-0.0169685</td><td style=\"text-align: right;\"> 0.0104887</td><td style=\"text-align: right;\">-0.0365228 </td><td style=\"text-align: right;\">-0.00914279</td><td style=\"text-align: right;\"> 0.0992494</td><td style=\"text-align: right;\"> 0.0297238 </td><td style=\"text-align: right;\"> 0.0116173  </td><td style=\"text-align: right;\">-0.0265645 </td><td style=\"text-align: right;\"> 0.0651563</td><td style=\"text-align: right;\">-0.0470649</td><td style=\"text-align: right;\"> 0.0951582</td><td style=\"text-align: right;\"> 0.102221 </td><td style=\"text-align: right;\">-0.0350596</td><td style=\"text-align: right;\">-0.0469344 </td><td style=\"text-align: right;\">-0.0464857 </td><td style=\"text-align: right;\">-0.000599429</td><td style=\"text-align: right;\">       0</td></tr>\n",
              "</tbody>\n",
              "</table>"
            ]
          },
          "metadata": {
            "tags": []
          }
        },
        {
          "output_type": "execute_result",
          "data": {
            "text/plain": [
              ""
            ]
          },
          "metadata": {
            "tags": []
          },
          "execution_count": 238
        }
      ]
    },
    {
      "cell_type": "code",
      "metadata": {
        "id": "DckG-0on7Q8I",
        "outputId": "61056870-7977-4892-ece6-92c4ffbfc604",
        "colab": {
          "base_uri": "https://localhost:8080/",
          "height": 187
        }
      },
      "source": [
        "df_spam = test[test['target'] == '1']\n",
        "df_spam.head(2)"
      ],
      "execution_count": 261,
      "outputs": [
        {
          "output_type": "display_data",
          "data": {
            "text/html": [
              "<table>\n",
              "<thead>\n",
              "<tr><th style=\"text-align: right;\">  target</th><th>text_lemmatized                                                                                                                        </th><th style=\"text-align: right;\">         C1</th><th style=\"text-align: right;\">        C2</th><th style=\"text-align: right;\">      C3</th><th style=\"text-align: right;\">         C4</th><th style=\"text-align: right;\">        C5</th><th style=\"text-align: right;\">        C6</th><th style=\"text-align: right;\">        C7</th><th style=\"text-align: right;\">        C8</th><th style=\"text-align: right;\">       C9</th><th style=\"text-align: right;\">       C10</th><th style=\"text-align: right;\">       C11</th><th style=\"text-align: right;\">      C12</th><th style=\"text-align: right;\">       C13</th><th style=\"text-align: right;\">       C14</th><th style=\"text-align: right;\">       C15</th><th style=\"text-align: right;\">       C16</th><th style=\"text-align: right;\">       C17</th><th style=\"text-align: right;\">      C18</th><th style=\"text-align: right;\">      C19</th><th style=\"text-align: right;\">      C20</th><th style=\"text-align: right;\">      C21</th><th style=\"text-align: right;\">        C22</th><th style=\"text-align: right;\">      C23</th><th style=\"text-align: right;\">        C24</th><th style=\"text-align: right;\">      C25</th><th style=\"text-align: right;\">      C26</th><th style=\"text-align: right;\">      C27</th><th style=\"text-align: right;\">     C28</th><th style=\"text-align: right;\">       C29</th><th style=\"text-align: right;\">       C30</th><th style=\"text-align: right;\">      C31</th><th style=\"text-align: right;\">     C32</th><th style=\"text-align: right;\">       C33</th><th style=\"text-align: right;\">        C34</th><th style=\"text-align: right;\">        C35</th><th style=\"text-align: right;\">         C36</th><th style=\"text-align: right;\">      C37</th><th style=\"text-align: right;\">      C38</th><th style=\"text-align: right;\">       C39</th><th style=\"text-align: right;\">       C40</th><th style=\"text-align: right;\">      C41</th><th style=\"text-align: right;\">      C42</th><th style=\"text-align: right;\">       C43</th><th style=\"text-align: right;\">      C44</th><th style=\"text-align: right;\">     C45</th><th style=\"text-align: right;\">     C46</th><th style=\"text-align: right;\">     C47</th><th style=\"text-align: right;\">     C48</th><th style=\"text-align: right;\">       C49</th><th style=\"text-align: right;\">      C50</th><th style=\"text-align: right;\">      C51</th><th style=\"text-align: right;\">       C52</th><th style=\"text-align: right;\">       C53</th><th style=\"text-align: right;\">       C54</th><th style=\"text-align: right;\">        C55</th><th style=\"text-align: right;\">     C56</th><th style=\"text-align: right;\">     C57</th><th style=\"text-align: right;\">       C58</th><th style=\"text-align: right;\">     C59</th><th style=\"text-align: right;\">       C60</th><th style=\"text-align: right;\">        C61</th><th style=\"text-align: right;\">     C62</th><th style=\"text-align: right;\">      C63</th><th style=\"text-align: right;\">      C64</th><th style=\"text-align: right;\">      C65</th><th style=\"text-align: right;\">       C66</th><th style=\"text-align: right;\">       C67</th><th style=\"text-align: right;\">     C68</th><th style=\"text-align: right;\">      C69</th><th style=\"text-align: right;\">     C70</th><th style=\"text-align: right;\">       C71</th><th style=\"text-align: right;\">       C72</th><th style=\"text-align: right;\">      C73</th><th style=\"text-align: right;\">       C74</th><th style=\"text-align: right;\">      C75</th><th style=\"text-align: right;\">      C76</th><th style=\"text-align: right;\">       C77</th><th style=\"text-align: right;\">        C78</th><th style=\"text-align: right;\">       C79</th><th style=\"text-align: right;\">      C80</th><th style=\"text-align: right;\">        C81</th><th style=\"text-align: right;\">     C82</th><th style=\"text-align: right;\">        C83</th><th style=\"text-align: right;\">      C84</th><th style=\"text-align: right;\">       C85</th><th style=\"text-align: right;\">       C86</th><th style=\"text-align: right;\">      C87</th><th style=\"text-align: right;\">     C88</th><th style=\"text-align: right;\">      C89</th><th style=\"text-align: right;\">       C90</th><th style=\"text-align: right;\">      C91</th><th style=\"text-align: right;\">      C92</th><th style=\"text-align: right;\">     C93</th><th style=\"text-align: right;\">       C94</th><th style=\"text-align: right;\">      C95</th><th style=\"text-align: right;\">       C96</th><th style=\"text-align: right;\">       C97</th><th style=\"text-align: right;\">      C98</th><th style=\"text-align: right;\">      C99</th><th style=\"text-align: right;\">      C100</th><th style=\"text-align: right;\">  labels</th></tr>\n",
              "</thead>\n",
              "<tbody>\n",
              "<tr><td style=\"text-align: right;\">       1</td><td>free entry 2 wkly comp win fa cup final tkts 21st may 2005 text fa 87121 receive entry questionstd txt ratetcs apply 08452810075over18s</td><td style=\"text-align: right;\">-0.00762828</td><td style=\"text-align: right;\"> 0.0230864</td><td style=\"text-align: right;\">-0.30226</td><td style=\"text-align: right;\"> 0.0967428 </td><td style=\"text-align: right;\"> 0.010408 </td><td style=\"text-align: right;\">-0.0499013</td><td style=\"text-align: right;\"> 0.0687067</td><td style=\"text-align: right;\">-0.212729 </td><td style=\"text-align: right;\">-0.144626</td><td style=\"text-align: right;\">-0.0554523</td><td style=\"text-align: right;\">0.050942  </td><td style=\"text-align: right;\">-0.24237 </td><td style=\"text-align: right;\"> 0.0975319</td><td style=\"text-align: right;\">-0.0687599</td><td style=\"text-align: right;\">-0.0419152</td><td style=\"text-align: right;\">-0.124189 </td><td style=\"text-align: right;\">-0.293581 </td><td style=\"text-align: right;\">0.216416 </td><td style=\"text-align: right;\">0.0742509</td><td style=\"text-align: right;\">0.108855 </td><td style=\"text-align: right;\">-0.172451</td><td style=\"text-align: right;\">-0.00661499</td><td style=\"text-align: right;\">0.0333667</td><td style=\"text-align: right;\">-0.0621721 </td><td style=\"text-align: right;\">0.084391 </td><td style=\"text-align: right;\">0.0337786</td><td style=\"text-align: right;\">-0.165926</td><td style=\"text-align: right;\">0.215333</td><td style=\"text-align: right;\">-0.0792341</td><td style=\"text-align: right;\">-0.107513 </td><td style=\"text-align: right;\">0.111454 </td><td style=\"text-align: right;\">0.178093</td><td style=\"text-align: right;\">-0.0160881</td><td style=\"text-align: right;\">-0.270295  </td><td style=\"text-align: right;\">-0.0685811 </td><td style=\"text-align: right;\"> 0.000659249</td><td style=\"text-align: right;\">0.11958  </td><td style=\"text-align: right;\">0.213109 </td><td style=\"text-align: right;\">-0.0674671</td><td style=\"text-align: right;\">-0.108383 </td><td style=\"text-align: right;\">-0.190756</td><td style=\"text-align: right;\">-0.141597</td><td style=\"text-align: right;\">-0.216895 </td><td style=\"text-align: right;\">0.212283 </td><td style=\"text-align: right;\">0.358174</td><td style=\"text-align: right;\">0.135564</td><td style=\"text-align: right;\">0.16448 </td><td style=\"text-align: right;\">0.152021</td><td style=\"text-align: right;\">-0.0595424</td><td style=\"text-align: right;\">0.10433  </td><td style=\"text-align: right;\">-0.219421</td><td style=\"text-align: right;\">-0.138108 </td><td style=\"text-align: right;\">-0.19909  </td><td style=\"text-align: right;\"> 0.0397189</td><td style=\"text-align: right;\"> 0.00395114</td><td style=\"text-align: right;\">0.109897</td><td style=\"text-align: right;\">0.354996</td><td style=\"text-align: right;\">-0.0899712</td><td style=\"text-align: right;\">0.218633</td><td style=\"text-align: right;\"> 0.10469  </td><td style=\"text-align: right;\"> 0.146584  </td><td style=\"text-align: right;\">0.094411</td><td style=\"text-align: right;\">0.202303 </td><td style=\"text-align: right;\">0.0481459</td><td style=\"text-align: right;\">0.327986 </td><td style=\"text-align: right;\">-0.200289 </td><td style=\"text-align: right;\">-0.272546 </td><td style=\"text-align: right;\">0.227837</td><td style=\"text-align: right;\">0.182889 </td><td style=\"text-align: right;\">0.292427</td><td style=\"text-align: right;\">-0.0225554</td><td style=\"text-align: right;\">-0.0566371</td><td style=\"text-align: right;\">-0.283836</td><td style=\"text-align: right;\">-0.015552 </td><td style=\"text-align: right;\">0.0937515</td><td style=\"text-align: right;\">-0.10822 </td><td style=\"text-align: right;\">-0.0520969</td><td style=\"text-align: right;\"> 0.00986991</td><td style=\"text-align: right;\">-0.0441816</td><td style=\"text-align: right;\">0.0419072</td><td style=\"text-align: right;\">-0.0749701 </td><td style=\"text-align: right;\">0.12206 </td><td style=\"text-align: right;\">-0.00110314</td><td style=\"text-align: right;\">-0.242071</td><td style=\"text-align: right;\">-0.0264855</td><td style=\"text-align: right;\">-0.0208607</td><td style=\"text-align: right;\">0.169471 </td><td style=\"text-align: right;\">0.167122</td><td style=\"text-align: right;\">0.0438612</td><td style=\"text-align: right;\"> 0.022828 </td><td style=\"text-align: right;\">0.0179388</td><td style=\"text-align: right;\">-0.24981 </td><td style=\"text-align: right;\">0.160619</td><td style=\"text-align: right;\">-0.0247788</td><td style=\"text-align: right;\">-0.120752</td><td style=\"text-align: right;\">-0.0785427</td><td style=\"text-align: right;\"> 0.0214808</td><td style=\"text-align: right;\">-0.178736</td><td style=\"text-align: right;\">0.0166734</td><td style=\"text-align: right;\">-0.175072 </td><td style=\"text-align: right;\">       0</td></tr>\n",
              "<tr><td style=\"text-align: right;\">       1</td><td>xxxmobilemovieclub credit click wap link next txt message click httpwap xxxmobilemovieclubcomnqjkgighjjgcbl                            </td><td style=\"text-align: right;\"> 0.0504685 </td><td style=\"text-align: right;\">-0.0767218</td><td style=\"text-align: right;\">-0.1014 </td><td style=\"text-align: right;\">-0.00932921</td><td style=\"text-align: right;\">-0.0244213</td><td style=\"text-align: right;\">-0.0366194</td><td style=\"text-align: right;\">-0.0453492</td><td style=\"text-align: right;\">-0.0898414</td><td style=\"text-align: right;\">-0.023268</td><td style=\"text-align: right;\">-0.0176174</td><td style=\"text-align: right;\">0.00203111</td><td style=\"text-align: right;\">-0.153719</td><td style=\"text-align: right;\">-0.0622693</td><td style=\"text-align: right;\"> 0.0226741</td><td style=\"text-align: right;\"> 0.0226549</td><td style=\"text-align: right;\"> 0.0375308</td><td style=\"text-align: right;\">-0.0267068</td><td style=\"text-align: right;\">0.0973629</td><td style=\"text-align: right;\">0.0476446</td><td style=\"text-align: right;\">0.0154143</td><td style=\"text-align: right;\">-0.198425</td><td style=\"text-align: right;\"> 0.0389017 </td><td style=\"text-align: right;\">0.095413 </td><td style=\"text-align: right;\">-0.00506536</td><td style=\"text-align: right;\">0.0734917</td><td style=\"text-align: right;\">0.0101049</td><td style=\"text-align: right;\">-0.141826</td><td style=\"text-align: right;\">0.190977</td><td style=\"text-align: right;\"> 0.0219755</td><td style=\"text-align: right;\">-0.0608937</td><td style=\"text-align: right;\">0.0557656</td><td style=\"text-align: right;\">0.206317</td><td style=\"text-align: right;\"> 0.0828681</td><td style=\"text-align: right;\">-0.00304653</td><td style=\"text-align: right;\"> 0.00270656</td><td style=\"text-align: right;\">-0.0818578  </td><td style=\"text-align: right;\">0.0105722</td><td style=\"text-align: right;\">0.0218713</td><td style=\"text-align: right;\"> 0.0754261</td><td style=\"text-align: right;\">-0.0842325</td><td style=\"text-align: right;\">-0.187374</td><td style=\"text-align: right;\">-0.108939</td><td style=\"text-align: right;\">-0.0824885</td><td style=\"text-align: right;\">0.0245219</td><td style=\"text-align: right;\">0.193693</td><td style=\"text-align: right;\">0.14979 </td><td style=\"text-align: right;\">0.106908</td><td style=\"text-align: right;\">0.142587</td><td style=\"text-align: right;\">-0.0738238</td><td style=\"text-align: right;\">0.0188633</td><td style=\"text-align: right;\">-0.134799</td><td style=\"text-align: right;\">-0.0676151</td><td style=\"text-align: right;\">-0.0889225</td><td style=\"text-align: right;\">-0.0246269</td><td style=\"text-align: right;\">-0.0526784 </td><td style=\"text-align: right;\">0.143367</td><td style=\"text-align: right;\">0.220849</td><td style=\"text-align: right;\">-0.145739 </td><td style=\"text-align: right;\">0.127423</td><td style=\"text-align: right;\">-0.0346809</td><td style=\"text-align: right;\">-0.00828111</td><td style=\"text-align: right;\">0.138415</td><td style=\"text-align: right;\">0.0874198</td><td style=\"text-align: right;\">0.0283978</td><td style=\"text-align: right;\">0.0326437</td><td style=\"text-align: right;\">-0.0734673</td><td style=\"text-align: right;\">-0.0757683</td><td style=\"text-align: right;\">0.113709</td><td style=\"text-align: right;\">0.0302597</td><td style=\"text-align: right;\">0.133669</td><td style=\"text-align: right;\"> 0.0211117</td><td style=\"text-align: right;\">-0.0326113</td><td style=\"text-align: right;\">-0.1448  </td><td style=\"text-align: right;\">-0.0204597</td><td style=\"text-align: right;\">0.0644786</td><td style=\"text-align: right;\">-0.120153</td><td style=\"text-align: right;\"> 0.0730365</td><td style=\"text-align: right;\">-0.0355877 </td><td style=\"text-align: right;\">-0.0455193</td><td style=\"text-align: right;\">0.0154511</td><td style=\"text-align: right;\">-0.00745712</td><td style=\"text-align: right;\">0.144989</td><td style=\"text-align: right;\">-0.00562323</td><td style=\"text-align: right;\">-0.112614</td><td style=\"text-align: right;\">-0.0378304</td><td style=\"text-align: right;\">-0.0819826</td><td style=\"text-align: right;\">0.0552272</td><td style=\"text-align: right;\">0.148646</td><td style=\"text-align: right;\">0.0391193</td><td style=\"text-align: right;\">-0.0261538</td><td style=\"text-align: right;\">0.0266534</td><td style=\"text-align: right;\">-0.169243</td><td style=\"text-align: right;\">0.092008</td><td style=\"text-align: right;\">-0.0260762</td><td style=\"text-align: right;\"> 0.016149</td><td style=\"text-align: right;\"> 0.0749647</td><td style=\"text-align: right;\">-0.0349115</td><td style=\"text-align: right;\">-0.186963</td><td style=\"text-align: right;\">0.02299  </td><td style=\"text-align: right;\">-0.0236113</td><td style=\"text-align: right;\">       0</td></tr>\n",
              "</tbody>\n",
              "</table>"
            ]
          },
          "metadata": {
            "tags": []
          }
        },
        {
          "output_type": "execute_result",
          "data": {
            "text/plain": [
              ""
            ]
          },
          "metadata": {
            "tags": []
          },
          "execution_count": 261
        }
      ]
    },
    {
      "cell_type": "code",
      "metadata": {
        "id": "szgHZoKx8uw1",
        "outputId": "f955cacb-a270-4af5-be99-d5a1f2f6aaca",
        "colab": {
          "base_uri": "https://localhost:8080/"
        }
      },
      "source": [
        "true_spam = df_spam[df_spam['labels'] == 1]\n",
        "true_spam"
      ],
      "execution_count": 263,
      "outputs": [
        {
          "output_type": "stream",
          "text": [
            "This H2OFrame is empty.\n"
          ],
          "name": "stdout"
        },
        {
          "output_type": "execute_result",
          "data": {
            "text/plain": [
              ""
            ]
          },
          "metadata": {
            "tags": []
          },
          "execution_count": 263
        }
      ]
    },
    {
      "cell_type": "markdown",
      "metadata": {
        "id": "jGBNrXPSNsIZ"
      },
      "source": [
        "Т.е. фактически алгоритм К-средних не нашёл ниодного спама, что вполне себе плохо"
      ]
    },
    {
      "cell_type": "code",
      "metadata": {
        "id": "W605m8jrJKsJ"
      },
      "source": [
        "df_ham = test[test['target']=='0']"
      ],
      "execution_count": 264,
      "outputs": []
    },
    {
      "cell_type": "code",
      "metadata": {
        "id": "pYl8XDFbMvrW",
        "outputId": "b6f98e18-bbb3-4f3a-8e31-0e3a8a7a7af3",
        "colab": {
          "base_uri": "https://localhost:8080/"
        }
      },
      "source": [
        "true_ham = df_ham[df_ham['labels'] == 0]\n",
        "true_ham.dim"
      ],
      "execution_count": 267,
      "outputs": [
        {
          "output_type": "execute_result",
          "data": {
            "text/plain": [
              "[566, 103]"
            ]
          },
          "metadata": {
            "tags": []
          },
          "execution_count": 267
        }
      ]
    },
    {
      "cell_type": "code",
      "metadata": {
        "id": "pMw67hmyxKzL"
      },
      "source": [
        "#' Add  Column: \"prediction\"\n",
        "for target in test['target'].values:\n",
        "  if target == '0':\n",
        "    for label in test['labels'].va"
      ],
      "execution_count": 145,
      "outputs": []
    },
    {
      "cell_type": "code",
      "metadata": {
        "id": "CyA1xTKWxKwe",
        "outputId": "d1ed8e31-ca54-4ded-ec7a-a4c335952126",
        "colab": {
          "base_uri": "https://localhost:8080/",
          "height": 82
        }
      },
      "source": [
        "#test[\"prediction_2\"].table()"
      ],
      "execution_count": 146,
      "outputs": [
        {
          "output_type": "display_data",
          "data": {
            "text/html": [
              "<table>\n",
              "<thead>\n",
              "<tr><th>prediction_2  </th><th style=\"text-align: right;\">  Count</th></tr>\n",
              "</thead>\n",
              "<tbody>\n",
              "<tr><td>False         </td><td style=\"text-align: right;\">    146</td></tr>\n",
              "<tr><td>True          </td><td style=\"text-align: right;\">    959</td></tr>\n",
              "</tbody>\n",
              "</table>"
            ]
          },
          "metadata": {
            "tags": []
          }
        },
        {
          "output_type": "execute_result",
          "data": {
            "text/plain": [
              ""
            ]
          },
          "metadata": {
            "tags": []
          },
          "execution_count": 146
        }
      ]
    },
    {
      "cell_type": "code",
      "metadata": {
        "id": "c9vNP8BE0_CE"
      },
      "source": [
        ""
      ],
      "execution_count": 139,
      "outputs": []
    },
    {
      "cell_type": "code",
      "metadata": {
        "id": "xJf9GIzLz_Aq",
        "outputId": "246844b9-f3f4-48cf-fb34-754dba615d1a",
        "colab": {
          "base_uri": "https://localhost:8080/"
        }
      },
      "source": [
        "#m = 146 / 959 * 100\n",
        "#print('Вероятность ошибки второго рода при проведении кластеризации составила: ' + str(m)+'%')"
      ],
      "execution_count": 140,
      "outputs": [
        {
          "output_type": "stream",
          "text": [
            "Вероятность ошибки второго рода при проведении кластеризации составила: 15.224191866527633%\n"
          ],
          "name": "stdout"
        }
      ]
    },
    {
      "cell_type": "code",
      "metadata": {
        "id": "5oGDwTo70HPZ"
      },
      "source": [
        "#test[\"prediction_1\"] = (test[\"labels\"] == 0 and test['target']\\\n",
        " #                     == '1').ifelse(\"F\", \"T\")"
      ],
      "execution_count": 143,
      "outputs": []
    },
    {
      "cell_type": "code",
      "metadata": {
        "id": "-QYUdqhj1ACs",
        "outputId": "4d5e225a-f741-4587-fee0-361c2df5d29d",
        "colab": {
          "base_uri": "https://localhost:8080/",
          "height": 82
        }
      },
      "source": [
        "#test[\"prediction_1\"].table()"
      ],
      "execution_count": 144,
      "outputs": [
        {
          "output_type": "display_data",
          "data": {
            "text/html": [
              "<table>\n",
              "<thead>\n",
              "<tr><th>prediction_1  </th><th style=\"text-align: right;\">  Count</th></tr>\n",
              "</thead>\n",
              "<tbody>\n",
              "<tr><td>T             </td><td style=\"text-align: right;\">    959</td></tr>\n",
              "<tr><td>F             </td><td style=\"text-align: right;\">    146</td></tr>\n",
              "</tbody>\n",
              "</table>"
            ]
          },
          "metadata": {
            "tags": []
          }
        },
        {
          "output_type": "execute_result",
          "data": {
            "text/plain": [
              ""
            ]
          },
          "metadata": {
            "tags": []
          },
          "execution_count": 144
        }
      ]
    },
    {
      "cell_type": "code",
      "metadata": {
        "id": "5PsienuGlA1t",
        "outputId": "e42fbeb4-0e26-4380-e2b5-a4630e347135",
        "colab": {
          "base_uri": "https://localhost:8080/"
        }
      },
      "source": [
        "from h2o.automl import H2OAutoML\n",
        "\n",
        "automl = H2OAutoML(project_name = 'text_lemmatized', max_runtime_secs = 180, \n",
        "                   keep_cross_validation_models = False, keep_cross_validation_predictions = False,\n",
        "                   nfolds = 3, exclude_algos = [\"DRF\"], seed = 1234)\n",
        "automl.train(x = predictors, y = response, training_frame = train, leaderboard_frame = test)"
      ],
      "execution_count": null,
      "outputs": [
        {
          "output_type": "stream",
          "text": [
            "AutoML progress: |████████████████████████████████████████████████████████| 100%\n"
          ],
          "name": "stdout"
        }
      ]
    },
    {
      "cell_type": "code",
      "metadata": {
        "id": "scQc-8BrlAxr",
        "outputId": "798a87e0-306a-40af-9a7c-e0c53c88ec33",
        "colab": {
          "base_uri": "https://localhost:8080/",
          "height": 250
        }
      },
      "source": [
        "automl.leaderboard"
      ],
      "execution_count": null,
      "outputs": [
        {
          "output_type": "display_data",
          "data": {
            "text/html": [
              "<table>\n",
              "<thead>\n",
              "<tr><th>model_id                                           </th><th style=\"text-align: right;\">     auc</th><th style=\"text-align: right;\">  logloss</th><th style=\"text-align: right;\">   aucpr</th><th style=\"text-align: right;\">  mean_per_class_error</th><th style=\"text-align: right;\">    rmse</th><th style=\"text-align: right;\">      mse</th></tr>\n",
              "</thead>\n",
              "<tbody>\n",
              "<tr><td>StackedEnsemble_BestOfFamily_AutoML_20201114_115004</td><td style=\"text-align: right;\">0.991924</td><td style=\"text-align: right;\">0.0780316</td><td style=\"text-align: right;\">0.949686</td><td style=\"text-align: right;\">             0.0527374</td><td style=\"text-align: right;\">0.138883</td><td style=\"text-align: right;\">0.0192884</td></tr>\n",
              "<tr><td>StackedEnsemble_AllModels_AutoML_20201114_115004   </td><td style=\"text-align: right;\">0.99131 </td><td style=\"text-align: right;\">0.0816326</td><td style=\"text-align: right;\">0.951083</td><td style=\"text-align: right;\">             0.0572419</td><td style=\"text-align: right;\">0.1436  </td><td style=\"text-align: right;\">0.0206211</td></tr>\n",
              "<tr><td>XGBoost_grid__1_AutoML_20201114_115004_model_3     </td><td style=\"text-align: right;\">0.990409</td><td style=\"text-align: right;\">0.0702217</td><td style=\"text-align: right;\">0.952388</td><td style=\"text-align: right;\">             0.0557034</td><td style=\"text-align: right;\">0.138428</td><td style=\"text-align: right;\">0.0191624</td></tr>\n",
              "<tr><td>XGBoost_grid__1_AutoML_20201114_115004_model_5     </td><td style=\"text-align: right;\">0.989619</td><td style=\"text-align: right;\">0.078351 </td><td style=\"text-align: right;\">0.937056</td><td style=\"text-align: right;\">             0.0677893</td><td style=\"text-align: right;\">0.149222</td><td style=\"text-align: right;\">0.0222673</td></tr>\n",
              "<tr><td>XGBoost_grid__1_AutoML_20201114_115004_model_4     </td><td style=\"text-align: right;\">0.989152</td><td style=\"text-align: right;\">0.0855027</td><td style=\"text-align: right;\">0.946445</td><td style=\"text-align: right;\">             0.0372834</td><td style=\"text-align: right;\">0.148931</td><td style=\"text-align: right;\">0.0221805</td></tr>\n",
              "<tr><td>DeepLearning_1_AutoML_20201114_115004              </td><td style=\"text-align: right;\">0.98802 </td><td style=\"text-align: right;\">0.0858935</td><td style=\"text-align: right;\">0.913407</td><td style=\"text-align: right;\">             0.0458905</td><td style=\"text-align: right;\">0.156787</td><td style=\"text-align: right;\">0.0245821</td></tr>\n",
              "<tr><td>GBM_2_AutoML_20201114_115004                       </td><td style=\"text-align: right;\">0.98784 </td><td style=\"text-align: right;\">0.142026 </td><td style=\"text-align: right;\">0.936839</td><td style=\"text-align: right;\">             0.059806 </td><td style=\"text-align: right;\">0.176957</td><td style=\"text-align: right;\">0.0313138</td></tr>\n",
              "<tr><td>XGBoost_grid__1_AutoML_20201114_115004_model_2     </td><td style=\"text-align: right;\">0.987568</td><td style=\"text-align: right;\">0.0854513</td><td style=\"text-align: right;\">0.918583</td><td style=\"text-align: right;\">             0.0882606</td><td style=\"text-align: right;\">0.154077</td><td style=\"text-align: right;\">0.0237397</td></tr>\n",
              "<tr><td>XGBoost_grid__1_AutoML_20201114_115004_model_1     </td><td style=\"text-align: right;\">0.987156</td><td style=\"text-align: right;\">0.082085 </td><td style=\"text-align: right;\">0.929476</td><td style=\"text-align: right;\">             0.071781 </td><td style=\"text-align: right;\">0.153567</td><td style=\"text-align: right;\">0.0235829</td></tr>\n",
              "<tr><td>GBM_grid__1_AutoML_20201114_115004_model_2         </td><td style=\"text-align: right;\">0.986713</td><td style=\"text-align: right;\">0.0800844</td><td style=\"text-align: right;\">0.938841</td><td style=\"text-align: right;\">             0.0747471</td><td style=\"text-align: right;\">0.149168</td><td style=\"text-align: right;\">0.0222512</td></tr>\n",
              "</tbody>\n",
              "</table>"
            ]
          },
          "metadata": {
            "tags": []
          }
        },
        {
          "output_type": "execute_result",
          "data": {
            "text/plain": [
              ""
            ]
          },
          "metadata": {
            "tags": []
          },
          "execution_count": 140
        }
      ]
    },
    {
      "cell_type": "code",
      "metadata": {
        "id": "oKd_MUH5lAus",
        "outputId": "a70213d4-1163-4892-81c5-570691967b34",
        "colab": {
          "base_uri": "https://localhost:8080/"
        }
      },
      "source": [
        "h2o.cluster().shutdown()"
      ],
      "execution_count": null,
      "outputs": [
        {
          "output_type": "stream",
          "text": [
            "H2O session _sid_b057 closed.\n"
          ],
          "name": "stdout"
        }
      ]
    },
    {
      "cell_type": "markdown",
      "metadata": {
        "id": "3xZ4qC1gTQk7"
      },
      "source": [
        "**Выводы**\n",
        "Проведены этапы подготовки данных. Опробованы методы очистки слов: лемматизация и стеммизация. Уже на начальных этапах, стало очевидно, что лемматизация более работоспособна. Т.к. при поверхностном осмотре при стемматизации появились слова типа \"crazi\", что очевидно не приемлимо, поэтому далее работа была только с лемматизированными словами. \n",
        "Слова конвертированы в векторы. Далее проведена кластеризация. При анализе качества оказалось, что не удалось найти ни одного сообщения \"спам\", что свидетельствует об слабой способности К-средних в данной задаче. \n",
        "Затем была модель была обучена алгоритмами ГБМ и ГЛЭ, где были получены впечатляющие результаты.\n",
        "Ну а вишенкой на торте стала возможность сделать \"всё разом\" при помощи алгоритма autoML, где auc у модели StackedEnsemble_BestOfFamily_AutoML составила 0,99. \n",
        "В целом задание выполнено в полном масштабе. Всё работает. Н2О не перестаёт радовать"
      ]
    },
    {
      "cell_type": "code",
      "metadata": {
        "id": "7Pv3OUxbVDT_"
      },
      "source": [
        ""
      ],
      "execution_count": null,
      "outputs": []
    }
  ]
}